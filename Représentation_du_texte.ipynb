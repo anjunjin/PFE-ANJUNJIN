{
  "nbformat": 4,
  "nbformat_minor": 0,
  "metadata": {
    "colab": {
      "name": "Représentation_du_texte.ipynb",
      "provenance": [],
      "collapsed_sections": [
        "DQSU3sOUZuxZ"
      ],
      "include_colab_link": true
    },
    "kernelspec": {
      "name": "python3",
      "display_name": "Python 3"
    },
    "language_info": {
      "name": "python"
    }
  },
  "cells": [
    {
      "cell_type": "markdown",
      "metadata": {
        "id": "view-in-github",
        "colab_type": "text"
      },
      "source": [
        "<a href=\"https://colab.research.google.com/github/anjunjin/PFE-ING3-IA/blob/master/Repr%C3%A9sentation_du_texte.ipynb\" target=\"_parent\"><img src=\"https://colab.research.google.com/assets/colab-badge.svg\" alt=\"Open In Colab\"/></a>"
      ]
    },
    {
      "cell_type": "markdown",
      "source": [
        "# Partie \"commune\""
      ],
      "metadata": {
        "id": "qSRj5WKua15x"
      }
    },
    {
      "cell_type": "code",
      "source": [
        "import numpy as np\n",
        "import math\n",
        "import matplotlib.pyplot as plt\n",
        "from scipy.sparse import csr_matrix, hstack"
      ],
      "metadata": {
        "id": "7X5yL93pZcHo"
      },
      "execution_count": 157,
      "outputs": []
    },
    {
      "cell_type": "code",
      "source": [
        "# import scattertext as st\n",
        "# import spacy\n",
        "# from spacy.tokenizer import Tokenizer\n",
        "# from spacy.lang.fr import French"
      ],
      "metadata": {
        "id": "a8tjEHLsCAxO"
      },
      "execution_count": 158,
      "outputs": []
    },
    {
      "cell_type": "code",
      "execution_count": 159,
      "metadata": {
        "colab": {
          "base_uri": "https://localhost:8080/"
        },
        "id": "hvnw14RdA8zf",
        "outputId": "4db38782-29f8-4e93-c3ca-a98a05bfcd33"
      },
      "outputs": [
        {
          "output_type": "stream",
          "name": "stdout",
          "text": [
            "Drive already mounted at /content/drive; to attempt to forcibly remount, call drive.mount(\"/content/drive\", force_remount=True).\n"
          ]
        },
        {
          "output_type": "stream",
          "name": "stderr",
          "text": [
            "/usr/local/lib/python3.7/dist-packages/IPython/core/interactiveshell.py:2882: DtypeWarning: Columns (0,1) have mixed types.Specify dtype option on import or set low_memory=False.\n",
            "  exec(code_obj, self.user_global_ns, self.user_ns)\n"
          ]
        }
      ],
      "source": [
        "import pandas as pd\n",
        "from google.colab import drive\n",
        "\n",
        "drive.mount('/content/drive')\n",
        "DATA_PATH = \"/content/drive/My Drive/PFE/\"\n",
        "data = pd.read_csv(DATA_PATH+\"Tweets_nettoyés_210322.csv\", encoding='utf-8').drop(['Unnamed: 0'], axis=1)\n",
        "sentiments = pd.read_csv(DATA_PATH+\"sentiments.csv\", encoding='utf-8').drop(['Unnamed: 0'], axis=1)"
      ]
    },
    {
      "cell_type": "code",
      "source": [
        "def to_ints(text):\n",
        "  res = 1\n",
        "  if (text=='Positive'):\n",
        "    res = 2\n",
        "  elif (text=='negative'):\n",
        "    res = 0\n",
        "  \n",
        "  return res"
      ],
      "metadata": {
        "id": "3fZcTzyd-PUV"
      },
      "execution_count": 160,
      "outputs": []
    },
    {
      "cell_type": "code",
      "source": [
        "sentiments['sentiment'] = sentiments['sentiment'].apply(lambda x: to_ints(x))"
      ],
      "metadata": {
        "id": "GNdfEh63-Ex0"
      },
      "execution_count": 161,
      "outputs": []
    },
    {
      "cell_type": "code",
      "source": [
        "sentiments"
      ],
      "metadata": {
        "colab": {
          "base_uri": "https://localhost:8080/",
          "height": 505
        },
        "id": "U0SbsIYM_e5u",
        "outputId": "dceb7359-eb75-483b-ccf2-b58ef7d70219"
      },
      "execution_count": 162,
      "outputs": [
        {
          "output_type": "execute_result",
          "data": {
            "text/plain": [
              "        sentiment\n",
              "0               1\n",
              "1               1\n",
              "2               1\n",
              "3               1\n",
              "4               1\n",
              "...           ...\n",
              "721513          2\n",
              "721514          1\n",
              "721515          1\n",
              "721516          1\n",
              "721517          1\n",
              "\n",
              "[721518 rows x 1 columns]"
            ],
            "text/html": [
              "\n",
              "  <div id=\"df-75a77eef-8bc5-406a-80c0-b7156a61e07f\">\n",
              "    <div class=\"colab-df-container\">\n",
              "      <div>\n",
              "<style scoped>\n",
              "    .dataframe tbody tr th:only-of-type {\n",
              "        vertical-align: middle;\n",
              "    }\n",
              "\n",
              "    .dataframe tbody tr th {\n",
              "        vertical-align: top;\n",
              "    }\n",
              "\n",
              "    .dataframe thead th {\n",
              "        text-align: right;\n",
              "    }\n",
              "</style>\n",
              "<table border=\"1\" class=\"dataframe\">\n",
              "  <thead>\n",
              "    <tr style=\"text-align: right;\">\n",
              "      <th></th>\n",
              "      <th>sentiment</th>\n",
              "    </tr>\n",
              "  </thead>\n",
              "  <tbody>\n",
              "    <tr>\n",
              "      <th>0</th>\n",
              "      <td>1</td>\n",
              "    </tr>\n",
              "    <tr>\n",
              "      <th>1</th>\n",
              "      <td>1</td>\n",
              "    </tr>\n",
              "    <tr>\n",
              "      <th>2</th>\n",
              "      <td>1</td>\n",
              "    </tr>\n",
              "    <tr>\n",
              "      <th>3</th>\n",
              "      <td>1</td>\n",
              "    </tr>\n",
              "    <tr>\n",
              "      <th>4</th>\n",
              "      <td>1</td>\n",
              "    </tr>\n",
              "    <tr>\n",
              "      <th>...</th>\n",
              "      <td>...</td>\n",
              "    </tr>\n",
              "    <tr>\n",
              "      <th>721513</th>\n",
              "      <td>2</td>\n",
              "    </tr>\n",
              "    <tr>\n",
              "      <th>721514</th>\n",
              "      <td>1</td>\n",
              "    </tr>\n",
              "    <tr>\n",
              "      <th>721515</th>\n",
              "      <td>1</td>\n",
              "    </tr>\n",
              "    <tr>\n",
              "      <th>721516</th>\n",
              "      <td>1</td>\n",
              "    </tr>\n",
              "    <tr>\n",
              "      <th>721517</th>\n",
              "      <td>1</td>\n",
              "    </tr>\n",
              "  </tbody>\n",
              "</table>\n",
              "<p>721518 rows × 1 columns</p>\n",
              "</div>\n",
              "      <button class=\"colab-df-convert\" onclick=\"convertToInteractive('df-75a77eef-8bc5-406a-80c0-b7156a61e07f')\"\n",
              "              title=\"Convert this dataframe to an interactive table.\"\n",
              "              style=\"display:none;\">\n",
              "        \n",
              "  <svg xmlns=\"http://www.w3.org/2000/svg\" height=\"24px\"viewBox=\"0 0 24 24\"\n",
              "       width=\"24px\">\n",
              "    <path d=\"M0 0h24v24H0V0z\" fill=\"none\"/>\n",
              "    <path d=\"M18.56 5.44l.94 2.06.94-2.06 2.06-.94-2.06-.94-.94-2.06-.94 2.06-2.06.94zm-11 1L8.5 8.5l.94-2.06 2.06-.94-2.06-.94L8.5 2.5l-.94 2.06-2.06.94zm10 10l.94 2.06.94-2.06 2.06-.94-2.06-.94-.94-2.06-.94 2.06-2.06.94z\"/><path d=\"M17.41 7.96l-1.37-1.37c-.4-.4-.92-.59-1.43-.59-.52 0-1.04.2-1.43.59L10.3 9.45l-7.72 7.72c-.78.78-.78 2.05 0 2.83L4 21.41c.39.39.9.59 1.41.59.51 0 1.02-.2 1.41-.59l7.78-7.78 2.81-2.81c.8-.78.8-2.07 0-2.86zM5.41 20L4 18.59l7.72-7.72 1.47 1.35L5.41 20z\"/>\n",
              "  </svg>\n",
              "      </button>\n",
              "      \n",
              "  <style>\n",
              "    .colab-df-container {\n",
              "      display:flex;\n",
              "      flex-wrap:wrap;\n",
              "      gap: 12px;\n",
              "    }\n",
              "\n",
              "    .colab-df-convert {\n",
              "      background-color: #E8F0FE;\n",
              "      border: none;\n",
              "      border-radius: 50%;\n",
              "      cursor: pointer;\n",
              "      display: none;\n",
              "      fill: #1967D2;\n",
              "      height: 32px;\n",
              "      padding: 0 0 0 0;\n",
              "      width: 32px;\n",
              "    }\n",
              "\n",
              "    .colab-df-convert:hover {\n",
              "      background-color: #E2EBFA;\n",
              "      box-shadow: 0px 1px 2px rgba(60, 64, 67, 0.3), 0px 1px 3px 1px rgba(60, 64, 67, 0.15);\n",
              "      fill: #174EA6;\n",
              "    }\n",
              "\n",
              "    [theme=dark] .colab-df-convert {\n",
              "      background-color: #3B4455;\n",
              "      fill: #D2E3FC;\n",
              "    }\n",
              "\n",
              "    [theme=dark] .colab-df-convert:hover {\n",
              "      background-color: #434B5C;\n",
              "      box-shadow: 0px 1px 3px 1px rgba(0, 0, 0, 0.15);\n",
              "      filter: drop-shadow(0px 1px 2px rgba(0, 0, 0, 0.3));\n",
              "      fill: #FFFFFF;\n",
              "    }\n",
              "  </style>\n",
              "\n",
              "      <script>\n",
              "        const buttonEl =\n",
              "          document.querySelector('#df-75a77eef-8bc5-406a-80c0-b7156a61e07f button.colab-df-convert');\n",
              "        buttonEl.style.display =\n",
              "          google.colab.kernel.accessAllowed ? 'block' : 'none';\n",
              "\n",
              "        async function convertToInteractive(key) {\n",
              "          const element = document.querySelector('#df-75a77eef-8bc5-406a-80c0-b7156a61e07f');\n",
              "          const dataTable =\n",
              "            await google.colab.kernel.invokeFunction('convertToInteractive',\n",
              "                                                     [key], {});\n",
              "          if (!dataTable) return;\n",
              "\n",
              "          const docLinkHtml = 'Like what you see? Visit the ' +\n",
              "            '<a target=\"_blank\" href=https://colab.research.google.com/notebooks/data_table.ipynb>data table notebook</a>'\n",
              "            + ' to learn more about interactive tables.';\n",
              "          element.innerHTML = '';\n",
              "          dataTable['output_type'] = 'display_data';\n",
              "          await google.colab.output.renderOutput(dataTable, element);\n",
              "          const docLink = document.createElement('div');\n",
              "          docLink.innerHTML = docLinkHtml;\n",
              "          element.appendChild(docLink);\n",
              "        }\n",
              "      </script>\n",
              "    </div>\n",
              "  </div>\n",
              "  "
            ]
          },
          "metadata": {},
          "execution_count": 162
        }
      ]
    },
    {
      "cell_type": "markdown",
      "source": [
        "On peut décider de n'utiliser qu'une partie de nos tweets pour l'entrainement"
      ],
      "metadata": {
        "id": "HF_SXA4jU4sr"
      }
    },
    {
      "cell_type": "code",
      "source": [
        "# data = data.sample(n=20000, replace=False, random_state=42)"
      ],
      "metadata": {
        "id": "wduRNLt9CVZ9"
      },
      "execution_count": 163,
      "outputs": []
    },
    {
      "cell_type": "code",
      "source": [
        "data.shape"
      ],
      "metadata": {
        "colab": {
          "base_uri": "https://localhost:8080/"
        },
        "id": "EHEnStOH42O2",
        "outputId": "0a1a0130-d9e2-46fd-980f-e56263689dd1"
      },
      "execution_count": 164,
      "outputs": [
        {
          "output_type": "execute_result",
          "data": {
            "text/plain": [
              "(722280, 10)"
            ]
          },
          "metadata": {},
          "execution_count": 164
        }
      ]
    },
    {
      "cell_type": "markdown",
      "source": [
        "Il est possible qu'après le nettoyage des tweets certains colonnes soient vides (et donc inutilisables). On retire ces colonnes."
      ],
      "metadata": {
        "id": "E-tsYbJLU-RE"
      }
    },
    {
      "cell_type": "code",
      "source": [
        "# data.sort_values(by = 'cleaned').tail(100)"
      ],
      "metadata": {
        "id": "WabtM6-DV4tK"
      },
      "execution_count": 165,
      "outputs": []
    },
    {
      "cell_type": "code",
      "source": [
        "data = data.dropna()"
      ],
      "metadata": {
        "id": "YjHHKsap2_tf"
      },
      "execution_count": 166,
      "outputs": []
    },
    {
      "cell_type": "code",
      "source": [
        "# data.sort_values(by = 'cleaned').tail(100)"
      ],
      "metadata": {
        "id": "HE_4XBAG2_Iu"
      },
      "execution_count": 167,
      "outputs": []
    },
    {
      "cell_type": "code",
      "source": [
        "data.shape"
      ],
      "metadata": {
        "colab": {
          "base_uri": "https://localhost:8080/"
        },
        "id": "KR22T43X60j2",
        "outputId": "36564ffa-82d1-4cb6-a40f-462b89c6130a"
      },
      "execution_count": 168,
      "outputs": [
        {
          "output_type": "execute_result",
          "data": {
            "text/plain": [
              "(721518, 10)"
            ]
          },
          "metadata": {},
          "execution_count": 168
        }
      ]
    },
    {
      "cell_type": "markdown",
      "source": [
        "On transforme de la donnée selon les recherches dans AnalysteTweets.ipynb"
      ],
      "metadata": {
        "id": "PK6P2WXuHIg3"
      }
    },
    {
      "cell_type": "code",
      "source": [
        "list_percent_rt = []\n",
        "list_percent_fav = []\n",
        "length_data = data.shape[0]\n",
        "for index, row in data.iterrows():\n",
        "  if (index % int(length_data/20) == 0):\n",
        "    print(str(int(5*index / int(length_data/20)))+\"% / 100%\")\n",
        "  list_percent_rt.append(row['retweet_count']/row['count_followers'])\n",
        "  list_percent_fav.append(row['favorite_count']/row['count_followers'])\n",
        "data['rt_per_followers'] = list_percent_rt\n",
        "data['fav_per_followers'] = list_percent_fav"
      ],
      "metadata": {
        "id": "bewwbi7hHRb3",
        "colab": {
          "base_uri": "https://localhost:8080/"
        },
        "outputId": "51aec9ad-ab5f-4095-f6a2-e3487e6c29aa"
      },
      "execution_count": 169,
      "outputs": [
        {
          "output_type": "stream",
          "name": "stdout",
          "text": [
            "0% / 100%\n",
            "5% / 100%\n",
            "10% / 100%\n",
            "15% / 100%\n",
            "20% / 100%\n",
            "25% / 100%\n",
            "30% / 100%\n",
            "35% / 100%\n",
            "40% / 100%\n",
            "45% / 100%\n",
            "50% / 100%\n",
            "55% / 100%\n",
            "60% / 100%\n",
            "65% / 100%\n",
            "70% / 100%\n",
            "75% / 100%\n",
            "80% / 100%\n",
            "85% / 100%\n",
            "90% / 100%\n",
            "95% / 100%\n",
            "100% / 100%\n"
          ]
        }
      ]
    },
    {
      "cell_type": "code",
      "source": [
        "data.sample(n=100, replace=False, random_state=42)"
      ],
      "metadata": {
        "colab": {
          "base_uri": "https://localhost:8080/",
          "height": 1000
        },
        "id": "RUPDHvfxFcYV",
        "outputId": "4c23fb84-b7bc-46d6-a634-7326dc3ef65e"
      },
      "execution_count": 170,
      "outputs": [
        {
          "output_type": "execute_result",
          "data": {
            "text/plain": [
              "       liability      liability_label  \\\n",
              "80118          0   site plutôt fiable   \n",
              "200801         0   site plutôt fiable   \n",
              "171297         0   site plutôt fiable   \n",
              "474999         0   site plutôt fiable   \n",
              "484198         0   site plutôt fiable   \n",
              "...          ...                  ...   \n",
              "46267          1  site plutôt douteux   \n",
              "709797         0   site plutôt fiable   \n",
              "625350         1  site plutôt douteux   \n",
              "54996          1  site plutôt douteux   \n",
              "618774         1  site plutôt douteux   \n",
              "\n",
              "                                              description user_screen_name  \\\n",
              "80118   Site d'enquêtes et de reportages réalisés par ...    Rue89Bordeaux   \n",
              "200801  La version française du magazine généraliste a...          Slatefr   \n",
              "171297  Un des principaux quotidiens britanniques, tra...      Independent   \n",
              "474999  Un site de vérification des rumeurs, focalisé ...      DebunkerHED   \n",
              "484198  Un quotidien et site Internet italien, parmi l...         Corriere   \n",
              "...                                                   ...              ...   \n",
              "46267   Un site anti-Hollande qui a diffusé de nombreu...       David_vanH   \n",
              "709797  Attention, il ne s'agit pas d'articles de « L'...           LePlus   \n",
              "625350  Un site se présentant comme « média global de ...     Demotivateur   \n",
              "54996   Un site internet créé par Michel Collon, milit...   InvestigAction   \n",
              "618774  Le site d'Etienne Chouard, opposant en 2005 au...  Etienne_Chouard   \n",
              "\n",
              "        retweet_count  favorite_count  count_followers  \\\n",
              "80118             0.0             2.0          11188.0   \n",
              "200801            1.0             0.0         712703.0   \n",
              "171297            4.0            22.0        3634561.0   \n",
              "474999            0.0             0.0           3485.0   \n",
              "484198            1.0             0.0        2438816.0   \n",
              "...               ...             ...              ...   \n",
              "46267            11.0            17.0          22006.0   \n",
              "709797            3.0             2.0          30815.0   \n",
              "625350           85.0           128.0          93983.0   \n",
              "54996             0.0             2.0           7523.0   \n",
              "618774           98.0           214.0          69933.0   \n",
              "\n",
              "                                                    tweet  \\\n",
              "80118   Plus que quelques heures pour vous inscrire au...   \n",
              "200801  RT @koriifr: Comment un homme a volé un millio...   \n",
              "171297  Ex-Trump chief of staff Mark Meadows now coope...   \n",
              "474999                @ifeu7 On s'est arrêté à \"pas sûr\".   \n",
              "484198  Bonomi: «Bene ridurre le tasse ma la priorità ...   \n",
              "...                                                   ...   \n",
              "46267   Bon dimanche des Rameaux à tous !!\\n« Merci le...   \n",
              "709797  Français, je vis au Royaume-Uni depuis 22 ans....   \n",
              "625350  Une piscine cachée sous votre jardin ! 😍 https...   \n",
              "54996   « L’affaire Assange n’est pas connue, on racon...   \n",
              "618774  Merci à Denis Robert pour cette invitation (pa...   \n",
              "\n",
              "                                                  cleaned  \\\n",
              "80118              heures inscrire mobilité desident_link   \n",
              "200801   rt homme volé million tournoi golf desident_link   \n",
              "171297  extrump chief of staff mark meadows now cooper...   \n",
              "474999                                    sest arrêté sûr   \n",
              "484198  bonomi «bene ridurre tasse priorità  tagliare ...   \n",
              "...                                                   ...   \n",
              "46267   bon desident_date rameaux « gars devriez porte...   \n",
              "709797  français vis royaumeuni desident_number ans br...   \n",
              "625350              piscine cachée jardin 😍 desident_link   \n",
              "54996   « ’affaire assange ’est connue raconte sortes ...   \n",
              "618774  denis robert invitation facile loin jinterpell...   \n",
              "\n",
              "                                                   tagged  rt_per_followers  \\\n",
              "80118   Plus_ADV que_SCONJ quelques_DET heures_NOUN po...      0.000000e+00   \n",
              "200801  RT_X @koriifr_PROPN :_PUNCT Comment_ADV un_DET...      1.403109e-06   \n",
              "171297  Ex_ADV -_PUNCT Trump_PROPN chief_PROPN of_X st...      1.100546e-06   \n",
              "474999  @ifeu7_PROPN On_PRON s'_PRON est_AUX arrêté_VE...      0.000000e+00   \n",
              "484198  Bonomi_PROPN :_PUNCT «_PROPN Bene_PROPN ridurr...      4.100350e-07   \n",
              "...                                                   ...               ...   \n",
              "46267   Bon_ADJ dimanche_NOUN des_DET Rameaux_NOUN à_A...      4.998637e-04   \n",
              "709797  Français_ADJ ,_PUNCT je_PRON vis_AUX au_DET Ro...      9.735518e-05   \n",
              "625350  Une_DET piscine_NOUN cachée_VERB sous_ADP votr...      9.044189e-04   \n",
              "54996   «_PRON L’_ADJ affaire_NOUN Assange_PROPN n’_AD...      0.000000e+00   \n",
              "618774  Merci_NOUN à_ADP Denis_PROPN Robert_PROPN pour...      1.401341e-03   \n",
              "\n",
              "        fav_per_followers  \n",
              "80118            0.000179  \n",
              "200801           0.000000  \n",
              "171297           0.000006  \n",
              "474999           0.000000  \n",
              "484198           0.000000  \n",
              "...                   ...  \n",
              "46267            0.000773  \n",
              "709797           0.000065  \n",
              "625350           0.001362  \n",
              "54996            0.000266  \n",
              "618774           0.003060  \n",
              "\n",
              "[100 rows x 12 columns]"
            ],
            "text/html": [
              "\n",
              "  <div id=\"df-3d56cfed-498d-4106-9c5d-3a5d5c5bfe77\">\n",
              "    <div class=\"colab-df-container\">\n",
              "      <div>\n",
              "<style scoped>\n",
              "    .dataframe tbody tr th:only-of-type {\n",
              "        vertical-align: middle;\n",
              "    }\n",
              "\n",
              "    .dataframe tbody tr th {\n",
              "        vertical-align: top;\n",
              "    }\n",
              "\n",
              "    .dataframe thead th {\n",
              "        text-align: right;\n",
              "    }\n",
              "</style>\n",
              "<table border=\"1\" class=\"dataframe\">\n",
              "  <thead>\n",
              "    <tr style=\"text-align: right;\">\n",
              "      <th></th>\n",
              "      <th>liability</th>\n",
              "      <th>liability_label</th>\n",
              "      <th>description</th>\n",
              "      <th>user_screen_name</th>\n",
              "      <th>retweet_count</th>\n",
              "      <th>favorite_count</th>\n",
              "      <th>count_followers</th>\n",
              "      <th>tweet</th>\n",
              "      <th>cleaned</th>\n",
              "      <th>tagged</th>\n",
              "      <th>rt_per_followers</th>\n",
              "      <th>fav_per_followers</th>\n",
              "    </tr>\n",
              "  </thead>\n",
              "  <tbody>\n",
              "    <tr>\n",
              "      <th>80118</th>\n",
              "      <td>0</td>\n",
              "      <td>site plutôt fiable</td>\n",
              "      <td>Site d'enquêtes et de reportages réalisés par ...</td>\n",
              "      <td>Rue89Bordeaux</td>\n",
              "      <td>0.0</td>\n",
              "      <td>2.0</td>\n",
              "      <td>11188.0</td>\n",
              "      <td>Plus que quelques heures pour vous inscrire au...</td>\n",
              "      <td>heures inscrire mobilité desident_link</td>\n",
              "      <td>Plus_ADV que_SCONJ quelques_DET heures_NOUN po...</td>\n",
              "      <td>0.000000e+00</td>\n",
              "      <td>0.000179</td>\n",
              "    </tr>\n",
              "    <tr>\n",
              "      <th>200801</th>\n",
              "      <td>0</td>\n",
              "      <td>site plutôt fiable</td>\n",
              "      <td>La version française du magazine généraliste a...</td>\n",
              "      <td>Slatefr</td>\n",
              "      <td>1.0</td>\n",
              "      <td>0.0</td>\n",
              "      <td>712703.0</td>\n",
              "      <td>RT @koriifr: Comment un homme a volé un millio...</td>\n",
              "      <td>rt homme volé million tournoi golf desident_link</td>\n",
              "      <td>RT_X @koriifr_PROPN :_PUNCT Comment_ADV un_DET...</td>\n",
              "      <td>1.403109e-06</td>\n",
              "      <td>0.000000</td>\n",
              "    </tr>\n",
              "    <tr>\n",
              "      <th>171297</th>\n",
              "      <td>0</td>\n",
              "      <td>site plutôt fiable</td>\n",
              "      <td>Un des principaux quotidiens britanniques, tra...</td>\n",
              "      <td>Independent</td>\n",
              "      <td>4.0</td>\n",
              "      <td>22.0</td>\n",
              "      <td>3634561.0</td>\n",
              "      <td>Ex-Trump chief of staff Mark Meadows now coope...</td>\n",
              "      <td>extrump chief of staff mark meadows now cooper...</td>\n",
              "      <td>Ex_ADV -_PUNCT Trump_PROPN chief_PROPN of_X st...</td>\n",
              "      <td>1.100546e-06</td>\n",
              "      <td>0.000006</td>\n",
              "    </tr>\n",
              "    <tr>\n",
              "      <th>474999</th>\n",
              "      <td>0</td>\n",
              "      <td>site plutôt fiable</td>\n",
              "      <td>Un site de vérification des rumeurs, focalisé ...</td>\n",
              "      <td>DebunkerHED</td>\n",
              "      <td>0.0</td>\n",
              "      <td>0.0</td>\n",
              "      <td>3485.0</td>\n",
              "      <td>@ifeu7 On s'est arrêté à \"pas sûr\".</td>\n",
              "      <td>sest arrêté sûr</td>\n",
              "      <td>@ifeu7_PROPN On_PRON s'_PRON est_AUX arrêté_VE...</td>\n",
              "      <td>0.000000e+00</td>\n",
              "      <td>0.000000</td>\n",
              "    </tr>\n",
              "    <tr>\n",
              "      <th>484198</th>\n",
              "      <td>0</td>\n",
              "      <td>site plutôt fiable</td>\n",
              "      <td>Un quotidien et site Internet italien, parmi l...</td>\n",
              "      <td>Corriere</td>\n",
              "      <td>1.0</td>\n",
              "      <td>0.0</td>\n",
              "      <td>2438816.0</td>\n",
              "      <td>Bonomi: «Bene ridurre le tasse ma la priorità ...</td>\n",
              "      <td>bonomi «bene ridurre tasse priorità  tagliare ...</td>\n",
              "      <td>Bonomi_PROPN :_PUNCT «_PROPN Bene_PROPN ridurr...</td>\n",
              "      <td>4.100350e-07</td>\n",
              "      <td>0.000000</td>\n",
              "    </tr>\n",
              "    <tr>\n",
              "      <th>...</th>\n",
              "      <td>...</td>\n",
              "      <td>...</td>\n",
              "      <td>...</td>\n",
              "      <td>...</td>\n",
              "      <td>...</td>\n",
              "      <td>...</td>\n",
              "      <td>...</td>\n",
              "      <td>...</td>\n",
              "      <td>...</td>\n",
              "      <td>...</td>\n",
              "      <td>...</td>\n",
              "      <td>...</td>\n",
              "    </tr>\n",
              "    <tr>\n",
              "      <th>46267</th>\n",
              "      <td>1</td>\n",
              "      <td>site plutôt douteux</td>\n",
              "      <td>Un site anti-Hollande qui a diffusé de nombreu...</td>\n",
              "      <td>David_vanH</td>\n",
              "      <td>11.0</td>\n",
              "      <td>17.0</td>\n",
              "      <td>22006.0</td>\n",
              "      <td>Bon dimanche des Rameaux à tous !!\\n« Merci le...</td>\n",
              "      <td>bon desident_date rameaux « gars devriez porte...</td>\n",
              "      <td>Bon_ADJ dimanche_NOUN des_DET Rameaux_NOUN à_A...</td>\n",
              "      <td>4.998637e-04</td>\n",
              "      <td>0.000773</td>\n",
              "    </tr>\n",
              "    <tr>\n",
              "      <th>709797</th>\n",
              "      <td>0</td>\n",
              "      <td>site plutôt fiable</td>\n",
              "      <td>Attention, il ne s'agit pas d'articles de « L'...</td>\n",
              "      <td>LePlus</td>\n",
              "      <td>3.0</td>\n",
              "      <td>2.0</td>\n",
              "      <td>30815.0</td>\n",
              "      <td>Français, je vis au Royaume-Uni depuis 22 ans....</td>\n",
              "      <td>français vis royaumeuni desident_number ans br...</td>\n",
              "      <td>Français_ADJ ,_PUNCT je_PRON vis_AUX au_DET Ro...</td>\n",
              "      <td>9.735518e-05</td>\n",
              "      <td>0.000065</td>\n",
              "    </tr>\n",
              "    <tr>\n",
              "      <th>625350</th>\n",
              "      <td>1</td>\n",
              "      <td>site plutôt douteux</td>\n",
              "      <td>Un site se présentant comme « média global de ...</td>\n",
              "      <td>Demotivateur</td>\n",
              "      <td>85.0</td>\n",
              "      <td>128.0</td>\n",
              "      <td>93983.0</td>\n",
              "      <td>Une piscine cachée sous votre jardin ! 😍 https...</td>\n",
              "      <td>piscine cachée jardin 😍 desident_link</td>\n",
              "      <td>Une_DET piscine_NOUN cachée_VERB sous_ADP votr...</td>\n",
              "      <td>9.044189e-04</td>\n",
              "      <td>0.001362</td>\n",
              "    </tr>\n",
              "    <tr>\n",
              "      <th>54996</th>\n",
              "      <td>1</td>\n",
              "      <td>site plutôt douteux</td>\n",
              "      <td>Un site internet créé par Michel Collon, milit...</td>\n",
              "      <td>InvestigAction</td>\n",
              "      <td>0.0</td>\n",
              "      <td>2.0</td>\n",
              "      <td>7523.0</td>\n",
              "      <td>« L’affaire Assange n’est pas connue, on racon...</td>\n",
              "      <td>« ’affaire assange ’est connue raconte sortes ...</td>\n",
              "      <td>«_PRON L’_ADJ affaire_NOUN Assange_PROPN n’_AD...</td>\n",
              "      <td>0.000000e+00</td>\n",
              "      <td>0.000266</td>\n",
              "    </tr>\n",
              "    <tr>\n",
              "      <th>618774</th>\n",
              "      <td>1</td>\n",
              "      <td>site plutôt douteux</td>\n",
              "      <td>Le site d'Etienne Chouard, opposant en 2005 au...</td>\n",
              "      <td>Etienne_Chouard</td>\n",
              "      <td>98.0</td>\n",
              "      <td>214.0</td>\n",
              "      <td>69933.0</td>\n",
              "      <td>Merci à Denis Robert pour cette invitation (pa...</td>\n",
              "      <td>denis robert invitation facile loin jinterpell...</td>\n",
              "      <td>Merci_NOUN à_ADP Denis_PROPN Robert_PROPN pour...</td>\n",
              "      <td>1.401341e-03</td>\n",
              "      <td>0.003060</td>\n",
              "    </tr>\n",
              "  </tbody>\n",
              "</table>\n",
              "<p>100 rows × 12 columns</p>\n",
              "</div>\n",
              "      <button class=\"colab-df-convert\" onclick=\"convertToInteractive('df-3d56cfed-498d-4106-9c5d-3a5d5c5bfe77')\"\n",
              "              title=\"Convert this dataframe to an interactive table.\"\n",
              "              style=\"display:none;\">\n",
              "        \n",
              "  <svg xmlns=\"http://www.w3.org/2000/svg\" height=\"24px\"viewBox=\"0 0 24 24\"\n",
              "       width=\"24px\">\n",
              "    <path d=\"M0 0h24v24H0V0z\" fill=\"none\"/>\n",
              "    <path d=\"M18.56 5.44l.94 2.06.94-2.06 2.06-.94-2.06-.94-.94-2.06-.94 2.06-2.06.94zm-11 1L8.5 8.5l.94-2.06 2.06-.94-2.06-.94L8.5 2.5l-.94 2.06-2.06.94zm10 10l.94 2.06.94-2.06 2.06-.94-2.06-.94-.94-2.06-.94 2.06-2.06.94z\"/><path d=\"M17.41 7.96l-1.37-1.37c-.4-.4-.92-.59-1.43-.59-.52 0-1.04.2-1.43.59L10.3 9.45l-7.72 7.72c-.78.78-.78 2.05 0 2.83L4 21.41c.39.39.9.59 1.41.59.51 0 1.02-.2 1.41-.59l7.78-7.78 2.81-2.81c.8-.78.8-2.07 0-2.86zM5.41 20L4 18.59l7.72-7.72 1.47 1.35L5.41 20z\"/>\n",
              "  </svg>\n",
              "      </button>\n",
              "      \n",
              "  <style>\n",
              "    .colab-df-container {\n",
              "      display:flex;\n",
              "      flex-wrap:wrap;\n",
              "      gap: 12px;\n",
              "    }\n",
              "\n",
              "    .colab-df-convert {\n",
              "      background-color: #E8F0FE;\n",
              "      border: none;\n",
              "      border-radius: 50%;\n",
              "      cursor: pointer;\n",
              "      display: none;\n",
              "      fill: #1967D2;\n",
              "      height: 32px;\n",
              "      padding: 0 0 0 0;\n",
              "      width: 32px;\n",
              "    }\n",
              "\n",
              "    .colab-df-convert:hover {\n",
              "      background-color: #E2EBFA;\n",
              "      box-shadow: 0px 1px 2px rgba(60, 64, 67, 0.3), 0px 1px 3px 1px rgba(60, 64, 67, 0.15);\n",
              "      fill: #174EA6;\n",
              "    }\n",
              "\n",
              "    [theme=dark] .colab-df-convert {\n",
              "      background-color: #3B4455;\n",
              "      fill: #D2E3FC;\n",
              "    }\n",
              "\n",
              "    [theme=dark] .colab-df-convert:hover {\n",
              "      background-color: #434B5C;\n",
              "      box-shadow: 0px 1px 3px 1px rgba(0, 0, 0, 0.15);\n",
              "      filter: drop-shadow(0px 1px 2px rgba(0, 0, 0, 0.3));\n",
              "      fill: #FFFFFF;\n",
              "    }\n",
              "  </style>\n",
              "\n",
              "      <script>\n",
              "        const buttonEl =\n",
              "          document.querySelector('#df-3d56cfed-498d-4106-9c5d-3a5d5c5bfe77 button.colab-df-convert');\n",
              "        buttonEl.style.display =\n",
              "          google.colab.kernel.accessAllowed ? 'block' : 'none';\n",
              "\n",
              "        async function convertToInteractive(key) {\n",
              "          const element = document.querySelector('#df-3d56cfed-498d-4106-9c5d-3a5d5c5bfe77');\n",
              "          const dataTable =\n",
              "            await google.colab.kernel.invokeFunction('convertToInteractive',\n",
              "                                                     [key], {});\n",
              "          if (!dataTable) return;\n",
              "\n",
              "          const docLinkHtml = 'Like what you see? Visit the ' +\n",
              "            '<a target=\"_blank\" href=https://colab.research.google.com/notebooks/data_table.ipynb>data table notebook</a>'\n",
              "            + ' to learn more about interactive tables.';\n",
              "          element.innerHTML = '';\n",
              "          dataTable['output_type'] = 'display_data';\n",
              "          await google.colab.output.renderOutput(dataTable, element);\n",
              "          const docLink = document.createElement('div');\n",
              "          docLink.innerHTML = docLinkHtml;\n",
              "          element.appendChild(docLink);\n",
              "        }\n",
              "      </script>\n",
              "    </div>\n",
              "  </div>\n",
              "  "
            ]
          },
          "metadata": {},
          "execution_count": 170
        }
      ]
    },
    {
      "cell_type": "code",
      "source": [
        "data.shape[0]"
      ],
      "metadata": {
        "colab": {
          "base_uri": "https://localhost:8080/"
        },
        "id": "LL2_oCfwXrx1",
        "outputId": "2dc36796-c4ef-4d70-cf25-f4daeb5b3cb3"
      },
      "execution_count": 171,
      "outputs": [
        {
          "output_type": "execute_result",
          "data": {
            "text/plain": [
              "721518"
            ]
          },
          "metadata": {},
          "execution_count": 171
        }
      ]
    },
    {
      "cell_type": "markdown",
      "source": [
        "Ajout d'une colonne sur l'analyse des sentiments"
      ],
      "metadata": {
        "id": "HCA_LHWrQ6wR"
      }
    },
    {
      "cell_type": "code",
      "source": [
        "data['sentiments'] = sentiments"
      ],
      "metadata": {
        "id": "xFwoVWyuQ6bR"
      },
      "execution_count": 172,
      "outputs": []
    },
    {
      "cell_type": "code",
      "source": [
        "data.sample(n=100, replace=False, random_state=42)"
      ],
      "metadata": {
        "colab": {
          "base_uri": "https://localhost:8080/",
          "height": 1000
        },
        "id": "QoRaoG5LXoJ9",
        "outputId": "9e479cc3-3451-4f84-9618-bfc1a3cd1e5a"
      },
      "execution_count": 173,
      "outputs": [
        {
          "output_type": "execute_result",
          "data": {
            "text/plain": [
              "       liability      liability_label  \\\n",
              "80118          0   site plutôt fiable   \n",
              "200801         0   site plutôt fiable   \n",
              "171297         0   site plutôt fiable   \n",
              "474999         0   site plutôt fiable   \n",
              "484198         0   site plutôt fiable   \n",
              "...          ...                  ...   \n",
              "46267          1  site plutôt douteux   \n",
              "709797         0   site plutôt fiable   \n",
              "625350         1  site plutôt douteux   \n",
              "54996          1  site plutôt douteux   \n",
              "618774         1  site plutôt douteux   \n",
              "\n",
              "                                              description user_screen_name  \\\n",
              "80118   Site d'enquêtes et de reportages réalisés par ...    Rue89Bordeaux   \n",
              "200801  La version française du magazine généraliste a...          Slatefr   \n",
              "171297  Un des principaux quotidiens britanniques, tra...      Independent   \n",
              "474999  Un site de vérification des rumeurs, focalisé ...      DebunkerHED   \n",
              "484198  Un quotidien et site Internet italien, parmi l...         Corriere   \n",
              "...                                                   ...              ...   \n",
              "46267   Un site anti-Hollande qui a diffusé de nombreu...       David_vanH   \n",
              "709797  Attention, il ne s'agit pas d'articles de « L'...           LePlus   \n",
              "625350  Un site se présentant comme « média global de ...     Demotivateur   \n",
              "54996   Un site internet créé par Michel Collon, milit...   InvestigAction   \n",
              "618774  Le site d'Etienne Chouard, opposant en 2005 au...  Etienne_Chouard   \n",
              "\n",
              "        retweet_count  favorite_count  count_followers  \\\n",
              "80118             0.0             2.0          11188.0   \n",
              "200801            1.0             0.0         712703.0   \n",
              "171297            4.0            22.0        3634561.0   \n",
              "474999            0.0             0.0           3485.0   \n",
              "484198            1.0             0.0        2438816.0   \n",
              "...               ...             ...              ...   \n",
              "46267            11.0            17.0          22006.0   \n",
              "709797            3.0             2.0          30815.0   \n",
              "625350           85.0           128.0          93983.0   \n",
              "54996             0.0             2.0           7523.0   \n",
              "618774           98.0           214.0          69933.0   \n",
              "\n",
              "                                                    tweet  \\\n",
              "80118   Plus que quelques heures pour vous inscrire au...   \n",
              "200801  RT @koriifr: Comment un homme a volé un millio...   \n",
              "171297  Ex-Trump chief of staff Mark Meadows now coope...   \n",
              "474999                @ifeu7 On s'est arrêté à \"pas sûr\".   \n",
              "484198  Bonomi: «Bene ridurre le tasse ma la priorità ...   \n",
              "...                                                   ...   \n",
              "46267   Bon dimanche des Rameaux à tous !!\\n« Merci le...   \n",
              "709797  Français, je vis au Royaume-Uni depuis 22 ans....   \n",
              "625350  Une piscine cachée sous votre jardin ! 😍 https...   \n",
              "54996   « L’affaire Assange n’est pas connue, on racon...   \n",
              "618774  Merci à Denis Robert pour cette invitation (pa...   \n",
              "\n",
              "                                                  cleaned  \\\n",
              "80118              heures inscrire mobilité desident_link   \n",
              "200801   rt homme volé million tournoi golf desident_link   \n",
              "171297  extrump chief of staff mark meadows now cooper...   \n",
              "474999                                    sest arrêté sûr   \n",
              "484198  bonomi «bene ridurre tasse priorità  tagliare ...   \n",
              "...                                                   ...   \n",
              "46267   bon desident_date rameaux « gars devriez porte...   \n",
              "709797  français vis royaumeuni desident_number ans br...   \n",
              "625350              piscine cachée jardin 😍 desident_link   \n",
              "54996   « ’affaire assange ’est connue raconte sortes ...   \n",
              "618774  denis robert invitation facile loin jinterpell...   \n",
              "\n",
              "                                                   tagged  rt_per_followers  \\\n",
              "80118   Plus_ADV que_SCONJ quelques_DET heures_NOUN po...      0.000000e+00   \n",
              "200801  RT_X @koriifr_PROPN :_PUNCT Comment_ADV un_DET...      1.403109e-06   \n",
              "171297  Ex_ADV -_PUNCT Trump_PROPN chief_PROPN of_X st...      1.100546e-06   \n",
              "474999  @ifeu7_PROPN On_PRON s'_PRON est_AUX arrêté_VE...      0.000000e+00   \n",
              "484198  Bonomi_PROPN :_PUNCT «_PROPN Bene_PROPN ridurr...      4.100350e-07   \n",
              "...                                                   ...               ...   \n",
              "46267   Bon_ADJ dimanche_NOUN des_DET Rameaux_NOUN à_A...      4.998637e-04   \n",
              "709797  Français_ADJ ,_PUNCT je_PRON vis_AUX au_DET Ro...      9.735518e-05   \n",
              "625350  Une_DET piscine_NOUN cachée_VERB sous_ADP votr...      9.044189e-04   \n",
              "54996   «_PRON L’_ADJ affaire_NOUN Assange_PROPN n’_AD...      0.000000e+00   \n",
              "618774  Merci_NOUN à_ADP Denis_PROPN Robert_PROPN pour...      1.401341e-03   \n",
              "\n",
              "        fav_per_followers  sentiments  \n",
              "80118            0.000179         1.0  \n",
              "200801           0.000000         1.0  \n",
              "171297           0.000006         0.0  \n",
              "474999           0.000000         1.0  \n",
              "484198           0.000000         1.0  \n",
              "...                   ...         ...  \n",
              "46267            0.000773         1.0  \n",
              "709797           0.000065         1.0  \n",
              "625350           0.001362         1.0  \n",
              "54996            0.000266         2.0  \n",
              "618774           0.003060         2.0  \n",
              "\n",
              "[100 rows x 13 columns]"
            ],
            "text/html": [
              "\n",
              "  <div id=\"df-57225d91-06eb-437f-93cd-a15f0bd162cd\">\n",
              "    <div class=\"colab-df-container\">\n",
              "      <div>\n",
              "<style scoped>\n",
              "    .dataframe tbody tr th:only-of-type {\n",
              "        vertical-align: middle;\n",
              "    }\n",
              "\n",
              "    .dataframe tbody tr th {\n",
              "        vertical-align: top;\n",
              "    }\n",
              "\n",
              "    .dataframe thead th {\n",
              "        text-align: right;\n",
              "    }\n",
              "</style>\n",
              "<table border=\"1\" class=\"dataframe\">\n",
              "  <thead>\n",
              "    <tr style=\"text-align: right;\">\n",
              "      <th></th>\n",
              "      <th>liability</th>\n",
              "      <th>liability_label</th>\n",
              "      <th>description</th>\n",
              "      <th>user_screen_name</th>\n",
              "      <th>retweet_count</th>\n",
              "      <th>favorite_count</th>\n",
              "      <th>count_followers</th>\n",
              "      <th>tweet</th>\n",
              "      <th>cleaned</th>\n",
              "      <th>tagged</th>\n",
              "      <th>rt_per_followers</th>\n",
              "      <th>fav_per_followers</th>\n",
              "      <th>sentiments</th>\n",
              "    </tr>\n",
              "  </thead>\n",
              "  <tbody>\n",
              "    <tr>\n",
              "      <th>80118</th>\n",
              "      <td>0</td>\n",
              "      <td>site plutôt fiable</td>\n",
              "      <td>Site d'enquêtes et de reportages réalisés par ...</td>\n",
              "      <td>Rue89Bordeaux</td>\n",
              "      <td>0.0</td>\n",
              "      <td>2.0</td>\n",
              "      <td>11188.0</td>\n",
              "      <td>Plus que quelques heures pour vous inscrire au...</td>\n",
              "      <td>heures inscrire mobilité desident_link</td>\n",
              "      <td>Plus_ADV que_SCONJ quelques_DET heures_NOUN po...</td>\n",
              "      <td>0.000000e+00</td>\n",
              "      <td>0.000179</td>\n",
              "      <td>1.0</td>\n",
              "    </tr>\n",
              "    <tr>\n",
              "      <th>200801</th>\n",
              "      <td>0</td>\n",
              "      <td>site plutôt fiable</td>\n",
              "      <td>La version française du magazine généraliste a...</td>\n",
              "      <td>Slatefr</td>\n",
              "      <td>1.0</td>\n",
              "      <td>0.0</td>\n",
              "      <td>712703.0</td>\n",
              "      <td>RT @koriifr: Comment un homme a volé un millio...</td>\n",
              "      <td>rt homme volé million tournoi golf desident_link</td>\n",
              "      <td>RT_X @koriifr_PROPN :_PUNCT Comment_ADV un_DET...</td>\n",
              "      <td>1.403109e-06</td>\n",
              "      <td>0.000000</td>\n",
              "      <td>1.0</td>\n",
              "    </tr>\n",
              "    <tr>\n",
              "      <th>171297</th>\n",
              "      <td>0</td>\n",
              "      <td>site plutôt fiable</td>\n",
              "      <td>Un des principaux quotidiens britanniques, tra...</td>\n",
              "      <td>Independent</td>\n",
              "      <td>4.0</td>\n",
              "      <td>22.0</td>\n",
              "      <td>3634561.0</td>\n",
              "      <td>Ex-Trump chief of staff Mark Meadows now coope...</td>\n",
              "      <td>extrump chief of staff mark meadows now cooper...</td>\n",
              "      <td>Ex_ADV -_PUNCT Trump_PROPN chief_PROPN of_X st...</td>\n",
              "      <td>1.100546e-06</td>\n",
              "      <td>0.000006</td>\n",
              "      <td>0.0</td>\n",
              "    </tr>\n",
              "    <tr>\n",
              "      <th>474999</th>\n",
              "      <td>0</td>\n",
              "      <td>site plutôt fiable</td>\n",
              "      <td>Un site de vérification des rumeurs, focalisé ...</td>\n",
              "      <td>DebunkerHED</td>\n",
              "      <td>0.0</td>\n",
              "      <td>0.0</td>\n",
              "      <td>3485.0</td>\n",
              "      <td>@ifeu7 On s'est arrêté à \"pas sûr\".</td>\n",
              "      <td>sest arrêté sûr</td>\n",
              "      <td>@ifeu7_PROPN On_PRON s'_PRON est_AUX arrêté_VE...</td>\n",
              "      <td>0.000000e+00</td>\n",
              "      <td>0.000000</td>\n",
              "      <td>1.0</td>\n",
              "    </tr>\n",
              "    <tr>\n",
              "      <th>484198</th>\n",
              "      <td>0</td>\n",
              "      <td>site plutôt fiable</td>\n",
              "      <td>Un quotidien et site Internet italien, parmi l...</td>\n",
              "      <td>Corriere</td>\n",
              "      <td>1.0</td>\n",
              "      <td>0.0</td>\n",
              "      <td>2438816.0</td>\n",
              "      <td>Bonomi: «Bene ridurre le tasse ma la priorità ...</td>\n",
              "      <td>bonomi «bene ridurre tasse priorità  tagliare ...</td>\n",
              "      <td>Bonomi_PROPN :_PUNCT «_PROPN Bene_PROPN ridurr...</td>\n",
              "      <td>4.100350e-07</td>\n",
              "      <td>0.000000</td>\n",
              "      <td>1.0</td>\n",
              "    </tr>\n",
              "    <tr>\n",
              "      <th>...</th>\n",
              "      <td>...</td>\n",
              "      <td>...</td>\n",
              "      <td>...</td>\n",
              "      <td>...</td>\n",
              "      <td>...</td>\n",
              "      <td>...</td>\n",
              "      <td>...</td>\n",
              "      <td>...</td>\n",
              "      <td>...</td>\n",
              "      <td>...</td>\n",
              "      <td>...</td>\n",
              "      <td>...</td>\n",
              "      <td>...</td>\n",
              "    </tr>\n",
              "    <tr>\n",
              "      <th>46267</th>\n",
              "      <td>1</td>\n",
              "      <td>site plutôt douteux</td>\n",
              "      <td>Un site anti-Hollande qui a diffusé de nombreu...</td>\n",
              "      <td>David_vanH</td>\n",
              "      <td>11.0</td>\n",
              "      <td>17.0</td>\n",
              "      <td>22006.0</td>\n",
              "      <td>Bon dimanche des Rameaux à tous !!\\n« Merci le...</td>\n",
              "      <td>bon desident_date rameaux « gars devriez porte...</td>\n",
              "      <td>Bon_ADJ dimanche_NOUN des_DET Rameaux_NOUN à_A...</td>\n",
              "      <td>4.998637e-04</td>\n",
              "      <td>0.000773</td>\n",
              "      <td>1.0</td>\n",
              "    </tr>\n",
              "    <tr>\n",
              "      <th>709797</th>\n",
              "      <td>0</td>\n",
              "      <td>site plutôt fiable</td>\n",
              "      <td>Attention, il ne s'agit pas d'articles de « L'...</td>\n",
              "      <td>LePlus</td>\n",
              "      <td>3.0</td>\n",
              "      <td>2.0</td>\n",
              "      <td>30815.0</td>\n",
              "      <td>Français, je vis au Royaume-Uni depuis 22 ans....</td>\n",
              "      <td>français vis royaumeuni desident_number ans br...</td>\n",
              "      <td>Français_ADJ ,_PUNCT je_PRON vis_AUX au_DET Ro...</td>\n",
              "      <td>9.735518e-05</td>\n",
              "      <td>0.000065</td>\n",
              "      <td>1.0</td>\n",
              "    </tr>\n",
              "    <tr>\n",
              "      <th>625350</th>\n",
              "      <td>1</td>\n",
              "      <td>site plutôt douteux</td>\n",
              "      <td>Un site se présentant comme « média global de ...</td>\n",
              "      <td>Demotivateur</td>\n",
              "      <td>85.0</td>\n",
              "      <td>128.0</td>\n",
              "      <td>93983.0</td>\n",
              "      <td>Une piscine cachée sous votre jardin ! 😍 https...</td>\n",
              "      <td>piscine cachée jardin 😍 desident_link</td>\n",
              "      <td>Une_DET piscine_NOUN cachée_VERB sous_ADP votr...</td>\n",
              "      <td>9.044189e-04</td>\n",
              "      <td>0.001362</td>\n",
              "      <td>1.0</td>\n",
              "    </tr>\n",
              "    <tr>\n",
              "      <th>54996</th>\n",
              "      <td>1</td>\n",
              "      <td>site plutôt douteux</td>\n",
              "      <td>Un site internet créé par Michel Collon, milit...</td>\n",
              "      <td>InvestigAction</td>\n",
              "      <td>0.0</td>\n",
              "      <td>2.0</td>\n",
              "      <td>7523.0</td>\n",
              "      <td>« L’affaire Assange n’est pas connue, on racon...</td>\n",
              "      <td>« ’affaire assange ’est connue raconte sortes ...</td>\n",
              "      <td>«_PRON L’_ADJ affaire_NOUN Assange_PROPN n’_AD...</td>\n",
              "      <td>0.000000e+00</td>\n",
              "      <td>0.000266</td>\n",
              "      <td>2.0</td>\n",
              "    </tr>\n",
              "    <tr>\n",
              "      <th>618774</th>\n",
              "      <td>1</td>\n",
              "      <td>site plutôt douteux</td>\n",
              "      <td>Le site d'Etienne Chouard, opposant en 2005 au...</td>\n",
              "      <td>Etienne_Chouard</td>\n",
              "      <td>98.0</td>\n",
              "      <td>214.0</td>\n",
              "      <td>69933.0</td>\n",
              "      <td>Merci à Denis Robert pour cette invitation (pa...</td>\n",
              "      <td>denis robert invitation facile loin jinterpell...</td>\n",
              "      <td>Merci_NOUN à_ADP Denis_PROPN Robert_PROPN pour...</td>\n",
              "      <td>1.401341e-03</td>\n",
              "      <td>0.003060</td>\n",
              "      <td>2.0</td>\n",
              "    </tr>\n",
              "  </tbody>\n",
              "</table>\n",
              "<p>100 rows × 13 columns</p>\n",
              "</div>\n",
              "      <button class=\"colab-df-convert\" onclick=\"convertToInteractive('df-57225d91-06eb-437f-93cd-a15f0bd162cd')\"\n",
              "              title=\"Convert this dataframe to an interactive table.\"\n",
              "              style=\"display:none;\">\n",
              "        \n",
              "  <svg xmlns=\"http://www.w3.org/2000/svg\" height=\"24px\"viewBox=\"0 0 24 24\"\n",
              "       width=\"24px\">\n",
              "    <path d=\"M0 0h24v24H0V0z\" fill=\"none\"/>\n",
              "    <path d=\"M18.56 5.44l.94 2.06.94-2.06 2.06-.94-2.06-.94-.94-2.06-.94 2.06-2.06.94zm-11 1L8.5 8.5l.94-2.06 2.06-.94-2.06-.94L8.5 2.5l-.94 2.06-2.06.94zm10 10l.94 2.06.94-2.06 2.06-.94-2.06-.94-.94-2.06-.94 2.06-2.06.94z\"/><path d=\"M17.41 7.96l-1.37-1.37c-.4-.4-.92-.59-1.43-.59-.52 0-1.04.2-1.43.59L10.3 9.45l-7.72 7.72c-.78.78-.78 2.05 0 2.83L4 21.41c.39.39.9.59 1.41.59.51 0 1.02-.2 1.41-.59l7.78-7.78 2.81-2.81c.8-.78.8-2.07 0-2.86zM5.41 20L4 18.59l7.72-7.72 1.47 1.35L5.41 20z\"/>\n",
              "  </svg>\n",
              "      </button>\n",
              "      \n",
              "  <style>\n",
              "    .colab-df-container {\n",
              "      display:flex;\n",
              "      flex-wrap:wrap;\n",
              "      gap: 12px;\n",
              "    }\n",
              "\n",
              "    .colab-df-convert {\n",
              "      background-color: #E8F0FE;\n",
              "      border: none;\n",
              "      border-radius: 50%;\n",
              "      cursor: pointer;\n",
              "      display: none;\n",
              "      fill: #1967D2;\n",
              "      height: 32px;\n",
              "      padding: 0 0 0 0;\n",
              "      width: 32px;\n",
              "    }\n",
              "\n",
              "    .colab-df-convert:hover {\n",
              "      background-color: #E2EBFA;\n",
              "      box-shadow: 0px 1px 2px rgba(60, 64, 67, 0.3), 0px 1px 3px 1px rgba(60, 64, 67, 0.15);\n",
              "      fill: #174EA6;\n",
              "    }\n",
              "\n",
              "    [theme=dark] .colab-df-convert {\n",
              "      background-color: #3B4455;\n",
              "      fill: #D2E3FC;\n",
              "    }\n",
              "\n",
              "    [theme=dark] .colab-df-convert:hover {\n",
              "      background-color: #434B5C;\n",
              "      box-shadow: 0px 1px 3px 1px rgba(0, 0, 0, 0.15);\n",
              "      filter: drop-shadow(0px 1px 2px rgba(0, 0, 0, 0.3));\n",
              "      fill: #FFFFFF;\n",
              "    }\n",
              "  </style>\n",
              "\n",
              "      <script>\n",
              "        const buttonEl =\n",
              "          document.querySelector('#df-57225d91-06eb-437f-93cd-a15f0bd162cd button.colab-df-convert');\n",
              "        buttonEl.style.display =\n",
              "          google.colab.kernel.accessAllowed ? 'block' : 'none';\n",
              "\n",
              "        async function convertToInteractive(key) {\n",
              "          const element = document.querySelector('#df-57225d91-06eb-437f-93cd-a15f0bd162cd');\n",
              "          const dataTable =\n",
              "            await google.colab.kernel.invokeFunction('convertToInteractive',\n",
              "                                                     [key], {});\n",
              "          if (!dataTable) return;\n",
              "\n",
              "          const docLinkHtml = 'Like what you see? Visit the ' +\n",
              "            '<a target=\"_blank\" href=https://colab.research.google.com/notebooks/data_table.ipynb>data table notebook</a>'\n",
              "            + ' to learn more about interactive tables.';\n",
              "          element.innerHTML = '';\n",
              "          dataTable['output_type'] = 'display_data';\n",
              "          await google.colab.output.renderOutput(dataTable, element);\n",
              "          const docLink = document.createElement('div');\n",
              "          docLink.innerHTML = docLinkHtml;\n",
              "          element.appendChild(docLink);\n",
              "        }\n",
              "      </script>\n",
              "    </div>\n",
              "  </div>\n",
              "  "
            ]
          },
          "metadata": {},
          "execution_count": 173
        }
      ]
    },
    {
      "cell_type": "code",
      "source": [
        "data.shape"
      ],
      "metadata": {
        "colab": {
          "base_uri": "https://localhost:8080/"
        },
        "id": "zeHH4NMZZj1U",
        "outputId": "0a8db175-8d4d-4575-c32f-7ecb2652b5c9"
      },
      "execution_count": 174,
      "outputs": [
        {
          "output_type": "execute_result",
          "data": {
            "text/plain": [
              "(721518, 13)"
            ]
          },
          "metadata": {},
          "execution_count": 174
        }
      ]
    },
    {
      "cell_type": "code",
      "source": [
        "data = data.dropna()"
      ],
      "metadata": {
        "id": "9S9MITgaC1y3"
      },
      "execution_count": 175,
      "outputs": []
    },
    {
      "cell_type": "code",
      "source": [
        "data.shape"
      ],
      "metadata": {
        "colab": {
          "base_uri": "https://localhost:8080/"
        },
        "id": "QzNBQZi3C7O3",
        "outputId": "b24e3c38-f4df-4ea7-e0b2-ef30728ac3ab"
      },
      "execution_count": 176,
      "outputs": [
        {
          "output_type": "execute_result",
          "data": {
            "text/plain": [
              "(720757, 13)"
            ]
          },
          "metadata": {},
          "execution_count": 176
        }
      ]
    },
    {
      "cell_type": "markdown",
      "source": [
        "# Séparation en 3"
      ],
      "metadata": {
        "id": "NzAr5pKcaFQR"
      }
    },
    {
      "cell_type": "markdown",
      "source": [
        "Divisier le model en 3 partie : train(60%), test(20%), valid(20%)"
      ],
      "metadata": {
        "id": "fXIrJRWhaO82"
      }
    },
    {
      "cell_type": "code",
      "source": [
        "from sklearn.model_selection import train_test_split"
      ],
      "metadata": {
        "id": "FFg478bHaIGr"
      },
      "execution_count": 177,
      "outputs": []
    },
    {
      "cell_type": "markdown",
      "source": [
        "On peut chercher à prédire en utilisant , , \n",
        "\n",
        "*   les tweets\n",
        "*   le post-tagging des tweets\n",
        "*   le nombre de followers du compte ayant posté le tweet (plus de followers sur les comptes fiables)\n",
        "*   le pourcentage de retweets du tweet en fonction du nombre de followers du compte ayant posté le tweet (info fiable très peu retweeté)\n",
        "*   le pourcentage de favoris du tweet en fonction du nombre de followers du compte ayant posté le tweet (info fiable très peu mise en favoris)\n"
      ],
      "metadata": {
        "id": "6Q8U3DnhIO6Y"
      }
    },
    {
      "cell_type": "code",
      "source": [
        "# X : le tweet et les infos sur le tweet\n",
        "X = data[['cleaned', 'tagged', 'count_followers', 'rt_per_followers', 'fav_per_followers', 'sentiments']]\n",
        "\n",
        "# y : le label indiquant la fiabilité du tweet\n",
        "y = data['liability_label']"
      ],
      "metadata": {
        "id": "lsR0EFWqaKJf"
      },
      "execution_count": 178,
      "outputs": []
    },
    {
      "cell_type": "code",
      "source": [
        "X.head(10)"
      ],
      "metadata": {
        "colab": {
          "base_uri": "https://localhost:8080/",
          "height": 1000
        },
        "id": "n1vB6_kvaZm7",
        "outputId": "fbdef340-8b3a-469b-816b-0df2584a9bc8"
      },
      "execution_count": 179,
      "outputs": [
        {
          "output_type": "execute_result",
          "data": {
            "text/plain": [
              "                                             cleaned  \\\n",
              "0  🚨le professeur raoult écope ’un blâme ’ordre m...   \n",
              "1                                  rt recours déposé   \n",
              "2  🎙best of pr michel drancourt ihu épidémies dhi...   \n",
              "3  📚 jonathan curiel directeur général adjoint pr...   \n",
              "4  🖍 dessin jour  retrouver desident_link desiden...   \n",
              "5  🐖l214 annoncé déposé plainte mauvais traitemen...   \n",
              "6  soutien dossier audelà porte plainte  réinfoli...   \n",
              "7  🎥 heringuez défendu couple restaurateurs garde...   \n",
              "8                   ’entretien complet desident_link   \n",
              "9  best of 🎙️ guadeloupe ellen bessis soumïâa say...   \n",
              "\n",
              "                                              tagged  count_followers  \\\n",
              "0  🚨_SCONJ Le_DET professeur_NOUN Raoult_PROPN éc...          98322.0   \n",
              "1  RT_X @DIVIZIO1_PROPN :_PUNCT Recours_NOUN dépo...          98322.0   \n",
              "2  🎙_NOUN BEST_X OF_PROPN -_PUNCT Pr_X Michel_PRO...          98322.0   \n",
              "3  📚_PROPN Jonathan_PROPN Curiel_PROPN ,_PUNCT di...          98322.0   \n",
              "4  🖍_NOUN Le_DET dessin_PROPN du_DET jour_NOUN \\n...          98322.0   \n",
              "5  🐖_PROPN L214_PROPN a_AUX annoncé_VERB avoir_AU...          98322.0   \n",
              "6  Au_DET soutien_NOUN de_ADP ce_DET dossier_NOUN...          98322.0   \n",
              "7  🎥_PROPN Me_NOUN Heringuez_PROPN a_AUX défendu_...          98322.0   \n",
              "8  L’_DET entretien_NOUN complet_ADJ :_PUNCT http...          98322.0   \n",
              "9  BEST_NOUN OF_PROPN -_PUNCT 🎙_ADV ️_ADJ En_ADP ...          98322.0   \n",
              "\n",
              "   rt_per_followers  fav_per_followers  sentiments  \n",
              "0          0.000509           0.001027         1.0  \n",
              "1          0.006540           0.000000         1.0  \n",
              "2          0.000275           0.000600         1.0  \n",
              "3          0.000142           0.000376         1.0  \n",
              "4          0.000397           0.000803         1.0  \n",
              "5          0.000529           0.001149         1.0  \n",
              "6          0.000559           0.001637         1.0  \n",
              "7          0.002451           0.005045         1.0  \n",
              "8          0.000437           0.001017         1.0  \n",
              "9          0.003834           0.005614         2.0  "
            ],
            "text/html": [
              "\n",
              "  <div id=\"df-b301e306-7450-4255-be40-8d27b34eeb62\">\n",
              "    <div class=\"colab-df-container\">\n",
              "      <div>\n",
              "<style scoped>\n",
              "    .dataframe tbody tr th:only-of-type {\n",
              "        vertical-align: middle;\n",
              "    }\n",
              "\n",
              "    .dataframe tbody tr th {\n",
              "        vertical-align: top;\n",
              "    }\n",
              "\n",
              "    .dataframe thead th {\n",
              "        text-align: right;\n",
              "    }\n",
              "</style>\n",
              "<table border=\"1\" class=\"dataframe\">\n",
              "  <thead>\n",
              "    <tr style=\"text-align: right;\">\n",
              "      <th></th>\n",
              "      <th>cleaned</th>\n",
              "      <th>tagged</th>\n",
              "      <th>count_followers</th>\n",
              "      <th>rt_per_followers</th>\n",
              "      <th>fav_per_followers</th>\n",
              "      <th>sentiments</th>\n",
              "    </tr>\n",
              "  </thead>\n",
              "  <tbody>\n",
              "    <tr>\n",
              "      <th>0</th>\n",
              "      <td>🚨le professeur raoult écope ’un blâme ’ordre m...</td>\n",
              "      <td>🚨_SCONJ Le_DET professeur_NOUN Raoult_PROPN éc...</td>\n",
              "      <td>98322.0</td>\n",
              "      <td>0.000509</td>\n",
              "      <td>0.001027</td>\n",
              "      <td>1.0</td>\n",
              "    </tr>\n",
              "    <tr>\n",
              "      <th>1</th>\n",
              "      <td>rt recours déposé</td>\n",
              "      <td>RT_X @DIVIZIO1_PROPN :_PUNCT Recours_NOUN dépo...</td>\n",
              "      <td>98322.0</td>\n",
              "      <td>0.006540</td>\n",
              "      <td>0.000000</td>\n",
              "      <td>1.0</td>\n",
              "    </tr>\n",
              "    <tr>\n",
              "      <th>2</th>\n",
              "      <td>🎙best of pr michel drancourt ihu épidémies dhi...</td>\n",
              "      <td>🎙_NOUN BEST_X OF_PROPN -_PUNCT Pr_X Michel_PRO...</td>\n",
              "      <td>98322.0</td>\n",
              "      <td>0.000275</td>\n",
              "      <td>0.000600</td>\n",
              "      <td>1.0</td>\n",
              "    </tr>\n",
              "    <tr>\n",
              "      <th>3</th>\n",
              "      <td>📚 jonathan curiel directeur général adjoint pr...</td>\n",
              "      <td>📚_PROPN Jonathan_PROPN Curiel_PROPN ,_PUNCT di...</td>\n",
              "      <td>98322.0</td>\n",
              "      <td>0.000142</td>\n",
              "      <td>0.000376</td>\n",
              "      <td>1.0</td>\n",
              "    </tr>\n",
              "    <tr>\n",
              "      <th>4</th>\n",
              "      <td>🖍 dessin jour  retrouver desident_link desiden...</td>\n",
              "      <td>🖍_NOUN Le_DET dessin_PROPN du_DET jour_NOUN \\n...</td>\n",
              "      <td>98322.0</td>\n",
              "      <td>0.000397</td>\n",
              "      <td>0.000803</td>\n",
              "      <td>1.0</td>\n",
              "    </tr>\n",
              "    <tr>\n",
              "      <th>5</th>\n",
              "      <td>🐖l214 annoncé déposé plainte mauvais traitemen...</td>\n",
              "      <td>🐖_PROPN L214_PROPN a_AUX annoncé_VERB avoir_AU...</td>\n",
              "      <td>98322.0</td>\n",
              "      <td>0.000529</td>\n",
              "      <td>0.001149</td>\n",
              "      <td>1.0</td>\n",
              "    </tr>\n",
              "    <tr>\n",
              "      <th>6</th>\n",
              "      <td>soutien dossier audelà porte plainte  réinfoli...</td>\n",
              "      <td>Au_DET soutien_NOUN de_ADP ce_DET dossier_NOUN...</td>\n",
              "      <td>98322.0</td>\n",
              "      <td>0.000559</td>\n",
              "      <td>0.001637</td>\n",
              "      <td>1.0</td>\n",
              "    </tr>\n",
              "    <tr>\n",
              "      <th>7</th>\n",
              "      <td>🎥 heringuez défendu couple restaurateurs garde...</td>\n",
              "      <td>🎥_PROPN Me_NOUN Heringuez_PROPN a_AUX défendu_...</td>\n",
              "      <td>98322.0</td>\n",
              "      <td>0.002451</td>\n",
              "      <td>0.005045</td>\n",
              "      <td>1.0</td>\n",
              "    </tr>\n",
              "    <tr>\n",
              "      <th>8</th>\n",
              "      <td>’entretien complet desident_link</td>\n",
              "      <td>L’_DET entretien_NOUN complet_ADJ :_PUNCT http...</td>\n",
              "      <td>98322.0</td>\n",
              "      <td>0.000437</td>\n",
              "      <td>0.001017</td>\n",
              "      <td>1.0</td>\n",
              "    </tr>\n",
              "    <tr>\n",
              "      <th>9</th>\n",
              "      <td>best of 🎙️ guadeloupe ellen bessis soumïâa say...</td>\n",
              "      <td>BEST_NOUN OF_PROPN -_PUNCT 🎙_ADV ️_ADJ En_ADP ...</td>\n",
              "      <td>98322.0</td>\n",
              "      <td>0.003834</td>\n",
              "      <td>0.005614</td>\n",
              "      <td>2.0</td>\n",
              "    </tr>\n",
              "  </tbody>\n",
              "</table>\n",
              "</div>\n",
              "      <button class=\"colab-df-convert\" onclick=\"convertToInteractive('df-b301e306-7450-4255-be40-8d27b34eeb62')\"\n",
              "              title=\"Convert this dataframe to an interactive table.\"\n",
              "              style=\"display:none;\">\n",
              "        \n",
              "  <svg xmlns=\"http://www.w3.org/2000/svg\" height=\"24px\"viewBox=\"0 0 24 24\"\n",
              "       width=\"24px\">\n",
              "    <path d=\"M0 0h24v24H0V0z\" fill=\"none\"/>\n",
              "    <path d=\"M18.56 5.44l.94 2.06.94-2.06 2.06-.94-2.06-.94-.94-2.06-.94 2.06-2.06.94zm-11 1L8.5 8.5l.94-2.06 2.06-.94-2.06-.94L8.5 2.5l-.94 2.06-2.06.94zm10 10l.94 2.06.94-2.06 2.06-.94-2.06-.94-.94-2.06-.94 2.06-2.06.94z\"/><path d=\"M17.41 7.96l-1.37-1.37c-.4-.4-.92-.59-1.43-.59-.52 0-1.04.2-1.43.59L10.3 9.45l-7.72 7.72c-.78.78-.78 2.05 0 2.83L4 21.41c.39.39.9.59 1.41.59.51 0 1.02-.2 1.41-.59l7.78-7.78 2.81-2.81c.8-.78.8-2.07 0-2.86zM5.41 20L4 18.59l7.72-7.72 1.47 1.35L5.41 20z\"/>\n",
              "  </svg>\n",
              "      </button>\n",
              "      \n",
              "  <style>\n",
              "    .colab-df-container {\n",
              "      display:flex;\n",
              "      flex-wrap:wrap;\n",
              "      gap: 12px;\n",
              "    }\n",
              "\n",
              "    .colab-df-convert {\n",
              "      background-color: #E8F0FE;\n",
              "      border: none;\n",
              "      border-radius: 50%;\n",
              "      cursor: pointer;\n",
              "      display: none;\n",
              "      fill: #1967D2;\n",
              "      height: 32px;\n",
              "      padding: 0 0 0 0;\n",
              "      width: 32px;\n",
              "    }\n",
              "\n",
              "    .colab-df-convert:hover {\n",
              "      background-color: #E2EBFA;\n",
              "      box-shadow: 0px 1px 2px rgba(60, 64, 67, 0.3), 0px 1px 3px 1px rgba(60, 64, 67, 0.15);\n",
              "      fill: #174EA6;\n",
              "    }\n",
              "\n",
              "    [theme=dark] .colab-df-convert {\n",
              "      background-color: #3B4455;\n",
              "      fill: #D2E3FC;\n",
              "    }\n",
              "\n",
              "    [theme=dark] .colab-df-convert:hover {\n",
              "      background-color: #434B5C;\n",
              "      box-shadow: 0px 1px 3px 1px rgba(0, 0, 0, 0.15);\n",
              "      filter: drop-shadow(0px 1px 2px rgba(0, 0, 0, 0.3));\n",
              "      fill: #FFFFFF;\n",
              "    }\n",
              "  </style>\n",
              "\n",
              "      <script>\n",
              "        const buttonEl =\n",
              "          document.querySelector('#df-b301e306-7450-4255-be40-8d27b34eeb62 button.colab-df-convert');\n",
              "        buttonEl.style.display =\n",
              "          google.colab.kernel.accessAllowed ? 'block' : 'none';\n",
              "\n",
              "        async function convertToInteractive(key) {\n",
              "          const element = document.querySelector('#df-b301e306-7450-4255-be40-8d27b34eeb62');\n",
              "          const dataTable =\n",
              "            await google.colab.kernel.invokeFunction('convertToInteractive',\n",
              "                                                     [key], {});\n",
              "          if (!dataTable) return;\n",
              "\n",
              "          const docLinkHtml = 'Like what you see? Visit the ' +\n",
              "            '<a target=\"_blank\" href=https://colab.research.google.com/notebooks/data_table.ipynb>data table notebook</a>'\n",
              "            + ' to learn more about interactive tables.';\n",
              "          element.innerHTML = '';\n",
              "          dataTable['output_type'] = 'display_data';\n",
              "          await google.colab.output.renderOutput(dataTable, element);\n",
              "          const docLink = document.createElement('div');\n",
              "          docLink.innerHTML = docLinkHtml;\n",
              "          element.appendChild(docLink);\n",
              "        }\n",
              "      </script>\n",
              "    </div>\n",
              "  </div>\n",
              "  "
            ]
          },
          "metadata": {},
          "execution_count": 179
        }
      ]
    },
    {
      "cell_type": "code",
      "source": [
        "y.head(10)"
      ],
      "metadata": {
        "colab": {
          "base_uri": "https://localhost:8080/"
        },
        "id": "Bqw0LbJMpiAv",
        "outputId": "da55127b-911a-4e40-a0b3-05d34920802e"
      },
      "execution_count": 180,
      "outputs": [
        {
          "output_type": "execute_result",
          "data": {
            "text/plain": [
              "0    site plutôt douteux\n",
              "1    site plutôt douteux\n",
              "2    site plutôt douteux\n",
              "3    site plutôt douteux\n",
              "4    site plutôt douteux\n",
              "5    site plutôt douteux\n",
              "6    site plutôt douteux\n",
              "7    site plutôt douteux\n",
              "8    site plutôt douteux\n",
              "9    site plutôt douteux\n",
              "Name: liability_label, dtype: object"
            ]
          },
          "metadata": {},
          "execution_count": 180
        }
      ]
    },
    {
      "cell_type": "code",
      "source": [
        "# 100% dataset : 80% train 20% test\n",
        "X_train, X_test, y_train, y_test = train_test_split(X, y, test_size=0.2, random_state=1)"
      ],
      "metadata": {
        "id": "uuIhrOgeaLlg"
      },
      "execution_count": 181,
      "outputs": []
    },
    {
      "cell_type": "code",
      "source": [
        "# 80% dataset(train) : 80%*0.75=60% train  80%*0.25=20% test\n",
        "X_train, X_val, y_train, y_val = train_test_split(X_train, y_train, test_size=0.25, random_state=1)"
      ],
      "metadata": {
        "id": "5h36SEzTaM5T"
      },
      "execution_count": 182,
      "outputs": []
    },
    {
      "cell_type": "code",
      "source": [
        "print(\"X_train.shape : \",X_train.shape,\", X_val.shape : \",X_val.shape, \", X_test.shape : \",X_test.shape)"
      ],
      "metadata": {
        "id": "7H046igmkBmh",
        "colab": {
          "base_uri": "https://localhost:8080/"
        },
        "outputId": "f8d21d88-6a08-4d5b-962f-b5581072b1ab"
      },
      "execution_count": 183,
      "outputs": [
        {
          "output_type": "stream",
          "name": "stdout",
          "text": [
            "X_train.shape :  (432453, 6) , X_val.shape :  (144152, 6) , X_test.shape :  (144152, 6)\n"
          ]
        }
      ]
    },
    {
      "cell_type": "code",
      "source": [
        "print(\"y_train.shape : \",y_train.shape,\", y_val.shape : \",y_val.shape, \", y_test.shape : \",y_test.shape)"
      ],
      "metadata": {
        "colab": {
          "base_uri": "https://localhost:8080/"
        },
        "id": "BAPqs1BQUnbp",
        "outputId": "b758840f-fe62-45e0-dbea-0460049706b4"
      },
      "execution_count": 184,
      "outputs": [
        {
          "output_type": "stream",
          "name": "stdout",
          "text": [
            "y_train.shape :  (432453,) , y_val.shape :  (144152,) , y_test.shape :  (144152,)\n"
          ]
        }
      ]
    },
    {
      "cell_type": "markdown",
      "source": [
        "Visualiser le distribution de model"
      ],
      "metadata": {
        "id": "Vh6ofj-raWwI"
      }
    },
    {
      "cell_type": "code",
      "source": [
        "# model_size = np.array([X_train.count(), X_test.count(), X_val.count()])\n",
        "model_size = np.array([X_train.count()[0], X_test.count()[0], X_val.count()[0]])\n",
        "\n",
        "plt.pie(model_size,\n",
        "        # labels de pie chart\n",
        "        labels=['Training_set','Testing_set','Validation_set'], \n",
        "        # pourcentage\n",
        "        autopct='%.2f%%', \n",
        "       )\n",
        "plt.title(\"Distribution de model\")\n",
        "plt.show()"
      ],
      "metadata": {
        "id": "TgbpvYcnaaJP",
        "colab": {
          "base_uri": "https://localhost:8080/",
          "height": 54
        },
        "outputId": "021acbb4-7978-4a2c-d2c0-b58d3cfdb211"
      },
      "execution_count": 185,
      "outputs": [
        {
          "output_type": "display_data",
          "data": {
            "text/plain": [
              "<Figure size 432x288 with 1 Axes>"
            ],
            "image/png": "[encoded data removed]"
          },
          "metadata": {}
        }
      ]
    },
    {
      "cell_type": "markdown",
      "source": [
        "# TF-IDF"
      ],
      "metadata": {
        "id": "86zO91TNZppf"
      }
    },
    {
      "cell_type": "code",
      "source": [
        "X_train.shape"
      ],
      "metadata": {
        "id": "Vdq5RIRo7QgV",
        "colab": {
          "base_uri": "https://localhost:8080/"
        },
        "outputId": "741ecf9f-604c-49aa-8e48-952e1b989189"
      },
      "execution_count": 186,
      "outputs": [
        {
          "output_type": "execute_result",
          "data": {
            "text/plain": [
              "(432453, 6)"
            ]
          },
          "metadata": {},
          "execution_count": 186
        }
      ]
    },
    {
      "cell_type": "markdown",
      "source": [
        "Création des vecteurs de mots"
      ],
      "metadata": {
        "id": "5alGvIbDa-b4"
      }
    },
    {
      "cell_type": "code",
      "source": [
        "\"\"\"from sklearn.feature_extraction.text import TfidfVectorizer\n",
        "\n",
        "# vectorizer = TfidfVectorizer(min_df=10, max_df=0.9)\n",
        "# X_cleaned = vectorizer.fit_transform(X_train.tolist())\n",
        "\n",
        "vectorizer_cleaned = TfidfVectorizer(min_df=10, max_df=0.9)\n",
        "vectorizer_tagged = TfidfVectorizer(min_df=10, max_df=0.9)\n",
        "X_cleaned = vectorizer_cleaned.fit_transform(X_train['cleaned'].tolist())\n",
        "X_tagged = vectorizer_tagged.fit_transform(X_train['tagged'].tolist())\"\"\""
      ],
      "metadata": {
        "id": "iId_MQ78KU3d",
        "colab": {
          "base_uri": "https://localhost:8080/",
          "height": 70
        },
        "outputId": "5b090732-8421-429a-dabb-c74cb794d7c3"
      },
      "execution_count": 187,
      "outputs": [
        {
          "output_type": "execute_result",
          "data": {
            "text/plain": [
              "\"from sklearn.feature_extraction.text import TfidfVectorizer\\n\\n# vectorizer = TfidfVectorizer(min_df=10, max_df=0.9)\\n# X_cleaned = vectorizer.fit_transform(X_train.tolist())\\n\\nvectorizer_cleaned = TfidfVectorizer(min_df=10, max_df=0.9)\\nvectorizer_tagged = TfidfVectorizer(min_df=10, max_df=0.9)\\nX_cleaned = vectorizer_cleaned.fit_transform(X_train['cleaned'].tolist())\\nX_tagged = vectorizer_tagged.fit_transform(X_train['tagged'].tolist())\""
            ],
            "application/vnd.google.colaboratory.intrinsic+json": {
              "type": "string"
            }
          },
          "metadata": {},
          "execution_count": 187
        }
      ]
    },
    {
      "cell_type": "code",
      "source": [
        "from sklearn.feature_extraction.text import TfidfVectorizer\n",
        "\n",
        "vectorizer_cleaned = TfidfVectorizer(min_df=10, max_df=0.9)\n",
        "vectorizer_tagged = TfidfVectorizer(min_df=10, max_df=0.9)\n",
        "\n",
        "# vectorizer = TfidfVectorizer(min_df=10, max_df=0.9)\n",
        "# X_cleaned = vectorizer.fit_transform(X_train.tolist())\n",
        "\n",
        "Train_X_cleaned_Tfidf = vectorizer_cleaned.fit_transform(X_train['cleaned'])\n",
        "Train_X_tagged_Tfidf = vectorizer_tagged.fit_transform(X_train['tagged'])\n",
        "Test_X_cleaned_Tfidf = vectorizer_cleaned.transform(X_test['cleaned'])\n",
        "Test_X_tagged_Tfidf = vectorizer_tagged.transform(X_test['tagged'])"
      ],
      "metadata": {
        "id": "8jY4Dl2SZgJG"
      },
      "execution_count": 188,
      "outputs": []
    },
    {
      "cell_type": "code",
      "source": [
        "print(\"X_train.shape : \",X_train.shape,\", X_test.shape : \",X_test.shape)\n",
        "# print(\"Train_X_Tfidf.shape : \",Train_X_Tfidf.shape,\", Test_X_Tfidf.shape : \",Test_X_Tfidf.shape)\n",
        "print(\"Train_X_cleaned_Tfidf.shape : \",Train_X_cleaned_Tfidf.shape,\", Test_X_cleaned_Tfidf.shape : \",Test_X_cleaned_Tfidf.shape)\n",
        "print(\"Train_X_tagged_Tfidf.shape : \",Train_X_tagged_Tfidf.shape,\", Test_X_tagged_Tfidf.shape : \",Test_X_tagged_Tfidf.shape)"
      ],
      "metadata": {
        "colab": {
          "base_uri": "https://localhost:8080/"
        },
        "id": "vVt1o-Q0bJV5",
        "outputId": "c1c771a9-89fa-46b3-87fe-34b74ab6e163"
      },
      "execution_count": 189,
      "outputs": [
        {
          "output_type": "stream",
          "name": "stdout",
          "text": [
            "X_train.shape :  (432453, 6) , X_test.shape :  (144152, 6)\n",
            "Train_X_cleaned_Tfidf.shape :  (432453, 30702) , Test_X_cleaned_Tfidf.shape :  (144152, 30702)\n",
            "Train_X_tagged_Tfidf.shape :  (432453, 37785) , Test_X_tagged_Tfidf.shape :  (144152, 37785)\n"
          ]
        }
      ]
    },
    {
      "cell_type": "code",
      "source": [
        "print(Train_X_cleaned_Tfidf[0,:])"
      ],
      "metadata": {
        "colab": {
          "base_uri": "https://localhost:8080/"
        },
        "id": "6BRy8sC9dpW3",
        "outputId": "5ea6e915-287a-4285-a473-d480263c3a4a"
      },
      "execution_count": 190,
      "outputs": [
        {
          "output_type": "stream",
          "name": "stdout",
          "text": [
            "  (0, 7386)\t0.040796761307780746\n",
            "  (0, 7385)\t0.12379965042769783\n",
            "  (0, 24617)\t0.2748761987010949\n",
            "  (0, 18585)\t0.31726583452909096\n",
            "  (0, 12453)\t0.36508527285884385\n",
            "  (0, 24081)\t0.3313989277393439\n",
            "  (0, 11910)\t0.3618990244005962\n",
            "  (0, 8045)\t0.31052936576174567\n",
            "  (0, 18635)\t0.376746652610604\n",
            "  (0, 22614)\t0.25306359657981087\n",
            "  (0, 21307)\t0.3435612558898202\n",
            "  (0, 24265)\t0.11076677798635172\n"
          ]
        }
      ]
    },
    {
      "cell_type": "code",
      "source": [
        "# print(\"X_cleaned.shape : \",X_cleaned.shape)\n",
        "# print(\"X_cleaned.shape : \",X_cleaned.shape,\", X_tagged.shape : \",X_tagged.shape)"
      ],
      "metadata": {
        "id": "MwrT22EaUeae"
      },
      "execution_count": 191,
      "outputs": []
    },
    {
      "cell_type": "code",
      "source": [
        "# print(X_cleaned[0,:])"
      ],
      "metadata": {
        "id": "8iwQrsLcYBim"
      },
      "execution_count": 192,
      "outputs": []
    },
    {
      "cell_type": "code",
      "source": [
        "featured_names_cleaned = vectorizer_cleaned.get_feature_names_out()\n",
        "featured_names_tagged = vectorizer_tagged.get_feature_names_out()\n",
        "print(\"(\"+str(len(featured_names_cleaned))+\", \"+str(len(featured_names_tagged))+\")\")"
      ],
      "metadata": {
        "id": "q4BhwyQauvBy",
        "colab": {
          "base_uri": "https://localhost:8080/"
        },
        "outputId": "899b709c-a478-4f11-9028-a3ad54d64146"
      },
      "execution_count": 193,
      "outputs": [
        {
          "output_type": "stream",
          "name": "stdout",
          "text": [
            "(30702, 37785)\n"
          ]
        }
      ]
    },
    {
      "cell_type": "code",
      "source": [
        "# pd.DataFrame(Train_X_cleaned_Tfidf.toarray())"
      ],
      "metadata": {
        "id": "3B4UUQoAeM3G"
      },
      "execution_count": 194,
      "outputs": []
    },
    {
      "cell_type": "code",
      "source": [
        "print(f'Feature names \\n{featured_names_cleaned}')"
      ],
      "metadata": {
        "id": "PtetqBef7l13",
        "colab": {
          "base_uri": "https://localhost:8080/"
        },
        "outputId": "e99c682d-9e6c-4bc2-bfe9-20f15502a4cf"
      },
      "execution_count": 195,
      "outputs": [
        {
          "output_type": "stream",
          "name": "stdout",
          "text": [
            "Feature names \n",
            "['a1' 'a11' 'a113' ... 'والروحية' 'وراء' 'ولكن']\n"
          ]
        }
      ]
    },
    {
      "cell_type": "markdown",
      "source": [
        "# SVM avec TF-IDF"
      ],
      "metadata": {
        "id": "pq8xXFrCRarn"
      }
    },
    {
      "cell_type": "code",
      "source": [
        "from sklearn import model_selection, naive_bayes, svm\n",
        "from sklearn.preprocessing import LabelEncoder\n",
        "from sklearn.metrics import accuracy_score, matthews_corrcoef, make_scorer, classification_report"
      ],
      "metadata": {
        "id": "bzHbYeCCY4Fs"
      },
      "execution_count": 196,
      "outputs": []
    },
    {
      "cell_type": "markdown",
      "source": [
        "Quelques test pour pouvoir maîtriser les données."
      ],
      "metadata": {
        "id": "RvezPdmLZghd"
      }
    },
    {
      "cell_type": "code",
      "source": [
        "type(Train_X_cleaned_Tfidf)"
      ],
      "metadata": {
        "colab": {
          "base_uri": "https://localhost:8080/"
        },
        "id": "7MuwT_c7fPeO",
        "outputId": "e0edebae-cf12-4299-867a-05d0bd0e78bb"
      },
      "execution_count": 197,
      "outputs": [
        {
          "output_type": "execute_result",
          "data": {
            "text/plain": [
              "scipy.sparse.csr.csr_matrix"
            ]
          },
          "metadata": {},
          "execution_count": 197
        }
      ]
    },
    {
      "cell_type": "code",
      "source": [
        "Train_X_cleaned_Tfidf.get_shape()"
      ],
      "metadata": {
        "colab": {
          "base_uri": "https://localhost:8080/"
        },
        "id": "QcQJgvsUrsvt",
        "outputId": "cca2ad49-cbcf-461c-f8c7-3b56c72a9b9c"
      },
      "execution_count": 198,
      "outputs": [
        {
          "output_type": "execute_result",
          "data": {
            "text/plain": [
              "(432453, 30702)"
            ]
          },
          "metadata": {},
          "execution_count": 198
        }
      ]
    },
    {
      "cell_type": "code",
      "source": [
        "# pd.DataFrame(Train_X_cleaned_Tfidf.toarray())\n",
        "csr_matrix(X_train[['count_followers', 'rt_per_followers', 'fav_per_followers']].values).get_shape()\n",
        "# Train_X_cleaned_Tfidf.toarray()"
      ],
      "metadata": {
        "id": "RGgedMHGfrn8",
        "colab": {
          "base_uri": "https://localhost:8080/"
        },
        "outputId": "6af83567-9ab7-40bd-e2ac-bc10903d4473"
      },
      "execution_count": 199,
      "outputs": [
        {
          "output_type": "execute_result",
          "data": {
            "text/plain": [
              "(432453, 3)"
            ]
          },
          "metadata": {},
          "execution_count": 199
        }
      ]
    },
    {
      "cell_type": "markdown",
      "source": [
        "On peut créer un dataframe à partir d'un *scipy.sparse.csr.csr_matrix* cependant le dataframe obtenu peut saturer la RAM.\n",
        "\n",
        "Pour éviter de saturer la RAM on fait l'inverse : on créé un *scipy.sparse.csr.csr_matrix* avec les données du TF-IDF et le dataframe."
      ],
      "metadata": {
        "id": "ItbME_q2m4gF"
      }
    },
    {
      "cell_type": "code",
      "source": [
        "Whole_X_Train = hstack((Train_X_cleaned_Tfidf, Train_X_tagged_Tfidf, csr_matrix(X_train[['count_followers', 'rt_per_followers', 'fav_per_followers', 'sentiments']].values)))\n",
        "Whole_X_Test = hstack((Test_X_cleaned_Tfidf, Test_X_tagged_Tfidf, csr_matrix(X_test[['count_followers', 'rt_per_followers', 'fav_per_followers', 'sentiments']].values)))"
      ],
      "metadata": {
        "id": "g8rPGrFIedBh"
      },
      "execution_count": 200,
      "outputs": []
    },
    {
      "cell_type": "code",
      "source": [
        "print(\"Whole_X_Train.get_shape() :\",Whole_X_Train.get_shape(), \", Whole_X_Test.get_shape() :\",Whole_X_Test.get_shape())"
      ],
      "metadata": {
        "colab": {
          "base_uri": "https://localhost:8080/"
        },
        "id": "DjV5sjldxgVQ",
        "outputId": "38dbea6b-4d6b-4373-9f4a-119673e944ec"
      },
      "execution_count": 201,
      "outputs": [
        {
          "output_type": "stream",
          "name": "stdout",
          "text": [
            "Whole_X_Train.get_shape() : (432453, 68491) , Whole_X_Test.get_shape() : (144152, 68491)\n"
          ]
        }
      ]
    },
    {
      "cell_type": "markdown",
      "source": [
        "Whole_X_Train contient 432 910 lignes et 68 769 colonnes (30 811+37 955+3) pour un total de 29 770 787 790 cases, ce serait beaucoup trop de données pour la RAM de Google Drive. (on a rajouté la colonne des sentiments, donc plus la bonne valeur maintenant)"
      ],
      "metadata": {
        "id": "gCYKsWc7ip1k"
      }
    },
    {
      "cell_type": "code",
      "source": [
        "print(vectorizer_cleaned.vocabulary_)\n",
        "print(len(vectorizer_cleaned.vocabulary_))"
      ],
      "metadata": {
        "id": "kHqDOOzkZ-Id",
        "colab": {
          "base_uri": "https://localhost:8080/"
        },
        "outputId": "7835897b-d6ce-437c-a55c-d8cd4eb19310"
      },
      "execution_count": 202,
      "outputs": [
        {
          "output_type": "stream",
          "name": "stdout",
          "text": [
            "{'rt': 24265, 'posez': 21307, 'questions': 22614, 'ménopause': 18635, 'docteur': 8045, 'geoffroy': 11910, 'robin': 24081, 'gynécologue': 12453, 'médical': 18585, 'répond': 24617, 'desident_date': 7385, 'desident_link': 7386, 'camille': 3854, 'lellouche': 15703, 'confie': 5636, 'violences': 29247, 'conjugales': 5717, 'qu': 22525, 'elle': 9453, 'vécues': 29573, 'je': 14570, 'mourir': 18344, 'côte': 6796, 'divoire': 8005, 'combattre': 5270, 'hausse': 12733, 'maladies': 16996, 'cardiaques': 4016, 'chiffres': 4642, 'cartes': 4079, 'comprendre': 5481, 'rapide': 22863, 'montée': 18212, 'lépidémie': 16787, 'france': 11362, 'années': 1235, 'servi': 25626, 'vendre': 28974, 'larbitrage': 15426, 'vidéo': 29137, 'onu': 19610, 'rappelle': 22875, 'guaido': 12351, 'reconnait': 23108, 'président': 22184, 'nicolas': 18979, 'maduro': 16878, 'macron': 16857, 'sou': 26260, 'faire': 10535, 'captures': 3985, 'décran': 8680, 'mac': 16839, 'barbares': 2499, 'coupent': 6279, 'têtes': 28585, 'détruisent': 9234, 'sites': 25951, 'historiques': 12903, 'handicapés': 12673, 'desident_number': 7387, 'citation': 4875, 'bonsoir': 3161, 'faut': 10673, 'précipiter': 22060, 'bruno': 3537, 'retailleau': 23803, 'quinquennat': 22632, 'emmanuel': 9523, 'ailleurs': 646, 'il': 13334, 'se': 25384, 'finale': 10917, 'pénurie': 22461, 'électroniques': 30297, 'freine': 11455, 'chaîne': 4556, 'auto': 2125, 'ministre': 17910, 'explique': 10311, 'introduction': 14203, 'russe': 24328, 'système': 27161, 'universitaire': 28677, 'pays': 20383, 'mohamed': 18070, 'mbougar': 17508, 'sarr': 25150, 'prix': 21672, 'sources': 26337, 'rallye': 22802, 'mare': 17219, 'diffuser': 7663, 'bonnes': 3156, 'pratiques': 21502, 'nomme': 19081, 'villes': 29215, 'européennes': 10120, 'centres': 4280, 'résilience': 24680, 'contenus': 5941, 'page': 19930, 'accueil': 207, 'recommandés': 23086, 'algorithme': 775, 'surprise': 27016, 'netflix': 18905, 'inspirés': 13984, 'chercheurs': 4600, 'créé': 6627, 'fois': 11126, 'po': 21070, 'enquête': 9734, 'pesticide': 20634, 'continue': 5963, 'empoisonner': 9566, 'antilles': 1298, 'grammy': 12190, 'awards': 2283, 'jon': 14702, 'batiste': 2594, 'justin': 14892, 'bieber': 2846, 'tête': 28584, 'nominations': 19078, 'volleyball': 29442, 'ligue': 16046, 'féminine': 11633, 'chamalières': 4383, 'retrouve': 23858, 'nana': 18740, 'également': 30245, 'armé': 1615, 'dun': 8399, 'couteau': 6339, 'beurre': 2807, 'venait': 28962, 'visiblement': 29305, 'marquer': 17296, 'territoire': 27595, 'admirez': 390, 'réalisation': 24382, 'pyrogravure': 22403, 'représentant': 23649, 'bouillon': 3252, 'documentaire': 8057, 'cousteau': 6337, 'plonge': 21027, 'vie': 29142, 'légendaire': 16727, 'commandant': 5301, 'bonnet': 3157, 'rouge': 24201, 'multiples': 18412, 'fac': 10479, 'port': 21254, 'masque': 17372, 'redevient': 23177, 'obligatoire': 19377, 'partout': 20227, 'intérieur': 14237, 'lieux': 16027, 'laccès': 15169, 'soumis': 26319, 'pass': 20247, 'steve': 26642, 'cohen': 5112, 'might': 17799, 'be': 2638, 'changing': 4429, 'his': 12888, 'twitter': 28511, 'habits': 12591, 'tonnes': 27910, 'betteraves': 2803, 'prochainement': 21705, 'détruites': 9237, 'champagne': 4396, 'hier': 12859, 'léglise': 16748, 'médiévale': 18601, 'datant': 7064, 'ème': 30067, 'siècle': 25961, 'incendiée': 13585, 'connu': 5752, 'sort': 26238, 'ouvrir': 19876, 'maison': 16966, 'traverse': 28245, 'aujourdhui': 2058, 'crise': 6482, 'aiguë': 640, 'légitimité': 16747, 'résoudre': 24698, 'urgent': 28712, 'nîmes': 19360, 'gendarmes': 11878, 'interpellent': 14129, 'hommes': 12959, 'soupçonnés': 26334, 'home': 12948, 'manger': 17091, 'épicé': 30425, 'estil': 10051, 'dangereux': 6956, 'santé': 25116, 'collector': 5177, 'abord': 75, 'symbole': 27119, 'glace': 12016, 'turquie': 28483, 'russie': 24336, 'échange': 30086, 'culte': 6674, 'ou': 19812, 'wind': 29799, 'meets': 17558, 'art': 1691, 'to': 27852, 'create': 6437, 'personal': 20578, 'sustainability': 27088, 'lon': 16404, 'table': 27299, 'croissance': 6522, 'derniers': 7364, 'trimestres': 28313, 'totale': 27948, 'exclu': 10197, 'caroline': 4053, 'margeridon': 17223, 'dézingue': 9283, 'pierrejean': 20771, 'chalençon': 4367, 'cest': 4331, 'sil': 25841, 'navait': 18833, 'jamais': 14515, 'existé': 10275, 'automobiliste': 2142, 'percuté': 20498, 'homme': 12957, 'roulé': 24212, 'reprises': 23635, 'yeux': 29952, 'famille': 10588, 'agde': 535, 'misogynie': 17964, 'calvaire': 3830, 'lesbiennes': 15785, 'assos': 1821, 'sportives': 26488, 'lgbt': 15897, 'champagneardenne': 4397, 'vue': 29555, 'lespace': 15791, 'thomas': 27703, 'pesquet': 20630, 'partage': 20174, 'photo': 20715, 'aéroport': 2315, 'marne': 17283, 'drôme': 8371, 'conducteur': 5607, 'fonce': 11139, 'mur': 18435, 'un': 28633, 'jardin': 14540, 'prend': 21532, 'fuite': 11546, 'how': 13064, 'french': 11462, 'regional': 23265, 'elections': 9431, 'reverse': 23904, 'political': 21152, 'earthquake': 9300, 'new': 18940, 'article': 1697, 'by': 3665, 'jonathan': 14704, 'malaise': 17001, 'cardiaque': 4015, 'télévisuel': 28564, 'direct': 7809, 'reviens': 23909, 'diffusion': 7667, 'images': 13383, 'classes': 4956, 'fermées': 10780, 'rentrée': 23553, 'rectorat': 23149, 'rep': 23572, 'crever': 6454, 'responsable': 23729, 'engagement': 9683, 'disparaître': 7893, 'inégalités': 14323, 'genre': 11895, 'ici': 13254, 'verts': 29062, 'allemands': 838, 'voient': 29401, 'chances': 4416, 'entrer': 9847, 'chancellerie': 4414, 'éloigner': 30329, 'secours': 25410, 'fous': 11324, 'prêt': 22237, 'perdre': 20511, 'ferais': 10756, 'vacciner': 28798, 'anesthésiste': 1130, 'aujourd': 2056, 'hui': 13082, 'petit': 20643, 'charles': 4503, 'ans': 1244, 'maladie': 16995, 'sang': 25086, 'pouvons': 21464, 'aider': 623, 'critique': 6496, 'géants': 12472, 'analysis': 1083, 'democrats': 7279, 'face': 10480, 'américains': 1071, 'appellent': 1420, 'éviter': 30635, 'laéroport': 15612, 'menaces': 17597, 'letat': 15812, 'islamique': 14389, 'cérémonie': 6788, 'dédicaces': 8714, 'littéraires': 16267, 'tourne': 28011, 'séquestration': 27249, 'principal': 21621, 'opposant': 19635, 'dette': 7452, 'fardeau': 10615, 'pauvres': 20361, 'africains': 517, 'est': 10038, 'pandémie': 19990, 're': 22989, 'pierre': 20767, 'ny': 19304, 'presque': 21563, 'mamadou': 17054, 'voudrait': 29498, 'continuer': 5965, 'travailler': 28230, 'otan': 19805, 'présence': 22154, 'armes': 1607, 'nucléaires': 19259, 'écrire': 30196, 'lu': 16549, 'public': 22295, 'cause': 4175, 'covid19': 6368, 'chiffre': 4639, 'forte': 11257, 'baisse': 2390, 'semaine': 25481, 'concerts': 5553, 'théâtre': 27755, 'humour': 13122, 'folle': 11133, 'culturelle': 6682, 'eureetloir': 10104, 'virus': 29287, 'test': 27620, 'suggests': 26870, 'transmission': 28188, 'pets': 20655, 'lindsay': 16135, 'lohan': 16377, 'sposa': 26490, 'con': 5528, 'bader': 2356, 'insieme': 13956, 'due': 8387, 'anni': 1195, 'létau': 16807, 'resserre': 23748, 'intellectuels': 14061, 'nobel': 19036, 'littérature': 16269, 'poursuivi': 21431, 'justice': 14885, 'mois': 18080, 'lentrée': 15764, 'vigueur': 29188, 'vaccins': 28805, 'pédiatriques': 22438, 'obligatoires': 19379, 'er': 9931, 'pouvoirs': 21463, 'pu': 22290, 'sylvain': 27114, 'fabre': 10465, 'capitaine': 3959, 'montrer': 18199, 'exemple': 10229, 'ar': 1520, 'français': 11409, 'éliminés': 30316, 'major': 16978, 'stockholm': 26663, 'chuté': 4776, 'plaint': 20920, 'temps': 27511, 'contrôle': 6039, 'feu': 10810, 'reparti': 23578, 'belle': 2719, 'haute': 12736, 'montagne': 18160, 'dafrique': 6859, 'commence': 5314, 'manu': 17160, 'payet': 20378, 'reconduit': 23094, 'saison': 24968, 'supplémentaire': 26936, 'matinale': 17430, 'virgin': 29271, 'radio': 22748, 'super': 26917, 'cache': 3745, 'film': 10897, 'royaume': 24253, 'astier': 1846, 'regarder': 23253, 'audelà': 2017, 'travail': 28225, 'médecins': 18570, 'these': 27682, 'styles': 26763, 'will': 29790, 'always': 937, 'iconic': 13257, 'maurice': 17463, 'mort': 18266, 'vivant': 29366, 'cœurs': 6805, 'lut': 16626, 'largentin': 15441, 'leipzig': 15700, 'tranchée': 28139, 'bernard': 2776, 'tapie': 27388, 'fils': 10911, 'stéphane': 26773, 'affecté': 469, 'père': 22423, 'part': 20172, 'douleur': 8251, 'émeut': 30362, 'république': 24638, 'expliquée': 10316, 'simone': 25869, 'veil': 28951, 'george': 11914, 'sand': 25080, 'beauvoir': 2670, 'difficile': 7653, 'trouver': 28384, 'autres': 2173, 'figures': 10873, 'féminines': 11634, 'en': 9591, 'industrie': 13723, 'aérienne': 2310, 'tourmente': 28004, 'frontières': 11505, 'rouvrent': 24236, 'eff': 9360, 'sortie': 26248, 'livre': 16287, 'militante': 17841, 'jacqueline': 14486, 'médias': 18576, 'sur': 26975, 'la': 15132, 'édition': 30225, 'bobards': 3077, 'or': 19673, 'tiendra': 27765, 'h30': 12559, 'gymnase': 12450, 'marie': 17238, 'bell': 2715, 'paris': 20116, 'florence': 11079, 'portelli': 21270, 'lr': 16543, 'laurent': 15538, 'wauquiez': 29683, 'candidat': 3913, 'numéro': 19287, 'dénonciation': 8960, 'amérique': 1073, 'latine': 15506, 'espaces': 9981, 'clos': 5028, 'partagés': 20183, 'impose': 13489, 'employeurs': 9555, 'salariés': 24996, 'elizabeth': 9449, 'ii': 13329, 'assistera': 1802, 'officielle': 19510, 'raison': 22781, 'inutiles': 14247, 'devenus': 7488, 'prendre': 21536, 'transports': 28203, 'rupture': 24316, 'stock': 26660, 'inadmissible': 13550, 'détestable': 9206, 'claude': 4966, 'choqué': 4715, 'kohlanta': 15090, 'dédition': 8717, 'proprio': 21931, 'dragon': 8288, 'ball': 2420, 'commencé': 5320, 'sauter': 25212, 'comptes': 5504, 'fleurs': 11050, 'hiver': 12912, 'variétés': 28917, 'planter': 20950, 'garder': 11773, 'lumineux': 16593, 'coloré': 5240, 'conseillère': 5783, 'municipale': 18426, 'porteuse': 21280, 'trisomie': 28321, 'fille': 10892, 'dynamique': 8468, 'aime': 651, 'le': 15623, 'tribune': 28291, 'question': 22610, 'pose': 21303, 'parlementaires': 20143, 'représentants': 23651, 'baule': 2616, 'maire': 16960, 'félicite': 11624, 'sébastien': 27176, 'rogues': 24122, 'name': 18735, 'was': 29668, 'john': 14682, 'laura': 15534, 'internet': 14124, 'gérard': 12530, 'comédien': 5524, 'fin': 10914, 'nom': 19065, 'réponse': 24627, 'jeunes': 14640, 'pris': 21638, 'cible': 4808, 'tireur': 27819, 'pied': 20762, 'dieudo': 7646, 'porte': 21264, 'plainte': 20921, 'etat': 10073, 'architectes': 1551, 'culture': 6680, 'construire': 5879, 'ponts': 21218, 'entre': 9836, 'donner': 8150, 'véritable': 29603, 'sentiment': 25546, 'satisfaction': 25174, 'artiste': 1714, 'instagram': 13988, 'avis': 2253, 'recherche': 23064, 'lancé': 15336, 'suspectée': 27071, 'avoir': 2261, 'mis': 17953, 'fast': 10639, 'food': 11191, 'période': 22480, 'applications': 1435, 'messageries': 17693, 'tournent': 28012, 'régime': 24523, 'pour': 21397, 'accidents': 161, 'domestiques': 8114, 'capacités': 3953, 'simple': 25870, 'symptôme': 27134, 'commande': 5302, 'moitié': 18083, 'leurope': 15831, 'îles': 30669, 'ras': 22904, 'une': 28643, 'eau': 9311, 'turquoise': 28484, 'paradis': 20044, 'menacé': 17598, 'ruffec': 24288, 'cycliste': 6737, 'tué': 28491, 'accident': 156, 'tenté': 27554, 'réanimer': 24403, 'vain': 28822, 'jeune': 14639, 'vaste': 28926, 'opération': 19666, 'antidrogue': 1282, 'bruxelles': 3549, 'centaine': 4263, 'perquisitions': 20562, 'viktor': 29195, 'orbán': 19687, 'abattage': 24, 'tsar': 28428, 'ross': 24184, 'invite': 14298, 'élu': 30332, 'porter': 21274, 'couilles': 6251, 'venir': 28988, 'concours': 5571, 'maine': 16941, 'libre': 15972, 'thierry': 27690, 'gomez': 12081, 'adn': 395, 'être': 30665, 'foot': 11193, 'amateur': 955, 'sergueï': 25591, 'lavrov': 15595, 'scénario': 25378, 'cauchemardesque': 4168, 'confrontation': 5683, 'militaire': 17837, 'revient': 23910, 'voix': 29421, 'cardinal': 4018, 'moral': 18234, 'perdu': 20513, 'oeil': 19480, 'partie': 20211, 'joue': 14730, 'victime': 29115, 'privées': 21670, 'petite': 20645, 'révolution': 24770, 'routes': 24227, 'françaises': 11411, 'plaisir': 20928, 'vii': 29191, 'série': 27255, 'quon': 22648, 'fasse': 10637, 'dessin': 7407, 'noublie': 19185, 'estce': 10043, 'syndrome': 27147, 'touche': 27964, 'enfants': 9657, 'retardement': 23807, 'évident': 30628, 'couvert': 6348, 'jeanpierre': 14595, 'sueur': 26853, 'sénateur': 27223, 'loiret': 16386, 'planche': 20933, 'billet': 2885, 'limites': 16083, 'fed': 10722, 'déclenche': 8609, 'inflation': 13796, 'galopante': 11724, 'quarantaine': 22559, 'cas': 4091, 'contact': 5904, 'variant': 28907, 'omicron': 19582, 'annonce': 1203, 'gouvernement': 12145, 'reims': 23286, 'musculaire': 18456, 'absent': 101, 'minima': 17897, 'jusquà': 14877, 'courant': 6296, 'ère': 30069, 'pères': 22424, 'perso': 20575, 'dérange': 9070, 'teste': 27622, 'effectivement': 9370, 'feature': 10718, 'demandée': 7258, 'nétait': 19357, 'da': 6808, 'paysbas': 20389, 'allemagne': 834, 'royaumeuni': 24254, 'détecté': 9184, 'deurope': 7458, 'supporter': 26942, 'tf1': 27646, 'salut': 25034, 'portrait': 21290, 'assassins': 1771, 'idéologie': 13301, 'fasciste': 10632, 'pourtant': 21435, 'talentueuse': 27356, 'chanteuse': 4444, 'marilia': 17248, 'mendonça': 17608, 'meurt': 17736, 'avion': 2251, 'neymar': 18958, 'pleure': 21008, 'amie': 1008, 'tri': 28283, 'victimes': 29116, 'indignation': 13688, 'géométrie': 12521, 'variable': 28906, 'étaientils': 30512, 'déf': 8726, 'routesidf': 24228, 'km': 15070, 'bouchons': 3226, 'sytadin': 27166, 'recevez': 23057, 'instantanément': 14008, 'dépêches': 9066, 'matières': 17438, 'premières': 21527, 'restrictions': 23790, 'fortes': 11260, 'les': 15782, 'opinion': 19626, 'impeachment': 13453, 'laffaire': 15212, 'monica': 18132, 'lewinsky': 15849, 'manquez': 17151, 'partenariat': 20188, 'sujet': 26900, 'dossier': 8215, 'élevages': 30299, 'vecteur': 28942, 'milliers': 17863, 'manifestants': 17110, 'défilé': 8772, 'rues': 24287, 'marseille': 17321, 'courage': 6293, 'für': 11660, 'ins': 13930, 'orf': 19716, 'startet': 26593, 'fabricant': 10466, 'voitures': 29420, 'taille': 27334, 'réunis': 24732, 'ai': 616, 'agressée': 594, 'sexuellement': 25692, 'âge': 30056, 'décidé': 8585, 'périple': 22486, 'brésilien': 3560, 'démocratie': 8920, 'assassinée': 1773, 'coup': 6275, 'état': 30522, 'élection': 30280, 'jair': 14505, 'personnage': 20581, 'bisexuel': 2935, 'mcu': 17524, 'marche': 17207, 'fiertés': 10856, 'virtuelles': 29282, 'allez': 845, 'diable': 7589, 'ferai': 10754, 'dose': 8212, 'piqûres': 20834, 'ont': 19605, 'valu': 28874, 'souffrir': 26286, 'semaines': 25482, 'épisodes': 30443, 'ausculte': 2093, 'relation': 23325, 'abusive': 122, 'professeure': 21753, 'lycée': 16645, 'élèves': 30339, 'memoria': 17588, 'weerasethakul': 29718, 'création': 6601, 'lobjet': 16322, 'action': 287, 'publiques': 22311, 'ce': 4213, 'savoureux': 25264, 'rappeler': 22872, 'produit': 21744, 'beaux': 2671, 'histoir': 12893, 'eurovision': 10125, 'junior': 14847, 'ambitieux': 975, 'programme': 21792, 'rêver': 24808, 'europe': 10112, 'pentagon': 20478, 'begins': 2691, 'preparing': 21548, 'for': 11201, 'mass': 17378, 'civil': 4896, 'with': 29822, 'illuminati': 13352, 'research': 23694, 'initiative': 13862, 'senate': 25504, 'republicans': 23665, 'challenge': 4373, 'biden': 2838, 'vaccine': 28796, 'mandate': 17076, 'yearold': 29940, 'louisiana': 16503, 'woman': 29835, 'becomes': 2681, 'first': 10979, 'her': 12821, 'age': 536, 'run': 24307, 'personnellement': 20591, 'sert': 25616, 'grand': 12193, 'chose': 4721, 'global': 12041, 'times': 27792, 'editor': 9348, 'says': 25269, 'wta': 29877, 'peng': 20453, 'china': 4660, 'tournament': 28008, 'suspension': 27084, 'anthony': 1254, 'renaudot': 23466, 'catégorie': 4163, 'essai': 10012, 'amende': 988, 'lanceuse': 15333, 'alerte': 747, 'révélé': 24788, 'pesticides': 20635, 'vins': 29230, 'certifiés': 4317, 'lhumanité': 15926, 'marchands': 17206, 'journaux': 14764, 'h00': 12547, 'ordinateur': 19699, 'lentraîneur': 15759, 'italien': 14442, 'sengager': 25516, 'tottenham': 27957, 'jour': 14747, 'ramadan': 22807, 'fixé': 11001, 'devait': 7471, 'oublier': 19819, 'désastre': 9113, 'dernière': 7366, 'problème': 21690, 'influenceuse': 13807, 'montre': 18197, 'cellulite': 4238, 'dénoncer': 8959, 'photos': 20726, 'parfaites': 20106, 'grève': 12338, 'dépôts': 9069, 'bus': 3638, 'iledefrance': 13338, 'château': 4781, 'recrudescence': 23134, 'prennent': 21543, 'lavion': 15586, 'chevaux': 4613, 'miniatures': 17894, 'besoin': 2792, 'motivation': 18306, 'gourmandise': 12128, 'envie': 9877, 'lever': 15838, 'vaccin': 28787, 'léchec': 16692, 'sanofi': 25104, 'macronie': 16858, 'réplique': 24613, 'lfi': 15893, 'five': 10996, 'anyone': 1351, 'hautes': 12741, 'promenades': 21843, 'succès': 26827, 'angers': 1141, 'condamné': 5592, 'agression': 589, 'sexuelle': 25691, 'voisins': 29417, 'ca': 3728, 'ouais': 19813, 'parlé': 20155, 'amazon': 959, 'avec': 2221, 'accent': 140, 'vient': 29160, 'switch': 27108, 'oled': 19553, 'argent': 1578, 'tester': 27625, 'prochain': 21703, 'bébé': 3680, 'nintendo': 19011, 'infographie': 13813, 'propriétaires': 21933, 'dirigeants': 7828, 'groupe': 12325, 'monde': 18116, 'daprès': 7014, 'davant': 7113, 'sembrase': 25491, 'brutalement': 3543, 'lautoroute': 15559, 'morts': 18281, 'bulgarie': 3602, 'reçoit': 23939, 'heures': 12844, 'crystal': 6587, 'calais': 3795, 'migrants': 17810, 'lancer': 15328, 'bébés': 3681, 'police': 21138, 'française': 11410, 'partir': 20218, 'déambulation': 8483, 'historique': 12901, 'robert': 24076, 'cours': 6319, 'lhistoire': 15911, 'h05': 12548, 'souffle': 26276, 'bougies': 3245, 'ouverture': 19865, 'festival': 10805, 'dorange': 8180, 'jai': 14499, 'ancien': 1100, 'sdf': 25382, 'raconte': 22719, 'histoire': 12894, 'demande': 7247, 'experts': 10299, 'heure': 12843, 'présente': 22161, 'doute': 8259, 'musique': 18470, 'marketing': 17273, 'hervé': 12838, 'lamour': 15312, 'pré': 22044, 'complètement': 5452, 'stéphanie': 26774, 'sorti': 26247, 'lalbum': 15275, 'dc': 7136, 'outsider': 19859, 'ep': 9915, 'bidens': 2839, 'town': 28037, 'hall': 12636, 'nothing': 19170, 'short': 25757, 'of': 19485, 'feng': 10748, 'shui': 25773, 'harmonisation': 12712, 'conseils': 5785, 'établissements': 30506, 'hautecorse': 12737, 'fermés': 10781, 'nonrespect': 19098, 'mesures': 17706, 'sanitaires': 25100, 'sagit': 24890, 'bars': 2539, 'info': 13812, 'emplois': 9551, 'créés': 6630, 'site': 25950, 'usine': 28741, 'the': 27665, 'delta': 7235, 'explained': 10301, 'devinette': 7505, 'écrit': 30198, 'juif': 14821, 'manière': 17130, 'juive': 14825, 'frédérique': 11518, 'vidal': 29127, 'plan': 20931, 'national': 18797, 'lutter': 16634, 'sexistes': 25674, 'université': 28680, 'my': 18500, 'brain': 3369, 'is': 14379, 'broken': 3499, 'femme': 10744, 'décède': 8705, 'percutée': 20499, 'véhicule': 29583, 'route': 24226, 'chine': 4662, 'heurte': 12848, 'censure': 4251, 'ligne': 16040, 'henri': 12818, 'ford': 11219, 'héros': 13208, 'américain': 1068, 'inspiré': 13981, 'hitler': 12907, 'incidents': 13598, 'répétition': 24646, 'début': 8525, 'joe': 14670, 'annule': 1226, 'interdiction': 14089, 'personnes': 20594, 'trans': 28145, 'servir': 25633, 'armée': 1616, 'américaine': 1069, 'demain': 7240, 'direction': 7814, 'portovecchio': 21289, 'revivre': 23922, 'aventure': 2225, 'mouton': 18351, 'aïd': 2321, 'étiquette': 30553, 'carcasse': 4009, 'dira': 7803, 'êtes': 30662, 'vérifiez': 29600, 'donc': 8138, 'roux': 24240, 'bézieux': 3714, 'croit': 6530, 'emploi': 9549, 'nest': 18898, 'impossible': 13495, 'lélectricité': 16759, 'linquiétude': 16169, 'industriels': 13727, 'monte': 18177, 'challenges': 4375, 'croire': 6512, 'quau': 22574, 'privé': 21668, 'équipements': 30479, 'publics': 22302, 'prédateurs': 22083, 'versé': 29049, 'millions': 17868, 'meghan': 17561, 'markle': 17275, 'piège': 20872, 'commerçants': 5342, 'caméra': 3881, 'cachée': 3753, 'avez': 2243, 'nouvelle': 19212, 'recrue': 23135, 'dune': 8402, 'grande': 12195, 'qualité': 22549, 'cc': 4202, 'trump': 28408, 'win': 29798, 'financial': 10931, 'markets': 17274, 'what': 29750, 'next': 18955, 'planètes': 20956, 'potentiellement': 21363, 'lintérêt': 16202, 'découverte': 8668, 'reçu': 23941, 'double': 8233, 'vacci': 28785, 'rendue': 23501, 'peuple': 20658, 'communiquer': 5371, 'expliquer': 10313, 'exigence': 10253, 'démocratique': 8922, 'me': 17530, 'wiener': 29777, 'incarnation': 13572, 'mémorable': 18625, 'fatale': 10644, 'lâge': 16679, 'dor': 8179, 'cinéma': 4839, 'hollywoodien': 12938, 'lana': 15322, 'turner': 28478, 'films': 10905, 'aides': 626, 'avezvous': 2244, 'droit': 8350, 'surmonter': 27001, 'bourse': 3305, 'vraie': 29543, 'déroute': 9099, 'rendezvous': 23493, 'célèbre': 6771, 'robots': 24087, 'offre': 19519, 'séries': 27256, 'cultes': 6675, 'journal': 14752, 'lili': 16056, 'excuse': 10216, 'postée': 21348, 'racistes': 22710, 'nantes': 18751, 'opposants': 19636, 'projet': 21823, 'arbre': 1535, 'créent': 6617, 'plateforme': 20971, 'programmation': 21791, 'spéciale': 26511, 'commune': 5365, 'rater': 22934, 'accompagner': 169, 'émissions': 30375, 'horssérie': 13026, 'alertefrancecoronavirus': 750, 'conseil': 5777, 'maintien': 16956, 'vaincu': 28824, 'cancer': 3903, 'prostate': 21946, 'pernaut': 20552, 'poumon': 21391, 'lentreprise': 15761, 'allemande': 836, 'point': 21100, 'idéale': 13296, 'zones': 30036, 'extrêmement': 10438, 'chaudes': 4537, 'génération': 12501, 'sciences': 25331, 'devoir': 7509, 'décisions': 8591, 'difficiles': 7655, 'réforme': 24500, 'retraites': 23847, 'visée': 29335, 'dire': 7807, 'école': 30142, 'maternelle': 17413, 'convertie': 6064, 'ambiance': 968, 'covid': 6366, 'lallemagne': 15280, 'dépasse': 8986, 'collectionneurs': 5170, 'prestigieux': 21583, 'galerie': 11710, 'animal': 1159, 'fabuleux': 10478, 'medvedev': 17554, 'juifs': 14822, 'réouverture': 24595, 'synagogue': 27137, 'ultralibéral': 28623, 'trouve': 28382, 'mieux': 17796, 'mélenchon': 18618, 'année': 1234, 'philo': 20702, 'consacre': 5764, 'entièrement': 9811, 'journalisme': 14755, 'participe': 20201, 'sp': 26409, 'équation': 30470, 'transformant': 28157, 'probabilité': 21680, 'statistique': 26608, 'investi': 14269, 'misère': 17977, 'humaine': 13093, 'engendrer': 9693, 'arizona': 1590, 'étudiants': 30592, 'blancs': 2988, 'contraints': 5995, 'quitter': 22641, 'bibliothèque': 2829, 'multiculturelle': 18406, 'noël': 19242, 'produits': 21747, 'vendus': 28979, 'bon': 3132, 'papier': 20024, 'chaud': 4535, 'best': 2795, 'full': 11552, 'confirme': 5652, 'quune': 22661, 'retraite': 23846, 'points': 21105, 'envisagée': 9893, 'invitée': 14303, 'organisait': 19723, 'laurie': 15539, 'lumières': 16595, 'ténèbres': 28581, 'découvrez': 8676, 'épisode': 30442, 'podcast': 21076, 'recevons': 23059, 'avocat': 2256, 'barreau': 2529, 'eelv': 9358, 'ps': 22250, 'rendu': 23500, 'martine': 17334, 'aubry': 2007, 'pendant': 20448, 'on': 19588, 'éric': 30491, 'délaisse': 8832, 'rachète': 22698, 'informations': 13819, 'financières': 10936, 'investors': 14290, 'business': 3640, 'daily': 6875, 'dollars': 8101, 'via': 29091, 'études': 30588, 'conduites': 5616, 'soutien': 26379, 'montrant': 18196, 'atteintes': 1933, 'troubles': 28372, 'mentaux': 17631, 'civilisation': 4901, 'éditions': 30226, 'limitées': 16087, 'nouvel': 19210, 'album': 728, 'orelsan': 19714, 'déjà': 8828, 'fortune': 11264, 'fascisme': 10631, 'néo': 19343, 'libéralisme': 15989, 'ultime': 28618, 'sondages': 26189, 'détesté': 9211, 'marine': 17252, 'pen': 20437, 'comble': 5275, 'africain': 514, 'nerveux': 18896, 'saura': 25205, 'bientôt': 2856, 'family': 10591, 'abuse': 119, 'at': 1876, 'rock': 24101, 'band': 2451, 'cayenne': 4197, 'passant': 20255, 'moussa': 18346, 'cuisinier': 6655, 'âgées': 30060, 'ville': 29208, 'veut': 29084, 'détruire': 9233, 'application': 1434, 'jolies': 14699, 'dents': 7333, 'oui': 19830, 'grâce': 12336, 'ermite': 9941, 'sauvage': 25214, 'fou': 11280, 'mauvais': 17471, 'élève': 30337, 'terme': 27565, 'population': 21233, 'vaccinale': 28789, 'cru': 6560, 'acheter': 247, 'mèmes': 18535, 'était': 30514, 'économique': 30158, 'viable': 29092, 'donne': 8148, 'parole': 20162, 'ordinaires': 19698, 'pointe': 21101, 'lancien': 15334, 'directeur': 7812, 'rédactions': 24468, 'du': 8374, 'lécole': 16698, 'toujour': 27980, 'papillons': 20029, 'venus': 29000, 'poser': 21305, 'murs': 18448, 'déchirant': 8572, 'nobody': 19039, 'but': 3649, 'sincère': 25895, 'leonardo': 15774, 'robot': 24085, 'volant': 29425, 'marcher': 17209, 'videos': 29131, 'circulation': 4860, 'commerces': 5333, 'activent': 295, 'venue': 28998, 'merkel': 17673, 'crie': 6464, 'désarroi': 9112, 'hommesfemmes': 12960, 'bac': 2334, 'redouté': 23195, 'oral': 19678, 'fond': 11155, 'profs': 21786, 'ann': 1185, 'rage': 22761, 'gauchistes': 11827, 'bbc': 2633, 'accord': 176, 'financier': 10932, 'graphiste': 12218, 'écarté': 30083, 'dénoncé': 8962, 'méthodes': 18666, 'trompeuse': 28347, 'anniversaire': 1198, 'charte': 4516, 'occasion': 19434, 'des': 7372, 'touch': 27960, 'id': 13264, 'liphone': 16221, 'rapport': 22886, 'mark': 17271, 'bloomberg': 3041, 'apple': 1431, 'manifestation': 17111, 'nonlieu': 19097, 'femen': 10741, 'fourest': 11300, 'normalement': 19130, 'cakes': 3794, 'h40': 12562, 'région': 24526, 'hautsdefrance': 12752, 'lélection': 16757, 'préside': 22181, 'pressions': 21572, 'rythme': 24349, 'consultation': 5888, 'menée': 17649, 'met': 17708, 'lumière': 16594, 'gironde': 12001, 'macau': 16842, 'absurde': 113, 'voyage': 29518, 'courriers': 6318, 'this': 27700, 'movie': 18365, 'um': 28629, 'aller': 840, 'mer': 17653, 'sélection': 27210, 'bord': 3181, 'faite': 10544, 'bulletin': 3607, 'territoriales': 27599, 'corse': 6196, 'western': 29746, 'civilization': 4904, 'white': 29765, 'contient': 5956, 'message': 17690, 'savoir': 25255, 'intox': 14191, 'mediapart': 17546, 'publie': 22303, 'chèques': 4790, 'secrètement': 25422, 'françois': 11413, 'fillon': 10896, 'sûr': 27283, 'sappellent': 25134, 'vrais': 29547, 'savent': 25243, 'débat': 8495, 'bfmtv': 2817, 'prats': 21506, 'cité': 4893, 'zemmour': 30012, 'factchecking': 10503, 'bfm': 2816, 'entend': 9780, 'voit': 29418, 'rififi': 23985, 'saintdenis': 24915, 'échos': 30110, 'cannabis': 3927, 'belgique': 2710, 'maggie': 16893, 'block': 3023, 'ouvre': 19871, 'légalisation': 16721, 'expert': 10295, 'bienêtre': 2862, 'révèle': 24779, 'meilleures': 17569, 'astuces': 1868, 'poids': 21083, 'été': 30598, 'dr': 8284, 'fauci': 10658, 'josef': 14717, 'hit': 12905, 'résonne': 24697, 'jeu': 14635, 'presseocéan': 21568, 'téléthon': 28557, 'événements': 30658, 'préparation': 22140, 'météo': 18680, 'éclaircies': 30121, 'passages': 20251, 'nuageux': 19254, 'trafic': 28087, 'quasi': 22567, 'fluide': 11101, 'peine': 20420, 'ecoutez': 9335, 'weekend': 29713, 'chronique': 4752, 'science': 25328, 'michel': 17767, 'chartres': 4517, 'hand': 12666, 'co': 5068, 'match': 17403, 'arn': 1623, 'messager': 17691, 'donald': 8133, 'lance': 15325, 'propre': 21926, 'réseau': 24657, 'social': 26054, 'court': 6324, 'dinspiration': 7759, 'rue': 24284, 'cette': 4336, 'indemnité': 13666, 'gaz': 11845, 'quil': 22624, 'retenir': 23811, 'annonces': 1208, 'jean': 14571, 'castex': 4131, 'jt': 14788, 'fonction': 11143, 'publique': 22309, 'cour': 6292, 'arrêts': 1683, 'courte': 6325, 'durée': 8448, 'crises': 6483, 'migratoires': 17814, 'uniquement': 28659, 'états': 30525, 'faillite': 10528, 'guerres': 12368, 'seinemaritime': 25457, 'socialiste': 26061, 'interpellée': 14132, 'cadre': 3764, 'filet': 10884, 'our': 19833, 'bumper': 3612, 'edition': 9345, 'includes': 13610, 'two': 28513, 'great': 12250, 'pullouts': 22345, 'and': 1111, 'glossy': 12050, 'tv': 28495, 'mag': 16884, 'envisager': 9891, 'réguler': 24546, 'critiques': 6499, 'sattaquer': 25183, 'surpuissant': 27020, 'que': 22581, 'insolite': 13963, 'cerf': 4297, 'balade': 2398, 'belfort': 2707, 'communication': 5367, 'très': 28421, 'sortira': 26251, 'payé': 20390, 'gagner': 11692, 'matches': 17405, 'joueurs': 14739, 'boîte': 3352, 'ja': 14476, 'digital': 7679, 'réduit': 24480, 'discussions': 7871, 'permanent': 20536, 'prise': 21639, 'compte': 5499, 'invisibles': 14293, 'contrôlées': 6047, 'kmh': 15071, 'saisies': 24961, 'élues': 30334, 'engagements': 9684, 'otage': 19803, 'lécologie': 16699, 'russian': 24333, 'girls': 11999, 'sing': 25903, 'beautiful': 2663, 'folk': 11131, 'song': 26194, 'about': 85, 'love': 16526, 'video': 29130, 'gagne': 11690, 'tesla': 27617, 'gros': 12307, 'légal': 16717, 'astroworld': 1866, 'investigation': 14275, 'fbi': 10705, 'provide': 22009, 'added': 341, 'in': 13542, 'ongoing': 19599, 'probe': 21686, 'former': 11243, 'agent': 544, 'soignants': 26101, 'sanitaire': 25099, 'los': 16471, 'angeles': 1136, 'coronavirus': 6166, 'publié': 22313, 'facebook': 10481, 'hommage': 12955, 'invalides': 14250, 'jeanpaul': 14593, 'belmondo': 2727, 'partis': 20220, 'fantôme': 10607, 'pari': 20112, 'défis': 8781, 'pascal': 20244, 'devrait': 7516, 'autorisé': 2156, 'aujourdh': 2057, 'ramène': 22824, 'tour': 27992, 'délicieux': 8847, 'devenir': 7484, 'continuera': 5966, 'de': 7138, 'bleu': 3008, 'record': 23125, 'club': 5040, 'domicile': 8115, 'compétitions': 5517, 'condamnés': 5595, 'meurtre': 17738, 'malcolm': 17009, 'innocentés': 13892, 'assassinat': 1768, 'ro': 24068, 'olive': 19559, 'deau': 7153, 'secrets': 25420, 'beauté': 2665, 'jennifer': 14607, 'lopez': 16431, 'air': 668, 'repartir': 23580, 'train': 28106, 'primeurs': 21610, 'jury': 14866, 'revue': 23928, 'christophe': 4746, 'barbier': 2508, 'désigné': 9133, 'personnalité': 20586, 'politique': 21164, 'brillé': 3466, 'par': 20037, 'infos': 13829, 'commencer': 5317, 'journée': 14767, 'panne': 19999, 'géante': 12470, 'serveurs': 25624, 'maxime': 17482, 'blasco': 2991, 'soldat': 26126, 'mali': 17027, 'apprécié': 1493, 'lettre': 15821, 'boris': 3193, 'johnson': 14685, 'adressée': 427, 'gauchisme': 11825, 'nihiliste': 18998, 'vaccinée': 28807, 'barack': 2493, 'obama': 19364, 'lactivité': 15186, 'entraîné': 9835, 'modifications': 18053, 'comportement': 5461, 'oiseaux': 19541, 'line': 16139, 'renaud': 23465, 'évoque': 30647, 'candidature': 3918, 'demmanuel': 7275, 'im': 13379, 'autriche': 2176, 'sebastian': 25396, 'kurz': 15119, 'retire': 23819, 'peter': 20639, 'gestorben': 11934, 'escroc': 9974, 'tort': 27936, 'profession': 21756, 'entière': 9810, 'jacques': 14487, 'dutronc': 8459, 'partent': 20190, 'ensemble': 9768, 'tournée': 28018, 'panique': 19997, 'fracture': 11342, 'veille': 28952, 'tournage': 28005, 'su': 26780, 'monster': 18150, 'enough': 9729, 'said': 24899, 'protégé': 21985, 'bienpensance': 2854, 'samuel': 25063, 'paty': 20351, 'collège': 5195, 'provoque': 22023, 'incident': 13597, 'pitoyable': 20861, 'clavier': 4975, 'utilise': 28764, 'améliorer': 1057, 'saisie': 24960, 'précédent': 22077, 'portes': 21277, 'palais': 19956, 'bourbon': 3285, 'nicematin': 18970, 'notredame': 19181, 'quit': 22635, 'canal': 3890, 'ciné': 4836, 'anime': 1174, 'décès': 8707, 'bondi': 3138, 'guadeloupe': 12349, 'martinique': 17338, 'rénovation': 24589, 'bourgogne': 3297, 'portée': 21297, 'habitants': 12583, 'soirée': 26114, 'alternatifs': 928, 'acrimed': 277, 'mouais': 18320, 'amp': 1036, 'républicains': 24637, 'militants': 17844, 'voler': 29435, 'congrès': 5705, 'peu': 20656, 'carnet': 4048, 'campagne': 3865, 'christine': 4743, 'clerc': 4981, 'atil': 1887, 'chance': 4411, 'primer': 21608, 'chicago': 4628, 'blues': 3055, 'concert': 5551, 'guérigny': 12438, 'fake': 10555, 'news': 18943, 'madame': 16867, 'visiteurs': 29322, 'larc': 15429, 'triomphe': 28317, 'empaqueté': 9538, 'œuvre': 30677, 'posthume': 21338, 'christo': 4745, 'prévu': 22232, 'assure': 1836, 'gabriel': 11673, 'attal': 1916, 'time': 27790, 'étranges': 30575, 'résultats': 24701, 'officiels': 19513, 'élections': 30281, 'présidentielles': 22190, 'ivoire': 14460, 'squat': 26531, 'avenue': 2229, 'délai': 8830, 'accordé': 182, 'expulsion': 10387, 'acceptent': 147, 'horreur': 13013, 'perdus': 20518, 'ticket': 27762, 'trouvé': 28392, 'banques': 2480, 'centrales': 4276, 'régionales': 24529, 'américaines': 1070, 'actionnaires': 289, 'présidentielle': 22189, 'honduras': 12973, 'candidate': 3914, 'gauche': 11821, 'tous': 28023, 'avenir': 2223, 'professeur': 21752, 'delfraissy': 7215, 'reprise': 23634, 'ambition': 976, 'intime': 14178, 'marlène': 17279, 'schiappa': 25306, 'fausse': 10669, 'couche': 6241, 'lémission': 16771, 'besançon': 2791, 'tentative': 27548, 'suicide': 26877, 'mentalement': 17627, 'bout': 3318, 'vert': 29053, 'montpellier': 18193, 'commando': 5308, 'saccage': 24834, 'stationnement': 26603, 'trouvez': 28390, 'naufrage': 18820, 'meurtrier': 17742, 'large': 15438, 'manifestations': 17112, 'american': 998, 'music': 18461, 'sens': 25520, 'dignité': 7686, 'finir': 10952, 'chroniqueur': 4754, 'hanouna': 12681, 'rassurezvous': 22927, 'rencontres': 23476, 'photographie': 20719, 'reviennent': 23908, 'jusqu': 14870, 'au': 1999, 'pourront': 21425, 'découvrir': 8679, 'panel': 19993, 'préoccupe': 22132, 'assises': 1793, 'aube': 2002, 'prison': 21642, 'octogénaire': 19464, 'accusé': 230, 'viol': 29236, 'petitefille': 20646, 'vrac': 29541, 'supermarchés': 26926, 'sontils': 26211, 'vraiment': 29546, 'aprem': 1506, 'deck': 7172, 'surpris': 27015, 'worlds': 29858, 'stream': 26705, 'avancé': 2205, 'superbe': 26918, 'manette': 17084, 'xbox': 29889, 'halo': 12645, 'infinite': 13788, 'précommande': 22071, 'micromania': 17781, 'tou': 27958, 'tu': 28435, 'envoyées': 9911, 'enseignants': 9759, 'marseillais': 17318, 'lemoine': 15711, 'étapes': 30521, 'haut': 12735, 'rapides': 22865, 'départ': 8976, 'course': 6320, 'légende': 16729, 'accusations': 222, 'exdirigeant': 10223, 'chinois': 4664, 'courriel': 6316, 'attribué': 1993, 'joueuse': 14740, 'shuai': 25772, 'soulève': 26313, 'exclusives': 10207, 'batman': 2595, 'flash': 11032, 'black': 2964, 'adam': 328, 'futurs': 11601, 'projets': 21826, 'nonvaccinés': 19107, 'multiplient': 18416, 'travers': 28243, 'rebond': 23019, 'faillites': 10529, 'agoravox': 575, 'média': 18572, 'citoyen': 4883, 'auprès': 2065, 'pleurer': 21010, 'procès': 21718, 'attentats': 1956, 'novem': 19224, 'primaire': 21602, 'écologiste': 30150, 'yannick': 29930, 'jadot': 14495, 'favori': 10686, 'hollande': 12936, 'bonjour': 3151, 'désolé': 9150, 'silence': 25843, 'raisons': 22785, 'nombre': 19071, 'johns': 14684, 'hopkins': 13002, 'luniversité': 16615, 'telaviv': 27490, 'lancent': 15327, 'détudes': 9243, 'conjoint': 5710, 'ukraine': 28610, 'poutine': 21451, 'accuse': 225, 'loccident': 16344, 'tensions': 27542, 'california': 3809, 'eye': 10451, 'long': 16409, 'game': 11733, 'delay': 7210, 'military': 17845, 'program': 21790, 'propos': 21908, 'déric': 9078, 'vichy': 29109, 'relèvent': 23375, 'révisionnisme': 24758, 'lantisémitisme': 15383, 'traditionnel': 28074, 'jen': 14604, 'marre': 17311, 'davoir': 7127, 'impact': 13442, 'écologique': 30148, 'tourisme': 27997, 'spatial': 26423, 'barça': 2543, 'meilleur': 17567, 'buteur': 3650, 'suisse': 26884, 'arthur': 1694, 'attaquant': 1918, 'international': 14116, 'actuel': 319, 'suscitent': 27060, 'craintes': 6421, 'austin': 2097, 'james': 14521, 'gordon': 12102, 'profite': 21769, 'transport': 28197, 'maritime': 17262, 'investir': 14279, 'ports': 21292, 'terrorisme': 27606, 'traversée': 28250, 'vengeance': 28985, 'notion': 19174, 'angle': 1146, 'blue': 3054, 'déceptions': 8555, 'kate': 14957, 'middleton': 17789, 'favorite': 10693, 'reine': 23288, 'bellac': 2717, 'learn': 15635, 'from': 11492, 'footballeur': 11196, 'buts': 3653, 'stade': 26553, 'brouillard': 3518, 'lactualité': 15189, 'leffet': 15676, 'écran': 30186, 'fumée': 11563, 'chasse': 4519, 'lautre': 15560, 'rdv': 22988, 'facilement': 10492, 'originale': 19757, 'sucre': 26831, 'faites': 10546, 'rôle': 24814, 'daider': 6870, 'touchés': 27974, 'largent': 15440, 'contr': 5976, 'fire': 10970, 'hole': 12930, 'ado': 397, 'blessé': 3004, 'œil': 30674, 'canne': 3928, 'pêche': 22506, 'lannion': 15365, 'rtl': 24268, 'maltraitance': 17042, 'animale': 1160, 'lens': 15745, 'nouveauté': 19207, 'suisje': 26883, 'cartier': 4080, 'remy': 23455, 'dêtre': 9288, 'optimiste': 19655, 'olivier': 19563, 'véran': 29594, 'suivez': 26892, 'interview': 14172, 'glasgow': 12028, 'eurodéputé': 10106, 'reconnaît': 23110, 'chemin': 4580, 'droite': 8351, 'déchire': 8574, 'présidence': 22183, 'lamf': 15307, 'muselier': 18458, 'envoyé': 9909, 'maires': 16961, 'david': 7121, 'pouvoir': 21462, 'reprendre': 23626, 'habitudes': 12593, 'profiter': 21771, 'marché': 17212, 'retour': 23833, 'élus': 30335, 'rejoignent': 23303, 'édouard': 30234, 'philippe': 20695, 'pas': 20243, 'l214': 15131, 'dénonce': 8957, 'scandale': 25284, 'élevage': 30298, 'poules': 21385, 'algues': 779, 'vertes': 29055, 'faute': 10674, 'inexcusable': 13754, 'employeur': 9554, 'létrange': 16813, 'capitale': 3961, 'reportage': 23598, 'emmanuelle': 9524, 'maîtresse': 17499, 'conférence': 5694, 'politiques': 21166, 'parti': 20192, 'lheure': 15906, 'grandes': 12198, 'soirées': 26115, 'denvoi': 7337, 'dément': 8900, 'plans': 20945, 'invasion': 14251, 'rejoigneznous': 23305, 'telegram': 27493, 'lives': 16280, 'matter': 17447, 'hongrois': 12978, 'devant': 7475, 'dieu': 7645, 'patrie': 20330, 'quils': 22625, 'etatsunis': 10075, 'tir': 27810, 'mortel': 18270, 'rust': 24337, 'alec': 742, 'baldwin': 2412, 'coupable': 6276, 'infarctus': 13763, 'vosgien': 29473, 'témoigne': 28574, 'rassemblement': 22913, 'chute': 4772, 'scooter': 25350, 'conducteurs': 5608, 'verbalisés': 29009, 'ignace': 13312, 'patriotisme': 20336, 'youssoupha': 29977, 'fautil': 10678, 'publier': 22305, 'découvertes': 8669, 'death': 7150, 'directors': 7820, 'cut': 6713, 'ps5': 22252, 'nouveaux': 19209, 'prothèses': 21972, 'devenue': 7486, 'vi': 29090, 'mettre': 17726, 'rules': 24302, 'thee': 27667, 'busts': 3648, 'date': 7065, 'night': 18992, 'italie': 14440, 'italiens': 14445, 'pape': 20019, 'bergoglio': 2767, 'ennemi': 9720, 'quelquun': 22596, 'féministe': 11639, 'inscrite': 13939, 'plongeon': 21029, 'cœur': 6804, 'forêt': 11269, 'musée': 18483, 'tuchel': 28442, 'pensée': 20476, 'lâche': 16672, 'grosses': 12311, 'confidences': 5631, 'inès': 14314, 'amel': 986, 'bent': 2753, 'miss': 17965, 'dévoilé': 9273, 'expulsée': 10390, 'restaurant': 23764, 'trouvent': 28383, 'tenue': 27558, 'explicite': 10306, 'jetez': 14626, 'doeil': 8068, 'nos': 19153, 'actions': 290, 'pma': 21064, 'peutêtre': 20667, 'esprit': 9997, 'totalitaire': 27951, 'emparé': 9542, 'no': 19033, 'pensez': 20468, 'équiper': 30480, 'déplacements': 9015, 'moment': 18099, 'violent': 29248, 'enceinte': 9599, 'loi': 16378, 'absente': 102, 'pédagogie': 22433, 'étonner': 30566, 'el': 9422, 'pauvre': 20360, 'institut': 14019, 'vitesse': 29348, 'propagation': 21891, 'stable': 26551, 'lesprit': 15797, 'dialogues': 7605, 'citoyens': 4887, 'prestation': 21579, 'général': 12489, 'savezvous': 25247, 'fondre': 11174, 'doubler': 8235, 'image': 13381, 'suggère': 26871, 'améliorations': 1055, 'permettre': 20548, 'placés': 20900, 'sest': 25640, 'tapé': 27391, 'meeting': 17556, 'valérie': 28878, 'pécresse': 22432, 'remède': 23456, 'parfait': 20103, 'sommeil': 26176, 'soutiennent': 26382, 'militaires': 17839, 'signé': 25836, 'publiée': 22314, 'valeurs': 28847, 'actuelles': 322, 'chaos': 4453, 'éclaté': 30135, 'parlement': 20141, 'passeports': 20264, 'vaccinaux': 28795, 'nationaux': 18805, 'bonne': 3154, 'sannonce': 25102, 'totalement': 27949, 'matchs': 17407, 'enchaîne': 9602, 'dérapages': 9074, 'animaux': 1173, 'société': 26079, 'eaux': 9312, 'innove': 13900, 'technique': 27469, 'inédite': 14316, 'détection': 9181, 'blanche': 2981, 'enzo': 9914, 'décédé': 8709, 'inceste': 13593, 'réunion': 24727, 'voudrais': 29497, 'psg': 22259, 'nordiste': 19121, 'kheira': 15012, 'hamraoui': 12662, 'barre': 2528, 'fer': 10752, 'coéquipière': 6382, 'arrêtée': 1685, 'centrale': 4275, 'photovoltaïque': 20728, 'sol': 26121, 'rhône': 23955, 'sinstaller': 25926, 'governor': 12159, 'gavin': 11840, 'newsom': 18945, 'has': 12720, 'signed': 25822, 'san': 25068, 'francisco': 11388, 'state': 26599, 'senator': 25505, 'scott': 25359, 'bill': 2883, 'adult': 432, 'bitcoin': 2944, 'receives': 23038, 'upgrade': 28696, 'years': 29942, 'candidatures': 3919, 'communes': 5366, 'permettent': 20544, 'petits': 20651, 'recevoir': 23058, 'compétition': 5516, 'bouge': 3241, 'mets': 17715, 'balle': 2423, 'clair': 4915, 'essaie': 10013, 'justicier': 14886, 'house': 13056, 'dems': 7289, 'last': 15492, 'you': 29965, 'off': 19487, 'chiefs': 4632, 'raiders': 22767, 'patriots': 20337, 'week': 29712, 'picks': 20754, 'allais': 823, 'eric': 9936, 'israël': 14425, 'déserte': 9119, 'champ': 4395, 'bataille': 2585, 'récente': 24417, 'décision': 8590, 'nombreu': 19073, 'chrétiens': 4763, 'orient': 19746, 'naufragés': 18821, 'compassion': 5413, 'sélective': 27219, 'délicat': 8840, 'rai': 22765, 'services': 25628, 'renseignement': 23539, 'demeurent': 7263, 'incapables': 13567, 'ovnis': 19895, 'plupart': 21048, 'oppo': 19630, 'grosse': 12310, 'excellent': 10181, 'mobile': 18010, 'moyens': 18373, 'statut': 26619, 'puissance': 22332, 'éducative': 30239, 'industrielle': 13725, 'agricole': 598, 'objectif': 19370, 'seuls': 25657, 'employés': 9559, 'femmes': 10745, 'susciter': 27061, 'vocations': 29388, 'changer': 4425, 'vaucluse': 28932, 'avignon': 2250, 'roule': 24207, 'permis': 20550, 'pleine': 21003, 'magasins': 16888, 'proposant': 21911, 'composant': 5466, 'stupéfiant': 26757, 'développent': 9256, 'publication': 22296, 'guerre': 12367, 'marque': 17294, 'x4': 29886, 'appartenant': 1401, 'stellantis': 26634, 'pickup': 20755, 'laméricaine': 15319, 'doté': 8223, 'diesel': 7643, 'sans': 25105, 'scientists': 25339, 'world': 29857, 'ever': 10142, 'thanks': 27656, 'copié': 6120, 'rouennaise': 24199, 'homeland': 12949, 'security': 25438, 'potential': 21360, 'domestic': 8112, 'violence': 29246, 'just': 14879, 'days': 7133, 'ago': 572, 'détat': 9176, 'prisonniers': 21644, 'libérés': 15996, 'accueillis': 216, 'liesse': 16022, 'populaire': 21228, 'tables': 27302, 'belges': 2709, 'meilleurs': 17570, 'restaurants': 23765, 'destituer': 7430, 'rattrapée': 22949, 'vite': 29347, 'fort': 11255, 'indépendant': 13739, 'bordeaux': 3182, 'annoncer': 1205, 'célébrer': 6777, 'toutes': 28029, 'chambres': 4390, 'voie': 29400, 'vit': 29338, 'porté': 21296, 'communiste': 5376, 'membres': 17586, 'bases': 2553, 'loukachenko': 16505, 'jim': 14653, 'bauer': 2614, 'voice': 29397, 'demandé': 7257, 'checker': 4561, 'réseaux': 24658, 'sociaux': 26064, 'lhumoriste': 15928, 'gaëtan': 11856, 'matis': 17435, 'souhaite': 26292, 'massacre': 17379, 'deric': 7359, 'supporters': 26943, 'djihadistes': 8026, 'parc': 20073, 'inauguré': 13562, 'twitch': 28510, 'scroll': 25368, 'livraisons': 16286, 'doses': 8214, 'vaccination': 28793, 'lève': 16684, 'déployer': 9027, 'pérou': 22490, 'manifeste': 17113, 'dictature': 7622, 'restructuration': 23792, 'financière': 10934, 'prêtàporter': 22244, 'foire': 11124, 'débutent': 8528, 'dété': 9246, 'département': 8978, 'sécurité': 27192, 'gangs': 11747, 'incarcérés': 13571, 'pologne': 21189, 'valide': 28850, 'construction': 5876, 'laboratoire': 15147, 'réalisé': 24394, 'avancée': 2206, 'fusion': 11589, 'nucléaire': 19258, 'café': 3769, 'favorise': 10689, 'vigilance': 29176, 'étude': 30587, 'dacia': 6831, 'sauve': 25218, 'mise': 17956, 'renault': 23467, 'vote': 29478, 'ceta': 4334, 'législatives': 16740, 'comptent': 5500, 'parlerons': 20146, 'breaking': 3411, 'supreme': 26963, 'hears': 12792, 'historic': 12897, 'case': 4097, 'fate': 10647, 'abortion': 83, 'rights': 23988, 'listen': 16251, 'live': 16274, 'mans': 17154, 'policiers': 21142, 'apparence': 1392, 'devenu': 7485, 'ordinaire': 19697, 'dan': 6941, 'collin': 5186, 'soyaux': 26406, 'coach': 5070, 'mots': 18318, 'mystère': 18512, 'tombe': 27883, 'joséphine': 14726, 'baker': 2396, 'enseignement': 9761, 'supérieur': 26970, 'parcours': 20080, 'réussite': 24742, 'adopté': 411, 'commission': 5350, 'egypte': 9408, 'examen': 10166, 'complicité': 5437, 'torture': 27940, 'agenda': 542, 'réveiller': 24751, 'meetings': 17557, 'prises': 21640, 'paroles': 20163, 'bref': 3418, 'dhier': 7558, 'google': 12097, 'android': 1122, 'souligne': 26308, 'samsung': 25061, 'milliards': 17860, 'texas': 27637, 'lyon': 16660, 'voiture': 29419, 'berline': 2770, 'chien': 4633, 'percuter': 20497, 'mouvement': 18356, 'imaginé': 13393, 'affiche': 475, 'harcèlement': 12702, 'sexuel': 25690, 'souvenir': 26387, 'mireille': 17949, 'dumas': 8395, 'sortaient': 26239, 'dautres': 7108, 'régions': 24531, 'acteurs': 283, 'saga': 24880, 'harry': 12717, 'potter': 21373, 'retrouver': 23860, 'spécial': 26510, 'can': 3883, 'we': 29692, 'expect': 10291, 'an': 1074, 'epic': 9919, 'return': 23871, 'ex': 10160, 'champion': 4400, 'olympique': 19571, 'chauffeur': 4544, 'suspendu': 27078, 'conduisant': 5612, 'passager': 20249, 'man': 17064, 'fatally': 10646, 'shot': 25761, 'outside': 19858, 'brooklyn': 3509, 'housing': 13059, 'complex': 5430, 'cambridge': 3840, 'retirer': 23821, 'tableau': 27300, 'ontils': 19608, 'accepté': 149, 'jouer': 14732, 'rémunération': 24583, 'fa': 10457, 'interdit': 14094, 'approcher': 1471, 'phase': 20689, 'hauteur': 12746, 'disparitions': 7895, 'inquiétantes': 13921, 'lieu': 16023, 'mousse': 18347, 'suivi': 26894, 'ouvriers': 19875, 'quittent': 22640, 'chantiers': 4447, 'incendie': 13581, 'europa': 10111, 'league': 15631, 'accueille': 210, 'redoutable': 23191, 'équipe': 30477, 'west': 29745, 'ham': 12650, 'h45': 12563, 'racing': 22705, 'teddy': 27479, 'daech': 6848, 'danseuses': 6994, 'tempslà': 27513, 'figaro': 10861, 'précommandez': 22074, 'gran': 12191, 'aurez': 2078, 'véhicules': 29584, 'crédits': 6614, 'droi': 8349, 'disraël': 7931, 'simplement': 25871, 'honteux': 12996, 'stora': 26676, 'membre': 17585, 'alliance': 848, 'socialisme': 26059, 'drame': 8301, 'frère': 11515, 'soeur': 26084, 'retrouvés': 23870, 'soin': 26110, 'reins': 23291, 'empêche': 9584, 'vital': 29341, 'reconstruire': 23122, 'puzzle': 22395, 'pouce': 21377, 'corinne': 6157, 'youtube': 29979, 'introduit': 14205, 'dons': 8165, 'journaliste': 14757, 'espagnol': 9984, 'plongée': 21036, 'île': 30667, 'palma': 19969, 'depui': 7352, 'tromperie': 28345, 'profil': 21764, 'émouvants': 30383, 'indice': 13679, 'frais': 11352, 'augmenté': 2046, 'spencer': 26447, 'biopic': 2914, 'lady': 15206, 'di': 7587, 'agrees': 581, 'bln': 3018, 'takeover': 27349, 'vista': 29327, 'watch': 29673, 'aids': 632, 'day': 7132, 'pulitzer': 22342, 'prize': 21673, 'parody': 20160, 'turkeys': 28474, 'cost': 6222, 'bucks': 3580, 'aliens': 793, 'are': 1572, 'bailey': 2384, 'marin': 17250, 'dénoncent': 8958, 'moderna': 18038, 'développer': 9257, 'rappel': 22870, 'spécifique': 26522, 'effondré': 9387, 'mine': 17885, 'inondée': 13908, 'effets': 9378, 'spéciaux': 26521, 'intéressant': 14227, 'réprime': 24630, 'chasseur': 4522, 'tue': 28444, 'mari': 17229, 'damende': 6922, 'bayrou': 2629, 'attaque': 1919, 'déclin': 8617, 'shangchi': 25710, 'liu': 16272, 'polémique': 21199, 'fsb': 11531, 'attentat': 1955, 'spectacle': 26436, 'inf': 13758, 'sen': 25503, 'plaignent': 20917, 'explication': 10304, 'coutume': 6341, 'fabrice': 10469, 'chambéry': 4391, 'discute': 7873, 'pourra': 21406, 'racisme': 22707, 'biologique': 2908, 'occidental': 19437, 'ne': 18869, 'tests': 27630, 'salivaires': 25007, 'nancy': 18743, 'zénith': 30054, 'taxi': 27440, 'survécu': 27054, 'liverpool': 16279, 'déclaré': 8604, 'miracle': 17941, 'ait': 684, 'virginie': 29273, 'écrasé': 30192, 'concurrence': 5579, 'réunissant': 24733, 'téléspectateurs': 28556, 'levothyrox': 15843, 'juge': 14804, 'quitte': 22639, 'laudience': 15525, 'vérifier': 29599, 'luimême': 16581, 'disponibilité': 7908, 'pharmacie': 20684, 'gouvernementales': 12148, 'circulant': 4858, 'dange': 6950, 'organisation': 19726, 'aide': 621, 'alimentaire': 799, 'musulmans': 18482, 'marocains': 17288, 'avortement': 2266, 'rn': 24067, 'voter': 29481, 'fascinant': 10625, 'mn': 18007, 'interviewé': 14175, 'marocain': 17285, 'omar': 19575, 'superbes': 26919, 'robes': 24079, 'printemps': 21630, 'entreprises': 9844, 'marchés': 17213, 'boursiers': 3308, 'mondiaux': 18128, 'danse': 6987, 'stars': 26588, 'jojo': 14694, 'miroir': 17950, 'bilal': 2877, 'hassani': 12725, 'résistance': 24683, 'conservatrice': 5798, 'quotidienne': 22655, 'elon': 9461, 'musk': 18472, 'délirant': 8851, 'décident': 8581, 'éloignés': 30331, 'grandi': 12201, 'milieu': 17833, 'qui': 22618, 'philosophe': 20703, 'serres': 25612, 'humain': 13092, 'signifie': 25832, 'traces': 28054, 'troupes': 28376, 'débarquent': 8489, 'occidentale': 19438, 'empire': 9547, 'algérie': 780, 'mondial': 18118, 'espoirs': 9995, 'qatar': 22515, 'touristes': 28000, 'spacex': 26414, 'étoiles': 30556, 'toilettes': 27864, 'stratégie': 26699, 'pivot': 20864, 'copie': 6114, 'passe': 20259, 'approche': 1469, 'second': 25399, 'bénévoles': 3708, 'mobilisent': 18016, 'nettoyer': 18914, 'plages': 20904, 'suite': 26887, 'grèves': 12339, 'éboueurs': 30075, 'inondations': 13905, 'hautesalpes': 12742, 'gap': 11753, 'repas': 23581, 'quotidiens': 22658, 'sortent': 26244, 'cuisine': 6652, 'promet': 21848, 'prolonger': 21837, 'lhébergement': 15936, 'recours': 23129, 'châteaux': 4787, 'visiter': 29319, 'secteur': 25433, 'plaine': 20919, 'lafp': 15221, 'complotisme': 5447, 'activiste': 302, 'prodémocratie': 21748, 'libérée': 15995, 'audio': 2024, 'economie': 9329, 'recommandations': 23080, 'locde': 16347, 'décryptage': 8696, 'éco': 30138, 'écouter': 30181, 'rénové': 24591, 'réal': 24377, 'andré': 1123, 'phénomène': 20739, 'époque': 30449, 'poussée': 21449, 'larticle': 15467, 'magazine': 16889, 'cétait': 6792, 'affaire': 461, 'plaignante': 20915, 'conf': 5620, 'idée': 13299, 'liberté': 15963, 'canada': 3885, 'manquent': 17147, 'lappel': 15407, 'architecte': 1550, 'hôtel': 13227, 'décharge': 8563, 'déchets': 8569, 'voterai': 29483, 'colonnes': 5231, 'ed': 9338, 'existent': 10270, 'osez': 19794, 'formes': 11244, 'réduire': 24477, 'devoirs': 7510, 'stress': 26718, 'harceleur': 12696, 'lus': 16619, 'orléans': 19770, 'viols': 29258, 'filles': 10893, 'mineure': 17889, 'sommets': 26180, 'nauraient': 18824, 'compté': 5509, 'considérée': 5818, 'pl': 20886, 'chercher': 4598, 'dénicher': 8952, 'positifs': 21310, 'promis': 21857, 'fiscalité': 10984, 'ménage': 18629, 'soll': 26145, 'das': 7048, 'comeback': 5282, 'von': 29465, 'réagir': 24373, 'coming': 5293, 'out': 19841, 'autant': 2111, 'maîtrise': 17500, 'précis': 22062, 'éthique': 30544, 'simpose': 25879, 'plate': 20968, 'procédure': 21720, 'mettons': 17722, 'choses': 4722, 'bourges': 3294, 'machine': 16847, 'arrière': 1668, 'fête': 11650, 'foraine': 11203, 'place': 20891, 'fêtes': 11654, 'dannée': 6980, 'vikings': 29194, 'spinoff': 26459, 'soffre': 26086, 'nouvelles': 19215, 'signent': 25823, 'droits': 8356, 'canapé': 3892, 'soif': 26098, 'recevait': 23054, 'relecture': 23346, 'contemporaine': 5927, 'psychologique': 22278, 'arr': 1634, 'attaqués': 1925, 'mortier': 18277, 'immeubles': 13415, 'habitations': 12586, 'visés': 29337, 'puni': 22361, 'didier': 7633, 'revenu': 23900, 'charentais': 4473, 'crée': 6616, 'web': 29700, 'baromètre': 2522, 'thrones': 27723, 'boivent': 3107, 'latte': 15513, 'starbucks': 26581, 'attendue': 1952, 'marseillaise': 17319, 'kiosques': 15051, 'abonner': 69, 'israel': 14418, 'terror': 27602, 'vois': 29413, 'chaînes': 4557, 'regarde': 23251, 'go': 12060, 'team': 27458, 'noubliez': 19186, 'nagui': 18714, 'sexplique': 25677, 'reproches': 23639, 'chanson': 4432, 'johnny': 14683, 'miège': 17998, 'so': 26042, 'many': 17167, 'crop': 6535, 'tops': 27919, 'quun': 22660, 'acteur': 282, 'force': 11208, 'transféré': 28169, 'larmée': 15452, 'malienne': 17029, 'base': 2550, 'nord': 19113, 'scotland': 25358, 'india': 13672, 'cup': 6694, 'éliminé': 30314, 'candidats': 3917, 'traitent': 28117, 'imposteur': 13497, 'fro': 11487, 'histoires': 12895, 'moquent': 18227, 'mondiale': 18120, 'sacrifié': 24856, 'euro': 10105, 'masculin': 17363, 'fish': 10987, 'combat': 5262, 'victorieux': 29123, 'ong': 19597, 'sauvages': 25217, 'hard': 12703, 'ig': 13310, 'avais': 2193, 'battre': 2607, 'battue': 2609, 'licence': 15998, 'final': 10916, 'rien': 23982, 'who': 29766, 'yes': 29949, 'constitutionnel': 5870, 'censuré': 4255, 'controversé': 6035, 'directeurs': 7813, 'détablissements': 9164, 'scolaires': 25345, 'cars': 4073, 'orne': 19771, 'subissent': 26788, 'dégâts': 8818, 'tempête': 27516, 'coupées': 6290, 'douaniers': 8231, 'service': 25627, 'disponible': 7910, 'si': 25778, 'bio': 2903, 'programmée': 21796, 'profondeur': 21782, 'perception': 20490, 'surveillance': 27025, 'cell': 4229, 'investisseurs': 14285, 'étrangers': 30574, 'initiatives': 13863, 'censées': 4260, 'dérèglement': 9101, 'hulot': 13089, 'elise': 9446, 'lucet': 16556, 'réfléchir': 24496, 'témoigner': 28576, 'visant': 29297, 'constructeur': 5873, 'automobile': 2140, 'psa': 22253, 'fatima': 10653, 'al': 703, 'diplômée': 7800, 'harvard': 12718, 'antigéniques': 1292, 'réalisés': 24397, 'casino': 4103, 'augmenter': 2043, 'salaires': 24986, 'député': 9059, 'larem': 15437, 'étonnant': 30560, 'gouvernent': 12151, 'personnel': 20589, 'laisse': 15255, 'espoir': 9994, 'extinction': 10414, 'pollinisateurs': 21173, 'condamne': 5589, 'existence': 10269, 'dizaines': 8018, 'évacuées': 30607, 'parking': 20130, 'quartier': 22564, 'coutures': 6343, 'karaté': 14943, 'titre': 27840, 'steven': 26643, 'costa': 6223, 'sacre': 24851, 'tokyo': 27871, 'testé': 27631, 'positif': 21309, 'ministres': 17911, 'bandeannonce': 2453, 'hitman': 12908, 'salles': 25011, 'résidences': 24674, 'secondaires': 25401, 'locations': 16340, 'tarifs': 27406, 'explosé': 10347, 'locaux': 16342, 'cia': 4803, 'officer': 19500, 'kevin': 14998, 'whose': 29770, 'examiner': 10170, 'column': 5254, 'called': 3816, 'capitol': 3967, 'protesters': 21968, 'terrorists': 27610, 'like': 16048, 'étatsunis': 30526, 'banque': 2479, 'revoir': 23923, 'taux': 27433, 'intégrale': 14215, 'immobilier': 13425, 'rome': 24155, 'cercueil': 4294, 'prêtre': 22241, 'assène': 1844, 'évoqué': 30650, 'assouplissement': 1823, 'exécutif': 10447, 'oncle': 19590, 'salafiste': 24982, 'voulait': 29502, 'laver': 15580, 'cerveau': 4320, 'accueilli': 213, 'réfugié': 24505, 'afghan': 506, 'vatil': 28930, 'inhumé': 13854, 'mont': 18156, 'contraint': 5992, 'durgence': 8441, 'heurté': 12852, 'limage': 16071, 'chamboulé': 4388, 'pronostics': 21885, 'avait': 2194, 'souhaité': 26299, 'répondre': 24623, 'hausses': 12734, 'traditionnellement': 28076, 'augmentation': 2039, 'masse': 17386, 'monétaire': 18222, 'réappropriation': 24408, 'présentation': 22159, 'appel': 1414, 'orsay': 19778, 'colloque': 5193, 'centre': 4279, 'es': 9956, 'spécialistes': 26515, 'matière': 17437, 'noire': 19056, 'conçu': 6085, 'artificiel': 1704, 'adapté': 336, 'patients': 20321, 'atteints': 1934, 'nai': 18715, 'utilisait': 28758, 'bande': 2452, 'ghz': 11952, 'ses': 25637, 'gourmand': 12125, 'soleil': 26132, 'goûter': 12165, 'poulet': 21386, 'laude': 15524, 'placée': 20898, 'orange': 19680, 'pluieinondation': 21043, 'sols': 26154, 'coaching': 5072, 'spirituel': 26466, 'métiers': 18670, 'insolites': 13964, 'attirent': 1972, 'appartient': 1405, 'casting': 4133, 'box': 3338, 'astuce': 1867, 'économiser': 30161, 'euros': 10123, 'qr': 22523, 'code': 5092, 'still': 26653, 'circulating': 4859, 'almost': 894, 'false': 10570, 'child': 4645, 'alert': 746, 'lilly': 16066, 'xi': 29891, 'parlera': 20145, 'nécessaires': 19315, 'adapter': 335, 'réchauffement': 24424, 'ladaptation': 15193, 'énorme': 30400, 'mo': 18008, 'candidater': 3915, 'rejoindre': 23306, 'dédié': 8718, 'émergents': 30355, 'inscrits': 13941, 'compare': 5404, 'conception': 5540, 'robinet': 24082, 'boisson': 3102, 'choisir': 4695, 'scientifique': 25335, 'traîné': 28256, 'tribunaux': 28290, 'joué': 14773, 'peurs': 20662, 'retoquée': 23830, 'sénat': 27222, 'rassurer': 22926, 'lassemblée': 15484, 'nationale': 18798, 'ratp': 22942, 'étudie': 30593, 'métro': 18674, 'parisien': 20118, 'luc': 16552, 'ferry': 10793, 'télévision': 28562, 'pop': 21222, 'audiences': 2022, 'conserve': 5799, 'arte': 1692, 'forme': 11239, 'basque': 2564, 'lutte': 16632, 'évènement': 30654, 'jeunesse': 14641, 'fil': 10878, 'tentatives': 27549, 'suicides': 26879, 'arrêtez': 1681, 'commencez': 5319, 'drogue': 8342, 'alpha': 905, 'principalement': 21623, 'propagé': 21895, 'voyages': 29520, 'londres': 16408, 'patrick': 20329, 'troupe': 28374, 'clichy': 4989, 'perturbe': 20614, 'prière': 21675, 'illégale': 13372, 'mises': 17959, 'garde': 11769, 'mauvaises': 17473, 'expériences': 10394, 'vous': 29512, 'blanc': 2979, 'paca': 19915, 'infirmière': 13792, 'disant': 7841, 'alpesdehauteprovence': 903, 'recrutement': 23138, 'préoccupation': 22130, 'majeure': 16975, 'agriculteurs': 601, 'dantisémitisme': 7000, 'jeanluc': 14584, 'désamorcer': 9110, 'pareil': 20092, 'pote': 21357, 'rené': 23569, 'trace': 28052, 'faitesvous': 10548, 'viceprésidente': 29106, 'bretagne': 3427, 'niveau': 19021, 'catastrophique': 4147, 'manifs': 17118, 'israélienne': 14421, 'extrême': 10435, 'antisémites': 1322, 'voies': 29402, 'seigneur': 25453, 'tragiques': 28094, 'gilleswilliam': 11983, 'goldnadel': 12075, 'menace': 17594, 'expression': 10374, 'délices': 8844, 'prières': 21676, 'jugé': 14814, 'financement': 10926, 'illégal': 13371, 'passés': 20297, 'détruit': 9235, 'devenez': 7483, 'fan': 10594, 'punk': 22367, 'nocturne': 19048, 'voisin': 29414, 'lèvetôt': 16686, 'passionné': 20283, 'bienvenue': 2860, 'collision': 5189, 'brousse': 3522, 'cimetière': 4827, 'municipal': 18425, 'grave': 12239, 'pro': 21678, 'drag': 8286, 'queens': 22584, 'sontelles': 26210, 'prêtes': 22240, 'version': 29044, 'rupaul': 24313, 'race': 22687, 'espagne': 9982, 'suspend': 27073, 'vols': 29449, 'arrivant': 1654, 'afrique': 519, 'australe': 2098, 'allonnes': 864, 'entreprise': 9843, 'récompensée': 24447, 'insertion': 13953, 'handicapées': 12672, 'blog': 3032, 'dessins': 7414, 'plaisirs': 20929, 'réservés': 24670, 'expatriés': 10289, 'clémentine': 5052, 'irrégularités': 14372, 'sportifs': 26485, 'yann': 29929, 'arthusbertrand': 1695, 'petitsenfants': 20653, 'peuton': 20666, 'interdire': 14091, 'transferts': 28155, 'dargent': 7022, 'ressortissants': 23753, 'devient': 7497, 'nier': 18988, 'vaccinés': 28809, 'angela': 1135, 'accuses': 229, 'tory': 27945, 'mp': 18380, 'following': 11137, 'comments': 5328, 'wa': 29617, 'lillah': 16060, 'mécontents': 18558, 'verdict': 29013, 'coquerel': 6129, 'voile': 29404, 'mariée': 17267, 'chrétienne': 4761, 'chômage': 4797, 'lemploi': 15715, 'onfray': 19596, 'infâme': 13835, 'football': 11195, 'joueur': 14738, 'fribourg': 11469, 'avoué': 2274, 'arbitre': 1533, 'surface': 26989, 'soulager': 26303, 'migraines': 17807, 'courrier': 6317, 'influenceur': 13805, 'linstant': 16174, 'culottées': 6668, 'quen': 22598, 'vrai': 29542, 'saisir': 24962, 'ballon': 2426, 'ovale': 19885, 'bond': 3137, 'management': 17065, 'capital': 3960, 'discours': 7854, 'coûts': 6394, 'ajoutés': 698, 'facture': 10512, 'reçois': 23938, 'dirais': 7805, 'dépensé': 9006, 'carton': 4082, 'télécoms': 28538, 'relayée': 23340, 'merde': 17670, 'progresse': 21798, 'ajoute': 693, 'votes': 29486, 'exprimés': 10382, 'allant': 828, 'vers': 29037, 'wednesdays': 29710, 'front': 11498, 'volume': 29453, 'diminue': 7709, 'scientifiques': 25337, 'percé': 20501, 'élite': 30322, 'chinoise': 4665, 'presse': 21565, 'délaissé': 8833, 'titres': 27841, 'solo': 26151, 'pression': 21571, 'boulot': 3277, 'secrétaires': 25425, 'mairie': 16962, 'amélie': 1053, 'montchalin': 18175, 'rb': 22984, 'prochains': 21707, 'huis': 13085, 'hubert': 13076, 'germain': 11920, 'compagnon': 5394, 'libération': 15990, 'wall': 29633, 'street': 26713, 'regards': 23257, 'tournés': 28020, 'rihanna': 23995, 'dennis': 7307, 'splendide': 26470, 'joli': 14697, 'patchwork': 20308, 'couleurs': 6258, 'ciel': 4821, 'alentours': 743, 'cm': 5059, 'graisse': 12186, 'abdominale': 41, 'interpréter': 14140, 'linverse': 16208, 'liga': 16035, 'étonnamment': 30559, 'marches': 17210, 'clubs': 5043, 'podium': 21078, 'chauffe': 4542, 'camion': 3855, 'lalerte': 15277, 'méfiezvous': 18608, 'djokovic': 8027, 'breaks': 3413, 'federer': 10724, 'weeks': 29717, 'number': 19278, 'one': 19593, 'voir': 29410, 'palmarès': 19971, 'clique': 5016, 'bd': 2636, 'inna': 13885, 'ilayhi': 13336, 'raji': 22787, 'secrétaire': 25424, 'detat': 7443, 'colin': 5137, 'powell': 21468, 'suites': 26889, 'dactu': 6839, 'gratuité': 12238, 'anti': 1257, 'angèle': 1156, 'dévoile': 9268, 'clip': 5012, 'démons': 8931, 'duo': 8407, 'damso': 6936, 'renouvelables': 23533, 'démonter': 8935, 'éoliennes': 30405, 'élue': 30333, 'présidente': 22185, 'saoudien': 25118, 'colore': 5236, 'barbe': 2502, 'rose': 24181, 'threads': 27713, 'récents': 24419, 'billets': 2886, 'monnaie': 18137, 'finance': 10925, 'libourne': 15966, 'surveillant': 27026, 'pédocriminel': 22441, 'centaines': 4264, 'associations': 1812, 'veulent': 29082, 'peser': 20629, 'cfdt': 4346, 'fondation': 11165, 'abbé': 36, 'oxfam': 19901, 'climatique': 5004, 'barbara': 2497, 'pompili': 21210, 'réussi': 24736, 'exploit': 10320, 'écologie': 30147, 'rac': 22681, 'scènes': 25377, 'rendeznous': 23491, 'sacré': 24859, 'tgv': 27650, 'atlantique': 1892, 'normal': 19128, 'toussaint': 28025, 'danemark': 6949, 'pavés': 20367, 'fameux': 10577, 'changé': 4430, 'totally': 27954, 'profile': 21765, 'all': 819, 'reçoivent': 23940, 'méthaniseur': 18664, 'voyez': 29532, 'étrange': 30571, 'utilisées': 28771, 'gris': 12297, 'téhéran': 28527, 'urgemment': 28709, 'revenir': 23898, 'respect': 23707, 'laccord': 15162, 'vienne': 29157, 'insiste': 13958, 'braderie': 3365, 'bourgognefranchecomté': 3298, 'votez': 29487, 'monument': 18216, 'représentera': 23658, 'concourra': 5570, 'sandrine': 25084, 'rousseau': 24221, 'annoncé': 1210, 'vouloir': 29507, 'produire': 21742, 'choc': 4685, 'productivité': 21737, 'négatif': 19324, 'consomme': 5833, 'arnault': 1627, 'riche': 23966, 'forbes': 11205, 'roundup': 24219, 'glyphosate': 12056, 'retrouvé': 23867, 'alimentation': 801, 'boulangeries': 3255, 'dazur': 7135, 'sassocient': 25164, 'onde': 19591, 'espace': 9980, 'dizaine': 8017, 'jours': 14769, 'témoignages': 28573, 'émergé': 30357, 'gaulle': 11830, 'tragédie': 28095, 'échappé': 30098, 'pièces': 20871, 'confronté': 5686, 'michael': 17764, 'schumacher': 25318, 'ferrari': 10786, 'félicitent': 11625, 'accompli': 173, 'peur': 20661, 'capable': 3950, 'hau': 12729, 'autour': 2170, 'nécessaire': 19313, 'faucon': 10660, 'charge': 4478, 'révolutionnaires': 24772, 'ratés': 22953, 'suffrage': 26865, 'universel': 28675, 'gilles': 11982, 'électronique': 30296, 'risque': 24026, 'populiste': 21236, 'géopolitique': 12522, 'rebat': 23011, 'leadership': 15628, 'assuré': 1840, 'bloqués': 3049, 'jusquau': 14871, 'its': 14451, 'been': 2686, 'vacances': 28781, 'glisse': 12036, 'céramique': 6783, 'centreville': 4283, 'collier': 5183, 'ben': 2730, 'raisonnable': 22782, 'blessés': 3007, 'indicateurs': 13677, 'néolibérale': 19346, 'grigny': 12282, 'pompiers': 21209, 'jurassic': 14856, 'colo': 5206, 'liens': 16019, 'recevra': 23060, 'palme': 19972, 'spike': 26457, 'lee': 15671, 'jurés': 14868, 'livrer': 16289, 'clôture': 5056, 'lt3': 16547, 'britney': 3488, 'spears': 26432, 'tutelle': 28485, 'siège': 25963, 'chef': 4566, 'regrette': 23272, 'pub': 22291, 'chansons': 4433, 'nont': 19103, 'sélectionnées': 27216, 'publicité': 22300, 'fédération': 11616, 'rachat': 22689, 'énerver': 30394, 'disney': 7882, 'départs': 8984, 'tunisie': 28463, 'dinscrits': 7758, 'pôle': 22512, 'laffirme': 15215, 'adrien': 430, 'quatennens': 22570, 'devez': 7489, 'seins': 25460, 'amour': 1030, 'progressiste': 21804, 'faiblit': 10521, 'ourse': 19837, 'mordre': 18247, 'auchan': 2009, 'installe': 13991, 'magasin': 16887, 'caisse': 3788, 'roubaix': 24195, 'calendrier': 3806, 'lavent': 15577, 'minisérie': 17917, 'lidée': 16014, 'rouennais': 24198, 'urban': 28705, 'meyer': 17754, 'trevor': 28281, 'lawrence': 15600, 'worries': 29860, 'offense': 19488, 'falling': 10565, 'apart': 1361, 'organisent': 19729, 'lendemain': 15725, 'linvestiture': 16210, 'barbecue': 2503, 'recettes': 23052, 'idées': 13300, 'faciles': 10493, 'combler': 5276, 'tpmp': 28048, 'émission': 30374, 'chiottes': 4669, 'sarthe': 25156, 'aperçu': 1368, 'loiretcher': 16387, 'loup': 16506, 'editions': 9346, 'divergences': 7983, 'librairie': 15970, 'discussion': 7870, 'marcel': 17195, 'connaître': 5736, 'olaf': 19548, 'scholz': 25313, 'visons': 29326, 'sommes': 26177, 'mode': 18033, 'soldes': 26130, 'battent': 2600, 'savoie': 25254, 'surprendre': 27014, 'artisanat': 1711, 'lice': 15997, 'voleur': 29438, 'tiré': 27823, 'connaissezvous': 5728, 'signification': 25829, 'village': 29201, 'son': 26187, 'lempereur': 15713, 'genou': 11893, 'terre': 27582, 'télé': 28531, 'sévère': 27277, 'justifié': 14890, 'ltlt': 16548, 'mains': 16944, 'come': 5281, 'shopping': 25756, 'us': 28726, 'introducing': 14202, 'claires': 4918, 'deals': 7147, 'accès': 234, 'gratuit': 12231, 'psychologue': 22281, 'postes': 21337, 'deuros': 7459, 'linnovation': 16166, 'pitié': 20859, 'ditesmoi': 7976, 'bobard': 3076, 'rentre': 23549, 'moule': 18332, 'univers': 28671, 'cybercriminalité': 6727, 'valent': 28840, 'dark': 7026, 'vaccinent': 28797, 'sais': 24958, 'muriel': 18444, 'carrière': 4065, 'mania': 17099, 'dégueulasse': 8808, 'confond': 5671, 'heureux': 12847, 'saffronter': 24878, 'retrouvez': 23863, 'gorille': 12106, 'dos': 8211, 'guide': 12388, 'belles': 2723, 'enfiler': 9667, 'transforme': 28160, 'mcdo': 17517, 'fastfood': 10641, 'poursuivie': 21432, 'pratique': 21498, 'douteuse': 8263, 'salle': 25010, 'tchernobyl': 27451, 'accessible': 152, 'minutes': 17935, 'puisse': 22338, 'préparer': 22143, 'tranquille': 28141, 'universelle': 28676, 'relie': 23352, 'phénomènes': 20740, 'processus': 21699, 'biologiques': 2909, 'rencontré': 23478, 'top': 27916, 'quotidie': 22653, 'travaux': 28238, 'écoles': 30143, 'sympathique': 27127, 'ferait': 10757, 'jeanmarie': 14586, 'écosse': 30172, 'client': 4994, 'faisait': 10539, 'chier': 4636, 'chambre': 4389, 'répondent': 24620, 'prouvent': 21997, 'violentes': 29250, 'tempêtes': 27517, 'neige': 18879, 'régulièrement': 24550, 'banquier': 2482, 'espérer': 10006, 'obtenir': 19418, 'crédit': 6613, 'désactiver': 9106, 'siri': 25941, 'assistant': 1795, 'iphone': 14334, 'incidence': 13596, 'antiâge': 1335, 'retirés': 23825, 'vente': 28993, 'anneaux': 1188, 'harvey': 12719, 'weinstein': 29724, 'moqué': 18230, 'jackson': 14482, 'navez': 18839, 'remarqué': 23386, 'culpabilité': 6672, 'sujets': 26901, 'degrés': 7201, 'den': 7290, 'torturé': 27942, 'mécanismes': 18546, 'redistribution': 23181, 'petites': 20647, 'moyennes': 18371, 'fermes': 10771, 'nature': 18815, 'fortement': 11258, 'fragilisée': 11349, 'possibilité': 21320, 'australien': 2102, 'josh': 14721, 'cavallo': 4190, 'submergé': 26796, 'traquent': 28211, 'signalent': 25809, 'coquilles': 6132, 'erreurs': 9950, 'côtés': 6803, 'latlantique': 15507, 'grands': 12209, 'évènements': 30655, 'nationalistes': 18802, 'isère': 14436, 'rencontre': 23472, 'rentrant': 23548, 'tombée': 27891, 'lynx': 16659, 'faure': 10667, 'défend': 8741, 'hidalgo': 12857, 'doublement': 8234, 'lignorance': 16042, 'davantage': 7114, 'populaires': 21229, 'entendre': 9785, 'questce': 22606, 'hôpital': 13224, 'quimper': 22627, 'infirmier': 13790, 'sos': 26254, 'crainte': 6420, 'antifas': 1287, 'déménage': 8944, 'villepinte': 29214, 'indépendantistes': 13743, 'révoltés': 24768, 'nickel': 18976, 'tomber': 27886, 'nou': 19184, 'tiktok': 27783, 'prouver': 21998, 'mond': 18112, 'fichage': 10833, 'dindividus': 7734, 'opinions': 19627, 'décret': 8682, 'réponses': 24628, 'commentaire': 5322, 'forces': 11212, 'lordre': 16446, 'menacent': 17595, 'jeanfrançois': 14578, 'recette': 23051, 'netherlands': 18907, 'detects': 7446, 'cases': 4099, 'south': 26375, 'africa': 513, 'flights': 11060, 'scène': 25376, 'affreuse': 498, 'sondage': 26188, 'médiatique': 18581, 'considère': 5807, 'ennemis': 9722, 'penser': 20464, 'remake': 23379, 'détient': 9214, 'esclaves': 9971, 'légale': 16718, 'salvador': 25038, 'inquiète': 13917, 'mal': 16991, 'héberge': 13179, 'entrepôt': 9845, 'chocolat': 4686, 'exercice': 10236, 'loué': 16524, 'interpellés': 14134, 'arme': 1601, 'lemprise': 15719, 'max': 17477, 'réac': 24361, 'niçois': 19027, 'aiment': 652, 'écrivain': 30203, 'roma': 24141, 'lequipe': 15779, 'diffusera': 7664, 'courses': 6322, 'coupe': 6278, 'ski': 25969, 'alpin': 908, 'déc': 8535, 'complotiste': 5448, 'merah': 17655, 'invention': 14258, 'contrats': 6001, 'correspondent': 6182, 'défendre': 8747, 'entrée': 9862, 'dussopt': 8452, 'judas': 14792, 'trahi': 28097, 'jésus': 14909, 'somme': 26175, 'ridicule': 23975, 'approuvé': 1481, 'lextension': 15883, 'pratiquer': 21501, 'ivg': 14459, 'libère': 15982, 'nuages': 19253, 'vent': 28992, 'férié': 11643, 'achevé': 256, 'argentine': 1581, 'marqué': 17302, 'activité': 307, 'tourist': 27998, 'danois': 6982, 'passent': 20262, 'ikea': 13332, 'efficace': 9379, 'britannique': 3485, 'christelle': 4736, 'musicien': 18467, 'ferme': 10765, 'pole': 21134, 'départemental': 8979, 'safer': 24874, 'eure': 10103, 'menstruel': 17618, 'city': 4891, 'compositions': 5473, 'situation': 25954, 'expulse': 10385, 'lycéen': 16646, 'comores': 5388, 'agglo': 547, 'permanence': 20534, 'vald': 28835, 'auron': 2083, 'cop26': 6109, 'dû': 9292, 'organisée': 19737, 'zoom': 30038, 'religion': 23358, 'utilisé': 28769, 'arguments': 1584, 'oxygène': 19905, 'eux': 10130, 'exister': 10272, 'pennsylvania': 20455, 'mom': 18096, 'allegedly': 832, 'body': 3089, 'inside': 13954, 'reports': 23607, 'doiton': 8091, 'craindre': 6417, 'mère': 18538, 'remarque': 23383, 'sombre': 26165, 'cou': 6238, 'usagers': 28730, 'soient': 26097, 'principe': 21626, 'neutralité': 18926, 'tendue': 27531, 'payent': 20376, 'commun': 5356, 'juliette': 14834, 'gréco': 12341, 'mozambique': 18375, 'sending': 25509, 'medical': 17550, 'identify': 13279, 'attack': 1912, 'victims': 29117, 'débarrasser': 8493, 'traditionnels': 28078, 'soyez': 26407, 'sûre': 27284, 'streaming': 26710, 'réserve': 24661, 'enco': 9611, 'rencontrés': 23481, 'saint': 24906, 'croisés': 6529, 'envoie': 9896, 'erreur': 9949, 'insulte': 14042, 'milliard': 17857, 'dividendes': 7994, 'licenciements': 16002, 'rampd': 22821, 'entretien': 9853, 'sasseoir': 25162, 'ferrero': 10787, 'rocher': 24097, 'volet': 29436, 'lentretien': 15763, 'elden': 9427, 'ring': 24002, 'boss': 3202, 'découvert': 8667, 'gameplay': 11734, 'vel': 28957, 'occitanie': 19441, 'thème': 27734, 'féminisme': 11637, 'incompatibles': 13625, 'sy': 27111, 'masturbation': 17400, 'officiellement': 19511, 'bénéfique': 3703, 'finds': 10943, 'derek': 7358, 'chauvin': 4552, 'guilty': 12404, 'murder': 18439, 'floyd': 11098, 'grippe': 12296, 'aviaire': 2247, 'propage': 21892, 'hello': 12811, 'arnaud': 1626, 'écris': 30197, 'fera': 10753, 'iran': 14344, 'revienne': 23907, 'voulezvous': 29505, 'fixer': 10999, 'jauge': 14552, 'ép': 30406, 'moto': 18312, 'électrique': 30289, 'ra': 22673, 'raffinerie': 22758, 'total': 27947, 'protester': 21967, 'transformation': 28158, 'saintnazaire': 24947, 'cachent': 3748, 'controversial': 6033, 'backs': 2346, 'germany': 11923, 'over': 19887, 'into': 14186, 'migrant': 17808, 'camp': 3862, 'amid': 1007, 'britain': 3484, 'channel': 4431, 'lénergie': 16775, 'tarif': 27404, 'doctobre': 8048, 'déclare': 8601, 'strip': 26727, 'recueil': 23150, 'pouvez': 21458, 'soutenir': 26367, 'précommander': 22072, 'contrat': 6000, 'divise': 7997, 'majorité': 16983, 'nice': 18969, 'lebanon': 15644, 'report': 23597, 'bacot': 2348, 'souligné': 26311, 'grenelle': 12267, 'ressemble': 23736, 'photographe': 20716, 'anglais': 1144, 'gerrard': 11925, 'prouve': 21996, 'clichés': 4991, 'chats': 4532, 'volcano': 29431, 'devinez': 7506, 'montrent': 18198, 'perfection': 20523, 'absolue': 106, 'adorer': 418, 'difficulté': 7656, 'banderole': 2454, 'illinois': 13351, 'dem': 7238, 'calling': 3817, 'wisconsin': 29818, 'christmas': 4744, 'karma': 14951, 'solutions': 26158, 'agricoles': 599, 'éliminer': 30313, 'chlordécone': 4681, 'souffre': 26283, 'légers': 16732, 'symptômes': 27135, 'ecb': 9315, 'ground': 12322, 'longer': 16410, 'lespoir': 15796, 'haine': 12623, 'solidarité': 26138, 'enfant': 9656, 'homicide': 12952, 'marques': 17298, 'relancer': 23317, 'jeanmarc': 14585, 'sauvé': 25230, 'matrice': 17442, 'dautorité': 7105, 'paternité': 20311, 'mais': 16964, 'coupure': 6286, 'rendait': 23484, 'intelligent': 14063, 'kering': 14994, 'gucci': 12361, 'lvmh': 16643, 'hermès': 12830, 'luxe': 16638, 'potentiel': 21361, 'normale': 19129, 'sup': 26916, 'échanger': 30088, 'léconomie': 16701, 'attention': 1962, 'places': 20896, 'li': 15945, 'accompagnement': 167, 'logement': 16363, 'abordé': 81, 'soros': 26235, 'sortir': 26250, 'attaquer': 1921, 'monnaies': 18138, 'bastia': 2571, 'décerné': 8556, 'nothomb': 19171, 'leonard': 15773, 'rallier': 22798, 'nage': 18710, 'lîle': 16829, 'étape': 30520, 'judiciaire': 14796, 'gestion': 11932, 'suivie': 26895, 'ladieu': 15197, 'goncourt': 12083, 'trucs': 28401, 'relou': 23368, 'déguster': 8817, 'différemment': 7672, 'gilets': 11981, 'jaunes': 14555, 'mobilisés': 18023, 'regardez': 23255, 'mobilisé': 18020, 'preuve': 21586, 'gauchers': 11822, 'événement': 30656, 'proximité': 22031, 'arrondissement': 1672, 'embouteillage': 9498, 'vaccinal': 28788, 'flip': 11062, 'vedette': 28944, 'apprécient': 1490, 'it': 14437, 'truly': 28407, 'thought': 27710, 'that': 27660, 'counts': 6273, 'guyane': 12429, 'principales': 21624, 'cocaïne': 5082, 'défense': 8751, 'filmer': 10903, 'ajouter': 695, 'fact': 10501, 'checkers': 4562, 'collabos': 5155, 'sousmarins': 26355, 'laustralie': 15546, 'décidée': 8586, 'effet': 9377, 'enjeux': 9709, 'civilisationnels': 4902, 'mettez': 17721, 'faille': 10525, 'transition': 28179, 'jdd': 14569, 'hybride': 13146, 'doux': 8269, 'design': 7388, 'lifestyle': 16029, 'siècles': 25962, 'lois': 16388, 'dingues': 7748, 'législative': 16739, 'irrésistibles': 14376, 'source': 26336, 'géraldine': 12527, 'ronan': 24165, 'édité': 30233, 'wolf': 29832, 'talent': 27354, 'fissure': 10990, 'leau': 15639, 'lintérieur': 16201, 'rejette': 23297, 'locéan': 16351, 'avaitil': 2195, 'choix': 4700, 'réveillent': 24750, 'expérience': 10393, 'californie': 3811, 'marc': 17192, 'van': 28883, 'ranst': 22846, 'encourageant': 9616, 'alchimie': 731, 'artistique': 1716, 'rois': 24127, 'fret': 11467, 'gagnants': 11689, 'anne': 1187, 'karine': 14949, 'jeux': 14642, 'sport': 26483, 'éducation': 30238, 'gratuits': 12237, 'confinement': 5641, 'dalec': 6890, 'avocats': 2258, 'larmurière': 15451, 'évoquent': 30648, 'sabotage': 24828, 'hoax': 12920, 'sauce': 25196, 'gignac': 11976, 'spectaculaire': 26438, 'quart': 22561, 'tournoi': 28014, 'douverture': 8267, 'découvr': 8671, 'monsieur': 18149, 'fabrique': 10470, 'consentement': 5787, 'disent': 7879, 'beauc': 2651, 'drone': 8357, 'ibm': 13242, 'authentification': 2117, 'défaut': 8734, 'modestie': 18048, 'dis': 7836, 'correspond': 6177, 'vérité': 29606, 'vallée': 28865, 'chamonix': 4394, 'col': 5130, 'élargit': 30275, 'xxe': 29912, 'passionnante': 20280, 'retrace': 23843, 'ellen': 9455, 'pompeo': 21205, 'greys': 12274, 'anatomy': 1092, 'maman': 17055, 'three': 27719, 'year': 29939, 'manche': 17070, 'régionale': 24528, 'bmx': 3067, 'joyeux': 14781, 'tristan': 28323, 'archives': 1556, 'conversations': 6061, 'amoureuses': 1033, 'bestof': 2796, 'angelo': 1138, 'rentré': 23552, 'permission': 20551, 'cachait': 3744, 'pr': 21484, 'vendu': 28976, 'indispensable': 13703, 'passer': 20265, 'anticovid': 1279, 'similaires': 25865, 'emblématique': 9496, 'reviews': 23912, 'wild': 29786, 'dreams': 8316, 'st': 26544, 'christopher': 4747, 'signe': 25821, 'council': 6267, 'partenaire': 20186, 'good': 12093, 'comingout': 5294, 'démis': 8907, 'fonctions': 11153, 'dincidence': 7730, 'aveuglement': 2239, 'nourris': 19193, 'décennies': 8552, 'haines': 12624, 'actualité': 316, 'agressive': 591, 'blogs': 3033, 'abonnés': 74, 'rédac': 24463, 'stupéfiante': 26758, 'fini': 10950, 'parisienne': 20119, 'format': 11234, 'nous': 19199, 'déjeuner': 8824, 'magistrat': 16905, 'clandestin': 4925, 'tout': 28027, 'graves': 12241, 'bavière': 2619, 'lassaillant': 15478, 'interpellé': 14131, 'topsflops': 27920, 'clauss': 4972, 'lestac': 15809, 'sombré': 26168, 'appelés': 1426, 'analysant': 1078, 'lévénement': 16826, 'lune': 16605, 'sc': 25275, 'réactive': 24368, 'sports': 26489, 'hôpitaux': 13225, 'réinformation': 24561, 'texte': 27640, 'acte': 280, 'budget': 3582, 'sécu': 27185, 'passes': 20271, 'darmes': 7032, 'premiers': 21522, 'levées': 15847, 'confinements': 5642, 'bouleversé': 3272, 'rasé': 22929, 'thérapies': 27751, 'conversion': 6062, 'assemblée': 1780, 'classement': 4953, 'leaders': 15627, 'diversité': 7990, 'chefs': 4571, 'développe': 9254, 'installer': 13993, 'distributeurs': 7963, 'japon': 14535, 'surchauffe': 26978, 'plateaux': 20970, 'arrêter': 1679, 'labos': 15150, 'inutile': 14246, 'squid': 26540, 'grimper': 12292, 'ventes': 28994, 'rouges': 24203, 'reality': 23005, 'well': 29732, 'most': 18294, 'zuckerberg': 30044, 'meta': 17709, 'leçons': 15891, 'élégance': 30340, 'subissons': 26789, 'occupation': 19446, 'coordination': 6102, 'autorité': 2163, 'palestinienne': 19961, 'nombr': 19070, 'lue': 16575, 'prête': 22238, 'iraniens': 14348, 'quest': 22605, 'casque': 4106, 'réalité': 24398, 'virtuelle': 29281, 'ht': 13070, 'pétrolier': 22499, 'détourné': 9223, 'clandestins': 4929, 'équipage': 30476, 'secouru': 25411, 'libye': 15979, 'remporte': 23449, 'alice': 790, 'guy': 12427, 'hospitalisations': 13035, 'données': 8163, 'personnelles': 20592, 'fichés': 10840, 'létat': 16806, 'rêve': 24806, 'len': 15721, 'sympa': 27124, 'deviner': 7504, 'tennis': 27537, 'vieil': 29143, 'jama': 14513, 'quête': 22668, 'renforts': 23513, 'lol': 16394, 'réactiver': 24369, 'iranien': 14345, 'activer': 296, 'utiliser': 28766, 'interface': 14100, 'reporterre': 23604, 'inaugure': 13559, 'mensuel': 17621, 'culturel': 6681, 'trouverez': 28386, 'livres': 16290, 'mood': 18223, 'déprime': 9055, 'bolloré': 3115, 'concentration': 5534, 'arrêté': 1684, 'génétique': 12515, 'sabrina': 24831, 'fingers': 10949, 'weird': 29725, 'facts': 10510, 'human': 13096, 'halal': 12631, 'mire': 17948, 'admire': 388, 'objet': 19373, 'psychanalyse': 22265, 'crois': 6513, 'nuage': 19252, 'dioxyde': 7786, 'soufre': 26287, 'venu': 28997, 'volcan': 29429, 'canaries': 3895, 'corps': 6169, 'étang': 30517, 'corruption': 6192, 'brut': 3540, 'campingcar': 3872, 'décapité': 8543, 'laurence': 15537, 'boccolini': 3083, 'lanecdote': 15346, 'loireatlantique': 16385, 'subventions': 26811, 'préfet': 22094, 'ruraux': 24323, 'pires': 20844, 'mariages': 17232, 'motivations': 18307, 'obscures': 19392, 'atelle': 1880, 'marianne': 17236, 'arrive': 1655, 'kiosque': 15050, 'seum': 25658, 'énervé': 30395, 'dégoûté': 8797, 'largement': 15439, 'répandue': 24601, 'funérailles': 11572, 'prince': 21616, 'philip': 20694, 'spéciales': 26513, 'suivies': 26896, 'rentrer': 23551, 'irak': 14340, 'investiture': 14287, 'barnier': 2520, 'escale': 9960, 'lhomme': 15916, 'valait': 28833, 'courtois': 6329, 'tome': 27894, 'pandémies': 19991, 'partagez': 20179, 'diffusez': 7666, 'contribuables': 6019, 'associés': 1819, 'angoisses': 1152, 'nocturnes': 19049, 'provoquées': 22029, 'chat': 4529, 'lexécutif': 15888, 'dutiliser': 8457, 'lété': 16817, 'castres': 4135, 'violée': 29260, 'boite': 3105, 'suspect': 27066, 'originaire': 19754, 'guinée': 12408, 'écroué': 30211, 'sara': 25141, 'netanyahu': 18904, 'entendue': 9788, 'puissante': 22335, 'étés': 30599, 'tendance': 27523, 'ultra': 28621, 'canons': 3936, 'ave': 2220, 'limite': 16079, 'validité': 28854, 'voyager': 29519, 'cousins': 6336, 'heres': 12828, 'speech': 26444, 'rester': 23773, 'actif': 284, 'rec': 23028, 'bosses': 3205, 'paye': 20375, 'fier': 10853, 'single': 25908, 'dé': 8482, 'matthieu': 17450, 'delormeau': 7230, 'intéressé': 14234, 'coups': 6285, 'moments': 18101, 'drôles': 8370, 'lavocat': 15588, 'indiqué': 13701, 'libéré': 15994, 'joy': 14777, 'hallyday': 12644, 'delle': 7227, 'retranscription': 23853, 'fidèle': 10847, 'éventuel': 30621, 'typique': 28518, 'mauvaise': 17472, 'foi': 11122, 'privée': 21669, 'proches': 21709, 'activités': 308, 'jugés': 14817, 'décevants': 8559, 'carbone': 4006, 'dilemme': 7698, 'institutions': 14026, 'shell': 25727, 'pulls': 22346, 'project': 21814, 'récit': 24428, 'dépouilles': 9047, 'formation': 11236, 'délite': 8857, 'intense': 14069, 'bouleversant': 3264, 'hostiles': 13046, 'christian': 4737, 'bale': 2413, 'fêtent': 11651, 'vraies': 29544, 'fausses': 10671, 'allergies': 842, 'alimentaires': 800, 'retrait': 23845, 'désigne': 9130, 'afghane': 507, 'benjamin': 2743, 'mendy': 17609, 'répondu': 24626, 'présentes': 22165, 'avions': 2252, 'xavi': 29887, 'hernandez': 12831, 'entraîneur': 9833, 'relations': 23326, 'égypte': 30258, 'évolué': 30644, 'libyen': 15980, 'che': 4558, 'intermittents': 14109, 'poursuivent': 21430, 'occupations': 19447, 'théâtres': 27756, 'bugaledbreizh': 3593, 'jugement': 14807, 'alexandre': 767, 'diplomatiques': 7796, 'saviezvous': 25249, 'encadrer': 9595, 'linterprète': 16189, 'adoré': 420, 'lobjectif': 16321, 'retrouvailles': 23857, 'fo': 11117, 'propension': 21897, 'jo': 14659, 'décrocher': 8691, 'médaille': 18562, 'elite': 9447, 'minority': 17925, 'climate': 5003, 'damage': 6915, 'modifie': 18054, 'strasbourg': 26693, 'secouée': 25415, 'principale': 21622, 'classée': 4963, 'raid': 22766, 'plane': 20937, 'arrest': 1645, 'couple': 6282, 'trying': 28419, 'flee': 11041, 'quarantine': 22560, 'xavier': 29888, 'bertrand': 2788, 'essonne': 10034, 'policier': 21141, 'roué': 24241, 'algériens': 784, 'jouent': 14731, 'quavant': 22578, 'écrans': 30187, 'wilder': 29788, 'supers': 26930, 'mamies': 17059, 'visite': 29317, 'lassociation': 15488, 'modification': 18052, 'cahier': 3778, 'charges': 4484, 'origine': 19760, 'vestiges': 29075, 'dernières': 7368, 'barrage': 2526, 'baissé': 2394, 'nimporte': 19004, 'démembré': 8898, 'iii': 13330, 'vice': 29103, 'andreas': 1118, 'quitté': 22643, 'investis': 14280, 'amiens': 1009, 'honore': 12988, 'russell': 24329, 'sauveur': 25227, 'doctor': 8050, 'auteur': 2113, 'loutil': 16518, 'tâches': 28525, 'windows': 29801, 'participation': 20198, 'limmigration': 16091, 'jappelle': 14539, 'vision': 29310, 'intéressante': 14228, 'soumission': 26322, 'yvelines': 29991, 'enlevé': 9713, 'dealers': 7146, 'réclament': 24433, 'occupants': 19445, 'rénover': 24590, 'lagglo': 15230, 'paiements': 19936, 'cryptos': 6586, 'gâté': 12462, 'méga': 18609, 'curious': 6705, 'schneider': 25312, 'narcos': 18766, 'sch': 25301, 'streets': 26716, 'tchèque': 27452, 'menés': 17651, 'adrian': 428, 'mannarino': 17133, 'tentent': 27550, 'remonter': 23417, 'passons': 20289, 'excuser': 10217, 'veux': 29087, 'contrairement': 5997, 'abattoir': 25, 'classique': 4960, 'vaches': 28812, 'tuées': 28493, 'disparition': 7894, 'tragique': 28093, 'parfaite': 20104, 'intellectuelle': 14060, 'ho': 12919, 'starting': 26594, 'hour': 13054, 'coffre': 5100, 'serena': 25586, 'sentais': 25535, 'odeur': 19472, 'autorisent': 2154, 'adultes': 434, 'policière': 21144, 'rebondissements': 23022, 'intégralement': 14216, 'télématin': 28543, 'mémoire': 18623, 'jeandaniel': 14576, 'flaysakier': 11040, 'mariage': 17231, 'affole': 496, 'toile': 27861, 'célébré': 6781, 'zimbabwe': 30023, 'peti': 20642, 'choisissez': 4698, 'attire': 1971, 'safran': 24879, 'épice': 30421, 'millénaire': 17870, 'pousse': 21440, 'verdir': 29015, 'extraite': 10422, 'graphique': 12216, 'emissions': 9520, 'légumes': 16750, 'cultiver': 6677, 'potager': 21355, 'débutants': 8526, 'suède': 27095, 'blessées': 3006, 'grièvement': 12302, 'explosion': 10343, 'immeuble': 13414, 'there': 27675, 'around': 1633, 'score': 25353, 'soviétique': 26403, 'révocation': 24760, 'genève': 11908, 'four': 11299, 'injured': 13875, 'after': 525, 'old': 19549, 'wwii': 29883, 'aircraft': 671, 'bomb': 3119, 'explodes': 10319, 'munich': 18424, 'renoncent': 23526, 'plus': 21050, 'vidéos': 29140, 'orage': 19676, 'précipitations': 22058, 'abattus': 30, 'charente': 4476, 'enigme': 9706, 'trouveront': 28387, 'revalorisation': 23878, 'pensions': 20473, 'aspirations': 1757, 'personnels': 20593, 'linformation': 16150, 'donnée': 8162, 'ipo': 14336, 'lotetgaronne': 16484, 'pleurs': 21011, 'résignation': 24679, 'motogp': 18314, 'f1': 10454, 'wrc': 29871, 'lhonneur': 15919, 'brisent': 3477, 'omerta': 19580, 'jourlà': 14749, 'dores': 8185, 'débuté': 8532, 'témoignage': 28572, 'inédit': 14315, 'poignant': 21085, 'figurine': 10875, 'passage': 20248, 'piéton': 20881, 'volée': 29459, 'dégradée': 8804, 'cherche': 4596, 'envoyer': 9906, 'note': 19166, 'resté': 23793, 'trimestre': 28312, 'conséquences': 5901, 'priest': 21600, 'post': 21329, 'vague': 28818, 'notification': 19173, 'répondez': 24621, 'prévenir': 22215, 'internationaux': 14119, 'uni': 28648, 'medef': 17544, 'patrons': 20345, 'sinquiètent': 25918, 'difficultés': 7657, 'menacer': 17596, 'orientale': 19748, 'matinée': 17434, 'chèvres': 4792, 'actuellement': 321, 'scoprite': 25352, 'nuova': 19291, 'collezione': 5182, 'tendent': 27525, 'effacer': 9362, 'secteurs': 25434, 'jan': 14527, 'banning': 2472, 'emmène': 9531, 'prisons': 21646, 'ouganda': 19828, 'colombie': 5214, 'idylle': 13294, 'golfe': 12078, 'victorine': 29124, 'projetko': 21825, 'despentes': 7394, 'fascistes': 10633, 'homophobes': 12966, 'norvège': 19147, 'manque': 17144, 'thermiques': 27680, 'taxer': 27438, 'apparemment': 1391, 'revues': 23929, 'guillemets': 12398, 'bloquent': 3044, 'carrément': 4071, 'comedy': 5284, 'pâle': 22409, 'javais': 14559, 'alors': 900, 'chutent': 4773, 'richard': 23965, 'rugby': 24290, 'suppose': 26948, 'connais': 5721, 'affiches': 478, 'star': 26580, 'wars': 29665, 'lest': 15808, 'renoncé': 23528, 'prof': 21749, 'seconde': 25402, 'percer': 20491, 'nettement': 18910, 'engagé': 9688, 'séduction': 27194, 'collègues': 5198, 'étincelle': 30549, 'déclencher': 8612, 'foudre': 11283, 'détroit': 9232, 'taïwan': 27446, 'cristallise': 6487, 'toute': 28028, 'delphine': 7233, 'jubillar': 14791, 'ch': 4349, 'brahim': 3368, 'laetitia': 15208, 'inconnu': 13631, 'novembre': 19228, 'racontent': 22720, 'révélations': 24785, 'rugy': 24293, 'million': 17865, 'oldest': 19551, 'animals': 1167, 'communities': 5378, 'audrey': 2035, 'pulvar': 22351, 'antiraciste': 1313, 'taire': 27341, 'arrivée': 1665, 'desserts': 7405, 'panier': 19995, 'juniors': 14848, 'identifié': 13275, 'ocs': 19459, 'bouleverser': 3271, 'ordre': 19706, 'montebourg': 18178, 'privés': 21671, 'létranger': 16814, 'importance': 13477, 'ontelles': 19607, 'auditeur': 2028, 'léo': 16778, 'dubois': 8379, 'claque': 4933, 'seu': 25650, 'saintetienne': 24923, 'déposer': 9038, 'usage': 28729, 'faux': 10680, 'norvégien': 19148, 'gagnant': 11687, 'champions': 4405, 'circuit': 4854, 'compétitif': 5515, 'mê': 18686, 'lexemple': 15858, 'justesse': 14883, 'revendications': 23890, 'mobilisation': 18013, 'couverte': 6349, 'convaincu': 6052, 'civile': 4897, 'mon': 18106, 'vo': 29384, 'romans': 24150, 'despionnage': 7396, 'vincent': 29222, 'seuil': 25651, 'ouvrage': 19867, 'incroyables': 13651, 'panorama': 20005, 'plusieu': 21051, 'minneapolis': 17920, 'demi': 7264, 'entendez': 9783, 'douce': 8242, 'mélodie': 18621, 'frissons': 11483, 'confrères': 5691, 'marchait': 17199, 'gennevilliers': 11891, 'jétais': 14911, 'insta': 13986, 'bb': 2632, 'valls': 28864, 'trio': 28316, 'infernal': 13774, 'musclé': 18454, 'stupide': 26752, 'parano': 20064, 'détenue': 9196, 'radicalisée': 22743, 'fresnes': 11464, 'sévader': 27271, 'creusé': 6452, 'trou': 28367, 'tôt': 28588, 'noir': 19055, 'intermédiaire': 14110, 'amas': 954, 'détoiles': 9215, 'astronomes': 1860, 'appuyant': 1501, 'bouton': 3325, 'paypal': 20382, 'collectif': 5165, 'nivernais': 19023, 'appelle': 1419, 'lalgérie': 15278, 'lisnard': 16245, 'fustige': 11591, 'bombe': 3126, 'corte': 6202, 'reconquérir': 23116, 'urbain': 28701, 'lart': 15466, 'secret': 25418, 'peau': 20410, 'linde': 16126, 'décide': 8580, 'taxes': 27439, 'carburants': 4008, 'enrayer': 9741, 'tribunal': 28289, 'suprême': 26967, 'asghar': 1736, 'farhadi': 10616, 'penelope': 20452, 'cruz': 6580, 'javier': 14561, 'ricardo': 23962, 'jouez': 14742, 'gagnez': 11695, 'invitations': 14297, 'clemenceau': 4980, 'doigt': 8082, 'hu': 13072, 'missile': 17967, 'antisatellite': 1316, 'papin': 20030, 'lavoine': 15590, 'vaccinodrome': 28803, 'montargis': 18168, 'témoigné': 28577, 'cadeau': 3760, 'ami': 1003, 'pensait': 20460, 'perle': 20530, 'mineures': 17890, 'prostituées': 21949, 'ultras': 28626, 'kardashian': 14944, 'kim': 15040, 'kardashians': 14945, 'snl': 26035, 'socialistes': 26062, 'diffusé': 7668, 'caricature': 4032, 'antisémite': 1321, 'règles': 24355, 'strictes': 26723, 'policières': 21145, 'gare': 11786, 'dorléans': 8194, 'modèles': 18060, 'lintégration': 16199, 'lénorme': 16777, 'solitude': 26144, 'porteparole': 21273, 'lrem': 16544, 'découvrant': 8673, 'daugmenter': 7089, 'visage': 29294, 'carcéral': 4011, 'junte': 14850, 'birmane': 2926, 'anciens': 1103, 'ups': 28698, 'distribuer': 7961, 'lots': 16487, 'drones': 8358, 'tousse': 28026, 'délibérément': 8839, 'serveuse': 25625, 'terreur': 27587, 'mot': 18297, 'tabou': 27305, 'réveille': 24749, 'fantômes': 10608, 'historia': 12896, 'préfecture': 22093, 'lallement': 15282, 'contesté': 5951, 'avocate': 2257, 'mayotte': 17493, 'affirme': 487, 'eu': 10093, 'traiter': 28118, 'affaires': 462, 'mineurs': 17891, 'rétention': 24714, 'av': 2188, 'menti': 17637, 'prétendue': 22210, 'collusion': 5194, 'dappel': 7007, 'lannulation': 15368, 'lécrivain': 16707, 'perspective': 20595, 'annoncés': 1213, 'retraités': 23851, 'loccasion': 16343, 'tchat': 27450, 'soustitres': 26358, 'honnête': 12982, 'faveur': 10682, 'pipeline': 20823, 'dakota': 6883, 'power': 21469, 'comes': 5286, 'responsibility': 23732, 'abolition': 63, 'côtedor': 6798, 'mystérieux': 18517, 'délégation': 8873, 'chauffeurs': 4545, 'reçue': 23942, 'rudi': 24282, 'prolongé': 21838, 'claire': 4916, 'chazal': 4555, 'talkshow': 27365, 'alain': 707, 'delon': 7229, 'grandchose': 12194, 'hais': 12627, 'désinformation': 9140, 'aspirine': 1760, 'asthme': 1845, 'compatible': 5415, 'décrets': 8683, 'bioéthique': 2918, 'entrent': 9837, 'indemnités': 13667, 'accordées': 184, 'abonnant': 65, 'cana': 3884, 'destinée': 7427, 'pouvant': 21457, 'landes': 15342, 'perturbé': 20617, 'timide': 27793, 'dentre': 7327, 'discrétion': 7867, 'épreuve': 30457, 'suppressions': 26954, 'daccord': 6823, 'inclusive': 13617, 'nouvell': 19211, 'refuse': 23236, 'étendre': 30532, 'cinémas': 4840, 'spectacles': 26437, 'poignée': 21094, 'municipalité': 18429, 'anno': 1200, 'bienveillance': 2857, 'positive': 21315, 'aton': 1899, 'lagence': 15226, 'lastronaute': 15494, 'roman': 24145, 'survenu': 27033, 'coûté': 6395, 'démolition': 8929, 'ancienne': 1101, 'edf': 9342, 'a31': 3, 'coupée': 6289, 'metz': 17727, 'airlines': 675, 'files': 10883, 'exit': 10276, 'important': 13478, 'collaborateurs': 5145, 'fidèles': 10848, 'démarrer': 8893, 'inconnus': 13634, 'lair': 15249, 'connaissent': 5726, 'julie': 14832, 'malade': 16993, 'lont': 16421, 'inquiété': 13927, 'rapidement': 22864, 'imaginons': 13392, 'rêvez': 24811, 'sûrement': 27285, 'balcon': 2410, 'einstein': 9420, 'présentait': 22156, 'théorie': 27743, 'relativité': 23330, 'générale': 12490, 'ell': 9451, 'propositions': 21920, 'référendum': 24511, 'souveraineté': 26392, 'sharon': 25718, 'stone': 26668, 'assassin': 1767, 'spotify': 26492, 'dispose': 7914, 'montauban': 18169, 'revisite': 23915, 'etienne': 10089, 'daho': 6868, 'remercier': 23400, 'officially': 19507, 'sexual': 25687, 'orientation': 19749, 'mensonges': 17616, 'récent': 24416, 'traumatisme': 28217, 'abus': 118, 'sexuels': 25694, 'église': 30251, 'lascension': 15472, 'dorelsan': 8184, 'fans': 10599, 'permette': 20543, 'revendiquer': 23893, 'morale': 18235, 'aussi': 2095, 'fuité': 11549, 'prévue': 22233, 'sopposer': 26218, 'fermeture': 10772, 'urgences': 28711, 'insécurité': 14052, 'dangereuse': 6953, 'bobigny': 3079, 'fauteuils': 10677, 'inscrivezvous': 13946, 'gratuitement': 12235, 'tourner': 28013, 'débarque': 8487, 'squattée': 26536, 'toulouse': 27989, 'accélère': 236, 'biathlon': 2825, 'jaune': 14554, 'sprint': 26503, 'soigner': 26104, 'réélection': 24800, 'corbyn': 6145, 'gérée': 12534, 'argus': 1585, 'dépenses': 9005, 'fiscale': 10982, 'records': 23127, 'croissante': 6524, 'impôt': 13539, 'berne': 2778, 'express': 10373, 'aidés': 635, 'penche': 20440, 'lenquête': 15743, 'drôle': 8369, 'indisponible': 13705, 'vinted': 29232, 'zad': 30000, 'réuni': 24723, 'écolos': 30152, 'défenseurs': 8755, 'terres': 27584, 'va': 28778, 'nation': 18795, 'noublions': 19187, 'linvité': 16212, 'parution': 20233, 'serons': 25605, 'playlist': 20986, 'dégringolade': 8806, 'continues': 5968, 'miser': 17958, 'utilisateurs': 28761, 'consignes': 5822, 'vélo': 29586, 'beauvais': 2667, 'bourses': 3306, 'déplace': 9013, 'change': 4419, 'allée': 881, 'ren': 23459, 'lavenir': 15576, 'investor': 14289, 'lorrain': 16458, 'capricieux': 3970, 'convient': 6071, 'manifestent': 17115, 'têtu': 28587, 'abattu': 28, 'lecteurs': 15663, 'arriver': 1657, 'valentine': 28843, 'luxury': 16642, 'rv': 24342, 'scams': 25281, 'intégration': 14219, 'pol': 21127, 'sabato': 24821, 'pépites': 22470, 'inattendues': 13556, 'philippot': 20699, 'papa': 20015, 'ruralité': 24322, 'joël': 14782, 'giraud': 11996, 'isole': 14411, 'blague': 2970, 'portable': 21256, 'vendeur': 28970, 'tomates': 27880, 'apparait': 1386, 'teaser': 27463, 'flippant': 11063, 'atelier': 1878, 'lhistorienne': 15913, 'abolir': 62, 'hautesavoie': 12743, 'pétition': 22495, 'cloches': 5024, 'descente': 7381, 'enfers': 9665, 'matt': 17444, 'damon': 6934, 'visé': 29334, 'promotion': 21866, 'hijab': 12867, 'gueule': 12379, 'françoisxavier': 11416, 'bellamy': 2718, 'nolwenn': 19064, 'leroy': 15780, 'ser': 25566, 'hasard': 12721, 'autoroute': 2165, 'vivre': 29380, 'jérôme': 14907, 'rivière': 24059, 'immense': 13409, 'échec': 30104, 'perte': 20606, 'demplois': 7285, 'confiance': 5628, 'inspire': 13977, 'utilisez': 28768, 'gif': 11965, 'pornos': 21252, 'choisi': 4693, 'pren': 21528, 'epidémie': 9921, 'jeff': 14601, 'bezos': 2813, 'senvole': 25556, 'fusée': 11594, 'hb': 12775, 'activement': 294, 'révélée': 24789, 'exacte': 10163, 'traumatisé': 28219, 'raoult': 22851, 'actuels': 323, 'galaxie': 11707, 'constitue': 5866, 'régimes': 24525, 'violente': 29249, 'reporters': 23605, 'manifestement': 17114, 'compatibles': 5416, 'bizarrement': 2950, 'sont': 26209, 'balades': 2400, 'kayak': 14964, 'inédits': 14318, 'céline': 6770, 'souvent': 26389, 'agace': 528, 'airs': 678, 'connivence': 5750, 'goût': 12164, 'télérama': 28551, 'protesté': 21970, 'féminin': 11632, 'égorger': 30253, 'jamel': 14520, 'réclamer': 24434, 'féminicides': 11631, 'concentré': 5538, 'tirs': 27822, 'fautes': 10675, 'prononcer': 21877, 'horreurs': 13014, 'températures': 27515, 'baissent': 2391, 'risques': 24029, 'monoxyde': 18144, 'augmentent': 2042, 'rixes': 24063, 'poignardé': 21090, 'épidémie': 30426, 'distribution': 7964, 'salariée': 24994, 'identitaire': 13282, 'interdite': 14095, 'souci': 26264, 'dh': 7546, 'dégénère': 8819, 'transportés': 28206, 'playoffs': 20990, 'exclusif': 10202, 'antipresse': 1306, 'alexa': 764, 'interactions': 14083, 'ia': 13237, 'bosse': 3203, 'legrand': 15694, 'conjugale': 5716, 'mener': 17610, 'coupé': 6288, 'révolutionné': 24776, 'pédocriminalité': 22440, 'leglise': 15692, 'apaisé': 1359, 'tentation': 27547, 'president': 21558, 'warns': 29661, 'remove': 23426, 'elites': 9448, 'politics': 21160, 'postbrexit': 21333, 'négociations': 19338, 'cruciale': 6563, 'profitez': 21774, 'décor': 8651, 'attend': 1939, 'preuves': 21587, 'damour': 6935, 'restaurer': 23770, 'solides': 26141, 'sommet': 26179, 'annecy': 1189, 'amplifie': 1038, 'messages': 17694, 'colonies': 5226, 'éduquer': 30241, 'mission': 17970, 'say': 25267, 'baby': 2331, 'secourus': 25413, 'pasdecalais': 20246, 'brest': 3425, 'fabrication': 10468, 'traditionnelle': 28075, 'inde': 13659, 'vendent': 28968, 'dans': 6985, 'participez': 20205, 'tournois': 28015, 'uefa': 28601, 'fifa': 10857, 'disponibles': 7911, 'playstation': 20992, 'redécouvrez': 23200, 'télévisées': 28567, 'gén': 12474, 'subi': 26783, 'spectateurs': 26441, 'stadium': 26555, 'connaît': 5734, 'rappelé': 22880, 'grandebretagne': 12196, 'coloniales': 5223, 'nuclear': 19257, 'turn': 28476, 'unité': 28669, 'curiosité': 6704, 'imagination': 13387, 'désir': 9142, 'avancer': 2203, 'pouvaient': 21455, 'fordert': 11220, 'dass': 7052, 'zu': 30043, 'nette': 18909, 'linvitée': 16213, 'imite': 13404, 'platini': 20976, 'updated': 28694, 'crisis': 6484, 'standards': 26573, 'hospital': 13031, 'principaux': 21625, 'voyaient': 29525, 'complotistes': 5449, 'sapins': 25129, 'offensive': 19491, 'uniforme': 28653, 'islam': 14387, 'puisje': 22328, 'loue': 16494, 'informent': 13823, 'hautrhin': 12750, 'lhôpital': 15943, 'mulhouse': 18402, 'urge': 28707, 'aubois': 2006, 'pieds': 20763, 'lisez': 16237, 'weekly': 29715, 'digest': 7678, 'thèses': 27737, 'delles': 7228, 'provenance': 22002, 'sud': 26837, 'savons': 25259, 'présent': 22155, 'déjantée': 8823, 'cryptomonnaie': 6584, 'sois': 26116, 'trompé': 28350, 'lerreur': 15781, 'munis': 18432, 'drapeaux': 8305, 'conseillent': 5779, 'découdre': 8660, 'indispensables': 13704, 'décider': 8582, 'analyses': 1082, 'décryptages': 8697, 'prestations': 21580, 'lavocate': 15589, 'tenus': 27560, 'échappent': 30096, 'difficilement': 7654, 'et': 10071, 'bracelet': 3358, 'auteurs': 2115, 'culturels': 6684, 'arrêtés': 1687, 'venez': 28982, 'thread': 27712, 'couette': 6250, 'reporté': 23608, 'lenseignante': 15746, 'puissent': 22339, 'assister': 1801, 'disques': 7928, 'julian': 14831, 'chevalier': 4610, 'benoît': 2751, 'elysée': 9467, 'indigne': 13690, 'conditions': 5604, 'dhiver': 7562, 'enlever': 9712, 'appareils': 1390, 'ardèche': 1570, 'coulisses': 6260, 'monastère': 18111, 'tierslieu': 27770, 'défaite': 8731, 'détails': 9174, 'coûtent': 6387, 'conduit': 5614, 'curieuse': 6701, 'coïncidence': 6383, 'opérations': 19668, 'gear': 11862, 'adil': 365, 'rami': 22818, 'raphaël': 22860, 'duel': 8388, 'disparu': 7897, 'décidément': 8587, 'accro': 194, 'séduit': 27199, 'lorsqu': 16461, 'agit': 563, 'opportunités': 19634, 'profit': 21767, 'oublié': 19822, 'ent': 9773, 'remplacement': 23432, 'basket': 2560, 'msb': 18386, 'adele': 352, 'morceau': 18244, 'souvenez': 26385, 'fb': 10704, 'conspi': 5841, 'glaçant': 12032, 'qq': 22522, 'another': 1243, 'hashtag': 12722, 'demand': 7242, 'chargé': 4487, 'addiction': 344, 'sandwich': 25085, 'kiss': 15056, 'expulsions': 10388, 'annoncées': 1212, 'égalité': 30247, 'parvenir': 20235, 'différences': 7674, 'littéraire': 16266, 'numérique': 19284, 'numé': 19281, 'nez': 18959, 'lécrivaine': 16708, 'porcel': 21241, 'constitution': 5869, 'ppda': 21481, 'bilan': 2878, 'ciotti': 4847, 'juvin': 14897, 'accusée': 231, 'greg': 12263, 'buzz': 3661, 'valeur': 28846, 'après': 1509, 'facteur': 10504, 'agir': 556, 'fall': 10561, 'guys': 12431, 'rigolo': 23992, 'gonflable': 12087, 'marion': 17257, 'maréchal': 17355, 'généraux': 12503, 'émoi': 30376, 'réparations': 24603, 'déforestation': 8787, 'province': 22014, 'provoqué': 22027, 'cités': 4895, 'développé': 9260, 'écoutez': 30184, 'inv': 14248, 'forcé': 11214, 'ouïgours': 19883, 'zara': 30003, 'sanctionné': 25075, 'rassure': 22924, 'cons': 5763, 'vainqueur': 28825, 'trophée': 28357, 'pedri': 20416, 'dimension': 7707, 'moyenâge': 18374, 'cliquez': 5018, 'rave': 22959, 'god': 12065, 'save': 25241, 'michelle': 17770, 'débloque': 8505, 'supplémentaires': 26937, 'précarité': 22051, 'menstruelle': 17619, 'suffi': 26857, 'navette': 18838, 'yvan': 29990, 'coécrit': 6380, 'agnès': 571, 'buzyn': 3660, 'convoquée': 6082, 'liban': 15952, 'anges': 1142, 'rires': 24016, 'larmes': 15449, 'avoue': 2270, 'cyber': 6724, 'évoluent': 30640, 'organisations': 19727, 'fontelles': 11187, 'emily': 9515, 'reproduire': 23643, 'look': 16423, 'lily': 16067, 'collins': 5188, 'vita': 29339, 'bains': 2388, 'privatise': 21657, 'clients': 4997, 'yikes': 29953, 'chili': 4649, 'dinosaure': 7755, 'queue': 22616, 'ravage': 22955, 'traite': 28114, 'méditation': 18596, 'lâcher': 16674, 'foutre': 11328, 'paix': 19952, 'justine': 14893, 'parle': 20140, 'doc': 8038, 'fragiles': 11346, 'taxe': 27437, 'séjour': 27206, 'concernées': 5549, 'montant': 18165, 'juventus': 14896, 'extraordinaire': 10424, 'attendent': 1944, 'donnez': 8157, 'del': 7204, 'marshall': 17322, 'limoges': 16094, 'appartement': 1399, 'renforcer': 23507, 'progressivement': 21807, 'vêtements': 29613, 'salir': 25006, 'planète': 20955, 'complot': 5446, 'dégager': 8792, 'responsabilité': 23727, 'autorités': 2164, 'cluster': 5045, 'ehpad': 9409, 'vesoul': 29070, 'maria': 17230, 'ortega': 19779, 'fashion': 10634, 'bouleversantes': 3266, 'inconnue': 13632, 'int': 14055, 'choisit': 4699, 'géant': 12469, 'angélique': 1157, 'réclusion': 24437, 'criminelle': 6476, 'perpétuité': 20559, 'sûreté': 27286, 'requise': 23683, 'ram': 22805, 'clash': 4946, 'ifop': 13309, 'romillysurseine': 24156, 'aménagements': 1061, 'jeanjaurès': 14582, 'diderot': 7631, 'booba': 3163, 'ensuite': 9772, 'entame': 9774, 'faim': 10533, 'demander': 7249, 'réintégration': 24568, 'établissement': 30505, 'rayon': 22976, 'chips': 4671, 'supérette': 26969, 'sourire': 26343, 'commissariat': 5349, 'rambouillet': 22812, 'tuée': 28492, 'ressentez': 23744, 'joie': 14686, 'liée': 16301, 'malheurs': 17025, 'solution': 26156, 'survivre': 27049, 'minute': 17933, 'noel': 19050, 'réunissent': 24734, 'pablo': 19913, 'picasso': 20751, 'allié': 854, 'cuire': 6651, 'bons': 3160, 'plats': 20978, 'tarte': 27411, 'fraises': 11354, 'framboises': 11358, 'gourmandises': 12129, 'privilégiée': 21666, 'cybercriminels': 6728, 'formidables': 11246, 'effondrement': 9385, 'nationa': 18796, 'fut': 11596, 'lauréate': 15542, 'cnews': 5063, 'détrône': 9239, 'nyc': 19305, 'cab': 3729, 'drivers': 8338, 'won': 29839, 'massive': 17391, 'debt': 7161, 'relief': 23353, 'hunger': 13125, 'strike': 26724, 'tweet': 28500, 'erdogan': 9934, 'apolline': 1380, 'malherbe': 17020, 'dhistoire': 7559, 'préférée': 22105, 'reprend': 23624, 'tvl': 28497, 'stylée': 26768, 'boites': 3106, 'métal': 18651, 'rétablit': 24713, 'léchéance': 16695, 'castaner': 4127, 'aimerait': 656, 'arrête': 1677, 'dadhérents': 6844, 'générations': 12502, 'participer': 20203, 'tentez': 27553, 'organise': 19728, 'gra': 12172, 'omg': 19581, 'grandmère': 12206, 'maeva': 16880, 'ghennam': 11943, 'sadresse': 24869, 'auront': 2085, 'revisitée': 23918, 'pâte': 22411, 'jus': 14869, 'mange': 17088, 'peuples': 20659, 'arabes': 1523, 'pourraient': 21408, 'sils': 25859, 'distances': 7951, 'antipasse': 1305, 'devraient': 7514, 'cacher': 3749, 'caves': 4194, 'dévoilées': 9275, 'léquipe': 16798, 'championne': 4403, 'décroché': 8693, 'qualification': 22540, 'afghans': 510, 'prie': 21598, 'automatiquement': 2133, 'côté': 6802, 'lau': 15521, 'carte': 4075, 'pdg': 20402, 'sncf': 26028, 'creepy': 6445, 'metaverse': 17711, 'interventions': 14165, 'lamentable': 15306, 'poivre': 21120, 'arvor': 1722, 'déguisé': 8813, 'joker': 14696, 'passagers': 20250, 'gaullistes': 11833, 'problèmes': 21691, 'fonctionnaire': 11144, 'protections': 21959, 'périodiques': 22482, 'gratuites': 12236, 'étudiantes': 30591, 'prochaine': 21704, 'afp': 512, 'outil': 19845, 'lindustrie': 16136, 'ventre': 28995, 'dalerte': 6891, 'ingrid': 13840, 'discuter': 7875, 'fraude': 11429, 'menteur': 17633, 'judaïsme': 14793, 'créolisation': 6622, 'chercheur': 4599, 'séisme': 27204, 'pompier': 21208, 'épinal': 30434, 'sinistrés': 25915, 'colère': 5255, 'pakistan': 19953, 'prétend': 22201, 'converti': 6063, 'gays': 11844, 'cheers': 4564, 'mention': 17638, 'harcelée': 12699, 'lena': 15722, 'chen': 4588, 'posant': 21302, 'nue': 19264, 'crypto': 6582, 'min': 17879, 'cultures': 6685, 'dimmigrés': 7717, 'champs': 4407, 'signatures': 25819, 'renvoi': 23561, 'explications': 10305, 'vitamines': 29346, 'bienfaits': 2850, 'résistante': 24686, 'espionne': 9990, 'précisément': 22068, 'cat': 4138, 'vs': 29551, 'illusion': 13357, 'mat': 17402, 'now': 19230, 'puisquon': 22331, 'regretter': 23274, 'aimable': 648, 'regard': 23248, 'bêtise': 3719, 'electric': 9432, 'going': 12071, 'vintage': 29231, 'lire': 16228, 'lédition': 16711, 'vinaigre': 29220, 'allocution': 860, 'bois': 3101, 'lévolution': 16823, 'celleci': 4231, 'internes': 14123, 'médecine': 18568, 'réserves': 24664, 'groupes': 12327, 'rouen': 24197, 'libérer': 15992, 'familles': 10589, 'accueillant': 209, 'lancée': 15337, 'inter': 14081, 'victoire': 29118, 'diplo': 7789, 'lets': 15817, 'read': 23000, 'doom': 8167, 'lfs': 15895, 'gaspillage': 11804, 'crime': 6469, 'préfère': 22096, 'réunions': 24729, 'réservées': 24669, 'noirs': 19058, 'participent': 20202, 'labbaye': 15139, 'chiens': 4635, 'promeneurs': 21845, 'engager': 9686, 'traitement': 28115, 'déstabilisation': 9157, 'sarkozy': 25149, 'pfizer': 20671, 'essais': 10016, 'cliniques': 5009, 'soustraitant': 26360, 'group': 12323, 'lectures': 15667, 'archive': 1555, 'étudié': 30596, 'résultat': 24700, 'contrôlent': 6040, 'sète': 27171, 'confirmée': 5658, 'frappés': 11424, 'feux': 10814, 'involontaire': 14307, 'établi': 30501, 'conspiration': 5843, 'arrêtera': 1680, 'bulldozer': 3604, 'adeptes': 355, 'courbe': 6300, 'valentin': 28841, 'cathédrale': 4159, 'troyes': 28397, 'délivrent': 8862, 'passeport': 20263, 'renouer': 23530, 'mythique': 18521, 'missiles': 17968, 'tirés': 27826, 'corée': 6205, 'washington': 29670, 'saisit': 24967, 'hospitalier': 13032, 'martial': 17329, 'chapitres': 4462, 'joachim': 14660, 'trier': 28304, 'rocade': 24089, 'convicted': 6067, 'illegal': 13345, 'campaign': 3867, 'détournée': 9224, 'legypte': 15696, 'cibler': 4810, 'trafiquants': 28090, 'protègent': 21980, 'fc': 10706, 'caractère': 3994, 'jeûne': 14645, 'recommandé': 23084, 'booster': 3175, 'dombre': 8110, 'séjourné': 27207, 'talibans': 27361, 'cnn': 5065, 'convaincus': 6054, 'déchange': 8560, 'association': 1811, 'raconter': 22721, 'aggraver': 551, 'fassent': 10638, 'agen': 538, 'roméo': 24161, 'jeanjacques': 14581, 'manif': 17102, 'aviez': 2249, 'navons': 18847, 'déréférencement': 9102, 'outremer': 19856, 'audiovisuel': 2025, 'sengage': 25514, 'ministère': 17913, 'arrivent': 1656, 'destination': 7423, 'miraculeusement': 17944, 'poursuit': 21427, 'workers': 29853, 'away': 2284, 'immigrant': 13416, 'entire': 9807, 'produce': 21729, 'thousands': 27711, 'worth': 29864, 'courir': 6311, 'pornic': 21246, 'athlètes': 1883, 'later': 15501, 'lille': 16061, 'terrasses': 27581, 'éphémères': 30419, 'faits': 10552, 'hauteloire': 12739, 'intoxication': 14192, 'collective': 5172, 'expertise': 10297, 'manteslajolie': 17158, 'fermé': 10778, 'mika': 17819, 'florent': 11080, 'pagny': 19932, 'fiori': 10968, 'spoiler': 26473, 'fail': 10522, 'sylvie': 27118, 'schmitt': 25311, 'désignée': 9134, 'adjointe': 368, 'léducation': 16715, 'lenfance': 15729, 'charlie': 4505, 'alexia': 770, 'larochejoubert': 15456, 'victoria': 29121, 'mannequins': 17135, 've': 28939, 'embarcation': 9479, 'pourboires': 21399, 'bancaire': 2447, 'friday': 11474, 'pyrénéesorientales': 22407, 'chantier': 4446, 'passerelle': 20269, 'têt': 28583, 'loïc': 16540, 'relâcher': 23371, 'appliquer': 1439, 'leçon': 15890, 'pillages': 20789, 'agents': 545, 'gign': 11975, 'envoyés': 9912, 'usa': 28727, 'impôts': 13540, 'éc': 30078, 'forment': 11242, 'défier': 8767, 'taureau': 27432, 'arène': 1725, 'killer': 15032, 'directrice': 7821, 'slam': 25985, 'voulez': 29504, 'tenter': 27551, 'passez': 20275, 'antonin': 1339, 'religieux': 23357, 'thorax': 27708, 'fusil': 11585, 'pokémon': 21126, 'proposer': 21915, 'montres': 18201, 'lourd': 16512, 'maestro': 16879, 'file': 10880, 'exceptionnel': 10187, 'invité': 14302, 'exerce': 10233, 'pronoms': 21874, 'brigitte': 3456, 'réagit': 24376, 'pronom': 21873, 'iel': 13306, 'toits': 27867, 'menu': 17646, 'saumon': 25203, 'molenbeek': 18086, 'balance': 2404, 'défenseur': 8753, 'internationale': 14117, 'campings': 3874, 'calvi': 3831, 'privilégiés': 21667, 'savions': 25252, 'frapper': 11420, 'françoi': 11412, 'tech': 27466, 'recruter': 23141, 'flops': 11075, 'machines': 16848, 'futur': 11597, 'puissances': 22333, 'manchester': 17072, 'deuil': 7455, 'romain': 24142, 'donnera': 8151, 'musicales': 18464, 'charitésurloire': 4498, 'mariés': 17269, 'amants': 952, 'décèdent': 8706, 'intervalle': 14161, 'maxi': 17479, 'campingcars': 3873, 'folie': 11129, 'plage': 20903, 'figure': 10870, 'bagarre': 2366, 'semé': 25502, 'cirque': 4866, 'modem': 18036, 'posent': 21304, 'flou': 11093, 'récap': 24413, 'masqués': 17377, 'choquent': 4713, 'internautes': 14121, 'prive': 21658, 'promesses': 21847, 'légion': 16733, 'juridique': 14859, 'posé': 21349, 'créer': 6618, 'accueillent': 211, 'dhonneur': 7568, 'coûte': 6386, 'sexcuser': 25669, 'mé': 18542, 'punaises': 22357, 'frelons': 11461, 'asiatiques': 1742, 'écureuils': 30213, 'pcr': 20398, 'dépister': 9010, 'rappeur': 22883, 'nick': 18975, 'conrad': 5762, 'relaxé': 23333, 'délit': 8856, 'provocation': 22020, 'disposent': 7915, 'insoumise': 13966, 'constituer': 5868, 'inversé': 14266, 'julien': 14833, 'accidentellement': 160, 'biflant': 2863, 'bleus': 3011, 'récupéré': 24459, 'maillot': 16935, 'fruits': 11512, 'consommer': 5835, 'moisci': 18081, 'gabby': 11668, 'petito': 20650, 'retrouvées': 23869, 'floride': 11085, 'parliament': 20151, 'extend': 10407, 'term': 27564, 'juan': 14790, 'branco': 3376, 'dinstruction': 7762, 'could': 6253, 'possibly': 21324, 'wrong': 29875, 'voulu': 29509, 'modernes': 18040, 'impressionnantes': 13506, 'gaultier': 11835, 'couples': 6283, 'loms': 16403, 'accorde': 177, 'indien': 13682, 'covaxin': 6359, 'rencontrez': 23477, 'trip': 28318, 'mdrrr': 17527, 'story': 26683, 'blessure': 3002, 'piqué': 20831, 'validé': 28855, 'tas': 27416, 'élevées': 30305, 'rendront': 23498, 'moyenorient': 18372, 'calme': 3820, 'manipulations': 17123, 'lorthographe': 16469, 'critère': 6503, 'sopposent': 26217, 'lien': 16018, 'c8': 3727, 'héroïques': 13212, 'révélation': 24784, 'roy': 24248, 'maîtrisé': 17503, 'mario': 17256, 'vargas': 28905, 'llosa': 16307, 'académie': 132, 'lit': 16254, 'francecoronavirus': 11366, 'durer': 8438, 'tueur': 28451, 'tuerie': 28447, 'again': 530, 'kyle': 15122, 'rittenhouse': 24037, 'kenosha': 14990, 'trial': 28284, 'hackers': 12604, 'accéder': 235, 'pistes': 20852, 'hôtellerierestauration': 13231, 'attirer': 1973, 'départements': 8983, 'foyers': 11332, 'électricité': 30288, 'sudouest': 26848, 'rafales': 22756, 'didentité': 7630, 'panamza': 19980, 'engagezvous': 9687, 'concrète': 5574, 'immédiate': 13439, 'denquête': 7309, 'médiacritiques': 18573, 'quiz': 22645, 'terrain': 27578, 'passionne': 20282, 'êtesvous': 30663, 'boulognesurmer': 3276, 'incestueux': 13594, 'mineur': 17888, 'fury': 11584, 'gaming': 11741, 'citron': 4888, 'lattentat': 15515, 'hebdo': 12798, 'tard': 27395, 'emballages': 9475, 'plastiques': 20966, 'moulins': 18335, 'mike': 17820, 'tyson': 28523, 'anecdotes': 1127, 'saisons': 24973, 'britanniques': 3486, 'inventé': 14260, 'révolutions': 24777, 'couleur': 6257, 'concept': 5539, 'thrombose': 27721, 'avc': 2219, 'manie': 17100, 'standing': 26574, 'ovation': 19886, 'mec': 17540, 'truc': 28398, 'adopte': 406, 'recherché': 23069, 'saiton': 24975, 'company': 5397, 'heroes': 12833, 'entertainment': 9800, 'gigi': 11974, 'hadid': 12609, 'lunion': 16611, 'pompe': 21204, 'blatter': 2997, 'renvoyés': 23567, 'escroquerie': 9976, 'interpellations': 14127, 'h15': 12552, 'assassiner': 1770, 'tilda': 27785, 'swinton': 27106, 'antipass': 1304, 'déguisés': 8815, 'déportés': 9035, 'camps': 3877, 'rally': 22801, 'may': 17486, 'drop': 8359, 'aaron': 8, 'rodgers': 24111, 'conspiracy': 5842, 'theory': 27672, 'packers': 19923, 'coaches': 5071, 'fusillade': 11586, 'produite': 21745, 'oxford': 19902, 'michigan': 17772, 'lauteur': 15548, 'pêcheur': 22509, 'pensent': 20463, 'humains': 13095, 'sénégal': 27229, 'addition': 347, 'panneau': 20000, 'amusé': 1048, 'licences': 15999, 'provisoires': 22018, 'flotte': 11092, 'camouflet': 3861, 'réservations': 24660, 'journalistes': 14758, 'svp': 27100, 'patent': 20310, 'incendies': 13583, 'sapeurspompiers': 25126, 'renfort': 23512, 'doutes': 8262, 'sportive': 26487, 'compliquée': 5443, 'mignon': 17801, 'kiffer': 15027, 'boost': 3173, 'réédition': 24798, 'parcs': 20084, 'danger': 6952, 'habitude': 12592, 'justifier': 14889, 'ingérence': 13847, 'étrangère': 30580, 'motifs': 18304, 'humanitaire': 13099, 'serai': 25568, 'whatsapp': 29752, 'olivet': 19561, 'dà': 8478, 'wien': 29776, 'annette': 1194, 'sensation': 25521, 'jane': 14529, 'charlotte': 4507, 'considérées': 5819, 'majeur': 16974, 'travaillerait': 28231, 'aidé': 633, 'colonel': 5220, 'pétain': 22491, 'appelé': 1423, 'armées': 1617, 'rc': 22985, 'narbonnais': 18762, 'déplacement': 9014, 'vannes': 28895, 'explose': 10338, 'stationservice': 26605, 'observations': 19397, 'remarques': 23385, 'réservé': 24667, 'enfance': 9655, 'comète': 5522, 'amy': 1049, 'winehouse': 29805, 'comédie': 5523, 'guillaume': 12396, 'peltier': 20435, 'mus': 18450, 'compilation': 5421, 'médiatiques': 18582, 'décédées': 8711, 'injections': 13870, 'dieppe': 7641, 'nadine': 18707, 'survie': 27037, 'complexe': 5431, 'haha': 12614, 'purée': 22377, 'homard': 12946, 'parquet': 20164, 'piquer': 20828, 'stades': 26554, 'logo': 16374, 'représente': 23655, 'soppose': 26216, 'formellement': 11241, 'intervenu': 14166, 'organisées': 19738, 'couché': 6244, 'dormait': 8195, 'cadavres': 3759, 'shoah': 25743, 'consacré': 5766, 'pou': 21374, 'normande': 19137, 'eva': 10133, 'tient': 27768, 'franklin': 11402, 'roosevelt': 24175, 'cv': 6722, 'vieux': 29167, 'convoi': 6076, 'ignoble': 13313, 'attitude': 1977, 'laissé': 15264, 'invoquant': 14311, 'scoop': 25348, 'oms': 19587, 'infiltrée': 13784, 'baguette': 2375, 'pain': 19943, 'quartiers': 22565, 'diaporama': 7613, 'lorigine': 16457, 'scandales': 25285, 'lancet': 15330, 'remdesivir': 23394, 'limpact': 16098, 'populations': 21234, 'utile': 28754, 'temporaire': 27507, 'renforcé': 23508, 'monaco': 18108, 'téléchargez': 28534, 'gratuite': 12232, 'bush': 3639, 'découvrezle': 8678, 'achetezle': 250, 'maintenant': 16949, 'march': 17197, 'survivor': 27047, 'dead': 7139, 'majeurs': 16977, 'associent': 1814, 'dici': 7619, 'disparaîtra': 7892, 'étouffer': 30569, 'passion': 20278, 'parents': 20099, 'masculine': 17364, 'tendances': 27524, 'humanité': 13103, 'comité': 5297, 'grenoble': 12269, 'voulons': 29508, 'messe': 17695, 'naissance': 18724, 'pandas': 19986, 'zoo': 30037, 'beauval': 2668, 'fureur': 11578, 'relire': 23361, 'ronde': 24167, 'économistes': 30163, 'orthodoxes': 19782, 'télévisée': 28566, 'visuels': 29332, 'painting': 19946, 'rond': 24166, 'mamans': 17056, 'prisonnier': 21643, 'darrêt': 7038, 'rondpoint': 24169, 'reto': 23826, 'shooter': 25749, 'bouquins': 3282, 'voulais': 29501, 'divin': 7995, 'travis': 28252, 'dévasté': 9252, 'foule': 11292, 'déclaration': 8599, 'étonnante': 30561, 'réveil': 24748, 'échauffourées': 30103, 'mexique': 17753, 'cen': 4245, 'comment': 5321, 'inventée': 14261, 'sainte': 24918, 'identification': 13270, 'style': 26762, 'clés': 5054, 'ahmad': 612, 'coincé': 5125, 'froid': 11488, 'annulés': 1231, 'supprimé': 26958, 'couvrefeu': 6354, 'fermetures': 10773, 'grimaldi': 12289, 'decision': 7170, 'horrible': 13015, 'loudoun': 16493, 'county': 6274, 'schools': 25315, 'rape': 22858, 'préservée': 22178, 'disait': 7840, 'julia': 14830, 'inverse': 14262, 'promettent': 21851, 'patricia': 20328, 'entamé': 9777, 'ok': 19543, 'volvo': 29457, 'see': 25440, 'anche': 1098, 'pizza': 20867, 'casa': 4092, 'summer': 26909, 'hair': 12626, 'inspiration': 13974, 'right': 23987, 'here': 12827, 'cop': 6106, 'sauver': 25223, 'franco': 11391, 'sicile': 25783, 'cosa': 6209, 'verrez': 29034, 'exprimé': 10380, 'gouttes': 12134, 'resteront': 23775, 'fraîches': 11437, 'greenpeace': 12258, 'documents': 8063, 'moutons': 18352, 'cobayes': 5079, 'consumer': 5896, 'spending': 26449, 'powers': 21471, 'ahead': 610, 'despite': 7397, 'résumé': 24705, 'nhésitez': 18965, 'rothschild': 24190, 'préfets': 22095, 'invités': 14305, 'banane': 2444, 'verte': 29054, 'gouffre': 12119, 'mètres': 18541, 'antman': 1336, 'offrir': 19524, 'pensais': 20459, 'bosser': 3204, 'reconnaissance': 23103, 'estime': 10055, 'gagné': 11696, 'loto': 16485, 'députée': 9060, 'paumé': 20357, 'retrouv': 23856, 'dhorizon': 7569, 'téléphones': 28546, 'libres': 15975, 'nuove': 19292, 'cover': 6360, 'per': 20488, 'garçon': 11798, 'lucie': 16561, 'lucas': 16554, 'lockdown': 16348, 'ungeimpfte': 28647, 'différence': 7673, 'concerné': 5547, 'protéger': 21983, 'positions': 21314, 'sexuelles': 25693, 'préférées': 22106, 'époques': 30450, 'ambiances': 969, 'loeil': 16354, 'extrait': 10421, 'mentale': 17626, 'command': 5300, 'sac': 24833, 'main': 16938, 'cadeaux': 3761, 'mangas': 17087, 'index': 13670, 'notre': 19180, 'build': 3598, 'release': 23343, 'preview': 21590, 'dev': 7467, 'folles': 11134, 'carrefour': 4062, 'fichiers': 10838, 'liés': 16303, 'domaine': 8108, 'moscou': 18285, 'préoccupé': 22134, 'doctrine': 8053, 'accompagnent': 168, 'défunts': 8789, 'solidaires': 26137, 'entraîner': 9832, 'offrent': 19520, 'neue': 18916, 'souffrent': 26284, 'étend': 30531, 'lensemble': 15749, 'partielle': 20213, 'boutiques': 3324, 'gouv': 12135, 'smash': 26011, 'partenariats': 20189, 'adobe': 398, 'dispositifs': 7918, 'fins': 10966, 'sécuritaires': 27191, 'comportements': 5462, 'utilisés': 28772, 'riyad': 24064, 'mahrez': 16927, 'efficacité': 9382, 'laime': 15246, 'raconteznous': 22723, 'poste': 21335, 'hongkong': 12976, 'librement': 15974, 'fermer': 10768, 'exigez': 10258, 'insultes': 14045, 'attaques': 1922, 'dia': 7588, 'sex': 25666, 'pretty': 21585, 'much': 18392, 'help': 12812, 'surpopulation': 27008, 'détenus': 9198, 'nanterre': 18750, 'dormir': 8200, 'honte': 12994, 'contribué': 6026, 'linvention': 16206, 'bureaucratie': 3622, 'pay': 20369, 'smartphone': 26009, 'minimaliste': 17900, 'dopposition': 8176, 'cactus': 3756, 'press': 21564, 'diffamation': 7651, 'revendique': 23891, 'amoureuse': 1032, 'dur': 8421, 'congé': 5706, 'bouscule': 3311, 'litalie': 16255, 'portugal': 21295, 'barrages': 2527, 'initié': 13865, 'estrosi': 10068, 'présid': 22180, 'dangereuses': 6955, 'popularité': 21232, 'baisser': 2392, 'coût': 6384, 'multiplié': 18418, 'gérémy': 12535, 'crédeville': 6610, 'soulagé': 26304, 'élimination': 30310, 'andrew': 1120, 'hongrie': 12977, 'production': 21735, 'connaissances': 5725, 'relève': 23374, 'essentiel': 10028, 'dépense': 9003, 'revenus': 23902, 'devriez': 7517, 'lexprésident': 15879, 'sudafricain': 26838, 'frederik': 11444, 'klerk': 15067, 'lélectorat': 16758, 'propose': 21912, 'lanalyse': 15323, 'conse': 5775, 'libertés': 15964, 'lexception': 15855, 'inquiétante': 13920, 'règle': 24351, 'dixneuf': 8014, 'méthode': 18665, 'grèce': 12337, 'bateau': 2588, 'jette': 14629, 'ancre': 1106, 'apprend': 1455, 'moimême': 18074, 'qualifie': 22542, 'gisèle': 12005, 'halimi': 12635, 'évacuations': 30602, 'ouest': 19826, 'frappée': 11423, 'communautarisme': 5361, 'décrété': 8704, 'nov': 19218, 'todays': 27856, 'wireless': 29817, 'speaker': 26429, 'available': 2192, 'infirmiers': 13791, 'anesthésistes': 1131, 'bloc': 3020, 'allstars': 867, 'artistes': 1715, 'présents': 22168, 'hockey': 12925, 'bleues': 3010, 'continuent': 5964, 'pékin': 22448, 'prévient': 22223, 'préparait': 22138, 'leader': 15626, 'biélorusse': 2954, 'écope': 30165, 'sursis': 27024, 'rappeurs': 22884, 'sauvegarde': 25219, 'exception': 10186, 'lirak': 16226, 'covax': 6358, 'habib': 12572, 'donnarumma': 8147, 'edouard': 9352, 'alexis': 771, 'attendais': 1941, 'wave': 29684, 'review': 23911, 'early': 9298, 'york': 29964, 'ver': 29002, 'nouvelleaquitaine': 19213, 'chimiste': 4656, 'lozère': 16539, 'défient': 8766, 'dramatique': 8298, 'climat': 5002, 'querelle': 22602, 'remonte': 23415, 'coalition': 5075, 'autre': 2172, 'facile': 10491, 'passante': 20256, 'baudelaire': 2613, 'ét': 30499, 'nadia': 18706, 'souris': 26345, 'agressés': 596, 'intervention': 14164, 'boutique': 3323, 'étudiant': 30589, 'christina': 4742, 'officers': 19501, 'suspended': 27074, 'détail': 9168, 'génial': 12475, 'morandini': 18238, 'cit': 4871, 'tracking': 28059, 'accueillera': 212, 'olympiques': 19572, 'juré': 14867, 'courbet': 6302, 'témoins': 28579, 'naurait': 18826, 'nocebo': 19040, 'tours': 28021, 'serré': 25613, 'abdelaziz': 39, 'bouteflika': 3319, 'briguer': 3457, 'mandat': 17075, 'rendra': 23495, 'contrôles': 6042, 'médi': 18571, 'kaamelott': 14915, 'nouveautés': 19208, 'clap': 4931, 'inrocks': 13928, 'prudhommes': 22041, 'linfo': 16149, 'bâtiments': 3672, 'plastique': 20965, 'pèse': 22425, 'cigarettes': 4824, 'cellules': 4237, 'cyril': 6748, 'malades': 16994, 'loin': 16379, 'toulousain': 27986, 'condamner': 5591, 'amendes': 991, 'leggings': 15690, 'merveille': 17679, 'protège': 21979, 'agresseur': 585, 'lacteur': 15183, 'dean': 7148, 'stockwell': 26665, 'alias': 787, 'quantum': 22557, 'bras': 3394, 'descamps': 7374, 'issu': 14430, 'communauté': 5363, 'recently': 23049, 'augmentée': 2047, 'commencement': 5315, 'métavers': 18660, 'sorte': 26243, 'patronne': 20344, 'startup': 26596, 'naime': 18718, 'danseurs': 6992, 'nus': 19298, 'dexpression': 7532, 'préjudice': 22111, 'fab': 10458, 'greta': 12272, 'thunberg': 27728, 'décore': 8654, 'qualifier': 22544, 'focus': 11118, 'baseball': 2551, 'museum': 18460, 'bob': 3074, 'kendrick': 14986, 'spirit': 26462, 'voudraient': 29496, 'porteurs': 21279, 'hyper': 13157, 'tuberculose': 28438, 'ambassadrice': 966, 'leschi': 15787, 'grévistes': 12344, 'apparaître': 1388, 'incohérence': 13620, 'mi': 17759, 'contradiction': 5986, 'publiquement': 22310, 'recueilli': 23153, 'plu': 21041, 'aliments': 805, 'croix': 6531, 'couverture': 6351, 'commis': 5345, 'équipes': 30481, 'tristes': 28326, 'dapprendre': 7011, 'paul': 20353, 'compositeur': 5471, 'générique': 12509, 'fief': 10850, 'présidents': 22192, 'noyés': 19239, 'gangrène': 11746, 'lenseignement': 15748, 'lits': 16263, 'infirmières': 13793, 'explains': 10302, 'bennu': 2747, 'mysterious': 18509, 'events': 10141, 'vrp': 29550, 'extérieur': 10440, 'expose': 10360, 'élevés': 30306, 'lhumour': 15929, 'cu': 6640, 'déconfinement': 8639, 'visualiser': 29329, 'distance': 7950, 'vol': 29422, 'francis': 11386, 'lalanne': 15274, 'digéré': 7690, 'méconnu': 18552, 'contaminations': 5918, 'crash': 6429, 'tirant': 27815, 'épouser': 30452, 'pause': 20358, 'secrète': 25421, 'anaïs': 1094, 'demoustier': 7283, 'pièce': 20870, 'katerine': 14958, 'cap': 3949, 'cabrel': 3739, 'nuls': 19276, 'dextrême': 7538, 'séparatisme': 27234, 'échoué': 30113, 'fessée': 10802, 'devrions': 7518, 'lavant': 15570, 'utilisant': 28759, 'opportunité': 19633, 'constater': 5856, 'exécution': 10448, 'réformes': 24502, 'sitin': 25952, 'margaux': 17221, 'pinot': 20811, 'relaxe': 23331, 'controversée': 6036, 'judokate': 14802, 'crowned': 6547, 'holocaust': 12941, 'israeli': 14419, 'beauty': 2664, 'held': 12807, 'women': 29837, 'trentaine': 28276, 'orga': 19718, 'flux': 11104, 'réguliers': 24548, 'antivax': 1330, 'odorat': 19475, 'rassurant': 22921, 'européenne': 10119, 'pink': 20808, 'malle': 17038, 'gèrent': 12467, 'dingue': 7746, 'bénin': 3687, 'agriculteur': 600, 'h2': 12553, 'ouvertes': 19864, 'conti': 5954, 'ya': 29917, 'quà': 22662, 'risk': 24022, 'becoming': 2682, 'repeat': 23584, 'targets': 27403, 'harassment': 12693, 'exceptionnelle': 10188, 'frange': 11399, 'portent': 21272, 'cacao': 3743, 'perdants': 20505, 'ditil': 7979, 'républicain': 24634, 'durement': 8436, 'pacifique': 19918, 'destruction': 7438, 'fam': 10573, 'confirmed': 5653, 'had': 12607, 'institutrice': 14027, 'pau': 20352, 'agressions': 590, 'renversée': 23560, 'voulant': 29503, 'traverser': 28247, 'chaussée': 4549, 'ultimora': 28620, 'dati': 7068, 'oggi': 19528, 'pourquoi': 21404, 'métropoles': 18676, 'scolaire': 25344, 'revisiter': 23916, 'chan': 4410, 'réfugiés': 24507, 'hot': 13049, 'amendement': 989, 'gouvernemental': 12146, 'fonds': 11175, 'séance': 27173, 'afghanistan': 509, 'hold': 12926, 'drive': 8336, 'meurtriers': 17743, 'brisée': 3480, 'thibault': 27687, 'identité': 13285, 'cabinet': 3737, 'apl': 1375, 'moyenne': 18370, 'entrepreneur': 9839, 'dirigeant': 7825, 'dentreprise': 7328, 'factory': 10509, 'oklahoma': 19545, 'julius': 14835, 'jones': 14706, 'sentence': 25537, 'reculer': 23160, 'garantie': 11759, 'gaël': 11854, 'bastien': 2575, 'augusto': 2051, 'engagés': 9691, 'championnats': 4402, 'cross': 6538, 'comédienne': 5525, 'fiancée': 10823, 'prime': 21607, 'chômeurs': 4799, 'prolongée': 21839, 'denis': 7303, 'brogniart': 3497, 'rigole': 23990, 'libéraux': 15991, 'interdits': 14097, 'dexercer': 7524, 'lobligation': 16323, 'lhommage': 15915, 'spéc': 26509, 'deliveroo': 7221, 'bad': 2354, 'viking': 29193, 'rescapés': 23691, 'méditerranée': 18598, 'sauvés': 25233, 'màj': 18527, 'uk': 28609, 'amess': 1001, 'stabbed': 26546, 'local': 16329, 'office': 19499, 'coeur': 5096, 'dévore': 9278, 'sec': 25397, 'mangent': 17090, 'halloween': 12639, 'regardent': 23252, 'syriens': 27158, 'judge': 14795, 'orders': 19695, 'hearing': 12791, 'départementale': 8980, 'mgr': 17756, 'évêque': 30659, 'affirmé': 490, 'inaccessible': 13546, 'considérer': 5816, 'ebay': 9313, 'password': 20293, 'reset': 23698, 'email': 9472, 'drapeau': 8304, 'passée': 20295, 'temple': 27505, 'inscri': 13934, 'affrontements': 502, 'suédoise': 27097, 'démissionne': 8909, 'fabien': 10460, 'roussel': 24222, 'communisme': 5374, 'dactualité': 6840, 'guérilla': 12439, 'ordures': 19709, 'arrêtent': 1678, 'éclate': 30131, 'job': 14663, 'énergie': 30388, 'oser': 19793, 'dijon': 7691, 'paparazzi': 20017, 'montages': 18159, 'kitsch': 15061, 'évoquant': 30646, 'people': 20483, 'mangé': 17096, 'lexpo': 15875, 'immersion': 13412, 'rédaction': 24467, 'sécrase': 27183, 'diego': 7640, 'édito': 30227, 'seb': 25394, 'vieille': 29144, 'lasse': 15483, 'avia': 2246, 'adoptée': 412, 'revenant': 23888, 'syrie': 27155, 'phrase': 20730, 'gourault': 12124, 'tollé': 27875, 'prélèvements': 22119, 'adresse': 423, 'invitons': 14301, 'aampm': 7, 'adds': 351, 'third': 27699, 'pledge': 21000, 'animateur': 1168, 'attouchements': 1981, 'appris': 1465, 'bipolaire': 2919, 'racon': 22715, 'acharnement': 242, 'magistrats': 16907, 'politiciens': 21157, 'coiffeur': 5118, 'fonctionne': 11148, 'sting': 26658, 'chante': 4439, 'allah': 821, 'tandis': 27374, 'vire': 29268, 'eagles': 9297, 'metal': 17710, 'mitterrand': 17990, 'thatcher': 27661, 'coéquipiers': 6381, 'propres': 21928, 'green': 12256, 'poitiers': 21118, 'aération': 2308, 'potes': 21366, 'jeanphilippe': 14594, 'cambriolé': 3845, 'suspects': 27069, 'meilleure': 17568, 'xiomara': 29897, 'castro': 4136, 'compagne': 5391, 'manuel': 17162, 'renversé': 23559, 'riches': 23967, 'provoquant': 22022, 'globale': 12042, 'environnement': 9882, 'choi': 4691, 'transdev': 28151, 'interviendra': 14169, 'lancement': 15326, 'maiso': 16965, 'yves': 29992, 'roll': 24135, 'bamako': 2432, 'persiste': 20573, 'abandonné': 18, 'discutent': 7874, 'périlleux': 22478, 'earth': 9299, 'luson': 16624, 'nevers': 18936, 'capables': 3951, 'grandir': 12203, 'maroc': 17284, 'catalogue': 4143, 'complet': 5426, 'meurtri': 17740, 'adresser': 424, 'honnêteté': 12985, 'transparence': 28190, 'pointeàpitre': 21104, 'chaleur': 4370, 'podcasts': 21077, 'step': 26635, 'stranger': 26691, 'things': 27695, 'were': 29740, 'binge': 2899, 'watching': 29676, 'hamster': 12663, 'payants': 20374, 'calculé': 3804, 'assumé': 1828, 'prévoit': 22229, 'révoltant': 24761, 'chu': 4767, 'atteint': 1931, 'internaute': 14120, 'efface': 9361, 'catimini': 4161, 'poursuites': 21429, 'mécanique': 18543, 'sordide': 26228, 'sextape': 25684, 'benzema': 2755, 'valbuena': 28834, 'tyran': 28520, 'rossi': 24185, 'union': 28655, 'vélos': 29588, 'électriques': 30290, 'disposition': 7919, 'injures': 13876, 'raciales': 22701, 'légard': 16725, 'syndicaliste': 27143, 'élargie': 30272, 'pacte': 19924, 'varsovie': 28920, 'missions': 17972, 'autorisés': 2159, 'made': 16869, 'perdent': 20507, 'babis': 2330, 'libraires': 15969, 'nba': 18863, 'colombiebritannique': 5215, 'magnifique': 16912, 'vac': 28780, 'stationsservice': 26606, 'shes': 25733, 'not': 19159, 'lourdement': 16514, 'florian': 11082, 'masques': 17374, 'aurons': 2084, 'millefeuille': 17852, 'téléphonie': 28547, 'pêcheurs': 22510, 'coquille': 6131, 'saintjacques': 24930, 'prices': 21596, 'houston': 13060, 'psy': 22264, 'progrès': 21809, 'sécession': 27177, 'auratelle': 2074, 'liste': 16250, 'islamogauchistes': 14397, 'plaintes': 20922, 'déposées': 9042, 'traders': 28070, 'télétravail': 28558, 'délits': 8859, 'fraudes': 11430, 'delahousse': 7206, 'physique': 20735, 'messi': 17698, 'l1': 15129, 'noces': 19041, 'marines': 17253, 'édifiant': 30217, 'saviez': 25248, 'hauts': 12751, 'fonctionnaires': 11145, 'fédérale': 11614, 'remercie': 23397, 'bonheur': 3147, 'angoulême': 1154, 'veuve': 29086, 'holdup': 12929, 'suspecté': 27070, 'rév': 24747, 'moore': 18225, 'lourde': 16513, 'chirurgie': 4676, 'esthétique': 10048, 'apparition': 1397, 'appli': 1433, 'indique': 13698, 'pâtissier': 22415, 'présenter': 22163, 'poire': 21108, 'faune': 10666, 'souvenirs': 26388, 'gérant': 12528, 'barrestaurant': 2532, 'wrapped': 29870, 'détectés': 9187, 'survive': 27044, 'rpg': 24258, 'repousse': 23617, 'allocation': 858, 'dotation': 8220, 'culpa': 6669, 'serge': 25589, 'lab': 15135, 'belge': 2708, 'vaut': 28933, 'pourrez': 21415, 'fondateur': 11163, 'moque': 18226, 'nati': 18793, 'lombre': 16402, 'picardie': 20749, 'natale': 18786, 'occident': 19436, 'prouesse': 21993, 'rang': 22834, 'lehpad': 15697, 'attente': 1958, 'replay': 23592, 'arcenciel': 1540, 'lex': 15851, 'attac': 1906, 'aurélie': 2089, 'affecte': 465, 'épicerie': 30423, 'visuel': 29330, 'colonisé': 5229, 'publicitaires': 22299, 'slogans': 26001, 'électorat': 30286, 'lopération': 16440, 'cuisiner': 6653, 'hivernale': 12914, 'réussir': 24738, 'bureau': 3620, 'sieste': 25798, 'law': 15597, 'then': 27671, 'suddenly': 26845, 'knoll': 15079, 'yacine': 29920, 'mihoub': 17817, 'slow': 26005, 'motion': 18305, 'gaules': 11829, 'personnages': 20582, 'dastérix': 7062, 'queer': 22585, 'chaleureux': 4371, 'placard': 20889, 'gibbs': 11958, 'makes': 16987, 'visible': 29304, 'écho': 30109, 'soyons': 26408, 'prêts': 22243, 'consacrés': 5769, 'énergétique': 30391, 'montent': 18180, 'récemment': 24415, 'antoine': 1337, 'jake': 14506, 'gyllenhaal': 12448, 'beaune': 2661, 'lafghanistan': 15218, 'caissière': 3791, 'admettre': 374, 'devront': 7519, 'obligatoirement': 19378, 'intégrer': 14220, 'andorre': 1116, 'nationales': 18799, 'coins': 5128, 'sortait': 26240, 'pizzas': 20868, 'épingle': 30435, 'fully': 11554, 'vaccinated': 28791, 'doctors': 8052, 'advice': 443, 'adviser': 444, 'juppé': 14854, 'signature': 25818, 'diplomate': 7791, 'rire': 24015, 'triangle': 28285, 'unesco': 28646, 'creuse': 6448, 'puits': 22340, 'longueur': 16419, 'moteur': 18300, 'damazon': 6917, 'open': 19617, 'bière': 2952, 'tenues': 27559, 'traditionnelles': 28077, 'cigarette': 4823, 'augmenterait': 2045, 'œufs': 30676, 'restauration': 23768, 'galop': 11723, 'heureusement': 12846, 'conscience': 5770, 'calmer': 3822, 'javoue': 14562, 'confortable': 5680, 'timsit': 27799, 'adieux': 364, 'séparation': 27233, 'constante': 5852, 'combats': 5264, 'prioritaires': 21635, 'cavale': 4188, 'lorsquon': 16466, 'avance': 2201, 'pions': 20820, 'dérape': 9075, 'croyant': 6552, 'prod': 21724, 'achat': 245, 'actuelle': 320, 'vertu': 29063, 'trahit': 28103, 'républicaines': 24636, 'juives': 14826, 'interpellées': 14133, 'sadapter': 24867, 'propriétaire': 21932, 'apartheid': 1362, 'policies': 21143, 'cosmétiques': 6218, 'percée': 20502, 'notable': 19161, 'montez': 18183, 'meubles': 17729, 'judith': 14799, 'vill': 29199, 'condamnée': 5593, 'nazi': 18853, 'insulté': 14046, 'dét': 9161, 'gouvernance': 12139, 'danone': 6984, 'fonctionné': 11152, 'holiday': 12931, 'échecs': 30105, 'démontré': 8939, 'faiblesses': 10520, 'poursuite': 21428, 'albi': 726, 'détention': 9194, 'entré': 9861, 'dictionnaire': 7625, 'supprimer': 26957, 'complexité': 5433, 'fiscal': 10981, 'fantasme': 10601, 'patriote': 20333, 'progra': 21789, 'incompétence': 13628, 'létude': 16815, 'modèle': 18059, 'lgbtq': 15899, 'briser': 3478, 'tabous': 27306, 'félix': 11629, 'theresa': 27677, 'issue': 14431, 'abris': 93, 'perd': 20503, 'fonctionnent': 11150, 'concurrents': 5583, 'signal': 25805, 'incroyable': 13649, 'jardins': 14544, 'tire': 27816, 'terroriste': 27608, 'arrivé': 1664, 'conseillé': 5784, 'odysee': 19478, 'soral': 26221, 'recommande': 23081, 'kylian': 15123, 'mbappé': 17507, 'séparé': 27240, 'demma': 7274, 'smet': 26013, 'til': 27784, 'prudence': 22037, 'succession': 26819, 'daval': 7111, 'adaptée': 337, 'ghb': 11942, 'empoisonne': 9563, 'traversé': 28249, 'âges': 30057, 'longue': 16416, 'faucons': 10661, 'sapprêtent': 25138, 'intensifier': 14073, 'sanctions': 25078, 'économiques': 30160, 'pa': 19912, 'marijuana': 17247, 'users': 28739, 'weigh': 29720, 'less': 15799, 'mod': 18031, 'administratif': 377, 'renards': 23464, 'seine': 25455, 'bohème': 3098, 'gambetta': 11731, 'promouvoir': 21869, 'vinyle': 29233, 'mixed': 17992, 'chemicals': 4579, 'products': 21739, 'womens': 29838, 'hormones': 13010, 'menton': 17644, 'bistro': 2940, 'résolutions': 24696, 'dure': 8435, 'bandes': 2456, 'originales': 19758, 'écrites': 30200, 'gainsbourg': 11701, 'depardieu': 7341, 'débattent': 8497, 'priorité': 21636, 'kremlin': 15109, 'disputent': 7923, 'nomades': 19067, 'numériques': 19285, 'illustration': 13362, 'reaction': 22994, 'décolleté': 8630, 'xxl': 29915, 'emilie': 9514, 'présenté': 22169, 'parisiens': 20121, 'moyen': 18369, 'régler': 24538, 'prudent': 22038, 'hero': 12832, 'academia': 130, 'tweets': 28503, 'monstres': 18153, 'impressionnant': 13504, 'tombent': 27885, 'nonfumeurs': 19096, 'micro': 17778, 'montré': 18205, 'soucieux': 26267, 'celebration': 4225, 'turns': 28480, 'dangerous': 6958, 'neuves': 18930, 'vaccinées': 28808, 'enregistrées': 9748, 'fichier': 10837, 'intestinale': 14177, 'uc': 28596, 'politicians': 21154, 'energy': 9651, 'system': 27159, 'demandez': 7253, 'déclenché': 8614, 'commentaires': 5323, 'etou': 10090, 'précommandes': 22073, 'thug': 27727, 'officialise': 19504, 'lasm': 15477, 'anderson': 1114, 'aurillac': 2081, 'sanspapiers': 25109, 'xxie': 29914, 'bourgeois': 3291, 'daller': 6904, 'dimanches': 7706, 'beauvau': 2669, 'terminé': 27573, 'macro': 16856, 'orages': 19677, 'convertir': 6065, 'pdf': 20401, 'word': 29848, 'formats': 11238, 'nousmêmes': 19200, 'dei': 7202, 'gli': 12035, 'ironise': 14363, 'finit': 10961, 'licencié': 16004, 'olom': 19564, 'ramos': 22819, 'zidane': 30021, 'immanquables': 13407, 'soldats': 26127, 'tombés': 27893, 'otages': 19804, 'barbarie': 2501, 'existe': 10268, 'hom': 12945, 'mayenne': 17489, 'joggeuse': 14676, 'prévisions': 22226, 'pessimistes': 20632, 'vis': 29291, 'progressive': 21806, 'behind': 2692, 'waukesha': 29682, 'parade': 20042, 'darrell': 7035, 'brooks': 3510, 'low': 16532, 'musulmane': 18480, 'lépopée': 16792, 'héroïque': 13211, 'compagnons': 5395, 'chaque': 4466, 'mobiliser': 18017, 'gsk': 12347, 'sallie': 25012, 'lexplosion': 15874, 'small': 26007, 'red': 23168, 'door': 8168, 'provides': 22011, 'while': 29758, 'keeping': 14973, 'friendly': 11477, 'community': 5379, 'microsoft': 17786, 'préparerait': 22144, 'successeur': 26816, 'taillé': 27338, 'téléphone': 28545, 'rangs': 22840, 'racheter': 22693, 'media': 17545, 'soins': 26111, 'merveilles': 17680, 'started': 26591, 'making': 16989, 'gateway': 11816, 'hell': 12809, 'piste': 20851, 'tension': 27541, 'life': 16028, 'c1': 3725, 'gantz': 11752, 'foutage': 11326, 'péages': 22430, 'belair': 2702, 'audition': 2030, 'reconnu': 23112, 'enlèvement': 9717, 'raslebol': 22907, 'arras': 1644, 'weekends': 29714, 'amendements': 990, 'adoptés': 413, 'députés': 9062, 'cote': 6229, 'agissent': 561, 'claudia': 4968, 'jeter': 14625, 'jetés': 14634, 'recherchent': 23065, 'professionnel': 21758, 'inquiétant': 13919, 'reconfinement': 23097, 'maternité': 17415, 'knesset': 15074, 'destitution': 7431, 'inoffensive': 13903, 'hésitez': 13218, 'partager': 20177, 'bienvenu': 2859, 'étranger': 30573, 'intention': 14078, 'lintégralité': 16198, 'locale': 16330, 'guère': 12432, 'tache': 27307, 'fêtera': 11653, 'demandent': 7248, 'larrêt': 15461, 'immédiat': 13438, 'vaccinations': 28794, 'israélien': 14420, 'commerciaux': 5340, 'exclusive': 10205, 'document': 8056, 'doesnt': 8071, 'put': 22381, 'reach': 22990, 'wwf': 29882, 'chanteur': 4442, 'kassav': 14954, 'label': 15141, 'accompagne': 166, 'studio': 26744, 'explore': 10334, 'rigoler': 23991, 'peutelle': 20664, 'louane': 16490, 'chic': 4627, 'nrj': 19243, 'mobilisezvous': 18018, 'linterdiction': 16184, 'coqs': 6127, 'euphoria': 10099, 'nutrition': 19301, 'naturopathie': 18819, 'gang': 11745, 'basculé': 2549, 'enquêtes': 9737, 'instinct': 14018, 'heart': 12793, 'darkness': 7028, 'refaire': 23210, 'cgt': 4348, 'froide': 11489, 'soirs': 26113, 'arrivera': 1658, 'évasion': 30617, 'noms': 19087, 'économie': 30155, 'colbert': 5132, 'touchée': 27972, 'analyse': 1079, 'paraît': 20071, 'exploitation': 10323, 'brésil': 3559, 'amazonie': 960, 'bolsonaro': 3117, 'astrologie': 1853, 'signes': 25825, 'zodiaque': 30030, 'vampires': 28882, 'énergétiques': 30392, 'séoul': 27232, 'vendeurs': 28971, 'zéro': 30055, 'déchet': 8568, 'restos': 23786, 'cantines': 3943, 'vox': 29517, 'lexposition': 15876, 'renaissances': 23461, 'étiez': 30547, 'royale': 24251, 'verre': 29032, 'écoliers': 30145, 'laction': 15184, 'ours': 19836, 'lavoir': 15591, 'cohabitation': 5111, 'estelle': 10046, 'européen': 10118, 'breton': 3429, 'relayer': 23337, 'cherchez': 4603, 'distributeur': 7962, 'louverture': 16520, 'époux': 30456, 'contestent': 5949, 'condamnation': 5587, 'préparez': 22145, 'réveillon': 24753, 'causés': 4185, 'havre': 12758, 'minorités': 17927, 'nouv': 19201, 'sponsors': 26478, 'billetterie': 2887, 'qualifiés': 22547, 'rails': 22773, 'carnage': 4046, 'répétitions': 24647, 'décrochage': 8688, 'pantalons': 20008, 'évêques': 30660, 'lourdes': 16515, 'reconnaître': 23111, 'déficit': 8763, 'commerciale': 5335, 'mds': 17529, 'alle': 829, 'bercy': 2760, 'occuper': 19450, 'importante': 13479, 'linstruction': 16178, 'mérite': 18643, 'rapports': 22891, 'rendus': 23503, 'saôneetloire': 25274, 'dressé': 8324, 'hollandaise': 12935, 'moteurs': 18301, 'lilian': 16057, 'mister': 17975, 'crabes': 6407, 'ugo': 28606, 'inquiet': 13914, 'aventuriers': 2228, 'tunisien': 28464, 'craquer': 6426, 'inacceptable': 13544, 'dauphin': 7091, 'accueillait': 208, 'inverser': 14264, 'ten': 27518, 'buisson': 3600, 'convaincant': 6050, 'vatelle': 28928, 'aboutir': 87, 'laide': 15240, 'télescope': 28529, 'nasa': 18778, 'aude': 2016, 'cologne': 5208, 'autorise': 2153, 'teens': 27484, 'complete': 5427, 'hamas': 12651, 'training': 28109, 'martyrs': 17342, 'defender': 7188, 'confirmé': 5657, 'crève': 6593, 'pacifiques': 19919, 'contraire': 5996, 'démoc': 8916, 'lanthropologue': 15378, 'penseur': 20466, 'libertaire': 15958, 'rencont': 23471, 'liaison': 15947, 'tnt': 27851, 'naura': 18823, 'lalsace': 15288, 'bidon': 2841, 'abs': 98, 'salvini': 25040, 'charité': 4497, 'généralement': 12491, 'débattre': 8498, 'accorder': 179, 'natation': 18790, 'ados': 421, 'huawei': 13073, 'buys': 3659, 'facial': 10489, 'recognition': 23077, 'technology': 27477, 'enterrer': 9796, 'bure': 3619, 'souffrance': 26280, 'réel': 24484, 'saïd': 25270, 'bogota': 3094, 'kidnappé': 15021, 'baptiste': 2486, 'cchartres': 4204, 'cyclisme': 6736, 'trouvait': 28381, 'vidé': 29134, 'udc': 28598, 'allume': 869, 'cantons': 3946, 'suisses': 26885, 'ambassadeurs': 964, 'australie': 2101, 'consultations': 5889, 'lefevre': 15674, 'frda50': 11440, 'pillage': 20788, 'patrimoine': 20331, 'népal': 19353, 'réclame': 24432, 'restitution': 23781, 'trésors': 28424, 'future': 11598, 'jusquen': 14874, 'palace': 19955, 'napoléon': 18757, 'construit': 5881, 'unique': 28658, 'hypothèse': 13170, 'requiem': 23677, 'catastrophe': 4144, 'eitan': 9421, 'zur': 30047, 'tante': 27380, 'nach': 18704, 'magistrate': 16906, 'rachid': 22696, 'démission': 8908, 'dommage': 8129, 'dutilité': 8458, 'apocalypse': 1377, 'enchères': 9607, 'adjugé': 370, 'dave': 7117, 'chappelle': 4464, 'hes': 12840, 'defends': 7189, 'jk': 14657, 'rowling': 24246, 'special': 26433, 'quick': 22620, 'online': 19601, 'taubira': 27429, 'militant': 17840, 'guise': 12412, 'dhommage': 7565, 'beckham': 2679, 'donné': 8161, 'avantgoût': 2214, 'ironique': 14362, 'collaboration': 5147, 'astros': 1865, 'manager': 17066, 'dies': 7642, 'humanity': 13102, 'worst': 29863, 'enemy': 9649, 'peinture': 20426, 'vendue': 28977, 'polars': 21133, 'classiques': 4961, 'sf': 25697, 'albums': 729, 'préférés': 22107, 'rassemblés': 22920, 'meunier': 17731, 'allé': 879, 'eugénie': 10097, 'bastié': 2578, 'plume': 21045, 'magnus': 16916, 'consécutive': 5899, 'arriva': 1651, 'farid': 10617, 'corbière': 6144, 'interroge': 14147, 'volonté': 29448, 'kadhafi': 14922, 'crude': 6566, 'aymeric': 2295, 'caron': 4054, 'lepage': 15777, 'enclos': 9610, 'bayeux': 2626, 'transfert': 28154, 'performant': 20528, 'probablement': 21682, 'précisé': 22067, 'chauvessouris': 4551, 'profondeurs': 21783, 'leur': 15825, 'médicale': 18586, 'ancêtres': 1110, 'veiller': 28953, 'catholiques': 4156, 'réfléchissent': 24497, 'écart': 30079, 'préjugés': 22112, 'ethniques': 10088, 'carburant': 4007, 'those': 27709, 'stands': 26575, 'lead': 15625, 'sometimes': 26172, 'also': 921, 'emotions': 9536, 'gestes': 11931, 'simples': 25872, 'abeilles': 47, 'pedro': 20417, 'almodóvar': 893, 'lignes': 16041, 'rennes': 23519, 'envoi': 9895, 'concertation': 5552, 'traits': 28119, 'cynique': 6743, 'loffre': 16358, 'payante': 20373, 'abonnement': 67, 'klein': 15066, 'accouchement': 188, 'hélène': 13194, 'assistée': 1806, 'férie': 11642, 'octave': 19461, 'saints': 24953, 'innocents': 13890, 'bienheureuse': 2851, 'ubuntu': 28595, 'biard': 2823, 'dimages': 7702, 'pe': 20404, 'exposition': 10366, 'dart': 7040, 'quand': 22552, 'enfer': 9658, 'brûlés': 3572, 'offensif': 19490, 'astérix': 1870, 'griffon': 12279, 'gaulois': 11834, 'multiplie': 18415, 'espérant': 10005, 'italia': 14438, 'bollettino': 3114, 'nuovi': 19293, 'casi': 4101, 'morti': 18276, 'gouverneur': 12153, 'levant': 15835, 'commerce': 5332, 'daffiches': 6854, 'lévidence': 16822, 'raté': 22950, 'crous': 6542, 'sexcuse': 25668, 'rajouter': 22789, 'pull': 22343, 'chauffage': 4540, 'alla': 820, 'pâtes': 22412, 'bertrandkamal': 2789, 'hôtesses': 13235, 'sexiste': 25673, 'raciste': 22709, 'démontrent': 8937, 'tremblements': 28268, 'frappé': 11422, 'princesse': 21619, 'prélude': 22117, 'apparaît': 1387, 'laube': 15522, 'manières': 17131, 'recensés': 23047, 'intérimaire': 14242, 'cahiers': 3779, 'méthodologie': 18668, 'consigne': 5821, 'crier': 6466, 'censé': 4258, 'ranger': 22837, 'cha': 4350, 'illustrations': 13363, 'laissée': 15265, 'content': 5934, 'baiser': 2389, 'meuf': 17730, 'oc': 19431, 'scrutiny': 25371, 'shootings': 25751, 'starts': 26595, 'using': 28743, 'calls': 3818, 'établit': 30507, 'déclarer': 8603, 'capitaliste': 3964, 'proposition': 21919, 'allonger': 862, 'essentiels': 10032, 'boxe': 3339, 'tortue': 27938, 'retrouvée': 23868, 'piégée': 20877, 'lobservatoire': 16325, 'jadore': 14494, 'formule': 11248, 'vegas': 28949, 'islamiste': 14393, 'revendication': 23889, 'léditorialiste': 16714, 'rejoignez': 23304, 'immigration': 13418, 'juges': 14811, 'passeurs': 20274, 'verrouillage': 29036, 'keynote': 15001, 'dapple': 7009, 'financer': 10929, 'polémi': 21198, 'pac': 19914, 'fêté': 11657, 'emotional': 9535, 'denies': 7301, 'trigger': 28308, 'gun': 12417, 'killed': 15031, 'halyna': 12649, 'hutchins': 13142, 'free': 11445, 'asia': 1739, 'citing': 4881, 'anonymous': 1242, 'claims': 4914, 'christians': 4740, 'faith': 10549, 'vosgienne': 29474, 'chimie': 4652, 'boulangerie': 3254, 'âgée': 30059, 'faiblesse': 10519, 'ré': 24358, 'cazeneuve': 4198, 'patriotes': 20334, 'statues': 26616, 'circulent': 4862, 'tonne': 27906, 'pêché': 22511, 'boucler': 3229, 'participatif': 20197, 'gard': 11767, 'ars': 1688, 'multirécidiviste': 18420, 'nouveau': 19204, 'câlin': 6754, 'gentille': 11901, 'than': 27654, 'hours': 13055, 'macronisme': 16861, 'décombres': 8633, 'contentieux': 5938, 'rendant': 23485, 'cesser': 4326, 'fragilisé': 11348, 'htt': 13071, 'cheveux': 4616, 'saisonnière': 24971, 'bretons': 3432, 'mettent': 17719, 'cartons': 4085, 'milliardaires': 17859, 'altice': 932, 'teams': 27459, 'failles': 10526, 'amd': 984, 'bridgestone': 3446, 'béthune': 3711, 'cont': 5903, 'sérénité': 27262, 'détermination': 9200, 'alexandra': 766, 'epstein': 9925, 'laval': 15566, 'transportée': 28205, 'urgence': 28710, 'seriezvous': 25596, 'familier': 10586, 'mathématiques': 17426, 'léquilibre': 16796, 'clef': 4978, 'don': 8132, 'divisés': 8004, 'sé': 27172, 'paquebot': 20033, 'repenser': 23586, 'dépassent': 8988, 'pensées': 20477, 'tatouages': 27425, 'sexy': 25695, 'mignons': 17804, 'italienne': 14443, 'leuro': 15828, 'maurizio': 17466, 'fu': 11534, 'nike': 18999, 'chaussures': 4548, 'jarry': 14547, 'téléfilm': 28539, 'répondra': 24622, 'vos': 29471, 'négociateur': 19335, 'brexit': 3435, 'danimation': 6968, 'witcher': 29821, 'cauchemar': 4167, 'fidel': 10845, 'lé': 16688, 'comptez': 5507, 'fondé': 11177, 'chrétien': 4760, 'sioniste': 25938, 'préciser': 22064, 'pousser': 21442, 'caillou': 3785, 'enfermer': 9661, 'ravi': 22961, 'fesses': 10801, 'pantalon': 20007, 'dévoiler': 9271, 'mignonnes': 17803, 'chevilles': 4619, 'ombre': 19577, 'radicale': 22738, 'rivaux': 24048, 'ssd': 26543, 'changent': 4424, 'trodelvy': 28332, 'pessimiste': 20631, 'lissue': 16248, 'despoir': 7398, 'danser': 6989, 'parfum': 20109, 'exposing': 10365, 'discusses': 7869, 'farright': 10623, 'extremis': 10431, 'moulin': 18334, 'director': 7819, 'cyclables': 6733, 'respectées': 23718, 'automobilistes': 2143, 'key': 14999, 'factor': 10508, 'surging': 26998, 'institute': 14020, 'finis': 10955, 'sinspire': 25922, 'albert': 723, 'voyous': 29536, 'alimentent': 803, 'dossiers': 8216, 'console': 5827, 'firefox': 10973, 'coté': 6236, 'spécifiquement': 26523, 'mécanisme': 18545, 'symphonie': 27129, 'beethoven': 2688, 'lorchestre': 16443, 'do': 8034, 'pluies': 21044, 'balayé': 2409, 'sudest': 26846, 'phishing': 20707, 'scam': 25279, 'request': 23676, 'fiction': 10843, 'pluie': 21042, 'bateaux': 2589, 'croisière': 6521, 'phocéenne': 20710, 'pollution': 21183, 'atmosphérique': 1896, 'infractions': 13832, 'garage': 11755, 'down': 8275, 'fourquet': 11318, 'citer': 4878, 'falaise': 10559, 'aux': 2185, 'limplication': 16102, 'liran': 16227, 'politiq': 21162, 'abbaye': 33, 'provence': 22004, 'coumba': 6266, 'sam': 25046, 'teheiura': 27487, 'imposer': 13491, 'laissés': 15266, 'ken': 14982, 'collection': 5167, 'débit': 8503, 'jouera': 14733, 'lfp': 15894, 'terminer': 27572, 'marxiste': 17350, 'carlos': 4043, 'assassiné': 1772, 'béziers': 3713, 'ménard': 18634, 'extrêmedroite': 10436, 'smic': 26014, 'devine': 7503, 'loufoques': 16499, 'croisements': 6517, 'photoshop': 20727, 'darmanin': 7030, 'libertin': 15961, 'where': 29755, 'où': 19910, 'psycho': 22273, 'impunément': 13531, 'destinés': 7429, 'alimenter': 804, 'meurs': 17735, 'notes': 19168, 'dépassé': 8990, 'traoré': 28207, 'omniprésent': 19584, 'léa': 16689, 'salamé': 24987, 'salue': 25030, 'formidable': 11245, 'sotto': 26259, 'succède': 26825, 'banc': 2446, 'rangers': 22838, 'reaction19': 22995, 'deviendra': 7492, 'sansfil': 25108, 'linstallation': 16173, 'lantenne': 15375, 'covidisme': 6370, 'boomers': 3171, 'fouet': 11285, 'joues': 14735, 'ancrage': 1105, 'pognon': 21081, 'criminels': 6478, 'voltaire': 29450, 'dérouler': 9094, 'normalité': 19134, 'x3': 29885, 'débriefer': 8521, 'saurezvous': 25209, 'centreval': 4282, 'loire': 16384, 'ressentir': 23747, 'effort': 9389, 'enseigne': 9760, 'polonaise': 21192, 'jorion': 14714, 'audace': 2013, 'réalisateur': 24380, 'souvient': 26399, 'rattrapage': 22945, 'embauches': 9492, 'valle': 28862, 'précisions': 22066, 'wuhan': 29881, 'infections': 13769, 'check': 4560, 'océans': 19469, 'monégasque': 18221, 'assurance': 1831, 'professionnelle': 21759, 'garanties': 11760, 'couper': 6280, 'refusant': 23235, 'accueillir': 215, 'courante': 6297, 'déposée': 9041, 'producteur': 21732, 'humoriste': 13119, 'consulter': 5891, 'plaidoyer': 20911, 'ernotte': 9943, 'laudiovisuel': 15526, 'chantage': 4435, 'karim': 14948, 'rapatrier': 22855, 'survient': 27038, 'violemment': 29243, 'aériennes': 2311, 'israéliennes': 14422, 'routine': 24231, 'lecture': 15666, 'essentielle': 10029, 'créateurs': 6598, 'suivent': 26891, 'make': 16985, 'happy': 12690, 'parfaitement': 20105, 'gouvernements': 12150, 'européens': 10121, 'délais': 8831, 'approvisionnement': 1488, 'remet': 23403, 'individus': 13713, 'dorigine': 8192, 'africaine': 515, 'agressé': 593, 'cède': 6756, 'hear': 12789, 'speed': 26445, 'canard': 3893, 'enchaîné': 9606, 'réanimation': 24401, 'détox': 9226, 'kilos': 15039, 'marvel': 17344, 'superpouvoirs': 26928, 'wolverine': 29834, 'cachés': 3755, 'soupçonnée': 26332, 'radicalisation': 22741, 'mosquée': 18290, 'fermée': 10779, 'malware': 17050, 'am': 942, 'shots': 25762, 'england': 9700, 'travel': 28240, 'austria': 2105, 'enter': 9792, 'vaccines': 28799, 'obligations': 19376, 'maigrir': 16932, 'efficaces': 9381, 'prenez': 21541, 'zola': 30031, 'pè': 22419, 'résidents': 24677, 'tiers': 27769, 'lincroyable': 16124, 'résistants': 24688, 'm6': 16835, 'louise': 16502, 'congrats': 5700, 'nuovo': 19294, 'presidente': 21559, 'della': 7226, 'camera': 3848, 'agriculture': 602, 'suscite': 27059, 'tuer': 28446, 'homosexuels': 12972, 'hollywood': 12937, 'boulevard': 3263, 'lion': 16216, 'décroche': 8689, 'conditionnelle': 5601, 'autobus': 2128, 'taper': 27387, 'colossale': 5246, 'conséquence': 5900, 'alpinistes': 911, 'espagnols': 9987, 'montblanc': 18171, 'rôti': 24816, 'lieudit': 16024, 'sexisme': 25672, 'interrogé': 14150, 'himer': 12881, 'craque': 6425, 'tom': 27878, 'cruise': 6574, 'méconnaissable': 18550, 'deuxsèvres': 7466, 'venant': 28963, 'mutilés': 18493, 'ba': 2325, 'recrute': 23137, 'matelas': 17409, 'déconne': 8641, 'sintéresse': 25932, 'peintre': 20424, 'berruyer': 2782, 'jocelyn': 14665, 'brad': 3363, 'défoncé': 8786, 'amsterdam': 1043, 'bannis': 2474, 'call': 3815, 'duty': 8461, 'warzone': 29667, 'vanguard': 28891, 'nouvea': 19203, 'aline': 809, 'coiffure': 5121, 'sampp': 25060, 'hits': 12909, 'high': 12860, 'roissy': 24128, 'performances': 20527, 'amalgame': 946, 'jessaie': 14618, 'séparés': 27242, 'leu': 15823, 'dinformation': 7741, 'burning': 3632, 'issues': 14432, 'fight': 10863, 'back': 2343, 'brondby': 3505, 'draw': 8310, 'travaillent': 28229, 'tonight': 27904, 'kristin': 15112, 'cassation': 4110, 'cbd': 4200, 'importe': 13484, 'régal': 24516, 'empathie': 9545, 'libert': 15957, 'protéine': 21989, 'poissy': 21117, 'dentraînement': 7326, 'agissements': 560, 'habi': 12571, 'greffe': 12260, 'batterie': 2601, 'lincendie': 16117, 'brive': 3490, 'shoot': 25748, 'propagande': 21889, 'mytho': 18523, 'pareille': 20093, 'léna': 16774, 'illan': 13343, 'men': 17593, 'lcp': 15620, 'blois': 3036, 'chinese': 4663, 'journalists': 14761, 'foreign': 11222, 'students': 26742, 'planned': 20943, 'pompes': 21206, 'essence': 10026, 'flamber': 11019, 'lautomne': 15552, 'without': 29825, 'hat': 12726, 'martin': 17333, 'luther': 16627, 'memphis': 17592, 'retou': 23831, 'écrivent': 30208, 'ret': 23801, 'filtre': 10912, 'placé': 20897, 'langleterre': 15351, 'dérives': 9081, 'sappelait': 25131, 'promise': 21858, 'goldman': 12074, 'ti': 27757, 'réclamé': 24435, 'assistance': 1794, 'yilmaz': 29954, 'mécontent': 18556, 'remplacé': 23437, 'renforce': 23504, 'lhypothèse': 15935, 'sandra': 25083, 'affronte': 500, 'porc': 21240, 'profonde': 21780, 'dépression': 9052, 'sibérie': 25780, 'pourraitelle': 21411, 'finalement': 10918, 'fonctionnement': 11149, 'essayez': 10022, 'entraînement': 9829, 'brûler': 3567, 'maximum': 17483, 'rhétorique': 23954, 'hostilité': 13047, 'désirer': 9144, 'drian': 8330, 'faudrait': 10663, 'non': 19088, 'mijournée': 17818, 'jy': 14900, 'réservez': 24665, 'dema': 7239, 'jade': 14492, 'tacle': 27311, 'lattitude': 15518, 'school': 25314, 'playoff': 20989, 'schedule': 25304, 'finals': 10924, 'ressuscité': 23760, 'compétences': 5513, 'ateliers': 1879, 'ori': 19745, 'russes': 24330, 'interviennent': 14170, 'migratoire': 17813, 'frontière': 11504, 'remplie': 23443, 'centenaires': 4266, 'exovaticana': 10286, 'accepter': 148, 'extraterrestre': 10427, 'métier': 18669, 'mouzin': 18359, 'fouilles': 11289, 'reporter': 23603, 'réalisatrice': 24384, 'singularité': 25910, 'surprend': 27013, 'tube': 28437, 'diams': 7609, 'commander': 5305, 'définitivement': 8780, 'levée': 15846, 'cherchons': 4604, 'proposez': 21918, 'votre': 29490, 'flambée': 11023, 'écrin': 30195, 'vise': 29299, 'engrais': 9704, 'lundimatin': 16602, 'priori': 21633, 'lélysée': 16767, 'déboires': 8507, 'donnent': 8149, 'sueurs': 26854, 'froides': 11490, 'assainir': 1765, 'dembélé': 7261, 'interpellation': 14126, 'lori': 16454, 'dambert': 6918, 'nouveaunés': 19206, 'découverts': 8670, 'congelés': 5697, 'lorient': 16455, 'déclarée': 8605, 'irresponsable': 14367, 'pénalement': 22451, 'jugée': 14815, 'surveillants': 27027, 'comparaître': 5403, 'correctionnel': 6175, 'rochelle': 24096, 'cage': 3771, 'numéros': 19288, 'complexes': 5432, 'faudra': 10662, 'alpes': 902, 'circulaire': 4856, 'punir': 22363, 'comporte': 5460, 'blocks': 3028, 'rule': 24301, 'healthcare': 12787, 'across': 278, 'copé': 6125, 'remontée': 23419, 'antisémitisme': 1323, 'columbia': 5252, 'domaines': 8109, 'guides': 12390, 'exemplaires': 10228, 'distribué': 7966, 'timone': 27797, 'terribles': 27590, 'alpine': 909, 'habitantes': 12582, 'enc': 9593, 'achète': 259, 'rap': 22852, 'hâte': 13177, 'écarter': 30081, 'etchebest': 10077, 'bouche': 3218, 'champignons': 4399, 'freedom': 11448, 'protest': 21961, 'london': 16405, 'représentent': 23656, 'corrida': 6183, 'ray': 22971, 'kennedy': 14987, 'icône': 13262, 'projection': 21819, 'halle': 12637, 'vieillissement': 29149, 'linsee': 16170, 'radiation': 22735, 'quotidien': 22654, 'actor': 311, 'eddie': 9339, 'big': 2864, 'comprend': 5479, 'mecs': 17542, 'british': 3487, 'carpet': 4059, 'actus': 324, 'semestre': 25494, 'saintquentin': 24952, 'lannée': 15369, 'perturbée': 20618, 'berlin': 2769, 'changera': 4426, 'concrètement': 5575, 'nécessite': 19316, 'parlementaire': 20142, 'réjouit': 24578, 'stage': 26557, 'transatlantique': 28149, 'hype': 13156, 'rés': 24654, 'aimer': 653, 'bêta': 3715, 'fibres': 10828, 'bronner': 3506, 'dém': 8880, 'sarah': 25142, 'intéressants': 14230, 'défini': 8774, 'tâche': 28524, 'comparer': 5406, 'mâcon': 18530, 'proposent': 21914, 'logements': 16364, 'habitat': 12584, 'humanisme': 13097, 'chagrin': 4355, 'aidez': 629, 'tertoutes': 27613, 'tertous': 27612, 'voté': 29492, 'vousmême': 29513, 'magicien': 16898, 'guillon': 12400, 'civique': 4906, 'châtelet': 4788, 'dragons': 8289, 'dirait': 7806, 'représentation': 23653, 'ldc': 15621, 'drahi': 8293, 'actionnaire': 288, 'confi': 5627, 'yéti': 29995, 'annoncent': 1204, 'prépare': 22141, 'lorganisateur': 16449, 'meurent': 17732, 'soprano': 26219, 'massif': 17388, 'henry': 12820, 'kissinger': 15057, 'politologue': 21170, 'antibiden': 1260, 'brandon': 3380, 'hiphop': 12883, 'agences': 540, 'votent': 29480, 'désigner': 9132, 'mépris': 18637, 'lédito': 16712, 'françoise': 11414, 'verna': 29024, 'lactuel': 15190, 'locataire': 16336, 'méchant': 18547, 'refuge': 23228, 'familial': 10582, 'ilhan': 13340, 'jewish': 14643, 'establishment': 10039, 'struggles': 26738, 'antisemitic': 1317, 'batailles': 2586, 'enchaînent': 9604, 'parties': 20217, 'dispo': 7907, 'rapper': 22882, 'prud': 22036, 'dautant': 7100, 'sociétés': 26080, 'filiales': 10887, 'oublie': 19817, 'défie': 8765, 'résumer': 24704, 'saturation': 25189, 'faible': 10517, 'journées': 14768, 'chapelle': 4459, 'réconciliation': 24450, 'chœur': 4801, 'ouvert': 19861, 'travailleurs': 28233, 'plateformes': 20972, 'inquiétude': 13925, 'jets': 14628, 'cocktails': 5087, 'molotov': 18092, 'exotage': 10284, 'sophie': 26215, 'pétronin': 22503, 'retournée': 23840, 'clandestinement': 4927, 'laissez': 15260, 'nel': 18885, 'guida': 12386, 'connaissez': 5727, 'brutx': 3547, 'disneyland': 7883, 'laëtitia': 15613, 'impliqué': 13470, 'recherchés': 23072, 'resident': 23699, 'evil': 10153, 'copies': 6116, 'distribuées': 7967, 'ferguson': 10761, 'conquête': 5761, 'lorgasme': 16452, 'visages': 29295, 'médecin': 18567, 'généraliste': 12496, 'refusé': 23243, 'pense': 20462, 'hilarant': 12869, 'soignant': 26099, 'auraitil': 2073, 'priver': 21660, 'avantaprès': 2212, 'amoureux': 1034, 'chirac': 4672, 'montparnasse': 18192, 'petitdéjeuner': 20644, 'bacon': 2347, 'oeufs': 19482, 'francmaçonnerie': 11390, 'secoue': 25406, 'nigeria': 18991, 'anc': 1095, 'excès': 10219, 'kazakhstan': 14966, 'arena': 1576, 'delhi': 7218, 'étouffe': 30568, 'davance': 7112, 'partez': 20191, 'continent': 5958, 'englouti': 9702, 'viens': 29159, 'mdr': 17526, 'find': 10941, 'evidence': 10152, 'backing': 2344, 'army': 1614, 'leftist': 15682, 'activists': 304, 'attacked': 1913, 'soldiers': 26131, 'why': 29771, 'indian': 13673, 'arrested': 1648, 'activist': 301, 'esprits': 9998, 'glas': 12027, 'rébellion': 24410, 'arabie': 1525, 'virage': 29264, 'blanches': 2983, 'éclatant': 30129, 'contrainte': 5993, 'participera': 20204, 'lent': 15751, 'poêle': 21479, 'poupe': 21394, 'rouvert': 24233, 'voyageurs': 29522, 'polluants': 21178, 'sacs': 24863, 'bourgeoisie': 3293, 'antifa': 1286, 'reveals': 23885, 'their': 27669, 'th': 27651, 'protests': 21969, 'polémiste': 21201, 'honneur': 12980, 'comprends': 5483, 'compliqué': 5442, 'succéder': 26828, 'vassal': 28925, 'croo': 6534, 'dope': 8171, 'ambitions': 978, 'léolien': 16779, 'tec': 27465, 'gouvernementaux': 12149, 'fra': 11337, 'entier': 9805, 'déposé': 9040, 'triple': 28319, 'flamme': 11027, 'victorieuse': 29122, 'morceaux': 18245, 'palestiniens': 19963, 'palestinien': 19960, 'thanksgiving': 27657, 'frozen': 11510, 'turkey': 28473, 'deep': 7181, 'lexil': 15860, 'manqué': 17152, 'prudents': 22039, 'lauréat': 15541, 'vide': 29128, 'magie': 16899, 'yoga': 29958, 'confiné': 5645, 'stratégique': 26701, 'préconise': 22075, 'rouvrir': 24237, 'discothèques': 7852, 'pib': 20746, 'dantoine': 7001, 'parodique': 20159, 'fantasmes': 10602, 'recherches': 23067, 'universitaires': 28678, 'déco': 8621, 'terrasse': 27580, 'convivial': 6072, 'contacts': 5908, 'messenger': 17696, 'craint': 6419, 'cédric': 6762, 'chouviat': 4730, 'nations': 18806, 'demifinale': 7266, 'pharmacies': 20687, 'dassaut': 7055, 'linjection': 16159, 'hésitent': 13216, 'ils': 13378, 'gafam': 11680, 'titulaires': 27845, 'isabelle': 14381, 'opéra': 19663, 'compter': 5501, 'soumettre': 26318, 'nogentsurseine': 19052, 'affrontera': 505, 'diffuseur': 7665, 'disque': 7927, 'drancy': 8303, 'milite': 17846, 'linstauration': 16175, 'géographique': 12519, 'protégée': 21986, 'truffes': 28406, 'zinédine': 30026, 'sélectionneur': 27213, 'psychiatre': 22267, 'spécialiste': 26514, 'nuits': 19273, 'secte': 25431, 'decathlon': 7167, 'maladroite': 16999, 'jumeaux': 14838, 'âgés': 30061, 'fougères': 11286, 'entendus': 9790, 'assaut': 1776, 'capitole': 3968, 'bannon': 2478, 'inculpé': 13653, 'salué': 25036, 'sursaut': 27023, 'remise': 23410, 'complète': 5451, 'consommation': 5832, 'oubli': 19815, 'insupportable': 14048, 'nés': 19354, 'barbade': 2495, 'delizabeth': 7224, 'mers': 17676, 'pirate': 20836, 'bénéficie': 3697, 'arts': 1719, 'dérogation': 9089, 'brillant': 3459, 'promotions': 21867, 'quaucun': 22575, 'narrive': 18772, 'cheville': 4618, 'arabe': 1522, 'cochon': 5084, 'shadow': 25703, 'banking': 2463, 'mondiales': 18122, 'chauffard': 4541, 'héraultais': 13199, 'flashé': 11035, 'bmw': 3066, 'introduire': 14204, 'kaboul': 14917, 'histoi': 12892, 'crèche': 6589, 'malsain': 17040, 'énigme': 30397, 'lanimal': 15358, 'caché': 3752, 'solidaire': 26136, 'roya': 24249, 'identitaires': 13283, 'sexualité': 25688, 'problématiques': 21693, 'lié': 16300, 'loups': 16509, 'attaquent': 1920, 'bétail': 3710, 'discrimination': 7860, 'embauche': 9490, 'sêtre': 27281, 'neveu': 18939, 'lisolement': 16246, 'désole': 9149, 'mcfly': 17520, 'carlito': 4041, 'troublante': 28369, 'blast': 2995, 'minister': 17907, 'fumio': 11561, 'kishida': 15055, 'pledges': 21001, 'japan': 14533, 'décorations': 8653, 'départementales': 8981, 'massivement': 17392, 'dates': 7066, 'débute': 8527, 'jouait': 14728, 'rêvait': 24805, 'astronaute': 1857, 'hospices': 13030, 'danseuse': 6993, 'termine': 27570, 'maître': 17497, 'utilisation': 28762, 'devises': 7508, 'étrangères': 30581, 'anecdote': 1126, 'gêne': 12540, 'yet': 29950, 'more': 18250, 'range': 22835, 'rover': 24244, 'hitting': 12910, 'modifier': 18055, 'appareil': 1389, 'consolider': 5829, 'répartition': 24608, 'emacron': 9471, 'précision': 22065, 'découvre': 8674, 'tradition': 28073, 'modernité': 18044, 'vivent': 29372, 'harmonie': 12711, 'taule': 27430, 'propagent': 21893, 'fakes': 10557, 'pédophilie': 22445, 'bloque': 3043, 'ander': 1112, 'herrera': 12834, 'étai': 30510, 'protection': 21957, 'abandons': 22, 'trafics': 28088, 'maltraitances': 17043, 'crue': 6567, 'data': 7063, 'bulles': 3606, 'censures': 4254, 'motards': 18299, 'tuent': 28445, 'fleuri': 11045, 'tracteur': 28062, 'triste': 28324, 'hospitaliers': 13033, 'appels': 1422, 'respecter': 23711, 'protocoles': 21974, 'entrain': 9823, 'franchement': 11377, 'salutaire': 25035, 'levé': 15845, 'occasions': 19435, 'priorités': 21637, 'vinci': 29224, 'choquer': 4714, 'lhôtel': 15944, 'rase': 22905, 'latin': 15505, 'michou': 17773, 'compagnie': 5392, 'dissimulé': 7940, 'lèvres': 16687, 'lorientation': 16456, 'remporter': 23451, 'trêve': 28425, 'dieudonné': 7647, 'évolue': 30639, 'félin': 11628, 'introuvable': 14207, 'repris': 23633, 'amis': 1016, 'incontournable': 13639, 'vendée': 28980, 'complications': 5434, 'indemniser': 13663, 'amateurs': 956, 'alternative': 929, 'diplômés': 7801, 'signs': 25835, 'billion': 2889, 'gas': 11800, 'deal': 7144, 'pigeon': 20777, 'loise': 16389, 'vitaa': 29340, 'uses': 28740, 'propulsion': 21936, 'léger': 16731, 'frontal': 11499, 'désespérés': 9128, 'changements': 4423, 'climatiques': 5005, 'forcer': 11211, 'adoptent': 407, 'position': 21311, 'libérale': 15986, 'linceste': 16119, 'frères': 11516, 'sœurs': 27289, 'récupérer': 24458, 'centimes': 4270, 'intenses': 14070, 'apprentis': 1463, 'cinéastes': 4838, 'grec': 12252, 'spiritualité': 26465, 'entrave': 9825, 'allaitement': 825, 'cadavre': 3758, 'économiste': 30162, 'economics': 9328, 'mesure': 17703, 'politiquement': 21165, 'préavis': 22047, 'collaboratrice': 5150, 'brésilienne': 3561, 'règne': 24356, 'archipel': 1548, 'versions': 29045, 'macos': 16854, 'italy': 14446, 'bans': 2485, 'redonner': 23186, 'bienfait': 2849, 'gauthier': 11837, 'maryam': 17353, 'enseignements': 9762, 'psychologiques': 22280, 'spirituels': 26468, 'chroniques': 4753, 'érigée': 30495, 'diriger': 7830, 'bête': 3716, 'croiser': 6519, 'perret': 20563, 'guéris': 12443, 'stimuler': 26657, 'appétit': 1504, 'racine': 22703, 'saliver': 25008, 'blanchard': 2980, 'abandonner': 17, 'budgétaires': 3585, 'entente': 9791, 'mérignac': 18641, 'bangladesh': 2461, 'couteaux': 6340, 'menaçait': 17603, 'passants': 20257, 'neutraliser': 18924, 'sanction': 25072, 'scan': 25282, 'moratoire': 18241, 'industrielles': 13726, 'jugées': 14816, 'fréquemment': 11521, 'suédois': 27096, 'refusent': 23237, 'magiques': 16902, 'langage': 15348, 'island': 14401, 'bouleversée': 3273, 'plaque': 20958, 'subir': 26786, 'précurseur': 22076, 'centré': 4286, 'renoue': 23529, 'vœu': 29614, 'xvie': 29908, 'puissant': 22334, 'spectre': 26443, 'ayez': 2294, 'patrice': 20327, 'éthiopie': 30541, 'arrêtées': 1686, 'lonu': 16422, 'exercices': 10237, 'souhaitez': 26296, 'commandez': 5307, 'lot': 16481, 'tyler': 28515, 'aniston': 1183, 'cox': 6378, 'friends': 11478, 'rendent': 23489, 'espèces': 10000, 'identifiées': 13277, 'gagnait': 11686, 'mathieu': 17420, 'lattaque': 15512, 'prévention': 22217, 'demon': 7280, 'slayer': 25992, 'lépisode': 16790, 'précise': 22063, 'entraîneurs': 9834, 'défilent': 8770, 'défile': 8769, 'filent': 10881, 'coton': 6233, 'lingerie': 16153, 'saintvalentin': 24956, 'destructeur': 7436, 'lukraine': 16586, 'youtubeur': 29981, 'pdci': 20400, 'na': 18700, 'putain': 22382, 'malien': 17028, 'récidiviste': 24427, 'attrapé': 1989, 'luke': 16585, 'evans': 10136, 'trempé': 28271, 'souls': 26312, 'félicitations': 11623, 'amélioration': 1054, 'maussade': 17470, 'laure': 15535, 'enseignante': 9758, 'indonésie': 13716, 'narbonne': 18763, 'mar': 17182, 'gouverner': 12152, 'enfile': 9666, 'perles': 20531, 'créatrice': 6606, 'finissent': 10958, 'maladresse': 16997, 'vé': 29570, 'attestation': 1967, 'intelligente': 14064, 'flèche': 11108, 'abandonnés': 21, 'vivaient': 29363, 'squelette': 26538, 'fmi': 11113, 'développement': 9255, 'blessures': 3003, 'évoluer': 30641, 'level': 15836, 'type': 28516, 'diana': 7611, 'surprenante': 27010, 'liaisons': 15948, 'anvers': 1344, 'réunification': 24726, 'irlande': 14357, 'aubaine': 2001, 'éloigne': 30328, 'rediffusion': 23179, 'stand': 26571, 'évidemment': 30626, 'charger': 4483, 'station': 26602, 'batteries': 2602, 'traitements': 28116, 'anticorps': 1276, 'approuvés': 1483, 'régulateur': 24544, 'commémorations': 5382, 'cet': 4333, 'dabord': 6815, 'reddit': 23170, 'paie': 19934, 'secondes': 25403, 'bowl': 3336, 'epr': 9924, 'lhérault': 15939, 'fabio': 10462, 'quartararo': 22562, 'humanitaires': 13100, 'excollaboratrice': 10210, 'jeanvincent': 14597, 'hypocrite': 13168, 'coma': 5258, 'là': 16668, 'typiquement': 28519, 'manœuvre': 17170, 'politiqu': 21163, 'pornhub': 21245, 'binaire': 2897, 'goldorak': 12076, 'jimmy': 14655, 'lai': 15238, 'among': 1026, 'hong': 12975, 'kong': 15096, 'democracy': 7276, 'jailed': 14502, 'islamisme': 14392, 'idéologies': 13302, 'adolescente': 401, 'lallier': 15284, 'ere': 9935, 'means': 17536, 'brique': 3473, 'lait': 15267, 'bouteille': 3320, 'rejetée': 23300, 'gazier': 11850, 'bénéfiques': 3704, 'obligée': 19384, 'renoncer': 23527, 'verdez': 29012, 'subvention': 26807, 'marchand': 17201, 'aston': 1847, 'villa': 29200, 'enjeu': 9708, 'aventures': 2226, 'cosplay': 6221, 'cambrioleur': 3843, 'fuir': 11544, 'procureure': 21714, 'âmes': 30063, 'sensibles': 25532, 'sabstenir': 24832, 'socialement': 26057, 'constitué': 5872, 'historiquement': 12902, 'divertissement': 7992, 'syndicats': 27146, 'annulé': 1228, 'activistes': 303, 'piment': 20800, 'imaginaire': 13384, 'courantes': 6298, 'cuisson': 6659, 'rdc': 22987, 'mutant': 18486, 'parisiennes': 20120, 'célèbres': 6773, 'instaurée': 14016, 'autochtones': 2130, 'désastreux': 9116, 'kingdom': 15046, 'éloge': 30327, 'ces': 4322, 'fondamentale': 11158, 'suppression': 26953, 'facettes': 10484, 'warren': 29662, 'génie': 12478, 'clyde': 5048, 'seraitce': 25572, 'bouger': 3243, 'editorial': 9349, 'adams': 330, 'ficelle': 10830, 'filmé': 10906, 'baie': 2379, 'sobriété': 26046, 'apprendre': 1456, 'lecteur': 15662, 'démographie': 8925, 'palestine': 19957, 'résident': 24675, 'hospitalisé': 13036, 'perspectives': 20596, 'donnons': 8160, 'confrontés': 5689, 'identifiez': 13274, 'franciliens': 11385, 'ecole': 9321, 'intoxiqué': 14194, 'mainstream': 16945, 'parisroubaix': 20124, 'décalée': 8539, 'brûlures': 3568, 'méduse': 18602, 'cueillir': 6648, 'observer': 19401, 'meuse': 17746, 'jambes': 14518, 'contexte': 5953, 'fakir': 10558, 'frédéric': 11517, 'beigbeder': 2694, 'jason': 14549, 'plaît': 20994, 'ruffin': 24289, 'séquestré': 27250, 'yassine': 29934, 'belattar': 2704, 'exclusivité': 10208, 'interne': 14122, 'rescapé': 23689, 'burnout': 3633, 'conte': 5925, 'draghi': 8287, 'tutti': 28489, 'soirlà': 26112, 'détudiants': 9244, 'bar': 2492, 'nen': 18890, 'entendu': 9787, 'frances': 11371, 'haugen': 12730, 'allait': 824, 'arbitraire': 1532, 'players': 20984, 'finally': 10923, 'smoke': 26017, 'weed': 29711, 'fear': 10714, 'penalty': 20438, 'norvégienne': 19149, 'individu': 13706, 'arc': 1537, 'orchestré': 19690, 'saloperie': 25025, 'osé': 19800, 'migliori': 17800, 'chelou': 4575, 'crabe': 6406, 'conseiller': 5780, 'camélia': 3880, 'jordana': 14711, 'michelin': 17769, 'dair': 6877, 'pneus': 21068, 'dès': 8481, 'passetil': 20272, 'houstons': 13062, 'brings': 3470, 'dozens': 8282, 'scene': 25296, 'estimé': 10058, 'largest': 15444, 'tree': 28262, 'blaze': 2998, 'closer': 5031, 'passsanitaire': 20292, 'restaurateurs': 23767, 'étoile': 30555, 'gamescom': 11738, 'œuf': 30675, 'vougeot': 29499, 'mickaël': 17776, 'territoires': 27596, 'lannonce': 15367, 'infiltre': 13781, 'maréchalle': 17356, 'acco': 163, 'apprentissage': 1464, 'millier': 17862, 'remontent': 23416, 'variants': 28909, 'get': 11935, 'paid': 19933, 'irai': 14339, 'environs': 9887, 'center': 4267, 'concernée': 5548, 'paiement': 19935, 'h50': 12564, 'mutuelle': 18495, 'levez': 15840, 'récolte': 24438, 'navale': 18835, 'adler': 371, 'astro': 1852, 'poissons': 21116, 'apporter': 1448, 'bouffée': 3240, 'faciès': 10499, 'transportant': 28199, 'écrase': 30190, 'j4': 14473, 'séville': 27274, 'émouvant': 30381, 'espère': 10001, 'fédé': 11612, 'deschamps': 7382, 'prononcé': 21879, 'ennuis': 9725, 'redonne': 23184, 'tolkien': 27873, 'contrer': 6013, 'soie': 26096, 'chinoises': 4666, 'revanche': 23881, 'gérald': 12526, 'cessons': 4329, 'écriture': 30202, 'patriarcat': 20325, 'nexiste': 18952, 'finkielkraut': 10962, 'tenu': 27557, 'prop': 21887, 'suspense': 27083, 'ruaudin': 24273, 'grain': 12182, 'gorge': 12104, 'abandonne': 15, 'astrazeneca': 1849, 'suv': 27093, 'when': 29754, 'dismisses': 7880, 'weapon': 29694, 'salon': 25021, 'laugmentation': 15528, 'plaindre': 20918, 'galère': 11729, 'auparavant': 2062, 'certaines': 4310, 'pionnière': 20819, 'aisne': 681, 'marthe': 17328, 'vierge': 29162, 'béatrice': 3678, 'mart': 17323, 'recension': 23044, 'dasi': 7049, 'footballeurs': 11197, 'reconstituer': 23118, 'quelqu': 22592, 'travailleuses': 28234, 'fabriquent': 10471, 'programmé': 21795, 'skate': 25965, 'pc': 20395, 'exclusivement': 10206, 'consoles': 5828, 'lefficacité': 15677, 'lom': 16400, 'milik': 17835, 'déroulement': 9092, 'syndicalistes': 27144, 'filiale': 10886, 'cartouches': 4088, 'voyons': 29534, 'graphène': 12220, 'moix': 18084, 'prends': 21539, 'enfermement': 9660, 'waze': 29689, 'tomtom': 27899, 'signalés': 25816, 'cristiano': 6489, 'ronaldo': 24164, 'cocacola': 5081, 'geste': 11930, 'évitez': 30636, 'rédiger': 24471, 'punchlines': 22360, 'namadia': 18734, 'audessus': 2018, 'barricades': 2533, 'facho': 10486, 'abrutis': 97, 'condition': 5599, 'diy': 8016, 'laptop': 15419, 'done': 8141, 'merck': 17663, 'dautorisation': 7104, 'pilule': 20798, 'musiques': 18471, 'dédiée': 8719, 'nazie': 18854, 'dérapage': 9073, 'impliquant': 13466, 'falloir': 10566, 'gouvernementale': 12147, 'bafa': 2361, 'hérissons': 13200, 'fêter': 11652, 'censée': 4259, 'lennui': 15739, 'valoir': 28868, 'âgé': 30058, 'propriété': 21934, 'gabrielle': 11674, 'wade': 29618, 'took': 27914, 'easter': 9304, 'accords': 181, 'touquet': 27991, 'dinflation': 7738, 'annuel': 1220, 'augmente': 2041, 'zone': 30035, 'détenu': 9195, 'park': 20127, 'courent': 6303, 'négligé': 19333, 'êt': 30661, 'irlandaise': 14356, 'asservissement': 1783, 'visent': 29300, 'und': 28639, 'ment': 17624, 'mentir': 17643, 'dropped': 8360, 'homicides': 12953, 'involontaires': 14309, 'mentent': 17632, 'vows': 29516, 'package': 19921, 'infrastructure': 13833, 'h10': 12550, 'burkinabè': 3628, 'sushis': 27064, 'catholique': 4155, 'hôtellerie': 13230, 'sauvée': 25231, 'enregistre': 9742, 'milliardaire': 17858, 'bassins': 2569, 'paniers': 19996, 'barleduc': 2519, 'lappli': 15410, 'bend': 2735, 'faces': 10482, 'surgery': 26996, 'bamba': 2433, 'tranchant': 28134, 'trottinettes': 28364, 'libreservice': 15976, 'quinzaine': 22633, 'except': 10185, 'couvertures': 6352, 'majoritairement': 16980, 'l2': 15130, 'partiel': 20212, 'gifts': 11969, 'have': 12755, 'everyone': 10148, 'célibataire': 6768, 'boit': 3104, 'matins': 17433, 'smoothie': 26020, 'portables': 21257, 'macbook': 16843, 'obtenu': 19420, 'dominique': 8125, 'tickets': 27763, 'survey': 27036, 'hoaxslayer': 12922, 'institution': 14022, 'débats': 8496, 'exclusion': 10204, 'rachida': 22697, 'dîner': 9289, 'acquis': 269, 'démissionner': 8911, 'sophia': 26214, 'crazy': 6436, 'presentation': 21554, 'delevoye': 7214, 'amalric': 947, 'filme': 10900, 'lactu': 15188, 'qanon': 22514, 'démocrates': 8919, 'emile': 9511, 'fn': 11114, 'bercoff': 2758, 'promo': 21861, 'canadien': 3887, 'chantre': 4449, 'dalcool': 6889, 'gels': 11871, 'mené': 17648, 'aprèsmidi': 1511, 'gilbert': 11978, 'vecteurs': 28943, 'contamination': 5917, 'corrigé': 6186, 'bénéficiaires': 3695, 'jaimerais': 14504, 'récompenser': 24444, 'your': 29973, 'father': 10648, 'isn': 14407, 'pomme': 21202, 'chr': 4732, 'dévier': 9266, 'astéroïde': 1871, 'kamikaze': 14930, 'sonde': 26190, 'prey': 21591, 'denisdenis': 7304, 'pack': 19920, 'jolie': 14698, 'tapis': 27390, 'maind': 16939, 'remplir': 23445, 'responds': 23725, 'backlash': 2345, 'mickey': 17777, 'grossesse': 12312, 'mappelle': 17174, 'daniel': 6965, 'légiste': 16741, 'roi': 24126, 'atteindra': 1929, 'aéronautique': 2313, 'creusot': 6451, 'motard': 18298, 'aperçoit': 1367, 'pont': 21214, 'show': 25765, 'dreux': 8325, 'antonio': 1340, 'guterres': 12426, 'relance': 23315, 'cert': 4305, 'publicités': 22301, 'idéal': 13295, 'troller': 28339, 'cancel': 3899, 'plier': 21017, 'scrutin': 25370, 'régional': 24527, 'répéter': 24645, 'alliances': 849, 'présidentie': 22186, 'déploiement': 9022, 'gâteau': 12459, 'yaourt': 29931, 'cerises': 4301, 'moelleux': 18068, 'dessignace': 7406, 'rejoint': 23308, 'redoutent': 23194, 'larrivée': 15458, 'sérieuse': 27257, 'stockage': 26661, 'énormes': 30401, 'continué': 5972, 'forced': 11209, 'slams': 25987, 'genocide': 11892, 'bel': 2701, 'levier': 15842, 'lengagement': 15733, 'apports': 1449, 'linstitut': 16176, 'sorties': 26249, 'embrace': 9500, 'winter': 29813, 'raw': 22970, 'inscriptions': 13936, 'khaled': 15004, 'memorial': 17589, 'indiquent': 13699, 'youtubeurs': 29982, 'squeezie': 26537, 'celebrity': 4228, 'bro': 3492, 'nommer': 19082, 'constellations': 5861, 'texans': 27636, 'watson': 29679, 'titans': 27836, 'cascade': 4095, 'notice': 19172, 'participé': 20206, 'détermine': 9201, 'critères': 6504, 'denfants': 7295, 'accentue': 142, 'assistantes': 1797, 'maternelles': 17414, 'magnétique': 16918, 'emporte': 9569, 'recherchées': 23071, 'mensonge': 17614, 'dus': 8449, 'plagiat': 20905, 'propriano': 21930, 'horizon': 13006, 'galaxies': 11708, 'lactée': 15191, 'collectionneur': 5169, 'décollage': 8626, 'trajectoire': 28124, 'fulgurante': 11551, 'ambitieuse': 974, 'ariane': 1588, 'dévoilent': 9270, 'nostalgie': 19155, 'psychopathe': 22283, 'prenait': 21530, 'occupés': 19455, 'fictions': 10844, 'biais': 2821, 'lintelligence': 16181, 'artificielle': 1705, 'russia': 24331, 'running': 24311, 'incredible': 13647, 'bn': 3068, 'trade': 28068, 'costumes': 6226, 'déguisée': 8814, 'mexico': 17752, 'embarquer': 9483, 'parcourir': 20079, 'canaux': 3897, 'déclenchée': 8615, 'météofrance': 18681, 'résidence': 24673, 'géorgie': 12524, 'déclarations': 8600, 'martyre': 17341, 'innocence': 13887, 'verhoeven': 29020, 'dupes': 8411, 'nu': 19251, 'basic': 2555, 'demimillion': 7270, 'vies': 29164, 'sauvées': 25232, 'pharmaceutique': 20682, 'déconseille': 8645, 'lutilisation': 16628, 'attendre': 1950, 'systémique': 27165, 'compétence': 5512, 'petition': 20649, 'demanding': 7254, 'ouvertures': 19866, 'villeneuve': 29211, 'casser': 4114, 'passé': 20294, 'emma': 9522, 'lopéra': 16438, 'smartphones': 26010, 'intervenus': 14168, 'laccuse': 15166, 'tricher': 28297, 'ardennais': 1565, 'buffet': 3589, 'diversifie': 7985, 'alex': 763, 'pénal': 22449, 'actu': 314, 'problématique': 21692, 'der': 7355, 'leyen': 15889, 'traitée': 28121, 'mr': 18382, 'freestyle': 11450, 'outreau': 19854, 'parue': 20231, 'bachelot': 2342, 'indochine': 13714, 'vapeur': 28901, 'détectée': 9185, 'atmosphère': 1895, 'habitable': 12579, 'fabriqués': 10476, 'aligner': 796, 'interrogations': 14145, 'dispositif': 7917, 'paire': 19948, 'award': 2282, 'advance': 437, 'fee': 10727, 'demandeurs': 7252, 'voyezvous': 29533, 'pogba': 21080, 'invente': 14254, 'basses': 2567, 'réinvente': 24570, 'robe': 24075, 'pannierrunacher': 20003, 'poussés': 21450, 'cape': 3954, 'dharry': 7552, 'penchés': 20445, 'lieutenantcolonel': 16026, 'équivalent': 30489, 'dreyfus': 8328, 'dobtenir': 8037, 'gain': 11699, 'confirmés': 5659, 'instanta': 14001, 'ravie': 22962, 'comparant': 5400, 'nazis': 18855, 'sénatrice': 27227, 'suspendue': 27079, 'gauches': 11823, 'écologistes': 30151, 'peuventelles': 20669, 'pauline': 20355, 'isolé': 14414, 'détenteur': 9192, 'as': 1727, 'innovation': 13898, 'odeurs': 19473, 'transmettre': 28184, 'importantes': 13480, 'bronchiolite': 3502, 'générateur': 12500, 'nombres': 19072, 'gloire': 12045, 'prochaines': 21706, 'offerts': 19498, 'nelson': 18888, 'islanders': 14404, 'mount': 18340, 'procédé': 21722, 'écoresponsable': 30168, 'airbus': 670, 'hélicoptère': 13191, 'esp': 9979, 'légitime': 16743, 'barthès': 2542, 'hey': 12854, 'classe': 4952, 'ségolène': 27201, 'royal': 24250, 'perry': 20568, 'lémouvant': 16773, 'shannen': 25712, 'doherty': 8081, 'condamnées': 5594, 'illégalement': 13373, 'croyance': 6550, 'recep': 23050, 'tayyip': 27445, 'frappes': 11421, 'boycotte': 3346, 'ana': 1075, 'ka': 14914, 'redémarrer': 23204, 'fessenheim': 10800, 'persistant': 20571, 'bce': 2634, 'contraintes': 5994, 'relever': 23347, 'décisif': 8589, 'rte': 24267, 'options': 19658, 'excessive': 10194, 'alcool': 733, 'confession': 5625, 'moulinsbeaufort': 18336, 'convoqué': 6081, 'tabac': 27293, 'snowden': 26038, 'peace': 20405, 'échelle': 30106, 'panthéon': 20011, 'jolis': 14700, 'trafiquant': 28089, 'bailleur': 2386, 'stups': 26755, 'spatiale': 26424, 'rebours': 23026, 'agree': 579, 'form': 11232, 'clean': 4976, 'fund': 11566, 'fisc': 10980, 'arrestation': 1646, 'condé': 5617, 'discrète': 7864, 'applaudissements': 1429, 'élevé': 30303, 'bump': 3611, 'bernier': 2781, 'populisme': 21235, 'bobos': 3081, 'join': 14688, 'ae911truth': 451, 'experience': 10294, 'sénateurs': 27224, 'bloom': 3040, 'ios': 14330, 'serez': 25587, 'mioctobre': 17938, 'inciter': 13603, 'vacc': 28784, 'réquisitoire': 24653, 'conteste': 5948, 'marquant': 17289, 'emploie': 9550, 'ant': 1249, 'emmaüs': 9525, 'rebondir': 23020, 'midis': 17790, 'publient': 22304, 'lépouse': 16794, 'né': 19309, 'codes': 5094, 'patient': 20317, 'seinesaintdenis': 25459, 'sudan': 26841, 'general': 11883, 'government': 12157, 'declares': 7174, 'emergency': 9508, 'dors': 8202, 'riss': 24034, 'retenue': 23813, 'fakenews': 10556, 'mcdonalds': 17519, 'customers': 6712, 'capsule': 3972, 'détache': 9165, 'spac': 26411, 'lopen': 16428, 'daustralie': 7099, 'tribunes': 28292, 'pleines': 21005, 'maux': 17474, 'opérateurs': 19665, 'limitent': 16081, 'bracelets': 3359, 'hache': 12601, 'fouille': 11287, 'allier': 852, 'azur': 2305, 'photojournalisme': 20724, 'despagne': 7393, 'dinfluence': 7739, 'pourraitil': 21412, 'causer': 4178, 'information': 13818, 'chemise': 4584, 'cannes': 3930, 'sabre': 24829, 'lindividu': 16132, 'porteur': 21278, 'diff': 7650, 'vitrine': 29356, 'exhaustif': 10243, 'régulation': 24545, 'coudes': 6247, 'jeanyves': 14598, 'galtier': 11726, 'couve': 6346, 'vignes': 29184, 'arrêt': 1675, 'graal': 12173, 'disparue': 7898, 'daprèsmidi': 7015, 'gendarmerie': 11877, 'oops': 19611, 'pauvreté': 20362, 'intellectuel': 14059, 'précampagne': 22050, 'saisissante': 24965, 'linterview': 16192, 'poli': 21136, 'ghislaine': 11946, 'maxwell': 17485, 'accuser': 228, 'jeffrey': 14603, 'meet': 17555, 'extra': 10416, 'détiennent': 9213, 'viral': 29265, 'amuse': 1046, 'milice': 17830, 'wagner': 29619, 'respectent': 23710, 'dengagement': 7297, 'perde': 20506, 'ma': 16836, 'transformées': 28165, 'rivières': 24060, 'bosnie': 3200, 'serbes': 25579, 'approprier': 1477, 'projeté': 21829, 'juridiction': 14858, 'dexception': 7522, 'favorable': 10684, 'richesse': 23968, 'conflit': 5668, 'égard': 30248, 'troublant': 28368, 'confrontées': 5688, 'sosie': 26255, 'juger': 14810, 'satisfaire': 25176, 'protégées': 21987, 'soudain': 26269, 'co2': 5069, 'hbo': 12777, 'vitres': 29355, 'adoptez': 409, 'techniques': 27471, 'spray': 26497, 'nasal': 18779, 'impatience': 13449, 'signée': 25837, 'naomi': 18754, 'dame': 6921, 'apporte': 1446, 'savoirfaire': 25256, 'ralentit': 22794, 'immobiliers': 13426, 'auguste': 2049, 'tombé': 27890, 'bayern': 2625, 'maturité': 17452, 'casta': 4125, 'habitués': 12598, 'injustice': 13882, 'islande': 14403, 'parodie': 20158, 'anglade': 1143, 'repart': 23575, 'islamophobe': 14398, 'laluminium': 15289, 'cash': 4100, 'sure': 26982, 'démagogie': 8881, 'théories': 27744, 'observatoire': 19398, 'sponsor': 26476, 'pylône': 22400, 'utilisent': 28765, 'réserver': 24663, 'sénatoriales': 27226, 'partielles': 20215, 'intégralité': 14217, 'guillotière': 12402, 'lapsus': 15418, 'pourris': 21423, 'caste': 4128, 'chutes': 4775, 'branches': 3373, 'rafale': 22755, 'bâtiment': 3671, 'côtière': 6801, 'locales': 16332, 'bardella': 2514, 'berlusconi': 2772, 'governo': 12158, 'ora': 19674, 'élémentaires': 30345, 'effroyable': 9399, 'cassetête': 4117, 'intérêts': 14245, 'jui': 14819, 'complices': 5436, 'satisfait': 25178, 'mobilité': 18024, 'seringues': 25598, 'deviennent': 7495, 'barreaux': 2530, 'prétendent': 22207, 'sestelle': 25641, 'cliché': 4990, 'destiné': 7426, 'emprisonné': 9576, 'réactions': 24367, 'insoumis': 13965, 'défendent': 8744, 'peines': 20422, 'agathe': 534, 'auproux': 2064, 'manoir': 17139, 'muru': 18449, 'biélorussie': 2956, 'glenn': 12034, 'detective': 7445, 'conan': 5530, 'déroule': 9091, 'seratil': 25577, 'touché': 27971, 'chéquier': 4793, 'désinfection': 9138, 'connectée': 5743, 'développée': 9261, 'clone': 5025, 'croyais': 6548, 'martinez': 17336, 'gpu': 12170, 'infinity': 13789, 'burundi': 3637, 'ambassadeur': 963, 'morte': 18269, 'vivante': 29367, 'soutenu': 26369, 'jeté': 14632, 'etude': 10091, 'relevé': 23348, 'extrêmegauche': 10437, 'payés': 20393, 'dals': 6906, 'pons': 21213, 'luca': 16553, 'tabagisme': 27294, 'expliquait': 10309, 'toucher': 27966, 'renseignements': 23540, 'semblerait': 25488, 'régale': 24517, 'subit': 26790, 'irma': 14359, 'lanceurs': 15332, 'agence': 539, 'frontex': 11503, 'déployé': 9028, 'lescroquerie': 15789, 'sep': 25559, 'gaëlle': 11855, 'séquestrée': 27251, 'porn': 21244, 'anglaise': 1145, 'college': 5179, 'j1': 14470, 'jenifer': 14605, 'agrumes': 604, 'viennent': 29158, 'sublimer': 26793, 'pic': 20747, 'filantes': 10879, 'œuvres': 30678, 'racist': 22708, 'bluray': 3062, 'monstre': 18152, 'saakachvili': 24819, 'mail': 16933, 'failing': 10524, 'letters': 15819, 'guay': 12359, 'cie': 4820, 'monsters': 18151, 'work': 29851, 'marrants': 17310, 'trouvés': 28395, 'émotions': 30380, 'contenu': 5940, 'émotionnel': 30378, 'campagnes': 3866, 'eston': 10064, 'plaise': 20927, 'électeurs': 30279, 'effective': 9369, 'employé': 9556, 'musiciens': 18469, 'orchestre': 19689, 'mississippi': 17973, 'automatique': 2132, 'papiers': 20025, 'technologie': 27473, 'cafés': 3770, 'orwell': 19784, 'brother': 3515, 'regardait': 23249, 'lobsession': 16326, 'sécuritaire': 27190, 'sapprête': 25137, 'bayer': 2624, 'étais': 30513, 'sila': 25842, 'ava': 2189, 'semai': 25479, 'battu': 2608, 'séquençage': 27248, 'génome': 12484, 'rédigée': 24473, 'lami': 15308, 'alessandro': 762, 'stella': 26633, 'legend': 15687, 'zelda': 30007, 'skyward': 25984, 'sword': 27110, 'hd': 12779, 'aimé': 663, 'inscrit': 13938, 'america': 997, 'benedetti': 2737, 'incarner': 13575, 'areas': 1574, 'take': 27346, 'bleue': 3009, 'démocrate': 8918, 'tuesdays': 28450, 'boredom': 3191, 'buster': 3647, 'puzzles': 22396, 'pullout': 22344, 'pilotes': 20796, 'niger': 18990, 'hundreds': 13123, 'japonaise': 14537, 'leffigie': 15678, 'luttes': 16635, 'résister': 24691, 'papillon': 20028, 'bros': 3511, 'effectué': 9374, 'health': 12786, 'fauteuil': 10676, 'réductions': 24475, 'immigrés': 13421, 'tragedy': 28091, 'cuteness': 6715, 'empêchent': 9585, 'réactionnaire': 24366, 'autoriser': 2155, 'locative': 16341, 'croûte': 6558, 'munster': 18434, 'heurts': 12851, 'éclatent': 30132, 'eiffel': 9411, 'exonérer': 10280, 'dimpôt': 7723, 'jordan': 14710, 'ter': 27561, 'percute': 20496, 'remis': 23409, 'confessions': 5626, 'conflits': 5669, 'franzolivier': 11404, 'giesbert': 11964, 'jul': 14828, 'lexode': 15864, 'lavancée': 15568, 'radar': 22728, 'russias': 24335, 'popular': 21230, 'ciseaux': 4868, 'rio': 24005, 'photographique': 20722, 'utilisée': 28770, 'entraîne': 9828, 'dont': 8166, 'rétabli': 24710, 'pharmacien': 20685, 'fai': 10516, 'private': 21653, 'jet': 14622, 'summit': 26910, 'xvi': 29907, 'georges': 11915, 'tonton': 27911, 'voyait': 29527, 'rest': 23761, 'fun': 11565, 'inclus': 13613, 'griveaux': 12301, 'rosa': 24179, 'débris': 8522, 'brise': 3476, 'générer': 12504, 'mini': 17892, 'envisage': 9888, 'location': 16339, 'jacob': 14485, 'desvarieux': 7440, 'zouk': 30040, 'repose': 23614, 'ampleur': 1037, 'rallonge': 22800, 'suggestions': 26869, 'marcantoine': 17193, 'jamet': 14523, 'h13': 12551, 'nokia': 19062, 'observez': 19402, 'complément': 5454, 'vocabulaire': 29385, 'propagandistes': 21890, 'vax': 28936, 'dimitri': 7714, 'performance': 20526, 'raletz': 22795, 'tran': 28133, 'vietnam': 29165, 'linkedin': 16163, 'stories': 26681, 'link': 16161, 'évaluation': 30612, 'maisons': 16968, 'naissances': 18725, 'construite': 5882, 'cheval': 4609, 'finistère': 10960, 'seraientils': 25569, 'studios': 26745, 'lycéens': 16649, 'blaise': 2973, 'listes': 16253, 'damis': 6928, 'tournant': 28009, 'empreinte': 9572, 'anxiogène': 1346, 'echos': 9318, 'cinémathèque': 4841, 'langlois': 15352, 'incarné': 13577, 'cr': 6403, 'saucisson': 25200, 'miel': 17794, 'uno': 28683, 'lil': 16052, 'chants': 4450, 'intelligence': 14062, 'norme': 19141, 'capitalistes': 3965, 'measures': 17537, 'versée': 29050, 'fiche': 10834, 'frontalière': 11502, 'évité': 30637, 'board': 3072, 'members': 17584, 'volunteers': 29456, 'figurezvous': 10874, 'allégations': 883, 'lavantage': 15571, 'salaire': 24985, 'piétine': 20879, 'lydia': 16651, 'maël': 17495, 'calan': 3797, 'toyota': 28045, 'kid': 15018, 'ds': 8372, 'ségur': 27203, 'bride': 3443, 'hô': 13223, 'mobiles': 18011, 'rubrique': 24277, 'animée': 1179, 'yetiblog': 29951, 'consacrée': 5767, 'repérée': 23671, 'chêne': 4796, 'aire': 672, 'rencontrent': 23473, 'camarade': 3835, 'chiara': 4626, 'mes': 17684, 'impression': 13503, 'verger': 29017, 'huile': 13083, 'banned': 2468, 'federal': 10723, 'funding': 11567, 'wucnews': 29880, 'colonial': 5221, 'récupère': 24456, 'quasitotalité': 22569, 'rançon': 22848, 'nouilles': 19188, 'fanatiques': 10595, 'plat': 20967, 'accepte': 146, 'balkany': 2419, 'textes': 27641, 'prescription': 21550, 'tyrannie': 28521, 'navy': 18848, 'building': 3599, 'littoral': 16265, 'groups': 12328, 'accusation': 221, 'attentes': 1959, 'quid': 22622, 'lhiver': 15914, 'spécialement': 26512, 'labri': 15153, 'vatican': 28929, 'coûtant': 6385, 'leclerc': 15652, 'carnaval': 4047, 'retraité': 23849, 'pommes': 21203, 'assurés': 1843, 'sms': 26022, 'frauduleux': 11433, 'manga': 17086, 'garderobe': 11775, 'sonner': 26201, 'paralympiques': 20058, 'tétraplégique': 28582, 'demifinales': 7267, 'percevoir': 20492, 'cumul': 6688, 'hospitalisée': 13037, 'examens': 10167, 'préliminaires': 22116, 'foie': 11123, 'gras': 12221, 'corrèze': 6193, 'update': 28693, 'visit': 29316, 'tarn': 27408, 'fillette': 10894, 'quentin': 22601, 'qualifié': 22545, 'marteau': 17325, 'efira': 9400, 'chéri': 4794, 'guard': 12354, 'exemption': 10232, 'visioconférence': 29308, 'évaluer': 30615, 'apportées': 1452, 'leurs': 15834, 'inclusif': 13614, 'structures': 26736, 'sain': 24901, 'rescousse': 23692, 'syndical': 27139, 'rétablir': 24711, 'équilibre': 30473, 'lastuce': 15495, 'parebrise': 20090, 'gelé': 11873, 'launches': 15531, 'ship': 25738, 'named': 18736, 'gay': 11841, 'milk': 17848, 'pédophile': 22443, 'viole': 29242, 'honored': 12989, 'princess': 21618, 'once': 19589, 'électorales': 30284, 'released': 23344, 'vehicle': 28950, 'got': 12113, 'msnbc': 18387, 'seal': 25386, 'jaco': 14484, 'mel': 17572, 'cathy': 4158, 'updates': 28695, 'abri': 91, 'architects': 1552, 'engineers': 9698, 'aia': 617, 'croître': 6557, 'polaire': 21128, 'latalanta': 15498, 'serie': 25593, 'redémarre': 23203, 'médicaments': 18590, 'développés': 9262, 'lésions': 16802, 'alien': 792, 'mind': 17884, 'extraterrestres': 10428, 'charbon': 4470, 'insoutenable': 13968, 'minage': 17881, 'associé': 1816, 'registre': 23266, 'blocs': 3029, 'marquants': 17292, 'porsche': 21253, 'apparue': 1407, 'séparer': 27239, 'effectifs': 9368, 'marquée': 17303, 'pyramides': 22402, 'lourds': 16516, 'successifs': 26818, 'chimique': 4654, 'vianney': 29097, 'pénis': 22458, 'bionique': 2912, 'fierté': 10855, 'malformations': 17017, 'élizabeth': 30325, 'martichoux': 17330, 'fi': 10817, 'viticulture': 29353, 'riverains': 24053, 'lan': 15321, 'handball': 12667, 'wanted': 29648, 'pedo': 20412, 'organisé': 19736, 'louis': 16501, 'clefs': 4979, 'slovaquie': 26002, 'constitutionnelle': 5871, 'carlo': 4042, 'alberto': 724, 'brusa': 3538, 'fournisseur': 11313, 'géantes': 12471, 'mortes': 18275, 'lac': 15157, 'titicaca': 27837, 'cherchent': 4597, 'franç': 11405, 'cabinets': 3738, 'between': 2806, 'taliban': 27359, 'laddition': 15194, 'intentions': 14079, 'barr': 2525, 'd2': 6807, 'doigts': 8083, 'inaugurent': 13560, 'agglomération': 548, 'tomate': 27879, 'fraîche': 11435, 'daltitude': 6910, 'inévitable': 14328, 'officier': 19514, 'étages': 30509, 'dépôt': 9068, 'curé': 6710, 'pourvoir': 21436, 'filtres': 10913, 'préserver': 22176, 'israéliens': 14423, 'candidates': 3916, 'questionnaire': 22611, 'confirms': 5656, 'airport': 677, 'arrivals': 1653, 'past': 20298, 'adolescentes': 402, 'noires': 19057, 'filmées': 10908, 'tabasser': 27296, 'dalle': 6902, 'tendre': 27527, 'joeystarr': 14673, 'lanniversaire': 15366, 'khalid': 15005, 'auray': 2077, 'morlaix': 18259, 'noter': 19167, 'flora': 11076, 'envoyez': 9907, 'reines': 23290, 'sm': 26006, 'partisans': 20222, 'berry': 2783, 'prétendait': 22202, 'secourir': 25408, 'maltraités': 17047, 'agroalimentaire': 603, 'environnementaux': 9886, 'électorale': 30283, 'os': 19787, 'métamorphose': 18654, 'pois': 21112, 'blocking': 3027, 'obligation': 19375, 'croyez': 6554, 'désaccords': 9105, 'quais': 22533, 'polar': 21132, 'hi': 12856, 'boulette': 3261, 'restitue': 23779, 'solennellement': 26134, 'maintenir': 16950, 'rise': 24019, 'fronts': 11506, 'samouraï': 25058, 'fran': 11359, 'ça': 30066, 'maitre': 16969, 'composition': 5472, 'détresse': 9230, 'sa': 24818, 'définition': 8778, 'dany': 7004, 'boon': 3172, 'ancêtre': 1109, 'séclate': 27182, 'shooting': 25750, 'nope': 19109, 'informer': 13824, 'autoritaire': 2160, 'southern': 26377, 'waters': 29678, 'oil': 19538, 'spill': 26458, 'tr': 28049, 'plea': 20996, 'médiathèque': 18578, 'objets': 19374, 'puydedôme': 22393, 'assurer': 1838, 'فيديو': 30696, 'مع': 30697, 'eglise': 9405, 'orthodoxe': 19781, 'coopérer': 6100, 'crimes': 6471, 'cents': 4288, 'brebis': 3417, 'ramener': 22815, 'exportations': 10354, 'pétrole': 22498, 'antiterroriste': 1325, 'plaide': 20908, 'camus': 3879, 'suez': 26855, 'car': 3991, 'manipulateurs': 17121, 'montluçon': 18190, 'lécoute': 16704, 'bienveillant': 2858, 'atterrit': 1966, 'rgpd': 23946, 'médiateur': 18577, 'oubliée': 19823, 'décoller': 8629, 'pre': 21510, 'paru': 20230, 'ciase': 4805, 'laïcs': 15616, 'diplomatie': 7794, 'alger': 774, 'sérieux': 27260, 'formulé': 11250, 'fleuves': 11054, 'suspicion': 27086, 'cris': 6481, 'singe': 25905, 'lencontre': 15724, 'luefa': 16576, 'pardon': 20086, 'hommages': 12956, 'révolutionnaire': 24771, 'poète': 21474, 'ciao': 4804, 'emblématiques': 9497, 'vus': 29569, 'adorable': 414, 'retenus': 23815, 'bern': 2773, 'intérêt': 14244, 'hospitalisés': 13039, 'annulée': 1229, 'grandpère': 12208, 'coûtera': 6389, 'bri': 3437, 'larménie': 15453, 'essuyé': 10037, 'pertes': 20607, 'humaines': 13094, 'lazerbaïdjan': 15609, 'lislam': 16240, 'authentique': 2118, 'innocent': 13888, 'terroristes': 27609, 'braqués': 3393, 'regardes': 23254, 'épuisé': 30464, 'ressources': 23756, 'doubs': 8240, 'ouvrier': 19874, 'toit': 27866, 'luxueux': 16641, 'péter': 22494, 'limportance': 16103, 'calmels': 3821, 'linitiative': 16158, 'efforts': 9390, 'audience': 2021, 'lautriche': 15562, 'confiner': 5643, 'prolongation': 21833, 'véritables': 29605, 'badass': 2355, 'connaîtra': 5735, 'finalistes': 10921, 'cycles': 6735, 'mercier': 17662, 'dépose': 9036, 'maintient': 16958, 'girard': 11994, 'signer': 25824, 'zona': 30034, 'goebbels': 12067, 'soulèvements': 26315, 'expriment': 10377, 'lhorreur': 15922, 'donneurs': 8156, 'identiques': 13281, 'entités': 9809, 'énergies': 30389, 'tordre': 27923, 'mondialisation': 18123, 'clocher': 5023, 'kpop': 15104, 'boom': 3168, 'korea': 15098, 'multiple': 18411, 'drogues': 8343, 'exactions': 10164, 'commises': 5346, 'centrafrique': 4273, 'éclaire': 30123, 'daujourdhui': 7090, 'commissaire': 5347, 'district': 7969, 'nettoyage': 18913, 'allie': 850, 'turkish': 28475, 'refuses': 23239, 'appeal': 1410, 'aidants': 620, 'vastes': 28927, 'volontaires': 29446, 'sanctionne': 25073, 'sattaque': 25181, 'légendes': 16730, 'hugo': 13080, 'bactérie': 2352, 'loyauté': 16536, 'marge': 17222, 'convoqués': 6083, 'boire': 3100, 'imam': 13395, 'laïcité': 15615, 'month': 18186, 'howard': 13065, 'contract': 5980, 'under': 28640, 'née': 19318, 'contaminé': 5921, 'nomade': 19066, 'bousculé': 3314, 'fox': 11330, 'critical': 6492, 'nearly': 18871, 'since': 25893, 'misleading': 17961, 'viewers': 29171, 'personnalités': 20587, 'mosquées': 18291, 'affirment': 488, 'lère': 16683, 'mauro': 17467, 'wanda': 29644, 'icardi': 13249, 'téléphoniques': 28549, 'changement': 4422, 'métropole': 18675, 'lawsuit': 15602, 'seeks': 25444, 'answers': 1248, 'carcassonne': 4010, 'ivre': 14464, 'samedis': 25054, 'cumuler': 6690, 'temp': 27503, 'grammaire': 12188, 'requiert': 23678, 'emprisonnement': 9575, 'auxiliaires': 2187, 'êtr': 30664, 'minnesota': 17921, 'enforcement': 9675, 'agency': 541, 'opponents': 19631, 'islamophobie': 14400, 'lislamophobie': 16243, 'blé': 3065, 'façon': 10700, 'miam': 17761, 'adaptation': 331, 'catastrophes': 4145, 'mexicaine': 17749, 'lêtre': 16828, 'dexister': 7526, 'attendues': 1953, 'cortèges': 6204, 'lancés': 15339, 'classico': 4958, 'antizemmour': 1334, 'dégénéré': 8821, 'baril': 2516, 'kamala': 14927, 'harris': 12715, 'atterri': 1963, 'réc': 24411, 'canteleu': 3940, 'souhaitable': 26289, 'étu': 30586, 'price': 21595, 'host': 13043, 'barker': 2517, 'nuggets': 19266, 'set': 25643, 'upcoming': 28692, 'season': 25390, 'espérons': 10007, 'gallou': 11722, 'pluralisme': 21049, 'malédiction': 17051, 'dessinée': 7416, 'blake': 2974, 'dites': 7975, 'ko': 15083, 'vérifié': 29601, 'hésité': 13219, 'serveur': 25623, 'gamers': 11736, 'travaillant': 28227, 'plaident': 20909, 'australienne': 2103, 'bloquées': 3048, 'villiers': 29218, 'entrez': 9858, 'prendra': 21534, 'lorsque': 16462, 'participants': 20196, 'accusatrice': 223, 'prétendante': 22204, 'montage': 18158, 'central': 4274, 'témoin': 28578, 'épidémique': 30430, 'assurent': 1837, 'réjouir': 24575, 'lapproche': 15413, 'horloge': 13008, 'discuss': 7868, 'fanfare': 10597, 'gala': 11703, 'amérindiens': 1072, 'litre': 16261, 'dépêche': 9065, 'bouygues': 3330, 'tra': 28050, 'intitulée': 14185, 'sanglier': 25089, 'munch': 18422, 'nanty': 18753, 'étions': 30551, 'malheureux': 17024, 'lucien': 16562, 'jeanbaptiste': 14572, 'harlem': 12709, 'way': 29686, 'denmark': 7306, 'pseudo': 22256, 'bei': 2693, 'rotterdam': 24191, 'rencontrer': 23474, 'partenaires': 20187, 'évoquer': 30649, 'investissement': 14281, 'crs': 6559, 'pavé': 20366, 'déclat': 8608, 'salah': 24984, 'abdeslam': 40, 'novembr': 19227, 'inquiets': 13915, 'corona': 6164, 'visibilité': 29303, 'sons': 26208, 'care': 4023, 'procéder': 21719, 'réels': 24488, 'dextinction': 7537, 'auch': 2008, 'roms': 24160, 'neuer': 18918, 'buste': 3645, 'rêvée': 24813, 'révolutionne': 24773, 'lorsquils': 16465, 'asseoir': 1782, 'cercle': 4292, 'bruges': 3527, 'sépare': 27237, 'dyves': 8477, 'debate': 7155, 'wtc': 29878, 'climatologues': 5006, 'thérapie': 27750, 'patiente': 20318, 'aidée': 634, 'late': 15499, 'wear': 29696, 'gamme': 11743, 'ali': 785, 'amitié': 1018, 'méconnue': 18553, 'kombouaré': 15092, 'élire': 30317, 'adieu': 363, 'racontait': 22717, 'rattrape': 22946, 'volé': 29458, 'enfle': 9672, 'mobilisée': 18021, 'récolter': 24439, 'francs': 11397, 'f35': 10456, 'korii': 15100, 'primaires': 21603, 'tease': 27462, 'danny': 6979, 'réaction': 24364, 'beatles': 2647, 'instrumentalisé': 14035, 'gouvernemen': 12144, 'bordelais': 3185, 'cure': 6698, 'detox': 7450, 'digitale': 7680, 'cannibale': 3932, 'refoulés': 23224, 'armés': 1622, 'composé': 5475, 'georg': 11913, 'inondation': 13904, 'asse': 1777, 'flic': 11056, 'miami': 17762, 'préféré': 22104, 'amies': 1010, 'pue': 22322, 'fériés': 11644, 'décevante': 8558, 'indienne': 13683, 'dabonnement': 6813, 'mensuels': 17623, 'usual': 28744, 'filière': 10889, 'globalement': 12043, 'dominer': 8123, 'pentecôte': 20481, 'confesseur': 5624, 'nanni': 18744, 'moretti': 18254, 'tre': 28259, 'piani': 20743, 'cruel': 6568, 'trophées': 28358, 'tvlibertés': 28498, 'pers': 20569, 'armement': 1604, 'mènent': 18537, 'acquisition': 271, 'plantes': 20951, 'abordables': 77, 'trouvées': 28394, 'rassemblées': 22919, 'states': 26601, 'aren': 1575, 'incapable': 13566, 'rembourser': 23391, 'emprunt': 9579, 'fromage': 11493, 'giorno': 11989, 'considérés': 5820, 'hebdomadaire': 12799, 'lironie': 16230, 'rabiot': 22680, 'définitive': 8779, 'déclarent': 8602, 'disparaît': 7891, 'divisée': 8003, 'certificats': 4314, 'répand': 24597, 'sociale': 26056, 'cachées': 3754, 'prouvé': 21999, 'bridget': 3447, 'scienceampvie': 25329, 'avantpremière': 2216, 'perpignan': 20553, 'gourou': 12131, 'casasnovas': 4094, 'paraître': 20072, 'festivités': 10808, 'impérialisme': 13538, 'alliés': 857, 'spécialisée': 26517, 'dinceste': 7729, 'crack': 6411, 'lorraine': 16459, 'franchecomté': 11376, 'gil': 11977, 'déçue': 9286, 'eating': 9309, 'given': 12011, 'sell': 25468, 'dog': 8075, 'meat': 17538, 'entourage': 9814, 'djihadiste': 8025, 'steiner': 26632, 'alternatif': 927, 'killing': 15034, 'assange': 1766, 'denied': 7300, 'official': 19503, 'feraient': 10755, 'lelysée': 15704, 'prétendant': 22203, 'hz': 13176, 'ue': 28600, 'verlaine': 29022, 'lodeur': 16352, 'lessence': 15802, 'vérités': 29607, 'rolland': 24136, 'connaissance': 5724, 'terry': 27611, 'maisonblanche': 16967, 'couvrent': 6355, 'schéma': 25322, 'esclavage': 9968, 'today': 27855, 'répliques': 24614, 'désert': 9118, 'mercenaires': 17660, 'lauto': 15551, 'wine': 29804, 'escape': 9965, 'délivre': 8861, 'vin': 29219, 'sorganise': 26230, 'confinés': 5648, 'peutil': 20665, 'land': 15340, 'seen': 25446, 'statt': 26613, 'vend': 28965, 'deffets': 7192, 'métaverse': 18661, 'gênant': 12537, 'indépendance': 13738, 'bygmalion': 3667, 'absence': 99, 'conjugue': 5718, 'impératif': 13532, 'feuilleton': 10813, 'inhumation': 13853, 'humeur': 13108, 'gpa': 12168, 'attorney': 1979, 'claim': 4912, 'gen': 11875, 'milley': 17855, 'committed': 5352, 'championnat': 4401, 'dessert': 7404, 'ministères': 17914, 'défi': 8760, 'prénom': 22124, 'symbolique': 27121, 'obligé': 19383, 'moche': 18026, 'pepsi': 20487, 'produisent': 21743, 'immédiatement': 13440, 'pensé': 20475, 'néonazi': 19348, 'dorée': 8209, 'colisée': 5140, 'personn': 20580, 'pochette': 21073, 'kraft': 15106, 'lobby': 16316, 'laïque': 15617, 'patch': 20307, 'nextgen': 18956, 'forbidden': 11206, 'ps4': 22251, 'sony': 26212, 'seffondrer': 25449, 'succomber': 26823, 'virtuels': 29283, 'irlandais': 14355, 'sélectionner': 27212, 'relaie': 23312, 'marty': 17339, 'prolongement': 21836, 'réacteurs': 24363, 'alignement': 795, 'lunivers': 16614, 'iris': 14352, 'polluant': 21175, 'interrompu': 14156, 'leffondrement': 15679, 'mvp': 18499, 'entraînements': 9830, 'istanbul': 14435, 'addictions': 345, 'proposons': 21921, 'redécouvrir': 23201, 'illustrateur': 13361, 'birthday': 2929, 'platret': 20977, 'surréaliste': 27021, 'nageur': 18712, 'théo': 27741, 'curin': 6703, 'miparcours': 17939, 'violer': 29253, 'valdemarne': 28836, 'nommée': 19084, 'menacée': 17599, 'tags': 27326, 'aldi': 740, 'coupon': 6284, 'électrise': 30291, 'lusine': 16622, 'douai': 8228, 'daugmentation': 7088, 'tarifaire': 27405, 'composants': 5467, 'éléments': 30346, 'dappeler': 7008, 'chirurgiens': 4679, 'campus': 3878, 'woke': 29830, 'émotion': 30377, 'déborah': 8508, 'instauration': 14012, 'lumineuse': 16591, 'rejects': 23293, 'visa': 29292, 'offers': 19495, 'mexican': 17751, 'officials': 19508, 'keeps': 14974, 'toward': 28033, 'contrôler': 6041, 'laeticia': 15207, 'poursuivre': 21434, 'pig': 20775, 'tmc': 27850, 'viré': 29288, 'unanimité': 28637, 'intér': 14226, 'plateau': 20969, 'unie': 28649, 'ga': 11664, 'homophobe': 12965, 'guest': 12373, 'real': 23004, 'nonsens': 19100, 'wargon': 29655, 'daoût': 7006, 'soudan': 26272, 'lie': 16016, 'enfreint': 9678, 'réglementation': 24534, 'formateur': 11235, 'imitant': 13402, 'caricatural': 4031, 'colmar': 5205, 'accompagné': 170, 'confidentielles': 5635, 'hébergées': 13185, 'darpa': 7034, 'freeze': 11451, 'viendra': 29153, 'épouse': 30451, 'ciblée': 4813, 'salade': 24980, 'lentilles': 15756, 'cannelle': 3929, 'financés': 10940, 'carl': 4038, 'jr': 14785, 'completely': 5428, 'bugaled': 3592, 'breizh': 3419, 'socialdémocrate': 26055, 'apporté': 1450, 'psychiatrie': 22268, 'lift': 16031, 'stay': 26621, 'ecommerce': 9324, 'estac': 10040, 'atteindre': 1930, 'objectifs': 19371, 'fixés': 11003, 'chocs': 4690, 'bénéfice': 3691, 'habitant': 12580, 'clamecy': 4922, 'clairs': 4920, 'princes': 21617, 'démonstration': 8932, 'parcoursup': 20081, 'deadpool': 7143, 'ryan': 24346, 'reynolds': 23935, 'stoppe': 26672, 'espéré': 10008, 'cand': 3908, 'prétendument': 22211, 'lempire': 15714, 'mécénat': 18560, 'déminage': 8905, 'appliquée': 1441, 'mondialement': 18121, 'fallait': 10562, 'manquer': 17148, 'bénéficier': 3699, 'abo': 58, 'spiderman': 26454, 'trailer': 28105, 'nanoparticules': 18745, 'ufcque': 28603, 'fabricants': 10467, 'investissements': 14282, 'réorganisation': 24593, 'adaptations': 332, 'visions': 29315, 'estival': 10060, 'imminente': 13423, 'burger': 3625, 'king': 15045, 'guignols': 12395, 'ignorent': 13318, 'péri': 22474, 'keynes': 15000, 'confirment': 5654, 'inflammation': 13794, 'liam': 15949, 'doit': 8088, 'ficelles': 10831, 'républ': 24633, 'clément': 5051, 'lenglet': 15734, 'titulaire': 27844, 'benfica': 2741, 'garcia': 11766, 'oise': 19539, 'danoise': 6983, 'josephine': 14720, 'ég': 30242, 'ajaccio': 690, 'tattoos': 27428, 'limpasse': 16099, 'salarié': 24993, 'morsure': 18265, 'située': 25958, 'botte': 3214, 'charme': 4511, 'coincée': 5126, 'sentez': 25541, 'âme': 30062, 'léquipementier': 16799, 'allemand': 835, 'requis': 23682, 'soupçonné': 26331, 'dagressions': 6865, 'soutiens': 26383, 'minier': 17896, 'lithium': 16259, 'maurras': 17468, 'vendeuses': 28973, 'dénoncée': 8963, 'surconsommation': 26979, 'dentreprises': 7329, 'sengagent': 25515, 'cognac': 5107, 'werden': 29739, 'cotton': 6235, 'became': 2676, 'partisan': 20221, 'criticism': 6493, 'précédents': 22080, 'tipeee': 27806, 'racaille': 22682, 'poubelle': 21375, 'reflet': 23214, 'giovanni': 11990, 'bandits': 2458, 'chemins': 4582, 'retard': 23804, 'mâle': 18532, 'replonge': 23595, 'jamie': 14524, 'serrés': 25614, 'prolonge': 21835, 'var': 28903, 'payer': 20377, 'loyers': 16538, 'excompagnon': 10212, 'poignardée': 21091, 'sarko': 25148, 'manquait': 17143, 'amin': 1011, 'barakallahu': 2494, 'fikum': 10877, 'liées': 16302, 'ordonne': 19703, 'réparer': 24605, 'compenser': 5419, 'lambiance': 15300, 'verra': 29030, 'merdias': 17671, 'rachel': 22691, 'joey': 14672, 'phoebe': 20711, 'gunther': 12421, 'conquis': 5757, 'attends': 1951, 'boulettes': 3262, 'vendanges': 28966, 'débuter': 8529, 'nièvre': 19030, 'erasmus': 9933, 'parlez': 20149, 'grillé': 12288, 'natio': 18794, 'taxation': 27436, 'multinationales': 18410, 'athome': 1885, 'exercises': 10239, 'improving': 13522, 'core': 6154, 'strength': 26717, 'graeber': 12178, 'projectiles': 21818, 'confiture': 5661, 'angleterre': 1148, 'traîne': 28254, 'steam': 26626, 'nft': 18961, 'accompagnée': 171, 'ciblé': 4812, 'abat': 23, 'supermarché': 26925, 'lhuile': 15924, 'crêpes': 6631, 'ut': 28749, 'programmes': 21794, 'anodin': 1236, 'pui': 22324, 'pourquo': 21403, 'annuelle': 1221, 'chouette': 4727, 'pertinence': 20608, 'longuement': 16417, 'imbéciles': 13400, 'damiens': 6926, 'pensezvous': 20469, 'ira': 14338, 'kids': 15022, 'candy': 3920, 'illimitée': 13350, 'blocages': 3022, 'foyer': 11331, 'dattention': 7078, 'thursdays': 27732, 'cocotte': 5091, 'exploser': 10340, 'illusoire': 13359, 'réflexes': 24492, 'empêcher': 9586, 'bank': 2462, 'permettant': 20542, 'bloquer': 3045, 'neurones': 18921, 'sexprime': 25680, 'rudy': 24283, 'patron': 20341, 'cagnessurmer': 3773, 'joindre': 14689, 'identifier': 13273, 'langue': 15355, 'imams': 13396, 'échappe': 30095, 'refus': 23233, 'dames': 6924, 'fighter': 10864, 'oni': 19600, 'vivons': 29378, 'létape': 16805, 'bacri': 2349, 'docu': 8054, 'antibiotiques': 1262, 'guette': 12377, 'exhorte': 10248, 'tirer': 27818, 'iranienne': 14346, 'bug': 3591, 'énième': 30399, 'déferle': 8758, 'suffisamment': 26862, 'signalé': 25813, 'monitor': 18135, 'recrutements': 23139, 'tintin': 27803, 'mlp': 18001, 'axel': 2287, 'exconseiller': 10214, 'étaient': 30511, 'récoltés': 24442, 'julliard': 14836, 'entretiens': 9855, 'active': 293, 'sevice': 25663, 'omis': 19583, 'fig': 10860, 'industries': 13728, 'saintdié': 24916, 'civilisations': 4903, 'dirigé': 7831, 'montdemarsan': 18176, 'esther': 10047, 'auschwitz': 2092, 'deva': 7468, 'election': 9430, 'échoue': 30111, 'sudcoréenne': 26843, 'torride': 27934, 'magali': 16886, 'éléphant': 30347, 'xiv': 29898, 'défendu': 8749, 'tandem': 27373, 'mimran': 17878, 'lambassadeur': 15296, 'wervicqsud': 29742, 'highlights': 12863, 'store': 26677, 'rural': 24319, 'alaska': 716, 'shocking': 25745, 'mossad': 18293, 'section': 25435, 'mathis': 17422, 'collégien': 5201, 'nay': 18850, 'habitué': 12597, 'célébrités': 6779, 'forum': 11266, 'concrètes': 5576, 'jameswebb': 14522, 'catherine': 4151, 'deneuve': 7292, 'magimel': 16900, 'qualifications': 22541, 'finlande': 10964, 'entretenir': 9849, 'lislamisme': 16241, 'approuve': 1478, 'reconditionné': 23092, 'maradona': 17185, 'fratrie': 11426, 'félicitation': 11622, 'pourrions': 21421, 'fédéral': 11613, 'responsabilités': 23728, 'soft': 26091, 'dopo': 8175, 'ecco': 9316, 'prospérité': 21945, 'noyau': 19233, 'cdu': 4212, 'lultime': 16588, 'zombies': 30033, 'deffet': 7191, 'thermique': 27679, 'danimaux': 6970, 'fumeurs': 11558, 'sexe': 25670, 'inscrire': 13937, 'décédée': 8710, 'pme': 21065, 'lhydrogène': 15930, 'novlangue': 19229, 'traduction': 28081, 'gourmande': 12126, 'danimations': 6969, 'clé': 5049, 'autorisée': 2157, 'conservateur': 5790, 'détrôner': 9240, 'criminalité': 6474, 'doser': 8213, 'défigurée': 8768, 'lecho': 15651, 'chefdœuvre': 4568, 'léonard': 16781, 'peint': 20423, 'nantaise': 18748, 'systèmes': 27162, 'localisation': 16333, 'orobel': 19774, 'recyclage': 23162, 'recycler': 23164, 'limposture': 16107, 'accusent': 227, 'illégaux': 13376, 'cookies': 6091, 'sinvitent': 25935, 'lapéro': 15420, 'honestly': 12974, 'seems': 25445, 'sweet': 27103, 'setup': 25649, 'accusés': 233, 'dinformer': 7743, 'informé': 13826, 'birmanie': 2927, 'glissement': 12037, 'rtbf': 24266, 'diocèse': 7781, 'généralistes': 12497, 'évite': 30634, 'droitisation': 8354, 'melenchon': 17575, 'perturber': 20616, 'jura': 14855, 'scout': 25361, 'leather': 15638, 'dress': 8319, 'draps': 8306, 'mobilier': 18012, 'brisé': 3479, 'atteste': 1969, 'galactic': 11704, 'danne': 6973, 'oubliés': 19825, 'pyrénées': 22405, 'fda': 10709, 'pages': 19931, 'connait': 5730, 'dhomme': 7566, 'majoritaires': 16981, 'philippines': 20698, 'dictateur': 7621, 'rodrigo': 24113, 'duterte': 8454, 'cargo': 4029, 'festive': 10807, 'supply': 26934, 'chain': 4358, 'tricherie': 28298, 'nattend': 18810, 'venise': 28989, 'gâtinais': 12461, 'embellie': 9494, 'décoration': 8652, 'courtoisie': 6330, 'créneau': 6620, 'matinal': 17429, 'manettes': 17085, 'touchées': 27973, 'drift': 8331, 'réabonnement': 24360, 'chez': 4621, 'something': 26171, 'costs': 6224, 'pumpkin': 22356, 'spice': 26453, 'tea': 27454, 'automnale': 2137, 'organisme': 19733, 'exceptionnelles': 10190, 'endiguer': 9632, 'fléau': 11109, 'g20': 11662, 'précédente': 22078, 'trava': 28223, 'lamitié': 15311, 'francoallemande': 11392, 'traité': 28120, 'lun': 16596, 'millénaires': 17871, 'renaît': 23468, 'cendres': 4246, 'vitre': 29354, 'dissolution': 7943, 'poussière': 21446, 'exilés': 10263, 'cuba': 6641, 'dinfos': 7744, 'victi': 29112, 'antony': 1341, 'blinken': 3015, 'poème': 21472, 'rimbaud': 23997, 'notr': 19179, 'william': 29791, 'hésite': 13215, 'touristique': 28001, 'lallocution': 15286, 'outrage': 19849, 'against': 531, 'molins': 18087, 'préparés': 22149, 'tueries': 28448, 'scandaleux': 25287, 'nd': 18867, 'insurrection': 14051, 'lenvoi': 15768, 'taiwan': 27344, 'must': 18476, 'defend': 7187, 'together': 27858, 'ivan': 14455, 'mafia': 16882, 'puissants': 22337, 'jérémie': 14905, 'minuscules': 17932, 'raciale': 22700, 'cite': 4877, 'trolls': 28340, 'déplore': 9024, 'ciotat': 4846, 'galette': 11713, 'flagrant': 11010, 'lacrymogène': 15178, 'streetpress': 26715, 'attachée': 1910, 'vignoble': 29186, 'asie': 1743, 'affluence': 493, 'réduite': 24481, 'papel': 20020, 'dérivée': 9083, 'financé': 10937, 'annonçait': 1214, 'combattants': 5268, 'réagissent': 24374, 'absolute': 107, 'iron': 14360, 'shield': 25734, 'gives': 12012, 'insight': 13957, 'weil': 29722, 'caméras': 3882, 'original': 19756, 'actrice': 312, 'prédateur': 22082, 'saluent': 25031, 'clarification': 4939, 'serrer': 25611, 'hologramme': 12943, 'denvoyer': 7338, 'favorables': 10685, 'allongement': 861, 'clermontferrand': 4985, 'venezuela': 28983, 'nulle': 19274, 'exprimer': 10378, 'arènes': 1726, 'collecte': 5163, 'particuliers': 20210, 'présentée': 22170, 'homm': 12954, 'frappe': 11418, 'métropolitaine': 18678, 'charcot': 4471, 'speaks': 26431, 'lassurance': 15489, 'durcissement': 8432, 'tués': 28494, 'labandon': 15136, 'citoyenne': 4884, 'restons': 23784, 'connectés': 5745, 'protégés': 21988, 'odyssée': 19479, 'vivian': 29375, 'praud': 21508, 'autrui': 2180, 'lavait': 15565, 'offshore': 19525, 'saintbrieuc': 24912, 'mortifère': 18279, 'heur': 12842, 'violents': 29251, 'lagression': 15233, 'subie': 26784, 'sélectionne': 27211, 'réussie': 24737, 'colis': 5139, 'ruquier': 24318, 'shortages': 25759, 'lhabitude': 15904, 'sketchs': 25968, 'surprises': 27018, 'détente': 9191, 'net': 18902, 'com': 5257, 'souhaitent': 26293, 'retr': 23842, 'dixsept': 8015, 'click': 4992, 'théorème': 27746, 'vivreensemble': 29381, 'haenel': 12612, 'rêvé': 24812, 'désordre': 9154, 'lopinion': 16432, 'dj': 8020, 'mehdi': 17563, 'interdictions': 14090, 'lamérique': 15320, 'parlons': 20153, 'roche': 24092, 'faceàface': 10485, 'fatal': 10643, 'astéroïdes': 1872, 'ven': 28960, 'ouvrière': 19879, 'shabiller': 25702, 'coréenne': 6207, 'homologue': 12962, 'fraud': 11428, 'destroyed': 7433, 'cortège': 6203, 'divisé': 8002, 'automne': 2138, 'aérien': 2309, 'hist': 12890, 'problems': 21689, 'found': 11296, 'hospitalized': 13040, 'shows': 25770, 'highly': 12864, 'revenue': 23901, 'tax': 27435, 'refund': 23232, 'pensiez': 20470, 'carnets': 4049, 'madres': 16876, 'paralelas': 20054, 'mystery': 18510, 'blood': 3039, 'origins': 19763, 'pep': 20485, 'guardiola': 12357, 'stopper': 26674, 'lionel': 16218, 'relâché': 23372, 'nicaragua': 18968, 'boîtes': 3353, 'absolutely': 108, 'chloroquine': 4682, 'remèdes': 23457, 'miracles': 17942, 'rodéos': 24117, 'urbains': 28704, 'mortellement': 18272, 'réflexion': 24493, 'reste': 23772, 'porno': 21248, 'trahir': 28099, 'arnaques': 1625, 'fréquentes': 11526, 'déjouer': 8826, 'sherlock': 25732, 'renoncement': 23525, 'réviser': 24756, 'extension': 10410, 'banquiers': 2483, 'discovery': 7857, 'linfluence': 16147, 'dunkerque': 8406, 'attractive': 1985, 'liège': 16299, 'déplorer': 9026, 'nathalie': 18791, 'randonnée': 22832, 'bataclan': 2584, 'graham': 12181, 'war': 29651, 'remembering': 23396, 'broadway': 3493, 'stephen': 26637, 'sondheim': 26192, 'tribute': 28294, 'royaumeunicoronavirus': 24255, 'pompidou': 21207, 'georgia': 11917, 'moderne': 18039, 'ceo': 4290, 'gérer': 12532, 'unit': 28665, 'wenn': 29736, 'die': 7638, 'wieder': 29775, 'remplace': 23431, 'axe': 2286, 'engagent': 9685, 'bockcôté': 3084, 'maghreb': 16894, 'assiste': 1799, 'mylène': 18504, 'farmer': 10620, 'rémission': 24581, 'déthique': 9212, 'contra': 5977, 'réside': 24672, 'rôles': 24815, 'ouvertement': 19863, 'absolu': 105, 'dessine': 7411, 'destin': 7422, 'forfait': 11228, 'society': 26067, 'speak': 26428, 'défendons': 8745, 'piratage': 20835, 'espérance': 10004, 'younes': 29968, 'lieutenant': 16025, 'h35': 12560, 'trappes': 28209, 'capitalisme': 3963, 'lalcool': 15276, 'bruit': 3528, 'cergy': 4299, 'monday': 18114, 'bra': 3357, 'shop': 25753, 'croissantes': 6525, 'encourager': 9619, 'adolescents': 403, 'antarctique': 1250, 'variations': 28910, 'température': 27514, 'dannoncer': 6977, 'villette': 29216, 'accros': 201, 'flammes': 11028, 'relate': 23320, 'charb': 4469, 'sportif': 26484, 'davis': 7126, 'démarre': 8891, 'chameroy': 4393, 'répon': 24616, 'egalité': 9402, 'femmeshommes': 10746, 'crues': 6573, 'prévoir': 22228, 'rat': 22930, 'douche': 8247, 'mignonne': 17802, 'charlène': 4509, 'îledefrance': 30668, 'severe': 25661, 'disruption': 7932, 'expected': 10292, 'follow': 11135, 'chalon': 4377, 'chevignysaintsauveur': 4617, 'linspiration': 16172, 'itinéraires': 14448, 'interruption': 14159, 'pittsburgh': 20863, 'synagogues': 27138, 'toro': 27927, 'synthèse': 27151, 'remettre': 23406, 'lendroit': 15728, 'oblige': 19380, 'publions': 22307, 'ménagers': 18631, 'fume': 11555, 'brûle': 3565, 'porteavions': 21265, 'ubisoft': 28593, 'viseur': 29302, 'singapour': 25904, 'bones': 3145, 'valdoise': 28837, 'dupondmoretti': 8415, 'fasciné': 10630, 'téléréalité': 28552, 'adore': 416, 'accusées': 232, 'fait': 10543, 'bijoux': 2871, 'chanter': 4441, 'montélimar': 18214, 'violé': 29259, 'brille': 3462, 'coca': 5080, 'cola': 5131, 'exemployé': 10231, 'horrifié': 13018, 'dutilisateurs': 8455, 'linux': 16203, 'décrue': 8695, 'lente': 15752, 'intimidation': 14180, 'courthouse': 6327, 'arbery': 1530, 'endométriose': 9641, 'diagnostiquer': 7600, 'profitent': 21770, 'rideau': 23973, 'temoignez': 27502, 'formulaire': 11247, 'déconfine': 8638, 'producteurs': 21733, 'syndicat': 27145, 'rouler': 24210, 'throughout': 27725, 'tunis': 28461, 'lhymne': 15933, 'féministes': 11640, 'gbagbo': 11859, 'ivoirien': 14461, 'gaza': 11846, 'juteux': 14894, 'légypte': 16751, 'proposé': 21922, 'recourir': 23128, 'limmeuble': 16090, 'institutionnels': 14025, 'revivez': 23921, 'gaga': 11683, 'exclusifs': 10203, 'administration': 379, 'immune': 13433, 'geoguessr': 11912, 'géographie': 12518, 'humoristes': 13120, 'correct': 6171, 'coluche': 5251, 'jam': 14512, 'sedan': 25439, 'several': 25660, 'sends': 25510, 'sparks': 26419, 'flying': 11106, 'midnight': 17791, 'cisjordanie': 4869, 'dénergies': 8950, 'fossiles': 11274, 'doré': 8208, 'coachs': 5073, 'cesse': 4324, 'soutenez': 26365, 'person': 20576, 'pleut': 21013, 'placards': 20890, 'sentir': 25552, 'susceptibles': 27058, 'noix': 19061, 'terroir': 27601, 'lunar': 16600, 'friendship': 11479, 'occupé': 19453, 'substances': 26803, 'toxiques': 28043, 'pastille': 20302, 'conspis': 5847, 'licornes': 16009, 'darkest': 7027, 'dungeon': 8404, 'saurait': 25207, 'remplacer': 23434, 'samuser': 25065, 'manifester': 17116, 'réaliser': 24388, 'rev': 23877, 'suscité': 27062, 'collaborateur': 5144, 'virgil': 29270, 'finaliste': 10920, 'émis': 30371, 'premiere': 21521, 'explosive': 10345, 'stratégies': 26700, 'blacks': 2968, 'aim': 647, 'festivals': 10806, 'hymne': 13155, 'polonais': 21191, 'élargir': 30273, 'délus': 8871, 'setram': 25645, 'autoritarisme': 2162, 'réalisations': 24383, 'trudeau': 28402, 'excuses': 10218, 'homosexuelle': 12971, 'précoce': 22069, 'lancera': 15329, 'hochul': 12924, 'holds': 12928, 'solid': 26135, 'letitia': 15814, 'poll': 21171, 'vandalisée': 28886, 'chargeur': 4485, 'dam': 6914, 'livret': 16291, 'entrevue': 9857, 'mondialistes': 18126, 'préparent': 22142, 'cerise': 4300, 'designer': 7389, 'mexicain': 17748, 'volkswagen': 29440, 'commandements': 5304, 'spartacus': 26421, 'glorieuses': 12048, 'bo': 3071, 'triathlon': 28286, 'relais': 23314, 'mixte': 17995, 'sorry': 26236, 'tubes': 28439, 'pros': 21939, 'alliée': 855, 'déducation': 8724, 'préférez': 22102, 'rhume': 23952, 'expérimental': 10395, 'mélissa': 18620, 'theuriau': 27683, 'biscuit': 2932, 'francobritannique': 11394, 'poing': 21098, 'mélanie': 18617, 'couvent': 6347, 'macronistes': 16864, 'chloé': 4683, 'tibet': 27759, 'lintention': 16182, 'chasses': 4521, 'thermomètre': 27681, 'afficher': 477, 'germania': 11922, 'bild': 2881, 'continuez': 5969, 'mascarade': 17361, 'bryan': 3553, 'magic': 16897, 'tears': 27461, 'lar': 15422, 'attendant': 1943, 'étienne': 30546, 'mougeotte': 18329, 'conservatisme': 5793, 'brièvement': 3491, 'announces': 1218, 'nato': 18809, 'délire': 8854, 'importants': 13481, 'clermont': 4984, 'induit': 13721, 'indésirables': 13747, 'chollet': 4703, 'seule': 25654, 'capteur': 3977, 'musulman': 18479, 'thing': 27694, 'golf': 12077, 'oman': 19574, 'vegan': 28948, 'lampleur': 15315, 'lgbtqi': 15900, 'pleuvent': 21014, 'lingots': 16154, 'saisis': 24963, 'décarboner': 8546, 'stocker': 26662, 'writer': 29873, 'pulvérisé': 22353, 'célébrant': 6774, 'revers': 23903, 'congo': 5698, 'clan': 4924, 'kabila': 14916, 'photographes': 20718, 'peintres': 20425, 'cett': 4335, 'area': 1573, 'round': 24217, 'achever': 255, 'comorbidités': 5387, 'manifestante': 17108, 'portait': 21261, 'pancarte': 19981, 'lattente': 15516, 'marquées': 17304, 'lopposition': 16435, 'dolce': 8097, 'emparent': 9540, 'imprimé': 13517, 'grace': 12175, 'lartiste': 15469, 'animation': 1170, 'réalisée': 24395, 'travaille': 28228, 'lacte': 15182, 'xiii': 29895, 'concarneau': 5532, 'obiwan': 19368, 'kenobi': 14989, 'ewan': 10159, 'mcgregor': 17521, 'cave': 4191, 'graines': 12184, 'remettent': 23405, 'oppose': 19637, 'clin': 5007, 'portées': 21298, 'explosent': 10339, 'stérilisation': 26777, 'jouristes': 14748, 'commentateurs': 5325, 'afroaméricain': 522, 'magique': 16901, 'tommy': 27896, 'consommateur': 5830, 'samuse': 25064, 'pentagone': 20479, 'rival': 24041, 'intern': 14112, 'lemaire': 15705, 'philosophie': 20705, 'islamistes': 14394, 'armer': 1606, 'municipaux': 18431, 'victor': 29120, 'united': 28667, 'désespérément': 9127, 'gibson': 11961, 'chantal': 4437, 'montellier': 18179, 'coiffeuse': 5120, 'boissons': 3103, 'calories': 3825, 'déteste': 9208, 'marchande': 17202, 'quota': 22650, 'daffaire': 6850, 'agite': 565, 'serment': 25603, 'fidélité': 10849, 'délivrer': 8863, 'ag': 527, 'gradé': 12177, 'aff': 456, 'clôturé': 5058, 'établir': 30503, 'pts': 22289, 'envahi': 9867, 'actes': 281, 'caen': 3766, 'présentées': 22171, 'dissout': 7946, 'rebellion': 23016, 'astucieux': 1869, 'mammouth': 17063, 'millière': 17869, 'procureur': 21713, 'minorité': 17926, 'exprime': 10376, 'craig': 6413, 'mêler': 18690, 'masculinité': 17365, 'toxique': 28042, 'moquer': 18228, 'peterson': 20641, 'gymnastique': 12451, 'assez': 1784, 'coopération': 6098, 'arrestations': 1647, 'corriger': 6185, 'infernale': 13775, 'décéder': 8708, 'inspirer': 13980, 'sanctionnée': 25076, 'cnil': 5064, 'dagents': 6861, 'combslaville': 5279, 'bousculée': 3315, 'lélève': 16768, 'intéresse': 14231, 'viande': 29095, 'gibier': 11959, 'requêtes': 23686, 'cabanes': 3732, 'dépaysement': 8993, 'hébergements': 13181, 'cher': 4592, 'daction': 6835, 'bangkok': 2460, 'trous': 28377, 'athènes': 1886, 'rompre': 24157, 'influence': 13802, 'déployée': 9029, 'reposant': 23613, 'généralisé': 12498, 'diplomates': 7792, 'austérité': 2107, 'indemnisation': 13662, 'intensifs': 14075, 'margaret': 17220, 'choisie': 4694, 'réunir': 24730, 'interviewer': 14173, 'responsables': 23730, 'names': 18737, 'lhorizon': 15920, 'restait': 23762, 'étrangle': 30576, 'fromages': 11496, 'chèvre': 4791, 'hardy': 12707, 'castration': 4134, 'douloureuse': 8253, 'méritocratie': 18647, 'villageois': 29202, 'révoltent': 24764, 'bagdad': 2368, 'rapatriement': 22854, 'licenciée': 16005, 'jude': 14794, 'senior': 25517, 'dense': 7313, 'lagenda': 15227, 'mayer': 17490, 'rounds': 24218, 'mariées': 17268, 'jamal': 14516, 'livermectine': 16277, 'libe': 15955, 'mue': 18393, 'lextrême': 15885, 'pilote': 20795, 'gravement': 12240, 'autrice': 2174, 'lantiracisme': 15381, 'accrochage': 195, 'connaitre': 5731, 'fondement': 11169, 'similitudes': 25866, 'mémoires': 18624, 'sociologues': 26072, 'touchante': 27962, 'ravir': 22965, 'avant': 2209, 'comporter': 5464, 'écrasant': 30188, 'copropriété': 6122, 'financées': 10939, 'boxing': 3341, 'pete': 20638, 'taylor': 27444, 'gogh': 12069, 'peindre': 20419, 'toiles': 27862, 'mitemps': 17985, 'lang': 15347, 'dsk': 8373, 'lécriture': 16706, 'ridley': 23980, 'horaires': 13004, 'pri': 21594, 'extremists': 10432, 'muslim': 18473, 'tailleur': 27337, 'h20': 12554, 'dégaine': 8794, 'nausée': 18829, 'contraignant': 5990, 'lagent': 15228, 'iceberg': 13251, 'lantarctique': 15374, 'réchauffe': 24423, 'régénère': 24552, 'kalachnikov': 14926, 'cri': 6460, 'akbar': 701, 'évidence': 30627, 'largentine': 15442, 'cosne': 6219, 'bonaparte': 3134, 'effectif': 9367, 'renouvelé': 23537, 'sensible': 25530, 'ingénieur': 13844, 'gustave': 12424, 'ei': 9410, 'amener': 993, 'tournages': 28006, 'chasseurs': 4523, 'willy': 29795, 'schraen': 25316, 'january': 14532, 'imprimer': 13515, 'exemplaire': 10227, 'vitale': 29342, 'franchise': 11381, 'fantastiques': 10605, 'reportedly': 23602, 'marée': 17357, 'avorter': 2268, 'daudrey': 7085, 'diwan': 8010, 'casquette': 4108, 'cliente': 4995, 'hosts': 13048, 'hugh': 13079, 'emmener': 9526, 'sœur': 27288, 'avaler': 2198, 'souverainiste': 26393, 'consommateurs': 5831, 'profondément': 21785, 'modifié': 18056, 'mckinsey': 17523, 'béton': 3712, 'contagion': 5913, 'réacteur': 24362, 'liberticides': 15960, 'légalité': 16724, 'yoda': 29957, 'bcp': 2635, 'créatifs': 6600, 'scénarios': 25379, 'mandalorian': 17074, 'lenlèvement': 15737, 'savon': 25258, 'marins': 17255, 'médiapart': 18575, 'coûter': 6388, 'éruption': 30497, 'volcanique': 29430, 'roches': 24099, 'flanc': 11030, 'lévaluation': 16819, 'conduisent': 5613, 'moins': 18079, 'leslie': 15790, 'saintgobain': 24927, 'edmond': 9351, 'dicton': 7626, 'weve': 29747, 'words': 29849, 'boots': 3179, 'ruling': 24303, 'exploitent': 10326, 'donnant': 8146, 'ric': 23959, 'lélu': 16765, 'lintervention': 16191, 'éditorialistes': 30232, 'marcelo': 17196, 'bielsa': 2847, 'comparaison': 5398, 'chorégraphie': 4720, 'animer': 1176, 'sousmarine': 26354, 'blames': 2976, 'tomorrows': 27898, 'jérusalem': 14903, 'propalestiniens': 21896, 'collaborent': 5152, 'discrètement': 7865, 'sionistes': 25939, 'applique': 1437, 'grille': 12285, 'racialiste': 22702, 'bernardhenri': 2777, 'lévy': 16824, 'irrite': 14369, 'bhl': 2819, 'examine': 10168, 'tribu': 28287, 'streams': 26711, 'mexicains': 17750, 'vontils': 29468, 'euxmêmes': 10131, 'dentrer': 7330, 'lapin': 15397, 'boulogne': 3275, 'tuto': 28486, 'chargés': 4490, 'esthétiques': 10049, 'génériques': 12510, 'superhéros': 26922, 'mohammad': 18071, 'animations': 1171, 'lautrice': 15561, 'lessai': 15800, 'addresses': 350, 'submarine': 26795, 'gosses': 12111, 'contes': 5942, 'possède': 21325, 'give': 12009, 'yourself': 29975, 'grow': 12330, 'ghetto': 11944, 'éditeurs': 30223, 'vider': 29132, 'gastronomique': 11813, 'courgettes': 6310, 'carottes': 4056, 'fière': 11004, 'predictions': 21513, 'games': 11737, 'voilée': 29408, 'correction': 6174, 'galatasaray': 11706, 'olympiens': 19570, 'timbre': 27788, 'réformer': 24501, 'stanley': 26579, 'présiden': 22182, 'végétation': 29581, 'tightens': 27775, 'yacht': 29918, 'mystérieuses': 18516, 'fontainebleau': 11182, 'musulmanes': 18481, 'villeurbanne': 29217, 'economic': 9327, 'remporté': 23454, 'lélite': 16763, 'suffire': 26860, 'annuler': 1227, 'leboncoin': 15646, 'charentaises': 4475, 'volent': 29434, 'dubaï': 8376, 'nabilla': 18702, 'brasseur': 3398, 'trompe': 28341, 'énormément': 30402, 'foncez': 11140, 'faitsampdocuments': 10553, 'médine': 18593, 'shares': 25715, 'forge': 11230, 'mène': 18536, 'polluantes': 21177, 'produi': 21740, 'legal': 15685, 'ministers': 17908, 'urged': 28708, 'cuts': 6716, 'row': 24245, 'dangleterre': 6960, 'barré': 2537, 'glaçante': 12033, 'rue89': 24285, 'seraitil': 25574, 'mardis': 17218, 'vendredis': 28975, 'kilo': 15036, 'bulgare': 3601, 'rachetant': 22692, 'justifie': 14888, 'incendiaire': 13579, 'rémi': 24579, 'auteuil': 2112, 'pattes': 20349, 'cofondateur': 5104, 'recel': 23040, 'dabus': 6818, 'côtes': 6799, 'cassées': 4122, 'cavendish': 4192, 'venons': 28991, 'datteindre': 7073, 'followers': 11136, 'chaine': 4359, 'permettra': 20545, 'rel': 23311, 'condamnations': 5588, 'jonathann': 14705, 'eruption': 9954, 'answer': 1247, 'shock': 25744, 'creux': 6453, 'bradley': 3366, 'cooper': 6096, 'costume': 6225, 'trends': 28274, 'youll': 29966, 'everywhere': 10150, 'violet': 29254, 'aimez': 660, 'meurtres': 17739, 'chauffer': 4543, 'moindre': 18076, 'light': 16036, 'spring': 26501, 'katy': 14960, 'résurrection': 24709, 'nouvellecalédonie': 19214, 'lecornu': 15660, 'bâtir': 3673, 'ravages': 22956, 'constamment': 5849, 'amusante': 1045, 'installation': 13989, 'statue': 26615, 'secouristes': 25409, 'betterave': 2802, 'sucrée': 26834, 'réalisatrices': 24385, 'mathilde': 17421, 'tronche': 28353, 'does': 8069, 'quite': 22636, 'dommages': 8130, 'blocage': 3021, 'lâché': 16677, 'rétropédale': 24720, 'parallèles': 20056, 'stupides': 26753, 'résolution': 24695, 'affirmant': 484, 'stan': 26570, 'effectue': 9372, 'mask': 17368, 'mega': 17559, 'campo': 3876, 'beyond': 2811, 'collégienne': 5202, 'déboutés': 8519, 'décroissance': 8694, 'redresser': 23198, 'pleuré': 21012, 'nestce': 18899, 'binôme': 2901, 'démasquer': 8895, 'chanteurs': 4443, 'bird': 2922, 'chefd': 4567, 'pascale': 20245, 'cohérent': 5115, 'agissez': 562, 'appelez': 1418, 'inrockuptibles': 13929, 'interviews': 14174, 'dois': 8084, 'piscines': 20848, 'expansion': 10288, 'bassin': 2568, 'vpn': 29538, 'limitée': 16086, 'failed': 10523, 'try': 28418, 'endroit': 9644, 'déni': 8951, 'fréquences': 11523, 'réapparaît': 24404, 'daides': 6871, 'existants': 10267, 'magistral': 16903, 'gueules': 12380, 'réécouter': 24793, 'malika': 17032, 'little': 16264, 'brand': 3377, 'méthane': 18662, 'contresens': 6015, 'conduire': 5610, 'ju': 14789, 'crimée': 6479, 'famine': 10592, 'madagascar': 16866, 'master': 17397, 'settlement': 25648, 'agreement': 580, 'crimea': 6470, 'lécran': 16705, 'affleck': 491, 'cuisiniers': 6656, 'lavis': 15587, 'culinaires': 6665, 'coupures': 6287, 'délectricité': 8836, 'factures': 10513, 'transat': 28148, 'vabre': 28779, 'globe': 12044, 'dénergie': 8949, 'rangement': 22836, 'demploi': 7284, 'basrhin': 2565, 'frankenstein': 11401, 'prem': 21517, 'fabriquer': 10472, 'réunie': 24724, 'entr': 9820, 'pédopornographie': 22446, 'adjoint': 367, 'sinquiète': 25917, 'catalane': 4140, 'réalise': 24386, 'atterrissage': 1965, 'douceur': 8246, 'lapins': 15398, 'maintenu': 16951, 'forts': 11263, 'lannee': 15364, 'privilégier': 21664, 'sonia': 26197, 'mabrouk': 16837, 'encourage': 9615, 'occupy': 19452, 'échéance': 30116, 'classé': 4962, 'gate': 11814, 'grandement': 12197, 'améliorée': 1059, 'lauteure': 15549, 'documenté': 8064, 'cordialement': 6149, 'conformisme': 5677, 'dialogue': 7603, 'québec': 22663, 'plante': 20949, 'zombie': 30032, 'nordiques': 19119, 'opposer': 19639, 'craché': 6410, 'dirai': 7804, 'phrases': 20731, 'copine': 6118, 'tanguy': 27376, 'promenade': 21842, 'inauguration': 13558, 'dautonomie': 7103, 'secoué': 25414, 'reve': 23882, 'restes': 23776, 'missouri': 17974, 'dessiner': 7413, 'officiel': 19509, 'soffrent': 26087, 'lépreuve': 16795, 'dimmunité': 7718, 'propulsé': 21937, 'über': 30673, 'impérial': 13536, 'franck': 11389, 'riester': 23983, 'accoyer': 193, 'rappelant': 22871, 'volailles': 29423, 'bresse': 3424, 'gastronomie': 11812, 'ain': 665, 'abrite': 95, 'provoquer': 22025, 'surexposition': 26987, 'banalisation': 2440, 'agi': 555, 'parkings': 20131, 'nettoie': 18911, 'm2': 16833, 'bureaux': 3624, 'confient': 5637, 'ignorer': 13319, 'cinématographique': 4842, 'prolifération': 21832, 'injustement': 13881, 'critiqué': 6500, 'cloud': 5036, 'guantanamo': 12353, 'détaille': 9169, 'tortures': 27941, 'avo': 2255, 'volées': 29460, 'testament': 27621, 'lemercier': 15710, 'familiale': 10583, 'dalsace': 6907, 'purple': 22376, 'rajeunir': 22786, 'cricket': 6463, 'irrégulière': 14374, 'testicules': 27627, 'taser': 27417, 'access': 150, 'account': 191, 'intempéries': 14067, 'plafond': 20901, 'dintervention': 7772, 'assureurs': 1839, 'talentueux': 27357, 'humble': 13107, 'antivaccins': 1329, 'traités': 28123, 'bourgmestre': 3296, 'dairbus': 6878, 'sit': 25948, 'search': 25388, 'friend': 11476, 'need': 18873, 'further': 11582, 'sturgeon': 26760, 'dédicacé': 8715, 'flashback': 11033, 'ump': 28632, 'comptait': 5497, 'succédé': 26829, 'warning': 29659, 'étiquettes': 30554, 'etf': 10081, 'crèmes': 6592, 'solaires': 26123, 'oxyde': 19903, 'youngkin': 29971, 'devance': 7473, 'mcauliffe': 17511, 'yale': 29924, 'confesse': 5623, 'giveaway': 12010, 'atteinte': 1932, 'alzheimer': 938, 'gentil': 11900, 'tf1m6': 27647, 'survivants': 27043, 'asselineau': 1778, 'averses': 2231, 'récompense': 24443, 'individuelle': 13709, 'frança': 11406, 'diffusée': 7669, 'électoral': 30282, 'vagin': 28817, 'thaïlande': 27663, 'rouvre': 24235, 'side': 25787, 'fleuve': 11053, 'tesson': 27619, 'gifle': 11966, 'mortelle': 18271, 'mondes': 18117, 'finances': 10930, 'ena': 9592, 'attaché': 1909, 'latmosphère': 15509, 'jupiter': 14853, 'élysée': 30336, 'assisté': 1805, 'marquantes': 17291, 'oscar': 19789, 'smith': 26016, 'williams': 29792, 'constituant': 5863, 'exposé': 10368, 'théorique': 27745, 'existetil': 10274, 'reproche': 23636, 'extends': 10409, 'until': 28687, 'sillonnent': 25855, 'expli': 10303, 'più': 20884, 'solitaire': 26142, 'câbles': 6753, 'cuivre': 6662, 'léclairage': 16696, 'coran': 6140, 'préservation': 22175, 'viceprésident': 29105, 'restart': 23763, 'talks': 27364, 'dupontaignan': 8417, 'hitchcock': 12906, 'situations': 25955, 'écrivait': 30206, 'contraception': 5978, 'étendue': 30534, 'accélérer': 239, 'vict': 29111, 'invitation': 14296, 'ailes': 644, 'cristal': 6486, 'cocktail': 5086, 'catégories': 4164, 'dalton': 6911, 'mortiers': 18278, 'biarritz': 2824, 'inventer': 14256, 'montsaintmichel': 18209, 'every': 10146, 'drama': 8296, 'teacher': 27455, 'hellbound': 12810, 'rejet': 23294, 'briller': 3464, 'réputation': 24640, 'gardiens': 11781, 'grecque': 12253, 'dollar': 8100, 'rises': 24020, 'bets': 2800, 'policy': 21146, 'airpods': 676, 'colorés': 5243, 'chanté': 4451, 'opera': 19620, 'accompagnés': 172, 'portail': 21260, 'bay': 2621, 'développeur': 9258, 'capteurs': 3978, 'luna': 16597, 'signaux': 25820, 'lettres': 15822, 'pédopornographiques': 22447, 'reproché': 23640, 'ac': 129, 'forcément': 11217, 'plaire': 20923, 'cel': 4219, 'seydoux': 25696, 'évidente': 30629, 'protagonistes': 21951, 'tro': 28328, 'harrison': 12716, 'renforcée': 23509, 'parental': 20095, 'vacciné': 28806, 'obésité': 19430, 'surpoids': 27007, 'diabète': 7594, 'septembre': 25564, 'garantis': 11762, 'parlaient': 20137, 'trouvera': 28385, 'lsd': 16545, 'gens': 11897, 'généraliser': 12495, 'judo': 14800, 'apportent': 1447, 'gel': 11869, 'recul': 23157, 'rayonner': 22978, 'diffusant': 7660, 'fly': 11105, 'amical': 1005, 'publiées': 22315, 'privatisation': 21655, 'balancer': 2405, 'pâtissiers': 22416, 'should': 25763, 'masqué': 17375, 'génocide': 12483, 'rohff': 24123, 'débuts': 8531, 'mitigés': 17987, 'ramault': 22811, 'assortie': 1820, 'boy': 3343, 'scolarisation': 25346, 'autiste': 2123, 'bruxelloise': 3551, 'limiter': 16082, 'ruent': 24286, 'méchants': 18549, 'braquage': 3385, 'roue': 24196, 'nove': 19222, 'japanese': 14534, 'water': 29677, 'ancestrale': 1097, 'graisses': 12187, 'darrêter': 7039, 'effectuer': 9373, 'young': 29969, 'teen': 27481, 'wikipedia': 29782, 'explorer': 10336, 'optimiser': 19653, 'ménès': 18636, 'lgv': 15901, 'lindépendant': 16138, 'trancher': 28136, 'rhumes': 23953, 'critiquer': 6498, 'sacrée': 24860, 'nanas': 18742, 'storia': 26679, 'pièges': 20873, 'vivement': 29370, 'délèves': 8872, 'orgasmes': 19742, 'concessions': 5556, 'croquer': 6536, 'villas': 29207, 'reconduite': 23095, 'vivants': 29369, 'drogués': 8347, 'haïti': 12772, 'propriétés': 21935, 'definitely': 7194, 'revenge': 23897, 'isis': 14385, 'attacks': 1915, 'kabul': 14918, 'héritiers': 13204, 'sputnik': 26506, 'franc': 11360, 'accablants': 137, 'peuvent': 20668, 'mouvements': 18357, 'protectrice': 21960, 'amours': 1035, 'éboueur': 30074, 'cam': 3833, 'footage': 11194, 'collapse': 5158, 'whole': 29768, 'came': 3846, 'déçu': 9285, 'munitions': 18433, 'bombardements': 3122, 'faibles': 10518, 'working': 29854, 'fine': 10944, 'néfastes': 19323, 'prédit': 22087, 'légume': 16749, 'suffisent': 26864, 'carré': 4070, 'enterrement': 9795, 'manipulation': 17122, 'discovered': 7856, 'ruines': 24296, 'tram': 28128, 'singer': 25906, 'order': 19693, 'filming': 10904, 'una': 28634, 'mila': 17823, 'déborde': 8509, 'gratter': 12229, 'négation': 19326, 'lexistence': 15862, 'bilans': 2880, 'promesse': 21846, 'minimum': 17904, 'disparus': 7900, 'océan': 19466, 'ébauche': 30072, 'chacun': 4352, 'préouverture': 22136, 'considéré': 5817, 'quétait': 22667, 'balles': 2424, 'pressing': 21570, 'milan': 17824, 'vincere': 29223, 'sacrifier': 24855, 'nrj12': 19244, 'interprètes': 14138, 'heard': 12790, 'lantiseche': 15382, 'rumeurs': 24305, 'australian': 2100, 'identified': 13272, 'victim': 29113, 'supériorité': 26974, 'répondant': 24619, 'zika': 30022, 'romantique': 24152, 'martel': 17326, 'contemporains': 5928, 'naftali': 18709, 'bennett': 2746, 'duhamel': 8392, 'allégement': 885, 'cinema': 4832, 'kristen': 15111, 'stewart': 26646, 'nail': 18716, 'nerfs': 18895, 'testés': 27634, 'feel': 10729, 'ravagée': 22958, 'welcome': 29730, 'mcdonald': 17518, 'taha': 27330, 'bouhafs': 3250, 'piqûre': 20833, 'gauchiste': 11826, 'paquets': 20036, 'aveux': 2241, 'slobodan': 25999, 'despot': 7399, 'adolescent': 400, 'cabane': 3731, 'recommencer': 23088, 'démontre': 8936, 'dangerosité': 6957, 'courts': 6331, 'falcon': 10560, 'dép': 8973, 'clara': 4938, 'egger': 9404, 'stopcovid': 26671, 'volontaire': 29444, 'bienheureux': 2852, 'enferme': 9659, 'monopole': 18141, 'consiste': 5825, 'dondes': 8140, 'vibrer': 29101, 'instrument': 14032, 'écossaise': 30171, 'connerie': 5746, 'sheila': 25723, 'rumeur': 24304, 'abonnements': 68, 'pronos': 21883, 'doiseaux': 8086, 'devons': 7511, 'diplomatique': 7795, 'lituanie': 16270, 'instant': 14000, 'success': 26815, 'companies': 5396, 'momentlà': 18100, 'auf': 2036, 'dixit': 8013, 'sorcière': 26226, 'dévoilera': 9272, 'emballé': 9478, 'whisky': 29760, 'mavait': 17475, 'sale': 25001, 'sleeping': 25994, 'giants': 11956, 'canicule': 3923, 'servent': 25621, 'diagnostics': 7599, 'décapitée': 8544, 'lèvent': 16685, 'imposant': 13488, 'turque': 28481, 'enthousiasme': 9801, 'kendji': 14985, 'girac': 11992, 'déçoit': 9284, 'lauréats': 15544, 'loreille': 16447, 'merveilleux': 17682, 'ordonnée': 19705, 'soimême': 26109, 'fl': 11008, 'boko': 3109, 'haram': 12692, 'tchadien': 27449, 'jihad': 14648, 'télévisions': 28563, 'ordinateurs': 19700, 'tablettes': 27304, 'sortes': 26245, 'intégrante': 14218, 'quoti': 22652, 'jeanmichel': 14587, 'blanquer': 2990, 'dîners': 9290, 'boules': 3259, 'quan': 22551, 'boys': 3351, 'if': 13308, 'daccident': 6821, 'genoux': 11894, 'advisory': 447, 'combattant': 5265, 'dinosaures': 7756, 'plumes': 21046, 'galveston': 11727, 'hotel': 13050, 'opening': 19618, 'expolicier': 10349, 'bath': 2591, 'caire': 3787, 'nid': 18983, 'event': 10140, 'baptisé': 2487, 'cowboy': 6375, 'bougé': 3249, 'saintmartin': 24945, 'annesophie': 1193, 'hypocrisie': 13166, 'tony': 27912, 'truck': 28399, 'observateurs': 19395, 'bronckhorst': 3503, 'clear': 4977, 'favourite': 10696, 'clinton': 5011, 'related': 23321, 'aident': 622, 'marr': 17306, 'conviction': 6068, 'craignant': 6415, 'écoutes': 30182, 'eine': 9416, 'satire': 25172, 'décortique': 8657, 'valables': 28832, 'quantique': 22554, 'bolton': 3118, 'gig': 11970, 'daurillac': 7096, 'cantal': 3938, 'fugue': 11540, 'supposée': 26951, 'théoricien': 27742, 'ss': 26542, 'limpression': 16108, 'seules': 25656, 'kohler': 15091, 'favoriser': 10691, 'captain': 3974, 'become': 2680, 'mayor': 17492, 'replacing': 23591, 'blasio': 2992, 'tourné': 28017, 'djamel': 8021, 'apprenant': 1454, 'ukrainian': 28611, 'presidential': 21560, 'motocross': 18313, 'boue': 3236, 'centenaire': 4265, 'perçue': 20625, 'discipline': 7846, 'concepts': 5541, 'lexpert': 15867, 'éliminatoires': 30311, 'learning': 15636, 'rand': 22827, 'nominee': 19079, 'support': 26938, 'changes': 4427, 'feed': 10728, 'needs': 18875, 'dab': 6809, 'inbev': 13564, 'caserne': 4098, 'antibes': 1259, 'eddy': 9340, 'mitchell': 17983, 'country': 6272, 'salauds': 24999, 'transformer': 28162, 'sida': 25785, 'fédérales': 11615, 'libéral': 15985, 'critiquée': 6501, 'toxic': 28038, 'clothing': 5034, 'envergure': 9874, 'marées': 17358, 'totalenergies': 27950, 'panneaux': 20001, 'souhaitons': 26298, 'ensoleillée': 9771, 'courageux': 6295, 'belgium': 2711, 'prononcera': 21878, 'dévastateur': 9251, 'travailleur': 28232, 'conesa': 5619, 'saoudite': 25121, 'evidemment': 10151, 'occidentaux': 19440, 'sub': 26782, 'extrémistes': 10434, 'allégorie': 887, 'fournir': 11309, 'mill': 17849, 'dérobés': 9088, 'soupçons': 26335, 'perdetevi': 20508, 'graziait': 12247, 'hypocrisy': 13167, 'taking': 27351, 'jobs': 14664, 'egypt': 9407, 'execution': 10225, 'solveig': 26160, 'stp': 26685, 'dy': 8465, 'aligne': 794, 'référé': 24513, 'civitas': 4908, 'larrêté': 15462, 'estiment': 10056, 'révélateur': 24782, 'deux': 7463, 'sidos': 25790, 'maj': 16970, 'alsace': 916, 'pétitions': 22496, 'bénévolement': 3707, 'grogne': 12305, 'amazonienne': 961, 'rediff': 23178, 'absorbe': 109, 'tenet': 27533, 'gareth': 11789, 'rogue': 24121, 'types': 28517, 'injecter': 13868, 'popul': 21226, 'pourriez': 21419, 'portefeuille': 21268, 'délinquance': 8848, 'asi': 1738, 'procuré': 21716, 'tracts': 28065, 'signalements': 25808, 'réduction': 24474, 'hortense': 13028, 'restetil': 23777, 'enfan': 9654, 'morose': 18261, 'diktacratie': 7693, 'stations': 26604, 'vaisselle': 28829, 'messieurs': 17699, 'herbert': 12824, 'mahut': 16928, 'antenne': 1251, 'communautaire': 5359, 'poussé': 21448, 'simulation': 25887, 'piscine': 20847, 'procédures': 21721, 'gazoduc': 11851, 'smile': 26015, 'sochaux': 26051, 'trembler': 28269, 'budgétaire': 3584, 'dina': 7726, 'chienne': 4634, 'décomposition': 8635, 'ouvrira': 19877, 'douteux': 8265, 'demandes': 7250, 'asile': 1744, 'conforme': 5676, 'aixenprovence': 686, 'atténuer': 1996, 'écolo': 30146, 'uh': 28607, 'basketball': 2561, 'falls': 10568, 'ot': 19802, 'entendent': 9782, 'révolutionner': 24775, 'davion': 7124, 'charging': 4486, 'imminent': 13422, 'poitrine': 21119, 'notons': 19177, 'devienne': 7494, 'philadelphia': 20692, 'solide': 26140, 'périphérie': 22484, 'concocté': 5567, 'affichant': 474, 'communiqué': 5372, 'bds': 2637, 'boycott': 3345, 'cond': 5585, 'indésirable': 13746, 'lhexagone': 15907, 'dote': 8221, 'saintflorent': 24925, 'saisissent': 24966, 'kg': 15003, 'sillonne': 25854, 'attendus': 1954, 'légère': 16752, 'shekels': 25724, 'sommesnous': 26178, 'rebelles': 23015, 'napoli': 18756, 'naître': 18858, 'offer': 19492, 'billy': 2894, 'angels': 1139, 'yankees': 29928, 'executive': 10226, 'gm': 12057, 'menus': 17647, 'contrevérités': 6017, 'para': 20038, 'brown': 3523, 'curry': 6708, 'basculement': 2547, 'stocks': 26664, 'excédés': 10221, 'toxicomanes': 28040, 'inaction': 13549, 'tirent': 27817, 'relogée': 23365, 'reject': 23292, 'concerns': 5546, 'percent': 20489, 'increase': 13645, 'beach': 2640, 'regrouper': 23279, 'même': 18693, 'daffaires': 6851, 'infantiles': 13761, 'contaminés': 5924, 'terrible': 27588, 'rip': 24011, 'dolom': 8102, 'prononce': 21875, 'conservatoire': 5796, 'lapplication': 15411, 'vampire': 28881, 'ntm': 19249, 'queen': 22583, 'sean': 25387, 'penn': 20454, 'lautomobile': 15553, 'jaeghere': 14496, 'origines': 19762, 'gants': 11751, 'médicaux': 18591, 'usagés': 28732, 'terrestres': 27586, 'rouvriront': 24239, 'conseille': 5778, 'anna': 1186, 'pince': 20804, 'chercheuse': 4601, 'disponibl': 7909, 'portemonnaie': 21271, 'organisera': 19731, 'nient': 18987, 'décentralisation': 8553, 'arbres': 1536, 'dénigrement': 8954, 'cassandre': 4109, 'fristot': 11484, 'condamn': 5586, 'تعرف': 30688, 'على': 30693, 'tablette': 27303, 'من': 30698, 'repentir': 23589, 'sommaire': 26173, 'ambassade': 962, 'maraîchers': 17190, 'massifs': 17389, 'lys': 16666, 'katie': 14959, 'dominant': 8117, 'commercial': 5334, 'dimpôts': 7724, 'teresa': 27563, 'masquée': 17376, 'pharmaceutiques': 20683, 'promigrants': 21856, 'attaqué': 1923, 'morbihan': 18243, 'fluo': 11102, 'nas': 18777, 'recadre': 23029, 'façons': 10702, 'glamour': 12026, 'girl': 11997, 'ratée': 22951, 'acquiert': 268, 'boeing': 3091, 'luxembourg': 16639, 'déremboursement': 9077, 'poisson': 21115, 'prône': 22247, 'fiat': 10826, 'torna': 27925, 'souhaiter': 26294, 'bisous': 2939, 'biens': 2855, 'glacier': 12021, 'sauvetage': 25225, 'savez': 25246, 'moin': 18075, 'tariq': 27407, 'ingenuity': 13839, 'lhélicoptère': 15937, 'martien': 17331, 'firme': 10976, 'sinterrogent': 25931, 'proposée': 21923, 'expressions': 10375, 'never': 18934, 'risqué': 24032, 'débattue': 8500, 'levels': 15837, 'already': 914, 'dominent': 8122, 'player': 20983, 'party': 20229, 'boj': 3108, 'quittait': 22638, 'ask': 1745, 'garland': 11791, 'multiplication': 18414, 'durable': 8423, 'cl': 4910, 'grey': 12273, 'pète': 22427, 'plombs': 21023, 'phoenix': 20712, 'dresser': 8322, 'sétablir': 27264, 'dailleurs': 6874, 'lincertitude': 16118, 'perrin': 20564, 'gynécologues': 12454, 'recommandent': 23082, 'enceintes': 9600, 'verdun': 29016, 'cardi': 4014, 'furious': 11581, 'mesdames': 17685, 'évacués': 30608, 'dogme': 8077, 'voi': 29395, 'cfcm': 4345, 'lappui': 15414, 'stupéfiants': 26759, 'démantelé': 8883, 'herbe': 12823, 'vécu': 29571, 'racheté': 22694, 'universités': 28681, 'fiabilité': 10818, 'endroits': 9645, 'hypermarché': 13158, 'livrés': 16297, 'conclue': 5561, 'elles': 9456, 'aient': 637, 'demeure': 7262, 'cravate': 6433, 'bruce': 3524, 'springsteen': 26502, 'excellente': 10182, 'too': 27913, 'eat': 9308, 'logique': 16369, 'linda': 16125, 'carlson': 4044, 'élisabeth': 30318, 'moreno': 18253, 'dinvestissement': 7780, 'cryptomonnaies': 6585, 'share': 25713, 'rentable': 23545, 'documentaires': 8058, 'magazines': 16890, 'régionaux': 24530, 'partageons': 20176, 'fétiche': 11647, 'cool': 6093, 'plaza': 20993, 'motiver': 18309, 'valable': 28831, 'kiffe': 15026, 'trauma': 28215, 'igpn': 13325, 'vio': 29235, 'essentielles': 10031, 'antiislam': 1295, 'everybody': 10147, 'knows': 15082, 'penélope': 20482, 'synonyme': 27149, 'efootball': 9401, 'repoussé': 23620, 'premium': 21523, 'pénitentiaires': 22460, 'pinault': 20803, 'gigantesque': 11972, 'brûlé': 3569, 'kafka': 14923, 'laffichage': 15213, 'manœuvres': 17171, 'benalla': 2731, 'syria': 27153, 'consacrer': 5765, 'professionnels': 21761, 'lorsquil': 16464, 'principes': 21627, 'adopter': 408, 'clark': 4942, 'anticiper': 1270, 'freiner': 11456, 'doucement': 8243, 'walid': 29629, 'moniteur': 18134, 'em': 9469, 'lantiquité': 15380, 'transforment': 28161, 'drops': 8362, 'faster': 10640, 'commerçant': 5341, 'wife': 29778, 'renforcés': 23511, 'tag': 27325, 'drague': 8290, 'patience': 20316, 'exponentielle': 10350, 'insisté': 13960, 'wikileaks': 29781, 'hedge': 12802, 'funds': 11568, 'betting': 2804, 'july': 14837, 'familiaux': 10585, 'bougent': 3242, 'annelaure': 1191, 'btp': 3574, 'bazin': 2631, 'alleges': 833, 'color': 5233, 'martiniquais': 17337, 'quenelle': 22599, 'maquillage': 17178, 'faciale': 10490, 'jattends': 14551, 'blessée': 3005, 'optimisme': 19654, 'camionnette': 3857, 'dernier': 7363, 'franceinfo': 11368, 'protestation': 21963, 'retrouvent': 23859, 'vieuxport': 29168, 'milita': 17836, 'exigences': 10254, 'motif': 18303, 'assume': 1825, 'journali': 14753, 'aimerais': 655, 'présumés': 22200, 'corrompus': 6190, 'niveaux': 19022, 'vladimir': 29383, 'serais': 25570, 'ressemblent': 23737, 'cochons': 5085, 'claques': 4936, 'scolarité': 25347, 'med': 17543, 'grise': 12299, 'jp': 14784, 'morgan': 18255, 'constate': 5854, 'réputé': 24641, 'vole': 29433, 'chiffrage': 4638, 'souspréfet': 26356, 'lauren': 15536, 'gagnent': 11691, 'somalien': 26164, 'boucher': 3219, 'remplacés': 23439, 'monstrueux': 18155, 'capter': 3976, 'coréen': 6206, 'applis': 1443, 'navigation': 18841, 'saudi': 25201, 'arabia': 1524, 'allow': 866, 'entry': 9860, 'countries': 6271, 'premier': 21520, 'aubervilliers': 2005, 'présidentiell': 22188, 'hlm': 12918, 'saintmichel': 24946, 'profité': 21778, 'apr': 1505, 'catho': 4152, 'renouveler': 23534, 'profitant': 21768, 'préparezvous': 22146, 'thé': 27738, 'installé': 13994, 'taff': 27323, 'hapsatou': 12691, 'lhospitalisation': 15923, 'isaac': 14380, 'dion': 7782, 'maudits': 17461, 'licra': 16010, 'méditerranéen': 18599, 'lavantpremière': 15573, 'visactu': 29293, 'nationalisme': 18800, 'regardé': 23258, 'milices': 17831, 'réalisent': 24387, 'seineetmarne': 25456, 'enseignant': 9757, 'politis': 21167, 'relayons': 23338, 'rémois': 24582, 'sciencefiction': 25330, 'admet': 372, 'proposal': 21910, 'hike': 12868, 'gains': 11700, 'constructions': 5877, 'urbaine': 28702, 'doffres': 8073, 'cafards': 3768, 'mouches': 18326, 'pigeons': 20778, 'bêtes': 3718, 'effrayantes': 9395, 'tweeter': 28502, 'nommé': 19083, 'fina': 10915, 'valneva': 28867, 'ebola': 9314, 'procurer': 21712, 'contractuels': 5984, 'déclenchement': 8610, 'défauts': 8735, 'apprenait': 1453, 'aviv': 2254, 'polonobiélorusse': 21194, 'vomir': 29463, 'optimistes': 19656, 'bœuf': 3723, 'kobe': 15085, 'figarovox': 10862, 'ogier': 19529, 'monza': 18220, 'festif': 10804, 'complémentaires': 5456, 'dexcellence': 7521, 'blockchain': 3025, 'technologies': 27474, 'bagarres': 2367, 'croquettes': 6537, 'apéro': 1513, 'stigmatisation': 26651, 'terriblement': 27589, 'généralisation': 12493, 'piétons': 20883, 'autonomes': 2145, 'vitro': 29359, 'habitée': 12600, 'prélèvement': 22118, 'hospitalisation': 13034, 'jouissance': 14745, 'some': 26169, 'pipe': 20822, 'embarrassante': 9487, 'refait': 23211, 'dépendant': 8998, 'autotests': 2169, 'az': 2297, 'nouve': 19202, 'délicieuse': 8845, 'vertus': 29066, 'glacial': 12020, 'ondes': 19592, 'désolés': 9152, 'déroulera': 9095, 'religieuses': 23356, 'appe': 1409, 'miller': 17854, 'blockbuster': 3024, 'rams': 22822, 'tough': 27975, 'leave': 15640, 'sales': 25003, 'up': 28691, 'tonneau': 27907, 'mensonger': 17615, 'cycle': 6734, 'homosexuel': 12970, 'kad': 14920, 'merad': 17654, 'rémy': 24588, 'franchir': 11380, 'mixité': 17993, 'quotas': 22651, 'méfie': 18606, 'tan': 27372, 'sardou': 25147, 'tranché': 28138, 'parts': 20228, 'absurdistan': 115, 'entendons': 9784, 'nostalgique': 19156, 'alarme': 714, 'distinguée': 7958, 'spécialité': 26519, 'devaient': 7469, 'choisis': 4696, 'marges': 17224, 'initier': 13864, 'religions': 23359, 'filer': 10882, 'vierzon': 29163, 'auvergne': 2183, 'élargissement': 30274, 'musicale': 18463, 'barres': 2531, 'polynésie': 21196, 'dannées': 6981, 'douanes': 8230, 'baisses': 2393, 'renaissance': 23460, 'renvoyées': 23566, 'pouvo': 21461, 'nattendez': 18811, 'faurisson': 10668, 'sentie': 25543, 'dépakine': 8974, 'rapporté': 22892, 'incohérences': 13621, 'lowcost': 16533, 'lyes': 16653, 'louffok': 16497, 'embarras': 9486, 'cops': 6123, 'bacteria': 2351, 'benefits': 2740, 'ralentissements': 22793, 'a11': 1, 'banlieues': 2467, 'fraîcheur': 11438, 'oregon': 19710, 'square': 26530, 'miles': 17827, 'glow': 12051, 'délires': 8855, 'spectatrice': 26442, 'collèges': 5196, 'canet': 3921, 'cotillard': 6230, 'cassel': 4112, 'mc': 17509, 'thinking': 27698, 'dhollywood': 7563, 'chris': 4733, 'republic': 23663, 'ge': 11861, 'infiltré': 13783, 'combinaison': 5272, 'salariat': 24992, 'précaire': 22048, 'laphp': 15394, 'hydrogène': 13151, 'colossal': 5245, 'déçus': 9287, 'pèsent': 22426, 'dhumains': 7576, 'bila': 2876, 'lindemnité': 16128, 'injection': 13869, 'léco': 16697, 'attorneys': 1980, 'jussie': 14878, 'smollett': 26019, 'invendus': 14252, 'comparution': 5410, 'ressemblera': 23739, 'réservée': 24668, 'gewinnt': 11938, 'vor': 29469, 'attractivité': 1986, 'alternatives': 930, 'economiques': 9330, 'trumps': 28411, 'sich': 25782, 'rapporte': 22887, 'créateur': 6597, 'réintroduit': 24567, 'jung': 14844, 'debray': 7157, 'bocuse': 3085, 'ankara': 1184, 'polaires': 21129, 'lhomophobie': 15917, 'll': 16304, 'télécharger': 28533, 'dealer': 7145, 'brûlées': 3571, 'exhibition': 10246, 'limousin': 16096, 'éteint': 30529, 'souffrait': 26279, 'toux': 28032, 'lola': 16395, 'aije': 641, 'ressenti': 23745, 'jalousie': 14510, 'daft': 6860, 'grammes': 12189, 'enne': 9719, 'coudeàcoude': 6248, 'screen': 25366, 'mayonnaise': 17491, 'coffee': 5098, 'évolution': 30642, 'cer': 4291, 'everything': 10149, 'know': 15080, 'soccupe': 26049, 'rejeter': 23295, 'primauté': 21605, 'sterling': 26640, 'sèche': 27167, 'parlezvous': 20150, 'saintes': 24921, 'introuvables': 14208, 'épargnants': 30410, 'comm': 5299, 'préliminaire': 22115, 'limitant': 16077, 'd1': 6806, 'sarthoise': 25158, 'gadgets': 11677, 'métaphore': 18658, 'vador': 28815, 'poèmes': 21473, 'jump': 14841, 'saut': 25210, 'marier': 17246, 'mélina': 18619, 'submergée': 26797, 'cerner': 4303, 'fondamentaux': 11161, 'marco': 17214, 'polo': 21188, 'lawyer': 15603, 'lies': 16021, 'lands': 15344, 'role': 24133, 'ferries': 10789, 'inconnues': 13633, 'rênes': 24804, 'ouvrages': 19868, 'lane': 15345, 'virtuel': 29280, 'parallèle': 20055, 'césars': 6791, 'amant': 951, 'japonais': 14536, 'diversification': 7984, 'fermement': 10766, 'close': 5029, 'rania': 22843, 'amdouni': 985, 'hdesident_date': 12780, 'longs': 16413, 'métrages': 18673, 'sacha': 24841, 'amine': 1013, 'owners': 19900, 'poètes': 21475, 'vagues': 28819, 'actifs': 285, 'afflux': 495, 'christianisme': 4739, 'recueillement': 23152, 'nantais': 18747, 'revendiquent': 23892, 'kobili': 15086, 'appeler': 1417, 'fofana': 11119, 'ilan': 13335, 'burqa': 3635, 'effarante': 9364, 'attendaient': 1940, 'xv': 29905, 'grandiose': 12202, 'poussette': 21444, 'équipée': 30483, 'dautre': 7107, 'fonctionnalités': 11147, 'libreéchange': 15977, 'continentale': 5960, 'qualifiée': 22546, 'santa': 25111, 'obscure': 19391, 'détournés': 9225, 'jou': 14727, 'frustré': 11514, 'bordel': 3184, 'poubelles': 21376, 'incendiées': 13586, 'complique': 5440, 'illimité': 13349, 'culinaire': 6664, 'splendeur': 26469, 'disposer': 7916, 'connecte': 5738, 'nan': 18739, 'photovoltaïques': 20729, 'leaves': 15641, 'wounded': 29867, 'commente': 5326, 'féminisation': 11636, 'masterclass': 17398, 'ques': 22604, 'collectivités': 5176, 'polémiques': 21200, 'ciblant': 4807, 'concerne': 5543, 'maintenue': 16952, 'mannequin': 17134, 'assurancechômage': 1832, 'retourne': 23834, 'ran': 22825, 'serbie': 25581, 'kosovo': 15101, 'abonné': 72, 'gouver': 12137, 'bancel': 2449, 'terminée': 27574, 'basilique': 2558, 'dépistage': 9008, 'cotisations': 6232, 'sarscov2': 25155, 'inefficacité': 13752, 'occupant': 19444, 'branchée': 3374, 'banquise': 2484, 'potentiels': 21365, 'nazisme': 18856, 'comparent': 5405, 'parfumé': 20111, 'lignac': 16039, 'limmunité': 16093, 'daesh': 6849, 'déroulée': 9098, 'grotte': 12320, 'occupée': 19454, 'pouvezvous': 21459, 'contacter': 5906, 'dm': 8030, 'emails': 9473, 'bebop': 2674, 'prometteuse': 21854, 'quai': 22532, 'oprah': 19647, 'shark': 25717, 'tank': 27378, 'somptueux': 26186, 'hôtels': 13232, 'namur': 18738, 'guérin': 12440, 'configuration': 5639, 'vignerons': 29183, 'révéler': 24787, 'guyon': 12430, 'simon': 25868, 'dg': 7542, 'produira': 21741, 'finira': 10953, 'coulé': 6263, 'fiable': 10819, 'distingue': 7955, 'créant': 6596, 'cdc': 4208, 'te': 27453, 'tournait': 28007, 'fellation': 10734, 'neil': 18883, 'agret': 597, 'jettent': 14630, 'vraifaux': 29545, 'foires': 11125, 'picards': 20750, 'écoresponsables': 30169, 'anciennes': 1102, 'afghanes': 508, 'caisses': 3789, 'physiques': 20737, 'kart': 14952, 'deluxe': 7236, 'dissous': 7945, 'poche': 21071, 'mia': 17760, 'figlia': 10868, 'montreuil': 18202, 'jugeait': 14805, 'illégales': 13374, 'lahaye': 15237, 'ol': 19547, 'om': 19573, 'aulas': 2060, 'multinationale': 18409, 'depuis': 7353, 'iconoclaste': 13260, 'gamin': 11739, 'jihadiste': 14650, 'penchée': 20444, 'organiser': 19730, 'émaillé': 30350, 'ardisson': 1568, 'décisive': 8592, 'saffrontent': 24877, 'bonus': 3162, 'lihu': 16047, 'meneur': 17611, 'déontologie': 8972, 'équitable': 30486, 'soutenus': 26371, 'blm': 3017, 'madonna': 16874, 'dagir': 6862, 'élan': 30270, 'incompréhension': 13627, 'professions': 21762, 'megan': 17560, 'kelly': 14979, 'engaged': 9682, 'publiés': 22316, 'constructeurs': 5874, 'contestée': 5952, 'surprenant': 27009, 'inattendu': 13554, 'bisou': 2938, 'mécontentement': 18557, 'dissoudre': 7944, 'indignations': 13689, 'reichmann': 23283, 'acheté': 251, 'trahison': 28101, 'héroïne': 13209, 'rapproche': 22893, 'collégiens': 5204, 'consultez': 5892, 'supersonique': 26931, 'participant': 20195, 'concerttest': 5554, 'recharger': 23063, 'coin': 5123, 'retrouvezle': 23864, 'soidisant': 26095, 'madrid': 16877, 'pat': 20305, 'stromae': 26730, 'opens': 19619, 'trek': 28265, 'shatner': 25719, 'kirk': 15053, 'origin': 19753, 'multiplex': 18413, 'toxines': 28041, 'prétexte': 22214, 'seuils': 25652, 'termes': 27566, 'conservateurs': 5791, 'rapportent': 22888, 'transporter': 28201, 'biggest': 2867, 'losses': 16479, 'tells': 27498, 'presidency': 21557, 'truth': 28417, 'recap': 23033, 'survenue': 27034, 'serre': 25610, 'figurants': 10869, 'pété': 22504, 'plomb': 21019, 'farine': 10618, 'insecte': 13947, 'composent': 5469, 'assiettes': 1786, 'organismes': 19734, 'tristesse': 28327, 'drinking': 8335, 'rebecca': 23012, 'dispute': 7922, 'enedis': 9648, 'wright': 29872, 'dream': 8315, 'wins': 29810, 'title': 27839, 'deti': 7448, 'avons': 2264, 'colorado': 5234, 'crâne': 6588, 'congélateur': 5707, 'intensité': 14076, 'systématiquement': 27164, 'gp': 12167, 'institutionnelle': 14024, 'préalable': 22045, 'ultradroite': 28622, 'restées': 23795, 'cancérigènes': 3906, 'restera': 23774, 'traquer': 28212, 'lisa': 16232, 'keep': 14972, 'getting': 11937, 'maybe': 17488, 'receiving': 23039, 'errance': 9945, 'gré': 12340, 'modérée': 18065, 'lenfant': 15730, 'madani': 16868, 'métaux': 18659, 'clinique': 5008, 'finding': 10942, 'market': 17272, 'ad': 326, 'laudace': 15523, 'envahissent': 9870, 'couronne': 6313, 'nordsud': 19126, 'demands': 7256, 'lyonmarseille': 16661, 'diktats': 7695, 'bornes': 3197, 'régis': 24532, 'sommier': 26181, 'survives': 27046, 'coast': 5076, 'éviscéré': 30632, 'causée': 4183, 'identifiée': 13276, 'limportant': 16104, 'ambitionne': 977, 'partira': 20219, 'renzi': 23568, 'dailletwiedemann': 6873, 'mix': 17991, 'renouvelable': 23532, 'allégé': 888, 'vic': 29102, 'détecter': 9179, 'republican': 23664, 'border': 3188, 'patrol': 20340, 'others': 19807, 'horrific': 13017, 'habitats': 12587, 'marseil': 17316, 'sel': 25462, 'reda': 23169, 'flingue': 11061, 'proteste': 21965, 'tape': 27386, 'empoisonnent': 9565, 'bancaires': 2448, 'mangez': 17093, 'jay': 14564, 'parie': 20114, 'inculpés': 13655, 'redoutée': 23196, 'wouah': 29865, 'sable': 24823, 'tourcoing': 27995, 'dessence': 7403, 'adhérents': 358, 'senvoler': 25558, 'ubs': 28594, 'éclairer': 30125, 'superficie': 26921, 'benoist': 2749, 'travai': 28224, 'use': 28736, 'recommandée': 23085, 'isolement': 14412, 'parcouru': 20083, 'fresque': 11465, 'espagnole': 9985, 'enregistré': 9746, 'trésor': 28422, 'découvrent': 8675, 'dau': 7081, 'augment': 2038, 'dispensé': 7902, 'aura': 2067, 'pb': 20394, 'marient': 17245, 'env': 9866, 'else': 9463, 'vaccinales': 28790, 'peut': 20663, 'fictifs': 10842, 'cambadélis': 3838, 'rondes': 24168, 'nourrissent': 19194, 'ryssen': 24348, 'savoirs': 25257, 'écol': 30141, 'ramasser': 22810, 'ressembler': 23738, 'clooney': 5026, 'series': 25594, 'hautevienne': 12747, 'failli': 10527, 'euromillions': 10109, 'jackpot': 14481, 'contestation': 5946, 'instable': 13987, 'côtesd': 6800, 'armor': 1609, 'lunel': 16607, 'ose': 19791, 'souhait': 26288, 'préférence': 22100, 'charlatan': 4499, 'swift': 27104, 'blocus': 3031, 'etats': 10074, 'unis': 28661, 'saintcyr': 24914, 'écoute': 30179, 'déchecs': 8567, 'suivis': 26897, 'totalitarisme': 27952, 'parcelle': 20076, 'lâchent': 16673, 'nfl': 18960, 'suspendus': 27081, 'médicales': 18588, 'confine': 5640, 'voici': 29399, 'parfaits': 20107, 'maris': 17261, 'lenvironnement': 15767, 'prenne': 21542, 'gegen': 11867, 'systems': 27160, 'brian': 3438, 'draws': 8312, 'only': 19602, 'indias': 13675, 'enthoven': 9804, 'calotte': 3828, 'épargne': 30411, 'panama': 19979, 'papers': 20022, 'létablissement': 16803, 'stéphanois': 26775, 'heureuse': 12845, 'brilliant': 3465, 'repérer': 23669, 'rouages': 24193, 'bondit': 3140, 'ahmed': 614, 'sylla': 27113, 'faye': 10697, 'découvrezla': 8677, 'pantin': 20013, 'déferlement': 8759, 'décathlon': 8548, 'brigade': 3451, 'canine': 3925, 'visites': 29320, 'régulières': 24551, 'vétérinaire': 29610, 'poires': 21109, 'grenouille': 12271, 'avantages': 2211, 'patientes': 20320, 'sibeth': 25779, 'ndiaye': 18868, 'interné': 14125, 'detention': 7447, 'provisoire': 22016, 'macabre': 16840, 'africaines': 516, 'looks': 16425, 'tim': 27787, 'duncan': 8400, 'sutherland': 27090, 'emmerder': 9529, 'tissus': 27830, 'organe': 19719, 'sir': 25940, 'convaincre': 6051, 'influences': 13804, 'japonaises': 14538, 'détablissement': 9163, 'safe': 24873, 'sui': 26874, 'forcée': 11215, 'didnt': 7635, 'along': 897, 'journalope': 14762, 'malka': 17036, 'walk': 29630, 'philips': 20700, 'funeral': 11569, 'trex': 28282, 'dallas': 6901, 'salto': 25028, 'matthew': 17448, 'mcconaughey': 17514, 'linsécurité': 16180, 'disperser': 7903, 'fêtards': 11649, 'allumé': 871, 'décennie': 8551, 'poétique': 21478, 'same': 25052, 'anthropologue': 1256, 'hilton': 12879, 'lamborghini': 15302, 'cléopâtre': 5053, 'andrea': 1117, 'aus': 2091, 'anticipé': 1271, 'restez': 23778, 'moi': 18073, 'équipement': 30478, 'startups': 26597, 'bruel': 3526, 'commencent': 5316, 'saouler': 25122, 'laccident': 15160, 'virale': 29266, 'protocole': 21973, 'innovant': 13894, 'crif': 6467, 'darticles': 7042, 'parus': 20232, 'correspondant': 6179, 'este': 10044, 'floriane': 11083, 'relaxés': 23335, 'devenues': 7487, 'magnifiques': 16914, 'égorgée': 30255, 'dœuvre': 9294, 'linsupportable': 16179, 'examiné': 10171, 'burkini': 3629, 'observation': 19396, 'capsules': 3973, 'châteaudun': 4783, 'physicien': 20733, 'colonisation': 5227, 'bazar': 2630, 'allées': 882, 'rétro': 24718, 'rappelez': 22873, 'observé': 19403, 'fauve': 10679, 'tayc': 27443, 'umicore': 28631, 'brokers': 3500, 'ahold': 615, 'recticel': 23147, 'parrainages': 20168, 'brief': 3449, 'mobilise': 18015, 'nonvacciné': 19104, 'négliger': 19332, 'tarnetgaronne': 27409, 'caporalchef': 3969, 'cueff': 6646, 'décoré': 8658, 'cities': 4880, 'rampant': 22820, 'heinz': 12806, 'pratiqués': 21505, 'livraison': 16285, 'équi': 30472, 'déchiffrer': 8571, 'lexpression': 15878, 'noblesse': 19038, 'louanges': 16491, 'biographie': 2905, 'destinations': 7424, 'étudiante': 30590, 'tit': 27831, 'amazing': 958, 'marié': 17266, 'bogus': 3095, 'cré': 6594, 'acc': 134, 'comptera': 5502, 'sala': 24979, 'regroupement': 23278, 'votant': 29476, 'ovh': 19892, 'soucis': 26268, 'gayet': 11842, 'gérardmer': 12531, 'grains': 12185, 'fertilité': 10796, 'espèce': 9999, 'pis': 20846, 'langélus': 15357, 'fréquence': 11522, 'oreiller': 19712, 'lointaine': 16381, 'sentier': 25544, 'dantibes': 6998, 'minis': 17905, 'croisée': 6528, 'brun': 3531, 'interpol': 14135, 'émirati': 30369, 'empires': 9548, 'iv': 14454, 'chorale': 4718, 'interprété': 14141, 'métrage': 18672, 'résume': 24703, 'trajet': 28125, 'lindépendance': 16137, 'autochtone': 2129, 'représentante': 23650, 'afin': 511, 'nomination': 19077, 'révélatrice': 24786, 'justifiée': 14891, 'vulgaire': 29560, 'derby': 7356, 'statistiques': 26610, 'oppression': 19646, 'lessentiel': 15803, 'assemblées': 1781, 'générales': 12492, 'cuomo': 6693, 'dalla': 6899, 'isolés': 14417, 'beat': 2645, 'begin': 2690, 'pianiste': 20744, 'devils': 7502, 'jouzel': 14772, 'ajoutent': 694, 'tigré': 27779, 'cambriolages': 3842, 'biterrois': 2947, 'partagées': 20182, 'avoid': 2260, 'environmental': 9881, 'reasons': 23009, 'démarches': 8888, 'administratives': 382, 'basé': 2580, 'éta': 30500, 'chase': 4518, 'closes': 5032, 'credit': 6441, 'card': 4013, 'absents': 103, 'pla': 20887, 'ob': 19363, 'psychiatriques': 22270, 'confusion': 5692, 'éle': 30276, 'haineux': 12625, 'récompenses': 24445, 'he': 12781, 'héritière': 13205, 'embrasser': 9503, 'ravisseurs': 22967, 'curtis': 6709, 'laffiche': 15214, 'dhalloween': 7551, 'kills': 15035, 'contagieuse': 5911, 'inattendue': 13555, 'oubliez': 19820, 'boyard': 3344, 'supprimée': 26959, 'stalker': 26568, 'affreux': 499, 'caissières': 3792, 'aesh': 452, 'présentatrice': 22160, 'lyonnaise': 16663, 'balader': 2399, 'ethnique': 10087, 'aliot': 810, 'azerbaïdjan': 2298, 'identique': 13280, 'nef': 18876, 'journé': 14766, 'trains': 28110, 'interrompue': 14157, 'instead': 14017, 'turc': 28470, 'prévenu': 22219, 'sérieuses': 27259, 'héritage': 13201, 'immigré': 13420, 'égyptien': 30259, 'boucle': 3228, 'représenter': 23657, 'dinguerie': 7747, 'représentés': 23661, 'légitimes': 16746, 'asian': 1740, 'shake': 25704, 'presents': 21556, 'risks': 24023, 'affect': 464, 'natural': 18813, 'pqr': 21483, 'model': 18034, 'abandonnent': 16, 'radicalisé': 22742, 'rareté': 22902, 'twist': 28509, 'confondre': 5672, 'migrations': 17812, 'bal': 2397, 'évacuation': 30601, 'vingtaine': 29225, 'camions': 3858, 'arrivés': 1667, 'évacuer': 30604, 'exaspérés': 10175, 'candida': 3912, 'minuit': 17930, 'respiration': 23720, 'fuites': 11548, 'student': 26741, 'fights': 10867, 'hébergé': 13184, 'boxoffice': 3342, 'widow': 29773, 'cruella': 6569, 'chaotique': 4455, 'paille': 19940, 'résiste': 24689, 'gardé': 11785, 'galères': 11730, 'ordure': 19708, 'connard': 5732, 'sordides': 26229, 'basée': 2581, 'pépite': 22469, 'pétanque': 22492, 'explosives': 10346, 'raccoon': 22684, 'even': 10139, 'traque': 28210, 'lextrêmedroite': 15886, 'dépit': 9011, 'journalistiques': 14760, 'livrent': 16288, 'autoroutes': 2166, 'sousmarin': 26353, 'identités': 13286, 'neuve': 18929, 'imposent': 13490, 'ruiner': 24295, 'amont': 1027, 'sentiers': 25545, 'marcheurs': 17211, 'removed': 23427, 'flower': 11096, 'cake': 3793, 'thibaud': 27686, 'juguler': 14813, 'cécile': 6759, 'avent': 2224, 'dassises': 7056, 'hautement': 12740, 'préparé': 22148, 'signale': 25806, 'fr': 11336, 'sanguin': 25091, 'secoués': 25416, 'épinglée': 30437, 'sécuriser': 27187, 'donn': 8143, 'lémeute': 16770, 'révolte': 24763, 'linge': 16152, 'créez': 6619, 'réintégré': 24569, 'congés': 5709, 'furieux': 11580, 'entraide': 9821, 'notredamedeslandes': 19182, 'généré': 12512, 'souterraine': 26373, 'confier': 5638, 'dest': 7419, 'jazz': 14567, 'intervient': 14171, 'significative': 25830, 'beating': 2646, 'lewandowski': 15848, 'nallez': 18733, 'démo': 8914, 'expulsé': 10389, 'kev': 14997, 'échoués': 30115, 'montréal': 18206, 'elodie': 9460, 'latest': 15502, 'utah': 28750, 'indiana': 13674, 'gobert': 12064, 'hypersonique': 13161, 'kanye': 14942, 'achats': 246, 'disciplinaire': 7845, 'hydroxychloroquine': 13152, 'lapp': 15403, 'strive': 26729, 'guillermo': 12399, 'mourad': 18342, 'handicapé': 12670, 'roulant': 24206, 'talons': 27367, 'discret': 7858, 'exporter': 10356, 'enregistrés': 9749, 'chrome': 4748, 'bourgeoise': 3292, 'contrôlée': 6046, 'mif': 17797, 'hip': 12882, 'symphonique': 27130, 'mouv': 18354, 'archange': 1543, 'pierres': 20772, 'argentin': 1580, 'rétrospective': 24721, 'giron': 12000, 'cma': 5061, 'holding': 12927, 'estu': 10069, 'blindés': 3014, 'chars': 4514, 'terminator': 27569, 'intégré': 14222, 'division': 8000, 'amnistie': 1023, 'grillage': 12284, 'carter': 4078, 'investigaction': 14272, 'gonflé': 12089, 'fitness': 10993, 'lhebdo': 15905, 'réagi': 24372, 'dérive': 9080, 'droitière': 8355, 'environnementales': 9885, 'sociétales': 26078, 'posées': 21351, 'bikini': 2874, 'présumé': 22198, 'décapitation': 8541, 'décrit': 8685, 'parvis': 20241, 'implant': 13459, 'cérébral': 6785, 'albarn': 721, 'putin': 22386, 'carole': 4051, 'bouquet': 3280, 'léon': 16780, 'christ': 4734, 'mondialisme': 18124, 'hawkeye': 12762, 'rich': 23964, 'insolente': 13962, 'hypersoniques': 13162, 'jeanclaude': 14575, 'solaire': 26122, 'imbécile': 13399, 'maternités': 17416, 'reviendra': 23906, 'voic': 29396, 'limmense': 16089, 'comique': 5295, 'entières': 9812, 'dinternautes': 7768, 'persuasion': 20600, 'larchitecte': 15434, 'monuments': 18219, 'histo': 12891, 'gueugnon': 12378, 'sapin': 25128, 'valve': 28877, 'livr': 16284, 'meurtrie': 17741, 'déterminée': 9204, 'annulations': 1225, 'décharges': 8564, 'vernouillet': 29029, 'casques': 4107, 'ralliement': 22797, 'horizons': 13007, 'dedouard': 7179, 'sinquiéter': 25919, 'partiellement': 20214, 'pencher': 20442, 'libyenne': 15981, 'finales': 10919, 'cantine': 3942, 'senfuit': 25513, 'menotté': 17612, 'exprès': 10383, 'noie': 19054, 'dénonçant': 8967, 'cartonnent': 4084, 'précieuses': 22055, 'nombreux': 19076, 'surnommé': 27005, 'farce': 10613, 'salma': 25016, 'hayek': 12766, 'honorée': 12992, 'valentina': 28842, 'sandler': 25082, 'fame': 10574, 'édifiante': 30218, 'veuillez': 29080, 'patienter': 20319, 'lim': 16069, 'contrebande': 6005, 'contrefaçon': 6008, 'détruits': 9238, 'dou': 8227, 'éphémère': 30418, 'analysent': 1080, 'clown': 5038, 'muet': 18395, 'progression': 21802, 'ralenti': 22790, 'virilité': 29276, 'mâles': 18533, 'directs': 7822, 'renc': 23470, 'karl': 14950, 'cidessous': 4818, 'balayer': 2408, 'codreanu': 5095, 'aimons': 661, 'classements': 4954, 'rappels': 22879, 'wonner': 29843, 'chemises': 4585, 'rejeté': 23299, 'anticipées': 1273, 'coman': 5259, 'pavard': 20363, 'guetapens': 12375, 'lyncher': 16657, 'uber': 28592, 'pourrontils': 21426, 'forza': 11268, 'scandal': 25283, 'threatens': 27717, 'end': 9625, 'austrian': 2106, 'chancellor': 4415, 'comédiens': 5526, 'dujardin': 8393, 'sanita': 25097, 'paxton': 20368, 'gets': 11936, 'regorge': 23268, 'betclic': 2799, 'renverse': 23556, 'flambeau': 11017, 'agressif': 587, 'inimaginable': 13855, 'indemnisés': 13665, 'tenait': 27520, 'intenté': 14080, 'satirique': 25173, 'téléfoot': 28541, 'liquidation': 16222, 'jusquoù': 14876, 'iront': 14365, 'dépendance': 8997, 'rapporteur': 22890, 'mil': 17822, 'diminuer': 7711, 'drastiquement': 8308, 'sévèrement': 27278, 'kempf': 14981, 'narrête': 18775, 'armements': 1605, 'jongun': 14708, 'agatha': 533, 'christie': 4741, 'dupont': 8416, 'ligonnès': 16044, 'perquisition': 20560, 'tarbes': 27394, 'hurlant': 13131, 'spielberg': 26456, 'admin': 375, 'janssen': 14531, 'médicament': 18589, 'malheureusement': 17023, 'aménagement': 1060, 'alibaba': 788, 'tencent': 27522, 'émirats': 30370, 'foulée': 11294, 'survole': 27051, 'griezmann': 12276, 'signez': 25826, 'dévouement': 9281, 'vacanciers': 28782, 'détournent': 9221, 'mercedes': 17658, 'danseur': 6991, 'ab': 9, 'georgeslouis': 11916, 'bouchez': 3224, 'arnaque': 1624, 'shérif': 25777, 'comté': 5521, 'mehr': 17564, 'als': 915, 'villages': 29203, 'investissent': 14283, 'cruellement': 6571, 'distinguer': 7956, 'sonore': 26206, 'injonction': 13872, 'éditorial': 30229, 'retours': 23841, 'incertitudes': 13592, 'cholet': 4702, 'écouté': 30185, 'res': 23688, 'cnns': 5066, 'requête': 23685, 'cooperation': 6097, 'grasse': 12222, 'aggrave': 550, 'psoriasis': 22262, 'mondialiste': 18125, 'dimmigration': 7716, 'stricte': 26722, 'pierreantoine': 20769, 'yanis': 29927, 'vertige': 29058, 'décadence': 8536, 'revoit': 23924, 'bert': 2784, 'hilona': 12878, 'better': 2801, 'wedding': 29708, 'gift': 11968, 'novak': 19220, 'oli': 19555, 'envole': 9899, 'dactivité': 6837, 'disons': 7885, 'grêlé': 12346, 'investigations': 14276, 'menées': 17650, 'moves': 18364, 'ban': 2437, 'terrorist': 27607, 'braves': 3400, 'radicaux': 22746, 'influenceurs': 13806, 'occupent': 19449, 'linflation': 16146, 'pile': 20783, 'dadele': 6843, 'alter': 924, 'eco': 9320, 'ému': 30384, 'demie': 7265, 'éprouve': 30460, 'redoute': 23193, 'misérables': 17980, 'lg': 15896, 'chargement': 4481, 'magistrale': 16904, 'subventionné': 26810, 'euthanasie': 10129, 'cagnotte': 3774, 'puel': 22323, 'savoure': 25260, 'antimusulmans': 1302, 'vtc': 29552, 'taxis': 27441, 'toujours': 27981, 'poignante': 21086, 'babeau': 2327, 'kfc': 15002, 'nutriscore': 19300, 'larcher': 15431, 'frénésie': 11520, 'primes': 21609, 'aliénation': 817, 'arsenal': 1689, 'joseph': 14719, 'meaux': 17539, 'proxénétisme': 22033, 'aggravé': 552, 'êtres': 30666, 'cavill': 4196, 'craquez': 6427, 'inexorable': 13756, 'malin': 17033, 'insulter': 14044, 'éternels': 30539, 'pouces': 21378, 'qualif': 22538, 'injecte': 13867, 'tunnel': 28467, 'alignés': 797, 'alertent': 754, 'revalorisations': 23879, 'concernés': 5550, 'orbite': 19685, 'soi': 26094, 'conjugal': 5715, 'féminicide': 11630, 'colle': 5161, 'apologie': 1382, 'piquenique': 20827, 'laventure': 15578, 'essayer': 10021, 'larctique': 15435, 'fair': 10534, 'profondes': 21781, 'plein': 21002, 'doù': 8283, 'drake': 8294, 'gop': 12098, 'wish': 29819, 'traîner': 28255, 'ressort': 23750, 'rising': 24021, 'warner': 29658, 'éléphants': 30348, 'afriquefrance': 520, 'briefing': 3450, 'cook': 6089, 'rejettent': 23298, 'observateur': 19394, 'sabonner': 24827, 'foisci': 11127, 'traitant': 28113, 'collègue': 5197, 'repos': 23612, 'branche': 3372, 'francoaméricaine': 11393, 'salzburg': 25042, 'sieht': 25796, 'wattrelos': 29680, 'corsaires': 6195, 'texplique': 27638, 'enterré': 9797, 'creed': 6443, 'valhalla': 28848, 'démarchage': 8886, 'téléphonique': 28548, 'argument': 1583, 'squatteurs': 26534, 'damendes': 6923, 'soulèvement': 26314, 'cac40': 3741, 'poison': 21114, 'commet': 5343, 'remontées': 23420, 'mécaniques': 18544, 'devenait': 7481, 'manquements': 17146, 'contemporain': 5926, 'installée': 13995, 'essentiellement': 10030, 'textile': 27642, 'usages': 28731, 'nun': 19289, 'linz': 16214, 'lynché': 16658, 'pcf': 20397, 'collab': 5142, 'martyr': 17340, 'marseill': 17317, 'bardot': 2515, 'beaucoup': 2654, 'actrices': 313, 'tremblement': 28267, 'idriss': 13293, 'sihamedi': 25840, 'lanceur': 15331, 'rixe': 24062, 'relâchés': 23373, 'fallen': 10564, 'during': 8444, 'potentielles': 21364, 'casablanca': 4093, 'migra': 17805, 'walt': 29642, 'arrivées': 1666, 'multiplier': 18417, 'déception': 8554, 'kiberlain': 15017, 'housewives': 13058, 'atlanta': 1888, 'sets': 25646, 'cast': 4124, 'brevet': 3433, 'ananas': 1087, 'lebron': 15647, 'papys': 20032, 'lakers': 15273, 'allés': 890, 'politicienne': 21156, 'généralisée': 12499, 'équilibré': 30474, 'diététicienne': 8019, 'nourriture': 19198, 'confort': 5679, 'lucratif': 16567, 'masiero': 17367, 'por': 21239, 'contain': 5914, 'lautomobiliste': 15554, 'contrôlé': 6045, 'ole': 19552, 'prediction': 21512, 'statement': 26600, 'besoins': 2793, 'prémices': 22122, 'opus': 19661, 'parco': 20078, 'célibataires': 6769, 'rattraper': 22947, 'dissensions': 7933, 'hoaxbuster': 12921, 'dexpliquer': 7529, 'sétait': 27266, 'sortis': 26253, 'mères': 18539, 'abrini': 92, 'ccif': 4206, 'starmer': 26586, 'strain': 26688, 'abstentionnistes': 112, 'récompensé': 24446, 'serpent': 25608, 'drucker': 8364, 'tramways': 28132, 'championship': 4406, 'estimation': 10053, 'sachant': 24842, 'quasiment': 22568, 'refusés': 23245, 'légendaires': 16728, 'saintmalo': 24943, 'money': 18130, 'poulpes': 21389, 'conteneurs': 5932, 'justement': 14881, 'hilarante': 12870, 'allezvous': 846, 'féroé': 11646, 'fard': 10614, 'ruse': 24325, 'imp': 13441, 'dernie': 7362, 'inouï': 13911, 'relâche': 23369, 'brevets': 3434, 'obstacle': 19412, 'pier': 20765, 'inspirations': 13976, 'répandent': 24598, 'récup': 24455, 'morano': 18239, 'bistrots': 2942, 'églises': 30252, 'morel': 18252, 'convivialité': 6073, 'loses': 16476, 'manhattan': 17097, 'primary': 21604, 'inventions': 14259, 'paludisme': 19974, 'fallu': 10569, 'alerteitaliecoronavirus': 751, 'règlement': 24352, 'accompagnants': 165, 'handicap': 12668, 'rit': 24035, 'him': 12880, 'someone': 26170, 'triché': 28299, 'poulets': 21387, 'grégoire': 12342, 'اليوم': 30686, 'التعاليم': 30682, 'السيكولوجية': 30683, 'والروحية': 30699, 'marcus': 17216, 'traction': 28064, 'matignon': 17428, 'hivernal': 12913, 'nerf': 18894, 'pierreyves': 20773, 'rougeyron': 24204, 'oligarchie': 19556, 'chariot': 4492, 'barrières': 2535, 'appliquées': 1442, 'lenceinte': 15723, 'centr': 4272, 'rodolphe': 24112, 'parrain': 20166, 'panda': 19985, 'ridicules': 23976, 'désespérée': 9126, 'legault': 15686, 'ottawa': 19809, 'couler': 6256, 'résine': 24682, 'grossir': 12315, 'ennui': 9723, 'syrien': 27156, 'triche': 28296, 'guitariste': 12415, 'dultradroite': 8394, 'spéculation': 26527, 'échanges': 30089, 'saulxuressurmoselotte': 25202, 'pharma': 20681, 'immobilière': 13428, 'carcérale': 4012, 'cellule': 4236, 'utopie': 28774, 'privilège': 21661, 'constituent': 5867, 'azimuts': 2300, 'dit': 7971, 'pilier': 20785, 'indemnisé': 13664, 'class': 4951, 'inéluctable': 14325, 'riposte': 24012, 'agressent': 583, 'draguignan': 8292, 'lavez': 15581, 'offert': 19496, 'invitent': 14299, 'questionner': 22613, 'saintjunien': 24936, 'aubert': 2004, 'reconditionnés': 23093, 'redevance': 23172, 'marais': 17186, 'inculpation': 13652, 'repeint': 23585, 'slogan': 26000, 'imposture': 13498, 'menacés': 17601, 'commettre': 5344, 'lisbonne': 16234, 'puiser': 22327, 'bruits': 3529, 'bottes': 3215, 'galles': 11718, 'ousmane': 19839, 'atout': 1901, 'oslo': 19795, 'mascara': 17360, 'mccartney': 17513, 'conversation': 6060, 'nait': 18728, 'saintdiédesvosges': 24917, 'dobjets': 8035, 'soulevé': 26307, 'passions': 20286, 'voire': 29411, 'dole': 8098, 'contretemps': 6016, 'thématique': 27739, 'parles': 20147, 'bénéfices': 3693, 'daccueil': 6825, 'colomiers': 5218, 'emparer': 9541, 'deaths': 7152, 'eclipse': 9319, 'naïveté': 18861, 'enterrée': 9798, 'irl': 14354, 'convention': 6056, 'clou': 5035, 'démotions': 8942, 'interest': 14098, 'tasse': 27420, 'doublier': 8237, 'giving': 12013, 'barbie': 2507, 'payant': 20372, 'nara': 18761, 'ice': 13250, 'disease': 7878, 'créativité': 6605, 'piccard': 20752, 'sues': 26852, 'alleged': 831, 'milano': 17826, 'italiennes': 14444, 'sociologue': 26071, 'prêtres': 22242, 'assumer': 1827, 'prometteur': 21852, 'pédophiles': 22444, 'charlevillemézières': 4504, 'circuits': 4855, 'nouvellezélande': 19216, 'sincline': 25894, 'vanessa': 28890, 'spoilers': 26474, 'jugeant': 14806, 'doesn': 8070, 'exposes': 10364, 'saccager': 24836, 'retenues': 23814, 'antiracistes': 1314, 'acquitté': 275, 'coucher': 6242, 'sartène': 25160, 'franchi': 11378, 'fable': 10464, 'clusters': 5046, 'paradoxe': 20049, 'rapprochement': 22894, 'vendues': 28978, 'emporté': 9571, 'abloh': 56, 'edito': 9347, 'lapid': 15395, 'épreuves': 30458, 'mythiques': 18522, 'décryptées': 8702, 'essayant': 10018, 'explosions': 10344, 'conductrice': 5609, 'solutionnisme': 26157, 'technologique': 27475, 'inspiration4': 13975, 'contraindre': 5991, 'interroger': 14149, 'ha': 12566, 'opératoire': 19669, 'entrera': 9848, 'cy': 6723, 'ends': 9646, 'tomball': 27882, 'abstention': 111, 'élevée': 30304, 'avantage': 2210, 'sortants': 26242, 'lépante': 16784, 'conquérant': 5758, 'cottin': 6234, 'frida': 11473, 'sells': 25473, 'algorithmique': 777, 'generation': 11884, 'exposed': 10361, 'catalogne': 4142, 'répression': 24629, 'catalan': 4139, 'véritablement': 29604, 'conservative': 5794, 'push': 22378, 'ads': 431, 'atterrir': 1964, 'invitées': 14304, 'propager': 21894, 'séquiper': 27252, 'copain': 6111, 'remarquables': 23382, 'allocations': 859, 'familiales': 10584, 'opposé': 19642, 'absentéisme': 104, 'soigne': 26102, 'imaginez': 13391, 'brb': 3405, 'walking': 29632, 'storytelling': 26684, 'extradé': 10419, 'carrey': 4063, 'rings': 24004, 'space': 26412, 'junk': 14849, 'subway': 26813, 'own': 19898, 'elisabeth': 9445, 'borne': 3196, 'gand': 11744, 'optique': 19659, 'larrestation': 15457, 'lopposant': 16434, 'exploiter': 10327, 'paysages': 20385, 'rémiens': 24580, 'mettait': 17716, 'rimer': 23999, 'impacts': 13444, 'pressés': 21576, 'quiche': 22619, 'épargné': 30412, 'vante': 28897, 'utili': 28756, 'dolivier': 8099, 'aquitaine': 1519, 'disputer': 7924, 'symboles': 27120, 'convertis': 6066, 'potagers': 21356, 'imposition': 13493, 'méluche': 18622, 'putschistes': 22390, 'immigrants': 13417, 'troops': 28355, 'connaissons': 5729, 'sureau': 26983, 'philosophes': 20704, 'xviiie': 29910, 'bicot': 2835, 'incitent': 13602, 'damien': 6925, 'stylo': 26765, 'brégançon': 3558, 'lorganisation': 16450, 'dévoilement': 9269, 'armurière': 1613, 'khashoggi': 15010, 'toulousaine': 27987, 'sirène': 25943, 'pedophile': 20413, 'arrests': 1649, 'truffaut': 28404, 'dépressifs': 9051, 'affectée': 470, 'compos': 5465, 'freeman': 11449, 'artist': 1713, 'riley': 23996, 'bulletins': 3608, 'expérimente': 10400, 'bourget': 3295, 'vache': 28810, 'codeco': 5093, 'françafrique': 11407, 'mafieux': 16883, 'nes': 18897, 'levi': 15841, 'boycotter': 3348, 'vertueux': 29065, 'navalny': 18836, 'détendre': 9189, 'bizarre': 2949, 'roumanoff': 24216, 'connus': 5755, 'trait': 28111, 'rivals': 24046, 'ange': 1133, 'celtic': 4239, 'resume': 23798, 'april': 1507, 'vot': 29475, 'suppositoire': 26949, 'laccélération': 15170, 'toulon': 27984, 'aucun': 2011, 'économies': 30156, 'tomb': 27881, 'regrettent': 23273, 'soufflé': 26278, 'londonienne': 16407, 'semer': 25493, 'courgette': 6309, 'douces': 8244, 'saveurs': 25245, 'narrivera': 18774, 'wtf': 29879, 'coince': 5124, 'câble': 6752, 'usb': 28733, 'cassé': 4120, 'coquine': 6133, 'eminem': 9516, 'glisser': 12039, 'comte': 5519, 'cli': 4988, 'dartifices': 7044, 'virer': 29269, 'jessica': 14620, 'thivenin': 27701, 'métamorphosée': 18657, 'piece': 20761, 'edwige': 9356, 'discothèque': 7851, 'silencieuse': 25845, 'gag': 11682, 'résistent': 24690, 'ary': 1724, 'abittan': 53, 'virologue': 29278, 'tueurs': 28452, 'rites': 24036, 'maîtriser': 17502, 'maths': 17423, 'leuromillions': 15830, 'caricatures': 4033, 'appuyé': 1503, 'canadiens': 3889, 'entrepreneurs': 9841, 'risquée': 24033, 'prioritaire': 21634, 'stillwater': 26654, 'dégalité': 8795, 'amandine': 950, 'menteuse': 17635, 'golden': 12073, 'complice': 5435, 'mercury': 17669, 'gothique': 12114, 'légaliser': 16723, 'poignard': 21088, 'microbiote': 17780, 'intestinal': 14176, 'annulation': 1224, 'sacrifie': 24854, 'fraternité': 11425, 'réhabilite': 24555, 'gayfriendly': 11843, 'universe': 28674, 'informatique': 13820, 'canettes': 3922, 'wallon': 29637, 'dakar': 6882, 'sarthois': 25157, 'connaissait': 5723, 'décrire': 8684, 'below': 2728, 'raquel': 22900, 'garrido': 11795, 'séminaire': 27221, 'loger': 16365, 'goal': 12061, 'dépistages': 9009, 'bigard': 2865, 'émergence': 30354, 'intégral': 14214, 'immobilières': 13429, 'enseignes': 9765, 'supports': 26946, 'illusions': 13358, 'perdues': 20515, 'figurent': 10871, 'peloton': 20433, 'entrées': 9863, 'derrière': 7371, 'communications': 5368, 'fout': 11325, 'halte': 12647, 'réellement': 24486, 'bénéficié': 3702, 'dachat': 6829, 'révision': 24757, 'votée': 29493, 'détriment': 9231, 'fukushima': 11550, 'stranded': 26689, 'whale': 29749, 'energie': 9650, 'environnemental': 9883, 'méthanisation': 18663, 'ukrainien': 28612, 'vocation': 29387, 'vidéastes': 29136, 'ingénieure': 13845, 'sociét': 26075, 'votreargentfr': 29491, 'gates': 11815, 'prenons': 21544, 'infinie': 13786, 'variété': 28916, 'digne': 7683, 'fumées': 11564, 'libido': 15965, 'bouc': 3217, 'émissaire': 30373, 'klaus': 15065, 'schwab': 25319, 'australiens': 2104, 'combattu': 5271, 'rice': 23963, 'catastrophiques': 4148, 'targeted': 27401, 'créatures': 6609, 'lentement': 15753, 'atteignent': 1928, 'groupuscule': 12329, 'vélodrome': 29587, 'aventurier': 2227, 'dressing': 8323, 'veste': 29071, 'intérieure': 14238, 'sunday': 26913, 'families': 10587, 'météorologiques': 18685, 'extrêmes': 10439, 'hystérie': 13173, 'causes': 4179, 'lactalis': 15181, 'surfaces': 26990, 'sévères': 27279, 'persona': 20577, 'grata': 12225, 'déménagement': 8945, 'book': 3164, 'commandes': 5306, 'modernisation': 18041, 'aminata': 1012, 'diallo': 7602, 'vêtement': 29612, 'rétréci': 24722, 'lavage': 15564, 'unef': 28644, 'tissu': 27829, 'ledger': 15669, 'sécurisé': 27188, 'donnes': 8154, 'transaction': 28146, 'rescue': 23693, 'operation': 19621, 'soccer': 26048, 'revirement': 23914, 'editos': 9350, 'brillante': 3460, 'audacieuse': 2014, 'brèves': 3557, 'comptoir': 5508, 'pot': 21353, 'entends': 9786, 'wow': 29868, 'incredibly': 13648, 'ressa': 23733, 'muratov': 18438, 'zurück': 30049, 'tombez': 27888, 'étage': 30508, 'mortalité': 18268, 'célarié': 6765, 'musées': 18484, 'expos': 10358, 'admirer': 389, 'astronautes': 1858, 'confirmer': 5655, 'doublage': 8232, 'masquer': 17373, 'likes': 16051, 'publications': 22297, 'improbable': 13519, 'déménager': 8946, 'illierscombray': 13348, 'tenezvous': 27535, 'forêts': 11270, 'rochers': 24098, 'losc': 16472, 'monter': 18181, 'pollutions': 21184, 'pollué': 21185, 'swiss': 27107, 'sig': 25801, 'mm': 18002, 'probables': 21683, 'vices': 29107, 'diminution': 7712, 'relativiser': 23329, 'dupe': 8409, 'cf': 4343, 'goélands': 12163, 'tirage': 27811, 'alfred': 773, 'corrigée': 6187, 'chariots': 4493, 'supérieures': 26972, 'dvd': 8463, 'groupement': 12326, 'elbeuf': 9425, 'transférer': 28168, 'herrou': 12835, 'ladolescente': 15202, 'naples': 18755, 'toboggan': 27854, 'livrées': 16296, 'matisse': 17436, 'nikkei': 19000, 'prenaient': 21529, 'superman': 26924, 'river': 24050, 'published': 22312, 'ft': 11532, 'saturday': 25190, 'october': 19463, 'meurtheetmoselle': 17737, 'ramené': 22816, 'déposés': 9043, 'détruite': 9236, 'bouchon': 3225, 'chroniqueuse': 4756, 'tgi': 27649, 'assa': 1762, 'raufer': 22954, 'mauritanie': 17465, 'dés': 9103, 'sélectionné': 27214, 'vaincre': 28823, 'islamogauchisme': 14395, 'edward': 9355, 'mesuré': 17707, 'lego': 15693, 'burkina': 3627, 'faso': 10635, 'respectons': 23713, 'directives': 7817, 'bodins': 3088, 'african': 518, 'list': 16249, 'généreuses': 12507, 'marilyn': 17249, 'monroe': 18145, 'transactions': 28147, 'want': 29647, 'ian': 13239, 'sainement': 24903, 'elsa': 9462, 'bélarus': 3684, 'minsk': 17929, 'sempare': 25499, 'instances': 13999, 'cuisse': 6657, 'clandestine': 4926, 'logiciels': 16368, 'marwan': 17347, 'muhammad': 18399, 'dinstagram': 7760, 'chalonsursaône': 4380, 'profond': 21779, 'épicentre': 30422, 'extraits': 10423, 'european': 10113, 'environment': 9880, 'adulte': 433, 'endless': 9634, 'normandie': 19138, 'inedit': 13749, 'oas': 19361, 'connue': 5753, 'antioxydant': 1303, 'abîmer': 128, 'souhaitant': 26291, 'guider': 12389, 'conso': 5826, 'lépine': 16789, 'basse': 2566, 'reculé': 23161, 'engage': 9681, 'dgse': 7544, 'comprennent': 5485, 'g7': 11663, 'boutons': 3326, 'meurtrière': 17744, 'réunit': 24735, 'ext': 10406, 'alcoolisé': 736, 'chiot': 4667, 'trottinette': 28363, 'paracétamol': 20041, 'lyme': 16654, 'tiques': 27809, 'hirsch': 12887, 'christiane': 4738, 'lambert': 15299, 'fnsea': 11116, 'sensibiliser': 25527, 'érige': 30492, 'very': 29069, 'interesting': 14099, 'sat': 25166, 'aug': 2037, 'paper': 20021, 'provisoirement': 22017, 'flop': 11074, 'pailles': 19941, 'couverts': 6350, 'seratelle': 25576, 'lexministre': 15863, 'âne': 30064, 'slovène': 26003, 'coûteront': 6391, 'redevenu': 23174, 'inoffensif': 13902, 'provient': 22013, 'substance': 26802, 'hamon': 12660, 'imaginent': 13389, 'pmu': 21066, 'haie': 12617, 'accru': 204, 'réinfection': 24559, 'biotech': 2915, 'target': 27400, 'légèreté': 16755, 'adresses': 425, 'neuvilleenferrain': 18932, 'laxiste': 15607, 'officielles': 19512, 'dintelligence': 7765, 'publicitaire': 22298, 'biélorussopolonaise': 2957, 'suspectés': 27072, 'concurrencer': 5580, 'vr': 29539, 'quemmanuel': 22597, 'prési': 22179, 'personne': 20588, 'estivales': 10062, 'abaisse': 11, 'demprisonnement': 7287, 'bigger': 2866, 'turning': 28479, 'nogentlerotrou': 19051, 'perche': 20493, 'souvre': 26400, 'sousestimé': 26351, 'aluminium': 934, 'réécoutez': 24794, 'butin': 3652, 'ouragan': 19834, 'ida': 13265, 'révélées': 24790, 'billie': 2888, 'eilish': 9413, 'antiavortement': 1258, 'retards': 23809, 'bannir': 2473, 'végétaux': 29582, 'lattaquant': 15511, 'persécution': 20601, 'aix': 685, 'fleur': 11044, 'déterminés': 9205, 'vu': 29554, 'désobéissance': 9148, 'perturbations': 20613, 'dorment': 8197, 'entretient': 9856, 'mandats': 17079, 'calm': 3819, 'fears': 10715, 'threatening': 27716, 'loutremer': 16519, 'organi': 19721, 'inaugurée': 13563, 'lain': 15247, 'inoubliable': 13910, 'granville': 12214, 'oz': 19907, 'parachute': 20039, 'ralentir': 22791, 'vandalisme': 28884, 'permanences': 20535, 'destelle': 7421, 'ardennes': 1566, 'powerful': 21470, 'americans': 999, 'péril': 22477, 'voltige': 29452, 'eve': 10137, 'recommandation': 23079, 'distanciel': 7953, 'dim': 7699, 'troublantes': 28370, 'oeuvres': 19484, 'subventionner': 26809, 'gardien': 11779, 'rempli': 23442, 'graffiti': 12179, 'pompéi': 21211, 'préfète': 22098, 'radars': 22729, 'puts': 22388, 'sick': 25784, 'jugent': 14809, 'corrompue': 6189, 'présumée': 22199, 'flan': 11029, 'pornographie': 21249, 'revit': 23919, 'sco': 25343, 'saintemarguerite': 24919, 'athlétisme': 1884, 'months': 18188, 'grab': 12174, 'lidéologie': 16015, 'ala': 704, 'giscard': 12004, 'sampaoli': 25059, 'accroché': 198, 'cul': 6663, 'soutient': 26384, 'scarlett': 25293, 'johansson': 14681, 'conclusions': 5564, 'clercs': 4982, 'télémédecine': 28544, 'améliore': 1056, 'lespérance': 15798, 'motive': 18308, 'autrichien': 2177, 'démissionné': 8912, 'pressé': 21575, 'stabilise': 26549, 'fouiller': 11288, 'dandré': 6947, 'citoyenneté': 4886, 'biométriques': 2911, 'giorgio': 11987, 'agamben': 532, 'johann': 14679, 'cabaret': 3733, 'pakistanais': 19954, 'exposants': 10359, 'connues': 5754, 'jose': 14716, 'définit': 8776, 'dexemplaires': 7523, 'blunt': 3061, 'nolan': 19063, 'murphy': 18446, 'commen': 5313, 'pourraton': 21414, 'victoires': 29119, 'chelem': 4574, 'sacheter': 24844, 'amitiés': 1019, 'aspire': 1758, 'abordable': 76, 'désirable': 9143, 'zèle': 30052, 'évreux': 30653, 'comprise': 5489, 'sudafricaine': 26839, 'prévision': 22225, 'bouleversement': 3268, 'braises': 3370, 'true': 28403, 'boule': 3257, 'municipales': 18427, 'poursuivis': 21433, 'positives': 21316, 'sign': 25803, 'quêtre': 22669, 'lallemand': 15281, 'laméricain': 15318, 'cessation': 4323, 'chantait': 4436, 'arcachon': 1538, 'portevoix': 21282, 'sentiments': 25549, 'mamers': 17057, 'ivresse': 14466, 'mord': 18246, 'gelées': 11874, 'fenêtre': 10750, 'décevant': 8557, 'caunes': 4172, 'retirée': 23823, 'référence': 24509, 'souffert': 26275, 'boulangers': 3256, 'ouvrent': 19872, 'raffarin': 22757, 'communistes': 5377, 'avertit': 2236, 'ransomware': 22845, 'fabriqué': 10473, 'veolia': 29001, 'radical': 22737, 'racines': 22704, 'héritages': 13202, 'foundation': 11297, 'gosling': 12108, 'refont': 23219, 'obsession': 19407, 'horribles': 13016, 'déposent': 9037, 'symboliquement': 27122, 'matraques': 17441, 'frank': 11400, 'obituary': 19367, 'ballade': 2421, 'exoplanète': 10281, 'wifi': 29779, 'connexions': 5749, 'précieux': 22056, 'réussites': 24743, 'nuance': 19255, 'réussissent': 24740, 'permanente': 20537, 'laser': 15473, 'médicis': 18592, 'hétéros': 13221, 'exil': 10260, 'daddy': 6842, 'pointent': 21102, 'lacunes': 15192, 'referme': 23213, 'enfermé': 9662, 'doj': 8093, 'contempt': 5929, 'committee': 5353, 'larguer': 15445, 'sagissait': 24889, 'slovénie': 26004, 'af': 454, 'ingrédient': 13841, 'hahahaha': 12616, 'glacé': 12023, 'bercé': 2761, 'manifesté': 17117, 'daudience': 7084, 'depu': 7351, 'chrono': 4757, 'porticcio': 21284, 'gasly': 11801, 'wegen': 29719, 'vivez': 29373, 'chatons': 4531, 'attractions': 1984, 'topito': 27917, 'entendait': 9781, 'repousser': 23619, 'pluvieuse': 21058, 'défiler': 8771, 'drawing': 8311, 'southwest': 26378, 'censurée': 4256, 'ravier': 22963, 'nuire': 19268, 'daide': 6869, 'interminable': 14105, 'allonsnous': 865, 'algorithmes': 776, 'refuser': 23238, 'whistleblower': 29762, 'presidents': 21561, 'pedophiles': 20414, 'ronald': 24163, 'reagan': 23003, 'truffe': 28405, 'nommés': 19086, 'favoris': 10687, 'serial': 25592, 'daughter': 7086, 'drug': 8365, 'overdose': 19888, 'okay': 19544, 'cant': 3937, 'throw': 27726, 'silences': 25844, 'léruption': 16801, 'dhabitants': 7548, 'soussol': 26357, 'yen': 29947, 'sags': 24895, 'hawk': 12760, 'enfouis': 9676, 'tshirts': 28430, 'coopérative': 6099, 'régaler': 24519, 'solidarités': 26139, 'foutu': 11329, 'restaurateur': 23766, 'infraction': 13831, 'ta': 27291, 'sollicite': 26146, 'pluvieux': 21059, 'nappes': 18759, 'sécheresse': 27180, 'veau': 28940, 'gone': 12085, 'growth': 12333, 'loterie': 16483, 'rompu': 24159, 'valise': 28858, 'lâchée': 16678, 'dinternet': 7769, 'rudd': 24280, 'peoples': 20484, 'alive': 814, 'ères': 30070, 'retiré': 23822, 'préservatif': 22173, 'insu': 14037, 'paraissent': 20052, 'iraqi': 14350, 'armed': 1602, 'proj': 21813, 'jayz': 14565, 'joins': 14690, 'beyoncé': 2810, 'éponge': 30446, 'composée': 5476, 'descendants': 7376, 'mocked': 18029, 'fée': 11620, 'incontestablement': 13638, 'bouteilles': 3321, 'cancérogène': 3907, 'remercions': 23401, 'antique': 1308, 'séri': 27254, 'circulé': 4864, 'cabine': 3735, 'boyfriend': 3350, 'profils': 21766, 'agresseurs': 586, 'meute': 17747, 'solomon': 26153, 'debuts': 7163, 'cherry': 4607, 'xiaomi': 29892, 'renvoyé': 23564, 'antidote': 1281, 'égayer': 30250, 'dimpayés': 7719, 'léviction': 16821, 'lci': 15619, 'feuilles': 10812, 'battant': 2598, 'ct': 6639, 'daffirmer': 6856, 'proportion': 21905, 'defense': 7190, 'kings': 15047, 'upset': 28699, 'durs': 8446, 'externes': 10413, 'sauvegarder': 25220, 'fdo': 10711, 'foncé': 11154, 'doptique': 8177, 'fleurylesaubrais': 11052, 'fnac': 11115, 'quelle': 22589, 'discord': 7849, 'jouets': 14737, 'cheminée': 4583, 'effondrée': 9388, 'échangés': 30092, 'refonte': 23220, 'skype': 25982, 'fonderie': 11173, 'apprête': 1496, 'pleinement': 21004, 'sagesfemmes': 24886, 'reconnues': 23114, 'doitelle': 8089, 'gothiques': 12115, 'beats': 2649, 'excellents': 10183, 'écouteurs': 30183, 'possession': 21319, 'ascension': 1731, 'compt': 5494, 'urnes': 28723, 'répu': 24632, 'squale': 26529, 'roumanie': 24215, 'garanti': 11758, 'mertens': 17678, 'gov': 12156, 'abbott': 35, 'élites': 30323, 'australia': 2099, 'decades': 7166, 'bella': 2716, 'multitude': 18421, 'circule': 4861, 'déserts': 9121, 'dramatiques': 8299, 'juridiques': 14861, 'cubaine': 6643, 'exiger': 10257, 'éprouver': 30462, 'nails': 18717, 'loyer': 16537, 'respecte': 23709, 'journa': 14751, 'déstabiliser': 9158, 'balzac': 2431, 'complètes': 5453, 'kilomètres': 15038, 'paré': 20242, 'nébuleuse': 19312, 'abords': 80, 'hugues': 13081, 'chèque': 4789, 'familia': 10581, 'cinglé': 4834, 'relevés': 23350, 'impressionner': 13509, 'vedettes': 28945, 'extensions': 10411, 'independence': 13668, 'referendum': 23212, 'lexpérimentation': 15882, 'thérapeutique': 27748, 'pair': 19947, 'conservation': 5792, 'causalité': 4174, 'légaux': 16726, 'décrypte': 8698, 'écrivains': 30205, 'intranquilles': 14198, 'marchal': 17200, 'gangster': 11748, 'notamment': 19164, 'sul': 26903, 'skieurs': 25971, 'lou': 16489, 'crevé': 6456, 'isolation': 14410, 'invit': 14294, 'hubble': 13075, 'webb': 29701, 'orientations': 19750, 'humaniste': 13098, 'passionnés': 20285, 'joris': 14715, 'belleville': 2724, 'play': 20980, 'lenfer': 15731, 'couronnée': 6314, 'laisserai': 15258, 'constaté': 5858, 'négligence': 19331, 'prévenue': 22220, 'plaidé': 20912, 'spécialisés': 26518, 'trompez': 28349, 'mental': 17625, 'mélange': 18614, 'séquelles': 27245, 'extradition': 10418, 'omc': 19579, 'ocde': 19457, 'celuici': 4243, 'jacquesvabre': 14489, 'summum': 26911, 'intimité': 14183, 'proférées': 21787, 'lattribution': 15519, 'goulard': 12123, 'bretonne': 3430, 'militantes': 17842, 'alizée': 816, 'léchelle': 16693, 'almodovar': 892, 'affranchir': 497, 'cambriolage': 3841, 'immunité': 13437, 'acquise': 270, 'rockets': 24104, 'progress': 21797, 'practice': 21485, 'pétrolière': 22501, 'posture': 21344, 'konbini': 15095, 'shalmani': 25706, 'démarrent': 8892, 'rolex': 24134, 'supporte': 26939, 'toubiana': 27959, 'fusées': 11595, 'réutilisables': 24745, 'marquent': 17295, 'spatiaux': 26426, 'vitesses': 29349, 'dinondations': 7753, 'déterminé': 9203, 'limitation': 16078, 'casper': 4105, 'ruud': 24340, 'grimpe': 12290, 'atp': 1903, 'roger': 24119, 'koh': 15089, 'lanta': 15373, 'description': 7383, 'décou': 8659, 'streamer': 26706, 'wc': 29691, 'succombe': 26822, 'manosque': 17141, 'pie': 20760, 'taché': 27309, 'poussent': 21441, 'remédier': 23458, 'auta': 2109, 'régner': 24540, 'enfouissement': 9677, 'suicider': 26878, 'consequences': 5789, 'billionaire': 2890, 'stole': 26666, 'spécimen': 26525, 'araignée': 1526, 'astrid': 1851, 'autonomie': 2146, 'blaming': 2977, 'panic': 19994, 'she': 25721, 'serious': 25601, 'faculté': 10514, 'dentaire': 7319, 'bonneau': 3155, 'vérifie': 29598, 'détective': 9182, 'gars': 11796, 'estate': 10042, 'rationalité': 22940, 'pactole': 19925, 'kavanaugh': 14962, 'stains': 26564, 'nordine': 19117, 'régiment': 24524, 'engins': 9699, 'spectaculaires': 26439, 'sami': 25055, 'grégory': 12343, 'vosges': 29472, 'chief': 4631, 'admits': 394, 'failure': 10531, 'circo': 4850, 'fatalité': 10645, 'snapchat': 26026, 'sofia': 26089, 'épinglés': 30439, 'trav': 28222, 'hébergement': 13180, 'fit': 10992, 'marguerite': 17228, 'durables': 8425, 'sacrifiés': 24858, 'urss': 28724, 'envolée': 9903, 'échapper': 30097, 'rituels': 24040, 'geographic': 11911, 'réfugiée': 24506, 'etc': 10076, 'poverty': 21467, 'tuesday': 28449, 'hailey': 12620, 'morning': 18260, 'gr': 12171, 'robinson': 24084, 'prévenus': 22221, 'sains': 24905, 'acceptation': 145, 'nor': 19110, 'contribution': 6024, 'chanel': 4418, 'cn': 5062, 'digues': 7688, 'sénégalaise': 27231, 'ravin': 22964, 'coiffe': 5117, 'paient': 19937, 'chaleurs': 4372, 'militent': 17847, 'celu': 4241, 'remarquer': 23384, 'user': 28738, 'sculpteur': 25373, 'envahit': 9872, 'gourmands': 12130, 'délice': 8843, 'boston': 3207, 'prions': 21632, 'rh': 23947, 'villani': 29204, 'bambini': 2435, 'essaient': 10014, 'break': 3408, 'répété': 24648, 'slate': 25989, 'bourdon': 3288, 'granby': 12192, 'depeche': 7344, 'enquêteurs': 9739, 'blackrock': 2967, 'unies': 28650, 'constatent': 5855, 'connectées': 5744, 'bain': 2387, 'domination': 8120, 'dépassés': 8992, 'élever': 30300, 'baskets': 2562, 'solde': 26128, 'andrieu': 1121, 'bouclier': 3231, 'avaient': 2191, 'cs': 6632, 'patrouille': 20346, 'shipping': 25739, 'deploys': 7346, 'near': 18870, 'lautorité': 15558, 'encadrement': 9594, 'preynat': 21592, 'positionnement': 21312, 'stefan': 26629, 'toulet': 27983, 'guitare': 12413, 'crus': 6576, 'lanvin': 15385, 'delivers': 7222, 'supporting': 26945, 'lagarde': 15224, 'clairement': 4917, 'proposés': 21925, 'prévus': 22235, 'selon': 25475, 'cartonne': 4083, 'interrogés': 14153, 'thales': 27653, 'satellites': 25171, 'galileo': 11715, 'chalet': 4368, 'mutation': 18488, 'vœux': 29615, 'nie': 18985, 'compl': 5423, 'géniales': 12477, 'admis': 391, 'juste': 14880, 'seniors': 25518, 'aïe': 2322, 'apathie': 1365, 'charline': 4506, 'vanhoenacker': 28892, 'idiots': 13290, 'utiles': 28755, 'rightwing': 23989, 'hire': 12886, 'straight': 26687, 'producers': 21731, 'sajid': 24976, 'javid': 14560, 'insists': 13959, 'curbs': 6696, 'montgeron': 18184, 'lynchage': 16656, 'casier': 4102, 'kaïs': 14968, 'institutionnel': 14023, 'camoufler': 3860, 'guéant': 12433, 'melinda': 17576, 'subventionne': 26808, 'lexpress': 15877, 'retenu': 23812, 'lâcheté': 16676, 'quarts': 22566, 'linternaute': 16186, 'tavernier': 27434, 'fuyant': 11603, 'genres': 11896, 'intègre': 14211, 'ajoutons': 696, 'misogynes': 17963, 'diffusés': 7671, 'saintchamond': 24913, 'eindhoven': 9415, 'agendas': 543, 'itw': 14453, 'lambassade': 15295, 'envoy': 9904, 'parait': 20053, 'attentif': 1960, 'head': 12782, 'start': 26590, 'wait': 29622, 'thats': 27662, 'loupe': 16507, 'experte': 10296, 'advisers': 445, 'pfizers': 20674, 'pastor': 20303, 'lintégrité': 16200, 'mutilations': 18491, 'dfco': 7541, 'coulibaly': 6259, 'dégringole': 8807, 'valider': 28852, 'ennuyeux': 9726, 'commercialisation': 5337, 'rougeole': 24202, 'animaleries': 1162, 'cirques': 4867, 'cuisines': 6654, 'vingtcinq': 29226, 'agircarrco': 557, 'jusquaux': 14872, 'seulement': 25655, 'possèdent': 21326, 'umbrella': 28630, 'academy': 131, 'portant': 21263, 'réalisées': 24396, 'rodéo': 24116, 'planté': 20953, 'elf': 9439, 'voyais': 29526, 'ap': 1355, 'raconté': 22724, 'sansabri': 25106, 'défavorable': 8736, 'jsl': 14786, 'saône': 25273, 'affi': 472, 'démographique': 8926, 'souscrire': 26349, 'néolibéralisme': 19347, 'commu': 5355, 'démarrage': 8890, 'corsematin': 6198, 'changeant': 4420, 'delacroix': 7205, 'aigle': 638, 'caoutchouc': 3948, 'relocaliser': 23364, 'relatif': 23323, 'accessibles': 153, 'classés': 4965, 'maryse': 17354, 'questionne': 22612, 'verser': 29043, 'certifié': 4316, 'platine': 20975, 'salopards': 25023, 'réelle': 24485, 'appelant': 1416, 'progressé': 21808, 'lara': 15423, 'bpost': 3355, 'horssol': 13025, 'jambon': 14519, 'sentretient': 25555, 'barcelone': 2512, 'puigdemont': 22325, 'essential': 10027, 'supported': 26940, 'german': 11921, 'derreur': 7370, 'vieilles': 29145, 'percutant': 20495, 'passionnant': 20279, 'parité': 20126, 'approchent': 1470, 'tackle': 27310, 'inacceptables': 13545, 'partagent': 20175, 'pilotée': 20797, 'sindigne': 25900, 'établie': 30502, 'cestàdire': 4332, 'présidée': 22196, 'compteurs': 5506, 'considered': 5804, 'portugais': 21293, 'naturels': 18817, 'déloger': 8869, 'efficacement': 9380, 'assise': 1792, 'dinterdire': 7767, 'taddeï': 27319, 'vestiaire': 29073, 'dise': 7877, 'cybersécurité': 6731, 'éclipse': 30137, 'lunaire': 16598, 'ferrand': 10785, 'magnifiquement': 16913, 'lactrice': 15187, 'sanders': 25081, 'arkansas': 1593, 'congressional': 5703, 'manquerait': 17149, 'corrompu': 6188, 'petitfils': 20648, 'délecteurs': 8835, 'deutsche': 7461, 'österreich': 30671, 'rentrait': 23547, 'prairie': 21490, 'illustré': 13369, 'paysans': 20388, 'rejetés': 23301, 'amal': 945, 'allan': 827, 'melvin': 17582, 'jenny': 14608, 'témoignent': 28575, 'documen': 8055, 'dégrade': 8800, 'jeanne': 14589, 'darc': 7018, 'flowers': 11097, 'monsanto': 18147, 'canaris': 3896, 'toimême': 27865, 'achètent': 260, 'lisent': 16236, 'gendarme': 11876, 'missing': 17969, 'sakharov': 24977, 'alexeï': 769, 'evergrande': 10144, 'numérisation': 19286, 'trompent': 28343, 'dinstallation': 7761, 'financiers': 10933, 'inondent': 13906, 'récupération': 24457, 'strikes': 26725, 'nationaliste': 18801, 'grue': 12334, 'fondatrice': 11167, 'ruine': 24294, 'empereur': 9546, 'diane': 7612, 'bec': 2675, 'pédagogique': 22434, 'chinas': 4661, 'jinping': 14656, 'menacées': 17600, 'prothèse': 21971, 'ursula': 28725, 'alan': 708, 'ourson': 19838, 'raids': 22768, 'seffondre': 25448, 'dordogne': 8182, 'edgar': 9343, 'accessoires': 155, 'automnehiver': 2139, 'gastro': 11810, 'incertain': 13588, 'gilet': 11980, 'lagresseur': 15232, 'chirurgicaux': 4675, 'linternational': 16185, 'incroyablement': 13650, 'mâconnais': 18531, 'offres': 19521, 'précoces': 22070, 'loffice': 16357, 'apocalyptique': 1378, 'rob': 24072, 'entourant': 9815, 'césar': 6790, 'secrètes': 25423, 'acide': 262, 'expliquées': 10317, 'demisiècle': 7272, 'rayures': 22981, 'tigres': 27778, 'gagnera': 11693, 'causa': 4173, 'lars': 15463, 'lembarras': 15708, 'dépénalisation': 9063, 'neues': 18919, 'halt': 12646, 'franchit': 11382, 'directes': 7811, 'galaxy': 11709, 'héritier': 13203, 'voulaient': 29500, 'colonie': 5225, 'dorganes': 8186, 'organes': 19720, 'forcés': 11218, 'chin': 4659, 'lina': 16113, 'enquêter': 9736, 'traversent': 28246, 'contribuable': 6018, 'vues': 29556, 'loccupation': 16345, 'essaye': 10019, 'déconseillé': 8646, 'élargi': 30271, 'durci': 8429, 'trè': 28420, 'visées': 29336, 'sattendait': 25185, 'scénaristes': 25381, 'avengers': 2222, 'wespiser': 29744, 'giflé': 11967, 'indicateur': 13676, 'covoiturage': 6373, 'xix': 29899, 'montmartre': 18191, 'épinglé': 30436, 'singes': 25907, 'évoquait': 30645, 'labo': 15143, 'cio': 4845, 'auraton': 2076, 'multipliés': 18419, 'détour': 9217, 'jovanovic': 14775, 'haftar': 12613, 'israëlpalestine': 14427, 'attendait': 1942, 'baptême': 2490, 'berger': 2763, 'contenir': 5933, 'modes': 18045, 'mercure': 17668, 'plébiscité': 21060, 'autistes': 2124, 'reynié': 23934, 'poster': 21336, 'tuche': 28441, 'pontàmousson': 21219, 'alerter': 755, 'génocidaire': 12482, 'rappelons': 22878, 'loffensive': 16356, 'pin': 20801, 'hillary': 12876, 'hébreu': 13187, 'stew': 26645, 'écossais': 30170, 'douglas': 8250, 'stuart': 26739, 'booker': 3165, 'éd': 30215, 'celebrate': 4221, 'mystérieuse': 18514, 'fruit': 11511, 'garçons': 11799, 'souffrez': 26285, 'led': 15668, 'ancient': 1104, 'sables': 24824, 'pharaonique': 20678, 'bachar': 2337, 'doublé': 8239, 'quatuor': 22573, 'dacrimed': 6832, 'malik': 17031, 'monoprix': 18143, 'taime': 27339, 'vedovelli': 28946, 'traduire': 28082, 'sociales': 26058, 'forest': 11223, 'fabienne': 10461, 'cadres': 3765, 'option': 19657, 'selfie': 25466, 'gav': 11838, 'croyants': 6553, 'pratiquants': 21497, 'canon': 3935, 'dépossession': 9039, 'compliments': 5439, 'tendres': 27528, 'réglé': 24539, 'cfa': 4344, 'homophobie': 12967, 'approved': 1486, 'durham': 8443, 'allusion': 875, 'jules': 14829, 'denquêter': 7310, 'footballeuses': 11199, 'culotte': 6667, 'talk': 27362, 'implique': 13467, 'émet': 30358, 'dauphins': 7093, 'pêcher': 22507, 'ema': 9470, 'kinder': 15044, 'growing': 12331, 'rempart': 23429, 'dheure': 7555, 'réalités': 24399, 'analyser': 1081, 'contributions': 6025, 'tortues': 27939, 'habit': 12578, 'mick': 17775, 'quietly': 22623, 'réveillé': 24754, 'assourdissant': 1824, 'chi': 4622, 'tigre': 27777, 'guevara': 12382, 'exact': 10162, 'antiviral': 1332, 'positivité': 21317, 'jeanchristophe': 14574, 'pots': 21372, 'monnet': 18139, 'bernadette': 2774, 'picard': 20748, 'medias': 17548, 'bourdin': 3287, 'séquence': 27246, 'éditoriale': 30230, 'lidentité': 16012, 'jaurès': 14558, 'lintimité': 16193, 'éditorialiste': 30231, 'déceler': 8549, 'expédition': 10392, 'prozemmour': 22034, 'mails': 16937, 'dimportantes': 7720, 'clima': 5001, 'obono': 19387, 'indigènes': 13695, 'soumise': 26320, 'tem': 27499, 'séduisent': 27198, 'fusillades': 11587, 'kits': 15060, 'lagriculture': 15234, 'khamenei': 15006, 'usé': 28746, 'confrontée': 5687, 'indigné': 13692, 'cinéaste': 4837, 'durcit': 8434, 'normes': 19142, 'refusing': 23241, 'lose': 16474, 'tantôt': 27382, 'consi': 5802, 'auditeurs': 2029, 'journalopes': 14763, 'souligner': 26310, 'affirmait': 483, 'barbarians': 2500, 'offices': 19502, 'trading': 28072, 'reconstitution': 23119, 'grandeur': 12200, 'zem': 30010, 'slip': 25997, 'fugueuse': 11541, 'livg': 16282, 'irish': 14353, 'abîme': 127, 'ignore': 13317, 'transmissible': 28187, 'urgente': 28713, 'conduite': 5615, 'honorable': 12987, 'pleins': 21006, 'mythe': 18519, 'dépassée': 8991, 'rebelle': 23014, 'contourner': 5974, 'enveloppe': 9873, 'aurais': 2070, 'fav': 10681, 'iss': 14428, 'survenus': 27035, 'sahel': 24897, 'barkhane': 2518, 'antiputsch': 1307, 'raclette': 22713, 'intimidations': 14181, 'torres': 27933, 'diplôme': 7797, 'doctorat': 8051, 'nié': 19031, 'lotan': 16482, 'distanciation': 7952, 'lobbying': 16317, 'sexprimer': 25682, 'engagée': 9689, 'faciliter': 10496, 'ouverte': 19862, 'guilluy': 12403, 'corses': 6199, 'hante': 12683, 'périphérique': 22485, 'sonné': 26204, 'paqueta': 20035, 'psychiatrique': 22269, 'bluffante': 3059, 'sourd': 26339, 'dorsay': 8203, 'dexploitation': 7530, 'chambord': 4386, 'issus': 14433, 'détectives': 9183, 'a89': 5, 'prier': 21599, 'affecter': 466, 'individuelles': 13711, 'pourboire': 21398, 'arnm': 1629, 'brutale': 3542, 'inst': 13985, 'danniversaire': 6975, 'residents': 23700, 'aurait': 2071, 'généreux': 12508, 'panoplie': 20004, 'jimagine': 14654, 'obligés': 19386, 'algérien': 781, 'trentenaire': 28278, 'marks': 17276, 'sadapte': 24865, 'musical': 18462, 'stéréotypes': 26778, 'clivage': 5020, 'errant': 9946, 'siestes': 25799, 'pirater': 20837, 'accéléré': 240, 'lund': 16601, 'durante': 8427, 'diretta': 7823, 'sono': 26205, 'tralala': 28127, 'budapest': 3581, 'orban': 19682, 'manon': 17140, 'brunet': 3535, 'arracher': 1637, 'bronze': 3508, 'hongroise': 12979, 'transmettent': 28182, 'agissait': 558, 'chastain': 4528, 'certitude': 4318, 'calibre': 3808, 'cévennes': 6793, 'marrons': 17315, 'marvin': 17346, 'recovery': 23133, 'sectaire': 25428, 'gendre': 11880, 'réaliste': 24392, 'thill': 27693, 'fenêtres': 10751, 'fontanet': 11185, 'opposés': 19645, 'blair': 2972, 'shakira': 25705, 'dévasion': 9250, 'obtiennent': 19422, 'cyclone': 6740, 'sea': 25385, 'aprè': 1508, 'casse': 4111, 'goodbye': 12094, 'jeans': 14596, 'confondues': 5674, 'copa': 6110, 'fachosphère': 10488, 'silk': 25852, 'sonic': 26198, 'troie': 28334, 'simposent': 25880, 'dessiné': 7415, 'buy': 3657, 'hs': 13069, 'salubrité': 25029, 'soeurs': 26085, 'recherchée': 23070, 'certain': 4308, 'facto': 10507, 'surveiller': 27029, 'blandin': 2989, 'batte': 2599, 'suicidé': 26880, 'rats': 22944, 'démineurs': 8906, 'sauvent': 25222, 'beaugrand': 2658, 'joyeuse': 14780, 'équipé': 30482, 'maury': 17469, 'sourit': 26346, 'jfk': 14647, 'gage': 11684, 'trocadéro': 28331, 'certificat': 4312, 'authenticité': 2116, 'tranche': 28135, 'dâge': 8479, 'conclu': 5560, 'ninho': 19008, 'frérot': 11528, 'unreal': 28684, 'children': 4647, 'celebrating': 4224, 'heavy': 12797, 'idf': 13287, 'johan': 14678, 'libé': 15984, 'itinéraire': 14447, 'fortnite': 11262, 'chile': 4648, 'opposition': 19640, 'takes': 27350, 'steps': 26639, 'pandora': 19989, 'leaks': 15634, 'voting': 29488, 'consulting': 5893, 'moderniser': 18043, 'savais': 25237, 'jallais': 14509, 'carat': 4001, 'livrée': 16295, 'patinoire': 20323, 'limpossible': 16106, 'surnom': 27003, 'généra': 12488, 'mêlent': 18689, 'bouches': 3222, 'routière': 24232, 'partagée': 20181, 'instants': 14009, 'articles': 1698, 'w9': 29616, 'isla': 14386, 'ficher': 10835, 'frôlé': 11530, 'h25': 12557, 'rando': 22828, 'moreau': 18251, 'lopep': 16429, 'vanille': 28893, 'instantané': 14003, 'bourde': 3286, 'accélérée': 241, 'apaiser': 1358, 'récurrent': 24461, 'massoud': 17395, 'insee': 13950, 'missionnaires': 17971, 'deureetloir': 7456, 'répit': 24612, 'dick': 7620, 'gregory': 12264, 'pharmacovigilance': 20688, 'ansm': 1246, 'dassurance': 7059, 'saccélère': 24840, 'exclut': 10209, 'fourrure': 11320, 'tentes': 27552, 'normaliser': 19133, 'moustique': 18349, 'doublure': 8238, 'redon': 23183, 'réflexions': 24494, 'oneplus': 19594, 'sao': 25117, 'native': 18808, 'parks': 20135, 'criminal': 6472, 'dal': 6884, 'toll': 27874, 'regagner': 23246, 'ipad': 14333, 'wonder': 29840, 'seas': 25389, 'acquittement': 274, 'définitif': 8777, 'deu': 7454, 'vomit': 29464, 'jackie': 14480, 'administrations': 380, 'mandela': 17081, 'renonce': 23524, 'centristes': 4285, 'consenti': 5788, 'menaçant': 17604, 'effondrer': 9386, 'impasse': 13448, 'gudin': 12362, 'mathématique': 17425, 'devais': 7470, 'intégrées': 14224, 'app': 1384, 'haiti': 12628, 'jovenel': 14776, 'interim': 14101, 'pm': 21063, 'grignon': 12280, 'promoteur': 21864, 'indépendants': 13744, 'rebiffent': 23017, 'létoile': 16811, 'ferezvous': 10760, 'copains': 6112, 'coursiers': 6323, 'doyenne': 8281, 'dépités': 9012, 'tone': 27901, 'aid': 618, 'robbery': 24073, 'honteuse': 12995, 'envahisseurs': 9871, 'compo': 5459, 'lilloise': 16063, 'pudeur': 22320, 'exhibitionniste': 10247, 'plusvalues': 21055, 'bondir': 3139, 'xxi': 29913, 'compagnies': 5393, 'reaches': 22992, 'draft': 8285, 'consensus': 5786, 'pandemic': 19987, 'trumpistes': 28410, 'plusieurs': 21053, 'curieux': 6702, 'visàvis': 29333, 'brestois': 3426, 'créature': 6608, 'échouée': 30114, 'marathon': 17187, 'coureurs': 6305, 'recensées': 23046, 'lhygiène': 15932, 'anticipation': 1267, 'crient': 6465, 'disaster': 7842, 'humiliation': 13111, 'souche': 26261, 'manipulé': 17127, 'investit': 14286, 'thursday': 27731, 'sanglante': 25088, 'baron': 2523, 'tatamis': 27421, 'unilever': 28654, 'parrains': 20170, 'genslà': 11899, 'crains': 6418, 'mouche': 18324, 'expo': 10348, 'leurre': 15833, 'azoulay': 2304, 'appearance': 1412, 'revealed': 23884, 'planétaire': 20957, 'study': 26746, 'within': 29824, 'reported': 23601, 'voleurs': 29439, 'sollicités': 26149, 'parrainage': 20167, 'adèle': 449, 'célébrité': 6778, 'artistiques': 1717, 'mufti': 18397, 'elassad': 9423, 'lyonnais': 16662, 'francesoir': 11373, 'toutpetits': 28030, 'pyjama': 22399, 'prendrait': 21535, 'tatin': 27423, 'turned': 28477, 'illico': 13347, 'tendu': 27530, 'creuser': 6450, 'divisions': 8001, 'démocraties': 8921, 'vasculaire': 28922, 'gad': 11675, 'elmaleh': 9459, 'fâchés': 11610, 'selling': 25471, 'j7': 14475, 'bide': 2837, 'eme': 9507, 'strong': 26731, 'routiers': 24230, 'coyote': 6379, 'campement': 3869, 'francekazakhstan': 11369, 'empêchés': 9590, 'doctolib': 8049, 'bien': 2848, 'dispos': 7912, 'organisateurs': 19725, 'cst': 6637, 'expliquent': 10312, 'restés': 23796, 'godard': 12066, 'urgentiste': 28715, 'arménien': 1619, 'visionnaire': 29312, 'illustrée': 13370, 'figurines': 10876, 'yo': 29955, 'féroce': 11645, 'likefarming': 16049, 'capacité': 3952, 'fighting': 10866, 'accordée': 183, 'matteo': 17446, 'emirates': 9517, 'parier': 20115, 'labbé': 15140, 'lhistorien': 15912, 'plaisance': 20924, 'digue': 7687, 'sau': 25195, 'allumer': 870, 'bf': 2814, 'spa': 26410, 'sonnette': 26202, 'dalarme': 6886, 'unrest': 28685, 'mammifères': 17062, 'biodiversité': 2904, 'alerté': 760, 'étant': 30519, 'livreurs': 16293, 'angoissant': 1150, 'lélargissement': 16756, 'touriste': 27999, 'reggae': 23261, 'intitulé': 14184, 'radioactifs': 22749, 'contredit': 6007, 'entretiennent': 9854, 'sinvite': 25934, 'billionaires': 2891, 'lassaut': 15482, 'embrouille': 9504, 'tactique': 27317, 'certainement': 4309, 'nourrir': 19192, 'lachat': 15171, 'présentateur': 22158, 'remplaçant': 23440, 'ordonné': 19704, 'purger': 22373, 'vocal': 29386, 'talents': 27355, 'comédies': 5527, 'dominants': 8119, 'brasserie': 3397, 'paramètres': 20063, 'amène': 1050, 'destins': 7425, 'romancier': 24147, 'polls': 21174, 'procrastination': 21710, 'effrayante': 9394, 'lecoeuvre': 15653, 'hoshi': 13029, 'naulleau': 18822, 'chaotic': 4454, 'era': 9932, 'quatre': 22571, 'recense': 23041, 'renforcement': 23505, 'babi': 2328, 'ukrainiens': 28614, 'signataires': 25817, 'casual': 4137, 'accablante': 136, 'tracas': 28051, 'communautés': 5364, 'fosse': 11271, 'fonctionnalité': 11146, 'calculer': 3802, 'sappelle': 25133, 'piégé': 20876, 'explosifs': 10342, 'husson': 13141, 'légitimement': 16744, 'staff': 26556, 'random': 22829, 'memories': 17591, 'clics': 4993, 'alabama': 705, 'céder': 6761, 'churchill': 4771, 'accouché': 190, 'répète': 24643, 'moucher': 18325, 'obtient': 19423, 'holidays': 12932, 'lp': 16541, 'sulfureux': 26905, 'streak': 26704, 'fui': 11542, 'routier': 24229, 'médailles': 18563, 'ombline': 19576, 'temporaires': 27509, 'skyrim': 25983, 'noyer': 19235, 'recréer': 23144, 'pathétique': 20315, 'unisson': 28664, 'témoi': 28571, 'revendre': 23896, 'purguette': 22374, 'nécessité': 19317, 'griset': 12300, 'fatigué': 10650, 'collectifs': 5166, 'prés': 22151, 'discriminations': 7861, 'camargue': 3837, 'atte': 1926, 'formel': 11240, 'economiste': 9332, 'meow': 17652, 'pregnant': 21516, 'alstom': 922, 'gollnisch': 12079, 'gratin': 12226, 'oignons': 19537, 'campbell': 3868, 'magnat': 16910, 'déchu': 8576, 'dictée': 7627, 'abou': 84, 'dornellas': 8201, 'disais': 7839, 'itinérante': 14450, 'daccès': 6827, 'relisez': 23362, 'prisme': 21641, 'évolutions': 30643, 'morgane': 18256, 'viganò': 29174, 'nécessairement': 19314, 'habillé': 12576, 'millennials': 17853, 'brice': 3441, 'couturier': 6344, 'hantise': 12684, 'crown': 6546, 'modestes': 18047, 'prenant': 21531, 'comptable': 5495, 'renommer': 23521, 'hack': 12602, 'rocambolesque': 24090, 'proprement': 21927, 'mythes': 18520, 'présentant': 22157, 'étangs': 30518, 'diviser': 7999, 'massacrer': 17380, 'arrondi': 1671, 'staline': 26565, 'mérité': 18648, 'découper': 8662, 'irrésistible': 14375, 'disaient': 7838, 'avai': 2190, 'nommées': 19085, 'hésitation': 13213, 'ressusciter': 23759, 'sema': 25478, 'neuen': 18917, 'plausible': 20979, 'télés': 28553, 'glucksmann': 12054, 'guidées': 12393, 'stagiaire': 26560, 'pos': 21300, 'journ': 14750, 'remember': 23395, 'legacy': 15684, 'couvre': 6353, 'mu': 18391, 'blum': 3060, 'avertissent': 2235, 'irréversible': 14377, 'poignarde': 21089, 'làdessus': 16670, 'rende': 23486, 'horeca': 13005, 'événementiel': 30657, 'nuances': 19256, 'crème': 6591, 'corporate': 6168, 'investment': 14288, 'fâchent': 11607, 'lydie': 16652, 'pendus': 20451, 'instaurer': 14014, 'hamilton': 12659, 'verstappen': 29047, 'bull': 3603, 'bottas': 3213, 'él': 30266, 'obs': 19388, 'shutdown': 25775, 'palestiniennes': 19962, 'vinicius': 29229, 'episode': 9922, 'dôme': 9291, 'torrentielles': 27931, 'vont': 29466, 'intrigue': 14201, 'thriller': 27720, 'demiliano': 7269, 'monterey': 18182, 'minimal': 17898, 'rappellent': 22876, 'pains': 19944, 'courneuve': 6312, 'échirolles': 30108, 'senti': 25542, 'intoxications': 14193, 'tebboune': 27464, 'acceptable': 144, 'circuler': 4863, 'châteauroux': 4785, 'skin': 25973, 'perfect': 20522, 'déféré': 8790, 'méritent': 18644, 'délinquants': 8850, 'infectées': 13772, 'nonvaccinées': 19106, 'dreuz': 8326, 'galeries': 11711, 'salariale': 24990, 'marchais': 17198, 'demandait': 7245, 'pénétrer': 22466, 'affronter': 504, 'perséides': 20604, 'speedrun': 26446, 'diamant': 7607, 'destroys': 7435, 'samaritaine': 25049, 'inappropriés': 13553, 'dagression': 6864, 'simplifier': 25875, 'réparation': 24602, 'polluées': 21187, 'eternels': 10079, 'daffichage': 6852, 'berceau': 2757, 'essuie': 10036, 'préoccupante': 22128, 'américa': 1066, 'control': 6028, 'worse': 29862, 'cdi': 4210, 'banlieue': 2466, 'collecter': 5164, 'ladn': 15200, 'lévasion': 16820, 'errants': 9947, 'jerusalem': 14616, 'judée': 14803, 'samarie': 25048, 'november': 19226, 'education': 9354, 'europée': 10117, 'lula': 16587, 'historienne': 12899, 'foll': 11132, 'attribue': 1990, 'relayées': 23341, 'brandi': 3378, 'représailles': 23647, 'cancels': 3902, 'compromis': 5490, 'mou': 18319, 'placements': 20893, 'csa': 6633, 'fondements': 11170, 'idéologiques': 13304, 'arwen': 1723, 'balaie': 2403, 'fatigués': 10652, 'léternel': 16808, 'saintléger': 24942, 'daffilée': 6855, 'lucé': 16569, 'capuche': 3988, 'cachemire': 3747, 'modeuses': 18049, 'autonome': 2144, 'abidjan': 52, 'crispations': 6485, 'church': 4769, 'december': 7168, 'randonneurs': 22831, 'filment': 10902, 'ariège': 1591, 'menteurs': 17634, 'northern': 19145, 'ireland': 14351, 'rift': 23986, 'dactifs': 6834, 'mater': 17410, 'male': 17011, 'driving': 8339, 'racontée': 22725, 'détaillé': 9171, 'ill': 13342, 'mariechristine': 17241, 'septuagénaire': 25565, 'stalinien': 26567, 'dentifrice': 7323, 'noyée': 19238, 'abobo': 60, 'miley': 17828, 'cyrus': 6750, 'égale': 30244, 'topless': 27918, 'déconstruire': 8649, 'génère': 12485, 'impunité': 13530, 'jupe': 14851, 'urine': 28719, 'mit': 17981, 'alexander': 765, 'wang': 29645, 'récompensés': 24449, 'larme': 15448, 'abonnezvous': 71, 'osaka': 19788, 'stocamine': 26659, 'opposent': 19638, 'raqqa': 22899, 'dattaque': 7070, 'extérieure': 10441, 'microplastiques': 17783, 'atlas': 1893, 'naps': 18760, 'radios': 22752, 'auj': 2052, 'sisoler': 25945, 'lintox': 16195, 'retourner': 23837, 'irréaliste': 14371, 'bistrot': 2941, 'lextérieur': 15887, 'ancrée': 1108, 'andy': 1125, 'delort': 7231, 'conspirationniste': 5845, 'sexprimera': 25683, 'quantités': 22556, 'fossile': 11273, 'left': 15681, 'history': 12904, 'moving': 18367, 'forward': 11267, 'paysage': 20384, 'élitiste': 30324, 'terrorism': 27605, 'guérison': 12444, 'sorganisent': 26231, 'jetons': 14627, 'élise': 30319, 'abonnées': 73, 'réglementé': 24536, 'september': 25563, 'athlète': 1882, 'dhorreur': 7570, 'saintamandmontrond': 24908, 'futures': 11599, 'accomplir': 174, 'told': 27872, 'endommagée': 9640, 'précaires': 22049, 'cherki': 4606, 'averti': 2232, 'parent': 20094, 'traumatisant': 28216, 'hygiéniques': 13154, 'passport': 20290, 'jardinage': 14541, 'dialoguer': 7604, 'rejoi': 23302, 'moundir': 18338, 'profitezen': 21775, 'frotte': 11508, 'vera': 29003, 'ensoleillé': 9770, 'caractéristique': 3997, 'satanique': 25169, 'offerte': 19497, 'cheffe': 4569, 'burns': 3634, 'discuté': 7876, 'écurie': 30214, 'dimposer': 7722, 'structure': 26733, 'prisé': 21647, 'démocratiques': 8923, 'soul': 26300, 'filmée': 10907, 'albertville': 725, 'amar': 953, 'humiliations': 13112, 'chirurgien': 4677, 'bousquet': 3316, 'commercialisé': 5339, 'boutry': 3327, 'ogm': 19530, 'belleileenmer': 2721, 'mariegalante': 17243, 'révisions': 24759, 'certai': 4307, 'brame': 3371, 'adélaïde': 450, 'pasta': 20299, 'droguée': 8345, 'conduisait': 5611, 'suprêmes': 26968, 'flag': 11009, 'unvaccinated': 28689, 'groupama': 12324, 'normales': 19131, 'suspecte': 27067, 'touristiques': 28002, 'gattegno': 11818, 'évincé': 30631, 'lagardère': 15225, 'stop': 26670, 'testez': 27626, 'touts': 28031, 'valley': 28863, 'josé': 14725, 'fonte': 11186, 'dogues': 8079, 'compensation': 5418, 'dabsence': 6817, 'newsletter': 18944, 'lifting': 16032, 'foucault': 11281, 'cdd': 4209, 'postuler': 21343, 'resurrections': 23800, 'grandesynthe': 12199, 'sinsurgent': 25928, 'econoclastes': 9326, 'larzac': 15470, 'désillusion': 9135, 'lusap': 16621, 'pasteur': 20301, 'guérir': 12442, 'navigateur': 18840, 'normand': 19136, 'didi': 7632, 'regrets': 23271, 'remords': 23421, 'indéterminée': 13748, 'conserver': 5800, 'polognebiélorussie': 21190, 'savait': 25238, 'blachier': 2963, 'fanny': 10598, 'réinfo': 24560, 'rectificatif': 23148, 'frexit': 11468, 'gafa': 11679, 'ama': 943, 'nêtes': 19359, 'coréens': 6208, 'bang': 2459, 'kandahar': 14933, 'naine': 18721, 'lassitude': 15486, 'francophones': 11396, 'drastiques': 8309, 'inquiéter': 13923, 'leaving': 15642, 'lintroduction': 16196, 'wants': 29649, 'tell': 27496, 'charentemaritime': 4477, 'transporté': 28204, 'oeuvre': 19483, 'dangers': 6959, 'mozzarella': 18378, 'contaminée': 5922, 'spectateur': 26440, 'tenniswoman': 27539, 'impressionnants': 13507, 'republie': 23666, 'mahomet': 16926, 'jack': 14479, 'cube': 6645, 'zecler': 30006, 'lhéroïne': 15942, 'sensibilisation': 25525, 'fragile': 11345, 'mani': 17098, 'tempo': 27506, 'passera': 20266, 'val': 28830, 'doise': 8085, 'inform': 13815, 'façonné': 10701, 'patrizia': 20338, 'bouffe': 3237, 'masters': 17399, 'gaston': 11809, 'chelsea': 4576, 'ressens': 23741, 'vogue': 29394, 'lavilliers': 15585, 'corbeille': 6142, 'prédire': 22086, 'inaperçu': 13551, 'pizzeria': 20869, 'lappétit': 15415, 'libérales': 15987, 'abstenir': 110, 'birkin': 2924, 'éolien': 30403, 'pénuries': 22462, 'attribuées': 1995, 'caution': 4186, 'enquêté': 9740, 'sevrage': 25664, 'détaillée': 9172, 'legends': 15689, 'renvoie': 23562, 'créée': 6628, 'rachetée': 22695, 'bacs': 2350, 'disp': 7886, 'prestige': 21581, 'défaites': 8732, 'debris': 7159, 'outer': 19844, 'astronauts': 1859, 'shelter': 25728, 'bonnets': 3158, 'cpf': 6399, 'aurore': 2087, 'bergé': 2768, 'aixlesbains': 687, 'herbes': 12825, 'lisf': 16239, 'gardefrontière': 11770, 'officiers': 19515, 'socié': 26074, 'amo': 1025, 'baroin': 2521, 'amf': 1002, 'malbouffe': 17007, 'motos': 18317, 'conçues': 6087, 'fabriquées': 10475, 'alimenté': 806, 'lewis': 15850, 'dima': 7700, 'plusieur': 21052, 'situé': 25957, 'pio': 20814, 'arditi': 1569, 'messiha': 17700, 'terrains': 27579, 'moscow': 18287, 'russians': 24334, 'ordered': 19694, 'achetées': 253, 'cristina': 6490, 'cordula': 6152, 'perturbateurs': 20611, 'endocriniens': 9635, 'réelles': 24487, 'nui': 19267, 'dinfection': 7737, 'constat': 5853, 'lélevage': 16761, 'far': 10610, 'raspberry': 22910, 'pi': 20741, 'fermeté': 10774, 'sablésursarthe': 24826, 'hélicoptères': 13192, 'alternance': 926, 'fm': 11112, 'actualités': 317, 'provinces': 22015, 'incendier': 13582, 'détourner': 9222, 'att': 1905, 'contreattaque': 6004, 'vitamin': 29344, 'proven': 22001, 'clientèle': 4998, 'suivre': 26898, 'nominé': 19080, 'oscars': 19790, 'emparée': 9543, 'chenu': 4590, 'sélectionnés': 27217, 'prétendants': 22206, 'affrontent': 503, 'xiie': 29894, 'autrichienne': 2178, 'poutou': 21452, 'capturé': 3986, 'conakry': 5529, 'oligarchique': 19557, 'fiasco': 10825, 'cute': 6714, 'opérer': 19670, 'lo': 16310, 'sclérose': 25342, 'plaques': 20960, 'débourser': 8517, 'blesse': 3001, 'lintersyndicale': 16190, 'audi': 2019, 'dicte': 7624, 'directive': 7816, 'linjustice': 16160, 'chair': 4361, 'protoxyde': 21977, 'azote': 2303, 'pls': 21040, 'incontournables': 13640, 'corrige': 6184, 'processeurs': 21697, 'zen': 30013, 'qua': 22526, 'bouvard': 3329, 'queers': 22586, 'ref': 23209, 'mln': 18000, 'élect': 30277, 'cancers': 3904, 'djihadisme': 8024, 'reproduction': 23642, 'detail': 7441, 'suns': 26915, 'comtesse': 5520, 'intéressent': 14232, 'péripéties': 22487, 'outdoor': 19843, 'csp': 6635, 'régénération': 24553, 'souches': 26262, 'berdah': 2762, 'sièges': 25964, 'sense': 25524, 'cousin': 6334, 'mhd': 17758, 'collaborer': 5153, 'lunettes': 16610, 'penchent': 20441, 'problem': 21688, 'fuel': 11536, 'nordcoréen': 19115, 'irakienne': 14342, 'politiste': 21169, 'dignelesbains': 7684, 'pénible': 22455, 'respirer': 23724, 'obsessions': 19408, 'narcissiques': 18765, 'remarquée': 23387, 'graët': 12249, 'f16': 10455, 'autain': 2110, 'dhygiène': 7580, 'provoquée': 22028, 'feint': 10732, 'compterendu': 5503, 'herta': 12836, 'saucisses': 25199, 'livreur': 16292, 'hay': 12763, 'dévoilée': 9274, 'studies': 26743, 'rates': 22935, 'dérobées': 9087, 'implacable': 13458, 'disparait': 7889, 'maïs': 17505, 'appréciez': 1492, 'modération': 18063, 'east': 9303, 'partners': 20225, 'creek': 6444, 'transform': 28156, 'bihouix': 2868, 'impacté': 13445, 'linfirmière': 16145, 'illustre': 13365, 'essor': 10035, 'troi': 28333, 'crayon': 6435, 'serviettes': 25632, 'posté': 21347, 'abandonnées': 20, 'sanctionner': 25074, 'milieux': 17834, 'lebrun': 15648, 'excellence': 10180, 'vitamine': 29345, 'éclat': 30128, 'taches': 27308, 'squad': 26528, 'buzzer': 3662, 'rebound': 23025, 'michèle': 17774, 'tatouage': 27424, 'annoncée': 1211, 'pouviez': 21460, 'fossé': 11277, 'reserve': 23696, 'appeals': 1411, 'woerth': 29828, 'cowboys': 6376, 'talking': 27363, 'loss': 16478, 'ratpgrève': 22943, 'rer': 23687, 'guidé': 12391, 'bible': 2828, 'guardian': 12355, 'imaginer': 13390, 'réquisition': 24651, 'chaude': 4536, 'approuvent': 1479, 'kenya': 14992, 'vandalisé': 28885, 'democrat': 7277, 'bid': 2836, 'dhospitalisation': 7571, 'photographies': 20721, 'maya': 17487, 'amusant': 1044, 'bouchesdurhône': 3223, 'sarrêter': 25154, 'beauce': 2652, 'personnelle': 20590, 'adriana': 429, 'karembeu': 14946, 'agitée': 570, 'majeures': 16976, 'wallonie': 29638, 'latéral': 15520, 'sénégalais': 27230, 'endetté': 9628, 'monténégro': 18215, 'trad': 28067, 'réglementés': 24537, 'import': 13476, 'dépendants': 9000, 'suspendre': 27076, 'roués': 24243, 'partdieu': 20184, 'spot': 26491, 'paradisiaque': 20046, 'hautkarabakh': 12748, 'beyrouth': 2812, 'insuffisant': 14039, 'percutés': 20500, 'souffler': 26277, 'pelouse': 20434, 'psv': 22263, 'str': 26686, 'hérault': 13198, 'clowns': 5039, 'aménager': 1062, 'informaticien': 13817, 'plongé': 21035, 'handicapée': 12671, 'poland': 21130, 'broke': 3498, 'lacadémie': 15158, 'stages': 26558, 'piolle': 20816, 'batho': 2592, 'apportée': 1451, 'minist': 17906, 'unanime': 28635, 'élisent': 30320, 'promouvant': 21868, 'psychologie': 22276, 'rescapée': 23690, 'assistent': 1800, 'graine': 12183, 'enfermée': 9663, 'sued': 26850, 'older': 19550, 'iphones': 14335, 'czech': 6751, 'appoints': 1444, 'fourth': 11322, 'malfaiteurs': 17015, 'quantité': 22555, 'étau': 30527, 'usacoronavirus': 28728, 'annon': 1201, 'nexistait': 18951, 'tchad': 27448, 'blonde': 3038, 'ocean': 19458, 'spread': 26498, 'deadly': 7142, 'catch': 4149, 'infection': 13768, 'culpabiliser': 6671, 'préfèrent': 22097, 'polit': 21149, 'réduisent': 24479, 'photographié': 20723, 'papillomavirus': 20027, 'asm': 1749, 'bagnole': 2371, 'scientist': 25338, 'gluten': 12055, 'autoritaires': 2161, 'orléanaise': 19769, 'view': 29169, 'excel': 10178, 'satisfactory': 25175, 'ackboo': 265, 'bombarde': 3120, 'civils': 4905, 'refugee': 23229, 'élodie': 30326, 'gossuin': 12112, 'ambre': 979, 'dol': 8094, 'webinar': 29705, 'twin': 28508, 'towers': 28036, 'extreme': 10429, 'heat': 12795, 'coulée': 6264, 'lave': 15574, 'confinées': 5647, 'fixes': 11000, 'bowie': 3335, 'icon': 13256, 'shit': 25742, 'romance': 24146, 'rapidité': 22866, 'paresseux': 20102, 'clôt': 5055, 'indépendantes': 13741, 'blâme': 3064, 'ordonnance': 19701, 'laéronautique': 15611, 'acier': 264, 'sudcoréen': 26842, 'harceler': 12695, 'bloquée': 3047, 'guerrière': 12371, 'luka': 16583, 'h22': 12555, 'décompte': 8636, 'lay': 15608, 'usure': 28745, 'chasser': 4520, 'lorage': 16442, 'profits': 21777, 'accable': 138, 'scanner': 25292, 'rouanet': 24194, 'scipion': 25341, 'salm': 25015, 'supérieurs': 26973, 'poule': 21384, 'diva': 7981, 'antigaspi': 1291, 'queues': 22617, 'dormi': 8199, 'formations': 11237, 'prétendre': 22208, 'félicité': 11627, 'rico': 23971, 'fiscaux': 10985, 'sky': 25980, 'considers': 5806, 'increases': 13646, 'oranges': 19681, 'sanguines': 25093, 'meurisse': 17734, 'aveugles': 2240, 'informée': 13827, 'pouvais': 21456, 'collectivement': 5173, 'whirlpool': 29759, 'sentinelle': 25550, 'indépendante': 13740, 'flandre': 11031, 'rolandgarros': 24132, 'muscle': 18451, 'm²': 18526, 'pharmaciens': 20686, 'surprenantes': 27011, 'donation': 8135, 'enregistrée': 9747, 'zodiac': 30029, 'redressement': 23197, 'mines': 17887, 'mohammed': 18072, 'croient': 6510, 'statuette': 26617, 'breath': 3416, 'paralysée': 20061, 'attaquée': 1924, 'préoccupant': 22127, 'soutenons': 26368, 'consomment': 5834, 'insectes': 13948, 'freins': 11457, 'cessent': 4325, 'allergiques': 844, 'ingénieurs': 13846, 'simplicité': 25873, 'intimes': 14179, 'stats': 26612, 'duré': 8447, 'secretary': 25419, 'exercise': 10238, 'inspirée': 13982, 'régulière': 24549, 'antimigrants': 1301, 'kbc': 14969, 'engie': 9695, 'réélue': 24802, 'attendra': 1949, 'colloghan': 5190, 'smart': 26008, 'pyramide': 22401, 'daccéder': 6828, 'éclairant': 30120, 'borders': 3189, 'naissait': 18723, 'viva': 29362, 'limpôt': 16111, 'lake': 15272, 'armstrong': 1611, 'resigns': 23703, 'émettent': 30359, 'productions': 21736, 'réalisateurs': 24381, 'dissimulation': 7937, 'abandon': 13, 'ores': 19715, 'quarterback': 22563, 'athlete': 1881, 'constituante': 5864, 'apps': 1498, 'descendre': 7378, 'repoussée': 23621, 'secs': 25427, 'titane': 27833, 'ducournau': 8385, 'walker': 29631, 'enflamment': 9670, 'innovations': 13899, 'barclays': 2513, 'rémunérer': 24585, 'pinçoncharlot': 20813, 'dinterdiction': 7766, 'xs': 29903, 'rwanda': 24343, 'intrusion': 14209, 'rivales': 24042, 'lurgence': 16617, 'lancienne': 15335, 'mandature': 17080, 'naval': 18834, 'négociation': 19337, 'malaises': 17002, 'cessé': 4330, 'aveugle': 2238, 'tjrs': 27847, 'dheures': 7556, 'arrachent': 1636, 'guiraud': 12411, 'notoriété': 19178, 'pensaient': 20458, 'claquer': 4935, 'avalanche': 2196, 'décliner': 8620, 'technologiques': 27476, 'chalets': 4369, 'nautique': 18830, 'decize': 7171, 'émerge': 30353, 'journalist': 14756, 'neutre': 18927, 'fairphone': 10536, 'foncière': 11142, 'liquide': 16223, 'pire': 20843, 'révèlent': 24780, 'alertes': 758, 'lancées': 15338, 'apprenti': 1461, 'négatives': 19330, 'abel': 48, 'token': 27870, 'historien': 12898, 'incivilités': 13604, 'nuisances': 19269, 'agresser': 584, 'sortant': 26241, 'absurdité': 116, 'légalement': 16719, 'worry': 29861, 'rader': 22734, 'reunion': 23875, 'soulignent': 26309, 'banni': 2469, 'réceptions': 24421, 'vigile': 29179, 'péage': 22429, 'dorientation': 8191, 'pente': 20480, 'spat': 26422, 'émue': 30385, 'repentance': 23587, 'coloniale': 5222, 'ass': 1761, 'perdue': 20514, 'décrypter': 8699, 'regardant': 23250, 'nabil': 18701, 'exécuté': 10450, 'conférences': 5696, 'appui': 1499, 'médiation': 18580, 'bondés': 3143, 'vides': 29133, 'anissa': 1182, 'raser': 22906, 'visas': 29298, 'arrangements': 1643, 'mea': 17531, 'bolivie': 3112, 'sage': 24883, 'manifestant': 17107, 'systématique': 27163, 'labsence': 15154, 'démence': 8899, 'inouïe': 13912, 'pouvonsnous': 21465, 'tolérer': 27877, 'girondins': 12002, 'malaysia': 17006, 'travelers': 28241, 'désamour': 9111, 'university': 28679, 'racial': 22699, 'adhérer': 359, 'bompard': 3131, 'réussit': 24741, 'déclinaison': 8618, 'vachement': 28811, 'saveur': 25244, 'camarades': 3836, 'reconfinés': 23100, 'transmis': 28185, 'dévastée': 9253, 'laissezvous': 15262, 'crashes': 6430, 'portraits': 21291, 'prochai': 21702, 'grazia': 12246, 'aphatie': 1371, 'kiffé': 15028, 'repreneur': 23630, 'reprochés': 23641, 'marleau': 17277, 'demongeot': 7281, 'jetée': 14633, 'sauna': 25204, 'appréhender': 1495, 'sein': 25454, 'exportation': 10353, 'fournis': 11311, 'tshirt': 28429, 'adoptant': 405, 'véronique': 29608, 'jeannoël': 14591, 'charcuterie': 4472, 'yuka': 29989, 'dessus': 7418, 'prétendu': 22209, 'mercenaire': 17659, 'offrant': 19518, 'ein': 9414, 'delicious': 7219, 'quittera': 22642, 'lin': 16112, 'tinquiète': 27802, 'industriel': 13724, 'accidentelle': 159, 'vallées': 28866, 'rivian': 24057, 'dispatch': 7901, 'wes': 29743, 'kia': 15016, 'seriously': 25602, 'grows': 12332, 'adjoints': 369, 'velouté': 28958, 'caviar': 4195, 'eta': 10072, 'noémie': 19241, 'reconstruction': 23121, 'marquis': 17301, 'implication': 13464, 'quadruplé': 22530, 'pres': 21549, 'sudoku': 26847, 'schwierig': 25321, 'brocante': 3494, 'expositions': 10367, 'deutsch': 7460, 'valéry': 28879, 'destaing': 7420, 'réélu': 24801, 'virée': 29289, 'gina': 11985, 'lengouement': 15735, 'releases': 23345, 'korean': 15099, 'ministry': 17912, 'fraîchement': 11436, 'débarqué': 8491, 'sauvagement': 25215, 'kurdes': 15116, 'trajets': 28126, 'rts': 24269, 'jc': 14568, 'scores': 25354, 'nivernaises': 19025, 'migrer': 17815, 'gourmandes': 12127, 'rafraîchir': 22760, 'glacée': 12024, 'émérite': 30387, 'cnrs': 5067, 'attribution': 1992, 'greffé': 12262, 'casserole': 4115, 'aidessoignants': 628, 'equateur': 9928, 'protestent': 21966, 'retrouvera': 23861, 'samu': 25062, 'din': 7725, 'suggestion': 26868, 'formulée': 11251, 'védrine': 29574, 'divertir': 7991, 'rayons': 22979, 'pitt': 20862, 'subsaharienne': 26800, 'kharrat': 15008, 'fibre': 10827, 'elbé': 9426, 'radeon': 22733, 'rx': 24345, 'xt': 29904, 'phantom': 20677, 'transphobes': 28195, 'messagerie': 17692, 'remportera': 23452, 'exist': 10264, 'interministérielle': 14108, 'traversées': 28251, 'plague': 20906, 'adressé': 426, 'signalement': 25807, 'paradigme': 20043, 'rebaptisé': 23010, 'philippine': 20697, 'empoche': 9560, 'baleines': 2415, 'boucles': 3230, 'misères': 17978, 'impactés': 13446, 'calcul': 3801, 'interprète': 14137, 'crucial': 6562, 'pan': 19977, 'coûteuse': 6392, 'lidl': 16013, 'galettes': 11714, 'viendrait': 29154, 'doter': 8222, 'macky': 16853, 'attacking': 1914, 'griffin': 12278, 'inner': 13886, 'rioufol': 24010, 'affectés': 471, 'présentera': 22164, 'gagnante': 11688, 'basculer': 2548, 'drogba': 8341, 'aaaah': 6, 'rick': 23970, 'morty': 18282, 'travaillons': 28236, 'duc': 8382, 'nell': 18886, 'accents': 141, 'ardéchois': 1571, 'matériel': 17457, 'troadec': 28329, 'invalide': 14249, 'beware': 2809, 'phone': 20713, 'carences': 4026, 'vétérinaires': 29611, 'nonviolente': 19108, 'putting': 22391, 'necessary': 18872, 'nikola': 19001, 'tasmanie': 27419, 'éteinte': 30530, 'davos': 7128, 'projeter': 21824, 'célibat': 6767, 'sétonne': 27270, 'shame': 25708, 'fréquentation': 11525, 'convergence': 6059, 'graphiques': 12217, 'parapluie': 20068, 'lenvie': 15766, 'poumons': 21392, 'lbd': 15618, 'reçus': 23944, 'compatriotes': 5417, 'déprimant': 9054, 'lucy': 16568, 'property': 21898, 'rent': 23543, 'homeless': 12950, 'ouvrait': 19869, 'alpesmaritimes': 904, 'consommez': 5836, 'coco': 5088, 'dysfonctionnements': 8474, 'opérationnel': 19667, 'claudel': 4967, 'rép': 24596, 'sidérant': 25791, 'zineb': 30025, 'redouane': 23189, 'grenade': 12265, 'lenvol': 15769, 'crew3': 6459, 'retardé': 23810, 'selle': 25469, 'satellite': 25170, 'manteau': 17156, 'silhouette': 25849, 'homosexualité': 12969, 'bocaux': 3082, 'localement': 16331, 'logistique': 16372, 'repli': 23594, 'trimestriel': 28314, 'concilier': 5558, 'jersey': 14615, 'bnp': 3070, 'paribas': 20113, 'renseigner': 23541, 'quotidiennes': 22657, 'clarté': 4944, 'décrète': 8703, 'hamburgers': 12654, 'frites': 11485, 'chimère': 4658, 'melody': 17578, 'ahaha': 609, 'volumineux': 29455, 'pirates': 20839, 'cosnesurloire': 6220, 'joies': 14687, 'épuisée': 30465, 'soulagée': 26305, 'imposé': 13499, 'animées': 1180, 'yatil': 29935, 'déballage': 8485, 'vacille': 28813, 'fred': 11442, 'laider': 15241, 'emp': 9537, 'oignon': 19536, 'juice': 14820, 'débarquer': 8490, 'exigé': 10259, 'saintgermain': 24926, 'vaccinodromes': 28804, 'venin': 28987, 'spotlight': 26493, 'mesu': 17702, 'saute': 25211, 'illustrent': 13366, 'cerfs': 4298, 'débouté': 8518, 'let': 15811, 'ugly': 28605, 'north': 19144, 'carolina': 4052, 'bousculade': 3310, 'renvoyer': 23563, 'treat': 28260, 'tresses': 28280, 'contraires': 5998, 'fameuse': 10575, 'démeutes': 8904, 'bouclé': 3232, 'fe': 10713, 'niska': 19019, 'continuité': 5970, 'habituel': 12594, 'limpressionnant': 16109, 'architectural': 1553, 'neutralisé': 18925, 'penses': 20465, 'fouché': 11282, 'domine': 8121, 'delsol': 7234, 'adidas': 362, 'raised': 22777, 'before': 2689, 'frigo': 11480, 'psychanalyste': 22266, 'injonctions': 13873, 'huiles': 13084, 'elvis': 9465, 'jusquici': 14875, 'violait': 29237, 'lévacuation': 16818, 'centime': 4269, 'bénéficiaire': 3694, 'hautot': 12749, 'faitil': 10550, 'vulnérable': 29566, 'amputé': 1041, 'patte': 20348, 'hope': 12999, 'stickers': 26649, 'jouet': 14736, 'vigilant': 29177, 'marchandises': 17205, 'walmart': 29641, 'jail': 14501, 'alléger': 886, 'sappeler': 25132, 'lava': 15563, 'stanislas': 26578, 'ahed': 611, 'tamimi': 27369, 'ready': 23002, 'cumulés': 6692, 'vou': 29494, 'somnifères': 26184, 'prhj': 21593, 'eyes': 10452, 'bouleau': 3258, 'boucherie': 3220, 'zhao': 30019, 'nomadland': 19068, 'cosmos': 6216, 'romancière': 24148, 'créa': 6595, 'dell': 7225, 'incurvé': 13657, 'alsacienne': 918, 'croise': 6515, 'chambly': 4385, 'eduardo': 9353, 'bouleversent': 3270, 'inaperçue': 13552, 'pionniers': 20818, 'méconnus': 18555, 'inattendus': 13557, 'valeria': 28845, 'révérence': 24792, 'produ': 21728, 'bêtises': 3720, 'chaines': 4360, 'avancées': 2207, 'accrue': 205, 'vents': 28996, 'rabais': 22674, 'bières': 2953, 'dopé': 8178, 'simpson': 25882, 'lajout': 15271, 'ri': 23957, 'compléments': 5457, 'sensations': 25523, 'guérini': 12441, 'recon': 23091, 'postales': 21332, 'sonores': 26207, 'génétiques': 12517, 'paulo': 20356, 'avoi': 2259, 'arriv': 1650, 'chantent': 4440, 'sancerrois': 25070, 'moscovici': 18286, 'honorer': 12990, 'giant': 11955, 'gmo': 12059, 'carrés': 4072, 'boulanger': 3253, 'guinéenne': 12410, 'vizio': 29382, 'avatar': 2218, 'pokemon': 21122, 'animés': 1181, 'adaptés': 339, 'damy': 6937, 'courtes': 6326, 'carence': 4025, 'fdj': 10710, 'savoureuse': 25262, 'sigaut': 25802, 'passées': 20296, 'croyait': 6549, 'ophélie': 19624, 'weber': 29703, 'asus': 1873, 'dautomne': 7102, 'terreau': 27583, 'banderoles': 2455, 'fleurir': 11046, 'forestiers': 11225, 'modéré': 18064, 'remplacée': 23438, 'pixar': 20865, 'circonstances': 4853, 'requins': 23680, 'proies': 21812, 'animales': 1163, 'laideur': 15242, 'déchéance': 8578, 'agonie': 573, 'authorities': 2120, 'rush': 24327, 'anchor': 1099, 'placement': 20892, 'maté': 17454, 'plonger': 21030, 'voilier': 29406, 'marina': 17251, 'foïs': 11333, 'assaillant': 1763, 'miettes': 17795, 'stunning': 26748, 'défiance': 8761, 'cipiz': 4848, 'hortefeux': 13027, 'déjeuné': 8825, 'gratuiteme': 12234, 'tombes': 27887, 'florida': 11084, 'visibles': 29306, 'vieilli': 29147, 'hôtelier': 13228, 'autr': 2171, 'pénétré': 22467, 'eustachebrinio': 10127, 'éleveur': 30301, 'concrétise': 5577, 'professeurs': 21754, 'vigneron': 29182, 'naïf': 18859, 'imprévisible': 13524, 'ron': 24162, 'desantis': 7373, 'failures': 10532, 'savère': 25265, 'réjouissant': 24576, 'informatiques': 13821, 'extorsion': 10415, 'triplé': 28320, 'dotées': 8225, 'nikos': 19003, 'animateurs': 1169, 'chroniqueurs': 4755, 'dec': 7165, 'slammed': 25986, 'impensable': 13455, 'baltimore': 2430, 'pdt': 20403, 'deby': 7164, 'ouattara': 19814, 'sergio': 25590, 'sirop': 25942, 'malins': 17035, 'gâché': 12458, 'coquins': 6135, 'intéressantes': 14229, 'lanimatrice': 15361, 'maureen': 17462, 'panther': 20009, 'wakanda': 29626, 'forever': 11227, 'marvels': 17345, 'reportés': 23611, 'sortiront': 26252, 'renoir': 23520, 'enflammé': 9671, 'quoi': 22647, 'papy': 20031, 'louvre': 16523, 'lacquisition': 15176, 'vénus': 29589, 'rd': 22986, 'danciens': 6945, 'lunef': 16606, 'pauses': 20359, 'réservent': 24662, 'fumer': 11557, 'londonien': 16406, 'binômes': 2902, 'inaugurer': 13561, 'stèle': 26771, 'commémorer': 5385, 'haïssent': 12771, 'instruction': 14030, 'abba': 31, 'laissent': 15256, 'judiciaires': 14797, 'tranquillité': 28144, 'excompagne': 10211, 'owen': 19897, 'wilson': 29796, 'dépassement': 8987, 'tie': 27764, 'désindustrialisation': 9137, 'ibn': 13243, 'pureté': 22371, 'vuitton': 29558, 'mimi': 17877, 'danièle': 6972, 'comics': 5291, 'passeur': 20273, 'fièrement': 11005, 'entrés': 9864, 'mie': 17793, 'pschitt': 22255, 'croisé': 6527, 'commerciales': 5336, 'autorisées': 2158, 'utilisations': 28763, 'really': 23006, 'seek': 25441, 'professional': 21757, 'michele': 17768, 'craignent': 6416, 'florilège': 11086, 'blagues': 2971, 'neutralisent': 18923, 'portage': 21258, 'salarial': 24989, 'statuts': 26620, 'putsch': 22389, 'assurée': 1841, 'brittany': 3489, 'localiser': 16334, 'dir': 7802, 'payait': 20370, 'intermédiaires': 14111, 'vivantes': 29368, 'views': 29172, 'dupontmonod': 8419, 'femina': 10742, 'bouleversante': 3265, 'cohérence': 5114, 'dattentat': 7075, 'matrix': 17443, 'parfums': 20110, 'jerome': 14613, 'alsaciens': 919, 'flipper': 11066, 'hardcore': 12704, 'norman': 19135, 'dutch': 8453, 'driver': 8337, 'coal': 5074, 'assault': 1775, 'mettr': 17723, 'sachève': 24849, 'décideurs': 8584, 'lottery': 16488, 'chérie': 4795, 'perseverance': 20570, 'participative': 20200, 'entrepôts': 9846, 'attisent': 1976, 'inquiétudes': 13926, 'coupes': 6281, 'gaspard': 11803, 'koenig': 15088, 'think': 27696, 'jeanmoulin': 14588, 'émeutes': 30364, 'menaçants': 17605, 'obscur': 19389, 'exploits': 10328, 'contest': 5943, 'pfizerbiontech': 20672, 'remontant': 23414, 'régie': 24522, 'récolté': 24441, 'diffuse': 7661, 'utilisera': 28767, 'tunisiens': 28466, 'urgentes': 28714, 'krach': 15105, 'rentrés': 23554, 'stratosphérique': 26697, 'désespoir': 9124, 'arrachée': 1639, 'enseigner': 9764, 'telecom': 27492, 'convoité': 6078, 'seconds': 25405, 'cessezlefeu': 4327, 'susceptible': 27057, 'annual': 1219, 'décalage': 8537, 'linstitution': 16177, 'ellemême': 9454, 'laquelle': 15421, 'agacé': 529, 'funès': 11571, 'netanyahou': 18903, 'dinformations': 7742, 'spé': 26508, 'colons': 5232, 'happened': 12688, 'lespagne': 15793, 'alerteroyaume': 757, 'violation': 29240, 'flagrante': 11011, 'canards': 3894, 'enfin': 9668, 'choquant': 4709, 'crache': 6408, 'soupe': 26326, 'incarne': 13573, 'bobo': 3080, 'vexé': 29088, 'francilien': 11383, 'antiivg': 1296, 'ménages': 18632, 'frôle': 11529, 'écrits': 30201, 'survivant': 27041, 'pairs': 19950, 'possédez': 21328, 'secrétariat': 25426, 'ingrédients': 13842, 'rout': 24225, 'lower': 16534, 'makeup': 16988, 'artisan': 1708, 'myocardite': 18505, 'montceau': 18173, 'navoir': 18846, 'bol': 3110, 'rapid': 22862, 'digitales': 7681, 'répètent': 24644, 'volés': 29461, 'culturelles': 6683, 'égyptiennes': 30261, 'exécutions': 10449, 'risquent': 24027, 'dancing': 6946, 'ist': 14434, 'abidal': 51, 'footballeuse': 11198, 'perpétuel': 20556, 'célébration': 6775, 'origi': 19752, 'détudier': 9245, 'étroits': 30585, 'incendié': 13584, 'sociologie': 26069, 'repères': 23668, 'étudier': 30595, 'débordés': 8514, 'lexplication': 15869, 'intervenir': 14163, 'vicieux': 29110, 'sembler': 25487, 'celtics': 4240, 'croatie': 6507, 'olympia': 19565, 'vendôme': 28981, 'médaillée': 18565, 'indictment': 13681, 'fabius': 10463, 'naissent': 18727, 'lenvers': 15765, 'dhommes': 7567, 'didentifier': 7629, 'bodin': 3087, 'moselle': 18288, 'resistance': 23704, 'diversifiée': 7987, 'misent': 17957, 'runs': 24312, 'convictions': 6069, 'brutalité': 3544, 'hill': 12874, 'langues': 15356, 'chavez': 4554, 'périph': 22483, 'daltons': 6912, 'courants': 6299, 'dortmund': 8206, 'verres': 29033, 'carpentras': 4058, 'florès': 11087, 'così': 6227, 'frustration': 11513, 'alerteespagnecoronavirus': 749, 'largument': 15446, 'déviation': 9265, 'secouer': 25407, 'cherchait': 4594, 'viser': 29301, 'dern': 7360, 'osent': 19792, 'goûts': 12166, 'essayiste': 10023, 'antisystème': 1320, 'bombes': 3128, 'effervescence': 9376, 'rossignol': 24186, 'felt': 10736, 'impressionné': 13510, 'profitera': 21772, 'discutable': 7872, 'durgences': 8442, 'flex': 11055, 'retarder': 23808, 'gentleman': 11905, 'paranoïa': 20066, 'perdition': 20510, 'volcans': 29432, 'intel': 14058, 'mesnage': 17687, 'combine': 5273, 'connection': 5741, 'riot': 24008, 'puissantes': 22336, 'hunt': 13126, 'dévoilés': 9276, 'warnings': 29660, 'process': 21695, 'bachelorette': 2341, 'tromper': 28344, 'paquet': 20034, 'applaudi': 1427, 'breakingviews': 3412, 'journey': 14765, 'deviez': 7499, 'transidentités': 28176, 'intensifie': 14072, 'souffrances': 26281, 'reconversion': 23123, 'vulgarisation': 29561, 'inspirantes': 13973, 'présentent': 22162, 'dégénérer': 8820, 'presses': 21569, 'touraine': 27993, 'tinder': 27801, 'ffp2': 10816, 'distribués': 7968, 'rappelés': 22881, 'regroupe': 23277, 'dépend': 8996, 'capture': 3983, 'fascinante': 10626, 'landmark': 15343, 'irakien': 14341, 'indemne': 13661, 'acquisitions': 272, 'adversaires': 441, 'emojis': 9534, 'mother': 18302, 'ix': 14467, 'sta': 26545, 'bovins': 3334, 'standard': 26572, 'éclater': 30133, 'médaillé': 18564, 'laccent': 15159, 'déconstruit': 8650, 'désor': 9153, 'cqfd': 6402, 'déplacer': 9016, 'saine': 24902, 'assis': 1791, 'grange': 12212, 'mondays': 18115, 'majesté': 16973, 'campion': 3875, 'rames': 22817, 'dissoute': 7947, 'demandaient': 7243, 'caissier': 3790, 'dorsey': 8204, 'lactivisme': 15185, 'dindemnisation': 7733, 'marrer': 17312, 'soumet': 26317, 'them': 27670, 'épousé': 30454, 'loiseau': 16390, 'pieuvres': 20774, 'végétales': 29577, 'terminal': 27567, 'rigoureux': 23993, 'gouvernants': 12140, 'font': 11180, 'hooman': 12998, 'vibrations': 29100, 'côted': 6797, 'roye': 24257, 'trucks': 28400, 'installent': 13992, 'islamogauchiste': 14396, 'comme': 5312, 'sinema': 25902, 'doubles': 8236, 'presentiamo': 21555, 'stile': 26652, 'sublime': 26792, 'workplace': 29855, 'misconduct': 17955, 'potable': 21354, 'middle': 17788, 'invisible': 14292, 'épique': 30441, 'charged': 4480, 'haleine': 12632, 'bonbons': 3136, 'menthe': 17636, 'haddad': 12608, 'dartifice': 7043, 'ambiante': 971, 'seul': 25653, 'rurale': 24320, 'céleste': 6766, 'libanais': 15953, 'hassan': 12724, 'quenelles': 22600, 'fourniret': 11310, 'manipulent': 17125, 'normalisation': 19132, 'semblant': 25485, 'parisi': 20117, 'incompatible': 13624, 'rouleau': 24208, 'pastèque': 20304, 'baba': 2326, 'gingembre': 11986, 'droites': 8353, 'interdisant': 14092, 'lavortement': 15594, 'sagefemme': 24884, 'surveillés': 27032, 'lor': 16441, 'concession': 5555, 'servant': 25619, 'venaient': 28961, 'agrandir': 576, 'knicks': 15076, 'avertissement': 2233, 'salaud': 24998, 'radicalité': 22745, 'grilles': 12287, 'regain': 23247, 'ardente': 1567, 'obsèques': 19415, 'bulle': 3605, 'orphelin': 19775, 'sankara': 25101, 'polluent': 21180, 'montagnes': 18161, 'renforcées': 23510, 'appliquent': 1438, 'nationalité': 18803, 'algérienne': 782, 'leverest': 15839, 'portés': 21299, 'massés': 17396, 'cry': 6581, 'adolf': 404, 'alès': 939, 'aériens': 2312, 'impayés': 13452, 'signaler': 25810, 'répondront': 24624, 'montrouge': 18204, 'comp': 5389, 'idéologique': 13303, 'vautil': 28934, 'dintégration': 7773, 'fourni': 11306, 'personnaliser': 20583, 'définir': 8775, 'rondspoints': 24171, 'barbelés': 2504, 'municipalités': 18430, 'plantations': 20948, 'légales': 16720, 'déterminer': 9202, 'dattente': 7077, 'merslesbains': 17677, 'fondu': 11176, 'laiea': 15243, 'poirier': 21110, 'perron': 20565, 'évoquée': 30651, 'gardes': 11776, 'jouant': 14729, 'orleans': 19766, 'chantant': 4438, 'racailles': 22683, 'intervenue': 14167, 'paisible': 19951, 'déchue': 8577, 'fischer': 10986, 'conquérir': 5760, 'maîtres': 17498, 'néonicotinoïdes': 19350, 'appartiennent': 1404, 'voyagé': 29524, 'merveilleuse': 17681, 'ascoval': 1733, 'temoignages': 27501, 'riverain': 24052, 'transformé': 28163, 'dublin': 8378, 'coloration': 5235, 'pastel': 20300, 'démarquer': 8889, 'présentés': 22172, 'session': 25638, 'dani': 6964, 'lycéenne': 16647, 'contracté': 5985, 'dort': 8205, 'cham': 4382, 'stylé': 26767, 'fur': 11575, 'bahamas': 2377, 'préhistoire': 22108, 'omnisports': 19585, 'renouvelle': 23535, 'étranglé': 30578, 'reboot': 23024, 'innovantes': 13896, 'mairies': 16963, 'autorisant': 2150, 'décolle': 8627, 'niche': 18971, 'charentaise': 4474, 'animes': 1177, 'débarquement': 8488, 'crié': 6505, 'adultère': 436, 'indiquer': 13700, 'critics': 6495, 'books': 3167, 'vivaldi': 29365, 'autotest': 2168, 'mouvementée': 18358, 'rojava': 24129, 'bye': 3666, 'premi': 21518, 'litres': 16262, 'technicien': 27467, 'forget': 11231, 'nypd': 19306, 'dept': 7350, 'crible': 6462, 'pence': 20439, 'hails': 12621, 'parentale': 20096, 'mycanal': 18502, 'rpr': 24259, 'fâché': 11609, 'continueront': 5967, 'fonctionner': 11151, 'riverdale': 24054, 'hécatombe': 13188, 'activation': 292, 'claverie': 4974, 'myocardites': 18506, 'vip': 29262, 'belenenses': 2705, 'radicalement': 22739, 'individuel': 13708, 'arrogance': 1669, 'rédigé': 24472, 'marceau': 17194, 'électroménager': 30295, 'engin': 9696, 'rein': 23287, 'jodie': 14668, 'terence': 27562, 'dattractions': 7079, 'animalier': 1164, 'rassemblements': 22914, 'financent': 10928, 'plenel': 21007, 'founder': 11298, 'macronistan': 16862, 'cultive': 6676, 'contrefaçons': 6009, 'détournements': 9220, 'surge': 26994, 'anniversary': 1199, 'emprisonnés': 9578, 'bless': 3000, 'compose': 5468, 'légalise': 16722, 'fœtus': 11661, 'avortements': 2267, 'theyre': 27685, 'threat': 27714, 'ânes': 30065, 'tourbillon': 27994, 'plasma': 20962, 'plongés': 21037, 'moines': 18078, 'illuminations': 13353, 'amir': 1014, 'ukrainienne': 28613, 'reporte': 23600, 'limogé': 16095, 'kms': 15072, 'damitié': 6929, 'corrélation': 6194, 'observée': 19404, 'récentes': 24418, 'mettant': 17717, 'divg': 7993, 'rail': 22770, 'leg': 15683, 'leeds': 15672, 'grant': 12213, 'evan': 10135, 'fournier': 11307, 'effacé': 9363, 'avale': 2197, 'déléguée': 8876, 'encouragés': 9622, 'financements': 10927, 'inefficaces': 13751, 'tolérance': 27876, 'dédiés': 8720, 'couloir': 6261, 'honoré': 12991, 'naît': 18857, 'autonomous': 2147, 'delivery': 7223, 'imiter': 13405, 'azuréens': 2306, 'yep': 29948, 'stérile': 26776, 'mateusz': 17417, 'morawiecki': 18242, 'éditer': 30221, 'naviguer': 18843, 'sers': 25615, 'remets': 23404, 'perdurent': 20517, 'sétend': 27268, 'lunité': 16613, 'douvrir': 8268, 'filets': 10885, 'mémé': 18628, 'ted': 27478, 'richesses': 23969, 'insurge': 14050, 'bannies': 2471, 'classic': 4957, 'éventuellement': 30623, 'expliquez': 10314, 'artic': 1696, 'mor': 18232, 'bundesliga': 3614, 'haaland': 12567, 'dispersion': 7904, 'tardif': 27397, 'altercation': 925, 'débits': 8504, 'exemples': 10230, 'aya': 2291, 'nakamura': 18731, 'roe': 24118, 'succombé': 26824, 'matraquage': 17439, 'diffusent': 7662, 'clips': 5014, 'mélanger': 18615, 'enquêtent': 9735, 'trois': 28335, 'respire': 23723, 'politi': 21151, 'career': 4024, 'steele': 26628, 'équité': 30488, 'streamers': 26707, 'semis': 25498, 'poi': 21082, 'primo': 21611, 'rivera': 24051, 'mainvilliers': 16959, 'annulées': 1230, 'serontils': 25607, 'araud': 1529, 'rmc': 24066, 'amorce': 1028, 'vertical': 29056, 'lexplorateur': 15872, 'jeanlouis': 14583, 'libraire': 15968, 'admirable': 386, 'mentales': 17628, 'débordements': 8510, 'juillet': 14823, 'imagine': 13388, 'barbezieux': 2506, 'roumaine': 24214, 'quando': 22553, 'enregistrement': 9743, 'marginal': 17225, 'macklowe': 16852, 'limmobilier': 16092, 'enflamme': 9669, 'poupées': 21396, 'rus': 24324, 'commandé': 5310, 'jazeera': 14566, 'unités': 28670, 'génétiquement': 12516, 'fenster': 10749, 'myanmar': 18501, 'rieu': 23984, 'remigration': 23407, 'rem': 23376, 'dansent': 6988, 'statu': 26614, 'quo': 22646, 'silva': 25860, 'tremble': 28266, 'tweete': 28501, 'mesurer': 17705, 'mauricio': 17464, 'pochettino': 21074, 'retient': 23817, 'déprogrammé': 9057, 'égyptiens': 30262, 'pictures': 20759, 'snap': 26025, 'soutiengorge': 26381, 'radicalisés': 22744, 'éternel': 30536, 'carmen': 4045, 'fragments': 11351, 'aborder': 79, 'cloche': 5022, 'transformée': 28164, 'fées': 11621, 'اخبار': 30680, 'الانترنت': 30681, 'في': 30695, 'restée': 23794, 'prévisible': 22224, 'rivarol': 24047, 'repartager': 23576, 'évalue': 30614, 'audit': 2027, 'servitude': 25636, 'salope': 25024, 'francais': 11361, 'recule': 23158, 'instantanée': 14004, 'labattage': 15137, 'oiseau': 19540, 'nuisible': 19271, 'knafo': 15073, 'recevant': 23055, 'ties': 27772, 'décryptée': 8701, 'eudes': 10094, 'expérimenter': 10402, 'goes': 12068, 'monthly': 18187, 'géniale': 12476, 'leconomie': 15657, 'ultimate': 28616, 'usées': 28747, 'reportées': 23610, 'peuventils': 20670, 'éviction': 30625, 'ihu': 13328, 'verbe': 29010, 'putellas': 22385, 'incarcéré': 13570, 'illeetvilaine': 13344, 'gigabyte': 11971, 'bénédicte': 3689, 'birds': 2923, 'contactés': 5910, 'adverse': 442, 'subversion': 26812, 'refusée': 23244, 'ruptures': 24317, 'métamorphoses': 18655, 'plongez': 21033, 'inventeur': 14257, 'pèlerinage': 22421, 'pp': 21480, 'supprime': 26955, 'présentons': 22167, 'scouts': 25362, 'orl': 19764, 'mercato': 17657, 'vod': 29390, 'soulagement': 26302, 'rêves': 24809, 'br': 3356, 'banks': 2464, 'outils': 19846, 'prostitution': 21947, 'mecque': 17541, 'détenir': 9190, 'écrite': 30199, 'pubs': 22317, 'pâques': 22410, 'gaspar': 11802, 'noé': 19240, 'chaise': 4363, 'diaspora': 7616, 'cei': 4217, 'recensé': 23045, 'brûlent': 3566, 'qs': 22524, 'tutte': 28488, 'tendenze': 27526, 'capelli': 3955, 'pêches': 22508, 'maritimes': 17263, 'identity': 13284, 'escapade': 9963, 'descend': 7375, 'barrées': 2538, 'béchade': 3682, 'crocodile': 6508, 'cubain': 6642, 'dajaccio': 6880, 'jared': 14545, 'kushner': 15120, 'sexu': 25686, 'senflamme': 25511, 'contribue': 6020, 'sait': 24974, 'historiens': 12900, 'rituel': 24039, 'libérez': 15993, 'anfr': 1132, 'estàdire': 10070, 'républicaine': 24635, 'cuillère': 6649, 'renouvellement': 23536, 'refroidissement': 23227, 'stiegler': 26650, 'montgolfière': 18185, 'apex': 1370, 'battle': 2604, 'éducateur': 30235, 'réception': 24420, 'créteil': 6624, 'commenter': 5327, 'veran': 29004, 'known': 15081, 'prevention': 21589, 'centers': 4268, 'iliade': 13341, 'créations': 6602, 'rais': 22775, 'manipulateur': 17120, 'mythomane': 18525, 'provoquent': 22024, 'lucky': 16566, 'exploration': 10333, 'laboratoires': 15148, 'employées': 9558, 'aimeriez': 658, 'zinc': 30024, 'lalimentation': 15279, 'licône': 16011, 'ways': 29688, 'argenteuil': 1579, 'compteur': 5505, 'tricolore': 28300, 'massacré': 17382, 'suffirait': 26859, 'nb': 18862, 'réa': 24359, 'usbc': 28734, 'noyade': 19231, 'infecté': 13770, 'inventent': 14255, 'parte': 20185, 'limité': 16085, 'angot': 1153, 'sorj': 26233, 'chalandon': 4366, 'sister': 25947, 'quits': 22637, 'délicieuses': 8846, 'surmortalité': 27002, 'nordest': 19116, 'décors': 8656, 'abandonnée': 19, 'aînés': 2319, 'doccasion': 8039, 'teyssier': 27645, 'ressemblerait': 23740, 'giec': 11962, 'pel': 20428, 'relancé': 23318, 'comprimés': 5488, 'écartés': 30085, 'volontiers': 29447, 'cavalier': 4189, 'allègrement': 878, 'moha': 18069, 'outrages': 19851, 'actually': 318, 'gambie': 11732, 'peluche': 20436, 'journalistique': 14759, 'infini': 13785, 'depp': 7347, 'daniil': 6967, 'étrille': 30582, 'zverev': 30050, 'défendra': 8746, 'mikheïl': 17821, 'certification': 4313, 'attraction': 1983, 'ouvriront': 19878, 'linsertion': 16171, 'balagne': 2401, 'iam': 13238, 'séjours': 27208, 'bahreïn': 2378, 'bomber': 3127, 'remains': 23378, 'nine': 19006, 'inspirant': 13971, 'antennes': 1252, 'régi': 24521, 'burnandgalpin': 3631, 'coauteur': 5078, 'dhubert': 7574, 'hurkacz': 13130, 'h4': 12561, 'rhum': 23951, 'mako': 16990, 'flore': 11078, 'parlait': 20138, 'collectives': 5174, 'pédocriminels': 22442, 'pool': 21220, 'partiels': 20216, 'ouvrez': 19873, 'thèmes': 27735, 'pourrir': 21422, 'foules': 11293, 'emirats': 9518, 'trust': 28416, 'cratère': 6432, 'sestil': 25642, 'crevettes': 6455, 'homards': 12947, 'animalerie': 1161, 'sarran': 25151, 'lunique': 16612, 'lejeune': 15701, 'semporte': 25501, 'enclave': 9608, 'papilles': 20026, 'commémorative': 5383, 'haïm': 12769, 'lag': 15223, 'wake': 29627, 'sahara': 24896, 'preneur': 21540, 'multi': 18404, 'transportait': 28198, 'economy': 9333, 'alqaïda': 912, 'candice': 3910, 'trams': 28130, 'caillassés': 3783, 'trouveton': 28389, 'écrivaine': 30204, 'senfonce': 25512, 'bourgoinjallieu': 3300, 'alcoolisée': 737, 'récidive': 24426, 'sic': 25781, 'nigel': 18989, 'farage': 10611, 'influenceuses': 13808, 'sextoy': 25685, 'pourparlers': 21402, 'lap': 15391, 'ramallah': 22808, 'interrogées': 14152, 'cymes': 6742, 'annoncerai': 1207, 'suiv': 26890, 'finie': 10951, 'imbroglio': 13398, 'signalisation': 25811, 'saoudiens': 25120, 'tiny': 27804, 'législation': 16738, 'hightech': 12865, 'défends': 8748, 'comprenez': 5484, 'occidentales': 19439, 'exposées': 10370, 'canadian': 3886, 'indigenous': 13687, 'carrie': 4064, 'riom': 24006, 'chou': 4723, 'fixe': 10998, 'apogée': 1379, 'dandy': 6948, 'hypothétique': 13172, 'conclut': 5565, 'fontils': 11189, 'oreille': 19711, 'périgueux': 22476, 'tik': 27781, 'tok': 27869, 'déserté': 9122, 'm5s': 16834, 'confortablement': 5681, 'canton': 3944, 'fonda': 11156, 'gestionnaire': 11933, 'controverse': 6031, 'opacité': 19614, 'adama': 329, 'jordanie': 14712, 'rattrapé': 22948, 'simmoler': 25867, 'tabasse': 27295, 'investigate': 14273, 'tropicales': 28360, 'eternals': 10078, 'thor': 27707, 'planches': 20936, 'sondeurs': 26191, 'échauffement': 30102, 'radieux': 22747, 'télécom': 28536, 'italian': 14439, 'ambassador': 965, 'douleurs': 8252, 'maghrébins': 16896, 'aléatoire': 941, 'gère': 12466, 'wir': 29814, 'durch': 8428, 'ultima': 28615, 'dappliquer': 7010, 'tartiner': 27414, 'cpe': 6398, 'francfort': 11374, 'segré': 25450, 'généreuse': 12505, 'barry': 2536, 'schmidt': 25310, 'traducteur': 28080, 'parutions': 20234, 'informés': 13828, 'chaman': 4384, 'holmes': 12940, 'empêché': 9588, 'darriver': 7036, 'dix': 8011, 'cent': 4262, 'primée': 21614, 'emmy': 9530, 'aideznous': 630, 'parlant': 20139, 'astronomie': 1861, 'fournies': 11308, 'downey': 8276, 'gvt': 12447, 'provoquerait': 22026, 'brio': 3471, 'jong': 14707, 'notez': 19169, 'ping': 20807, 'ciblent': 4809, 'details': 7442, 'interdites': 14096, 'navire': 18844, 'diables': 7590, 'nombreuses': 19075, 'sarrête': 25152, 'règlements': 24353, 'hépatite': 13197, 'décl': 8594, 'testing': 27628, 'tried': 28303, 'malgré': 17019, 'lycées': 16650, 'concentrent': 5536, 'goodies': 12095, 'travaillé': 28237, 'exposée': 10369, 'cyclistes': 6738, 'griller': 12286, 'psychique': 22271, 'natalité': 18789, 'génique': 12480, 'aurélien': 2090, 'jeun': 14638, 'administrer': 383, 'suspensions': 27085, 'wonderful': 29841, 'ptits': 22288, 'through': 27724, 'thiers': 27691, 'chouchou': 4725, 'armistice': 1608, 'salazar': 25000, 'loupé': 16510, 'niney': 19007, 'ignoré': 13323, 'gastroentérite': 11811, 'saisonniers': 24970, 'éveil': 30618, 'spirituelle': 26467, 'badminton': 2360, 'saoudienne': 25119, 'exprésident': 10384, 'nixon': 19026, 'imf': 13401, 'prophète': 21899, 'révélant': 24781, 'existant': 10266, 'agrandit': 577, 'chemtrails': 4587, 'redevenue': 23175, 'proud': 21991, 'chiffrement': 4640, 'trash': 28214, 'dhitler': 7561, 'americas': 1000, 'inscription': 13935, 'nullité': 19275, 'lubrizol': 16551, 'vérification': 29596, 'qled': 22520, 'rarissime': 22903, 'guadeloupéens': 12350, 'dep': 7340, 'communion': 5369, 'jospin': 14724, 'roulette': 24211, 'molle': 18089, 'helena': 12808, 'potentielle': 21362, 'salafistes': 24983, 'endormir': 9643, 'commenté': 5329, 'cau': 4165, 'bâtard': 3669, 'repérées': 23672, 'citadelle': 4872, 'remparts': 23430, 'espèrent': 10002, 'parenthèse': 20098, 'reparties': 23579, 'remportent': 23450, 'compréhension': 5493, 'victory': 29125, 'réaffirme': 24370, 'malmené': 17039, 'pocket': 21075, 'aise': 680, 'lhémicycle': 15938, 'couv': 6345, 'suffrages': 26866, 'filmant': 10899, 'apprends': 1457, 'nawak': 18849, 'caricaturiste': 4034, 'intoxiqués': 14195, 'détecte': 9178, 'explosif': 10341, 'direc': 7808, 'fontaine': 11181, 'facteurs': 10505, 'daurel': 7095, 'verront': 29035, 'lenteur': 15755, 'lévènement': 16825, 'mêlant': 18687, 'installations': 13990, 'bee': 2685, 'herald': 12822, 'competition': 5420, 'bourguignon': 3301, 'viticulteur': 29351, 'nayez': 18852, 'cor': 6136, 'touchez': 27969, 'proust': 21995, 'inexpliquée': 13757, 'emm': 9521, 'charleroi': 4502, 'cela': 4220, 'malheur': 17021, 'metteur': 17720, 'déplacé': 9017, 'yoyo': 29985, 'résea': 24656, 'controversés': 6037, 'divisent': 7998, 'novavax': 19221, 'badinter': 2359, 'nonagénaire': 19090, 'bridge': 3444, 'asked': 1746, 'piétinent': 20880, 'sachez': 24846, 'lasthme': 15493, 'manoeuvre': 17137, 'serbia': 25580, 'investigating': 14274, 'associées': 1818, 'luis': 16582, 'enrique': 9754, 'recueillis': 23156, 'rockstar': 24107, 'trierweiler': 28305, 'parkour': 20134, 'bot': 3209, 'humanoïde': 13104, 'aile': 643, 'cosby': 6210, 'lawmakers': 15599, 'they': 27684, 'elijah': 9442, 'killers': 15033, 'arbitrage': 1531, 'tapiecrédit': 27389, 'sécurisée': 27189, 'servira': 25634, 'courez': 6306, 'bu': 3576, 'nicola': 18978, 'fisher': 10988, 'diablo': 7591, 'resurrected': 23799, 'citations': 4876, 'sages': 24885, 'dintégrer': 7774, 'risqueton': 24030, 'virginia': 29272, 'soleimani': 26133, 'étatmajor': 30524, 'whitaker': 29764, 'impatients': 13451, 'cla': 4911, 'judicieux': 14798, 'larchevêque': 15432, 'monseigneur': 18148, 'aupetit': 2063, 'nonantecinq': 19091, 'autun': 2181, 'vénézuéliens': 29592, 'infiniment': 13787, 'molécule': 18094, 'atome': 1897, 'petitsdéjeuners': 20652, 'targeting': 27402, 'gold': 12072, 'généralise': 12494, 'connexion': 5748, 'deathloop': 7151, 'navais': 18832, 'sciemment': 25326, 'minimisé': 17903, 'quinn': 22630, 'renouvelée': 23538, 'protrump': 21978, 'maga': 16885, 'prénoms': 22126, 'gary': 11797, 'isola': 14409, 'claudie': 4969, 'haigneré': 12619, 'sélectionnée': 27215, 'envoler': 9901, 'عن': 30694, 'pénale': 22450, 'pluton': 21056, 'sculpture': 25374, 'alison': 813, 'traumatisée': 28220, 'leducation': 15670, 'rédacteur': 24464, 'fièvre': 11007, 'recommend': 23089, 'flynn': 11107, 'guayaquil': 12360, 'laine': 15248, 'bl': 2958, 'postcovid': 21334, 'léthique': 16809, 'forc': 11207, 'indifférence': 13685, 'déconstruction': 8648, 'appart': 1398, 'dej': 7203, 'prestigieuse': 21582, 'rêvent': 24807, 'sectes': 25432, 'chapitre': 4461, 'virtual': 29279, 'initiale': 13859, 'tristement': 28325, 'wallah': 29635, 'wokisme': 29831, 'rappelezvous': 22874, 'questi': 22608, 'retranché': 23852, 'envers': 9875, 'plongent': 21028, 'lââm': 16681, 'sagesse': 24887, 'luxueuse': 16640, 'slimani': 25996, 'occulter': 19443, 'alibi': 789, 'horaire': 13003, 'ministériels': 17916, 'fined': 10945, 'misé': 17979, 'tanzanien': 27384, 'abdulrazak': 44, 'gurnah': 12422, 'didées': 7637, 'reçues': 23943, 'josep': 14718, 'injuste': 13880, 'launch': 15529, 'debriefing': 7158, 'clarifier': 4940, 'associatif': 1809, 'gentils': 11903, 'lobbies': 16315, 'privilèges': 21662, 'excentrique': 10184, 'tuyaux': 28490, 'rayan': 22972, 'injurieux': 13878, 'mme': 18004, 'guyanais': 12428, 'loki': 16393, 'expliqué': 10315, 'esa': 9957, 'izual': 14469, 'châlonsenchampagne': 4779, 'anonyme': 1240, 'primé': 21613, 'ecoles': 9322, 'salariales': 24991, 'created': 6438, 'dna': 8031, 'reynouard': 23936, 'animé': 1178, 'souvenezvous': 26386, 'payan': 20371, 'tai': 27333, 'lafesse': 15211, 'canular': 3947, 'accroche': 196, 'malaisie': 17003, 'chevaliers': 4611, 'voteront': 29484, 'bat': 2583, 'développeurs': 9259, 'maïtena': 17506, 'biraben': 2921, 'fâche': 11606, 'envisagé': 9892, 'tanière': 27377, 'lallongement': 15287, 'lenvolée': 15770, 'empoisonnement': 9564, 'chassécroisé': 4526, 'auvergnerhônealpes': 2184, 'pandémique': 19992, 'ancré': 1107, 'jugnot': 14812, 'gâtés': 12463, 'réduites': 24482, 'fondées': 11179, 'champignon': 4398, 'atomique': 1898, 'sélève': 27220, 'reason': 23008, 'équateur': 30469, 'trotta': 28362, 'roulent': 24209, 'louée': 16525, 'ofce': 19486, 'attendezvous': 1946, 'ravive': 22968, 'cibles': 4811, 'xr': 29902, 'impressions': 13511, 'balistique': 2417, 'lassurancechômage': 15490, 'jusquelà': 14873, 'toujou': 27979, 'nutella': 19299, 'farm': 10619, 'yémen': 29993, 'délirantes': 8853, 'commandement': 5303, 'dinvestir': 7779, 'beaudin': 2655, 'bla': 2959, 'demiteinte': 7273, 'platesformes': 20973, 'act': 279, 'adoption': 410, 'construisent': 5880, 'pardonner': 20088, 'djihad': 8023, 'leos': 15776, 'carax': 4003, 'réalis': 24379, 'partons': 20226, 'exposés': 10371, 'castel': 4129, 'rassemblé': 22917, 'maintenance': 16948, 'escobar': 9972, 'obispo': 19366, 'proposed': 21913, 'interrogatoire': 14146, 'beaujoire': 2659, 'hidden': 12858, 'manège': 17168, 'désagréable': 9108, 'incertitude': 13591, 'protestante': 21962, 'déploie': 9021, 'northwest': 19146, 'gouverné': 12154, 'superriches': 26929, 'louhans': 16500, 'rica': 23960, 'sentenced': 25538, 'ple': 20995, 'cruelle': 6570, 'dannonce': 6976, 'recyclés': 23167, 'showing': 25769, 'breast': 3415, 'approbation': 1468, 'accablant': 135, 'ier': 13307, 'unifié': 28652, 'towards': 28034, 'mandatory': 17078, 'confédération': 5693, 'passive': 20287, 'isolées': 14416, 'affirmer': 489, 'philosophique': 20706, 'pesant': 20628, 'consei': 5776, 'lexploitation': 15871, 'ferroviaire': 10792, 'acté': 325, 'étendu': 30533, 'collections': 5171, 'puisqu': 22329, 'testée': 27632, 'redevenir': 23173, 'spreading': 26499, 'récurrents': 24462, 'manches': 17071, 'alcoolisme': 735, 'bordelaise': 3186, 'coucou': 6245, 'heu': 12841, 'ulule': 28628, 'préparons': 22147, 'blocked': 3026, 'endeuillé': 9629, 'lei': 15698, 'téléfilms': 28540, 'wire': 29816, 'heights': 12804, 'confirmation': 5651, 'ones': 19595, 'grid': 12275, 'instance': 13998, 'renforçant': 23514, 'motorisés': 18315, 'morin': 18258, 'lattention': 15517, 'négocier': 19340, 'ménager': 18630, 'villarreal': 29206, 'infectés': 13773, 'modern': 18037, 'values': 28876, 'chuter': 4774, 'quéric': 22666, 'icônes': 13263, 'maldives': 17010, 'commémoration': 5381, 'mussolini': 18475, 'espions': 9992, 'rendement': 23487, 'peaks': 20407, 'transmet': 28181, 'pionnier': 20817, 'paralympique': 20057, 'pistorius': 20854, 'entamer': 9776, 'progaming': 21788, 'accalmie': 139, 'remises': 23411, 'knock': 15078, 'mocks': 18030, 'rittenhouses': 24038, 'favorisant': 10688, 'ouv': 19860, 'larges': 15443, 'structurer': 26735, 'numéri': 19283, 'elie': 9441, 'thématiques': 27740, 'regret': 23270, 'pacific': 19917, 'méd': 18561, 'capricorne': 3971, 'bonhomme': 3148, 'collectés': 5178, 'domont': 8131, 'fauchés': 10657, 'tentant': 27546, 'cruciaux': 6565, 'revenons': 23899, 'suspected': 27068, 'enquêteur': 9738, 'danalyse': 6943, 'sonne': 26199, 'laudition': 15527, 'tumeurs': 28457, 'cagoulés': 3776, 'sciamma': 25324, 'arrêtons': 1682, 'math': 17418, 'add': 340, 'claqué': 4937, 'haïtiens': 12774, 'patriarche': 20326, 'kirill': 15052, 'restore': 23785, 'vence': 28964, 'larbre': 15428, 'économisé': 30164, 'donbass': 8137, 'lépoque': 16793, 'détournement': 9219, 'moldavie': 18085, 'dérober': 9085, 'procureurs': 21715, 'becker': 2678, 'remboursement': 23390, 'antisioniste': 1318, 'tabassé': 27297, 'émerger': 30356, 'deuxième': 7464, 'lost': 16480, 'voyageur': 29521, 'immobilisé': 13427, 'adnan': 396, 'réunies': 24725, 'braconnier': 3361, 'caraïbes': 4004, 'destructeurs': 7437, 'croisade': 6514, 'ceremony': 4296, 'glass': 12029, 'volante': 29426, 'infrastructures': 13834, 'remportant': 23448, 'smr': 26021, 'fragilité': 11350, 'lavance': 15567, 'noble': 19037, 'delays': 7212, 'currency': 6706, 'spécifiques': 26524, 'containers': 5915, 'mary': 17352, 'réchauffer': 24425, 'sagace': 24881, 'amandes': 949, 'reworld': 23930, 'chiffrer': 4641, 'rezé': 23937, 'lobbyiste': 16318, 'lovers': 16530, 'mozart': 18376, 'roch': 24091, 'neufs': 18920, 'modeste': 18046, 'régression': 24542, 'affirmation': 485, 'corsini': 6201, 'entraver': 9826, 'jérémy': 14906, 'douter': 8261, 'dexperts': 7528, 'degli': 7198, 'antitrust': 1327, 'récalcitrants': 24412, 'lexcellent': 15853, 'faustine': 10672, 'proposait': 21909, 'démasqué': 8896, 'vétéran': 29609, 'réitère': 24574, 'passoires': 20288, 'poulailler': 21382, 'aliment': 798, 'phare': 20679, 'sauces': 25197, 'sentent': 25540, 'momie': 18102, 'turcs': 28471, 'pattinson': 20350, 'davet': 7120, 'flo': 11070, 'captivante': 3981, 'garnier': 11792, 'remplacera': 23435, 'rencontrée': 23479, 'connecté': 5742, 'asiatique': 1741, 'vernon': 29028, 'raddad': 22731, 'finisse': 10957, 'famil': 10580, 'maudit': 17460, 'maltraitée': 17046, 'érigé': 30494, 'utilité': 28773, 'lointain': 16380, 'risquez': 24031, 'used': 28737, 'scoops': 25349, 'bayonne': 2627, 'mccarthy': 17512, 'inédites': 14317, 'panthère': 20010, 'footing': 11200, 'inté': 14213, 'biontech': 2913, 'tubiana': 28440, 'twittos': 28512, 'serions': 25599, 'gangsters': 11749, 'deve': 7477, 'lover': 16529, 'échantillons': 30094, 'lh': 15902, 'mécènes': 18559, 'laissant': 15254, 'comic': 5290, 'criminelles': 6477, 'volo': 29443, 'ficelée': 10832, 'dirigée': 7832, 'pilules': 20799, 'struggle': 26737, 'rompt': 24158, 'rou': 24192, 'conjointe': 5711, 'ruban': 24274, 'fiançailles': 10824, 'lallocation': 15285, 'escapades': 9964, 'dance': 6944, 'floor': 11073, 'implications': 13465, 'manifest': 17105, 'bondy': 3142, 'lantipresse': 15379, 'chevet': 4615, 'dhomicide': 7564, 'pointé': 21106, 'jungle': 14845, 'dhumour': 7579, 'hanukkah': 12687, 'croixrouge': 6532, 'audacieux': 2015, 'camping': 3871, 'exaspère': 10174, 'minceur': 17882, 'pitiésalpêtrière': 20860, 'maltraite': 17044, 'varois': 28918, 'pialoux': 20742, 'warriors': 29664, 'amer': 996, 'dintérêt': 7776, 'déficits': 8764, 'occupe': 19448, 'besson': 2794, 'apparaissent': 1385, 'irakiens': 14343, 'confidentiel': 5634, 'status': 26618, 'tibhirine': 27760, 'mamie': 17058, 'égérie': 30263, 'prostituée': 21948, 'poteau': 21358, 'dinquiétude': 7757, 'quont': 22649, 'perquisitionné': 20561, 'refrain': 23225, 'lincoln': 16121, 'tuméfié': 28458, 'noi': 19053, 'ohmymag': 19534, 'émilie': 30368, 'poidslourd': 21084, 'logiciel': 16367, 'lafrique': 15222, 'interprétée': 14142, 'séquences': 27247, 'vidéosurveillance': 29141, 'collants': 5157, 'truquées': 28414, 'touchait': 27961, 'téléviseur': 28560, 'nbc': 18864, 'dissimuler': 7939, 'chant': 4434, 'lentraînement': 15758, 'abnousse': 57, 'douloureux': 8255, 'antivaccin': 1328, 'lamendement': 15305, 'cop15': 6107, 'grimpent': 12291, 'convenu': 6058, 'lec': 15649, 'scandaleuse': 25286, 'soupçonne': 26330, 'clémence': 5050, 'battus': 2611, 'défilés': 8773, 'calanques': 3798, 'exarchopoulos': 10173, 'leïla': 15892, 'bekhti': 2700, 'violeur': 29256, 'quaux': 22577, 'délégué': 8875, 'hampm': 12661, 'motivé': 18310, 'ip': 14332, 'rejoins': 23307, 'recco': 23034, 'khazri': 15011, 'lassassinat': 15481, 'fiers': 10854, 'consécutif': 5898, 'dartistes': 7045, 'lanonymat': 15370, 'toni': 27903, 'bears': 2644, 'prématurés': 22121, 'dentaires': 7320, 'fillettes': 10895, 'dépens': 9002, 'nain': 18720, 'expulsés': 10391, 'cartographie': 4081, 'imag': 13380, 'toiture': 27868, 'taïwanais': 27447, 'usines': 28742, 'chimiques': 4655, 'attirance': 1970, 'parkinson': 20132, 'schizophrénie': 25309, 'déplaise': 9020, 'métallique': 18652, 'august': 2048, 'parvenue': 20237, 'confié': 5662, 'serv': 25617, 'voyant': 29529, 'inondées': 13909, 'stupeur': 26750, 'mutuelles': 18497, 'déclassement': 8607, 'reprennent': 23631, 'gene': 11881, 'californiens': 3814, 'adjani': 366, 'hollywoodienne': 12939, 'fondations': 11166, 'sucré': 26833, 'diagnostic': 7598, 'dating': 7069, 'canalsport': 3891, 'jeudis': 14636, 'drill': 8332, 'marnaises': 17282, 'essayent': 10020, 'hungary': 13124, 'move': 18360, 'asylum': 1874, 'seekers': 25442, 'niel': 18986, 'simplification': 25874, 'supposés': 26952, 'sweat': 27101, 'lionceau': 16217, 'additionnel': 348, 'valenciennes': 28839, 'impuissante': 13527, 'piraterie': 20838, 'eut': 10128, 'supplément': 26935, 'duchesse': 8383, 'soignante': 26100, 'écrasée': 30193, 'longoria': 16412, 'retouches': 23832, 'leffectif': 15675, 'châteauneuf': 4784, 'collaborations': 5148, 'boi': 3099, 'effrayant': 9393, 'léloge': 16764, 'lassassin': 15480, 'pinel': 20806, 'sévérité': 27280, 'doisje': 8087, 'winner': 29807, 'guidée': 12392, 'encaisser': 9597, 'librairies': 15971, 'aukus': 2059, 'miroirs': 17951, 'abattre': 27, 'liberal': 15956, 'appropriation': 1476, 'aidant': 619, 'joueuses': 14741, 'aespa': 453, 'bit': 2943, 'demandons': 7255, 'conservé': 5801, 'approfondir': 1475, 'reconfine': 23096, 'steaks': 26624, 'shopper': 25754, 'espion': 9988, 'pegasus': 20418, 'endettement': 9627, 'braqueurs': 3390, 'reflètent': 23217, 'inte': 14057, 'dinah': 7727, 'porteuses': 21281, 'écologiques': 30149, 'chrétiennes': 4762, 'vp': 29537, 'tiphaine': 27807, 'laboutissement': 15152, 'achetés': 254, 'dessai': 7401, 'rends': 23499, 'goasguen': 12063, 'coffin': 5099, 'insultée': 14047, 'éditocrates': 30228, 'incertaine': 13589, 'initiation': 13861, 'seat': 25391, 'foods': 11192, 'weight': 29721, 'nih': 18997, 'indi': 13671, 'transcript': 28150, 'strict': 26721, 'glu': 12053, 'jambe': 14517, 'cassée': 4121, 'fracturé': 11344, 'skins': 25975, 'macronienne': 16860, 'coupés': 6291, 'sansabris': 25107, 'sidney': 25789, 'méfiance': 18605, 'esquiver': 10010, 'bellemère': 2722, 'hallucinant': 12641, 'h24': 12556, 'murmure': 18445, 'benyamin': 2754, 'moralement': 18236, 'cards': 4022, 'rendez': 23490, 'brisées': 3481, 'prêté': 22245, 'gave': 11839, 'reaction19webtv2021': 22997, 'fleurissent': 11047, 'antistress': 1319, 'yachts': 29919, 'trône': 28426, 'diphone': 7788, 'retail': 23802, 'hbc': 12776, 'permettait': 20541, 'mougins': 18330, 'obèse': 19425, 'upon': 28697, 'comparez': 5408, 'variole': 28913, 'affirmations': 486, 'nose': 19154, 'sèchement': 27168, 'hosted': 13044, 'reconfinée': 23099, 'horoscope': 13012, 'mistral': 17976, 'cachette': 3750, 'dax': 7131, 'utérus': 28775, 'ms': 18385, 'environ': 9879, 'muni': 18423, 'bombarder': 3123, 'géniques': 12481, 'lib': 15951, 'pans': 20006, 'entiers': 9806, 'sephora': 25560, 'dépeinte': 8995, 'esclave': 9970, 'injure': 13874, 'soon': 26213, 'drh': 8329, 'davy': 7130, 'rhônealpes': 23956, 'windsor': 29803, 'cherché': 4605, 'deven': 7480, 'flics': 11058, 'varennesvauzelles': 28904, 'courges': 6308, 'aiguilles': 639, 'déplorent': 9025, 'aimerez': 657, 'soc': 26047, 'withdrawal': 29823, 'heated': 12796, 'kanner': 14938, 'planifié': 20941, 'cumbre': 6687, 'vieja': 29150, 'ph': 20676, 'redonnent': 23185, 'croyances': 6551, 'fiables': 10820, 'bison': 2937, 'futé': 11602, 'gaspillages': 11805, 'porcs': 21243, 'nique': 19015, 'sexpriment': 25681, 'aîné': 2318, 'hypnose': 13164, 'sacrifice': 24852, 'cohésion': 5116, 'commercialiser': 5338, 'téléviseurs': 28561, 'abusé': 124, 'cice': 4817, 'marnais': 17281, 'garantir': 11761, 'dévacuation': 9248, 'néerlandais': 19319, 'hans': 12682, 'assument': 1826, 'hashtags': 12723, 'lavier': 15583, 'brighton': 3455, 'dautrui': 7109, 'negative': 18877, 'mainte': 16946, 'défenses': 8752, 'immunitaires': 13435, 'boulet': 3260, 'encore': 9614, 'pennsylvanie': 20456, 'soudaine': 26270, 'ballons': 2427, 'accrochés': 200, 'timing': 27795, 'runeterra': 24308, 'tiennent': 27767, 'thoen': 27702, 'sanctuaire': 25079, 'retoqué': 23829, 'ciblées': 4814, 'dexter': 7536, 'composés': 5477, 'marieantoinette': 17240, 'parcourt': 20082, 'molière': 18088, 'capucine': 3990, 'anav': 1093, 'dérision': 9079, 'clause': 4970, 'alarm': 710, 'mitch': 17982, 'mcconnell': 17515, 'minoritaires': 17924, 'imitation': 13403, 'cindy': 4831, 'survol': 27050, 'kourtney': 15103, 'jeanfrédéric': 14579, 'détester': 9210, 'macroniste': 16863, 'rassembler': 22916, 'cameron': 3849, 'apollo': 1381, 'joyau': 14778, 'larabie': 15425, 'contester': 5950, 'lampe': 15313, 'govt': 12161, 'cameroun': 3850, 'gamine': 11740, 'aftermath': 526, 'isolée': 14415, 'saluons': 25033, 'affluent': 494, 'installés': 13997, 'guinguette': 12406, 'vilain': 29197, 'sachezle': 24847, 'estivale': 10061, 'braqueur': 3389, 'reprocher': 23638, 'nexistent': 18953, 'tunnels': 28468, 'gaullisme': 11831, 'générosité': 12511, 'nempêche': 18889, 'delawarde': 7209, 'sinstalle': 25924, 'duos': 8408, 'comiques': 5296, 'làbas': 16669, 'metro': 17713, 'urne': 28722, 'élèvent': 30338, 'envoient': 9897, 'fondamental': 11157, 'contiennent': 5955, 'robotique': 24086, 'indéniable': 13736, 'myopie': 18507, 'réfléchi': 24495, 'clarke': 4943, 'sncfgrèveidf': 26030, 'transilien': 28177, 'cac': 3740, 'démobilisation': 8915, 'hédon': 13189, 'défenseure': 8754, 'féliciter': 11626, 'achève': 261, 'vivendi': 29371, 'montceaulesmines': 18174, 'facilitent': 10495, 'attise': 1975, 'cinglante': 4833, 'fighters': 10865, 'slaves': 25991, 'conor': 5756, 'appelée': 1424, 'count': 6268, 'wikipédia': 29783, 'rédacteurs': 24465, 'isaiah': 14382, 'both': 3210, 'saved': 25242, 'spend': 26448, 'candi': 3909, 'poux': 21466, 'beatrice': 2648, 'announce': 1216, 'unity': 28668, 'considering': 5805, 'mobilisonsnous': 18019, 'bédié': 3683, 'traditions': 28079, 'disolement': 7884, 'voyants': 29531, 'entraînant': 9827, 'habite': 12588, 'soixantaine': 26118, 'dédicace': 8713, 'aur': 2066, 'dexpulser': 7533, 'oubliant': 19816, 'chaq': 4465, 'ceu': 4337, 'éclairent': 30124, 'fortin': 11261, 'savin': 25250, 'relancent': 23316, 'maillots': 16936, 'puce': 22318, 'pardonne': 20087, 'warn': 29657, 'occupied': 19451, 'palestinian': 19958, 'voyou': 29535, 'hostile': 13045, 'appartements': 1400, 'congress': 5702, 'bancs': 2450, 'sintensifie': 25929, 'lindice': 16129, 'indopacifique': 13718, 'ultramarins': 28624, 'laid': 15239, 'hautegaronne': 12738, 'germinal': 11924, 'investisseur': 14284, 'inchiesta': 13595, 'industry': 13729, 'captivant': 3980, 'baccalauréat': 2335, 'lexamen': 15852, 'nordaméricains': 19114, 'enlevés': 9715, 'indiens': 13684, 'borgo': 3192, 'hospitalisées': 13038, 'dlc': 8028, 'fameuses': 10576, 'relogés': 23366, 'jaime': 14503, 'bluetooth': 3056, 'fifty': 10859, 'fortdefrance': 11256, 'éligible': 30308, 'marquinhos': 17300, 'libra': 15967, 'dylan': 8467, 'aged': 537, 'laisserons': 15259, 'tableaux': 27301, 'ephilippe': 9918, 'lhomosexualité': 15918, 'lillustration': 16065, 'exige': 10250, 'préoccupations': 22131, 'poings': 21099, 'formé': 11252, 'évacue': 30603, 'falsifié': 10571, 'civiles': 4898, 'enclenché': 9609, 'lenseigne': 15747, 'qi': 22519, 'caritatif': 4035, 'confronter': 5685, 'intacte': 14056, 'rafael': 22754, 'zélé': 30053, 'antirestrictions': 1315, 'celebrates': 4223, 'ella': 9452, 'according': 180, 'recent': 23048, 'dumont': 8396, 'acquérir': 276, 'gazette': 11848, 'playboy': 20982, 'ralentissement': 22792, 'louest': 16496, 'prévoient': 22227, 'lafflux': 15216, 'noyades': 19232, 'nager': 18711, 'fraisou': 11355, 'linfluenceuse': 16148, 'wilbur': 29785, 'rr': 24260, 'rivalité': 24045, 'surgit': 26999, 'poil': 21095, 'trendstendances': 28275, 'magnette': 16911, 'viendront': 29155, 'praliné': 21492, 'décriée': 8687, 'fraudeurs': 11431, 'boebert': 3090, 'dormez': 8198, 'ferez': 10759, 'raise': 22776, 'mouloud': 18337, 'achour': 258, 'indécent': 13732, 'damme': 6930, 'scie': 25325, 'proie': 21811, 'aimant': 650, 'bloqué': 3046, 'escalade': 9959, 'gant': 11750, 'chômeur': 4798, 'zhang': 30018, 'bread': 3407, 'featuring': 10720, 'strange': 26690, 'jill': 14652, 'melania': 17573, 'oublions': 19821, 'senchaînent': 25507, 'showdown': 25768, 'internationales': 14118, 'horsjeu': 13022, 'daillet': 6872, 'semparer': 25500, 'stagione': 26562, 'quali': 22537, 'tant': 27379, 'momoa': 18104, 'verse': 29039, 'vaton': 28931, 'carrying': 4068, 'alongside': 898, 'guns': 12420, 'sucrés': 26836, 'denfer': 7296, 'représentations': 23654, 'baye': 2623, 'syrian': 27154, 'refugees': 23230, 'intensive': 14077, 'liv': 16273, 'accompagnant': 164, 'dintérêts': 7777, 'gilead': 11979, 'tél': 28528, 'lagglomération': 15231, 'prédictions': 22085, 'astrologiques': 1855, 'innocenté': 13891, 'tonnerre': 27909, 'interrompt': 14155, 'allègement': 877, 'contournement': 5973, 'gym': 12449, 'buckingham': 3579, 'overnight': 19890, 'salari': 24988, 'shawn': 25720, 'mendes': 17607, 'camila': 3852, 'cabello': 3734, 'breakup': 3414, 'split': 26471, 'iglesias': 13311, 'syndicale': 27140, 'villeneuved': 29212, 'ascq': 1734, 'probably': 21684, 'sombres': 26167, 'brutes': 3546, 'dirige': 7824, 'danxiété': 7003, 'pathologique': 20314, 'ludi': 16570, 'recueillir': 23155, 'buralistes': 3618, 'déclarait': 8597, 'trend': 28273, 'écolier': 30144, 'saintjean': 24931, 'dolby': 8096, 'atmos': 1894, 'souvrir': 26401, 'cédé': 6763, 'bas': 2545, 'lautonomie': 15555, 'timbres': 27789, 'mas': 17359, 'gmail': 12058, 'dd': 7137, 'malêtre': 17052, 'rangnick': 22839, 'atypiques': 1998, 'popup': 21238, 'stores': 26678, 'manquement': 17145, 'troc': 28330, 'entorse': 9813, 'pv': 22398, 'brocantes': 3495, 'simulator': 25889, 'contraction': 5982, 'maximales': 17481, 'requises': 23684, 'celebrated': 4222, 'montrée': 18207, 'crédible': 6612, 'n3': 18699, 'supérieure': 26971, 'météorites': 18684, 'éternelle': 30537, 'pourrai': 21407, 'dallemagne': 6903, 'ultimatum': 28617, 'tes': 27616, 'reconnue': 23113, 'razer': 22983, 'corail': 6138, 'divorce': 8006, 'soja': 26120, 'laprèsmidi': 15417, 'wildlife': 29789, 'publ': 22292, 'nourrisson': 19195, 'pédiatre': 22436, 'montagnier': 18162, 'blind': 3012, 'lazio': 15610, 'vertigineux': 29061, 'relâchement': 23370, 'envisageable': 9889, 'warming': 29656, 'déclic': 8616, 'réinventer': 24572, 'souviennent': 26396, 'centriste': 4284, 'edge': 9344, 'archevêque': 1546, 'alep': 745, 'concurrent': 5581, 'exchange': 10195, 'nocifs': 19045, 'paradise': 20045, 'antifascistes': 1289, 'saisonnier': 24969, 'sapplique': 25135, 'pénicaud': 22456, 'surnommée': 27006, 'astronomiques': 1863, 'manuscrit': 17165, 'johanna': 14680, 'marqués': 17305, 'missed': 17966, 'libya': 15978, 'lineup': 16141, 'lalliance': 15283, 'shanghai': 25711, 'chargée': 4488, 'uncharted': 28638, 'démantèlement': 8885, 'caractères': 3995, 'dassassinat': 7053, 'skier': 25970, 'mentionne': 17639, 'babylone': 2332, 'antiques': 1309, 'investigative': 14277, 'contacte': 5905, 'thaïs': 27664, 'sfr': 25698, 'pens': 20457, 'versements': 29042, 'rabbin': 22677, 'semblait': 25484, 'lindignation': 16131, 'poils': 21096, 'demorand': 7282, 'burgers': 3626, 'filières': 10890, 'façade': 10698, 'najat': 18729, 'passed': 20260, 'intercités': 14087, 'aram': 1528, 'sévit': 27276, 'contre': 6003, 'chirurgienne': 4678, 'larbitre': 15427, 'teenagers': 27483, 'barrière': 2534, 'blanchissement': 2987, 'vulnérables': 29567, 'socle': 26081, 'broncos': 3504, 'attempt': 1935, 'fon': 11138, 'gosse': 12109, 'communal': 5357, 'contraste': 5999, 'dettes': 7453, 'debré': 7160, 'lhéritier': 15941, 'dry': 8368, 'other': 19806, 'smoking': 26018, 'obsolète': 19410, 'koba': 15084, 'organisateur': 19724, 'bertille': 2787, 'bayart': 2622, 'gather': 11817, 'antiblanc': 1263, 'rég': 24515, 'yellowstone': 29945, 'closing': 5033, 'alaphilippe': 709, 'bipolaires': 2920, 'assistants': 1798, 'salades': 24981, 'braquer': 3388, 'clauses': 4971, 'abusives': 123, 'hameau': 12656, 'collard': 5159, 'colombeylesdeuxeglises': 5212, 'queric': 22603, 'collectionner': 5168, 'habillée': 12577, 'croissant': 6523, 'dotages': 8219, 'lhumain': 15925, 'embrasse': 9502, 'sin': 25892, 'inondé': 13907, 'belarus': 2703, 'whats': 29751, 'législatif': 16737, 'contributeurs': 6023, 'donateurs': 8134, 'delga': 7216, 'faïza': 10703, 'fourgon': 11301, 'blindé': 3013, 'soutiendra': 26380, 'surréalistes': 27022, 'prononcées': 21881, 'jawad': 14563, 'lexercice': 15859, 'cold': 5133, 'alertechinecoronavirus': 748, 'jorge': 14713, 'archie': 1547, 'enfonce': 9674, 'éternité': 30540, 'samir': 25056, 'puces': 22319, 'irène': 14378, 'labour': 15151, 'rémunérés': 24587, 'sérieusement': 27258, 'rodriguez': 24115, 'novel': 19223, 'auditionné': 2031, 'proves': 22008, 'règlent': 24354, 'waouh': 29650, 'sors': 26237, 'agissant': 559, 'checking': 4563, 'obus': 19424, 'opère': 19662, 'immenses': 13410, 'classer': 4955, 'citoyennes': 4885, 'boussole': 3317, 'gps': 12169, 'immunitaire': 13434, 'passengers': 20261, 'cubains': 6644, 'violations': 29241, 'alsissi': 920, 'laisseznous': 15261, 'géré': 12533, 'délocalisation': 8866, 'renversement': 23557, 'dégradation': 8798, 'recruté': 23143, 'manucure': 17161, 'danielle': 6966, 'variante': 28908, 'gentiment': 11904, 'gonfler': 12088, 'croyons': 6555, 'élaborer': 30268, 'sncfgrève': 26029, 'instantan': 14002, 'juncker': 14842, 'promu': 21871, 'liss': 16247, 'feratil': 10758, 'cahuzac': 3781, 'tucker': 28443, 'moïse': 18379, 'bénéficient': 3698, 'ruinée': 24298, 'sacrifices': 24853, 'constructifs': 5875, 'dalain': 6885, 'interrogée': 14151, 'tsunami': 28432, 'loption': 16437, 'j3': 14472, 'knight': 15077, 'disputes': 7925, 'bricolage': 3442, 'reconvertir': 23124, 'guichets': 12385, 'lesbienne': 15784, 'parisnormandie': 20123, 'altitude': 933, 'incitant': 13599, 'valoriser': 28871, 'darcachon': 7019, 'prédécesseur': 22088, 'cyberharcèlement': 6729, 'initialement': 13860, 'alarmant': 711, 'serpents': 25609, 'syndicalisme': 27142, 'lors': 16460, 'échangent': 30087, 'economist': 9331, 'ministr': 17909, 'brussels': 3539, 'dépeint': 8994, 'loufoque': 16498, 'dentrée': 7332, 'techniciens': 27468, 'pam': 19975, 'réinitialisation': 24562, 'correspondants': 6181, 'anonymat': 1239, 'montaigne': 18163, 'façades': 10699, 'mortels': 18274, 'ascenseur': 1730, 'apparente': 1395, 'décrochent': 8690, 'remontada': 23413, 'marocaine': 17286, 'confinée': 5646, 'grandsmères': 12210, 'dépasser': 8989, 'égoïste': 30257, 'ompsg': 19586, 'kylie': 15124, 'jenner': 14606, 'hôte': 13226, 'pearl': 20409, 'darvor': 7046, 'fantasy': 10606, 'scien': 25327, 'papas': 20018, 'romains': 24144, 'saisi': 24959, 'shimon': 25736, 'peres': 20519, 'ébranlé': 30076, 'limam': 16074, 'suspendent': 27075, 'enregistrements': 9744, 'dinfo': 7740, 'majoritaire': 16979, 'comb': 5260, 'aisés': 683, 'provoqués': 22030, 'investigators': 14278, 'track': 28056, 'timeline': 27791, 'bohemian': 3096, 'rhapsody': 23948, 'prétendantes': 22205, 'entament': 9775, 'fissures': 10991, 'lueur': 16577, 'alerteusacoronavirus': 759, 'spécialisé': 26516, 'lapaisement': 15392, 'solskjaer': 26155, 'algériennes': 783, 'exceptionnels': 10191, 'biolay': 2906, 'ongles': 19598, 'chahuté': 4356, 'sciencespo': 25332, 'stévenin': 26779, 'infectée': 13771, 'tadej': 27320, 'pogacar': 21079, 'midécembre': 17792, 'articulaires': 1699, 'bail': 2383, 'perronne': 20566, 'ward': 29653, 'reveal': 23883, 'newcastle': 18941, 'amanda': 948, 'salmane': 25018, 'ea': 9295, 'hambourg': 12653, 'harkis': 12708, 'momies': 18103, 'samed': 25053, 'continents': 5961, 'polonaises': 21193, 'bis': 2930, 'nsa': 19246, 'starlink': 26585, 'pollue': 21179, 'caf': 3767, 'résurgence': 24708, 'méprise': 18639, 'réservoir': 24666, 'simposer': 25881, 'carrières': 4066, 'revolution': 23925, 'revendiqué': 23894, 'sold': 26125, 'chiots': 4668, 'phares': 20680, 'calendriers': 3807, 'cart': 4074, 'dgsi': 7545, 'enquê': 9732, 'superstar': 26932, 'croisette': 6520, 'poudlard': 21379, 'ivermectine': 14458, 'damn': 6931, 'manet': 17083, 'berthe': 2785, 'nièce': 19029, 'tiramisu': 27814, 'sablé': 24825, 'rebondissement': 23021, 'rennais': 23517, 'eden': 9341, 'hazard': 12767, 'pressure': 21574, 'albin': 727, 'fiscales': 10983, 'indices': 13680, 'miliciens': 17832, 'cheminots': 4581, 'griffes': 12277, 'lobbyistes': 16319, 'iceland': 13252, 'conce': 5533, 'prétention': 22213, 'clubic': 5042, 'lœuvre': 16831, 'timiota': 27796, 'jens': 14609, 'incitation': 13600, 'facs': 10500, 'vih': 29189, 'recrues': 23136, 'etesvous': 10080, 'addict': 342, 'sinistre': 25913, 'garbage': 11764, 'luciani': 16558, 'choux': 4731, 'consider': 5803, 'bouquin': 3281, 'servait': 25618, 'senvolent': 25557, 'vestes': 29072, 'débâcle': 8534, 'renard': 23463, 'trot': 28361, 'dégradé': 8803, 'proposera': 21916, 'démarré': 8894, 'professionnelles': 21760, 'kampf': 14932, 'survoler': 27052, 'neuville': 18931, 'caught': 4170, 'musichall': 18466, 'rime': 23998, 'critiquent': 6497, 'born': 3195, 'dunion': 8405, 'embarquement': 9482, 'accrochezvous': 197, 'dégoût': 8796, 'lombardia': 16401, 'likely': 16050, 'charismatique': 4494, 'marquante': 17290, 'impeccable': 13454, 'dif': 7649, 'cherbourg': 4593, 'résistant': 24685, 'interrogation': 14144, 'orienté': 19751, 'asap': 1728, 'exhibe': 10245, 'machette': 16845, 'hurle': 13132, 'parviennent': 20239, 'ethiopia': 10085, 'manson': 17155, 'cocooning': 5090, 'santiago': 25112, 'autorisation': 2151, 'jouée': 14774, 'avènement': 2277, 'fronde': 11497, 'bureaucratique': 3623, 'obstination': 19414, 'équestre': 30471, 'livré': 16294, 'pertinente': 20610, 'recensement': 23042, 'supprimés': 26961, 'chirurgical': 4673, 'écosystèmes': 30174, 'sagitil': 24891, 'baleine': 2414, 'liveaction': 16275, 'sarrêtent': 25153, 'dopesick': 8173, 'opioïdes': 19628, 'opéré': 19671, 'anesthésie': 1129, 'dynamite': 8472, 'sphère': 26451, 'incarnent': 13574, 'ceuxlà': 4341, 'arrache': 1635, 'deadline': 7141, 'daix': 6879, 'penché': 20443, 'exprimée': 10381, 'hystérique': 13174, 'tatouer': 27426, 'dérapé': 9076, 'femyso': 10747, 'néozélandaise': 19352, 'amen': 987, 'dupontel': 8418, 'flavie': 11038, 'flament': 11024, 'calamiteuse': 3796, 'fondamentalement': 11159, 'sirènes': 25944, 'fumier': 11559, 'expatron': 10290, 'monts': 18208, 'sensibilise': 25526, 'poussières': 21447, 'traduit': 28083, 'abdos': 42, 'précédentes': 22079, 'chouettes': 4728, 'revaloriser': 23880, 'épidémiologiste': 30429, 'blasts': 2996, 'antiracism': 1311, 'lorsquun': 16467, 'violette': 29255, 'continental': 5959, 'démanteler': 8882, 'conference': 5622, 'saintandrélesvergers': 24909, 'scandinaves': 25291, 'least': 15637, 'révise': 24755, 'hercule': 12826, 'cran': 6424, 'fernand': 10782, 'combal': 5261, 'souverain': 26390, 'tranquilles': 28143, 'remboursé': 23392, 'dépensés': 9007, 'hudson': 13077, 'saintsauveur': 24955, 'flots': 11089, 'milo': 17873, 'pétrolières': 22502, 'féraud': 11641, 'brisés': 3482, 'vulnérabilités': 29565, 'laffont': 15217, 'respectueux': 23715, 'irresponsabilité': 14366, 'shoes': 25747, 'myth': 18518, 'nino': 19010, 'lenny': 15740, 'lea': 15624, 'demployés': 7286, 'linaction': 16114, 'deuxroues': 7465, 'concret': 5572, 'payées': 20392, 'dadministration': 6846, 'verne': 29025, 'woes': 29829, 'impfpflicht': 13456, 'uv': 28776, 'reposent': 23615, 'projects': 21821, 'overseas': 19891, 'bubble': 3577, 'bâton': 3674, 'jeanine': 14580, 'damérique': 6940, 'différend': 7677, 'roberts': 24078, 'aquatique': 1517, 'confidentialité': 5633, 'puma': 22354, 'nondroit': 19095, 'newest': 18942, 'numbers': 19279, 'hangar': 12676, 'déterminant': 9199, 'twice': 28506, 'éthiopienne': 30543, 'tfx': 27648, 'zack': 29999, 'snyder': 26041, 'scorsese': 25357, 'mettrait': 17725, 'pinterest': 20812, 'psychologies': 22277, 'lécho': 16694, 'flamand': 11013, 'lhabitat': 15903, 'hiérarchie': 12917, 'popcorn': 21223, 'delaume': 7208, 'expérimenté': 10403, 'romane': 24149, 'bohringer': 3097, 'bills': 2893, 'seats': 25392, 'respectant': 23708, 'musicaux': 18465, 'proof': 21886, 'planet': 20939, 'alessandra': 761, 'larabe': 15424, 'manceau': 17069, 'onto': 19609, 'carvounas': 4089, 'réali': 24378, 'adorables': 415, 'passionnants': 20281, 'comprendrez': 5482, 'intensif': 14071, 'kurdistan': 15117, 'surprised': 27017, 'absences': 100, 'rosso': 24187, 'permettrait': 20547, 'impératrice': 13535, 'juve': 14895, 'verticale': 29057, 'instituts': 14028, 'psychose': 22284, 'chabrol': 4351, 'corsica': 6200, 'roc': 24088, 'bourgenbresse': 3290, 'éclairage': 30119, 'marxistes': 17351, 'sanit': 25096, 'tombées': 27892, 'situe': 25956, 'bergman': 2766, 'adolescence': 399, 'savaient': 25236, 'intrafamiliales': 14196, 'irréguliers': 14373, 'lansm': 15372, 'inspection': 13970, 'carrère': 4069, 'animatrice': 1172, 'dattendre': 7074, 'donnés': 8164, 'roquette': 24177, 'standup': 26576, 'notaire': 19162, 'flemme': 11043, 'miraculeux': 17945, 'insensé': 13951, 'reprends': 23629, 'diop': 7783, 'faisons': 10542, 'navires': 18845, 'marchandise': 17204, 'dhabitation': 7549, 'scientific': 25334, 'associée': 1817, 'coraux': 6141, 'danses': 6990, 'ériger': 30493, 'maineetloire': 16942, 'constellation': 5860, 'phil': 20691, 'daimer': 6876, 'courbes': 6301, 'assigne': 1787, 'mystique': 18511, 'approuvée': 1482, 'représentait': 23648, 'colocation': 5207, 'exilées': 10262, 'détenteurs': 9193, 'bv': 3664, 'paiera': 19938, 'traître': 28257, 'lecoq': 15659, 'cambodge': 3839, 'blogueuse': 3035, 'représentatif': 23652, 'héliporté': 13193, 'incline': 13606, 'permafrost': 20533, 'region': 23264, 'funéraire': 11573, 'parentalité': 20097, 'auratil': 2075, 'sultan': 26908, 'laccusent': 15167, 'arles': 1595, 'futuriste': 11600, 'monumental': 18217, 'ethiopie': 10086, 'rwandais': 24344, 'perds': 20512, 'révoltes': 24766, 'woodkid': 29846, 'la20': 15134, 'relier': 23354, 'bastide': 2574, 'voisine': 29416, 'loscar': 16473, 'sécurisation': 27186, 'sésame': 27263, 'prendrez': 21537, 'salariées': 24995, 'doué': 8271, 'transhumanisme': 28174, 'fraisse': 11356, 'crédibilité': 6611, 'pensons': 20474, 'pushes': 22379, 'saintnicolas': 24948, 'croustillante': 6543, 'augmentations': 2040, 'orgasme': 19741, 'montées': 18213, 'macarons': 16841, 'meringue': 17672, 'consommons': 5837, 'garchizy': 11765, 'hydrocarbures': 13149, 'porcelaine': 21242, 'ébullition': 30077, 'rodrigues': 24114, 'néonazis': 19349, 'fumigènes': 11560, 'coude': 6246, 'puy': 22392, 'excédé': 10220, 'sonnent': 26200, 'briques': 3474, 'invest': 14268, 'crowd': 6544, 'pyromane': 22404, 'rhinocéros': 23950, 'perché': 20494, 'arctique': 1563, 'dactes': 6833, 'islamiques': 14390, 'romantisme': 24154, 'moms': 18105, 'lorenzo': 16448, 'bie': 2845, 'retournement': 23835, 'cyclocross': 6739, 'départementaux': 8982, 'solder': 26129, 'muette': 18396, 'déportation': 9034, 'fontaines': 11183, 'colossaux': 5247, 'commandés': 5311, 'falun': 10572, 'gong': 12090, 'exigent': 10255, 'inscr': 13933, 'saccagent': 24835, 'fâcheuse': 11608, 'donnezmoi': 8158, 'aurai': 2068, 'dunes': 8403, 'guingamp': 12405, 'exporte': 10355, 'évitée': 30638, 'bi': 2820, 'potiron': 21370, 'tal': 27352, 'crépuscule': 6623, 'fondée': 11178, 'qg': 22518, 'sie': 25793, 'assembly': 1779, 'plant': 20946, 'dépenser': 9004, 'envahie': 9868, 'placées': 20899, 'bannit': 2476, 'renverser': 23558, 'terra': 27577, 'fossil': 11272, 'bluff': 3057, 'étrangement': 30572, 'vénézuélienne': 29591, 'ancelotti': 1096, 'détatmajor': 9177, 'couches': 6243, 'respectés': 23719, 'allaiter': 826, 'premiè': 21524, 'uranium': 28700, 'sosies': 26256, 'cuir': 6650, 'exploite': 10325, 'pénélope': 22464, 'travaillait': 28226, 'implantation': 13460, 'concitoyens': 5559, 'majestic': 16971, 'naturellement': 18816, 'caused': 4176, 'difference': 7652, 'quadruppani': 22531, 'pénales': 22452, 'videgreniers': 29129, 'envolent': 9900, 'dana': 6942, 'vanté': 28900, 'anonymes': 1241, 'pinocchio': 20809, 'dasie': 7050, 'disparaissait': 7887, 'mortal': 18267, 'marchandisation': 17203, 'décomplexé': 8634, 'grandsparents': 12211, 'positionner': 21313, 'exceptionnellement': 10189, 'hexagone': 12853, 'ambulancier': 982, 'habitation': 12585, 'confiés': 5664, 'essayé': 10025, 'salons': 25022, 'massage': 17385, 'blackout': 2966, 'lillois': 16062, 'gall': 11716, 'persuadée': 20598, 'boba': 3075, 'fett': 10809, 'leffort': 15680, 'cra': 6405, 'piégés': 20878, 'interpelle': 14128, 'foulées': 11295, 'retrouveznous': 23866, 'dicaprio': 7618, 'répercussions': 24610, 'dessinateur': 7408, 'sadaptent': 24866, 'colonialisme': 5224, 'madison': 16873, 'sexagénaire': 25667, 'rouée': 24242, 'collomb': 5191, 'minimise': 17901, 'exclue': 10198, 'privilégie': 21663, 'impressionnante': 13505, 'accessibilité': 151, 'zevent': 30016, 'salomon': 25019, 'hectares': 12801, 'vil': 29196, 'apiculteurs': 1374, 'frelon': 11460, 'bénévole': 3706, 'rassemble': 22912, 'sétaient': 27265, 'bugs': 3597, 'impossibles': 13496, 'lile': 16055, 'scammers': 25280, 'winners': 29808, 'humilité': 13115, 'circ': 4849, 'primordial': 21612, 'champsélysées': 4409, 'gi': 11953, 'canberra': 3898, 'europ': 10110, 'remercient': 23399, 'loisirs': 16392, 'including': 13611, 'leboeuf': 15645, 'plays': 20991, 'frappent': 11419, 'têteàtête': 28586, 'puyenvelay': 22394, 'melun': 17581, 'sg': 25699, 'restauré': 23771, 'emiliano': 9513, 'mahmoud': 16925, 'turbulences': 28469, 'rétrograde': 24719, 'infographies': 13814, 'dingo': 7745, 'racont': 22716, 'mig': 17798, 'paniquer': 19998, 'préservatifs': 22174, 'grenades': 12266, 'lacrymogènes': 15179, 'squelettes': 26539, 'saintjulienlesvillas': 24935, 'entretenu': 9850, 'lemporte': 15716, 'colères': 5256, 'fournisseurs': 11314, 'nvidia': 19302, 'hadopi': 12611, 'miguel': 17816, 'gomes': 12080, 'drink': 8334, 'recipes': 23075, 'affiché': 480, 'délevage': 8837, 'tendresse': 27529, 'roulait': 24205, 'relati': 23322, 'uae': 28590, 'send': 25508, 'cbs': 4201, 'nurse': 19297, 'durand': 8426, 'plongezvous': 21034, 'boomer': 3169, 'références': 24510, 'pornichet': 21247, 'censeur': 4248, 'rencontrera': 23475, 'faussement': 10670, 'evo': 10154, 'résistantes': 24687, 'édith': 30224, 'tartines': 27415, 'princesses': 21620, 'scheme': 25305, 'feds': 10726, 'auteure': 2114, 'copines': 6119, 'adhésion': 360, 'rhdp': 23949, 'emballage': 9474, 'ludiques': 16572, 'ess': 10011, 'réanimations': 24402, 'contenait': 5930, 'sylvestre': 27116, 'laxisme': 15606, 'certains': 4311, 'reprochent': 23637, 'lhydroxychloroquine': 15931, 'amber': 967, 'lusage': 16620, 'gaffe': 11681, 'électeur': 30278, 'lautisme': 15550, 'verdiermolinié': 29014, 'contrepartie': 6010, 'administrative': 381, 'déchaîne': 8565, 'rêveur': 24810, 'faiseur': 10540, 'gratitude': 12227, 'cordes': 6148, 'mystères': 18513, 'dieux': 7648, 'onlyfans': 19603, 'pornographique': 21250, 'réfection': 24490, 'barsurseine': 2541, 'interminables': 14106, 'abject': 55, 'waiting': 29623, 'crunch': 6575, 'coule': 6254, 'pithiviers': 20858, 'python': 22408, 'sépultures': 27244, 'suiveznous': 26893, 'rapaces': 22853, 'éclatante': 30130, 'nétant': 19358, 'opposée': 19643, 'télétravailler': 28559, 'troll': 28337, 'valence': 28838, 'imprimerie': 13516, 'pervers': 20621, 'linédit': 16215, 'initial': 13858, 'trackers': 28058, 'influencer': 13803, 'glaciers': 12022, 'fondent': 11171, 'abad': 10, 'souplesse': 26328, 'rude': 24281, 'amorcer': 1029, 'sorcières': 26227, 'curie': 6700, 'antivirus': 1333, 'réduits': 24483, 'mondial2022': 18119, 'fasquelle': 10636, 'télévisés': 28568, 'linfectiologue': 16142, 'lacombe': 15174, 'thèse': 27736, 'citypsg': 4892, 'douloureuses': 8254, 'pneu': 21067, 'ridiculisé': 23978, 'concernent': 5545, 'suicidée': 26881, 'nora': 19111, 'indifférent': 13686, 'bloquant': 3042, 'riz': 24065, 'dautoroute': 7106, 'catalans': 4141, 'nostra': 19158, 'gourvennec': 12132, 'miraculeuse': 17943, 'accidentel': 158, 'lassistant': 15485, 'frein': 11453, 'rochefort': 24094, 'élégant': 30341, 'énerve': 30393, 'psychologiquement': 22279, 'physiquement': 20736, 'maïga': 17504, 'vignette': 29185, 'diabolique': 7592, 'ressentie': 23746, 'gallimard': 11721, 'dictatures': 7623, 'affrontement': 501, 'titanesque': 27834, 'hahaha': 12615, 'autopsie': 2148, 'délocaliser': 8868, 'créatives': 6604, 'créatif': 6599, 'manquée': 17153, 'beau': 2650, 'scaleway': 25277, 'stupid': 26751, 'dépendante': 8999, 'négatifs': 19325, 'gaulliste': 11832, 'headline': 12783, 'pope': 21224, 'isnt': 14408, 'religious': 23360, 'procession': 21698, 'archéologique': 1558, 'oups': 19832, 'trouble': 28371, 'nauront': 18828, 'patro': 20339, 'launched': 15530, 'guendouzi': 12365, 'lucidité': 16560, 'environnementale': 9884, 'associer': 1815, 'coordonnées': 6105, 'damoclès': 6933, 'jure': 14857, 'appelons': 1421, 'réunira': 24731, 'habile': 12573, 'mantra': 17159, 'situés': 25959, 'paysan': 20386, 'odoul': 19476, 'pendu': 20449, 'sеxy': 27290, 'ordres': 19707, 'insoupçonnés': 13967, 'massives': 17393, 'copyright': 6124, 'compatibilité': 5414, 'beaupère': 2662, 'retarde': 23806, 'cercles': 4293, 'baptêmes': 2491, 'contrôlés': 6048, 'quotient': 22659, 'unemployment': 28645, 'spéculant': 26526, 'virtuose': 29284, 'larnaque': 15455, 'fromagerie': 11495, 'accused': 226, 'being': 2699, 'envies': 9878, 'ouïghours': 19882, 'venge': 28984, 'shorts': 25760, 'comparé': 5411, 'sapiens': 25127, 'utilisateur': 28760, 'exclure': 10200, 'zlatan': 30028, 'poudre': 21380, 'quebec': 22582, 'rainbow': 22774, 'siege': 25795, 'saturé': 25193, 'liberticide': 15959, 'boosters': 3176, 'gravitationnelles': 12242, 'gaudin': 11828, 'orphelins': 19776, 'envisagent': 9890, 'pcc': 20396, 'mediapro': 17547, 'gross': 12309, 'female': 10738, 'worker': 29852, 'tested': 27623, 'postures': 21345, 'dutroux': 8460, 'évacué': 30605, 'choquée': 4716, 'lamar': 15292, 'primavera': 21606, 'resign': 23701, 'clashes': 4948, 'covidistes': 6372, 'parer': 20100, 'lessor': 15807, 'poney': 21212, 'détrôné': 9241, 'transporte': 28200, 'habituellement': 12595, 'cimetières': 4828, 'fondamentales': 11160, 'rips': 24014, 'bridgerton': 3445, 'buffalo': 3588, 'automatiques': 2134, 'usc': 28735, 'lappareil': 15404, 'toy': 28044, 'essaim': 10015, 'fleuron': 11048, 'létang': 16804, 'toilette': 27863, 'artisans': 1712, 'response': 23731, 'character': 4468, 'réf': 24489, 'incognita': 13618, 'nekfeu': 18884, 'aucune': 2012, 'plusvalue': 21054, 'pleurent': 21009, 'beaufrère': 2657, 'tranches': 28137, 'fumé': 11562, 'ouvrons': 19880, 'dessinemoi': 7412, 'num': 19277, 'dixhuit': 8012, 'cale': 3805, 'kiev': 15024, 'bellefille': 2720, 'restreindre': 23787, 'angoisse': 1151, 'douane': 8229, 'jeep': 14600, 'kenny': 14988, 'passing': 20277, 'vertiges': 29059, 'conseillers': 5781, 'ghisonaccia': 11947, 'embouteillages': 9499, 'tonights': 27905, 'spy': 26507, 'islands': 14405, 'protestations': 21964, 'hôtesse': 13234, 'died': 7639, 'announced': 1217, 'approves': 1487, 'yearolds': 29941, 'gronde': 12306, 'hannah': 12678, 'annie': 1197, 'evelyne': 10138, 'mouvance': 18355, 'négationniste': 19327, 'dismoi': 7881, 'antidépresseur': 1284, 'rageux': 22762, 'déclarés': 8606, 'anderlecht': 1113, 'trésorerie': 28423, 'délégués': 8877, 'défaillante': 8728, 'rétorsion': 24717, 'inaccessibles': 13547, 'narrivent': 18773, 'incarcération': 13569, 'accélérateur': 237, 'acquittal': 273, 'racism': 22706, 'niort': 19012, 'présentiel': 22166, 'tanzanie': 27383, 'caption': 3979, 'reading': 23001, 'près': 22043, 'enjoy': 9711, 'caractéristiques': 3998, 'manifestantes': 17109, 'mobilisées': 18022, 'attrape': 1987, 'approuver': 1480, 'pelletier': 20430, 'dabonnés': 6814, 'pâtisserie': 22413, 'mack': 16851, 'autodidacte': 2131, 'néant': 19311, 'sauvons': 25229, 'inversion': 14265, 'terrestre': 27585, 'périodes': 22481, 'consciences': 5771, 'réfractaires': 24503, 'aussitôt': 2096, 'bollaert': 3113, 'chaussure': 4547, 'transformés': 28166, 'compost': 5474, 'démolit': 8928, 'perruques': 20567, 'citée': 4894, 'ail': 642, 'manipule': 17124, 'ossements': 19798, 'risqu': 24025, 'fresh': 11463, 'anticoup': 1278, 'ajouté': 697, 'aborde': 78, 'relaient': 23313, 'activision': 299, 'blizzard': 3016, 'bobby': 3078, 'ludique': 16571, 'thon': 27705, 'pensant': 20461, 'ze': 30004, 'resto': 23783, 'leads': 15630, 'gunnar': 12419, 'picture': 20757, 'trentecinq': 28277, 'dubai': 8375, 'trees': 28263, 'passait': 20254, 'rebsamen': 23027, 'living': 16283, 'road': 24069, 'returns': 23872, 'trentenaires': 28279, 'passports': 20291, 'rassurent': 22925, 'waste': 29672, 'lachaud': 15172, 'suprématie': 26966, 'lançon': 15389, 'insalubre': 13931, 'contro': 6027, 'vaccino': 28802, 'achetez': 249, 'jaurai': 14556, 'sera': 25567, 'gue': 12363, 'mps': 18381, 'incoming': 13623, 'hopes': 13000, 'finger': 10948, 'étonné': 30567, 'rodez': 24110, 'maquillages': 17179, 'dostoïevski': 8217, 'henderson': 12817, 'raises': 22778, 'coverage': 6361, 'fines': 10946, 'sydney': 27112, 'prononcent': 21876, 'pulsions': 22350, 'ecosse': 9334, 'expérimentent': 10401, 'sifflé': 25800, 'cpam': 6397, 'dépouille': 9044, 'côlon': 6795, 'estomac': 10063, 'char': 4467, 'échangeur': 30090, 'nourrissons': 19196, 'dinsultes': 7763, 'descendus': 7380, 'lafarge': 15209, 'aéroports': 2316, 'quelques': 22594, 'stéphan': 26772, 'nissan': 19020, 'transparent': 28192, 'lastéroïde': 15496, 'impliquée': 13471, 'traine': 28107, 'devise': 7507, 'tousanticovid': 28024, 'outrances': 19853, 'correspondante': 6180, 'rassemblée': 22918, 'installées': 13996, 'zoé': 30041, 'delamarche': 7207, 'thinkerview': 27697, 'baignoire': 2382, 'solly': 26150, 'rambourg': 22813, 'boulud': 3279, 'académique': 133, 'tournées': 28019, 'i24news': 13236, 'tricolores': 28301, 'choque': 4712, 'salt': 25027, 'clore': 5027, 'communs': 5380, 'oss': 19797, 'dégradations': 8799, 'defy': 7197, 'amendment': 992, 'bikers': 2873, 'toujo': 27978, 'baguettes': 2376, 'croissants': 6526, 'arrivait': 1652, 'employees': 9553, 'manteaux': 17157, 'respectée': 23717, 'ressortir': 23752, 'décourager': 8663, 'excessif': 10193, 'apnée': 1376, 'arm': 1597, 'cult': 6673, 'quotidiennement': 22656, 'méconnues': 18554, 'sci': 25323, 'coulent': 6255, 'rad': 22727, 'baverez': 2618, 'luttons': 16636, 'plombée': 21025, 'poétesse': 21477, 'angelina': 1137, 'fédérations': 11617, 'hunter': 13127, 'display': 7906, 'clitoris': 5019, 'anarchiste': 1088, 'geeks': 11864, 'pictured': 20758, 'laundrie': 15533, 'lentente': 15754, 'houellebecq': 13051, 'linvitation': 16211, 'disc': 7844, 'réaction19': 24365, 'contactez': 5907, 'laborde': 15149, 'convaincue': 6053, 'matzneff': 17453, 'morales': 18237, 'storm': 26682, 'locataires': 16337, 'childhood': 4646, 'arlette': 1596, 'prêter': 22239, 'schizophrène': 25308, 'lappartement': 15406, 'entité': 9808, 'genèse': 11907, 'proverbe': 22007, 'vid': 29126, 'hezbollah': 12855, 'vernis': 29026, 'cardiologue': 4020, 'biologiste': 2910, 'artificialisation': 1703, 'parly': 20154, 'brûlant': 3563, 'ketchup': 14996, 'montrera': 18200, 'échangé': 30091, 'relocalisation': 23363, 'accusatrices': 224, 'brésiliens': 3562, 'rejouer': 23310, 'taina': 27340, 'tervonen': 27614, 'originaux': 19759, 'daté': 7080, 'cuite': 6661, 'wie': 29774, 'comines': 5292, 'bff': 2815, 'margot': 17227, 'robbie': 24074, 'châteauthierry': 4786, 'humilié': 13116, 'contenant': 5931, 'négocie': 19339, 'léonie': 16782, 'ce1': 4214, 'dessinées': 7417, 'antidémocratique': 1283, 'dargenteuil': 7023, 'questio': 22609, 'cholestérol': 4701, 'j2': 14471, 'derniè': 7365, 'stylos': 26766, 'équitation': 30487, 'tatiana': 27422, 'carême': 4090, 'contacté': 5909, 'apôtres': 1515, 'gazprom': 11853, 'provocations': 22021, 'michemin': 17771, 'lions': 16219, 'carnot': 4050, 'plantation': 20947, 'illicite': 13346, 'dhervé': 7554, 'contente': 5935, 'grossophobie': 12318, 'renie': 23515, 'réécrit': 24796, 'influencé': 13809, 'blogueur': 3034, 'trisomique': 28322, 'circulait': 4857, 'qualités': 22550, 'débloquer': 8506, 'pâté': 22418, 'laissera': 15257, 'procheorient': 21708, 'raymond': 22975, 'rapprocher': 22896, 'alba': 719, 'lime': 16075, 'entrepreneuriat': 9840, 'ile': 13337, 'hurler': 13134, 'crawford': 6434, 'models': 18035, 'cdiscount': 4211, 'jeudy': 14637, 'seraitelle': 25573, 'étonnants': 30563, 'thank': 27655, 'bet': 2798, 'réintroduire': 24566, 'sétendre': 27269, 'fleury': 11051, 'dessayer': 7402, 'prophétique': 21902, 'vraisemblablement': 29548, 'laundering': 15532, 'boulo': 3274, 'sous': 26347, 'désignent': 9131, 'neiges': 18880, 'piotr': 20821, 'montrait': 18195, 'stratégiques': 26702, 'nègre': 19308, 'donetsk': 8142, 'dalexandre': 6893, 'encre': 9623, 'hein': 12805, 'docteure': 8046, 'instrumentalise': 14034, 'feat': 10716, 'sangliers': 25090, 'apparently': 1396, 'alma': 891, 'psgnice': 22261, 'remplaçants': 23441, 'haters': 12728, 'opté': 19660, 'louragan': 16511, 'ouragans': 19835, 'seras': 25575, 'apparences': 1393, 'trompeuses': 28348, 'traçage': 28253, 'naimez': 18719, 'albatros': 722, 'souviens': 26397, 'khan': 15007, 'confidence': 5630, 'québécois': 22664, 'dociles': 8042, 'grossesses': 12313, 'nashville': 18781, 'précédé': 22081, 'hemsworth': 12816, 'pratt': 21507, 'endgame': 9631, 'managers': 17067, 'celebrities': 4227, 'react': 22993, 'sudden': 26844, 'plaid': 20907, 'houleux': 13052, 'indignes': 13691, 'corn': 6158, 'contains': 5916, 'surprenants': 27012, 'lockdowns': 16349, 'aquatiques': 1518, 'aubenas': 2003, 'reconnaissent': 23106, 'retrou': 23855, 'microondes': 17782, 'explorent': 10335, 'coute': 6338, 'plaisanterie': 20926, 'todd': 27857, 'lolita': 16397, 'accordent': 178, 'outremanche': 19855, 'récré': 24453, 'néoféminisme': 19344, 'automatisé': 2135, 'écrasante': 30189, 'privent': 21659, 'roses': 24183, 'décalé': 8538, 'h55': 12565, 'carles': 4040, 'particules': 20209, 'selena': 25464, 'valorisation': 28869, 'transgenres': 28173, 'caucase': 4166, 'loges': 16366, 'watchdog': 29674, 'embarque': 9481, 'bijouterie': 2870, 'unanimes': 28636, 'lapple': 15409, 'fournée': 11317, 'flight': 11059, 'brassens': 3396, 'kouchner': 15102, 'significatif': 25828, 'délinquant': 8849, 'trahie': 28098, 'leon': 15772, 'absurdes': 114, 'légères': 16754, 'cyniques': 6744, 'lagrousempere': 15236, 'confrère': 5690, 'mags': 16922, 'entoure': 9816, 'condésursarthe': 5618, 'colombes': 5210, 'rend': 23482, 'cécité': 6760, 'dessinateurs': 7409, 'transgenre': 28172, 'savage': 25235, 'buzzfeed': 3663, 'fouillé': 11290, 'mirage': 17947, 'scpi': 25363, 'rendements': 23488, 'moon': 18224, 'cofounder': 5106, 'lavons': 15592, 'championnes': 4404, 'battlefield': 2605, 'préparatifs': 22139, 'éditeur': 30222, 'mili': 17829, 'redémarrage': 23202, 'passif': 20276, 'lessayiste': 15801, 'conscient': 5773, 'ultimes': 28619, 'éolienne': 30404, 'francophone': 11395, 'duels': 8389, 'mei': 17565, 'labolition': 15144, 'mug': 18398, 'trolle': 28338, 'sécheresses': 27181, 'écoutant': 30178, 'hacker': 12603, 'saran': 25143, 'bambi': 2434, 'rappe': 22869, 'bruckner': 3525, 'sintéresser': 25933, 'sourds': 26341, 'malentendants': 17013, 'bourreaux': 3303, 'gabin': 11670, 'ordonnances': 19702, 'donneur': 8155, 'sincérité': 25898, 'sneakers': 26031, 'éducateurs': 30236, 'monté': 18211, 'donneront': 8153, 'lautorisation': 15557, 'syrienne': 27157, 'kurde': 15115, 'implantée': 13463, 'maquette': 17177, 'publiait': 22294, 'liz': 16298, 'rigueur': 23994, 'tournante': 28010, 'violeurs': 29257, 'perpétuer': 20558, 'marieestelle': 17242, 'collatéraux': 5160, 'icymi': 13261, 'snow': 26037, 'horror': 13020, 'natal': 18785, 'cancelled': 3901, 'zealand': 30005, 'wrap': 29869, 'digérer': 7689, 'chocolats': 4689, 'crush': 6578, 'aisément': 682, 'honnêtement': 12983, 'aires': 673, 'instrumentalisation': 14033, 'analyste': 1084, 'continu': 5962, 'animaliste': 1165, 'fonde': 11168, 'préf': 22090, 'laissait': 15253, 'cauchemars': 4169, 'ombres': 19578, 'mmorpg': 18006, 'ambigu': 972, 'recenser': 23043, 'coralie': 6139, 'hpi': 13067, 'éventuelle': 30622, 'transphobie': 28196, 'vignobles': 29187, 'enrichi': 9750, 'foo': 11190, 'lecologie': 15656, 'agitent': 566, 'porto': 21287, 'adepte': 354, 'éteindre': 30528, 'moqueries': 18229, 'benmohamed': 2744, 'haro': 12713, 'licencie': 16000, 'aidons': 631, 'messes': 17697, 'recueillies': 23154, 'habitante': 12581, 'posts': 21341, 'seven': 25659, 'badewurtemberg': 2357, 'désastreuse': 9115, 'progressif': 21801, 'ladore': 15204, 'ceinture': 4218, 'ozone': 19909, 'impitoyable': 13457, 'classification': 4959, 'intercepté': 14085, 'dhéroïne': 7583, 'veterans': 29077, 'souverains': 26395, 'remboursés': 23393, 'archéologie': 1557, 'oriental': 19747, 'morvan': 18283, 'rivalisent': 24043, 'demandeur': 7251, 'dasile': 7051, 'hurt': 13137, 'enf': 9652, 'rembourse': 23389, 'maud': 17459, 'droitegauche': 8352, 'bananes': 2445, 'maintenues': 16953, 'colombien': 5216, 'departure': 7343, 'piraté': 20840, 'balkans': 2418, 'devants': 7476, 'glaciaire': 12019, 'congratulations': 5701, 'replonger': 23596, 'prévues': 22234, 'magellan': 16892, 'fatigue': 10649, 'visuelle': 29331, 'placer': 20895, 'pda': 20399, 'cellesci': 4233, 'posttraumatique': 21342, 'polluée': 21186, 'fioul': 10969, 'domestique': 8113, 'réapprendre': 24407, 'auraitelle': 2072, 'boursier': 3307, 'nouveauné': 19205, 'polluer': 21181, 'déménagé': 8947, 'intégrée': 14223, 'combattent': 5269, 'sheeran': 25722, 'genius': 11890, 'popula': 21227, 'acting': 286, 'frost': 11507, 'placent': 20894, 'nso': 19247, 'méritait': 18642, 'c0quines': 3724, 'decide': 7169, 'anné': 1233, 'licenciement': 16001, 'poches': 21072, 'appelées': 1425, 'consortium': 5840, 'avouez': 2273, 'lexpansion': 15866, 'yara': 29933, 'autorisations': 2152, 'highest': 12862, 'emerging': 9509, 'démenti': 8901, 'ratez': 22936, 'dentiste': 7324, 'réintroduction': 24565, 'laviez': 15584, 'dhôpital': 7584, 'transidentité': 28175, 'larrière': 15459, 'évacuée': 30606, 'allures': 874, 'filmed': 10901, 'spain': 26416, 'avère': 2278, 'surfeurs': 26993, 'equipe': 9929, 'aïssa': 2323, 'sion': 25936, 'épaules': 30415, 'kill': 15030, 'délivré': 8864, 'baufreton': 2615, 'bascule': 2546, 'enlevée': 9714, 'hivernaux': 12916, 'modérés': 18066, 'approfondie': 1474, 'documentée': 8065, 'hégémonie': 13190, 'ally': 876, 'linternet': 16187, 'existentielle': 10271, 'charlene': 4501, 'gênée': 12544, 'annick': 1196, 'nivernaise': 19024, 'identifiés': 13278, 'wollen': 29833, 'millionen': 17866, 'compartiment': 5409, 'juho': 14818, 'kuosmanen': 15114, 'sniper': 26032, 'pyrénéesatlantiques': 22406, 'loubli': 16492, 'pulmonaire': 22348, 'chaussettes': 4546, 'montaut': 18170, 'villemandeur': 29210, 'infaillible': 13759, 'teint': 27488, 'inhumain': 13851, 'batum': 2612, 'fyi': 11605, 'cheese': 4565, 'étudiés': 30597, 'psychologues': 22282, 'believe': 2713, 'simplissime': 25877, 'script': 25367, 'marionnettes': 17259, 'pâtisseries': 22414, 'democratic': 7278, 'did': 7628, 'keanu': 14970, 'reeves': 23208, 'approché': 1473, 'mamma': 17060, 'pierce': 20766, 'brosnan': 3512, 'successful': 26817, 'mortelles': 18273, 'coller': 5181, 'keine': 14976, 'lilibet': 16059, 'déb': 8484, 'courtmétrage': 6328, 'cellelà': 4232, 'visio': 29307, 'immersive': 13413, 'merc': 17656, 'rides': 23974, 'rocket': 24103, 'trillion': 28309, 'significant': 25827, 'hurts': 13138, 'kurt': 15118, 'évader': 30609, 'électoraux': 30287, 'éternellement': 30538, 'trench': 28272, 'coat': 5077, 'terne': 27575, 'flamboyant': 11020, 'papacito': 20016, 'farrugia': 10624, 'ashley': 1737, 'lobs': 16324, 'redonné': 23187, 'traversons': 28248, 'ihr': 13326, 'welche': 29729, 'prescrit': 21552, 'unir': 28660, 'épuration': 30467, 'movember': 18362, 'moustache': 18348, 'masculins': 17366, 'cultivé': 6678, 'adp': 422, 'enora': 9727, 'malagré': 17000, 'olympics': 19568, 'tigray': 27776, 'ada': 327, 'forcing': 11213, 'séparées': 27241, 'natacha': 18784, 'islandais': 14402, 'magog': 16920, 'weather': 29699, 'gravité': 12243, 'hp': 13066, 'versus': 29048, 'jurors': 14865, 'ahmaud': 613, 'subsistent': 26801, 'marquay': 17293, 'prendr': 21533, 'affichent': 476, 'rémunérations': 24584, 'urgentistes': 28716, 'dhs': 7573, 'promising': 21860, 'jespère': 14617, 'ferm': 10764, 'fuck': 11535, 'diront': 7834, 'défausse': 8733, 'vapotage': 28902, 'ind': 13658, 'mobilités': 18025, 'invitant': 14295, 'hémorragie': 13196, 'litige': 16260, 'souhaiterait': 26295, 'seguin': 25451, 'derdogan': 7357, 'intelligents': 14066, 'anthologie': 1253, 'mueller': 18394, 'maquiller': 17180, 'volontairement': 29445, 'interrogent': 14148, 'hobby': 12923, 'suffisantes': 26863, 'entourent': 9817, 'mean': 17534, 'impliquent': 13468, 'hiv': 12911, 'requin': 23679, 'mâche': 18528, 'rapatriés': 22857, 'orthographe': 19783, 'hygiène': 13153, 'ignorez': 13320, 'varie': 28911, 'itinérant': 14449, 'répandu': 24600, 'anticancer': 1265, 'commentateur': 5324, 'couvrir': 6356, 'denfance': 7293, 'fraise': 11353, 'interactive': 14084, 'wallet': 29636, 'darnaud': 7033, 'démontée': 8940, 'supplies': 26933, 'trottoirs': 28366, 'rions': 24007, 'montag': 18157, 'vinyles': 29234, 'médiocre': 18594, 'forestier': 11224, 'karen': 14947, 'féminins': 11635, 'rendre': 23497, 'thromboses': 27722, 'tractations': 28061, 'banaliser': 2441, 'liant': 15950, 'soupes': 26327, 'merci': 17661, 'linky': 16165, 'sully': 26907, 'malinois': 17034, 'inspirante': 13972, 'horse': 13021, 'regole': 23267, 'bianca': 2822, 'versement': 29041, 'cora': 6137, 'revu': 23927, 'reliant': 23351, 'gulf': 12416, 'greece': 12255, 'migraine': 17806, 'préventive': 22218, 'cheney': 4589, 'curb': 6695, 'stabilité': 26550, 'zendaya': 30014, 'holland': 12933, 'magnitude': 16915, 'playing': 20985, 'tower': 28035, 'polices': 21139, 'peugeot': 20657, 'citroën': 4890, 'dordre': 8183, 'leurodéputé': 15829, 'négocié': 19341, 'speciale': 26434, 'émotionnelle': 30379, 'ariana': 1587, 'expliqués': 10318, 'myers': 18503, 'migration': 17811, 'window': 29800, 'financièrement': 10935, 'joint': 14691, 'natalie': 18788, 'démonte': 8934, 'logiques': 16371, 'graffitis': 12180, 'agüero': 606, 'banal': 2438, 'fortunes': 11265, 'silent': 25848, 'luttant': 16631, 'vir': 29263, 'ode': 19470, 'extraordinaires': 10425, 'condamnent': 5590, 'provenant': 22003, 'documentariste': 8059, 'contaminer': 5920, 'chouard': 4724, 'madeleines': 16871, 'carla': 4039, 'partagé': 20180, 'allemandes': 837, 'spd': 26427, 'canadienne': 3888, 'saccagé': 24837, 'sentendre': 25539, 'alouettes': 901, 'collégiennes': 5203, 'businesses': 3641, 'périmètre': 22479, 'administrés': 385, 'surement': 26984, 'parapente': 20067, 'mrc': 18383, 'méfaits': 18604, 'haus': 12732, 'lecosse': 15661, 'coiffures': 5122, 'stylées': 26769, 'énigmatique': 30396, 'weapons': 29695, 'civilian': 4899, 'bombing': 3129, 'abriter': 96, 'illustratrice': 13364, 'reprenant': 23623, 'bes': 2790, 'crew': 6458, 'oct': 19460, 'bundestag': 3615, 'hybrides': 13147, 'results': 23797, 'kerry': 14995, 'member': 17583, 'tiger': 27774, 'gomorra': 12082, 'orléanais': 19768, 'dhôpitaux': 7585, 'abaisser': 12, 'kamel': 14929, 'disparaitre': 7890, 'lorganisme': 16451, 'dessinatrice': 7410, 'feuille': 10811, 'brunes': 3534, 'cicatrices': 4816, 'acné': 266, 'déconspirateurs': 8647, 'déno': 8956, 'ouh': 19829, 'vilains': 29198, 'afd': 455, 'avertissements': 2234, 'doha': 8080, 'toast': 27853, 'patate': 20306, 'pourri': 21417, 'civilians': 4900, 'kayaks': 14965, 'axa': 2285, 'malte': 17041, 'espagnoles': 9986, 'raspail': 22909, 'minière': 17918, 'illuminer': 13355, 'optez': 19651, 'pâtissière': 22417, 'furent': 11576, 'assistez': 1803, 'escrocs': 9975, 'douteuses': 8264, 'dubosc': 8380, 'sav': 25234, 'chtis': 4766, 'crétins': 6626, 'démon': 8930, 'organisés': 19739, 'lasile': 15476, 'cynisme': 6745, 'piketty': 20782, 'cannois': 3933, 'analysée': 1086, 'qotmii': 22521, 'ém': 30349, 'melbourne': 17574, 'différencier': 7676, 'justification': 14887, 'censurent': 4252, 'wayne': 29687, 'déguiser': 8812, 'wells': 29733, 'fascine': 10629, 'nocif': 19044, 'bingo': 2900, 'françoishenri': 11415, 'consommé': 5838, 'deutschland': 7462, 'feeling': 10730, 'prospérer': 21944, 'courre': 6315, 'compiègne': 5422, 'magdalena': 16891, 'andersson': 1115, 'alimente': 802, 'maker': 16986, 'iconique': 13258, 'conclure': 5562, 'ambulanciers': 983, 'smur': 26023, 'ghost': 11950, 'tsushima': 28433, 'elliot': 9458, 'denquêtes': 7311, 'crim': 6468, 'eugénisme': 10098, 'étonnantes': 30562, 'ef': 9359, 'répo': 24615, 'émeute': 30363, 'molnupiravir': 18091, 'tex': 27635, 'penseurs': 20467, 'linformatique': 16151, 'belmadi': 2726, 'ladresse': 15205, 'asymptomatiques': 1875, 'statistiquement': 26609, 'planification': 20940, 'fournitures': 11316, 'capté': 3987, 'ferri': 10788, 'essere': 10033, 'ferment': 10767, 'fauchée': 10656, 'langle': 15350, 'lafayette': 15210, 'documentary': 8060, 'soustraitance': 26359, 'vouée': 29515, 'lexpérience': 15881, 'répare': 24604, 'saffiche': 24876, 'frontaliers': 11501, 'endormi': 9642, 'prouesses': 21994, 'gouvernés': 12155, 'foutent': 11327, 'arcane': 1539, 'censurés': 4257, 'chemical': 4578, 'lexploit': 15870, 'ohio': 19533, 'epidemic': 9920, 'paieront': 19939, 'trahisons': 28102, 'condoléances': 5605, 'mondaine': 18113, 'franceallemagne': 11364, 'faiton': 10551, 'doper': 8172, 'escaliers': 9962, 'indépendantiste': 13742, 'ignorant': 13316, 'alarmiste': 715, 'iles': 13339, 'sommation': 26174, 'tentaient': 27544, 'inquiètent': 13918, 'sherbrooke': 25730, 'covers': 6364, 'playbook': 20981, 'basketteur': 2563, 'conforte': 5682, 'beijing': 2696, 'intolérable': 14187, 'affection': 467, 'ambroise': 980, 'croizat': 6533, 'opérateur': 19664, 'labattoir': 15138, 'charlottesville': 4508, 'which': 29757, 'stopped': 26673, 'infertilité': 13776, 'pelosi': 20432, 'entouré': 9818, 'auditions': 2033, 'oracle': 19675, 'luttent': 16633, 'californias': 3810, 'heels': 12803, 'strangers': 26692, 'warcraft': 29652, 'chalutier': 4381, 'cliquant': 5015, 'ccas': 4203, 'cole': 5135, 'loeuvre': 16355, 'fric': 11470, 'projette': 21827, 'surdoué': 26981, 'parag': 20051, 'agrawal': 578, 'personnalisé': 20584, 'convalescence': 6055, 'annonçant': 1215, 'xviie': 29909, 'haïtien': 12773, 'parceque': 20077, 'émouvante': 30382, 'guedj': 12364, 'peinent': 20421, 'chatte': 4533, 'survit': 27039, 'prisonnière': 21645, 'phoques': 20714, 'débrief': 8520, 'degré': 7200, 'assurances': 1833, 'tips': 27808, 'maquis': 17181, 'dynamisme': 8471, 'peintures': 20427, 'brouille': 3520, 'movies': 18366, 'caravane': 4002, 'obsolescence': 19409, 'lignée': 16043, 'adventure': 439, 'vf': 29089, 'grandplace': 12207, 'devrais': 7515, 'sinterroge': 25930, 'dentretien': 7331, 'exigeant': 10251, 'célébrée': 6782, 'champselysées': 4408, 'cousine': 6335, 'rayanne': 22974, 'xii': 29893, 'ouigo': 19831, 'dépressive': 9053, 'rédactrice': 24469, 'tailler': 27335, 'étaitil': 30516, 'rtt': 24270, 'saintemarie': 24920, 'ballet': 2425, 'sollicité': 26147, 'contribuer': 6022, 'élaboration': 30267, 'plafonnement': 20902, 'volumes': 29454, 'limités': 16088, 'anses': 1245, 'utilis': 28757, 'indiscrétions': 13702, 'russiagate': 24332, 'surmesure': 27000, 'armel': 1603, 'saurez': 25208, 'hab': 12569, 'terr': 27576, 'bts': 3575, 'doccitanie': 8040, 'dactivités': 6838, 'paillettes': 19942, 'ufc': 28602, 'abattue': 29, 'tarot': 27410, 'résidus': 24678, 'diary': 7615, 'sow': 26405, 'nyt': 19307, 'bombshell': 3130, 'rama': 22806, 'yade': 29921, 'estaing': 10041, 'hautespyrénées': 12745, 'prizewinning': 21674, 'nikole': 19002, 'hannahjones': 12679, 'pitch': 20856, 'glaucome': 12030, 'révolutionnent': 24774, 'rechercher': 23066, 'suspens': 27082, 'bollène': 3116, 'angles': 1147, 'élit': 30321, 'pj': 20885, 'boeuf': 3092, 'bruni': 3536, 'calmes': 3823, 'encouragements': 9617, 'lui': 16580, 'collimateur': 5185, 'tricastin': 28295, 'remplis': 23446, 'brothers': 3516, 'autopsies': 2149, 'réponds': 24625, 'fais': 10537, 'joan': 14661, 'rivers': 24055, 'ultrariches': 28625, 'résisté': 24692, 'françai': 11408, 'suspends': 27077, 'tote': 27955, 'secondaire': 25400, 'versailles': 29038, 'wallonnes': 29640, 'antivaxx': 1331, 'rallies': 22799, 'crédité': 6615, 'venom': 28990, 'jurisprudence': 14862, 'analysé': 1085, 'glacer': 12017, 'repair': 23573, 'pierrehugues': 20770, 'imposés': 13502, 'amnesty': 1022, 'obligeant': 19381, 'xd': 29890, 'fières': 11006, 'rustique': 24338, 'trouille': 28373, 'assumée': 1829, 'craignait': 6414, 'sept': 25562, 'lajax': 15270, 'quavec': 22579, 'rsa': 24262, 'dévaluation': 9249, 'cp': 6396, 'débu': 8524, 'probatoire': 21685, 'taguées': 27329, 'maçonnique': 17494, 'guichet': 12384, 'séduire': 27195, 'michaël': 17766, 'youn': 29967, 'fleurot': 11049, 'déoliennes': 8971, 'lamy': 15316, 'bosnieherzégovine': 3201, 'esteban': 10045, 'jeanpascal': 14592, 'disparues': 7899, 'noisettes': 19060, 'loge': 16362, 'rate': 22933, 'apprenez': 1458, 'dad': 6841, 'contaminées': 5923, 'aideront': 625, 'cernes': 4304, 'ethan': 10082, 'lundis': 16603, 'romaine': 24143, 'maltraité': 17045, 'dhistoria': 7560, 'montante': 18166, 'sommé': 26182, 'trop': 28356, 'nct': 18866, 'emo': 9532, 'boxeur': 3340, 'sepp': 25561, 'aimes': 659, 'lanc': 15324, 'chancelière': 4413, 'atypique': 1997, 'gouverneme': 12143, 'airbnb': 669, 'serviteur': 25635, 'fibromyalgie': 10829, 'contribuent': 6021, 'possibilités': 21321, 'muse': 18457, 'thérèse': 27752, 'ravagé': 22957, 'skipper': 25977, 'handisport': 12674, 'lanimateur': 15359, 'visionner': 29313, 'imposée': 13500, 'jouit': 14746, 'reform': 23221, 'cévenol': 6794, 'didn': 7634, 'print': 21628, 'habiller': 12575, 'cosigné': 6212, 'lausanne': 15545, 'justi': 14884, 'boniface': 3149, 'rapproché': 22897, 'déby': 8533, 'enq': 9730, 'scruté': 25372, 'feriezvous': 10762, 'cutting': 6717, 'évadé': 30610, 'leto': 15816, 'inégalitaire': 14321, 'simulateur': 25886, 'envol': 9898, 'mitdiskutieren': 17984, 'oder': 19471, 'incurable': 13656, 'captivité': 3982, 'beignets': 2695, 'réglages': 24533, 'malveillants': 17049, 'hanté': 12685, 'telescope': 27494, 'maps': 17176, 'nuisibles': 19272, 'surenchère': 26985, 'fluor': 11103, 'inégalité': 14322, 'perdant': 20504, 'sachets': 24845, 'flot': 11088, 'melissa': 17577, 'denrées': 7312, 'hopitaux': 13001, 'suis': 26882, 'gâcher': 12456, 'combustion': 5280, 'aromatiques': 1632, 'médian': 18574, 'annuels': 1223, 'rurales': 24321, 'anomalie': 1237, 'équilibrée': 30475, 'tongs': 27902, 'receive': 23036, 'sagittaire': 24892, 'verseau': 29040, 'gémeaux': 12473, 'kanter': 14940, 'pigistes': 20780, 'surges': 26997, 'régalent': 24518, 'lt': 16546, 'suffisait': 26861, 'bicarbonate': 2832, 'soude': 26274, 'trottoir': 28365, 'irruption': 14370, 'sauvera': 25224, 'regeneron': 23260, 'considérablement': 5810, 'diminué': 7713, 'tva': 28496, 'curcuma': 6697, 'cruauté': 6561, 'sri': 26541, 'lanka': 15363, 'abdallah': 37, 'hamdok': 12655, 'pikachu': 20781, 'encadré': 9596, 'harcelé': 12698, 'guêpes': 12446, 'parmesan': 20156, 'réquisitions': 24652, 'référent': 24512, 'épargnée': 30413, 'vibrant': 29099, 'virulente': 29286, 'hétéro': 13220, 'dépouiller': 9046, 'respecté': 23716, 'formés': 11254, 'diplômes': 7798, 'montand': 18164, 'recrutent': 23140, 'classées': 4964, 'opte': 19649, 'inefficace': 13750, 'caritative': 4036, 'précautions': 22053, 'june': 14843, 'intérimaires': 14243, 'sagittarius': 24893, 'détranges': 9229, 'gigantesques': 11973, 'satisfaisant': 25177, 'mourinho': 18343, 'réinventent': 24571, 'gardez': 11778, 'épopée': 30448, 'crossing': 6539, 'congélation': 5708, 'moules': 18333, 'huîtres': 13144, 'aspect': 1752, 'dangoisse': 6961, 'rapatrié': 22856, 'witness': 29826, 'conneries': 5747, 'sidi': 25788, 'doucet': 8245, 'blanchi': 2984, 'laprès': 15416, 'mètre': 18540, 'débouché': 8516, 'admissions': 393, 'arnhem': 1628, 'convié': 6074, 'végétal': 29575, 'cd': 4207, 'projekt': 21822, 'cyberpunk': 6730, 'morrison': 18264, 'doors': 8169, 'attendiez': 1947, 'bousculer': 3313, 'naturopathe': 18818, 'dresse': 8320, 'augmentera': 2044, 'sublimes': 26794, 'linventeur': 16205, 'ignorance': 13315, 'blanchiment': 2985, 'medicine': 17551, 'breakdance': 3409, 'lanxiété': 15386, 'lémotion': 16772, 'embarquée': 9485, 'impossibilité': 13494, 'labels': 15142, 'demir': 7271, 'délivrance': 8860, 'protecteur': 21955, 'sereins': 25585, 'centraux': 4278, 'aut': 2108, 'huge': 13078, 'facing': 10498, 'opec': 19616, 'insultant': 14041, 'mangue': 17095, 'nuremberg': 19296, 'zelensky': 30008, 'aphm': 1372, 'alassad': 717, 'rousses': 24223, 'inflige': 13798, 'rappeuse': 22885, 'bouchers': 3221, 'kentucky': 14991, 'removes': 23428, 'souterrain': 26372, 'jacquesolivier': 14488, 'pénètrent': 22463, 'sappuyant': 25140, 'espionnage': 9989, 'conçoit': 6084, 'labor': 15146, 'livernette': 16278, 'atos': 1900, 'matraque': 17440, 'daubagne': 7082, 'nexon': 18954, 'époustouflant': 30453, 'remplit': 23447, 'bibi': 2827, 'bidonvilles': 2844, 'chapelet': 4458, 'manchin': 17073, 'current': 6707, 'universal': 28672, 'elder': 9428, 'ramzy': 22823, 'francenouvellezélande': 11370, 'héro': 13207, 'sappuie': 25139, 'bords': 3190, 'partner': 20224, 'létudiant': 16816, 'génies': 12479, 'paddle': 19926, 'surf': 26988, 'maîtrisent': 17501, 'cérébrale': 6786, 'milwaukee': 17875, 'augustin': 2050, 'correspondance': 6178, 'palestinians': 19959, 'originelle': 19761, 'indreetloire': 13720, 'suede': 26851, 'cosmétique': 6217, 'lours': 16517, 'purge': 22372, 'connecter': 5739, 'surveille': 27028, 'gb': 11858, 'jardinier': 14542, 'joggeur': 14675, 'pet': 20636, 'urbaines': 28703, 'assassinats': 1769, 'connards': 5733, 'grotesque': 12319, 'internal': 14114, 'qd': 22517, 'spiegel': 26455, 'colors': 5239, 'armani': 1600, 'dodo': 8067, 'aspetta': 1754, 'playlists': 20987, 'creusent': 6449, 'muselière': 18459, 'dajouter': 6881, 'abu': 117, 'dhabi': 7547, 'éblouissant': 30073, 'bilancoronavirus': 2879, 'provençal': 22006, 'wilde': 29787, 'éruptions': 30498, 'poésie': 21476, 'fiona': 10967, 'fixée': 11002, 'saintherblain': 24929, 'estimations': 10054, 'succèdent': 26826, 'mosque': 18289, 'grisaille': 12298, 'saurais': 25206, 'exercent': 10234, 'géolocalisation': 12520, 'doug': 8249, 'zum': 30046, 'aristote': 1589, 'fdp': 10712, 'pulp': 22349, 'bûche': 3722, 'portland': 21286, 'fustigé': 11593, 'pénétration': 22465, 'épernay': 30417, 'élie': 30307, 'contradictions': 5987, 'sculptures': 25375, 'chicha': 4629, 'faucille': 10659, 'safety': 24875, 'sheriff': 25731, 'cow': 6374, 'revival': 23920, 'cordier': 6150, 'zizanie': 30027, 'mariam': 17234, 'voices': 29398, 'helped': 12813, 'plants': 20952, 'envoyée': 9910, 'entretenus': 9852, 'nur': 19295, 'nicht': 18974, 'newyorkais': 18948, 'transporteurs': 28202, 'psgnantes': 22260, 'aboutissement': 88, 'instruments': 14036, 'labyrinthe': 15156, 'brûlée': 3570, 'civiques': 4907, 'planifiée': 20942, 'salomé': 25020, 'toucheront': 27967, 'lucile': 16564, 'solar': 26124, 'fpi': 11334, 'marginaux': 17226, 'caractérise': 3996, 'sancerre': 25069, 'réaménagement': 24400, 'librearbitre': 15973, 'réputée': 24642, 'quad': 22527, 'populistes': 21237, 'recouvert': 23130, 'sacrés': 24862, 'jogging': 14677, 'alder': 739, 'sees': 25447, 'field': 10851, 'maffesoli': 16881, 'projecteur': 21815, 'ina': 13543, 'visionné': 29314, 'litalien': 16256, 'sinner': 25916, 'acides': 263, 'recev': 23053, 'muscles': 18453, 'lintégrale': 16197, 'cliquer': 5017, 'url': 28721, 'centralesupélec': 4277, 'creates': 6439, 'cartoon': 4086, 'anal': 1076, 'fréquent': 11524, 'chapeau': 4456, 'danton': 7002, 'tarel': 27399, 'vogel': 29393, 'author': 2119, 'ennemie': 9721, 'homo': 12961, 'sylvia': 27117, 'glory': 12049, 'discorde': 7850, 'lanterne': 15376, 'intolérance': 14188, 'pq': 21482, 'rangé': 22841, 'versées': 29051, 'casseurs': 4118, 'bousculent': 3312, 'pourr': 21405, 'projectile': 21817, 'donna': 8144, 'coloscopie': 5244, 'temporairement': 27508, 'potier': 21367, 'devil': 7500, 'promoteurs': 21865, 'erstmals': 9953, 'ye': 29937, 'monstrueuse': 18154, 'chip': 4670, 'shortage': 25758, 'sattendre': 25186, 'revisité': 23917, 'koné': 15097, 'justes': 14882, 'calculs': 3803, 'bourg': 3289, 'harley': 12710, 'abiy': 54, 'lennemi': 15738, 'ligpn': 16045, 'lélectrique': 16760, 'blouse': 3050, 'collent': 5180, 'longues': 16418, 'ladministration': 15199, 'gg': 11940, 'bonbon': 3135, 'densité': 7317, 'météorite': 18683, 'sillage': 25853, 'laissons': 15263, 'ozon': 19908, 'gamins': 11742, 'television': 27495, 'critiqués': 6502, 'lucifer': 16563, 'bise': 2934, 'approve': 1485, 'oklm': 19546, 'flirte': 11068, 'voted': 29479, 'limpossibilité': 16105, 'denseigner': 7316, 'dhélène': 7582, 'pare': 20089, 'dastrazeneca': 7061, 'danticorps': 6999, 'techniquement': 27470, 'lisezmoi': 16238, 'sauveteurs': 25226, 'fument': 11556, 'soci': 26052, 'effondre': 9384, 'sadressera': 24871, 'emmerde': 9528, 'lambda': 15298, 'elementary': 9436, 'sucres': 26832, 'حول': 30690, 'résolu': 24693, 'bactéries': 2353, 'tele': 27491, 'decreto': 7177, 'guaino': 12352, 'coquines': 6134, 'scepticisme': 25298, 'séteint': 27267, 'remplies': 23444, 'lexploration': 15873, 'cassent': 4113, 'limits': 16084, 'darwin': 7047, 'testostérone': 27629, 'vtt': 29553, 'invoquer': 14312, 'transformations': 28159, 'pigiste': 20779, 'linterpellation': 16188, 'musclée': 18455, 'refuges': 23231, 'serein': 25582, 'directions': 7815, 'emprunter': 9580, 'sinstallent': 25925, 'observe': 19399, 'embarrassing': 9489, 'créneaux': 6621, 'orly': 19767, 'envoyant': 9905, 'toronto': 27928, 'basile': 2556, 'exercer': 10235, 'législateur': 16735, 'seco': 25398, 'lunesco': 16609, 'déséquilibré': 9159, 'reprendra': 23625, 'amnésie': 1024, 'lunanimité': 16599, 'cci': 4205, 'envi': 9876, 'buvez': 3656, 'kavala': 14961, 'alltime': 868, 'leading': 15629, 'distinction': 7954, 'entrons': 9859, 'rallyes': 22803, 'monumentale': 18218, 'secure': 25437, 'mountain': 18341, 'empty': 9583, 'désertification': 9120, 'clausus': 4973, 'millie': 17861, 'malhonnête': 17026, 'innocente': 13889, 'parler': 20144, 'cambrioleurs': 3844, 'friture': 11486, 'photographier': 20720, 'idole': 13291, 'faudraitil': 10664, 'vertueuse': 29064, 'massacrée': 17383, 'pliable': 21015, 'raisonnement': 22784, 'encanto': 9598, 'soit': 26117, 'moine': 18077, 'agréable': 605, 'californienne': 3813, 'device': 7490, 'signals': 25812, 'electricity': 9433, 'implants': 13462, 'délation': 8834, 'satisfaits': 25179, 'selo': 25474, 'retiendra': 23816, 'censeurs': 4249, 'formée': 11253, 'médiaticopolitique': 18579, 'favorisé': 10692, 'remaniement': 23380, 'asso': 1807, 'constatés': 5859, 'proc': 21694, 'émus': 30386, 'jaigu': 14500, 'artifice': 1701, 'femm': 10743, 'rétablissement': 24712, 'scientifiquement': 25336, 'spotted': 26495, 'fontanel': 11184, 'méditer': 18597, 'lâme': 16680, 'exclus': 10201, 'éducatif': 30237, 'habitent': 12589, 'dogs': 8078, 'crossover': 6540, 'gratuitem': 12233, 'analogie': 1077, 'debut': 7162, 'selection': 25463, 'peste': 20633, 'décrite': 8686, 'sexpose': 25679, 'psys': 22286, 'plaignantes': 20916, 'piéger': 20875, 'filmés': 10909, 'lubie': 16550, 'vien': 29152, 'sor': 26220, 'saucisse': 25198, 'primés': 21615, 'totem': 27956, 'compétent': 5514, 'lassalle': 15479, 'jedi': 14599, 'patronales': 20342, 'publi': 22293, 'noyaux': 19234, 'shift': 25735, 'lituanien': 16271, 'lindonésie': 16134, 'tropicale': 28359, 'semifinals': 25496, 'gloria': 12046, 'asking': 1747, 'pourrait': 21410, 'morto': 18280, 'courge': 6307, 'rançongiciel': 22849, 'الله': 30685, 'considèrent': 5808, 'mostly': 18295, 'dévoré': 9280, 'serezvous': 25588, 'eldorado': 9429, 'woods': 29847, 'airways': 679, 'privation': 21654, 'arrivez': 1662, 'idea': 13266, 'sauté': 25213, 'durcissent': 8433, 'scénariste': 25380, 'abdel': 38, 'rie': 23981, 'exhaustive': 10244, 'collect': 5162, 'décisives': 8593, 'présidentiel': 22187, 'diabolisation': 7593, 'aujo': 2053, 'magistrature': 16908, 'pixel': 20866, 'reproduisons': 23644, 'réapproprier': 24409, 'multiculturalisme': 18405, 'dil': 7696, 'lopérateur': 16439, 'caca': 3742, 'proportions': 21907, 'balcons': 2411, 'paolo': 20014, 'volants': 29427, 'cissé': 4870, 'domenech': 8111, 'discriminatoire': 7862, 'included': 13609, 'beverly': 2808, 'hills': 12877, 'homes': 12951, 'kit': 15058, 'stagiaires': 26561, 'indignés': 13693, 'medieval': 17552, 'rimworld': 24000, 'flahault': 11012, 'consulat': 5885, 'éliminée': 30315, 'sentimental': 25547, 'vaccinati': 28792, 'causé': 4182, 'inspecteur': 13969, 'éradiquer': 30490, 'testées': 27633, 'dalzheimer': 6913, 'pick': 20753, 'luchini': 16557, 'repasse': 23582, 'francsmaçons': 11398, 'voulzy': 29511, 'lœil': 16830, 'fossoyeurs': 11276, 'bataillon': 2587, 'camara': 3834, 'corbeilles': 6143, 'châteaubriant': 4782, 'ramassage': 22809, 'négative': 19329, 'scienti': 25333, 'subtile': 26806, 'covid1': 6367, 'versés': 29052, 'faitelle': 10545, 'lighting': 16037, 'olympiades': 19566, 'trimestrielle': 28315, 'orgue': 19743, 'polytechnique': 21197, 'merlin': 17674, 'navigue': 18842, 'colette': 5136, 'dodgers': 8066, 'contracts': 5983, 'reculent': 23159, 'punis': 22364, 'mathias': 17419, 'vicherat': 29108, 'inépuisable': 14327, 'individuellement': 13710, 'fuient': 11543, 'flow': 11095, 'lolympia': 16398, 'jumelles': 14839, 'sanchez': 25071, 'dafghanistan': 6858, 'ruiné': 24297, 'pics': 20756, 'damas': 6916, 'odieux': 19474, 'aujour': 2055, 'cages': 3772, 'marrantes': 17309, 'exsecrétaire': 10405, 'imposées': 13501, 'challenger': 4374, 'scottish': 25360, 'bench': 2733, 'correctement': 6173, 'minimiser': 17902, 'capte': 3975, 'dhumeur': 7578, 'empêchera': 9587, 'jonas': 14703, 'procure': 21711, 'lis': 16231, 'judoka': 14801, 'virales': 29267, 'kiff': 15025, 'subtil': 26805, 'peppa': 20486, 'helps': 12815, 'eurosmois': 10124, 'déguise': 8809, 'hilarants': 12872, 'considération': 5814, 'gotta': 12116, 'maternel': 17412, 'faf': 10515, 'emilia': 9512, 'détecteur': 9180, 'labstention': 15155, 'hydroalcoolique': 13148, 'abuser': 120, 'exposer': 10363, 'ncis': 18865, 'suje': 26899, 'persécutés': 20603, 'sorganiser': 26232, 'léchange': 16691, 'prote': 21952, 'alliées': 856, 'misogyne': 17962, 'assigner': 1788, 'boomerang': 3170, 'néerlandaise': 19320, 'retro': 23854, 'souterraines': 26374, 'unveils': 28690, 'bosz': 3208, 'remous': 23424, 'torturés': 27944, 'bof': 3093, 'normands': 19139, 'outlook': 19847, 'ecologie': 9323, 'yan': 29925, 'innovante': 13895, 'guérit': 12445, 'vieillir': 29148, 'sector': 25436, 'developer': 7478, 'thuram': 27730, 'gorce': 12101, 'newyork': 18947, 'islamic': 14388, 'impériale': 13537, 'souffrant': 26282, 'déjàvu': 8829, 'sapir': 25130, 'marquera': 17297, 'soccuper': 26050, 'm1': 16832, 'chromebook': 4749, 'dalstom': 6908, 'rive': 24049, 'nets': 18908, 'élément': 30343, 'médiéval': 18600, 'heurtent': 12849, 'pars': 20171, 'christchurch': 4735, 'lettonie': 15820, 'infectiologue': 13767, 'wood': 29845, 'attachés': 1911, 'bean': 2642, 'yakuza': 29923, 'délitement': 8858, 'reportages': 23599, 'décrypté': 8700, 'colomb': 5209, 'indigène': 13694, 'séduisant': 27196, 'quelq': 22591, 'prépa': 22137, 'dorénavant': 8210, 'soignés': 26108, 'adversaire': 440, 'nona': 19089, 'giuseppe': 12008, 'touchent': 27965, 'denver': 7334, 'linvasion': 16204, 'auriez': 2079, 'émettre': 30361, 'conflanssaintehonorine': 5666, 'confondu': 5673, 'contrôleur': 6043, 'locatif': 16338, 'mock': 18028, 'taquet': 27392, 'accélération': 238, 'avraham': 2275, 'radicales': 22740, 'sevran': 25665, 'déviter': 9267, 'amish': 1017, 'pézenas': 22505, 'juriste': 14863, 'entraînent': 9831, 'choquantes': 4711, 'dinde': 7732, 'lavande': 15569, 'guéri': 12436, 'sincères': 25897, 'piano': 20745, 'aspirateur': 1756, 'glaces': 12018, 'reprendront': 23628, 'imédia': 13541, 'lég': 16716, 'fw15': 11604, 'comparait': 5399, 'affaiblie': 458, 'kiné': 15049, 'distributions': 7965, 'médaillés': 18566, 'maid': 16930, 'yahoo': 29922, 'lite': 16257, 'assiette': 1785, 'nordouest': 19123, 'perturbent': 20615, 'recalls': 23032, 'dip': 7787, 'centrée': 4287, 'hate': 12727, 'tina': 27800, 'envisagées': 9894, 'désaccord': 9104, 'parkes': 20129, 'lhoroscope': 15921, 'electronic': 9435, 'idem': 13268, 'empare': 9539, 'diversity': 7989, 'rives': 24056, 'quaujourdhui': 22576, 'prescrits': 21553, 'troisièm': 28336, 'invoice': 14306, 'binck': 2898, 'sidération': 25792, 'prorusse': 21938, 'pipi': 20824, 'attestations': 1968, 'alassane': 718, 'anxieux': 1345, 'parasites': 20070, 'suffers': 26856, 'paradoxale': 20047, 'aphp': 1373, 'ditalie': 7973, 'grues': 12335, 'travailliste': 28235, 'lamazonie': 15293, 'arméniens': 1621, 'refusons': 23242, 'obstacles': 19413, 'ratings': 22938, 'poussins': 21445, 'transférés': 28170, 'tear': 27460, 'jürgen': 14913, 'klopp': 15069, 'haven': 12756, 'aurores': 2088, 'output': 19848, 'esplanade': 9993, 'chevelure': 4614, 'somalie': 26163, 'truquer': 28412, 'fff': 10815, 'trieste': 28307, 'starligue': 26583, 'proposées': 21924, 'tarantino': 27393, 'apaise': 1356, 'escargot': 9966, 'sketch': 25967, 'foison': 11128, 'destinées': 7428, 'nicole': 18980, 'arménie': 1618, 'joints': 14692, 'ladjoint': 15198, 'délégations': 8874, 'melon': 17579, 'offenser': 19489, 'trouves': 28388, 'murray': 18447, 'gâteaux': 12460, 'virginité': 29274, 'décole': 8624, 'indonesia': 13715, 'wealth': 29693, 'loana': 16312, 'retraits': 23848, 'aptitude': 1512, 'blason': 2993, 'valorise': 28870, 'directoire': 7818, 'coulées': 6265, 'youre': 29974, 'défiscalisation': 8782, 'timothée': 27798, 'walter': 29643, 'bizarres': 2951, 'limagination': 16073, 'torchon': 27921, 'commencera': 5318, 'sexpliquer': 25678, 'lentrepreneur': 15760, 'reconnaissante': 23105, 'spirale': 26461, 'fourgonnette': 11302, 'indés': 13745, 'vamos': 28880, 'couscous': 6333, 'enlèvements': 9718, 'délétère': 8878, 'effect': 9366, 'lenjeu': 15736, 'plombé': 21024, 'niqab': 19014, 'devices': 7491, 'claquent': 4934, 'sucrées': 26835, 'salées': 25045, 'laut': 15547, 'écono': 30153, 'recipe': 23074, 'easy': 9307, 'innover': 13901, 'recycle': 23163, 'olivia': 19562, 'portedrapeau': 21267, 'approches': 1472, 'lavènement': 15596, 'linked': 16162, 'halls': 12640, 'exclues': 10199, 'désolée': 9151, 'allergie': 841, 'fps': 11335, 'freiheit': 11452, 'suk': 26902, 'slimane': 25995, 'doutait': 8258, 'antimasques': 1300, 'network': 18915, 'businessman': 3642, 'sue': 26849, 'ignoriez': 13321, 'tactile': 27316, 'prodige': 21725, 'morgue': 18257, 'coffret': 5102, 'fractures': 11343, 'punition': 22365, 'laporta': 15402, 'lécurie': 16709, 'reptiles': 23662, 'quavezvous': 22580, 'mascotte': 17362, 'éleveurs': 30302, 'parra': 20165, 'empreintes': 9573, 'adults': 435, 'alone': 896, 'chalonnais': 4378, 'tambour': 27368, 'buds': 3586, 'irons': 14364, 'faisais': 10538, 'arié': 1592, 'alimi': 808, 'fervent': 10798, 'déconnexion': 8643, 'gj': 12014, 'trompel': 28342, 'reporting': 23606, 'teachings': 27457, 'sperme': 26450, 'doléances': 8105, 'iraq': 14349, 'rubicon': 24276, 'atlantide': 1891, 'méprisant': 18638, 'geforce': 11866, 'désescalade': 9123, 'inscrites': 13940, 'ibra': 13244, 'logan': 16360, 'belloubet': 2725, 'vrille': 29549, 'tafta': 27324, 'enorme': 9728, 'sensibilités': 25529, 'antiimmigration': 1293, 'marjorie': 17270, 'greene': 12257, 'exorbitant': 10283, 'macr': 16855, 'suggéré': 26873, 'citronnée': 4889, 'visité': 29325, 'minoritaire': 17923, 'hooligans': 12997, 'soho': 26093, 'doyen': 8280, 'hec': 12800, 'notions': 19175, 'itv': 14452, 'mckay': 17522, 'reich': 23282, 'brioche': 3472, 'généreusement': 12506, 'saturne': 25192, 'informe': 13822, 'gl': 12015, 'logc': 16361, 'saintlaurent': 24938, 'intervenants': 14162, 'déployés': 9030, 'roues': 24200, 'noyé': 19237, 'exministre': 10278, 'atlantico': 1890, 'lévêque': 16827, 'activée': 310, 'plancha': 20932, 'symboliques': 27123, 'encontre': 9612, 'ouvrant': 19870, 'bilderberg': 2882, 'complosphère': 5445, 'tomorrow': 27897, 'divan': 7982, 'amputée': 1042, 'clientélisme': 4999, 'dexpérience': 7535, 'bedos': 2684, 'taclé': 27314, 'lima': 16070, 'showcase': 25767, 'phases': 20690, 'inculpée': 13654, 'guernesey': 12366, 'cluzel': 5047, 'emprunté': 9582, 'dotée': 8224, 'hypothèses': 13171, 'fuels': 11538, 'riots': 24009, 'meltdown': 17580, 'rappellera': 22877, 'eleven': 9438, 'indé': 13730, 'expliqu': 10308, 'dénonciations': 8961, 'snoop': 26036, 'dogg': 8076, 'plaisante': 20925, 'éthiques': 30545, 'monique': 18133, 'reid': 23285, 'colts': 5250, 'mtv': 18390, 'guetta': 12376, 'ibrahimovic': 13246, 'vertigineuse': 29060, 'minutebuzz': 17934, 'tranquillement': 28142, 'bélier': 3686, 'ottomane': 19811, 'beaujolais': 2660, 'anticorruption': 1277, 'éligibles': 30309, 'arrange': 1642, 'pourvu': 21437, 'sache': 24843, 'polexit': 21135, 'surfe': 26991, 'aine': 666, 'tombola': 27889, 'daccepter': 6820, 'chargeable': 4479, 'convoque': 6079, 'importation': 13482, 'pseudos': 22258, 'turin': 28472, 'lesclavage': 15788, 'zar': 30002, 'desprit': 7400, 'wird': 29815, 'bunker': 3616, 'a1': 0, 'successions': 26820, 'expérimentation': 10398, 'démocra': 8917, 'insuffisance': 14038, 'obscurantisme': 19390, 'celuilà': 4244, 'suffira': 26858, 'ouzbékistan': 19881, 'dupontmoretti': 8420, 'kind': 15043, 'wer': 29738, 'révélés': 24791, 'simplifié': 25876, 'pronostic': 21884, 'u19': 28589, 'gares': 11788, 'posée': 21350, 'nadal': 18705, 'citadins': 4873, 'arbitres': 1534, 'prosecutor': 21941, 'remobiliser': 23412, 'cose': 6211, 'iiie': 13331, 'chalamet': 4365, 'transmettons': 28183, 'résumée': 24706, 'gerber': 11919, 'denormandie': 7308, 'prescrire': 21551, 'sieg': 25794, 'rechute': 23073, 'firms': 10978, 'lacoste': 15175, 'unissent': 28663, 'défen': 8740, 'movement': 18363, 'pokimane': 21124, 'infiltration': 13780, 'isoler': 14413, 'quincy': 22629, 'coupables': 6277, 'nigérian': 18995, 'attendez': 1945, 'leure': 15826, 'maintiennent': 16957, 'gou': 12117, 'danish': 6971, 'infantilisation': 13762, 'perfusion': 20529, 'thompson': 27704, 'palier': 19966, 'électoraliste': 30285, 'ragnarok': 22763, 'annonceurs': 1209, 'censurer': 4253, 'identifiants': 13269, 'piratés': 20842, 'voyante': 29530, 'hulk': 13088, 'suggèrent': 26872, 'clashe': 4947, 'gims': 11984, 'lloyd': 16308, 'loc': 16328, 'gardent': 11772, 'plongeur': 21031, 'épée': 30468, 'mediator': 17549, 'servier': 25630, 'fridays': 11475, 'tiananmen': 27758, 'interrompues': 14158, 'diman': 7704, 'collon': 5192, 'refoulé': 23223, 'denfant': 7294, 'racket': 22712, 'galway': 11728, 'races': 22688, 'épais': 30407, 'descendu': 7379, 'progresser': 21800, 'include': 13608, 'brigades': 3452, 'ciment': 4826, 'prosecutors': 21942, 'sexes': 25671, 'coursepoursuite': 6321, 'détourne': 9218, 'sallient': 25013, 'engine': 9697, 'dabandonner': 6810, 'soudainement': 26271, 'témo': 28570, 'colosse': 5248, 'châtaignes': 4780, 'perpétuelle': 20557, 'afficheur': 479, 'demandant': 7246, 'assouplir': 1822, 'opa': 19613, 'inclure': 13612, 'homoparentales': 12964, 'atten': 1938, 'léditeur': 16710, 'dannecy': 6974, 'nocives': 19046, 'patronat': 20343, 'independent': 13669, 'sattend': 25184, 'payments': 20381, 'nettoient': 18912, 'abonne': 66, 'bacheliers': 2339, 'dépê': 9064, 'soupçon': 26329, 'méduses': 18603, 'stressée': 26720, 'attribuée': 1994, 'hautesaône': 12744, 'tentait': 27545, 'fix': 10997, 'accouche': 187, 'inséparables': 14053, 'anya': 1349, 'ralph': 22804, 'restreint': 23788, 'convainc': 6049, 'boudé': 3235, 'maxine': 17484, 'détracteurs': 9227, 'famillessantéprévention': 10590, 'sociétale': 26077, 'desktop': 7391, 'vibes': 29098, 'blow': 3052, 'palm': 19968, 'manning': 17136, 'acheteurs': 248, 'recommends': 23090, 'frissonner': 11482, 'ghana': 11941, 'québécoise': 22665, 'repasser': 23583, 'urges': 28718, 'fellow': 10735, 'defund': 7196, 'deadlift': 7140, 'lacs': 15180, 'liliane': 16058, 'capitalisation': 3962, 'perme': 20538, 'découpe': 8661, 'mythologie': 18524, 'incollable': 13622, 'pratiqu': 21495, 'donneznous': 8159, 'échéances': 30117, 'fiché': 10839, 'autos': 2167, 'einer': 9419, 'bouleversements': 3269, 'spatiales': 26425, 'planchent': 20934, 'controverses': 6032, 'économi': 30154, 'terrifiante': 27592, 'complots': 5450, 'incognito': 13619, 'précaution': 22052, 'manèges': 17169, 'vingtquatre': 29227, 'songs': 26196, 'mathématicien': 17424, 'régulier': 24547, 'apartment': 1363, 'elisa': 9444, 'gastambide': 11808, 'archéologues': 1561, 'récompensées': 24448, 'photographer': 20717, 'dncg': 8032, 'saintétienne': 24957, 'ascot': 1732, 'quinquagénaire': 22631, 'sentait': 25536, 'affaibli': 457, 'écoutent': 30180, 'cartel': 4076, 'testent': 27624, 'thérapeute': 27747, 'parmi': 20157, 'gîte': 12545, 'déniché': 8953, 'mara': 17183, 'sabine': 24822, 'sermon': 25604, 'débordé': 8512, 'goutte': 12133, 'dalexia': 6894, 'sécraser': 27184, 'sousvêtements': 26362, 'brillamment': 3458, 'gentillesse': 11902, 'artérielle': 1721, 'contestant': 5945, 'roxana': 24247, 'imprimantes': 13513, 'défensive': 8756, 'durcir': 8431, 'diam': 7606, 'pannes': 20002, 'répétées': 24649, 'mala': 16992, 'algue': 778, 'gâchis': 12457, 'bérénice': 3709, 'dita': 7972, 'teese': 27485, 'légèrement': 16753, 'irresponsables': 14368, 'shelf': 25726, 'rolls': 24138, 'lefebvre': 15673, 'exploré': 10337, 'yaourts': 29932, 'constats': 5857, 'roland': 24131, 'infatigable': 13764, 'rockefeller': 24102, 'chirurgicale': 4674, 'pressent': 21566, 'examinent': 10169, 'biche': 2834, 'décla': 8595, 'signait': 25804, 'millionnaire': 17867, 'soutenait': 26363, 'philippin': 20696, 'résolument': 24694, 'déclar': 8596, 'menstruels': 17620, 'reymond': 23933, 'occurrence': 19456, 'louvrage': 16522, 'nondits': 19094, 'acharnée': 244, 'alexandria': 768, 'coûteux': 6393, 'répétés': 24650, 'winfrey': 29806, 'honnêtes': 12984, 'navaient': 18831, 'cho': 4684, 'prélevés': 22114, 'croule': 6541, 'affichage': 473, 'garant': 11757, 'opter': 19650, 'tulle': 28454, 'felix': 10733, 'denitsa': 7305, 'ikonomova': 13333, 'rayane': 22973, 'bensetti': 2752, 'chronicles': 4751, 'celui': 4242, 'joconde': 14667, 'traqué': 28213, 'sims': 25884, 'traîtres': 28258, 'mésaventures': 18649, 'veillée': 28955, 'libéralisation': 15988, 'iowa': 14331, 'lanimation': 15360, 'aléas': 940, 'lir': 16224, 'sardines': 25146, 'defence': 7186, 'préface': 22091, 'souriez': 26342, 'krusi': 15113, 'avalé': 2199, 'bordeauxtoulouse': 3183, 'djebbari': 8022, 'losing': 16477, 'brasillach': 3395, 'snipers': 26033, 'bouts': 3328, 'half': 12634, 'linverno': 16207, 'slave': 25990, 'clame': 4921, 'lespionnage': 15795, 'prospère': 21943, 'pierreandré': 20768, 'taguieff': 27327, 'tt': 28434, 'planer': 20938, 'toys': 28046, 'dove': 8273, 'élégante': 30342, 'ceuta': 4338, 'favoritisme': 10695, 'pousses': 21443, 'calciné': 3800, 'kinshasa': 15048, 'nudes': 19261, 'faudratil': 10665, 'pétard': 22493, 'morançais': 18240, 'limpunité': 16110, 'combiner': 5274, 'aboard': 59, 'dépouillée': 9049, 'gorges': 12105, 'yellen': 29943, 'récession': 24422, 'abbas': 32, 'aille': 645, 'aggravée': 553, 'exdéputé': 10224, 'nourri': 19191, 'orgueil': 19744, 'denviron': 7336, 'confection': 5621, 'jésuschrist': 14910, 'squats': 26532, 'escargots': 9967, 'virulent': 29285, 'sinistres': 25914, 'marrant': 17308, 'régularisation': 24543, 'ayons': 2296, 'jésuite': 14908, 'pudique': 22321, 'goujon': 12121, 'projections': 21820, 'concentre': 5535, 'inves': 14267, 'éclairs': 30126, 'saintouen': 24949, 'lempreinte': 15718, 'conditionné': 5603, 'resp': 23706, 'projecteurs': 21816, 'dernièrement': 7367, 'maliens': 17030, 'foulard': 11291, 'ivoiriens': 14463, 'streetart': 26714, 'clergé': 4983, 'tanti': 27381, 'némésis': 19342, 'protocols': 21975, 'considérable': 5809, 'muscler': 18452, 'constant': 5851, 'révélateurs': 24783, 'gabart': 11666, 'mousquetaires': 18345, 'prétendus': 22212, 'mutuellement': 18496, 'réapparition': 24405, 'posit': 21308, 'lécart': 16690, 'narration': 18770, 'minières': 17919, 'ferons': 10784, 'bâle': 3668, 'viv': 29361, 'déversent': 9263, 'clous': 5037, 'vuillemin': 29557, 'fréquents': 11527, 'malaurie': 17004, 'pratiquement': 21499, 'doléance': 8104, 'bong': 3146, 'joonho': 14709, 'parasite': 20069, 'semain': 25480, 'bagages': 2365, 'valises': 28859, 'oubliées': 19824, 'streameurs': 26708, 'commissions': 5351, 'neversoise': 18938, 'touré': 28022, 'généticien': 12513, 'métissage': 18671, 'procédés': 21723, 'crèches': 6590, 'noisette': 19059, 'ntp': 19250, 'abominable': 64, 'veutil': 29085, 'sanglant': 25087, 'légionnaire': 16734, 'thibaut': 27688, 'recharge': 23062, 'colline': 5187, 'chômée': 4800, 'afroaméricains': 524, 'vallaudbelkacem': 28861, 'injury': 13879, 'plaquer': 20959, 'hawaï': 12759, 'pelle': 20429, 'vra': 29540, 'saccumulent': 24839, 'export': 10351, 'sporting': 26486, 'emission': 9519, 'négociable': 19334, 'impuissant': 13526, 'oliver': 19560, 'burton': 3636, 'coloniser': 5228, 'resolution': 23705, 'condemns': 5596, 'jampj': 14525, 'communique': 5370, 'farming': 10622, 'beaufils': 2656, 'alfitr': 772, 'signées': 25838, 'paranormal': 20065, 'manifestaient': 17106, 'interpeller': 14130, 'venger': 28986, 'commémore': 5384, 'jaloux': 14511, 'sereinement': 25584, 'océane': 19467, 'mustapha': 18477, 'appelait': 1415, 'alves': 936, 'fermeront': 10770, 'finish': 10956, 'threats': 27718, 'confirmant': 5650, 'clarisse': 4941, 'frayeur': 11434, 'humilier': 13114, 'flippantes': 11065, 'rationnelle': 22941, 'mulliez': 18403, 'charnière': 4513, 'ntamack': 19248, 'épouvantail': 30455, 'nantaises': 18749, 'réconcilier': 24451, 'goals': 12062, 'conflans': 5665, 'tonneaux': 27908, 'notaires': 19163, 'farmers': 10621, 'trapped': 28208, 'desperate': 7395, 'calomnieuse': 3824, 'han': 12665, 'semblé': 25490, 'admission': 392, 'juvénile': 14898, 'orlando': 19765, 'pérenniser': 22472, 'dédie': 8716, 'turques': 28482, 'verglas': 29018, 'persuadé': 20597, 'hyundai': 13175, 'céréales': 6784, 'lexcès': 15857, 'favorisent': 10690, 'devonsnous': 7512, 'aujou': 2054, 'respectivement': 23712, 'allure': 873, 'vidéaste': 29135, 'chronologie': 4758, 'couru': 6332, 'dimagination': 7703, 'lhéritage': 15940, 'sofiane': 26090, 'grandit': 12205, 'sal': 24978, 'glauque': 12031, 'bernie': 2780, 'ouestfrance': 19827, 'malawi': 17005, 'lloris': 16306, 'nétaient': 19355, 'létonnante': 16812, 'serionsnous': 25600, 'décodage': 8622, 'sennuient': 25519, 'doxygène': 8279, 'kein': 14975, 'welt': 29734, 'macht': 16850, 'alicia': 791, 'forteresse': 11259, 'nexclut': 18950, 'twerk': 28505, 'wejdene': 29728, 'rentabilité': 23544, 'rece': 23035, 'rapporter': 22889, 'rente': 23546, 'mémorielle': 18627, 'text': 27639, 'validée': 28856, 'bitcoins': 2945, 'chuck': 4768, 'norris': 19143, 'imprimante': 13512, 'looms': 16426, 'démissions': 8913, 'valentino': 28844, 'alor': 899, 'discrets': 7859, 'faisiez': 10541, 'coordinateur': 6101, 'laccusation': 15165, 'scooters': 25351, 'formules': 11249, 'emporio': 9568, 'repr': 23622, 'apparu': 1406, 'davignon': 7123, 'reconstitué': 23120, 'sectarisme': 25430, 'sattire': 25187, 'foudres': 11284, 'accordés': 186, 'enseignée': 9767, 'transmise': 28186, 'dysfonctionnement': 8473, 'soda': 26082, 'polici': 21140, 'reconnus': 23115, 'vincennes': 29221, 'écoulée': 30176, 'suit': 26886, 'strausskahn': 26703, 'conservatives': 5795, 'damd': 6920, 'dintel': 7764, 'lélimination': 16762, 'exploitée': 10330, 'inconsciente': 13636, 'tabassée': 27298, 'illumine': 13354, 'rayonnement': 22977, 'def': 7184, 'vientil': 29161, 'infligé': 13800, 'reflète': 23216, 'darbres': 7017, 'enfuir': 9679, 'sème': 27169, 'spontanée': 26480, 'douzaine': 8270, 'leo': 15771, 'préférable': 22099, 'dacheter': 6830, 'dissuasion': 7949, 'composer': 5470, 'samantha': 25047, 'porta': 21255, 'trafficking': 28086, 'underway': 28642, 'frdalt50': 11441, 'changez': 4428, 'tycoon': 28514, 'guignol': 12394, 'briançon': 3439, 'déchetterie': 8570, 'sachs': 24848, 'bovine': 3333, 'doria': 8189, 'goya': 12162, 'confiée': 5663, 'poor': 21221, 'dimage': 7701, 'bikinis': 2875, 'simpsons': 25883, 'audiard': 2020, 'asks': 1748, 'approval': 1484, 'lanternes': 15377, 'dopage': 8170, 'gondpontouvre': 12084, 'brunch': 3532, 'davions': 7125, 'honneurs': 12981, 'jihadistes': 14651, 'avan': 2200, 'manipulés': 17129, 'stat': 26598, 'réfléchit': 24499, 'panthéonisation': 20012, 'cools': 6094, 'sassurer': 25165, 'dén': 8948, 'conclusion': 5563, 'cérébrales': 6787, 'manuscrits': 17166, 'hypnotique': 13165, 'appears': 1413, 'concrétiser': 5578, 'pancartes': 19982, 'cad': 3757, 'électromagnétiques': 30294, 'premie': 21519, 'ezra': 10453, 'injuries': 13877, 'larn': 15454, 'communautaires': 5360, 'crampons': 6422, 'déclenchent': 8611, 'halles': 12638, 'ghibli': 11945, 'miyazaki': 17997, 'crowdfunding': 6545, 'tirailleurs': 27813, 'illustrer': 13367, 'antitrump': 1326, 'zuhal': 30045, 'mutations': 18489, 'bali': 2416, 'risq': 24024, 'aurions': 2082, 'préambule': 22046, 'relatifs': 23324, 'mavoir': 17476, 'saluée': 25037, 'seit': 25461, 'glissements': 12038, 'shepherd': 25729, 'choice': 4692, 'prévoyait': 22230, 'ocasiocortez': 19432, 'psychological': 22275, 'spiritual': 26464, 'prononcée': 21880, 'répandre': 24599, 'salman': 25017, 'métalliques': 18653, 'cerveaux': 4321, 'imm': 13406, 'applaudir': 1428, 'caniço': 3926, 'jérusalemest': 14904, 'financée': 10938, 'garantit': 11763, 'maia': 16929, 'ovhcloud': 19893, 'recyclé': 23165, 'bin': 2896, 'laden': 15195, 'jacky': 14483, 'perturbées': 20619, 'aka': 700, 'supporteurs': 26944, 'expérimentations': 10399, 'anima': 1158, 'songe': 26195, 'ménagères': 18633, 'probabilités': 21681, 'auditionnée': 2032, 'closed': 5030, 'orchestrée': 19691, 'inviter': 14300, 'superintendent': 26923, 'sall': 25009, 'restaure': 23769, 'évitant': 30633, 'supercherie': 26920, 'partages': 20178, 'shouldnt': 25764, 'reichstadt': 23284, 'conspirationnisme': 5844, 'revenait': 23887, 'gadget': 11676, 'pollen': 21172, 'comprendra': 5480, 'contrô': 6038, 'inserm': 13952, 'showbiz': 25766, 'bague': 2374, 'atteignant': 1927, 'tennisman': 27538, 'lira': 16225, 'réflexe': 24491, 'kévin': 15126, 'overdoses': 19889, 'incertains': 13590, 'chaudron': 4538, 'extraire': 10420, 'vér': 29593, 'effects': 9371, 'eléments': 9468, 'recommence': 23087, 'sinscrire': 25920, 'tirée': 27824, 'terrifiants': 27593, 'dangereusement': 6954, 'étiquetage': 30552, 'relay': 23336, 'nigérians': 18996, 'héroïnes': 13210, 'élémentaire': 30344, 'loligarchie': 16396, 'récapitulatif': 24414, 'barber': 2505, 'gray': 12245, 'osman': 19796, 'somptueuse': 26185, 'séparent': 27238, 'léconomiste': 16702, 'licorne': 16008, 'wallonne': 29639, 'kitty': 15062, 'peuplé': 20660, 'draguer': 8291, 'pride': 21597, 'controversy': 6034, 'manier': 17101, 'geneviève': 11887, 'réussis': 24739, 'haletant': 12633, 'laws': 15601, 'repérés': 23673, 'neigeverglas': 18881, 'lécosystème': 16703, 'cyrille': 6749, 'proue': 21992, 'dominée': 8128, 'corey': 6156, 'anecdotique': 1128, 'trumpera': 28409, 'dè': 8480, 'robespierre': 24080, 'larsenal': 15464, 'epoch': 9923, 'pregnancy': 21515, 'syn': 27136, 'cramé': 6423, 'armanet': 1599, 'playmobil': 20988, 'digitalisation': 7682, 'cyprien': 6747, 'marbre': 17191, 'spots': 26494, 'rade': 22732, 'promettant': 21850, 'platform': 20974, 'ignoring': 13322, 'disposant': 7913, 'exigeante': 10252, 'vaisseaux': 28828, 'rejoue': 23309, 'bijou': 2869, 'majuscule': 16984, 'eur': 10102, 'gagnes': 11694, 'ojim': 19542, 'ivoirienne': 14462, 'daughters': 7087, 'abdul': 43, 'mêm': 18692, 'imagerie': 13382, 'effroi': 9398, 'darme': 7031, 'microscope': 17785, 'réhabilitation': 24554, 'visitent': 29318, 'hilarantes': 12871, 'bouleverse': 3267, 'cession': 4328, 'equity': 9930, 'pépé': 22471, 'larchipel': 15433, 'ladoption': 15203, 'daméricains': 6939, 'bunny': 3617, 'repéré': 23670, 'chouiner': 4729, 'cyclable': 6732, 'paradoxalement': 20048, 'éclaircir': 30122, 'royales': 24252, 'vitrines': 29357, 'terroriser': 27604, 'terza': 27615, 'spontané': 26479, 'mobilisations': 18014, 'exécute': 10445, 'vercors': 29011, 'villardière': 29205, 'barbare': 2498, 'coffrets': 5103, 'attendons': 1948, 'pourcentage': 21400, 'débutera': 8530, 'intégrité': 14221, 'prob': 21679, 'ptit': 22287, 'originaires': 19755, 'épluché': 30445, 'réécriture': 24797, 'ara': 1521, 'vulnerable': 29563, 'montiel': 18189, 'chopé': 4708, 'yom': 29961, 'modalités': 18032, 'réapparue': 24406, 'ghosn': 11949, 'ns': 19245, 'chimiothérapie': 4653, 'nans': 18746, 'mouts': 18353, 'kimpembe': 15042, 'communale': 5358, 'titanic': 27835, 'désinfo': 9139, 'andréa': 1124, 'furet': 11577, 'konami': 15093, 'végétale': 29576, 'hydrogen': 13150, 'constituants': 5865, 'tricot': 28302, 'dérouté': 9100, 'passagère': 20252, 'activities': 305, 'consulté': 5894, 'posait': 21301, 'étroite': 30583, 'gouvernem': 12142, 'benoit': 2750, 'ernaux': 9942, 'agressivité': 592, 'propice': 21903, 'employée': 9557, 'chiite': 4644, 'grottes': 12321, 'apôtre': 1514, 'heritage': 12829, 'fabriquée': 10474, 'orthodox': 19780, 'flashmob': 11034, 'commençait': 5330, 'fondateurs': 11164, 'apprenons': 1460, 'cercueils': 4295, 'mason': 17371, 'abeille': 46, 'dégage': 8791, 'replace': 23590, 'encyclopédie': 9624, 'blan': 2978, 'banksy': 2465, 'dinnovation': 7752, 'lointaines': 16382, 'reaction19webtv': 22996, 'pension': 20471, 'dissimule': 7938, 'noam': 19035, 'chomsky': 4705, 'saintjust': 24937, 'wick': 29772, 'lange': 15349, 'nj': 19032, 'columbus': 5253, 'portel': 21269, 'maracineanu': 17184, 'expremier': 10372, 'légitimer': 16745, 'takeaways': 27347, 'bâti': 3670, 'assurément': 1842, 'biologie': 2907, 'bombardement': 3121, 'semble': 25486, 'epargne': 9916, 'cofondatrice': 5105, 'incarnée': 13578, 'résidente': 24676, 'tailles': 27336, 'brûlante': 3564, 'fournit': 11315, 'belfast': 2706, 'opaque': 19615, 'rassurantes': 22923, 'reuters': 23876, 'joursci': 14770, 'lapocalypse': 15400, 'saméliore': 25067, 'décorer': 8655, 'anneelisabeth': 1190, 'riad': 23958, 'sattouf': 25188, 'apprécier': 1491, 'déguisement': 8810, 'doffrir': 8074, 'vigilants': 29178, 'gardons': 11784, 'dembauche': 7260, 'ci': 4802, 'disastrous': 7843, 'ciblés': 4815, 'carabine': 3993, 'reed': 23205, 'pancréas': 19984, 'terminent': 27571, 'hillard': 12875, 'dirigent': 7829, 'assassinés': 1774, 'vieillesse': 29146, 'valident': 28851, 'deviendront': 7493, 'nues': 19265, 'adorent': 417, 'betty': 2805, 'samy': 25066, 'contents': 5939, 'jardiniers': 14543, 'représenté': 23659, 'remonté': 23418, 'firefighters': 10972, 'biennale': 2853, 'regime': 23263, 'ayant': 2292, 'contraceptive': 5979, 'disturbing': 7970, 'narcissique': 18764, 'wore': 29850, 'reproduit': 23645, 'engrenage': 9705, 'loisir': 16391, 'velvet': 28959, 'underground': 28641, 'balasko': 2407, 'amère': 1051, 'nonstop': 19102, 'anxiété': 1347, 'politico': 21158, 'saw': 25266, 'escroqueries': 9977, 'anticipe': 1268, 'nordpasdecalais': 19124, 'md': 17525, 'nude': 19260, 'télécommunications': 28537, 'samba': 25051, 'télévisé': 28565, 'obliger': 19382, 'gougler': 12120, 'singulier': 25911, 'perf': 20521, 'a7': 4, 'mixtape': 17994, 'sapprend': 25136, 'bougie': 3244, 'attractif': 1982, 'délicate': 8841, 'parliamentary': 20152, 'lama': 15291, 'dactions': 6836, 'fugitif': 11539, 'relayé': 23339, 'télégramme': 28542, 'laccueil': 15164, 'jauges': 14553, 'flambent': 11018, 'criant': 6461, 'bowling': 3337, 'alcaraz': 730, 'monarchie': 18109, 'aims': 662, 'firmes': 10977, 'laile': 15245, 'ermai': 9940, 'considérait': 5812, 'dauphine': 7092, 'bravé': 3402, 'breizh_info': 3420, 'dédouard': 8723, 'euphémisme': 10101, 'oxygen': 19904, 'niçoise': 19028, 'poudres': 21381, 'proportionnelle': 21906, 'recouvre': 23132, 'mitigé': 17986, 'contrerévolution': 6014, 'colorée': 5241, 'received': 23037, 'pédo': 22439, 'polanski': 21131, 'huitièmes': 13087, 'qb': 22516, 'kansas': 14939, 'mann': 17132, 'joueront': 14734, 'dropping': 8361, 'fln': 11069, 'gal': 11702, 'gadot': 11678, 'humide': 13109, 'bruvax': 3548, 'bucket': 3578, 'séchappe': 27178, 'duflot': 8391, 'sacrifiée': 24857, 'puis': 22326, 'francesco': 11372, 'bagnaia': 2369, 'bretelle': 3428, 'désagréables': 9109, 'trouvons': 28391, 'démunis': 8943, 'bibliothèques': 2830, 'lempêcher': 15720, 'dagriculture': 6867, 'rémunéré': 24586, 'dusine': 8451, 'guérande': 12434, 'envoyeznous': 9908, 'skripal': 25979, 'kkr': 15064, 'murat': 18437, 'punta': 22368, 'linter': 16183, 'benayoum': 2732, 'mincir': 17883, 'cats': 4162, 'voyageuse': 29523, 'validation': 28849, 'pertinent': 20609, 'yang': 29926, 'obsédés': 19417, 'sorciers': 26225, 'distribue': 7959, 'sociauxdémocrates': 26065, 'libanaise': 15954, 'huma': 13091, 'renégocier': 23570, 'communautariste': 5362, 'mati': 17427, 'hurmic': 13135, 'eagle': 9296, 'skatepark': 25966, 'sammy': 25057, 'marielle': 17244, 'ludovic': 16574, 'traumatismes': 28218, 'géopolitiques': 12523, 'viii': 29192, 'bourgoin': 3299, 'maintes': 16955, 'déj': 8822, 'prague': 21489, 'comparaît': 5402, 'طارق': 30692, 'رمضان': 30691, 'sponsorisé': 26477, 'détestation': 9207, 'foto': 11279, 'saintlouis': 24940, 'retournera': 23838, 'exploité': 10329, 'affamés': 463, 'séparatistes': 27236, 'sem': 25477, 'rtx': 24271, 'disparités': 7896, 'mens': 17613, 'aberration': 50, 'purement': 22370, 'sphères': 26452, 'guests': 12374, 'éloigné': 30330, 'dedf': 7178, 'endommage': 9637, 'allen': 839, 'rapprochent': 22895, 'daccidents': 6822, 'room': 24174, 'ideas': 13267, 'cognitives': 5110, 'équipés': 30485, 'léquivalent': 16800, 'togo': 27859, 'carry': 4067, 'fires': 10974, 'capturer': 3984, 'extrémiste': 10433, 'locomotive': 16350, 'célèbrent': 6772, 'particularité': 20207, 'certitudes': 4319, 'hurricane': 13136, 'imaginée': 13394, 'sanitai': 25098, 'fatiguée': 10651, 'attiré': 1974, 'titré': 27843, 'houthis': 13063, 'spinoza': 26460, 'shut': 25774, 'sondés': 26193, 'ingénierie': 13843, 'roberto': 24077, 'nhésitent': 18964, 'martha': 17327, 'kabylie': 14919, 'roselyne': 24182, 'souchon': 26263, 'orques': 19777, 'étendues': 30535, 'gaa': 11665, 'fiches': 10836, 'clunisois': 5044, 'ségrégation': 27202, 'aso': 1750, 'montbéliard': 18172, 'éclairé': 30127, 'trompés': 28352, 'censés': 4261, 'drei': 8318, 'lémergence': 16769, 'brutal': 3541, 'daffiche': 6853, 'ploërmel': 21039, 'gérés': 12536, 'detollenaere': 7449, 'prep': 21545, 'henrioncaude': 12819, 'autobiographie': 2126, 'jerry': 14614, 'misinformation': 17960, 'couloirs': 6262, 'choisissent': 4697, 'finissons': 10959, 'battles': 2606, 'tracé': 28066, 'ministériel': 17915, 'bringing': 3469, 'remplacent': 23433, 'parta': 20173, 'dangela': 6951, 'privilégié': 21665, 'geek': 11863, 'printanier': 21629, 'sorbonne': 26222, 'barcelona': 2511, 'choquante': 4710, 'freebox': 11446, 'server': 25622, 'admiration': 387, 'rebondit': 23023, 'macronien': 16859, 'détenues': 9197, 'yéménites': 29994, 'soar': 26044, 'vaimalama': 28821, 'chaves': 4553, 'promote': 21863, 'piles': 20784, 'prepare': 21546, 'vaillant': 28820, 'carreaux': 4061, 'brands': 3381, 'anticor': 1275, 'gien': 11963, 'excelle': 10179, 'néolibéral': 19345, 'lia': 15946, 'carpentier': 4057, 'complémentaire': 5455, 'déchapper': 8562, 'trousses': 28378, 'uniqlo': 28657, 'dues': 8390, 'majestueux': 16972, 'deezer': 7183, 'intersyndicale': 14160, 'reco': 23076, 'tract': 28060, 'concevoir': 5557, 'architecture': 1554, 'créative': 6603, 'démarche': 8887, 'perçoivent': 20623, 'incite': 13601, 'novemb': 19225, 'multijoueur': 18407, 'permet': 20539, 'antilgbt': 1297, 'méridien': 18640, 'reminder': 23408, 'pourrons': 21424, 'pes': 20627, 'organization': 19740, 'matching': 17406, 'gers': 11926, 'moléculaire': 18093, 'sourires': 26344, 'redorer': 23188, 'rapp': 22868, 'mêle': 18688, 'concern': 5542, 'internat': 14115, 'treatment': 28261, 'diplomat': 7790, 'désactivé': 9107, 'mette': 17718, 'détrangers': 9228, 'improvise': 13523, 'material': 17411, 'pavillon': 20364, 'nourrit': 19197, 'oligarques': 19558, 'amplifier': 1039, 'winston': 29812, 'n1': 18696, 'annoncera': 1206, 'relaxée': 23334, 'dures': 8440, 'barsuraube': 2540, 'latlético': 15508, 'sas': 25161, 'dhébergement': 7581, 'daccueillir': 6826, 'préoccupés': 22135, 'assigné': 1789, 'lartisanat': 15468, 'grosjean': 12308, 'lavelinge': 15575, 'renan': 23462, 'intègrent': 14212, 'lasvel': 15497, 'belgrade': 2712, 'chancelier': 4412, 'coop': 6095, 'murdered': 18440, 'renaître': 23469, 'flirt': 11067, 'récréation': 24454, 'discréditer': 7866, 'consultant': 5886, 'lise': 16235, 'ton': 27900, 'seth': 25644, 'myriam': 18508, 'gibraltar': 11960, 'majority': 16982, 'engouement': 9703, 'tahar': 27331, 'rahim': 22764, 'sectaires': 25429, 'terrifiant': 27591, 'celle': 4230, 'carey': 4027, 'promos': 21862, 'votants': 29477, 'angel': 1134, 'quelles': 22590, 'dauteur': 7101, 'colorées': 5242, 'caillots': 3784, 'dhospitalisations': 7572, 'ryanair': 24347, 'beer': 2687, 'nexus': 18957, 'wednesday': 29709, 'répartis': 24607, 'ceyrat': 4342, 'ni': 18966, 'sensualité': 25534, 'inexcusables': 13755, 'contin': 5957, 'inscrivez': 13943, 'wagons': 29621, 'cabale': 3730, 'kann': 14937, 'physiciens': 20734, 'paralysés': 20062, 'alcoolémie': 738, 'rokhaya': 24130, 'crevés': 6457, 'signalées': 25815, 'doitil': 8090, 'bachelor': 2340, 'steel': 26627, 'fût': 11658, 'possible': 21322, 'kassovitz': 14955, 'signalée': 25814, 'dundee': 8401, 'confident': 5632, 'ernst': 9944, 'decode': 7175, 'effigie': 9383, 'raisins': 22780, 'plaies': 20913, 'lufcque': 16578, 'gênantes': 12538, 'mma': 18003, 'peak': 20406, 'lasso': 15487, 'sound': 26323, 'dénoncés': 8964, 'clamer': 4923, 'licencier': 16003, 'vandenbroucke': 28889, 'oppositions': 19641, 'barbus': 2509, 'redire': 23180, 'selloff': 25472, 'bonn': 3152, 'poignet': 21093, 'anticipée': 1272, 'recevront': 23061, 'erratum': 9948, 'écopé': 30167, 'cedh': 4216, 'asphyxie': 1755, 'flambe': 11016, 'nudge': 19262, 'counterpunch': 6270, 'reconnaissez': 23107, 'redeviendra': 23176, 'déluge': 8870, 'neversois': 18937, 'hommefemme': 12958, 'droht': 8348, 'caramel': 4000, 'clasico': 4950, 'bouillant': 3251, 'lasie': 15475, 'défaire': 8729, 'arceus': 1542, 'seattle': 25393, 'stoppé': 26675, 'imprime': 13514, 'confins': 5644, 'équipées': 30484, 'immortel': 13432, 'renouveau': 23531, 'delden': 7213, 'patinage': 20322, 'benny': 2748, 'sentraîner': 25554, 'transe': 28152, 'prophétie': 21901, 'automobiles': 2141, 'verso': 29046, 'invi': 14291, 'voiles': 29405, 'konan': 15094, 'geoffrey': 11909, 'cells': 4234, 'radcliffe': 22730, 'propreté': 21929, 'matériaux': 17456, 'alireza': 811, 'duperey': 8410, 'payment': 20380, 'definitive': 7195, 'knew': 15075, 'marius': 17264, 'projettent': 21828, 'télésiège': 28554, 'beauxarts': 2672, 'dalexandra': 6892, 'haas': 12568, 'jalibert': 14507, 'probité': 21687, 'dimensions': 7708, 'provencealpescôte': 22005, 'erik': 9937, 'tracker': 28057, 'agiter': 567, 'greffes': 12261, 'péché': 22431, 'désignation': 9129, 'soup': 26325, 'koeman': 15087, 'patrouilles': 20347, 'conjointes': 5712, 'déchanges': 8561, 'comestibles': 5288, 'pedretti': 20415, 'arnold': 1631, 'entourée': 9819, 'ébats': 30071, 'virologie': 29277, 'concorde': 5569, 'prototype': 21976, 'ibrahim': 13245, 'helping': 12814, 'compromise': 5491, 'j5': 14474, 'consommée': 5839, 'oreilles': 19713, 'promeut': 21855, 'précieuse': 22054, 'ressuscite': 23758, 'détude': 9242, 'soignée': 26107, 'sim': 25863, 'ultratransformés': 28627, 'réhabiliter': 24556, 'doumbouya': 8257, 'associe': 1813, 'ru': 24272, 'mhb': 17757, 'greenwashing': 12259, 'gouve': 12136, 'rays': 22980, 'letizia': 15815, 'covid_19': 6369, 'politicien': 21155, 'horsnorme': 13024, 'contagieux': 5912, 'allégée': 889, 'résulte': 24702, 'louer': 16495, 'brin': 3467, 'ridiculise': 23977, 'progressisme': 21803, 'conséquent': 5902, 'dirigeante': 7826, 'comparatif': 5401, 'thérapeutiques': 27749, 'islamophobes': 14399, 'antichrétiens': 1266, 'payez': 20379, 'estrie': 10067, 'prompts': 21870, 'paires': 19949, 'lisant': 16233, 'houses': 13057, 'circonscription': 4851, 'churches': 4770, 'synopsis': 27150, 'ressemblait': 23734, 'seveso': 25662, 'déroulent': 9093, 'suprémaciste': 26964, 'cuve': 6719, 'truquée': 28413, 'sénatoriale': 27225, 'lawyers': 15604, 'insane': 13932, 'dwayne': 8464, 'saïed': 25271, 'injecté': 13871, 'gauchet': 11824, 'impatient': 13450, 'dassault': 7054, 'sh': 25700, 'agresse': 582, 'arrachées': 1640, 'interior': 14102, 'castaldi': 4126, 'fracassante': 11339, 'chilien': 4650, 'plie': 21016, 'té': 28526, 'écri': 30194, 'tendues': 27532, 'eugène': 10096, 'répartie': 24606, 'noué': 19217, 'timidité': 27794, 'tiffany': 27773, 'habille': 12574, 'sattaquent': 25182, 'surendettement': 26986, 'froids': 11491, 'obélix': 19429, 'protect': 21953, 'humiliés': 13118, 'nwo': 19303, 'criminel': 6475, 'défavorisés': 8737, 'importé': 13486, 'kashmir': 14953, 'épave': 30416, 'furtif': 11583, 'rogerpetit': 24120, 'portez': 21283, 'lucide': 16559, 'dissidence': 7934, 'prêche': 22236, 'expérimentales': 10397, 'assurait': 1830, 'saleté': 25004, 'kiwi': 15063, 'أخبار': 30679, 'lifts': 16033, 'apport': 1445, 'bénéficerisque': 3692, 'architect': 1549, 'bourbier': 3284, 'exc': 10176, 'démoli': 8927, 'substitution': 26804, 'neptunes': 18893, 'soupçonnées': 26333, 'fossoyeur': 11275, 'streameuse': 26709, 'noah': 19034, 'imaginaires': 13385, 'aménagé': 1063, 'exconjoint': 10213, 'tourdupin': 27996, 'facette': 10483, 'europé': 10116, 'calédonie': 3832, 'vernochet': 29027, 'greatest': 12251, 'fantastique': 10604, 'trahis': 28100, 'css': 6636, 'récits': 24429, 'politicomédiatique': 21159, 'cédéao': 6764, 'restituer': 23780, 'fourtillan': 11323, 'cabines': 3736, 'module': 18058, 'pige': 20776, 'trouvée': 28393, 'diagnostiqué': 7601, 'fragilise': 11347, 'accroître': 203, 'décoles': 8625, 'ressurgir': 23757, 'exceptions': 10192, 'veulentils': 29083, 'bugier': 3596, 'naurais': 18825, 'mest': 17701, 'compares': 5407, 'avances': 2204, 'rollsroyce': 24139, 'deputy': 7354, 'europes': 10114, 'rassurante': 22922, 'conformité': 5678, 'destroy': 7432, 'humans': 13105, 'escada': 9958, 'tpe': 28047, 'nordisère': 19122, 'terminale': 27568, 'narcotrafiquant': 18767, 'chapo': 4463, 'impopulaire': 13475, 'repère': 23667, 'gerard': 11918, 'défendue': 8750, 'mabruk': 16838, 'atouts': 1902, 'humilie': 13113, 'scorpions': 25356, 'dépouillé': 9048, 'activé': 309, 'idiot': 13288, 'multimédia': 18408, 'ryzen': 24350, 'canteloup': 3941, 'lapartheid': 15393, 'solère': 26161, 'arcep': 1541, 'lindifférence': 16130, 'surdité': 26980, 'sylvester': 27115, 'stallone': 26569, 'rocky': 24108, 'détestent': 9209, 'avantgarde': 2213, 'cornes': 6161, 'phobie': 20708, 'pathologie': 20312, 'explorateur': 10332, 'emprisonnée': 9577, 'candid': 3911, 'pallier': 19967, 'cov': 6357, 'inégale': 14320, 'trouvaille': 28380, 'allegations': 830, 'tsahal': 28427, 'effectués': 9375, 'plastic': 20963, 'mangeurs': 17092, 'renseigné': 23542, 'clever': 4987, 'grêle': 12345, 'detroit': 7451, 'mad': 16865, 'mordu': 18248, 'dutilisation': 8456, 'serbe': 25578, 'silicon': 25850, 'hué': 13143, 'cjr': 4909, 'schallenberg': 25302, 'reconnais': 23102, 'précipitent': 22059, 'such': 26830, 'banquet': 2481, 'désormais': 9156, 'bonds': 3141, 'première': 21526, 'dolan': 8095, 'milla': 17850, 'jasmine': 14548, 'territoriaux': 27600, 'rafle': 22759, 'youth': 29978, 'rochefoucauld': 24095, 'diabétiques': 7595, 'aliagas': 786, 'choqués': 4717, 'appliqué': 1440, 'titan': 27832, 'potrebbe': 21371, 'conjuring': 5719, 'biblique': 2831, 'monopoly': 18142, 'quittés': 22644, 'ahah': 608, 'vaxx': 28937, 'dérogatoire': 9090, 'désastres': 9114, 'deauville': 7154, 'raille': 22772, 'colonne': 5230, 'truqués': 28415, 'brève': 3556, 'documenter': 8062, 'eurodéputés': 10107, 'khartoum': 15009, 'réservation': 24659, 'norvégiens': 19150, 'printempsété': 21631, 'unusual': 28688, 'phénix': 20738, 'avérer': 2279, 'poulain': 21383, 'préhistorique': 22109, 'bepicolombo': 2756, 'ajout': 692, 'perturbés': 20620, 'mutilé': 18492, 'séismes': 27205, 'tenace': 27519, 'dumped': 8397, 'vantent': 28898, 'qualche': 22535, 'mèche': 18534, 'passeraitil': 20268, 'chiffonnette': 4637, 'often': 19526, 'persécutions': 20602, 'reprendrez': 23627, 'adhérent': 357, 'tries': 28306, 'disproportionnée': 7921, 'uriner': 28720, 'caso': 4104, 'condensé': 5597, 'indécence': 13731, 'facilite': 10494, 'cosmique': 6214, 'antifrançaise': 1290, 'pratiqué': 21503, 'brochure': 3496, 'abattoirs': 26, 'average': 2230, 'apology': 1383, 'escoffier': 9973, 'jadis': 14493, 'finalité': 10922, 'étoilé': 30557, 'attachement': 1907, 'jacquet': 14490, 'gopro': 12099, 'masses': 17387, 'lapix': 15399, 'braque': 3387, 'incluant': 13607, 'inscrivant': 13942, 'dominic': 8124, 'géorgien': 12525, 'solve': 26159, 'surfer': 26992, 'eliott': 9443, 'tool': 27915, 'willie': 29793, 'thanos': 27659, 'montpelliérain': 18194, 'couture': 6342, 'letter': 15818, 'brosse': 3514, 'cb': 4199, 'joffrin': 14674, 'gogo': 12070, 'dhabitude': 7550, 'hôtes': 13233, 'rouvrira': 24238, 'scary': 25294, 'instauré': 14015, 'auriezvous': 2080, 'misaison': 17954, 'pé': 22428, 'perez': 20520, 'saintpétersbourg': 24951, 'atlantic': 1889, 'researchers': 23695, 'vouliez': 29506, 'suppriment': 26956, 'illégitime': 13377, 'ladolescence': 15201, 'dior': 7784, 'carambolage': 3999, 'sauvez': 25228, 'sobre': 26045, 'scream': 25365, 'minecraft': 17886, 'recréé': 23145, 'agitation': 564, 'transparency': 28191, 'avoirs': 2262, 'friche': 11471, 'hivernales': 12915, 'flat': 11036, 'charmes': 4512, 'banale': 2439, 'moches': 18027, 'trail': 28104, 'sidaction': 25786, 'ralf': 22796, 'sartre': 25159, 'dépuration': 9058, 'aimait': 649, 'tarder': 27396, 'compétitivité': 5518, 'rassuré': 22928, 'échantillon': 30093, 'molécules': 18095, 'punchline': 22359, 'meter': 17712, 'cpi': 6400, 'débarrassezvous': 8494, 'osseuse': 19799, 'udi': 28599, 'déferlante': 8757, 'lotos': 16486, 'bavure': 2620, 'calvados': 3829, 'mensuelle': 17622, 'herzog': 12839, 'kilomètre': 15037, 'dgs': 7543, 'sexologue': 25676, 'guerriers': 12370, 'heads': 12784, 'dépolitisation': 9031, 'démocratiser': 8924, 'participations': 20199, 'patriot': 20332, 'intérim': 14241, 'bateleur': 2590, 'indécis': 13734, 'piedsnoirs': 20764, 'concentrer': 5537, 'soffrir': 26088, 'simply': 25878, 'effe': 9365, 'ninja': 19009, 'psaki': 22254, 'stimulation': 26655, 'astrologique': 1854, 'fourneaux': 11305, 'lanimé': 15362, 'schaller': 25303, 'laxe': 15605, 'sexually': 25689, 'murdering': 18441, 'collaborative': 5149, 'dispositions': 7920, 'canicules': 3924, 'apples': 1432, 'diversifier': 7986, 'marx': 17348, 'factcheckers': 10502, 'stalingrad': 26566, 'manoukian': 17142, 'jeremy': 14612, 'davidson': 7122, 'séba': 27175, 'expertises': 10298, 'chrétienté': 4764, 'berner': 2779, 'divine': 7996, 'dante': 6996, 'tillier': 27786, 'cérémonies': 6789, 'josiane': 14723, 'barbados': 2496, 'exprimera': 10379, 'instantaném': 14005, 'hébergeur': 13183, 'instructif': 14029, 'mammaires': 17061, 'blouses': 3051, 'patel': 20309, 'malentendu': 17014, 'enfermés': 9664, 'soso': 26257, 'maness': 17082, 'jsuis': 14787, 'kidnapping': 15020, 'suicidaires': 26876, 'rassemblent': 22915, 'maladroit': 16998, 'modi': 18050, 'affichée': 481, 'gardienne': 11780, 'pénaliser': 22453, 'lafitte': 15219, 'denseignants': 7314, 'rabeh': 22679, 'moquée': 18231, 'dénigrer': 8955, 'leucémie': 15824, 'indeed': 13660, 'défunt': 8788, 'echo': 9317, 'dot': 8218, 'néandertal': 19310, 'innovants': 13897, 'cachez': 3751, 'émetteurs': 30360, 'rehausser': 23281, 'longmétrage': 16411, 'labonnement': 15145, 'empocher': 9561, 'annuelles': 1222, 'minogue': 17922, 'intéressée': 14235, 'fifth': 10858, 'observent': 19400, 'hippocrate': 12884, 'aimée': 664, 'mondialisé': 18127, 'écoféminisme': 30140, 'pouv': 21454, 'associatifs': 1810, 'portal': 21262, 'abusifs': 121, 'sembletil': 25489, 'passeront': 20270, 'bâtons': 3675, 'peaky': 20408, 'endeuillée': 9630, 'encor': 9613, 'cornet': 6162, 'préventif': 22216, 'réalisera': 24389, 'duval': 8462, 'dallonnes': 6905, 'supernova': 26927, 'rey': 23932, 'ولكن': 30701, 'sapeurpompier': 25124, 'bélarusse': 3685, 'supprimées': 26960, 'armure': 1612, 'promener': 21844, 'cpu': 6401, 'corsedusud': 6197, 'suspicions': 27087, 'sévi': 27272, 'vulgarité': 29562, 'quel': 22587, 'popu': 21225, 'dépourvue': 9050, 'ovni': 19894, 'denvergure': 7335, 'cognitive': 5109, 'sauvagerie': 25216, 'snake': 26024, 'projetée': 21830, 'ay42': 2290, 'lamende': 15304, 'octo': 19462, 'mariani': 17235, 'câlins': 6755, 'antiracisme': 1312, 'restriction': 23789, 'davanti': 7115, 'promène': 21872, 'vallancien': 28860, 'illégalité': 13375, 'yaïr': 29936, 'survivante': 27042, 'transfer': 28153, 'mende': 17606, 'dorganisation': 8187, 'démontrer': 8938, 'devancé': 7474, 'mob': 18009, 'mainmise': 16943, 'watts': 29681, 'batteur': 2603, 'dinvestigation': 7778, 'comparée': 5412, 'fédéraux': 11618, 'bénédiction': 3690, 'bambins': 2436, 'silencieux': 25847, 'viril': 29275, 'fiancé': 10822, 'quell': 22588, 'pontarlier': 21215, 'halts': 12648, 'harcèle': 12701, 'verbalisé': 29007, 'salée': 25044, 'trainer': 28108, 'allies': 853, 'anymore': 1350, 'drouet': 8363, 'voeux': 29392, 'wakeup': 29628, 'branson': 3384, 'dénonçait': 8966, 'longtime': 16415, 'girlfriend': 11998, 'sociétal': 26076, 'plongeurs': 21032, 'relayés': 23342, 'réorganiser': 24594, 'starr': 26587, 'alerteretraites': 756, 'zach': 29998, 'propaganda': 21888, 'stimule': 26656, 'relevées': 23349, 'cyberattaques': 6726, 'cathedral': 4150, 'pithiverais': 20857, 'normaux': 19140, 'cassés': 4123, 'débattu': 8499, 'écraser': 30191, 'polish': 21148, 'artificial': 1702, 'wanna': 29646, 'delphinariums': 7232, 'lurss': 16618, 'estimée': 10059, 'déjoué': 8827, 'matériels': 17458, 'validez': 28853, 'lord': 16444, 'indépendamment': 13737, 'larry': 15460, 'reese': 23207, 'dinitiative': 7750, 'fréjus': 11519, 'procha': 21701, 'millésime': 17872, 'pistolet': 20853, 'billes': 2884, 'disciplines': 7847, 'strategy': 26696, 'chiant': 4624, 'confolens': 5670, 'passionnée': 20284, 'bea': 2639, 'require': 23681, 'paralysé': 20060, 'cordemais': 6147, 'cristaux': 6488, 'starter': 26592, 'cèdent': 6757, 'apparus': 1408, 'ditesvous': 7978, 'bonifacio': 3150, 'visioconférences': 29309, 'pill': 20787, 'predicted': 21511, 'accoucher': 189, 'removal': 23425, 'activisme': 300, 'tyrannique': 28522, 'houstonarea': 13061, 'cellulaire': 4235, 'marivin': 17265, 'gu': 12348, 'décline': 8619, 'naurez': 18827, 'leureetloir': 15827, 'raquette': 22901, 'sèment': 27170, 'dramatic': 8297, 'agité': 569, 'needed': 18874, 'informezvous': 13825, 'gorafi': 12100, 'lentourage': 15757, 'cyberattaque': 6725, 'alix': 815, 'adaptées': 338, 'blade': 2969, 'runner': 24310, 'writes': 29874, 'ingérences': 13848, 'arménienne': 1620, 'esport': 9996, 'mégots': 18611, 'camouflage': 3859, 'corde': 6146, 'eats': 9310, 'ris': 24017, 'aziz': 2301, 'vivait': 29364, 'cookie': 6090, 'conscients': 5774, 'chicken': 4630, 'épuisement': 30463, 'tab': 27292, 'royaux': 24256, 'retourné': 23839, 'xixe': 29900, 'nasser': 18782, 'parvient': 20240, 'sociau': 26063, 'portolano': 21288, 'célébrations': 6776, 'vingtsept': 29228, 'veteran': 29076, 'producer': 21730, 'méchante': 18548, 'blancheneige': 2982, 'exécuter': 10446, 'yopougon': 29963, 'subpoenas': 26799, 'canceled': 3900, 'cures': 6699, 'bg': 2818, 'branchées': 3375, 'militantisme': 17843, 'firm': 10975, 'wii': 29780, 'axes': 2288, 'daline': 6897, 'sessions': 25639, 'bugatti': 3594, 'défié': 8784, 'inconvénients': 13643, 'darius': 7025, 'rochebin': 24093, 'juristes': 14864, 'clubhouse': 5041, 'embaucher': 9491, 'tigréens': 27780, 'mapping': 17175, 'raphaëlle': 22861, 'crackdown': 6412, 'réticences': 24716, 'praticiens': 21494, 'bénévolat': 3705, 'profiteurs': 21773, 'religieuse': 23355, 'bone': 3144, 'tremplin': 28270, 'gazole': 11852, 'totalité': 27953, 'éprouvant': 30459, 'pfizergate': 20673, 'brèche': 3555, 'humanitarian': 13101, 'benefit': 2739, 'egg': 9403, 'carbon': 4005, 'dall': 6898, 'sulla': 26906, 'bim': 2895, 'lectrices': 15665, 'aprèscovid': 1510, 'bastille': 2576, 'écarte': 30080, 'highway': 12866, 'tempe': 27504, 'admettent': 373, 'vanter': 28899, 'aber': 49, 'citant': 4874, 'hérité': 13206, 'gène': 12464, 'donnait': 8145, 'étonnement': 30565, 'enseigné': 9766, 'custody': 6711, 'rupo': 24315, 'wont': 29844, 'censorship': 4250, 'souhaitait': 26290, 'poulpe': 21388, 'identifie': 13271, 'ponte': 21216, 'expérimentée': 10404, 'courageuse': 6294, 'dignes': 7685, 'hémicycle': 13195, 'dissimulés': 7941, 'mûres': 18694, 'camilla': 3853, 'cin': 4829, 'kampala': 14931, 'votera': 29482, 'cara': 3992, 'mercotte': 17664, 'radioactive': 22750, 'rocks': 24106, 'damnés': 6932, 'prése': 22152, 'famiglia': 10579, 'renommé': 23522, 'hospitalière': 13041, 'gouverne': 12141, 'aviation': 2248, 'macha': 16844, 'baume': 2617, 'collabore': 5151, 'biz': 2948, 'involontairement': 14308, 'tiède': 27846, 'fachos': 10487, 'ihre': 13327, 'dorval': 8207, 'insecticides': 13949, 'econoclaste': 9325, 'pragmatisme': 21488, 'protégeons': 21982, 'décimée': 8588, 'gabbard': 11667, 'sounds': 26324, 'storiavoce': 26680, 'vicechampion': 29104, 'copilote': 6117, 'please': 20998, 'lexclusion': 15856, 'klinkert': 15068, 'durent': 8437, 'dapprovisionnement': 7013, 'celebrations': 4226, 'equans': 9927, 'singulière': 25912, 'lobésité': 16327, 'infantile': 13760, 'instructions': 14031, 'précipitation': 22057, 'ringer': 24003, 'cachecache': 3746, 'manufacture': 17164, 'chypre': 4777, 'simuler': 25890, 'jab': 14477, 'brendan': 3422, 'guinéen': 12409, 'dadieu': 6845, 'parker': 20128, 'disco': 7848, 'mittenaere': 17989, 'constance': 5850, 'incontrôlée': 13642, 'bust': 3644, 'fat': 10642, 'clim': 5000, 'surnomme': 27004, 'abouti': 86, 'alarmants': 713, 'guinness': 12407, 'lensois': 15750, 'fidji': 10846, 'pourcentages': 21401, 'muzz': 18498, 'coincés': 5127, 'salim': 25005, 'laïbi': 15614, 'cannet': 3931, 'dirigés': 7833, 'impliqués': 13473, 'plié': 21018, 'corp': 6167, 'domicron': 8116, 'atroce': 1904, 'mutants': 18487, 'pointée': 21107, 'mozilla': 18377, 'avonsnous': 2265, 'rendrait': 23496, 'bronzage': 3507, 'fourmis': 11304, 'réagissez': 24375, 'conçue': 6086, 'fedex': 10725, 'socia': 26053, 'submersion': 26798, 'indécente': 13733, 'warum': 29666, 'vénézuélien': 29590, 'flottante': 11091, 'expliquant': 10310, 'traitées': 28122, 'défonce': 8785, 'miniature': 17893, 'reopening': 23571, 'tellier': 27497, 'mesopinions': 17688, 'presqu': 21562, 'alsacien': 917, 'piller': 20790, 'norbert': 19112, 'attali': 1917, 'proch': 21700, 'grecs': 12254, 'restituées': 23782, 'photojournaliste': 20725, 'jews': 14644, 'postvérité': 21346, 'conditionner': 5602, 'opérée': 19672, 'lob': 16314, 'postpones': 21340, 'exactly': 10165, 'loan': 16311, 'sha': 25701, 'pge': 20675, 'ruée': 24341, 'bioéthanol': 2917, 'dépêchezvous': 9067, 'sagrandit': 24894, 'february': 10721, 'documente': 8061, 'mentor': 17645, 'permettront': 20549, 'offering': 19494, 'lip': 16220, 'souscription': 26348, 'transit': 28178, 'longévité': 16420, 'appuyer': 1502, 'trompée': 28351, 'geert': 11865, 'maëva': 17496, 'tracing': 28055, 'daffronter': 6857, 'étincelant': 30548, 'charmant': 4510, 'drumont': 8367, 'franz': 11403, 'davril': 7129, 'consultés': 5895, 'avi': 2245, 'aveyron': 2242, 'voulue': 29510, 'lethiopie': 15813, 'doutent': 8260, 'gore': 12103, 'recadré': 23030, 'correa': 6170, 'lâches': 16675, 'remerciements': 23398, 'mémorial': 18626, 'homos': 12968, 'parfois': 20108, 'charia': 4491, 'moy': 18368, 'lpo': 16542, 'coeurs': 5097, 'pratiquée': 21504, 'tempsci': 27512, 'plombent': 21021, 'sexo': 25675, 'whoa': 29767, 'approaching': 1467, 'comportent': 5463, 'manuels': 17163, 'personality': 20579, 'webinaire': 29704, 'programmer': 21793, 'làhaut': 16671, 'filmait': 10898, 'capi': 3956, 'florentin': 11081, 'souveraine': 26391, 'rentrent': 23550, 'dyson': 8475, 'écocide': 30139, 'dhidalgo': 7557, 'loptimisme': 16436, 'présomption': 22197, 'enfa': 9653, 'colombey': 5211, 'sorcellerie': 26223, 'matched': 17404, 'ended': 9626, 'petra': 20654, 'incontestable': 13637, 'recteur': 23146, 'antibiotique': 1261, 'hisser': 12889, 'accessoire': 154, 'happening': 12689, 'journalis': 14754, 'administrateur': 376, 'éclats': 30134, 'exmembre': 10277, 'flu': 11099, 'accrochée': 199, 'martèle': 17343, 'interna': 14113, 'cruelles': 6572, 'paradoxes': 20050, 'emblème': 9495, 'obsédé': 19416, 'babies': 2329, 'pioche': 20815, 'tueuse': 28453, 'pulvérise': 22352, 'écopent': 30166, 'mall': 17037, 'dallain': 6900, 'bougraindubourg': 3248, 'nestlé': 18901, 'préservé': 22177, 'spurs': 26505, 'defeat': 7185, 'garderie': 11774, 'accusant': 220, 'clôturer': 5057, 'vendetta': 28969, 'compresseur': 5486, 'refusait': 23234, 'accentué': 143, 'generaion': 11882, 'humiliée': 13117, 'ceuxci': 4340, 'deûle': 7540, 'maillon': 16934, 'ibrox': 13247, 'choléra': 4704, 'diffus': 7658, 'grimpé': 12293, 'nicotine': 18982, 'bun': 3613, 'surveillé': 27030, 'budgets': 3583, 'elton': 9464, 'dardenne': 7021, 'basilic': 2557, 'jamai': 14514, 'ive': 14457, 'covered': 6362, 'limousine': 16097, 'suc': 26814, 'dalgérie': 6895, 'massacres': 17381, 'payée': 20391, 'furieuse': 11579, 'threaten': 27715, 'dimportants': 7721, 'agressifs': 588, 'fails': 10530, 'kidman': 15019, 'talon': 27366, 'influent': 13810, 'sels': 25476, 'situat': 25953, 'intérieures': 14239, 'pokora': 21125, 'enfoirés': 9673, 'renversant': 23555, 'sentimentale': 25548, 'antoinette': 1338, 'conçus': 6088, 'bouée': 3331, 'ditesnous': 7977, 'oasis': 19362, 'espérait': 10003, 'lambassadrice': 15297, 'brade': 3364, 'jouir': 14744, 'défendant': 8743, 'vaccini': 28801, 'mesi': 17686, 'electricité': 9434, 'chocolatine': 4688, 'dégrader': 8802, 'vigne': 29181, 'sad': 24864, 'sanctionnés': 25077, 'mlb': 17999, 'localisé': 16335, 'ajd': 691, 'mandates': 17077, 'niches': 18972, 'volatilité': 29428, 'incorrect': 13644, 'reactions': 22998, 'compléter': 5458, 'saccordent': 24838, 'anasse': 1090, 'kazib': 14967, 'signing': 25834, 'marchent': 17208, 'retracer': 23844, 'brazil': 3403, 'racontant': 22718, 'franchie': 11379, 'phillips': 20701, 'tombeau': 27884, 'archéologue': 1560, 'contestations': 5947, 'sacrément': 24861, 'rupert': 24314, 'popularisé': 21231, 'gratteciel': 12228, 'mercredis': 17667, 'limited': 16080, 'norwich': 19152, 'venues': 28999, 'varier': 28912, 'covidiste': 6371, 'lopportunité': 16433, 'mixtes': 17996, 'coqueluche': 6128, 'proposes': 21917, 'rivaliser': 24044, 'wenger': 29735, 'chopin': 4707, 'haies': 12618, 'priti': 21650, 'euroligue': 10108, 'veaux': 28941, 'lyslezlannoy': 16667, 'radiations': 22736, 'lautopsie': 15556, 'illustrant': 13360, 'automnal': 2136, 'déplacés': 9019, 'criti': 6491, 'activity': 306, 'pace': 19916, 'sinsurge': 25927, 'genest': 11886, 'écartée': 30084, 'marcolivier': 17215, 'fogiel': 11121, 'rating': 22937, 'péronne': 22489, 'six': 25960, 'gfc': 11939, 'bruxellois': 3550, 'entrepris': 9842, 'operations': 19622, 'mouchard': 18323, 'saleh': 25002, 'arrêtait': 1676, 'narrative': 18771, 'officines': 19517, 'israélopalestinien': 14424, 'descendent': 7377, 'lemarchal': 15706, 'poussant': 21439, 'voisinage': 29415, 'rant': 22847, 'claiming': 4913, 'stolen': 26667, 'perturbation': 20612, 'soigné': 26106, 'suspendues': 27080, 'fernandez': 10783, 'entamée': 9778, 'minibus': 17895, 'clint': 5010, 'eastwood': 9306, 'épidémies': 30427, 'saisonnières': 24972, 'emmené': 9527, 'lépicerie': 16786, 'relooking': 23367, 'impulsion': 13529, 'rex': 23931, 'préviennent': 22222, 'suicidaire': 26875, 'emballement': 9477, 'téléchargement': 28532, 'baptisée': 2488, 'fabian': 10459, 'déconnecter': 8642, 'balai': 2402, 'denim': 7302, 'seringue': 25597, 'gagnée': 11697, 'intelligentes': 14065, 'montvalérien': 18210, 'hippodrome': 12885, 'inpact': 13913, 'raccourcis': 22686, 'végétariens': 29580, 'combattantes': 5267, 'ressentent': 23743, 'vainqueurs': 28826, 'pèlerin': 22420, 'joel': 14671, 'invraisemblable': 14313, 'muss': 18474, 'basel': 2552, 'considérant': 5813, 'owner': 19899, 'weill': 29723, 'auvergnats': 2182, 'lorgne': 16453, 'protecting': 21956, 'ephad': 9917, 'fascination': 10628, 'contrecourant': 6006, 'rencontrées': 23480, 'déroulé': 9097, 'fabuleuse': 10477, 'wikistrike': 29784, 'cocher': 5083, 'plénière': 21062, 'arche': 1545, 'échouent': 30112, 'jvais': 14899, 'transfère': 28167, 'brigadierchef': 3453, 'imbattable': 13397, 'organisons': 19735, 'salve': 25039, 'méconnaissance': 18551, 'guéret': 12435, 'cro': 6506, 'dempêcher': 7288, 'isf': 14384, 'esquisse': 10009, 'reportée': 23609, 'francealgérie': 11363, 'divorcés': 8008, 'dinosaur': 7754, 'pillé': 20791, 'votr': 29489, 'brossat': 3513, 'peaux': 20411, 'torrents': 27932, 'économiquement': 30159, 'cooking': 6092, 'nombreuse': 19074, 'dura': 8422, 'davenir': 7118, 'impliquer': 13469, 'convoitises': 6077, 'progressistes': 21805, 'croirait': 6511, 'rse': 24263, 'dumping': 8398, 'enchaîner': 9605, 'cumulé': 6691, 'sai': 24898, 'peters': 20640, 'mouillé': 18331, 'voters': 29485, 'keller': 14978, 'ships': 25740, 'questionsréponses': 22615, 'mentionné': 17641, 'advocates': 448, 'higher': 12861, 'impliquées': 13472, 'ruissellement': 24299, 'saines': 24904, 'protégeant': 21981, 'casseroles': 4116, 'végétarien': 29579, 'coll': 5141, 'cop21': 6108, 'dissident': 7935, 'alo': 895, 'nova': 19219, 'bêtisier': 3721, 'adeline': 353, 'anarchistes': 1089, 'fallaitil': 10563, 'rs': 24261, 'adhésions': 361, 'réécrire': 24795, 'fcc': 10707, 'soudanais': 26273, 'postale': 21331, 'twilight': 28507, 'madeleine': 16870, 'ratées': 22952, 'plaignant': 20914, 'habiter': 12590, 'bouglé': 3246, 'posséder': 21327, 'démasquée': 8897, 'cardiff': 4017, 'intermarché': 14104, 'dolph': 8103, 'cheikh': 4573, 'bicentenaire': 2833, 'bnf': 3069, 'avéré': 2280, 'guerrier': 12369, 'visitez': 29323, 'magnanville': 16909, 'désérable': 9160, 'soigneusement': 26105, 'hub': 13074, 'vienna': 29156, 'vdb': 28938, 'funny': 11570, 'outbreak': 19842, 'verbaliser': 29006, 'marqueur': 17299, 'declared': 7173, 'expulser': 10386, 'néozélandais': 19351, 'youtubeuse': 29983, 'hypersonic': 13160, 'stern': 26641, 'infectieuses': 13766, 'doués': 8272, 'persuadés': 20599, 'secourues': 25412, 'denseignement': 7315, 'déci': 8579, 'repartent': 23577, 'préférer': 22101, 'voirie': 29412, 'sociologique': 26070, 'bouffer': 3238, 'fracassée': 11341, 'livetweet': 16281, 'gaumont': 11836, 'gender': 11879, 'unite': 28666, 'téléchargé': 28535, 'gardin': 11782, 'doxa': 8277, 'évoquées': 30652, 'tronçonneuse': 28354, 'bénéficiez': 3701, 'radiophonique': 22751, 'easing': 9302, 'chart': 4515, 'serviette': 25631, 'aznavour': 2302, 'lexpulsion': 15880, 'coq': 6126, 'instituteur': 14021, 'lécologiste': 16700, 'violées': 29261, 'ego': 9406, 'grincer': 12294, 'bénéficieront': 3700, 'emprise': 9574, 'rousset': 24224, 'relatives': 23328, 'responsabiliser': 23726, 'packaging': 19922, 'booking': 3166, 'birman': 2925, 'biscaye': 2931, 'cavaillon': 4187, 'neptune': 18892, 'marmottes': 17280, 'dalternatives': 6909, 'mard': 17217, 'sleep': 25993, 'finlandais': 10963, 'boosté': 3177, 'lescalade': 15786, 'quaprès': 22558, 'ruiz': 24300, 'aidesoignante': 627, 'prônant': 22246, 'bris': 3475, 'skills': 25972, 'dying': 8466, 'fertébernard': 10797, 'saintpierre': 24950, 'océanique': 19468, 'boyer': 3349, 'cherchant': 4595, 'aop': 1354, 'commandos': 5309, 'parachutistes': 20040, 'injustifiée': 13884, 'vécue': 29572, 'zwei': 30051, 'einen': 9418, 'lauriers': 15540, 'édifice': 30219, 'dextrêmedroite': 7539, 'repoussent': 23618, 'suitedesident_link': 26888, 'existait': 10265, 'communist': 5375, 'accroît': 202, 'susan': 27056, 'chairman': 4362, 'abonnez': 70, 'crasse': 6431, 'décompter': 8637, 'hilarious': 12873, 'tunisienne': 28465, 'bravoure': 3401, 'viel': 29151, 'bastiaborgo': 2572, 'scorpion': 25355, 'conservatorship': 5797, 'lenovo': 15742, 'cadors': 3763, 'instantanéme': 14006, 'conseillons': 5782, 'cfecgc': 4347, 'appliquant': 1436, 'instaure': 14013, 'résilier': 24681, 'esti': 10050, 'écosystème': 30173, 'déplacée': 9018, 'fusionner': 11590, 'jentends': 14610, 'mccullough': 17516, 'stib': 26647, 'empoisonné': 9567, 'durablement': 8424, 'macho': 16849, 'lordon': 16445, 'palpitante': 19973, 'traffic': 28085, 'notation': 19165, 'espionner': 9991, 'tissier': 27828, 'raphael': 22859, 'keith': 14977, 'suzanne': 27094, 'toulouselautrec': 27990, 'franceargentine': 11365, 'physical': 20732, 'cern': 4302, 'entrailles': 9822, 'pérols': 22488, 'erwan': 9955, 'jujutsu': 14827, 'kaisen': 14925, 'lights': 16038, 'joke': 14695, 'proviennent': 22012, 'bretonnes': 3431, 'attribuer': 1991, 'envolé': 9902, 'viticulteurs': 29352, 'chauvesouris': 4550, 'diledefrance': 7697, 'pendan': 20447, 'tirages': 27812, 'signés': 25839, 'brady': 3367, 'provocateur': 22019, 'covi': 6365, 'immoler': 13430, 'x2': 29884, 'pagaille': 19929, 'collaboré': 5154, 'plombe': 21020, 'foster': 11278, 'artisanal': 1709, 'eriksen': 9939, 'reparle': 23574, 'promises': 21859, 'caribbean': 4030, 'any': 1348, 'dégustation': 8816, 'kane': 14934, 'nina': 19005, 'régalien': 24520, 'émanant': 30351, 'anticovid19': 1280, 'pollueurs': 21182, 'subies': 26785, 'pensionnaires': 20472, 'polic': 21137, 'conquérants': 5759, 'secr': 25417, 'littéralement': 16268, 'hantée': 12686, 'interprétation': 14139, 'frigos': 11481, 'conc': 5531, 'nées': 19321, 'disabelle': 7837, 'pamela': 19976, 'intéressés': 14236, 'professio': 21755, 'dissidents': 7936, 'idéaux': 13298, 'habituels': 12596, 'fromager': 11494, 'sociorama': 26073, 'drills': 8333, 'soderbergh': 26083, 'consistant': 5824, 'apprentie': 1462, 'inflationniste': 13797, 'poss': 21318, 'deborah': 7156, 'numerama': 19280, 'bourreau': 3302, 'cygne': 6741, 'exportateur': 10352, 'génèrent': 12486, 'décédés': 8712, 'diaz': 7617, 'morozov': 18262, 'haïry': 12770, 'sologne': 26152, 'investig': 14271, 'lingénieur': 16157, 'détenait': 9188, 'coffrefort': 5101, 'winds': 29802, 'giroud': 12003, 'indiquant': 13697, 'enters': 9799, 'dom': 8106, 'dépendre': 9001, 'linfini': 16144, 'créatrices': 6607, 'pseudonyme': 22257, 'actu140': 315, 'fontenay': 11188, 'verratti': 29031, 'vaisseau': 28827, 'vontelles': 29467, 'dominé': 8127, 'médiatisation': 18583, 'échappée': 30099, 'antiblancs': 1264, 'vulnérabilité': 29564, 'révoltante': 24762, 'dhuile': 7575, 'laitiers': 15268, 'saintesavine': 24922, 'sourde': 26340, 'nantucket': 18752, 'correctionnelle': 6176, 'willis': 29794, 'balladur': 2422, 'sollicitée': 26148, 'planning': 20944, 'legislation': 15691, 'contenter': 5937, 'gratu': 12230, 'blablacar': 2962, 'appuie': 1500, 'allongé': 863, 'politik': 21161, 'impacte': 13443, 'frauduleuse': 11432, 'mango': 17094, 'tomlinson': 27895, 'vocaux': 29389, 'mesurent': 17704, 'xénophobie': 29916, 'xinjiang': 29896, 'lelan': 15702, 'anus': 1343, 'bishop': 2936, 'inflammatoires': 13795, 'saintjeandelaruelle': 24933, 'apprennent': 1459, 'luso': 16623, 'déguisements': 8811, 'rosé': 24188, 'aidera': 624, 'reven': 23886, 'relaxer': 23332, 'adhère': 356, 'compréhensible': 5492, 'meurtrières': 17745, 'links': 16164, 'können': 15127, 'retournent': 23836, 'poker': 21123, 'certa': 4306, 'airline': 674, 'sustainable': 27089, 'jesus': 14621, 'symposium': 27131, 'listening': 16252, 'abrams': 90, 'boycottent': 3347, 'avouer': 2272, 'gallagher': 11717, 'pillés': 20793, 'eastern': 9305, 'prepares': 21547, 'dénutrition': 8969, 'autrices': 2175, 'linauguration': 16115, 'collectivité': 5175, 'xve': 29906, 'débarrasse': 8492, 'arrivetil': 1661, 'considérables': 5811, 'sérum': 27261, 'hautsdeseine': 12753, 'inscrivezv': 13944, 'passation': 20258, 'dentistes': 7325, 'sympathie': 27126, 'vortex': 29470, 'racontez': 22722, 'légitimation': 16742, 'exoplanètes': 10282, 'méthodiquement': 18667, 'mostra': 18296, 'boseman': 3199, 'chefsd': 4572, 'supportent': 26941, 'zac': 29997, 'daoudi': 7005, 'parce': 20074, 'biscuits': 2933, 'souverainistes': 26394, 'médicalement': 18587, 'delépine': 7237, 'fermiers': 10777, 'faivre': 10554, 'trader': 28069, 'sutton': 27091, 'giannoli': 11954, 'lilyrose': 16068, 'naissante': 18726, 'déploient': 9023, 'viticole': 29350, 'municipalesparis': 18428, 'weiter': 29726, 'groenland': 12304, 'zoos': 30039, 'spreads': 26500, 'gardanne': 11768, 'napoléonienne': 18758, 'valse': 28873, 'gages': 11685, 'bour': 3283, 'ride': 23972, 'dagnès': 6863, 'semiconducteurs': 25495, 'consécration': 5897, 'vivi': 29374, 'paresse': 20101, 'reconfiner': 23098, 'shelby': 25725, 'gamer': 11735, 'mess': 17689, 'tjs': 27848, 'consciencieux': 5772, 'échiquier': 30107, 'minutieux': 17936, 'compliment': 5438, 'larcep': 15430, 'persistent': 20574, 'décence': 8550, 'diversion': 7988, 'préférezvous': 22103, 'regretté': 23275, 'croisent': 6518, 'naccepte': 18703, 'gardois': 11783, 'auction': 2010, 'charity': 4496, 'millau': 17851, 'andrej': 1119, 'evolution': 10155, 'ayem': 2293, 'nour': 19190, 'rédactio': 24466, 'complets': 5429, 'ucb': 28597, 'catholic': 4153, 'looking': 16424, 'retweeter': 23874, 'memo': 17587, 'chantilly': 4448, 'processeur': 21696, 'merry': 17675, 'wh': 29748, 'cannot': 3934, 'cotisation': 6231, 'déconomie': 8644, 'dincendie': 7728, 'retirées': 23824, 'réjouissent': 24577, 'sus': 27055, 'lamine': 15310, 'retraitée': 23850, 'hamel': 12658, 'implanter': 13461, 'chimpanzés': 4657, 'jagger': 14497, 'mettra': 17724, 'empêchée': 9589, 'kahn': 14924, 'embargo': 9480, 'insérer': 14054, 'punie': 22362, 'tracteurs': 28063, 'évalué': 30616, 'additifs': 346, 'castillo': 4132, 'perm': 20532, 'pique': 20826, 'laccusé': 15168, 'médecines': 18569, 'urgents': 28717, 'briare': 3440, 'oyez': 19906, 'clas': 4945, 'incapacité': 13568, 'challenging': 4376, 'vaccinezvous': 28800, 'homologues': 12963, 'parismatch': 20122, 'léditorial': 16713, 'diamants': 7608, 'doubt': 8241, 'avon': 2263, 'dindustrie': 7735, 'saintgratien': 24928, 'tulsi': 28455, 'lélue': 16766, 'supremacy': 26962, 'sombrer': 26166, 'seeking': 25443, 'renvoyée': 23565, 'sér': 27253, 'cardiovasculaires': 4021, 'paga': 19928, 'estrabaud': 10066, 'rivoli': 24061, 'ravis': 22966, 'impérativement': 13534, 'glissé': 12040, 'révolter': 24765, 'gosselin': 12110, 'sommés': 26183, 'bona': 3133, 'linguistique': 16156, 'flamboyante': 11021, 'crinière': 6480, 'prodigieuse': 21726, 'devillers': 7501, 'chialer': 4623, 'bein': 2698, 'salzbourg': 25041, 'geht': 11868, 'malformation': 17016, 'maxence': 17478, 'déso': 9146, 'mgm': 17755, 'astronomique': 1862, 'comedian': 5283, 'estimer': 10057, 'auraient': 2069, 'spoliation': 26475, 'conn': 5720, 'leaked': 15633, 'forma': 11233, 'audincourt': 2023, 'lapierre': 15396, 'saying': 25268, 'vodka': 29391, 'nétais': 19356, 'alcoolique': 734, 'tiersmonde': 27771, 'buffy': 3590, 'prom': 21841, 'étatique': 30523, 'youtuber': 29980, 'revolver': 23926, 'europol': 10115, 'prélevé': 22113, 'pôles': 22513, 'réclamant': 24431, 'gé': 12468, 'chapeaux': 4457, 'whos': 29769, 'finlandefrance': 10965, 'mélanges': 18616, 'satoshi': 25180, 'recolonisation': 23078, 'quin': 22628, 'vacants': 28783, 'taisent': 27342, 'lier': 16020, 'hésitations': 13214, 'because': 2677, 'drastique': 8307, 'adaptent': 334, 'lespagnol': 15794, 'filoche': 10910, 'dengager': 7298, 'lobbys': 16320, 'janet': 14530, 'démontage': 8933, 'dex': 7520, 'présen': 22153, 'guitares': 12414, 'ravivé': 22969, 'detected': 7444, 'moelle': 18067, 'fêtez': 11655, 'saied': 24900, 'braconniers': 3362, 'dérobe': 9084, 'ensauvagement': 9756, 'jaurais': 14557, 'girardin': 11995, 'poke': 21121, 'latifa': 15504, 'comfort': 5289, 'dissoire': 7942, 'publiqu': 22308, 'improve': 13521, 'nadège': 18708, 'sûrs': 27287, 'incarnera': 13576, 'rom': 24140, 'accumulation': 217, 'anomalies': 1238, 'cueillette': 6647, 'ironie': 14361, 'expensive': 10293, 'dubisoft': 8377, 'inc': 13565, 'pillées': 20792, 'jalibertntamack': 14508, 'silicone': 25851, 'écroule': 30210, 'development': 7479, 'alphabet': 906, 'héberger': 13182, 'politisation': 21168, 'lançait': 15387, 'redoubler': 23190, 'defforts': 7193, 'paritaire': 20125, 'teeshirt': 27486, 'amiral': 1015, 'hurlent': 13133, 'grasset': 12223, 'destructrice': 7439, 'zero': 30015, 'tahiti': 27332, 'faveurs': 10683, 'dérangeant': 9071, 'prédiction': 22084, 'marley': 17278, 'hadj': 12610, 'dramaturge': 8300, 'rod': 24109, 'dirty': 7835, 'piliers': 20786, 'déchirantes': 8573, 'blasphème': 2994, 'pourvus': 21438, 'gauc': 11820, 'désespéré': 9125, 'graphic': 12215, 'wash': 29669, 'seinenord': 25458, 'bugault': 3595, 'hallucinante': 12642, 'amené': 994, 'aixois': 688, 'célébrons': 6780, 'tunisia': 28462, 'léopard': 16783, 'biba': 2826, 'creil': 6446, 'articulations': 1700, 'pinochet': 20810, 'basés': 2582, 'ah': 607, 'michalik': 17765, 'notoire': 19176, 'birth': 2928, 'sap': 25123, 'matinaute': 17432, 'ricard': 23961, 'factuel': 10511, 'geler': 11870, 'darroze': 7037, 'délibéré': 8838, 'dédommagement': 8721, 'pisse': 20849, 'cosmiques': 6215, 'lolympique': 16399, 'trilogie': 28310, 'monarque': 18110, 'waititi': 29624, 'jodorowsky': 14669, 'eli': 9440, 'sweden': 27102, 'considérations': 5815, 'lhimalaya': 15908, 'amicale': 1006, 'retrouvezmoi': 23865, 'remote': 23423, 'laire': 15250, 'forcené': 11210, 'chiapas': 4625, 'engagées': 9690, 'yoann': 29956, 'enterre': 9794, 'decouverte': 7176, 'pilot': 20794, 'ogre': 19531, 'otto': 19810, 'lauréates': 15543, 'piètre': 20874, 'purifier': 22375, 'allient': 851, 'تأملات': 30687, 'وراء': 30700, 'القضبان': 30684, 'séances': 27174, 'regulator': 23280, 'giphy': 11991, 'lessonne': 15806, 'constructive': 5878, 'bé': 3676, 'brune': 3533, 'bear': 2643, 'mariniers': 17254, 'endurance': 9647, 'conférencedébat': 5695, 'réalistes': 24393, 'réunionnais': 24728, 'lukaku': 16584, 'natura': 18812, 'snapdragon': 26027, 'synthétique': 27152, 'inversement': 14263, 'cantat': 3939, 'pèlerins': 22422, 'rankings': 22844, 'spanish': 26418, 'départager': 8977, 'weeknd': 29716, 'geluck': 11872, 'imprimés': 13518, 'recueille': 23151, 'guérie': 12437, 'effraie': 9392, 'doeuvre': 8072, 'réfléchissez': 24498, 'malus': 17048, 'désirs': 9145, 'réparé': 24609, 'entreprendre': 9838, 'pendue': 20450, 'glowing': 12052, 'sushi': 27063, 'écarts': 30082, 'fé': 11611, 'prestataires': 21578, 'interceptés': 14086, 'aimeraient': 654, 'inférieur': 13836, 'vihsida': 29190, 'luce': 16555, 'lunes': 16608, 'occ': 19433, 'bestseller': 2797, 'inhumaine': 13852, 'saintjeandeluz': 24934, 'mons': 18146, 'haka': 12630, 'mcafee': 17510, 'dœil': 9293, 'lebanese': 15643, 'amélioré': 1058, 'boîtier': 3354, 'californien': 3812, 'wearing': 29697, 'scandalisé': 25288, 'department': 7342, 'accumulent': 219, 'tirez': 27820, 'unifier': 28651, 'pétroliers': 22500, 'accor': 175, 'externe': 10412, 'mst': 18388, 'possiblement': 21323, 'annonay': 1202, 'bring': 3468, 'eczéma': 9337, 'conditionne': 5600, 'dabidjan': 6811, 'grade': 12176, 'paroisse': 20161, 'spacey': 26415, 'stabilisation': 26548, 'samat': 25050, 'lincompétence': 16123, 'sottise': 26258, 'chsld': 4765, 'massimo': 17390, 'masks': 17370, 'having': 12757, 'boulots': 3278, 'selfies': 25467, 'scandalisée': 25289, 'kirsten': 15054, 'comptage': 5496, 'maintena': 16947, 'élimine': 30312, 'reconquête': 23117, 'cartoons': 4087, 'mentalités': 17630, 'catastrophic': 4146, 'carotte': 4055, 'enchaînement': 9603, 'duchère': 8384, 'indigéniste': 13696, 'confiant': 5629, 'vérif': 29595, 'actives': 297, 'mériterait': 18645, 'bag': 2363, 'pinceaux': 20805, 'épinglées': 30438, 'nic': 18967, 'séparatiste': 27235, 'dorganiser': 8188, 'accu': 206, 'cotées': 6237, 'dystopique': 8476, 'orwellien': 19785, 'nota': 19160, 'tagué': 27328, 'sagan': 24882, 'arfa': 1577, 'aperçue': 1369, 'realme': 23007, 'bluwal': 3063, 'spoutnik': 26496, 'influente': 13811, 'contradictoires': 5989, 'diouf': 7785, 'téléphérique': 28550, 'chorégraphe': 4719, 'coureur': 6304, 'braquages': 3386, 'semimarathon': 25497, 'sensorielle': 25533, 'postpartum': 21339, 'intouchables': 14190, 'renier': 23516, 'steal': 26625, 'évaluations': 30613, 'darguments': 7024, 'caumes': 4171, 'lapprentissage': 15412, 'essayons': 10024, 'camembert': 3847, 'accueillie': 214, 'azf': 2299, 'thai': 27652, 'tourists': 28003, 'loccurrence': 16346, 'devientil': 7498, 'assimilation': 1790, 'aveu': 2237, 'fau': 10654, 'uti': 28752, 'nordique': 19118, 'poised': 21113, 'limpide': 16100, 'riposter': 24013, 'emoji': 9533, 'ressource': 23755, 'logitech': 16373, 'intéresser': 14233, 'ellesmêmes': 9457, 'varoise': 28919, 'cumule': 6689, 'mona': 18107, 'hétérosexuel': 13222, 'polony': 21195, 'chemsex': 4586, 'najla': 18730, 'bouden': 3234, 'expl': 10300, 'modifiée': 18057, 'concombre': 5568, 'profonds': 21784, 'hypermarchés': 13159, 'éclair': 30118, 'conflict': 5667, 'néfaste': 19322, 'cm2': 5060, 'engendre': 9692, 'gueux': 12381, 'échappés': 30100, 'incompréhensible': 13626, 'lovely': 16528, 'tramway': 28131, 'étranglée': 30579, 'metroid': 17714, 'trilogy': 28311, 'persistante': 20572, 'regroupant': 23276, 'référés': 24514, 'dattentats': 7076, 'crétin': 6625, 'connor': 5751, 'silver': 25861, 'égyptienne': 30260, 'buteurs': 3651, 'garrel': 11794, 'qualcomm': 22536, 'crusader': 6577, 'octroie': 19465, 'détachées': 9167, 'consacrées': 5768, 'antifasciste': 1288, 'prônent': 22248, 'irm': 14358, 'kamara': 14928, 'ages': 546, 'mentalité': 17629, 'infidélité': 13779, 'rfi': 23945, 'lessive': 15804, 'passaient': 20253, 'saluer': 25032, 'rééquilibrage': 24803, 'axée': 2289, 'mademoiselle': 16872, 'agitil': 568, 'prémunir': 22123, 'sentons': 25553, 'führer': 11659, 'leconte': 15658, 'software': 26092, 'cigale': 4822, 'lyrique': 16665, 'brillants': 3461, 'addictif': 343, 'veu': 29079, 'copenhague': 6113, 'simulant': 25885, 'duris': 8445, 'english': 9701, 'remaster': 23388, 'redmi': 23182, 'largus': 15447, 'comités': 5298, 'tragédies': 28096, 'défaillances': 8727, 'dentendre': 7322, 'panache': 19978, 'havane': 12754, 'auss': 2094, 'anger': 1140, 'autisme': 2122, 'ich': 13253, 'leak': 15632, 'restrictives': 23791, 'wears': 29698, 'citez': 4879, 'nira': 19016, 'veule': 29081, 'bor': 3180, 'moved': 18361, 'pravi': 21509, 'armageddon': 1598, 'billions': 2892, 'licenciés': 16006, 'réprimer': 24631, 'docs': 8044, 'roquefort': 24176, 'dalbert': 6887, 'heurter': 12850, 'sensibilité': 25528, 'jefferson': 14602, 'raz': 22982, 'caloriques': 3827, 'introduits': 14206, 'braqué': 3391, 'écroués': 30212, 'polio': 21147, 'bidonville': 2843, 'bagnolet': 2372, 'rumors': 24306, 'cuit': 6660, 'robinets': 24083, 'floral': 11077, 'reconnaissant': 23104, 'sceaux': 25295, 'prosecution': 21940, 'appartenu': 1403, 'porteront': 21276, 'soixantedix': 26119, 'socialist': 26060, 'savoureuses': 25263, 'mariotte': 17260, 'émile': 30367, 'schtroumpfs': 25317, 'horrifying': 13019, 'inclusifs': 13615, 'archéologiques': 1559, 'chassés': 4527, 'obèses': 19426, 'dormant': 8196, 'tune': 28459, 'répugnant': 24639, 'railcoop': 22771, 'colruyt': 5249, 'tennessee': 27536, 'cincinnati': 4830, 'indéfiniment': 13735, 'sudafricains': 26840, 'artificielles': 1706, 'thunder': 27729, 'brouillards': 3519, 'diktat': 7694, 'ub40': 28591, 'gunman': 12418, 'daubervilliers': 7083, 'prématuré': 22120, 'flocons': 11071, 'oussama': 19840, 'zhan': 30017, 'rsf': 24264, 'patriarcale': 20324, 'lundisoir': 16604, 'zeller': 30009, 'italiecoronavirus': 14441, 'victimaire': 29114, 'demandais': 7244, 'kebab': 14971, 'snsm': 26040, 'immobile': 13424, 'monitoring': 18136, 'chanteuses': 4445, 'retombe': 23827, 'islamisation': 14391, 'forage': 11202, 'colorectal': 5237, 'grossière': 12316, 'sadiq': 24868, 'sannoncent': 25103, 'degrelle': 7199, 'bou': 3216, 'ophtalmo': 19623, 'estonie': 10065, 'menant': 17602, 'gar': 11754, 'dirigeantes': 7827, 'scandent': 25290, 'méfier': 18607, 'obj': 19369, 'traduite': 28084, 'texto': 27644, 'cotation': 6228, 'everest': 10143, 'textiles': 27643, 'demandés': 7259, 'som': 26162, 'prima': 21601, 'inventaire': 14253, 'saintamandenpuisaye': 24907, 'tougher': 27976, 'extérieures': 10442, 'culot': 6666, 'affaiblit': 460, 'nairobi': 18722, 'adorez': 419, 'alcohol': 732, 'flottant': 11090, 'observés': 19406, 'drakkar': 8295, 'complorama': 5444, 'bidistrict': 2840, 'décollent': 8628, 'refroidir': 23226, 'lenregistrement': 15744, 'forestière': 11226, 'grindr': 12295, 'schiste': 25307, 'taxé': 27442, 'ornellas': 19773, 'punch': 22358, 'nayant': 18851, 'rééducation': 24799, 'nico': 18977, 'meryl': 17683, 'streep': 26712, 'résout': 24699, 'emporter': 9570, 'rotation': 24189, 'schwarzenegger': 25320, 'lino': 16167, 'astra': 1848, 'respiratoires': 23722, 'stepping': 26638, 'tournure': 28016, 'ontario': 19606, 'ranch': 22826, 'ressent': 23742, 'psychiques': 22272, 'microtrottoir': 17787, 'hypocrites': 13169, 'stevens': 26644, 'maskless': 17369, 'rangée': 22842, 'péricardite': 22475, 'dinterpol': 7770, 'plaider': 20910, 'qualifient': 22543, 'iconiques': 13259, 'jetables': 14623, 'cartels': 4077, 'spur': 26504, 'manipulée': 17128, 'arrogant': 1670, 'rendaient': 23483, 'contentent': 5936, 'désorma': 9155, 'paralysie': 20059, 'haye': 12765, 'retirent': 23820, 'brandit': 3379, 'vitalité': 29343, 'exploitations': 10324, 'a113': 2, 'coiffeurs': 5119, 'lifop': 16030, 'sceptiques': 25300, 'gâche': 12455, 'sì': 27282, 'marathonien': 17188, 'quadragénaire': 22528, 'babysitter': 2333, 'expérimentale': 10396, 'ly': 16644, 'attentifs': 1961, 'impressionne': 13508, 'fours': 11321, 'attraper': 1988, 'violenté': 29252, 'franciscain': 11387, 'blackface': 2965, 'combo': 5278, 'nicolle': 18981, 'revil': 23913, 'deserves': 7384, 'préfectoral': 22092, 'puisquil': 22330, 'injustices': 13883, 'décrocheurs': 8692, 'garer': 11787, 'sadresser': 24870, 'déboucher': 8515, 'floue': 11094, 'naked': 18732, 'rockeur': 24105, 'troyens': 28396, 'unlikely': 28682, 'impuissants': 13528, 'plon': 21026, 'voila': 29403, 'débiles': 8502, 'polluante': 21176, 'sinscrit': 25921, 'ciro': 4865, 'raptor': 22898, 'colon': 5219, 'erika': 9938, 'rabat': 22675, 'saïf': 25272, 'alislam': 812, 'coline': 5138, 'nonsense': 19101, 'minuscule': 17931, 'similaire': 25864, 'sortez': 26246, 'gestation': 11929, 'protectionnisme': 21958, 'intenable': 14068, 'nasdaq': 18780, 'southeast': 26376, 'morris': 18263, 'lawmaker': 15598, 'contours': 5975, 'savourer': 25261, 'shoots': 25752, 'politician': 21153, 'fêtons': 11656, 'ord': 19692, 'illustres': 13368, 'durera': 8439, 'barbès': 2510, 'pratiquent': 21500, 'privacy': 21651, 'contrepouvoir': 6012, 'pornographiques': 21251, 'distingué': 7957, 'sympas': 27125, 'icloud': 13255, 'confirm': 5649, 'protéines': 21990, 'manife': 17103, 'adapte': 333, 'dambition': 6919, 'sépulture': 27243, 'gênes': 12542, 'tribus': 28293, 'disparaissent': 7888, 'stick': 26648, 'lépargne': 16785, 'progressent': 21799, 'hardware': 12706, 'réinstaurer': 24564, 'écrivez': 30209, 'neo': 18891, 'moss': 18292, 'paulin': 20354, 'silly': 25857, 'dégradées': 8805, 'égorgé': 30254, 'apparent': 1394, 'lépidémiologiste': 16788, 'attitudes': 1978, 'kravitz': 15108, 'intrigante': 14200, 'banalité': 2442, 'chassé': 4525, 'sassocie': 25163, 'jihadisme': 14649, 'rendons': 23494, 'demiheure': 7268, 'ordi': 19696, 'oublient': 19818, 'vestiaires': 29074, 'vasectomie': 28924, 'piques': 20829, 'toulonnais': 27985, 'correcte': 6172, 'b11529': 2324, 'kendall': 14984, 'interdisent': 14093, 'arriveront': 1659, 'kanté': 14941, 'honorés': 12993, 'respectueuse': 23714, 'lycéennes': 16648, 'lumineuses': 16592, 'lhippodrome': 15909, 'béninois': 3688, 'ohne': 19535, 'acclamé': 162, 'fem': 10737, 'afro': 521, 'infected': 13765, 'quilès': 22626, 'prot': 21950, 'reached': 22991, 'amélia': 1052, 'ruth': 24339, 'elkrief': 9450, 'refondation': 23218, 'refusez': 23240, 'manipuler': 17126, 'map': 17173, 'charlatans': 4500, 'saintsatur': 24954, 'breakfast': 3410, 'dorian': 8190, 'relancée': 23319, 'manques': 17150, 'vautours': 28935, 'guidance': 12387, 'plot': 21038, 'freddie': 11443, 'ferroni': 10790, 'montants': 18167, 'theater': 27666, 'soro': 26234, 'kigbafori': 15029, 'semballe': 25483, 'basique': 2559, 'allumée': 872, 'rasoir': 22908, 'perçu': 20624, 'olympic': 19567, 'exploitants': 10322, 'nicholas': 18973, 'shaming': 25709, 'comprenant': 5478, 'entrant': 9824, 'sardaigne': 25145, 'lexotage': 15865, 'linvestissement': 16209, 'flaubert': 11037, 'mic': 17763, 'finiront': 10954, 'bailleul': 2385, 'bite': 2946, 'médiocrité': 18595, 'noyon': 19236, 'jassume': 14550, 'banditisme': 2457, 'whistleblowers': 29763, 'brent': 3423, 'importations': 13483, 'parvenus': 20238, 'fields': 10852, 'rischio': 24018, 'cultivées': 6679, 'fédérer': 11619, 'gau': 11819, 'servie': 25629, 'pourriezvous': 21420, 'prit': 21649, 'fournissent': 11312, 'métros': 18679, 'intensifies': 14074, 'avouent': 2271, 'advantage': 438, 'sissi': 25946, 'bats': 2596, 'chewinggum': 4620, 'dlss': 8029, 'vom': 29462, 'salé': 25043, 'dent': 7318, 'présidera': 22194, 'disputé': 7926, 'hertz': 12837, 'privas': 21652, 'revendiquée': 23895, 'tragic': 28092, 'doiventils': 8092, 'députées': 9061, 'hayange': 12764, 'avanthier': 2215, 'daccorder': 6824, 'arrow': 1674, 'norway': 19151, 'pressenti': 21567, 'nordirlandais': 19120, 'bastiais': 2573, 'waresquiel': 29654, 'fanatisme': 10596, 'gabon': 11671, 'facilité': 10497, 'bouchées': 3227, 'naïfs': 18860, 'chanceux': 4417, 'reduce': 23199, 'banana': 2443, 'portera': 21275, 'aldo': 741, 'caritatives': 4037, 'fantastic': 10603, 'fusils': 11588, 'malgouyres': 17018, 'attempted': 1936, 'laise': 15251, 'racontés': 22726, 'fishing': 10989, 'freinage': 11454, 'plaqué': 20961, 'depstein': 7349, 's21': 24817, 'dopinion': 8174, 'découv': 8666, 'immonde': 13431, 'cornichons': 6163, 'affaiblir': 459, 'nageuse': 18713, 'égaux': 30249, 'busnel': 3643, 'verbalisée': 29008, 'détailler': 9170, 'bach': 2336, 'anatomie': 1091, 'protected': 21954, 'bulls': 3609, 'berlinois': 2771, 'torpille': 27929, 'joissains': 14693, 'ténors': 28580, 'impuissance': 13525, 'incompétents': 13629, 'humidité': 13110, 'dazote': 7134, 'ladies': 15196, 'mentionner': 17640, 'mdrrrr': 17528, 'enquete': 9731, 'subitement': 26791, 'marraine': 17307, 'dominante': 8118, 'délocalise': 8867, 'successives': 26821, 'contrôleurs': 6044, 'ethics': 10084, 'construits': 5884, 'castelnaulelez': 4130, 'cagé': 3777, 'aggravation': 549, 'guess': 12372, 'sally': 25014, 'portion': 21285, 'violen': 29244, 'cassis': 4119, 'framboise': 11357, 'bêtement': 3717, 'rabbi': 22676, 'stuck': 26740, 'gonesse': 12086, 'pratiquant': 21496, 'gènes': 12465, 'lutilité': 16630, 'astres': 1850, 'would': 29866, 'extraordinary': 10426, 'century': 4289, 'regorgent': 23269, 'younger': 29970, 'sparta': 26420, 'ftc': 11533, 'ethereum': 10083, 'surgelés': 26995, 'lecole': 15655, 'dansé': 6995, 'inhabituel': 13849, 'flûte': 11111, 'tale': 27353, 'yslbeauty': 29986, 'lardèche': 15436, 'anticipent': 1269, 'déchiré': 8575, 'malchance': 17008, 'louper': 16508, 'saintloup': 24941, 'infidèle': 13777, 'lugan': 16579, 'syndicales': 27141, 'gerson': 11927, 'dubost': 8381, 'viaduc': 29093, 'emparés': 9544, 'taupe': 27431, 'rendues': 23502, 'tutos': 28487, 'brie': 3448, 'larson': 15465, 'dadopter': 6847, 'modérateurs': 18062, 'haunting': 12731, 'osée': 19801, 'excréments': 10215, 'switzerland': 27109, 'vendeuse': 28972, 'dread': 8314, 'importer': 13485, 'dorchestre': 8181, 'punitive': 22366, 'vaccidrive': 28786, 'écoulés': 30177, 'titrologie': 27842, 'délirante': 8852, 'circonstance': 4852, 'romanssurisère': 24151, 'ceux': 4339, 'vendant': 28967, 'pelloux': 20431, 'pénaliste': 22454, 'hanoukka': 12680, 'marxisme': 17349, 'sincèrement': 25896, 'vermont': 29023, 'louvin': 16521, 'rabbins': 22678, 'tacles': 27313, 'dassociations': 7057, 'opposées': 19644, 'épanouie': 30408, 'étoilés': 30558, 'réticence': 24715, 'numér': 19282, 'tisse': 27827, 'acharné': 243, 'utd': 28751, 'recyclées': 23166, 'anthropologie': 1255, 'chenôve': 4591, 'prisée': 21648, 'brel': 3421, 'bullshit': 3610, 'volley': 29441, 'pétrin': 22497, 'varié': 28914, 'perpétue': 20555, 'fauché': 10655, 'counter': 6269, 'ivres': 14465, 'philadelphie': 20693, 'youve': 29984, 'roanne': 24071, 'sympathisants': 27128, 'sélectif': 27209, 'sévir': 27275, 'dispersé': 7905, 'lampedusa': 15314, 'inélégant': 14326, 'tactiques': 27318, 'informa': 13816, 'zeman': 30011, 'autism': 2121, 'léponge': 16791, 'présidé': 22195, 'lantre': 15384, 'sillonné': 25856, 'grill': 12283, 'cocody': 5089, 'recruteurs': 23142, 'stato': 26611, 'bastion': 2577, 'wissam': 29820, 'elyamni': 9466, 'coquillages': 6130, 'niro': 19017, 'orchestra': 19688, 'spam': 26417, 'épidémiques': 30431, 'torturée': 27943, 'poutre': 21453, 'dotés': 8226, 'imposes': 13492, 'exp': 10287, 'prometteurs': 21853, 'plébiscitée': 21061, 'lathlète': 15503, 'quadruple': 22529, 'hussein': 13140, 'parl': 20136, 'femelles': 10740, 'braconnage': 3360, 'débile': 8501, 'lopes': 16430, 'dépassant': 8985, 'survolé': 27053, 'milli': 17856, 'providence': 22010, 'nordstrom': 19125, 'davc': 7116, 'piétonne': 20882, 'épuisés': 30466, 'galapagos': 11705, 'établis': 30504, 'chad': 4353, 'résumés': 24707, 'bergerac': 2764, 'productrice': 21738, 'micros': 17784, 'découvrait': 8672, 'minovembre': 17928, 'partition': 20223, 'lhumeur': 15927, 'revien': 23905, 'territoriale': 27598, 'leurovision': 15832, 'address': 349, 'pretto': 21584, 'sionisme': 25937, 'kreuzworträtsel': 15110, 'brezsny': 3436, 'astrologues': 1856, 'persévérance': 20605, 'stupidité': 26754, 'poupée': 21395, 'jeancharles': 14573, 'dérouleront': 9096, 'op': 19612, 'jupes': 14852, 'arraché': 1638, 'avantpremières': 2217, 'saintexupéry': 24924, 'advisor': 446, 'taken': 27348, 'benin': 2742, 'activ': 291, 'lislamogauchisme': 16242, 'préhistoriques': 22110, 'chiffrées': 4643, 'lavoro': 15593, 'pénitentiaire': 22459, 'ibis': 13240, 'individualisme': 13707, 'collabo': 5143, 'moustiques': 18350, 'cracher': 6409, 'violating': 29239, 'denvoyé': 7339, 'mariah': 17233, 'doudou': 8248, 'lepic': 15778, 'magnycours': 16917, 'mutuel': 18494, 'centimètres': 4271, 'instaurant': 14011, 'causées': 4184, 'lemoyne': 15712, 'diminuent': 7710, 'collé': 5199, 'soviet': 26402, 'chanvre': 4452, 'abe': 45, 'retrouverez': 23862, 'reprenons': 23632, 'inspirent': 13979, 'fleming': 11042, 'h3': 12558, 'n2': 18698, 'ghlam': 11948, 'maxima': 17480, 'battait': 2597, 'reflux': 23215, 'gazer': 11847, 'respiratoire': 23721, 'techno': 27472, 'acoustique': 267, 'beam': 2641, 'serve': 25620, 'baignade': 2380, 'feels': 10731, 'features': 10719, 'dénouement': 8968, 'tip': 27805, 'fermera': 10769, 'jesse': 14619, 'convie': 6070, 'mélancolique': 18613, 'inclusion': 13616, 'enseignent': 9763, 'tot': 27946, 'sousvariant': 26361, 'semences': 25492, 'réalisme': 24391, 'modernise': 18042, 'dexpulsion': 7534, 'blob': 3019, 'zurich': 30048, 'khmers': 15013, 'licnirp': 16007, 'logos': 16375, 'commençons': 5331, 'giuliani': 12007, 'soap': 26043, 'luck': 16565, 'lectrice': 15664, 'jeremstar': 14611, 'camionciterne': 3856, 'sierra': 25797, 'leone': 15775, 'bright': 3454, 'sarcelles': 25144, 'fermier': 10776, 'enlève': 9716, 'horn': 13011, 'torse': 27935, 'ops': 19648, 'duplicité': 8413, 'rajoute': 22788, 'vandalisées': 28887, 'talibane': 27360, 'stones': 26669, 'magnétiques': 16919, 'biélorusses': 2955, 'riviera': 24058, 'interlocuteur': 14103, 'senators': 25506, 'travellers': 28242, 'repêché': 23674, 'jument': 14840, 'rachats': 22690, 'socio': 26068, 'naruto': 18776, 'prononcés': 21882, 'salourdit': 25026, 'symptoms': 27133, 'fallout': 10567, 'croisement': 6516, 'hésiter': 13217, 'tardivement': 27398, 'neurosciences': 18922, 'bourré': 3304, 'souvienstoi': 26398, 'domain': 8107, 'tacos': 27315, 'médiatisé': 18584, 'dengie': 7299, 'délétères': 8879, 'ease': 9301, 'raisin': 22779, 'cadence': 3762, 'hambli': 12652, 'gardesfrontières': 11777, 'scenes': 25297, 'xl': 29901, 'nhs': 18962, 'paredes': 20091, 'réduirait': 24476, 'pend': 20446, 'employee': 9552, 'artemis': 1693, 'réglementer': 24535, 'blond': 3037, 'étaitelle': 30515, 'chasseuse': 4524, 'avancés': 2208, 'h1': 12549, 'donations': 8136, 'dapprentissage': 7012, 'révolté': 24767, 'soignent': 26103, 'préoccupantes': 22129, 'blows': 3053, 'asos': 1751, 'cathos': 4157, 'secondo': 25404, 'politesse': 21150, 'réinsertion': 24563, 'drees': 8317, 'jaguar': 14498, 'gro': 12303, 'emery': 9510, 'insupportables': 14049, 'flamanville': 11015, 'kimmich': 15041, 'évadés': 30611, 'lorsquune': 16468, 'survival': 27040, 'ferropem': 10791, 'fermez': 10775, 'hospitals': 13042, 'alban': 720, 'legs': 15695, 'verbale': 29005, 'snj': 26034, 'oh': 19532, 'encouragent': 9618, 'encouragé': 9620, 'horslaloi': 13023, 'shine': 25737, 'lindemnisation': 16127, 'synology': 27148, 'cé': 6758, 'diet': 7644, 'cryptocurrency': 6583, 'fondant': 11162, 'rohingya': 24124, 'nationwide': 18807, 'devan': 7472, 'fuit': 11545, 'dexploser': 7531, 'convoquer': 6080, 'mahjoubi': 16924, 'implosion': 13474, 'visits': 29324, 'offrez': 19522, 'radié': 22753, 'statique': 26607, 'bercot': 2759, 'visual': 29328, 'emprunteur': 9581, 'lexique': 15861, 'harceleurs': 12697, 'lafont': 15220, 'minimales': 17899, 'healthy': 12788, 'recorded': 23126, 'posés': 21352, 'lail': 15244, 'exporté': 10357, 'vega': 28947, 'nestil': 18900, 'argentins': 1582, 'hacking': 12605, 'lussier': 16625, 'lanses': 15371, 'maintenus': 16954, 'outrageous': 19850, 'poses': 21306, 'mêlée': 18691, 'délicatesse': 8842, 'examinée': 10172, 'obéir': 19428, 'feats': 10717, 'foncier': 11141, 'trompeur': 28346, 'busted': 3646, 'lilas': 16054, 'effraction': 9391, 'lultra': 16589, 'électrochoc': 30293, 'organisez': 19732, 'dar': 7016, 'baroque': 2524, 'fest': 10803, 'chauds': 4539, 'pouls': 21390, 'devenant': 7482, 'mmo': 18005, 'détaillées': 9173, 'linguiste': 16155, 'portugaise': 21294, 'paint': 19945, 'bureaucrates': 3621, 'ibiza': 13241, 'infiltrer': 13782, 'dabraham': 6816, 'brillent': 3463, 'pontoise': 21217, 'fonder': 11172, 'momen': 18098, 'goscinny': 12107, 'fourretout': 11319, 'bots': 3212, 'hands': 12675, 'matinales': 17431, 'starliner': 26584, 'thieves': 27692, 'produites': 21746, 'brought': 3517, 'wimbledon': 29797, 'genevois': 11888, 'peta': 20637, 'perform': 20525, 'stunt': 26749, 'yemen': 29946, 'romantiques': 24153, 'alertemunicipalesparis': 752, 'lassé': 15491, 'cheffes': 4570, 'quelque': 22593, 'miraculé': 17946, 'pérez': 22473, 'économiqu': 30157, 'inertie': 13753, 'corner': 6160, 'thann': 27658, 'forfaits': 11229, 'spontanément': 26481, 'manoeuvres': 17138, 'subis': 26787, 'magouilles': 16921, 'loréal': 16470, 'immigrationniste': 13419, 'terrifying': 27594, 'harcelés': 12700, 'ic': 13248, 'écrivant': 30207, 'sharing': 25716, 'nirvana': 19018, 'shoppers': 25755, 'musthave': 18478, 'deuro': 7457, 'receve': 23056, 'révolu': 24769, 'réveillezvous': 24752, 'visiteur': 29321, 'stagne': 26563, 'femelle': 10739, 'déesse': 8725, 'prolongés': 21840, 'netflixs': 18906, 'tick': 27761, 'lecointre': 15654, 'mâchoire': 18529, 'regardée': 23259, 'logiquement': 16370, 'comestible': 5287, 'immediately': 13408, 'fired': 10971, 'tenon': 27540, 'roumain': 24213, 'randonnées': 22833, 'forecast': 11221, 'bayou': 2628, 'tartes': 27412, 'machin': 16846, 'benchetrit': 2734, 'électro': 30292, 'convocation': 6075, 'démissionnent': 8910, 'risquer': 24028, 'khomri': 15014, 'newspaper': 18946, 'kerbal': 14993, 'débrouille': 8523, 'holy': 12944, 'réindustrialisation': 24557, 'boursière': 3309, 'récupérés': 24460, 'surcharge': 26976, 'inspirées': 13983, 'mao': 17172, 'vivienne': 29376, 'language': 15354, 'cruciales': 6564, 'crocs': 6509, 'veilleur': 28954, 'décrans': 8681, 'buying': 3658, 'stuff': 26747, 'bernanos': 2775, 'alraisi': 913, 'téléspectateur': 28555, 'gênants': 12539, 'inquiétants': 13922, 'ari': 1586, 'madre': 16875, 'hcq': 12778, 'dégradent': 8801, 'sonny': 26203, 'cordon': 6151, 'cinéphiles': 4843, 'lislande': 16244, 'droguées': 8346, 'lgbti': 15898, 'éventuelles': 30624, 'sun': 26912, 'découter': 8665, 'famous': 10593, 'vigano': 29173, 'lentrepôt': 15762, 'whether': 29756, 'deliver': 7220, 'husband': 13139, 'monolithe': 18140, 'remercié': 23402, 'universalisme': 28673, 'nella': 18887, 'mein': 17571, 'saintbrevin': 24911, 'sellette': 25470, 'scala': 25276, 'év': 30600, 'engendré': 9694, 'professor': 21763, 'dissuader': 7948, 'clairobscur': 4919, 'nat': 18783, 'inquiétez': 13924, 'ruses': 24326, 'extraction': 10417, 'grenier': 12268, 'anticonfinement': 1274, 'contamine': 5919, 'connaissais': 5722, 'mangeant': 17089, 'pourrie': 21418, 'factice': 10506, 'causeur': 4180, 'ballots': 2429, 'horloges': 13009, 'réconfort': 24452, 'zapatistes': 30001, 'blame': 2975, 'pourratil': 21413, 'tém': 28569, 'lila': 16053, 'ogc': 19527, 'interactif': 14082, 'dupond': 8414, 'seif': 25452, 'evènement': 10157, 'steak': 26623, 'randonneur': 22830, 'concède': 5584, 'administratifs': 378, 'meaculpa': 17532, 'égal': 30243, 'voué': 29514, 'went': 29737, 'ble': 2999, 'concrets': 5573, 'shoe': 25746, 'accordéon': 185, 'bosch': 3198, 'entretenue': 9851, 'affective': 468, 'détape': 9175, 'monfils': 18131, 'mounir': 18339, 'ghostbusters': 11951, 'believes': 2714, 'intérieurs': 14240, 'consulte': 5890, 'séduisante': 27197, 'nomb': 19069, 'bagage': 2364, 'landerneau': 15341, 'étroitement': 30584, 'onpc': 19604, 'apaisée': 1360, 'recouverte': 23131, 'raco': 22714, 'sorcier': 26224, 'avorté': 2269, 'controls': 6030, 'ascaride': 1729, 'masson': 17394, 'mt': 18389, 'muraille': 18436, 'pleasure': 20999, 'serait': 25571, 'frda': 11439, 'diner': 7736, 'animent': 1175, 'cinq': 4835, 'tiendront': 27766, 'insolent': 13961, 'vase': 28923, 'jacquie': 14491, 'gynécologiques': 12452, 'inhabituelle': 13850, 'simulations': 25888, 'divorcer': 8007, 'extremely': 10430, 'refoulement': 23222, 'montrez': 18203, 'exode': 10279, 'sousestimée': 26352, 'lançons': 15390, 'apprécie': 1489, 'evénement': 10158, 'tentés': 27556, 'escroqué': 9978, 'obtenue': 19421, 'plac': 20888, 'fêtait': 11648, 'mœurs': 18695, 'scintillante': 25340, 'entérine': 9865, 'infligée': 13801, 'dansant': 6986, 'dérobé': 9086, 'couac': 6239, 'berthier': 2786, 'lamie': 15309, 'plombièreslesbains': 21022, 'filiation': 10888, 'derouler': 7369, 'matthias': 17449, 'protégez': 21984, 'indications': 13678, 'grat': 12224, 'satan': 25167, 'enfumage': 9680, 'congolais': 5699, 'potimarron': 21368, 'aubagne': 2000, 'ferjani': 10763, 'alimentée': 807, 'poin': 21097, 'beauxparents': 2673, 'temporarily': 27510, 'figurer': 10872, 'traumatisés': 28221, 'baston': 2579, 'réclamée': 24436, 'rejets': 23296, 'châlons': 4778, 'noté': 19183, 'lutérus': 16637, 'veritas': 29021, 'démesure': 8902, 'saisissant': 24964, 'plancher': 20935, 'stephan': 26636, 'productif': 21734, 'intimider': 14182, 'endommager': 9638, 'buenos': 3587, 'abordés': 82, 'vérifications': 29597, 'étrangler': 30577, 'rouquine': 24220, 'cynthia': 6746, 'artificiels': 1707, 'antécédents': 1342, 'hamza': 12664, 'hypertension': 13163, 'lhypocrisie': 15934, 'intercommunalité': 14088, 'ainsi': 667, 'abraham': 89, 'jouvence': 14771, 'csc': 6634, 'dexpert': 7527, 'mouchoirs': 18328, 'épi': 30420, 'quickly': 22621, 'pourrezvous': 21416, 'redoutables': 23192, 'apercevoir': 1366, 'satanic': 25168, 'épidémiologique': 30428, 'qwant': 22670, 'déclarant': 8598, 'lame': 15303, 'hpv': 13068, 'prolifique': 21831, 'terrorise': 27603, 'touching': 27970, 'diacre': 7596, 'étincelles': 30550, 'dre': 8313, 'remain': 23377, 'unter': 28686, 'winslet': 29811, 'botino': 3211, 'soutenant': 26364, 'amm': 1021, 'eurusd': 10126, 'bags': 2373, 'murdoch': 18443, 'araignées': 1527, 'souteneznous': 26366, 'gibaud': 11957, 'émeutiers': 30365, 'profitons': 21776, 'lexcellente': 15854, 'cea': 4215, 'mattarella': 17445, 'stefanos': 26630, 'tsitsipas': 28431, 'extérieurs': 10443, 'cohnbendit': 5113, 'levy': 15844, 'rolling': 24137, 'drugs': 8366, 'embarquez': 9484, 'interro': 14143, 'consistait': 5823, 'chevallier': 4612, 'tel': 27489, 'credo': 6442, 'traitait': 28112, 'lillusion': 16064, 'houlié': 13053, 'supportérisme': 26947, 'vignali': 29180, 'roquettes': 24178, 'mystérieusement': 18515, 'citizens': 4882, 'renforcent': 23506, 'mome': 18097, 'thyroïde': 27733, 'gaillard': 11698, 'naturalisation': 18814, 'goulag': 12122, 'reblochon': 23018, 'racisés': 22711, 'lavantgarde': 15572, 'psychodrame': 22274, 'épices': 30424, 'décapiter': 8542, 'coordonnée': 6104, 'anglophone': 1149, 'dns': 8033, 'holocauste': 12942, 'gentlemen': 11906, 'giornata': 11988, 'glacés': 12025, 'relationship': 23327, 'faitesle': 10547, 'décidera': 8583, 'transnationale': 28189, 'yt': 29987, 'déversés': 9264, 'garden': 11771, 'meaning': 17535, 'étudient': 30594, 'atar': 1877, 'prat': 21493, 'marocaines': 17287, 'r1': 22671, 'r2': 22672, 'galliard': 11719, 'euphorie': 10100, 'matériau': 17455, 'instar': 14010, 'lattend': 15514, 'scrolls': 25369, 'parrainer': 20169, 'intraitable': 14197, 'nostalgiques': 19157, 'veines': 28956, 'congressman': 5704, 'dépargne': 8975, 'conspirationnistes': 5846, 'aparté': 1364, 'amiante': 1004, 'dherbe': 7553, 'seriez': 25595, 'lupin': 16616, 'evry': 10156, 'rugbyman': 24291, 'artères': 1720, 'infox': 13830, 'pédagogiques': 22435, 'dathlétisme': 7067, 'fami': 10578, 'self': 25465, 'yolande': 29960, 'deps': 7348, 'caillassé': 3782, 'scrabble': 25364, 'slips': 25998, 'compliquer': 5441, 'variés': 28915, 'dévorer': 9279, 'exfemme': 10241, 'baigner': 2381, 'voilées': 29409, 'hanks': 12677, 'compacte': 5390, 'gouvern': 12138, 'ev': 10132, 'pute': 22384, 'asean': 1735, 'ignorés': 13324, 'hum': 13090, 'therapy': 27674, 'anny': 1232, 'premièr': 21525, 'sinspirer': 25923, 'palette': 19964, 'vantait': 28896, 'braquée': 3392, 'capit': 3958, 'martinet': 17335, 'enregistrer': 9745, 'innombrables': 13893, 'bed': 2683, 'réfute': 24508, 'étouffé': 30570, 'colliers': 5184, 'maindœuvre': 16940, 'anything': 1352, 'wo': 29827, 'quattendezvous': 22572, 'mira': 17940, 'astrophysicien': 1864, 'achetée': 252, 'dagriculteurs': 6866, 'saturdays': 25191, 'savant': 25239, 'vuole': 29568, 'èmes': 30068, 'lapparition': 15405, 'cendrillon': 4247, 'mrs': 18384, 'finesse': 10947, 'autrichiens': 2179, 'fcfa': 10708, 'panchir': 19983, 'limplantation': 16101, 'étonne': 30564, 'weitere': 29727, 'raveparty': 22960, 'deman': 7241, 'ldna': 15622, 'gazeuse': 11849, 'gaspiller': 11806, 'amenés': 995, 'renommée': 23523, 'artisanale': 1710, 'extended': 10408, 'plait': 20930, 'capucin': 3989, 'striptease': 26728, 'encouragée': 9621, 'fuitent': 11547, 'shaman': 25707, 'cidre': 4819, 'nudité': 19263, 'tentée': 27555, 'worldwide': 29859, 'soutenue': 26370, 'raisonnables': 22783, 'dude': 8386, 'sugar': 26867, 'porteconteneurs': 21266, 'contestable': 5944, 'ratio': 22939, 'colombienne': 5217, 'marseillaises': 17320, 'symptomatiques': 27132, 'aspects': 1753, 'mimai': 17876, 'benedetta': 2736, 'amiénois': 1020, 'mét': 18650, 'jetzt': 14631, 'intouchable': 14189, 'memoriam': 17590, 'blabla': 2960, 'régresse': 24541, 'décarbonation': 8545, 'flamants': 11014, 'sabri': 24830, 'potion': 21369, 'jabs': 14478, 'skye': 25981, 'brouilleur': 3521, 'insider': 13955, 'saintjeandebraye': 24932, 'perpétrés': 20554, 'espagnecoronavirus': 9983, 'cuisses': 6658, 'replays': 23593, 'lénigme': 16776, 'obligées': 19385, 'inspired': 13978, 'jeannette': 14590, 'bougrab': 3247, 'deeper': 7182, 'eue': 10095, 'lagerfeld': 15229, 'pujadas': 22341, 'avs': 2276, 'burn': 3630, 'github': 12006, 'eight': 9412, 'cigognes': 4825, 'prada': 21486, 'navas': 18837, 'arctic': 1562, 'everton': 10145, 'pédiatres': 22437, 'wasquehal': 29671, 'kemi': 14980, 'seba': 25395, 'liberty': 15962, 'vulga': 29559, 'camerounais': 3851, 'sereine': 25583, 'lirlande': 16229, 'cheltenham': 4577, 'opium': 19629, 'savo': 25253, 'créées': 6629, 'vivra': 29379, 'gonzalez': 12092, 'linfidélité': 16143, 'quisraël': 22634, 'stupéfaction': 26756, 'idéologues': 13305, 'rebel': 23013, 'etudiants': 10092, 'accumule': 218, 'designers': 7390, 'tango': 27375, 'cahors': 3780, 'essayait': 10017, 'lindon': 16133, 'valorisé': 28872, 'raoul': 22850, 'observées': 19405, 'ending': 9633, 'tattoo': 27427, 'clandestines': 4928, 'loir': 16383, 'épanouir': 30409, 'vigie': 29175, 'assoc': 1808, 'predicts': 21514, 'inachevée': 13548, 'enthousiaste': 9802, 'portaient': 21259, 'égouts': 30256, 'ens': 9755, 'conjoints': 5713, 'pourraientils': 21409, 'incendiés': 13587, 'issa': 14429, 'révoqué': 24778, 'fourmi': 11303, 'dorlando': 8193, 'durcies': 8430, 'défait': 8730, 'contradictoire': 5988, 'achevée': 257, 'envoûtant': 9913, 'websites': 29707, 'dhumanité': 7577, 'saggrave': 24888, 'prestataire': 21577, 'vélib': 29585, 'prozent': 22035, 'bannie': 2470, 'n1m': 18697, 'capillaire': 3957, 'svetlana': 27098, 'nonbinaire': 19092, 'répondait': 24618, 'literally': 16258, 'cr7': 6404, 'épaule': 30414, 'séchapper': 27179, 'migranten': 17809, 'bordelaises': 3187, 'massacrés': 17384, 'proximus': 22032, 'réinventé': 24573, 'mule': 18401, 'enix': 9707, 'ges': 11928, 'covering': 6363, 'lines': 16140, 'souhaitezvous': 26297, 'baffie': 2362, 'rassemblant': 22911, 'retirant': 23818, 'loves': 16531, 'dali': 6896, 'nocivité': 19047, 'grossi': 12314, 'aiea': 636, 'website': 29706, 'modiano': 18051, 'déodorants': 8970, 'susp': 27065, 'soucie': 26265, 'enrichit': 9752, 'découte': 8664, 'pirogue': 20845, 'comptant': 5498, 'pnl': 21069, 'maghrébine': 16895, 'éclectique': 30136, 'dauron': 7097, 'lorsquelle': 16463, 'dépollution': 9033, 'sévices': 27273, 'purchase': 22369, 'territorial': 27597, 'doccupation': 8041, 'motors': 18316, 'sanguins': 25094, 'grenoblois': 12270, 'réalisez': 24390, 'antiinflammatoires': 1294, 'viagra': 29094, 'signifient': 25833, 'passerait': 20267, 'sind': 25899, 'speaking': 26430, 'évelyne': 30620, 'delhaize': 7217, 'frau': 11427, 'ressorts': 23754, 'ste': 26622, 'alarmante': 712, 'toi': 27860, 'rése': 24655, 'ambulance': 981, 'organique': 19722, 'rénovée': 24592, 'lhist': 15910, 'allahu': 822, 'murders': 18442, 'représentée': 23660, 'tartine': 27413, 'coke': 5129, 'arsène': 1690, 'harbor': 12694, 'negrifirmanpr': 18878, 'calorique': 3826, 'vanne': 28894, 'continuons': 5971, 'daminata': 6927, 'rapidly': 22867, 'préoccupent': 22133, 'féminismes': 11638, 'permets': 20540, 'tee': 27480, 'epuration': 9926, 'combattante': 5266, 'kawaii': 14963, 'spirits': 26463, 'diplômé': 7799, 'archaïque': 1544, 'inéligibilité': 14324, 'lavenue': 15579, 'derni': 7361, 'précipité': 22061, 'uzi': 28777, 'dauschwitz': 7098, 'ers': 9952, 'campagn': 3864, 'watches': 29675, 'lied': 16017, 'settimana': 25647, 'cagoule': 3775, 'bluffant': 3058, 'narratif': 18769, 'certified': 4315, 'diffusées': 7670, 'desnoix': 7392, 'soumises': 26321, 'européiste': 10122, 'elena': 9437, 'concurrente': 5582, 'verveine': 29068, 'récoltes': 24440, 'prôner': 22249, 'ovocytes': 19896, 'chocolaterie': 4687, 'marriage': 17313, 'débandade': 8486, 'darticle': 7041, 'noch': 19042, 'déclencherait': 8613, 'incontrôlable': 13641, 'théâtrale': 27754, 'dépouillement': 9045, 'inclassable': 13605, 'perdez': 20509, 'nonretour': 19099, 'exulte': 10444, 'dexistence': 7525, 'haben': 12570, 'caverivière': 4193, 'buttigieg': 3655, 'transphobe': 28194, 'encense': 9601, 'prodotti': 21727, 'interprofessionnelle': 14136, 'laits': 15269, 'éducatives': 30240, 'ennuie': 9724, 'nuno': 19290, 'santo': 25113, 'boot': 3178, 'azéma': 2307, 'womans': 29836, 'daménagement': 6938, 'bidons': 2842, 'collégiale': 5200, 'einem': 9417, 'abbeville': 34, 'lultradroite': 16590, 'util': 28753, 'lespacetemps': 15792, 'ampoules': 1040, 'lintolérance': 16194, 'éjaculation': 30264, 'tvtipps': 28499, 'saturés': 25194, 'conjonction': 5714, 'lesson': 15805, 'énergique': 30390, 'dimmenses': 7715, 'explicitement': 10307, 'visionnage': 29311, 'marron': 17314, 'riner': 24001, 'appartenir': 1402, 'darm': 7029, 'significativement': 25831, 'grossièrement': 12317, 'nhésite': 18963, 'ludivine': 16573, 'ignorait': 13314, 'ardem': 1564, 'smashandgrab': 26012, 'enquêt': 9733, 'tenants': 27521, 'exigeons': 10256, 'latelier': 15500, 'graphorama': 12219, 'dérivé': 9082, 'appréciée': 1494, 'bannière': 2477, 'nathan': 18792, 'vandenberghe': 28888, 'devr': 7513, 'joly': 14701, 'qual': 22534, 'distribuent': 7960, 'erronée': 9951, 'yuan': 29988, 'meadows': 17533, 'cogne': 5108, 'tenez': 27534, 'remportez': 23453, 'jünger': 14912, 'diamètre': 7610, 'flavien': 11039, 'martigues': 17332, 'poteaux': 21359, 'tales': 27358, 'larmistice': 15450, 'svod': 27099, 'enthousiastes': 9803, 'instantanémen': 14007, 'bike': 2872, 'orbit': 19683, 'sédentarité': 27193, 'cuvée': 6721, 'forcées': 11216, 'gérants': 12529, 'hébergés': 13186, 'lincarnation': 16116, 'musicienne': 18468, 'concocte': 5566, 'détonnant': 9216, 'harper': 12714, 'résistances': 24684, 'improbables': 13520, 'détectées': 9186, 'cargaison': 4028, 'ixelles': 14468, 'mordue': 18249, 'hôteliers': 13229, 'déta': 9162, 'dénonçaient': 8965, 'lembauche': 15709, 'regierung': 23262, 'craqué': 6428, 'trouvaient': 28379, 'moisson': 18082, 'masturber': 17401, 'youssef': 29976, 'lamb': 15294, 'gut': 12425, 'prevent': 21588, 'humoristique': 13121, 'surprisingly': 27019, 'palmade': 19970, 'tacler': 27312, 'freed': 11447, 'enrichir': 9751, 'entering': 9793, 'louisiane': 16504, 'accounts': 192, 'gaîté': 11857, 'bron': 3501, 'décologie': 8632, 'creative': 6440, 'controlled': 6029, 'loved': 16527, 'flambé': 11022, 'linquiétante': 16168, 'administré': 384, 'colombia': 5213, 'edwy': 9357, 'aljazeera': 818, 'styliste': 26764, 'garfield': 11790, 'maguire': 16923, 'reacts': 22999, 'forains': 11204, 'insultent': 14043, 'cuvette': 6720, 'approach': 1466, 'inconscient': 13635, 'scalpers': 25278, 'gabegie': 11669, 'welcomes': 29731, 'sourcils': 26338, 'deviens': 7496, 'ronds': 24170, 'malek': 17012, 'bennabi': 2745, 'squatte': 26533, 'cheap': 4559, 'lng': 16309, 'israëlcoronavirus': 14426, 'entendues': 9789, 'confronte': 5684, 'marieanne': 17239, 'applaudissent': 1430, 'oeuf': 19481, 'fracas': 11338, 'manifes': 17104, 'safari': 24872, 'galthié': 11725, 'clashs': 4949, 'pullulent': 22347, 'coronafolie': 6165, 'désintox': 9141, 'iraniennes': 14347, 'épilation': 30432, 'conventionnelle': 6057, 'laccouchement': 15163, 'annemasse': 1192, 'werner': 29741, 'blanchir': 2986, 'exploitant': 10321, 'officialisé': 19506, 'hollandais': 12934, 'arrosée': 1673, 'chau': 4534, 'arms': 1610, 'mercre': 17665, 'wrote': 29876, 'shrinkflation': 25771, 'délizabeth': 8865, 'aïcha': 2320, 'plasticien': 20964, 'meglio': 17562, 'fictif': 10841, 'rame': 22814, 'réaffirmé': 24371, 'las': 15471, 'assistante': 1796, 'métropolitain': 18677, 'dabo': 6812, 'allégeance': 884, 'halluin': 12643, 'benedict': 2738, 'cumberbatch': 6686, 'delayed': 7211, 'létiquette': 16810, 'militairement': 17838, 'alphonse': 907, 'torrent': 27930, 'resignation': 23702, 'antidépresseurs': 1285, 'impartial': 13447, 'structurel': 26734, 'limaginaire': 16072, 'lig': 16034, 'intrigant': 14199, 'avancent': 2202, 'concerned': 5544, 'daventure': 7119, 'la10': 15133, 'jeûner': 14646, 'dynamiser': 8470, 'ratajkowski': 22931, 'thicke': 27689, 'ing': 13838, 'allezy': 847, 'seronsnous': 25606, 'cordée': 6153, 'piqués': 20832, 'voudra': 29495, 'édit': 30220, 'cascades': 4096, 'dinterprétation': 7771, 'aquaman': 1516, 'industrial': 13722, 'améri': 1065, 'bachelier': 2338, 'mondo': 18129, 'loans': 16313, 'embryons': 9505, 'salarme': 24997, 'unions': 28656, 'c2': 3726, 'infliger': 13799, 'exposent': 10362, 'lacroix': 15177, 'flicage': 11057, 'combativité': 5263, 'participait': 20194, 'nounou': 19189, 'zoë': 30042, 'marta': 17324, 'paysanne': 20387, 'chadwick': 4354, 'pointer': 21103, 'idris': 13292, 'elba': 9424, 'communiqués': 5373, 'érotique': 30496, 'shym': 25776, 'lamélioration': 15317, 'alençon': 744, 'centresvilles': 4281, 'interministériel': 14107, 'brit': 3483, 'mouammar': 18321, 'nightmare': 18993, 'strategic': 26695, 'reserves': 23697, 'aoc': 1353, 'sentinelles': 25551, 'escalier': 9961, 'bagne': 2370, 'charisme': 4495, 'ory': 19786, 'volets': 29437, 'ressemblance': 23735, 'jetant': 14624, 'tranchées': 28140, 'arrachés': 1641, 'procède': 21717, 'meurice': 17733, 'viandes': 29096, 'orbital': 19684, 'starship': 26589, 'works': 29856, 'tirées': 27825, 'temmène': 27500, 'collage': 5156, 'hajj': 12629, 'simultanément': 25891, 'fracasse': 11340, 'floods': 11072, 'breach': 3406, 'lagroalimentaire': 15235, 'comprimé': 5487, 'catholicisme': 4154, 'oran': 19679, 'nonbinaires': 19093, 'amadou': 944, 'existerait': 10273, 'milandes': 17825, 'affiner': 482, 'leila': 15699, 'illuminé': 13356, 'bruyne': 3552, 'mentions': 17642, 'apaisement': 1357, 'tait': 27343, 'può': 22397, 'outrance': 19852, 'repenti': 23588, 'reconn': 23101, 'doumbia': 8256, 'amér': 1064, 'bénéficiant': 3696, 'abolie': 61, 'kitchen': 15059, 'bonnard': 3153, 'exfiltrés': 10242, 'aurora': 2086, 'ecuador': 9336, 'kena': 14983, 'abusée': 125, 'dangélique': 6963, 'égalitaire': 30246, 'survivors': 27048, 'blablabla': 2961, 'ciblage': 4806, 'vaciller': 28814, 'poignants': 21087, 'youpi': 29972, 'lutiliser': 16629, 'prolongations': 21834, 'branlebas': 3382, 'vittoria': 29360, 'freiné': 11458, 'confisqué': 5660, 'lambition': 15301, 'lyonnaises': 16664, 'alléchante': 880, 'warrior': 29663, 'profe': 21751, 'lendométriose': 15727, 'diffusait': 7659, 'fléaux': 11110, 'épiphanie': 30440, 'haziza': 12768, 'toxicité': 28039, 'tracer': 28053, 'doxford': 8278, 'attacher': 1908, 'pathologies': 20313, 'nordvpn': 19127, 'prado': 21487, 'ki': 15015, 'éthiopien': 30542, 'deelv': 7180, 'plantés': 20954, 'ajustement': 699, 'pandemie': 19988, 'gallienne': 11720, 'comptés': 5510, 'padre': 19927, 'chamboule': 4387, 'drames': 8302, 'funéraires': 11574, 'lèche': 16682, 'sindignent': 25901, 'evacuation': 10134, 'enrico': 9753, 'dévénements': 9282, 'praises': 21491, 'immunity': 13436, 'crushed': 6579, 'émises': 30372, 'minéraux': 17937, 'thés': 27753, 'connect': 5737, 'تويتر': 30689, 'voyance': 29528, 'medium': 17553, 'fiac': 10821, 'endoctrinement': 9636, 'afroaméricaine': 523, 'gbl': 11860, 'soviétiques': 26404, 'américai': 1067, 'activez': 298, 'string': 26726, 'chameaux': 4392, 'tess': 27618, 'clippers': 5013, 'réutiliser': 24746, 'condor': 5606, 'limit': 16076, 'jugements': 14808, 'sensiblement': 25531, 'donda': 8139, 'destroyer': 7434, 'jarrive': 14546, 'jancovici': 14528, 'girafe': 11993, 'urbanisme': 28706, 'clientes': 4996, 'tumeur': 28456, 'ressortent': 23751, 'redemption': 23171, 'allergique': 843, 'effrayé': 9397, 'lech': 15650, 'mensongère': 17617, 'brave': 3399, 'maigre': 16931, 'vietnamien': 29166, 'poignardés': 21092, 'doutremer': 8266, 'skincare': 25974, 'ronge': 24172, 'aspirent': 1759, 'silo': 25858, 'nuisent': 19270, 'bouffon': 3239, 'représ': 23646, 'saving': 25251, 'theranos': 27673, 'newyorkaise': 18949, 'esclavagiste': 9969, 'diton': 7980, 'vadrouille': 28816, 'dhôtel': 7586, 'volait': 29424, 'bovary': 3332, 'rochesuryon': 24100, 'dév': 9247, 'quelquesuns': 22595, 'otoniel': 19808, 'savants': 25240, 'qualifiant': 22539, 'mollet': 18090, 'corentin': 6155, 'démotion': 8941, 'consultants': 5887, 'mérites': 18646, 'dinner': 7751, 'apprêtent': 1497, 'violenc': 29245, 'réclamait': 24430, 'décart': 8547, 'sceptique': 25299, 'contracter': 5981, 'coudray': 6249, 'défe': 8738, 'galets': 11712, 'présider': 22193, 'enjoint': 9710, 'ipsos': 14337, 'swing': 27105, 'stark': 26582, 'taj': 27345, 'favorites': 10694, 'maraîcher': 17189, 'sélections': 27218, 'nevermind': 18935, 'ovaires': 19884, 'uhd': 28608, 'chaises': 4364, 'décollé': 8631, 'divulgation': 8009, 'dynamiques': 8469, 'décodeurs': 8623, 'odoxa': 19477, 'berges': 2765, 'suprémacistes': 26965, 'édi': 30216, 'rédemption': 24470, 'spécialités': 26520, 'theft': 27668, 'libèrent': 15983, 'honor': 12986, 'exacerbé': 10161, 'belt': 2729, 'lenfermement': 15732, 'gasquet': 11807, 'vergogne': 29019, 'olga': 19554, 'dérangent': 9072, 'frontale': 11500, 'exotiques': 10285, 'fitr': 10994, 'amouranth': 1031, 'aj': 689, 'reconnaitre': 23109, 'quality': 22548, 'obtention': 19419, 'autobiographique': 2127, 'palettes': 19965, 'exilé': 10261, 'complaint': 5424, 'soulage': 26301, 'coûterait': 6390, 'const': 5848, 'tampons': 27371, 'audiovisuelle': 2026, 'lynch': 16655, 'généticienne': 12514, 'io': 14329, 'comer': 5285, 'longtemps': 16414, 'lalvarium': 15290, 'alternée': 931, 'troupeau': 28375, 'hearts': 12794, 'whistle': 29761, 'jm': 14658, 'nonvaccinée': 19105, 'depensespubliques': 7345, 'beautés': 2666, 'bienvenus': 2861, 'lincident': 16120, 'gravé': 12244, 'guardians': 12356, 'doctissimo': 8047, 'tweeté': 28504, 'démantèle': 8884, 'franciliennes': 11384, 'lledo': 16305, 'tradi': 28071, 'aéré': 2317, 'como': 5386, 'choper': 4706, 'affligeant': 492, 'yellow': 29944, 'clapton': 4932, 'embrase': 9501, 'criminalisation': 6473, 'badge': 2358, 'gui': 12383, 'réindustrialiser': 24558, 'loft': 16359, 'silvia': 25862, 'ambiguïté': 973, 'spooky': 26482, 'shirt': 25741, 'tkt': 27849, 'winning': 29809, 'négociateurs': 19336, 'domino': 8126, 'cinéséries': 4844, 'embarrasse': 9488, 'réutilisable': 24744, 'dassurer': 7060, 'minable': 17880, 'conditi': 5598, 'sousentend': 26350, 'donnerait': 8152, 'kratos': 15107, 'muséum': 18485, 'orbiter': 19686, 'basta': 2570, 'bouclée': 3233, 'hunting': 13128, 'violant': 29238, 'alt': 923, 'kierzek': 15023, 'sani': 25095, 'insuffisante': 14040, 'genevoix': 11889, 'intuition': 14210, 'pisser': 20850, 'chers': 4608, 'dannuler': 6978, 'poirson': 21111, 'garou': 11793, 'dressent': 8321, 'baptisés': 2489, 'priés': 21677, 'mégot': 18610, 'sings': 25909, 'chouchous': 4726, 'surveillée': 27031, 'faq': 10609, 'manip': 17119, 'alpiniste': 910, 'stylés': 26770, 'gonna': 12091, 'lemaître': 15707, 'pina': 20802, 'assurancevie': 1834, 'démesuré': 8903, 'sanguine': 25092, 'genesio': 11885, 'règnent': 24357, 'balancé': 2406, 'gus': 12423, 'campements': 3870, 'hé': 13178, 'folies': 11130, 'squatté': 26535, 'cosmic': 6213, 'embauché': 9493, 'bébel': 3679, 'propo': 21904, 'retardataires': 23805, 'auxerre': 2186, 'opportunity': 19632, 'aladha': 706, 'nocibé': 19043, 'teachers': 27456, 'narendra': 18768, 'mute': 18490, 'lively': 16276, 'prénomme': 22125, 'beim': 2697, 'bombardiers': 3124, 'écoulé': 30175, 'causent': 4177, 'cutuli': 6718, 'visait': 29296, 'guatemala': 12358, 'garagiste': 11756, 'questeur': 22607, 'joëlle': 14783, 'reposer': 23616, 'attempts': 1937, 'intégrés': 14225, 'idéales': 13297, 'flames': 11025, 'tuning': 28460, 'battues': 2610, 'écharpe': 30101, 'modélisation': 18061, 'bonneval': 3159, 'vartan': 28921, 'presstalis': 21573, 'meuble': 17728, 'p4': 19911, 'préquel': 22150, 'audois': 2034, 'calcaire': 3799, 'lacheter': 15173, 'chargent': 4482, 'fluffy': 11100, 'papi': 20023, 'roadtrip': 24070, 'bashing': 2554, 'cstar': 6638, 'putins': 22387, 'permettraient': 20546, 'theres': 27676, 'publiera': 22306, 'validés': 28857, 'arkema': 1594, 'cathédrales': 4160, 'plutôt': 21057, 'mercred': 17666, 'offrezvous': 19523, 'béarn': 3677, 'survivent': 27045, 'hainaut': 12622, 'mate': 17408, 'présidentiels': 22191, 'transgender': 28171, 'olympien': 19569, 'différencie': 7675, 'brazilian': 3404, 'dow': 8274, 'hawke': 12761, 'stables': 26552, 'postal': 21330, 'roscosmos': 24180, 'piquet': 20830, 'particule': 20208, 'sapeurs': 25125, 'titiou': 27838, 'grandissant': 12204, 'inquisition': 13916, 'tornade': 27926, 'computer': 5511, 'volteface': 29451, 'rohingyas': 24125, 'nippon': 19013, 'tentaculaire': 27543, 'drogué': 8344, 'diagnosis': 7597, 'négationnistes': 19328, 'exhorté': 10249, 'disqueuse': 7929, 'remarks': 23381, 'genshin': 11898, 'akrout': 702, 'arrives': 1660, 'artists': 1718, 'phobies': 20709, 'toulousains': 27988, 'fustigent': 11592, 'ensembles': 9769, 'excandidat': 10177, 'éveiller': 30619, 'thermes': 27678, 'croît': 6556, 'value': 28875, 'marionnette': 17258, 'grignoter': 12281, 'touj': 27977, 'guillotine': 12401, 'prévoyant': 22231, 'wajdi': 29625, 'mouawad': 18322, 'logé': 16376, 'tuant': 28436, 'tap': 27385, 'investie': 14270, 'déchec': 8566, 'prove': 22000, 'antimacron': 1299, 'dégagé': 8793, 'tampon': 27370, 'discriminer': 7863, 'dendométriose': 7291, 'kader': 14921, 'pound': 21393, 'copier': 6115, 'nids': 18984, 'kémi': 15125, 'laviation': 15582, 'émancipation': 30352, 'stagflation': 26559, 'rouverte': 24234, 'laccompagnement': 15161, 'yonne': 29962, 'fuellmich': 11537, 'dear': 7149, 'coppola': 6121, 'habité': 12599, 'optimisation': 19652, 'dobserver': 8036, 'ruche': 24278, 'governors': 12160, 'fiumorbu': 10995, 'résidant': 24671, 'ferveur': 10799, 'antiquité': 1310, 'wagon': 29620, 'touches': 27968, 'angry': 1155, 'mama': 17053, 'chill': 4651, 'parcel': 20075, 'remplaceront': 23436, 'skis': 25978, 'contravention': 6002, 'raccourci': 22685, 'wonka': 29842, 'fresques': 11466, 'veto': 29078, 'snp': 26039, 'lenoir': 15741, 'microbes': 17779, 'friches': 11472, 'lappelle': 15408, 'fog': 11120, 'duplex': 8412, 'obscène': 19393, 'mukwege': 18400, 'didée': 7636, 'reelection': 23206, 'dantenne': 6997, 'kast': 14956, 'steht': 26631, 'causing': 4181, 'perfectly': 20524, 'webcam': 29702, 'alertemétéo': 753, 'biotechs': 2916, 'parkland': 20133, 'sociedad': 26066, 'losers': 16475, 'dintérim': 7775, 'freire': 11459, 'coldplay': 5134, 'ismaël': 14406, 'soulever': 26306, 'assaillants': 1764, 'abandonnant': 14, 'nevada': 18933, 'désobéir': 9147, 'jécoute': 14901, 'parvenu': 20236, 'rongé': 24173, 'mattéo': 17451, 'bodies': 3086, 'regardons': 23256, 'psychothérapeute': 22285, 'incendiaires': 13580, 'silencieuses': 25846, 'skip': 25976, 'patriotique': 20335, 'désengagement': 9117, 'dijonnais': 7692, 'soulèvent': 26316, 'dro': 8340, 'yoka': 29959, 'clans': 4930, 'inimitable': 13856, 'idiote': 13289, 'shared': 25714, 'défiscaliser': 8783, 'boat': 3073, 'estimant': 10052, 'clermontois': 4986, 'ziad': 30020, 'mittel': 17988, 'avérés': 2281, 'gêné': 12543, 'comblé': 5277, 'consternation': 5862, 'endommagé': 9639, 'pleads': 20997, 'sauvegardes': 25221, 'task': 27418, 'végétalisation': 29578, 'trave': 28239, 'butt': 3654, 'frottent': 11509, 'sunir': 26914, 'remorque': 23422, 'hamed': 12657, 'bakayoko': 2395, 'juninho': 14846, 'raie': 22769, 'sabat': 24820, 'outrés': 19857, 'kangourou': 14935, 'involving': 14310, 'org': 19717, 'ballot': 2428, 'drew': 8327, 'officine': 19516, 'sant': 25110, 'attentatsuicide': 1957, 'déficience': 8762, 'péninsule': 22457, 'borloo': 3194, 'joshua': 14722, 'ditch': 7974, 'arrivons': 1663, 'stanford': 26577, 'chahutée': 4357, 'fill': 10891, 'accidentally': 157, 'branly': 3383, 'léquipage': 16797, 'prophètes': 21900, 'législateurs': 16736, 'healing': 12785, 'prédécesseurs': 22089, 'bouteldja': 3322, 'pardelà': 20085, 'traversant': 28244, 'assistons': 1804, 'îlot': 30670, 'nationalités': 18804, 'métamorphosé': 18656, 'individuels': 13712, 'goods': 12096, 'inconditionnel': 13630, 'dauphiné': 7094, 'santos': 25115, 'assurant': 1835, 'villefranchesursaône': 29209, 'culpabilisation': 6670, 'sturm': 26761, 'joug': 14743, 'frappant': 11417, 'épluchures': 30444, 'discount': 7853, 'dépolluer': 9032, 'motivés': 18311, 'villepin': 29213, 'legendary': 15688, 'waves': 29685, 'météore': 18682, 'débordent': 8511, 'chru': 4759, 'changed': 4421, 'vidéoprotection': 29139, 'ufo': 28604, 'millio': 17864, 'creusant': 6447, 'amaury': 957, 'gêner': 12541, 'cailloux': 3786, 'prudhomme': 22040, 'kangourous': 14936, 'inique': 13857, 'bt': 3573, 'répertoire': 24611, 'antiterrorisme': 1324, 'carreau': 4060, 'nigéria': 18994, 'treizième': 28264, 'collaboratif': 5146, 'chalonnaise': 4379, 'meille': 17566, 'campa': 3863, 'thononlesbains': 27706, 'franche': 11375, 'taf': 27322, 'chronicle': 4750, 'loool': 16427, 'décalées': 8540, 'solitaires': 26143, 'sdj': 25383, 'yeah': 29938, 'stronger': 26732, 'dattaquer': 7071, 'saintlazare': 24939, 'slash': 25988, 'requalification': 23675, 'exploités': 10331, 'könnte': 15128, 'isd': 14383, 'saintapollinaire': 24910, 'glorieuse': 12047, 'abritant': 94, 'objectivement': 19372, 'barème': 2544, 'strass': 26694, 'lestomac': 15810, 'ivanka': 14456, 'harder': 12705, 'hybrid': 13145, 'beauco': 2653, 'opiacés': 19625, 'marib': 17237, 'vérifiées': 29602, 'österreichs': 30672, 'déconfiner': 8640, 'infidèles': 13778, 'malheureuse': 17022, 'élaboré': 30269, 'capitaux': 3966, 'pépin': 22468, 'tiroir': 27821, 'lodyssée': 16353, 'perçoit': 20622, 'huppert': 13129, 'toul': 27982, 'humbert': 13106, 'chargées': 4489, 'directement': 7810, 'privatisations': 21656, 'neighborhood': 18882, 'coordonné': 6103, 'dac': 6819, 'embuscade': 9506, 'mory': 18284, 'confondus': 5675, 'natalia': 18787, 'juridiquement': 14860, 'déprogramme': 9056, 'aéronef': 2314, 'chaton': 4530, 'dockers': 8043, 'épilepsie': 30433, 'booste': 3174, 'usés': 28748, 'cardio': 4019, 'imaginait': 13386, 'stratège': 26698, 'émi': 30366, 'promettait': 21849, 'connecticut': 5740, 'tadjikistan': 27321, 'complaisance': 5425, 'torino': 27924, 'trame': 28129, 'lemporter': 15717, 'inférieure': 13837, 'éprouvent': 30461, 'agressées': 595, 'prohibition': 21810, 'teenage': 27482, 'rugbymen': 24292, 'darchives': 7020, 'alvarium': 935, 'surchargés': 26977, 'recommander': 23083, 'flippante': 11064, 'recherchons': 23068, 'wazemmes': 29690, 'chapellesaintluc': 4460, 'télescopes': 28530, 'désillusions': 9136, 'guillemant': 12397, 'mélancolie': 18612, 'envahir': 9869, 'touchantes': 27963, 'séduits': 27200, 'brute': 3545, 'dusage': 8450, 'initiée': 13866, 'réfugier': 24504, 'ferré': 10794, 'ambiant': 970, 'sua': 26781, 'fuller': 11553, 'vidéoludique': 29138, 'jérome': 14902, 'plunge': 21047, 'chloe': 4680, 'dédommager': 8722, 'empoché': 9562, 'séniors': 27228, 'mouchoir': 18327, 'handicaps': 12669, 'nanar': 18741, 'xx': 29911, 'effrayer': 9396, 'entassés': 9779, 'arno': 1630, 'transitoire': 28180, 'vertébrale': 29067, 'sacko': 24850, 'mirror': 17952, 'importée': 13487, 'latour': 15510, 'dentelle': 7321, 'personnalisée': 20585, 'indre': 13719, 'colorful': 5238, 'pavlenski': 20365, 'viewer': 29170, 'oberösterreich': 19365, 'dattaques': 7072, 'supposé': 26950, 'wheel': 29753, 'joyaux': 14779, 'brume': 3530, 'bossé': 3206, 'transparente': 28193, 'ruben': 24275, 'géné': 12487, 'fantaisie': 10600, 'z_caricature': 29996, 'resserrer': 23749, 'wallace': 29634, 'piratées': 20841, 'stabbing': 26547, 'rendezv': 23492, 'bryant': 3554, 'dav': 7110, 'bannissement': 2475, 'dangèle': 6962, 'lasers': 15474, 'clivages': 5021, 'agora': 574, 'sitcom': 25949, 'putains': 22383, 'lançant': 15388, 'dévolution': 9277, 'détacher': 9166, 'exerçant': 10240, 'dingénieurs': 7749, 'goudrons': 12118, 'lesbien': 15783, 'unisexe': 28662, 'piquant': 20825, 'flammarion': 11026, 'chercheuses': 4602, 'dincidents': 7731, 'managériale': 17068, 'jeandominique': 14577, 'ferrée': 10795, 'gîtes': 12546, 'lextinction': 15884, 'milos': 17874, 'hacks': 12606, 'offered': 19493, 'virés': 29290, 'disraéliens': 7930, 'amuser': 1047, 'jockey': 14666, 'perdure': 20516, 'animalière': 1166, 'perçus': 20626, 'pushing': 22380, 'common': 5354, 'discover': 7855, 'évidentes': 30630, 'énigmes': 30398, 'fascinantes': 10627, 'langoisse': 15353, 'contrepoints': 6011, 'spoil': 26472, 'cancérigène': 3905, 'francegéorgie': 11367, 'aung': 2061, 'suu': 27092, 'kyi': 15121, 'aggravées': 554, 'occulte': 19442, 'défendait': 8742, 'laisne': 15252, 'grazie': 12248, 'diarrhée': 7614, 'lexpertise': 15868, 'impératifs': 13533, 'soucier': 26266, 'interrompre': 14154, 'emballe': 9476, 'criticized': 6494, 'corrupt': 6191, 'spaces': 26413, 'vitriol': 29358, 'diplomatic': 7793, 'lendemains': 15726, 'joaquin': 14662, 'bolides': 3111, 'ornella': 19772, 'prendront': 21538, 'partic': 20193, 'rungis': 24309, 'ridiculous': 23979, 'commissaires': 5348, 'recall': 23031, 'gabonais': 11672, 'retweet': 23873, 'profanation': 21750, 'neutres': 18928, 'coworking': 6377, 'tord': 27922, 'abécédaire': 126, 'dalbums': 6888, 'lapologie': 15401, 'réduisant': 24478, 'loyal': 16535, 'jamy': 14526, 'pitbull': 20855, 'indoor': 13717, 'inégal': 14319, 'exdirecteur': 10222, 'prunes': 22042, 'torts': 27937, 'retombées': 23828, 'stressé': 26719, 'couacs': 6240, 'farc': 10612, 'santons': 25114, 'huisclos': 13086, 'renne': 23518, 'juilletaoût': 14824, 'species': 26435, 'sulfureuse': 26904, 'lincompréhension': 16122, 'corne': 6159, 'éjecté': 30265, 'parleton': 20148, 'tikhanovskaïa': 27782, 'ruches': 24279, 'obéi': 19427, 'cantona': 3945, 'défectueux': 8739, 'exchef': 10196, 'vivo': 29377, 'saintmarcel': 24944, 'officialiser': 19505, 'inscrivezvou': 13945, 'obsolètes': 19411, 'dassumer': 7058, 'morad': 18233, 'bombardé': 3125, 'bloctel': 3030, 'batignolles': 2593, 'immer': 13411, 'pumas': 22355, 'construites': 5883, 'coulaines': 6252, 'voilà': 29407, 'tribulations': 28288, 'reiner': 23289, 'éponyme': 30447, 'débordée': 8513, 'sensationnel': 25522, 'dimanc': 7705, 'ratchet': 22932}\n",
            "30702\n"
          ]
        }
      ]
    },
    {
      "cell_type": "markdown",
      "source": [
        "On compare la prédiction Naive avec la prédiction par SVM"
      ],
      "metadata": {
        "id": "H8Bmei4Za_In"
      }
    },
    {
      "cell_type": "code",
      "source": [
        "# fit the training dataset on the NB classifier\n",
        "Naive = naive_bayes.MultinomialNB()\n",
        "Naive.fit(Whole_X_Train,y_train)\n",
        "\n",
        "# predict the labels on validation dataset\n",
        "predictions_NB_train = Naive.predict(Whole_X_Train)\n",
        "predictions_NB_test = Naive.predict(Whole_X_Test)\n",
        "\n",
        "# Use accuracy_score function to get the accuracy\n",
        "print(\"Naive Bayes Accuracy Score Train -> \",accuracy_score(predictions_NB_train, y_train)*100)\n",
        "print(\"Naive Bayes Accuracy Score Test -> \",accuracy_score(predictions_NB_test, y_test)*100)"
      ],
      "metadata": {
        "id": "AMOS7_ikaej2",
        "colab": {
          "base_uri": "https://localhost:8080/"
        },
        "outputId": "5b474eff-2ef9-4392-9eca-127117eefdfa"
      },
      "execution_count": 203,
      "outputs": [
        {
          "output_type": "stream",
          "name": "stdout",
          "text": [
            "Naive Bayes Accuracy Score Train ->  53.29134033062552\n",
            "Naive Bayes Accuracy Score Test ->  53.153615627948284\n"
          ]
        }
      ]
    },
    {
      "cell_type": "markdown",
      "source": [
        "Vérification de la taille des éléments utiles"
      ],
      "metadata": {
        "id": "RJYiotSrgWhG"
      }
    },
    {
      "cell_type": "code",
      "source": [
        "print(\"X_train.shape :\",X_train.shape, \", X_test.shape :\",X_test.shape, \", Train_X_Tfidf.shape :\",Whole_X_Train.shape, \", Test_X_Tfidf.shape :\",Whole_X_Test.shape)\n",
        "print(\"y_train.shape :\",y_train.shape, \", y_test.shape :\",y_test.shape, \", predictions_NB_Train.shape :\", predictions_NB_train.shape, \", predictions_NB_Test.shape :\", predictions_NB_test.shape)"
      ],
      "metadata": {
        "colab": {
          "base_uri": "https://localhost:8080/"
        },
        "id": "ck9ulf-bSi3b",
        "outputId": "f148f5a4-2817-4084-c5fc-f47094486aaa"
      },
      "execution_count": 204,
      "outputs": [
        {
          "output_type": "stream",
          "name": "stdout",
          "text": [
            "X_train.shape : (432453, 6) , X_test.shape : (144152, 6) , Train_X_Tfidf.shape : (432453, 68491) , Test_X_Tfidf.shape : (144152, 68491)\n",
            "y_train.shape : (432453,) , y_test.shape : (144152,) , predictions_NB_Train.shape : (432453,) , predictions_NB_Test.shape : (144152,)\n"
          ]
        }
      ]
    },
    {
      "cell_type": "markdown",
      "source": [
        "Prédiction par SVM"
      ],
      "metadata": {
        "id": "V3Zj8530bD-c"
      }
    },
    {
      "cell_type": "code",
      "source": [
        "from sklearn.model_selection import RandomizedSearchCV\n",
        "from sklearn.linear_model import LogisticRegression\n",
        "from scipy.stats import uniform"
      ],
      "metadata": {
        "id": "hPZUff4Hg5Le"
      },
      "execution_count": 205,
      "outputs": []
    },
    {
      "cell_type": "code",
      "source": [
        "mcc_scorer = make_scorer(matthews_corrcoef)"
      ],
      "metadata": {
        "id": "BSikQO4c5DqS"
      },
      "execution_count": 206,
      "outputs": []
    },
    {
      "cell_type": "code",
      "source": [
        "logistic = LogisticRegression(solver='liblinear', tol=1e-2, max_iter=200, random_state=42)\n",
        "distributions = dict(C=uniform(loc=0, scale=4), penalty=['l2', 'l1'], class_weight=['balanced', None])\n",
        "\n",
        "# randomized_searchCV\n",
        "\n",
        "# Classifier - Algorithm - SVM\n",
        "# fit the training dataset on the classifier\n",
        "# SVM = svm.SVC(C=1.0, degree=2, gamma='auto', random_state=42, class_weight='balanced')\n",
        "SVM = RandomizedSearchCV(logistic, distributions, scoring=mcc_scorer, random_state=42, verbose=1)\n",
        "\n",
        "SVM.fit(Whole_X_Train,y_train) # predict the labels on validation dataset\n",
        "\n",
        "predictions_SVM_train = SVM.predict(Whole_X_Train) # Use accuracy_score function to get the accuracy\n",
        "predictions_SVM_test = SVM.predict(Whole_X_Test) # Use accuracy_score function to get the accuracy\n",
        "\n",
        "print(\"SVM Accuracy Score Train ->\",accuracy_score(predictions_SVM_train, y_train)*100)\n",
        "print(\"SVM Accuracy Score Test ->\",accuracy_score(predictions_SVM_test, y_test)*100)"
      ],
      "metadata": {
        "id": "EuUtioV9aw8e",
        "colab": {
          "base_uri": "https://localhost:8080/"
        },
        "outputId": "52855363-7150-46c7-fa6c-6fa37cae4797"
      },
      "execution_count": 207,
      "outputs": [
        {
          "output_type": "stream",
          "name": "stdout",
          "text": [
            "Fitting 5 folds for each of 10 candidates, totalling 50 fits\n",
            "SVM Accuracy Score Train -> 88.42093822912548\n",
            "SVM Accuracy Score Test -> 84.4629280204229\n"
          ]
        }
      ]
    },
    {
      "cell_type": "code",
      "source": [
        "# list(predictions_SVM_train)[:25]"
      ],
      "metadata": {
        "id": "aq8UAxChySeu"
      },
      "execution_count": 208,
      "outputs": []
    },
    {
      "cell_type": "markdown",
      "source": [
        "\n",
        "\n",
        "---\n",
        "\n"
      ],
      "metadata": {
        "id": "LxuWpiqul5fx"
      }
    },
    {
      "cell_type": "markdown",
      "source": [
        "Matrices de confusion, elles comparent les données réelles à celles prédites par un modèle."
      ],
      "metadata": {
        "id": "tXDJSmoVlF-x"
      }
    },
    {
      "cell_type": "code",
      "source": [
        "from sklearn.metrics import confusion_matrix, ConfusionMatrixDisplay, classification_report"
      ],
      "metadata": {
        "id": "kFlsniTU1zkA"
      },
      "execution_count": 209,
      "outputs": []
    },
    {
      "cell_type": "code",
      "source": [
        "#matrice de confusion\n",
        "#confrontation entre Y obs. sur l’éch. test et la prédiction\n",
        "# predictions = best_rd_model.predict(df_test)\n",
        "\n",
        "print(\"Matrices de confusion Naive pour les données d'entrainement :\\n\")\n",
        "cm = confusion_matrix(y_train, \n",
        "                      predictions_NB_train, \n",
        "                      labels=Naive.classes_)\n",
        "\n",
        "disp = ConfusionMatrixDisplay(confusion_matrix=cm,\n",
        "                              display_labels=Naive.classes_)\n",
        "disp.plot(cmap=plt.cm.Blues,values_format='g',xticks_rotation='vertical')\n",
        "plt.show()"
      ],
      "metadata": {
        "colab": {
          "base_uri": "https://localhost:8080/",
          "height": 399
        },
        "id": "XbvfjrjP2Sqs",
        "outputId": "1482a45a-560d-4d4e-dd7a-fa25b2f50159"
      },
      "execution_count": 210,
      "outputs": [
        {
          "output_type": "stream",
          "name": "stdout",
          "text": [
            "Matrices de confusion Naive pour les données d'entrainement :\n",
            "\n"
          ]
        },
        {
          "output_type": "display_data",
          "data": {
            "text/plain": [
              "<Figure size 432x288 with 2 Axes>"
            ],
            "image/png": "[encoded data removed]"
          },
          "metadata": {
            "needs_background": "light"
          }
        }
      ]
    },
    {
      "cell_type": "code",
      "source": [
        "print(\"Matrices de confusion Naive pour les données de test :\\n\")\n",
        "cm = confusion_matrix(y_test, \n",
        "                      predictions_NB_test, \n",
        "                      labels=Naive.classes_)\n",
        "\n",
        "disp = ConfusionMatrixDisplay(confusion_matrix=cm,\n",
        "                              display_labels=Naive.classes_)\n",
        "disp.plot(cmap=plt.cm.Blues,values_format='g',xticks_rotation='vertical')\n",
        "plt.show()"
      ],
      "metadata": {
        "colab": {
          "base_uri": "https://localhost:8080/",
          "height": 399
        },
        "id": "n2cUetzu2TJf",
        "outputId": "2be409f4-c643-4a02-f0dd-e50484279401"
      },
      "execution_count": 211,
      "outputs": [
        {
          "output_type": "stream",
          "name": "stdout",
          "text": [
            "Matrices de confusion Naive pour les données de test :\n",
            "\n"
          ]
        },
        {
          "output_type": "display_data",
          "data": {
            "text/plain": [
              "<Figure size 432x288 with 2 Axes>"
            ],
            "image/png": "[encoded data removed]"
          },
          "metadata": {
            "needs_background": "light"
          }
        }
      ]
    },
    {
      "cell_type": "code",
      "source": [
        "print(\"Matrices de confusion SVM pour les données d'entrainement :\\n\")\n",
        "cm = confusion_matrix(y_train, \n",
        "                      predictions_SVM_train, \n",
        "                      labels=SVM.classes_)\n",
        "\n",
        "disp = ConfusionMatrixDisplay(confusion_matrix=cm,\n",
        "                              display_labels=SVM.classes_)\n",
        "disp.plot(cmap=plt.cm.Blues,values_format='g',xticks_rotation='vertical')\n",
        "plt.show()"
      ],
      "metadata": {
        "id": "rVnKnsnh9fh4",
        "colab": {
          "base_uri": "https://localhost:8080/",
          "height": 399
        },
        "outputId": "c3ee5607-fe78-4b3e-ed54-0dd42d32028e"
      },
      "execution_count": 212,
      "outputs": [
        {
          "output_type": "stream",
          "name": "stdout",
          "text": [
            "Matrices de confusion SVM pour les données d'entrainement :\n",
            "\n"
          ]
        },
        {
          "output_type": "display_data",
          "data": {
            "text/plain": [
              "<Figure size 432x288 with 2 Axes>"
            ],
            "image/png": "[encoded data removed]"
          },
          "metadata": {
            "needs_background": "light"
          }
        }
      ]
    },
    {
      "cell_type": "code",
      "source": [
        "print(\"Matrices de confusion SVM pour les données de test :\\n\")\n",
        "cm = confusion_matrix(y_test, \n",
        "                      predictions_SVM_test, \n",
        "                      labels=SVM.classes_)\n",
        "\n",
        "disp = ConfusionMatrixDisplay(confusion_matrix=cm,\n",
        "                              display_labels=SVM.classes_)\n",
        "disp.plot(cmap=plt.cm.Blues,values_format='g',xticks_rotation='vertical')\n",
        "plt.show()"
      ],
      "metadata": {
        "id": "XLCHUHfH2c3B",
        "colab": {
          "base_uri": "https://localhost:8080/",
          "height": 399
        },
        "outputId": "2e67bb0a-16a9-429c-f3ad-23435027ab92"
      },
      "execution_count": 213,
      "outputs": [
        {
          "output_type": "stream",
          "name": "stdout",
          "text": [
            "Matrices de confusion SVM pour les données de test :\n",
            "\n"
          ]
        },
        {
          "output_type": "display_data",
          "data": {
            "text/plain": [
              "<Figure size 432x288 with 2 Axes>"
            ],
            "image/png": "[encoded data removed]"
          },
          "metadata": {
            "needs_background": "light"
          }
        }
      ]
    },
    {
      "cell_type": "markdown",
      "source": [
        "---"
      ],
      "metadata": {
        "id": "bPMT9JMImSjp"
      }
    },
    {
      "cell_type": "markdown",
      "source": [
        "Score des matrices de confusion (compris entre -1 et 1)\n",
        "\n",
        "\n",
        "*   Un résultat proche de 1 indique qu'il n'y a pratiquement que des préditions correctes (les Vrais Positifs et Vrais Négatifs).\n",
        "*   Un résultat proche de -1 indique qu'il n'y a pratiquement que des préditions incorrectes (les Faux Positifs et Faux Négatifs).\n",
        "*   Un résultat proche de 0 indique que les prédictions sont \"aussi fiable qu'un lancé de pièce\".\n",
        "\n"
      ],
      "metadata": {
        "id": "au4boMyAh4n3"
      }
    },
    {
      "cell_type": "code",
      "source": [
        "print(\"Prédiction Naive sur les données d'entrainement :\")\n",
        "matthews_corrcoef(y_train, predictions_NB_train)"
      ],
      "metadata": {
        "colab": {
          "base_uri": "https://localhost:8080/"
        },
        "id": "tVtFQOj23OUO",
        "outputId": "552e56ec-65e7-41d4-b6bb-a7acd2c9d187"
      },
      "execution_count": 214,
      "outputs": [
        {
          "output_type": "stream",
          "name": "stdout",
          "text": [
            "Prédiction Naive sur les données d'entrainement :\n"
          ]
        },
        {
          "output_type": "execute_result",
          "data": {
            "text/plain": [
              "0.3192244548161714"
            ]
          },
          "metadata": {},
          "execution_count": 214
        }
      ]
    },
    {
      "cell_type": "code",
      "source": [
        "print(\"Prédiction Naive sur les données de test :\")\n",
        "matthews_corrcoef(y_test, predictions_NB_test)"
      ],
      "metadata": {
        "colab": {
          "base_uri": "https://localhost:8080/"
        },
        "id": "_RrG811U3NTe",
        "outputId": "c3f8681d-522d-4058-c164-a3300b7b8fe5"
      },
      "execution_count": 215,
      "outputs": [
        {
          "output_type": "stream",
          "name": "stdout",
          "text": [
            "Prédiction Naive sur les données de test :\n"
          ]
        },
        {
          "output_type": "execute_result",
          "data": {
            "text/plain": [
              "0.3163639473426555"
            ]
          },
          "metadata": {},
          "execution_count": 215
        }
      ]
    },
    {
      "cell_type": "code",
      "source": [
        "print(\"Prédiction SVM sur les données d'entrainement :\")\n",
        "matthews_corrcoef(y_train, predictions_SVM_train)"
      ],
      "metadata": {
        "id": "ziewdpzVmJE6",
        "colab": {
          "base_uri": "https://localhost:8080/"
        },
        "outputId": "3487de46-4e84-4e21-b07c-fcd12c541b89"
      },
      "execution_count": 216,
      "outputs": [
        {
          "output_type": "stream",
          "name": "stdout",
          "text": [
            "Prédiction SVM sur les données d'entrainement :\n"
          ]
        },
        {
          "output_type": "execute_result",
          "data": {
            "text/plain": [
              "0.7053739285260281"
            ]
          },
          "metadata": {},
          "execution_count": 216
        }
      ]
    },
    {
      "cell_type": "code",
      "source": [
        "print(\"Prédiction SVM sur les données de test :\")\n",
        "matthews_corrcoef(y_test, predictions_SVM_test)"
      ],
      "metadata": {
        "id": "NbVMlpTf4RBn",
        "colab": {
          "base_uri": "https://localhost:8080/"
        },
        "outputId": "604d5c76-c2e6-432c-f24a-25588af832f5"
      },
      "execution_count": 217,
      "outputs": [
        {
          "output_type": "stream",
          "name": "stdout",
          "text": [
            "Prédiction SVM sur les données de test :\n"
          ]
        },
        {
          "output_type": "execute_result",
          "data": {
            "text/plain": [
              "0.6008047417377914"
            ]
          },
          "metadata": {},
          "execution_count": 217
        }
      ]
    },
    {
      "cell_type": "markdown",
      "source": [
        "\n",
        "\n",
        "---\n",
        "\n"
      ],
      "metadata": {
        "id": "8iUKyte6mhFq"
      }
    },
    {
      "cell_type": "markdown",
      "source": [
        "Résumé des différents scores des modèles :"
      ],
      "metadata": {
        "id": "SMDyLxCiiC7-"
      }
    },
    {
      "cell_type": "code",
      "source": [
        "print(\"Prédiction Naive\")\n",
        "print(\"donnée de train\")\n",
        "print(classification_report(y_train, predictions_NB_train))\n",
        "print(\"donnée de test\")\n",
        "print(classification_report(y_test, predictions_NB_test))"
      ],
      "metadata": {
        "colab": {
          "base_uri": "https://localhost:8080/"
        },
        "id": "Xq0A-QpK3lj-",
        "outputId": "e7158a6b-d39f-4d06-e5cb-b13f47734d36"
      },
      "execution_count": 218,
      "outputs": [
        {
          "output_type": "stream",
          "name": "stdout",
          "text": [
            "Prédiction Naive\n",
            "donnée de train\n",
            "                     precision    recall  f1-score   support\n",
            "\n",
            "site plutôt douteux       0.37      0.95      0.54    122973\n",
            " site plutôt fiable       0.95      0.37      0.53    309480\n",
            "\n",
            "           accuracy                           0.53    432453\n",
            "          macro avg       0.66      0.66      0.53    432453\n",
            "       weighted avg       0.78      0.53      0.53    432453\n",
            "\n",
            "donnée de test\n",
            "                     precision    recall  f1-score   support\n",
            "\n",
            "site plutôt douteux       0.37      0.95      0.53     40950\n",
            " site plutôt fiable       0.95      0.37      0.53    103202\n",
            "\n",
            "           accuracy                           0.53    144152\n",
            "          macro avg       0.66      0.66      0.53    144152\n",
            "       weighted avg       0.78      0.53      0.53    144152\n",
            "\n"
          ]
        }
      ]
    },
    {
      "cell_type": "code",
      "source": [
        "print(\"Prédiction SVM\")\n",
        "print(\"donnée de train\")\n",
        "print(classification_report(y_train, predictions_SVM_train))\n",
        "print(\"donnée de test\")\n",
        "print(classification_report(y_test, predictions_SVM_test))"
      ],
      "metadata": {
        "id": "HqosbBwR8OzP",
        "colab": {
          "base_uri": "https://localhost:8080/"
        },
        "outputId": "92089031-cf01-495f-eb6a-0231adc55f38"
      },
      "execution_count": 219,
      "outputs": [
        {
          "output_type": "stream",
          "name": "stdout",
          "text": [
            "Prédiction SVM\n",
            "donnée de train\n",
            "                     precision    recall  f1-score   support\n",
            "\n",
            "site plutôt douteux       0.86      0.70      0.78    122973\n",
            " site plutôt fiable       0.89      0.96      0.92    309480\n",
            "\n",
            "           accuracy                           0.88    432453\n",
            "          macro avg       0.88      0.83      0.85    432453\n",
            "       weighted avg       0.88      0.88      0.88    432453\n",
            "\n",
            "donnée de test\n",
            "                     precision    recall  f1-score   support\n",
            "\n",
            "site plutôt douteux       0.78      0.63      0.70     40950\n",
            " site plutôt fiable       0.86      0.93      0.90    103202\n",
            "\n",
            "           accuracy                           0.84    144152\n",
            "          macro avg       0.82      0.78      0.80    144152\n",
            "       weighted avg       0.84      0.84      0.84    144152\n",
            "\n"
          ]
        }
      ]
    },
    {
      "cell_type": "markdown",
      "source": [
        "\n",
        "\n",
        "---\n",
        "\n"
      ],
      "metadata": {
        "id": "hvQkE6PenFVR"
      }
    },
    {
      "cell_type": "code",
      "source": [
        "# pd.DataFrame(predictions_SVM)\n",
        "results_train = pd.DataFrame(X_train).reset_index()\n",
        "results_train['predictions_train'] = predictions_SVM_train\n",
        "results_train"
      ],
      "metadata": {
        "id": "ohy0ryEt8O_m",
        "colab": {
          "base_uri": "https://localhost:8080/",
          "height": 641
        },
        "outputId": "33b59bbf-fc47-4088-9387-ee3bd5e3e737"
      },
      "execution_count": 220,
      "outputs": [
        {
          "output_type": "execute_result",
          "data": {
            "text/plain": [
              "         index                                            cleaned  \\\n",
              "0       359570  rt posez questions ménopause docteur geoffroy ...   \n",
              "1        81825  camille lellouche confie violences conjugales ...   \n",
              "2       399755  côte divoire télécardiologie combattre hausse ...   \n",
              "3       423280  chiffres cartes comprendre rapide montée lépid...   \n",
              "4       106554    lamalgame années servi vendre larbitrage vidéo…   \n",
              "...        ...                                                ...   \n",
              "432448   34837                                   rt desident_link   \n",
              "432449  453401  rt lhôpital retient souffle documentaire olivi...   \n",
              "432450  587462  soeur eva annoncée morte réseaux sociaux jazz ...   \n",
              "432451  674441  leurope accueilli desident_number millions dex...   \n",
              "432452  132932  live chef cuistot coacher sylvester standalone...   \n",
              "\n",
              "                                                   tagged  count_followers  \\\n",
              "0       RT_X @BatriceQ_PROPN :_PUNCT Posez_NOUN vos_DE...         341798.0   \n",
              "1       Camille_PROPN Lellouche_PROPN se_PRON confie_V...         415089.0   \n",
              "2       En_ADP Côte_PROPN d'_ADP Ivoire_PROPN ,_PUNCT ...        1416917.0   \n",
              "3       Les_DET chiffres_NOUN et_CCONJ cartes_NOUN pou...        1177354.0   \n",
              "4       @Gregory_Sokol_PROPN L'_PRON amalgame_NOUN aya...         106729.0   \n",
              "...                                                   ...              ...   \n",
              "432448  RT_PROPN @Gouvci_NOUN :_PUNCT https://t.co/64Z...            923.0   \n",
              "432449  RT_DET @lemondeenface_NOUN :_PUNCT \"_PUNCT Qua...         640674.0   \n",
              "432450  Alors_ADV que_SCONJ sa_DET soeur_NOUN Eva_ADJ ...          70481.0   \n",
              "432451  l'_DET Europe_PROPN a_AUX accueilli_VERB 21_NU...          12811.0   \n",
              "432452  Après_ADP le_DET live_NOUN du_DET chef_NOUN cu...          45679.0   \n",
              "\n",
              "        rt_per_followers  fav_per_followers  sentiments    predictions_train  \n",
              "0               0.000018           0.000000         1.0   site plutôt fiable  \n",
              "1               0.000002           0.000000         1.0   site plutôt fiable  \n",
              "2               0.000002           0.000003         1.0  site plutôt douteux  \n",
              "3               0.000004           0.000006         0.0   site plutôt fiable  \n",
              "4               0.000000           0.000000         1.0   site plutôt fiable  \n",
              "...                  ...                ...         ...                  ...  \n",
              "432448          0.033586           0.000000         1.0  site plutôt douteux  \n",
              "432449          0.000020           0.000000         1.0   site plutôt fiable  \n",
              "432450          0.000000           0.000014         1.0   site plutôt fiable  \n",
              "432451          0.000468           0.000312         1.0   site plutôt fiable  \n",
              "432452          0.000000           0.000109         1.0   site plutôt fiable  \n",
              "\n",
              "[432453 rows x 8 columns]"
            ],
            "text/html": [
              "\n",
              "  <div id=\"df-03f5bfa8-0078-4ae0-af95-1e33ddef7445\">\n",
              "    <div class=\"colab-df-container\">\n",
              "      <div>\n",
              "<style scoped>\n",
              "    .dataframe tbody tr th:only-of-type {\n",
              "        vertical-align: middle;\n",
              "    }\n",
              "\n",
              "    .dataframe tbody tr th {\n",
              "        vertical-align: top;\n",
              "    }\n",
              "\n",
              "    .dataframe thead th {\n",
              "        text-align: right;\n",
              "    }\n",
              "</style>\n",
              "<table border=\"1\" class=\"dataframe\">\n",
              "  <thead>\n",
              "    <tr style=\"text-align: right;\">\n",
              "      <th></th>\n",
              "      <th>index</th>\n",
              "      <th>cleaned</th>\n",
              "      <th>tagged</th>\n",
              "      <th>count_followers</th>\n",
              "      <th>rt_per_followers</th>\n",
              "      <th>fav_per_followers</th>\n",
              "      <th>sentiments</th>\n",
              "      <th>predictions_train</th>\n",
              "    </tr>\n",
              "  </thead>\n",
              "  <tbody>\n",
              "    <tr>\n",
              "      <th>0</th>\n",
              "      <td>359570</td>\n",
              "      <td>rt posez questions ménopause docteur geoffroy ...</td>\n",
              "      <td>RT_X @BatriceQ_PROPN :_PUNCT Posez_NOUN vos_DE...</td>\n",
              "      <td>341798.0</td>\n",
              "      <td>0.000018</td>\n",
              "      <td>0.000000</td>\n",
              "      <td>1.0</td>\n",
              "      <td>site plutôt fiable</td>\n",
              "    </tr>\n",
              "    <tr>\n",
              "      <th>1</th>\n",
              "      <td>81825</td>\n",
              "      <td>camille lellouche confie violences conjugales ...</td>\n",
              "      <td>Camille_PROPN Lellouche_PROPN se_PRON confie_V...</td>\n",
              "      <td>415089.0</td>\n",
              "      <td>0.000002</td>\n",
              "      <td>0.000000</td>\n",
              "      <td>1.0</td>\n",
              "      <td>site plutôt fiable</td>\n",
              "    </tr>\n",
              "    <tr>\n",
              "      <th>2</th>\n",
              "      <td>399755</td>\n",
              "      <td>côte divoire télécardiologie combattre hausse ...</td>\n",
              "      <td>En_ADP Côte_PROPN d'_ADP Ivoire_PROPN ,_PUNCT ...</td>\n",
              "      <td>1416917.0</td>\n",
              "      <td>0.000002</td>\n",
              "      <td>0.000003</td>\n",
              "      <td>1.0</td>\n",
              "      <td>site plutôt douteux</td>\n",
              "    </tr>\n",
              "    <tr>\n",
              "      <th>3</th>\n",
              "      <td>423280</td>\n",
              "      <td>chiffres cartes comprendre rapide montée lépid...</td>\n",
              "      <td>Les_DET chiffres_NOUN et_CCONJ cartes_NOUN pou...</td>\n",
              "      <td>1177354.0</td>\n",
              "      <td>0.000004</td>\n",
              "      <td>0.000006</td>\n",
              "      <td>0.0</td>\n",
              "      <td>site plutôt fiable</td>\n",
              "    </tr>\n",
              "    <tr>\n",
              "      <th>4</th>\n",
              "      <td>106554</td>\n",
              "      <td>lamalgame années servi vendre larbitrage vidéo…</td>\n",
              "      <td>@Gregory_Sokol_PROPN L'_PRON amalgame_NOUN aya...</td>\n",
              "      <td>106729.0</td>\n",
              "      <td>0.000000</td>\n",
              "      <td>0.000000</td>\n",
              "      <td>1.0</td>\n",
              "      <td>site plutôt fiable</td>\n",
              "    </tr>\n",
              "    <tr>\n",
              "      <th>...</th>\n",
              "      <td>...</td>\n",
              "      <td>...</td>\n",
              "      <td>...</td>\n",
              "      <td>...</td>\n",
              "      <td>...</td>\n",
              "      <td>...</td>\n",
              "      <td>...</td>\n",
              "      <td>...</td>\n",
              "    </tr>\n",
              "    <tr>\n",
              "      <th>432448</th>\n",
              "      <td>34837</td>\n",
              "      <td>rt desident_link</td>\n",
              "      <td>RT_PROPN @Gouvci_NOUN :_PUNCT https://t.co/64Z...</td>\n",
              "      <td>923.0</td>\n",
              "      <td>0.033586</td>\n",
              "      <td>0.000000</td>\n",
              "      <td>1.0</td>\n",
              "      <td>site plutôt douteux</td>\n",
              "    </tr>\n",
              "    <tr>\n",
              "      <th>432449</th>\n",
              "      <td>453401</td>\n",
              "      <td>rt lhôpital retient souffle documentaire olivi...</td>\n",
              "      <td>RT_DET @lemondeenface_NOUN :_PUNCT \"_PUNCT Qua...</td>\n",
              "      <td>640674.0</td>\n",
              "      <td>0.000020</td>\n",
              "      <td>0.000000</td>\n",
              "      <td>1.0</td>\n",
              "      <td>site plutôt fiable</td>\n",
              "    </tr>\n",
              "    <tr>\n",
              "      <th>432450</th>\n",
              "      <td>587462</td>\n",
              "      <td>soeur eva annoncée morte réseaux sociaux jazz ...</td>\n",
              "      <td>Alors_ADV que_SCONJ sa_DET soeur_NOUN Eva_ADJ ...</td>\n",
              "      <td>70481.0</td>\n",
              "      <td>0.000000</td>\n",
              "      <td>0.000014</td>\n",
              "      <td>1.0</td>\n",
              "      <td>site plutôt fiable</td>\n",
              "    </tr>\n",
              "    <tr>\n",
              "      <th>432451</th>\n",
              "      <td>674441</td>\n",
              "      <td>leurope accueilli desident_number millions dex...</td>\n",
              "      <td>l'_DET Europe_PROPN a_AUX accueilli_VERB 21_NU...</td>\n",
              "      <td>12811.0</td>\n",
              "      <td>0.000468</td>\n",
              "      <td>0.000312</td>\n",
              "      <td>1.0</td>\n",
              "      <td>site plutôt fiable</td>\n",
              "    </tr>\n",
              "    <tr>\n",
              "      <th>432452</th>\n",
              "      <td>132932</td>\n",
              "      <td>live chef cuistot coacher sylvester standalone...</td>\n",
              "      <td>Après_ADP le_DET live_NOUN du_DET chef_NOUN cu...</td>\n",
              "      <td>45679.0</td>\n",
              "      <td>0.000000</td>\n",
              "      <td>0.000109</td>\n",
              "      <td>1.0</td>\n",
              "      <td>site plutôt fiable</td>\n",
              "    </tr>\n",
              "  </tbody>\n",
              "</table>\n",
              "<p>432453 rows × 8 columns</p>\n",
              "</div>\n",
              "      <button class=\"colab-df-convert\" onclick=\"convertToInteractive('df-03f5bfa8-0078-4ae0-af95-1e33ddef7445')\"\n",
              "              title=\"Convert this dataframe to an interactive table.\"\n",
              "              style=\"display:none;\">\n",
              "        \n",
              "  <svg xmlns=\"http://www.w3.org/2000/svg\" height=\"24px\"viewBox=\"0 0 24 24\"\n",
              "       width=\"24px\">\n",
              "    <path d=\"M0 0h24v24H0V0z\" fill=\"none\"/>\n",
              "    <path d=\"M18.56 5.44l.94 2.06.94-2.06 2.06-.94-2.06-.94-.94-2.06-.94 2.06-2.06.94zm-11 1L8.5 8.5l.94-2.06 2.06-.94-2.06-.94L8.5 2.5l-.94 2.06-2.06.94zm10 10l.94 2.06.94-2.06 2.06-.94-2.06-.94-.94-2.06-.94 2.06-2.06.94z\"/><path d=\"M17.41 7.96l-1.37-1.37c-.4-.4-.92-.59-1.43-.59-.52 0-1.04.2-1.43.59L10.3 9.45l-7.72 7.72c-.78.78-.78 2.05 0 2.83L4 21.41c.39.39.9.59 1.41.59.51 0 1.02-.2 1.41-.59l7.78-7.78 2.81-2.81c.8-.78.8-2.07 0-2.86zM5.41 20L4 18.59l7.72-7.72 1.47 1.35L5.41 20z\"/>\n",
              "  </svg>\n",
              "      </button>\n",
              "      \n",
              "  <style>\n",
              "    .colab-df-container {\n",
              "      display:flex;\n",
              "      flex-wrap:wrap;\n",
              "      gap: 12px;\n",
              "    }\n",
              "\n",
              "    .colab-df-convert {\n",
              "      background-color: #E8F0FE;\n",
              "      border: none;\n",
              "      border-radius: 50%;\n",
              "      cursor: pointer;\n",
              "      display: none;\n",
              "      fill: #1967D2;\n",
              "      height: 32px;\n",
              "      padding: 0 0 0 0;\n",
              "      width: 32px;\n",
              "    }\n",
              "\n",
              "    .colab-df-convert:hover {\n",
              "      background-color: #E2EBFA;\n",
              "      box-shadow: 0px 1px 2px rgba(60, 64, 67, 0.3), 0px 1px 3px 1px rgba(60, 64, 67, 0.15);\n",
              "      fill: #174EA6;\n",
              "    }\n",
              "\n",
              "    [theme=dark] .colab-df-convert {\n",
              "      background-color: #3B4455;\n",
              "      fill: #D2E3FC;\n",
              "    }\n",
              "\n",
              "    [theme=dark] .colab-df-convert:hover {\n",
              "      background-color: #434B5C;\n",
              "      box-shadow: 0px 1px 3px 1px rgba(0, 0, 0, 0.15);\n",
              "      filter: drop-shadow(0px 1px 2px rgba(0, 0, 0, 0.3));\n",
              "      fill: #FFFFFF;\n",
              "    }\n",
              "  </style>\n",
              "\n",
              "      <script>\n",
              "        const buttonEl =\n",
              "          document.querySelector('#df-03f5bfa8-0078-4ae0-af95-1e33ddef7445 button.colab-df-convert');\n",
              "        buttonEl.style.display =\n",
              "          google.colab.kernel.accessAllowed ? 'block' : 'none';\n",
              "\n",
              "        async function convertToInteractive(key) {\n",
              "          const element = document.querySelector('#df-03f5bfa8-0078-4ae0-af95-1e33ddef7445');\n",
              "          const dataTable =\n",
              "            await google.colab.kernel.invokeFunction('convertToInteractive',\n",
              "                                                     [key], {});\n",
              "          if (!dataTable) return;\n",
              "\n",
              "          const docLinkHtml = 'Like what you see? Visit the ' +\n",
              "            '<a target=\"_blank\" href=https://colab.research.google.com/notebooks/data_table.ipynb>data table notebook</a>'\n",
              "            + ' to learn more about interactive tables.';\n",
              "          element.innerHTML = '';\n",
              "          dataTable['output_type'] = 'display_data';\n",
              "          await google.colab.output.renderOutput(dataTable, element);\n",
              "          const docLink = document.createElement('div');\n",
              "          docLink.innerHTML = docLinkHtml;\n",
              "          element.appendChild(docLink);\n",
              "        }\n",
              "      </script>\n",
              "    </div>\n",
              "  </div>\n",
              "  "
            ]
          },
          "metadata": {},
          "execution_count": 220
        }
      ]
    },
    {
      "cell_type": "code",
      "source": [
        "# pd.DataFrame(predictions_SVM)\n",
        "results_test = pd.DataFrame(X_test).reset_index()\n",
        "results_test['predictions_test'] = predictions_SVM_test\n",
        "results_test"
      ],
      "metadata": {
        "id": "rNOWbsmCEV93",
        "colab": {
          "base_uri": "https://localhost:8080/",
          "height": 641
        },
        "outputId": "14d545f4-7045-4bf2-acaf-805fa03455ed"
      },
      "execution_count": 221,
      "outputs": [
        {
          "output_type": "execute_result",
          "data": {
            "text/plain": [
              "         index                                            cleaned  \\\n",
              "0       251182  rt assises ehpad charge dune loi dune réforme ...   \n",
              "1       248736  ps desident_date desident_date jeux ps4 ps5 « ...   \n",
              "2       527178      🔴 desident_number euros ’amende desident_link   \n",
              "3       411402  fc barcelone annoncé lorganisation dun match a...   \n",
              "4       174052  home office bussing asylum seekers who cross c...   \n",
              "...        ...                                                ...   \n",
              "144147   56053  dirigeants parti démocrate craignent trump cau...   \n",
              "144148   16360  modèle défense européenne gagnant coups deside...   \n",
              "144149  714415  bérénice levet «les français appris ’aimer» de...   \n",
              "144150  404200  assises ’aube «’attends justice vérité réparat...   \n",
              "144151  148096  rt top desident_number sites féminins france d...   \n",
              "\n",
              "                                                   tagged  count_followers  \\\n",
              "0       RT_X @MartineauJ_C_PROPN :_PUNCT @BrigBourguig...           6123.0   \n",
              "1       PS_PROPN Plus_ADV en_ADP novembre_NOUN 2021_NU...          86904.0   \n",
              "2       🔴_VERB Ainsi_ADV que_SCONJ 375.000_NUM euros_N...        2475817.0   \n",
              "3       Le_DET FC_PROPN Barcelone_PROPN a_AUX annoncé_...        5693131.0   \n",
              "4       Home_NOUN Office_X bussing_X asylum_X seekers_...       10039038.0   \n",
              "...                                                   ...              ...   \n",
              "144147  \"_PUNCT Les_DET dirigeants_NOUN du_DET Parti_P...           7523.0   \n",
              "144148  #_NOUN MBDA_PROPN ,_PUNCT le_DET modèle_NOUN d...          50350.0   \n",
              "144149  Bérénice_PROPN Levet_PROPN :_PUNCT «_ADP Les_D...          28757.0   \n",
              "144150  Assises_NOUN de_ADP l’_DET Aube_NOUN :_PUNCT «...          12193.0   \n",
              "144151  RT_X @HK_Paris_PROPN :_PUNCT #_NOUN Medias_PRO...          13870.0   \n",
              "\n",
              "        rt_per_followers  fav_per_followers  sentiments    predictions_test  \n",
              "0               0.001143           0.000000         1.0  site plutôt fiable  \n",
              "1               0.000000           0.000000         1.0  site plutôt fiable  \n",
              "2               0.000005           0.000016         1.0  site plutôt fiable  \n",
              "3               0.000004           0.000032         1.0  site plutôt fiable  \n",
              "4               0.000003           0.000003         0.0  site plutôt fiable  \n",
              "...                  ...                ...         ...                 ...  \n",
              "144147          0.000266           0.000000         1.0  site plutôt fiable  \n",
              "144148          0.000020           0.000060         1.0  site plutôt fiable  \n",
              "144149          0.000104           0.000035         1.0  site plutôt fiable  \n",
              "144150          0.000000           0.000164         1.0  site plutôt fiable  \n",
              "144151          0.000072           0.000000         1.0  site plutôt fiable  \n",
              "\n",
              "[144152 rows x 8 columns]"
            ],
            "text/html": [
              "\n",
              "  <div id=\"df-e4a64a7d-c765-4a74-850d-149e8b270044\">\n",
              "    <div class=\"colab-df-container\">\n",
              "      <div>\n",
              "<style scoped>\n",
              "    .dataframe tbody tr th:only-of-type {\n",
              "        vertical-align: middle;\n",
              "    }\n",
              "\n",
              "    .dataframe tbody tr th {\n",
              "        vertical-align: top;\n",
              "    }\n",
              "\n",
              "    .dataframe thead th {\n",
              "        text-align: right;\n",
              "    }\n",
              "</style>\n",
              "<table border=\"1\" class=\"dataframe\">\n",
              "  <thead>\n",
              "    <tr style=\"text-align: right;\">\n",
              "      <th></th>\n",
              "      <th>index</th>\n",
              "      <th>cleaned</th>\n",
              "      <th>tagged</th>\n",
              "      <th>count_followers</th>\n",
              "      <th>rt_per_followers</th>\n",
              "      <th>fav_per_followers</th>\n",
              "      <th>sentiments</th>\n",
              "      <th>predictions_test</th>\n",
              "    </tr>\n",
              "  </thead>\n",
              "  <tbody>\n",
              "    <tr>\n",
              "      <th>0</th>\n",
              "      <td>251182</td>\n",
              "      <td>rt assises ehpad charge dune loi dune réforme ...</td>\n",
              "      <td>RT_X @MartineauJ_C_PROPN :_PUNCT @BrigBourguig...</td>\n",
              "      <td>6123.0</td>\n",
              "      <td>0.001143</td>\n",
              "      <td>0.000000</td>\n",
              "      <td>1.0</td>\n",
              "      <td>site plutôt fiable</td>\n",
              "    </tr>\n",
              "    <tr>\n",
              "      <th>1</th>\n",
              "      <td>248736</td>\n",
              "      <td>ps desident_date desident_date jeux ps4 ps5 « ...</td>\n",
              "      <td>PS_PROPN Plus_ADV en_ADP novembre_NOUN 2021_NU...</td>\n",
              "      <td>86904.0</td>\n",
              "      <td>0.000000</td>\n",
              "      <td>0.000000</td>\n",
              "      <td>1.0</td>\n",
              "      <td>site plutôt fiable</td>\n",
              "    </tr>\n",
              "    <tr>\n",
              "      <th>2</th>\n",
              "      <td>527178</td>\n",
              "      <td>🔴 desident_number euros ’amende desident_link</td>\n",
              "      <td>🔴_VERB Ainsi_ADV que_SCONJ 375.000_NUM euros_N...</td>\n",
              "      <td>2475817.0</td>\n",
              "      <td>0.000005</td>\n",
              "      <td>0.000016</td>\n",
              "      <td>1.0</td>\n",
              "      <td>site plutôt fiable</td>\n",
              "    </tr>\n",
              "    <tr>\n",
              "      <th>3</th>\n",
              "      <td>411402</td>\n",
              "      <td>fc barcelone annoncé lorganisation dun match a...</td>\n",
              "      <td>Le_DET FC_PROPN Barcelone_PROPN a_AUX annoncé_...</td>\n",
              "      <td>5693131.0</td>\n",
              "      <td>0.000004</td>\n",
              "      <td>0.000032</td>\n",
              "      <td>1.0</td>\n",
              "      <td>site plutôt fiable</td>\n",
              "    </tr>\n",
              "    <tr>\n",
              "      <th>4</th>\n",
              "      <td>174052</td>\n",
              "      <td>home office bussing asylum seekers who cross c...</td>\n",
              "      <td>Home_NOUN Office_X bussing_X asylum_X seekers_...</td>\n",
              "      <td>10039038.0</td>\n",
              "      <td>0.000003</td>\n",
              "      <td>0.000003</td>\n",
              "      <td>0.0</td>\n",
              "      <td>site plutôt fiable</td>\n",
              "    </tr>\n",
              "    <tr>\n",
              "      <th>...</th>\n",
              "      <td>...</td>\n",
              "      <td>...</td>\n",
              "      <td>...</td>\n",
              "      <td>...</td>\n",
              "      <td>...</td>\n",
              "      <td>...</td>\n",
              "      <td>...</td>\n",
              "      <td>...</td>\n",
              "    </tr>\n",
              "    <tr>\n",
              "      <th>144147</th>\n",
              "      <td>56053</td>\n",
              "      <td>dirigeants parti démocrate craignent trump cau...</td>\n",
              "      <td>\"_PUNCT Les_DET dirigeants_NOUN du_DET Parti_P...</td>\n",
              "      <td>7523.0</td>\n",
              "      <td>0.000266</td>\n",
              "      <td>0.000000</td>\n",
              "      <td>1.0</td>\n",
              "      <td>site plutôt fiable</td>\n",
              "    </tr>\n",
              "    <tr>\n",
              "      <th>144148</th>\n",
              "      <td>16360</td>\n",
              "      <td>modèle défense européenne gagnant coups deside...</td>\n",
              "      <td>#_NOUN MBDA_PROPN ,_PUNCT le_DET modèle_NOUN d...</td>\n",
              "      <td>50350.0</td>\n",
              "      <td>0.000020</td>\n",
              "      <td>0.000060</td>\n",
              "      <td>1.0</td>\n",
              "      <td>site plutôt fiable</td>\n",
              "    </tr>\n",
              "    <tr>\n",
              "      <th>144149</th>\n",
              "      <td>714415</td>\n",
              "      <td>bérénice levet «les français appris ’aimer» de...</td>\n",
              "      <td>Bérénice_PROPN Levet_PROPN :_PUNCT «_ADP Les_D...</td>\n",
              "      <td>28757.0</td>\n",
              "      <td>0.000104</td>\n",
              "      <td>0.000035</td>\n",
              "      <td>1.0</td>\n",
              "      <td>site plutôt fiable</td>\n",
              "    </tr>\n",
              "    <tr>\n",
              "      <th>144150</th>\n",
              "      <td>404200</td>\n",
              "      <td>assises ’aube «’attends justice vérité réparat...</td>\n",
              "      <td>Assises_NOUN de_ADP l’_DET Aube_NOUN :_PUNCT «...</td>\n",
              "      <td>12193.0</td>\n",
              "      <td>0.000000</td>\n",
              "      <td>0.000164</td>\n",
              "      <td>1.0</td>\n",
              "      <td>site plutôt fiable</td>\n",
              "    </tr>\n",
              "    <tr>\n",
              "      <th>144151</th>\n",
              "      <td>148096</td>\n",
              "      <td>rt top desident_number sites féminins france d...</td>\n",
              "      <td>RT_X @HK_Paris_PROPN :_PUNCT #_NOUN Medias_PRO...</td>\n",
              "      <td>13870.0</td>\n",
              "      <td>0.000072</td>\n",
              "      <td>0.000000</td>\n",
              "      <td>1.0</td>\n",
              "      <td>site plutôt fiable</td>\n",
              "    </tr>\n",
              "  </tbody>\n",
              "</table>\n",
              "<p>144152 rows × 8 columns</p>\n",
              "</div>\n",
              "      <button class=\"colab-df-convert\" onclick=\"convertToInteractive('df-e4a64a7d-c765-4a74-850d-149e8b270044')\"\n",
              "              title=\"Convert this dataframe to an interactive table.\"\n",
              "              style=\"display:none;\">\n",
              "        \n",
              "  <svg xmlns=\"http://www.w3.org/2000/svg\" height=\"24px\"viewBox=\"0 0 24 24\"\n",
              "       width=\"24px\">\n",
              "    <path d=\"M0 0h24v24H0V0z\" fill=\"none\"/>\n",
              "    <path d=\"M18.56 5.44l.94 2.06.94-2.06 2.06-.94-2.06-.94-.94-2.06-.94 2.06-2.06.94zm-11 1L8.5 8.5l.94-2.06 2.06-.94-2.06-.94L8.5 2.5l-.94 2.06-2.06.94zm10 10l.94 2.06.94-2.06 2.06-.94-2.06-.94-.94-2.06-.94 2.06-2.06.94z\"/><path d=\"M17.41 7.96l-1.37-1.37c-.4-.4-.92-.59-1.43-.59-.52 0-1.04.2-1.43.59L10.3 9.45l-7.72 7.72c-.78.78-.78 2.05 0 2.83L4 21.41c.39.39.9.59 1.41.59.51 0 1.02-.2 1.41-.59l7.78-7.78 2.81-2.81c.8-.78.8-2.07 0-2.86zM5.41 20L4 18.59l7.72-7.72 1.47 1.35L5.41 20z\"/>\n",
              "  </svg>\n",
              "      </button>\n",
              "      \n",
              "  <style>\n",
              "    .colab-df-container {\n",
              "      display:flex;\n",
              "      flex-wrap:wrap;\n",
              "      gap: 12px;\n",
              "    }\n",
              "\n",
              "    .colab-df-convert {\n",
              "      background-color: #E8F0FE;\n",
              "      border: none;\n",
              "      border-radius: 50%;\n",
              "      cursor: pointer;\n",
              "      display: none;\n",
              "      fill: #1967D2;\n",
              "      height: 32px;\n",
              "      padding: 0 0 0 0;\n",
              "      width: 32px;\n",
              "    }\n",
              "\n",
              "    .colab-df-convert:hover {\n",
              "      background-color: #E2EBFA;\n",
              "      box-shadow: 0px 1px 2px rgba(60, 64, 67, 0.3), 0px 1px 3px 1px rgba(60, 64, 67, 0.15);\n",
              "      fill: #174EA6;\n",
              "    }\n",
              "\n",
              "    [theme=dark] .colab-df-convert {\n",
              "      background-color: #3B4455;\n",
              "      fill: #D2E3FC;\n",
              "    }\n",
              "\n",
              "    [theme=dark] .colab-df-convert:hover {\n",
              "      background-color: #434B5C;\n",
              "      box-shadow: 0px 1px 3px 1px rgba(0, 0, 0, 0.15);\n",
              "      filter: drop-shadow(0px 1px 2px rgba(0, 0, 0, 0.3));\n",
              "      fill: #FFFFFF;\n",
              "    }\n",
              "  </style>\n",
              "\n",
              "      <script>\n",
              "        const buttonEl =\n",
              "          document.querySelector('#df-e4a64a7d-c765-4a74-850d-149e8b270044 button.colab-df-convert');\n",
              "        buttonEl.style.display =\n",
              "          google.colab.kernel.accessAllowed ? 'block' : 'none';\n",
              "\n",
              "        async function convertToInteractive(key) {\n",
              "          const element = document.querySelector('#df-e4a64a7d-c765-4a74-850d-149e8b270044');\n",
              "          const dataTable =\n",
              "            await google.colab.kernel.invokeFunction('convertToInteractive',\n",
              "                                                     [key], {});\n",
              "          if (!dataTable) return;\n",
              "\n",
              "          const docLinkHtml = 'Like what you see? Visit the ' +\n",
              "            '<a target=\"_blank\" href=https://colab.research.google.com/notebooks/data_table.ipynb>data table notebook</a>'\n",
              "            + ' to learn more about interactive tables.';\n",
              "          element.innerHTML = '';\n",
              "          dataTable['output_type'] = 'display_data';\n",
              "          await google.colab.output.renderOutput(dataTable, element);\n",
              "          const docLink = document.createElement('div');\n",
              "          docLink.innerHTML = docLinkHtml;\n",
              "          element.appendChild(docLink);\n",
              "        }\n",
              "      </script>\n",
              "    </div>\n",
              "  </div>\n",
              "  "
            ]
          },
          "metadata": {},
          "execution_count": 221
        }
      ]
    },
    {
      "cell_type": "markdown",
      "source": [
        "Pour comparer directement avec nos données d'origine"
      ],
      "metadata": {
        "id": "KJfR8WuEiRxi"
      }
    },
    {
      "cell_type": "code",
      "source": [
        "data"
      ],
      "metadata": {
        "id": "Q1PxoGbGSgqB",
        "colab": {
          "base_uri": "https://localhost:8080/",
          "height": 1000
        },
        "outputId": "b76d2647-7e6e-4853-9634-b97bdbf70385"
      },
      "execution_count": 222,
      "outputs": [
        {
          "output_type": "execute_result",
          "data": {
            "text/plain": [
              "       liability      liability_label  \\\n",
              "0              1  site plutôt douteux   \n",
              "1              1  site plutôt douteux   \n",
              "2              1  site plutôt douteux   \n",
              "3              1  site plutôt douteux   \n",
              "4              1  site plutôt douteux   \n",
              "...          ...                  ...   \n",
              "721513         0   site plutôt fiable   \n",
              "721514         0   site plutôt fiable   \n",
              "721515         0   site plutôt fiable   \n",
              "721516         0   site plutôt fiable   \n",
              "721517         0   site plutôt fiable   \n",
              "\n",
              "                                              description user_screen_name  \\\n",
              "0       France-Soir était un journal fondé par Pierre ...      france_soir   \n",
              "1       France-Soir était un journal fondé par Pierre ...      france_soir   \n",
              "2       France-Soir était un journal fondé par Pierre ...      france_soir   \n",
              "3       France-Soir était un journal fondé par Pierre ...      france_soir   \n",
              "4       France-Soir était un journal fondé par Pierre ...      france_soir   \n",
              "...                                                   ...              ...   \n",
              "721513  Un site qui donne des conseils et astuces sur ...          wikiHow   \n",
              "721514  Un site qui donne des conseils et astuces sur ...          wikiHow   \n",
              "721515  Un site qui donne des conseils et astuces sur ...          wikiHow   \n",
              "721516  Un site qui donne des conseils et astuces sur ...          wikiHow   \n",
              "721517  Un site qui donne des conseils et astuces sur ...          wikiHow   \n",
              "\n",
              "        retweet_count  favorite_count  count_followers  \\\n",
              "0                50.0           101.0          98322.0   \n",
              "1               643.0             0.0          98322.0   \n",
              "2                27.0            59.0          98322.0   \n",
              "3                14.0            37.0          98322.0   \n",
              "4                39.0            79.0          98322.0   \n",
              "...               ...             ...              ...   \n",
              "721513            2.0             6.0          73496.0   \n",
              "721514            1.0             3.0          73496.0   \n",
              "721515            0.0             1.0          73496.0   \n",
              "721516            0.0             3.0          73496.0   \n",
              "721517            2.0             4.0          73496.0   \n",
              "\n",
              "                                                    tweet  \\\n",
              "0       🚨Le professeur Raoult écope d’un blâme de l’Or...   \n",
              "1                          RT @DIVIZIO1: Recours déposé !   \n",
              "2       🎙BEST OF - Pr Michel Drancourt : IHU, épidémie...   \n",
              "3       📚 Jonathan Curiel, directeur général adjoint d...   \n",
              "4       🖍 Le dessin du jour\\n&gt; à retrouver sur http...   \n",
              "...                                                   ...   \n",
              "721513  Hi! Make space for recycling! ♻️\\n\\nhttps://t....   \n",
              "721514  Top tips for making your LinkedIn profile stan...   \n",
              "721515                      @alicjajohnson This is true 🙃   \n",
              "721516  15+ Ideas for a Healthy Breakfast\\n\\nhttps://t...   \n",
              "721517  If your long hair gets tangled easily, try thi...   \n",
              "\n",
              "                                                  cleaned  \\\n",
              "0       🚨le professeur raoult écope ’un blâme ’ordre m...   \n",
              "1                                       rt recours déposé   \n",
              "2       🎙best of pr michel drancourt ihu épidémies dhi...   \n",
              "3       📚 jonathan curiel directeur général adjoint pr...   \n",
              "4       🖍 dessin jour  retrouver desident_link desiden...   \n",
              "...                                                   ...   \n",
              "721513          make space for recycling ♻️ desident_link   \n",
              "721514  top tips for making your linkedin profile stan...   \n",
              "721515                                     this is true 🙃   \n",
              "721516  desident_number ideas for healthy breakfast de...   \n",
              "721517  if your long hair gets tangled easily try this...   \n",
              "\n",
              "                                                   tagged  rt_per_followers  \\\n",
              "0       🚨_SCONJ Le_DET professeur_NOUN Raoult_PROPN éc...          0.000509   \n",
              "1       RT_X @DIVIZIO1_PROPN :_PUNCT Recours_NOUN dépo...          0.006540   \n",
              "2       🎙_NOUN BEST_X OF_PROPN -_PUNCT Pr_X Michel_PRO...          0.000275   \n",
              "3       📚_PROPN Jonathan_PROPN Curiel_PROPN ,_PUNCT di...          0.000142   \n",
              "4       🖍_NOUN Le_DET dessin_PROPN du_DET jour_NOUN \\n...          0.000397   \n",
              "...                                                   ...               ...   \n",
              "721513  Hi_CCONJ !_PUNCT Make_X space_X for_X recyclin...          0.000027   \n",
              "721514  Top_NOUN tips_X for_X making_X your_PROPN Link...          0.000014   \n",
              "721515   @alicjajohnson_PROPN This_X is_X true_X 🙃_PROPN           0.000000   \n",
              "721516  15_PRON +_ADP Ideas_NOUN for_X a_X Healthy_PRO...          0.000000   \n",
              "721517  If_PROPN your_PROPN long_ADJ hair_NOUN gets_X ...          0.000027   \n",
              "\n",
              "        fav_per_followers  sentiments  \n",
              "0                0.001027         1.0  \n",
              "1                0.000000         1.0  \n",
              "2                0.000600         1.0  \n",
              "3                0.000376         1.0  \n",
              "4                0.000803         1.0  \n",
              "...                   ...         ...  \n",
              "721513           0.000082         2.0  \n",
              "721514           0.000041         1.0  \n",
              "721515           0.000014         1.0  \n",
              "721516           0.000041         1.0  \n",
              "721517           0.000054         1.0  \n",
              "\n",
              "[720757 rows x 13 columns]"
            ],
            "text/html": [
              "\n",
              "  <div id=\"df-16f19636-c8b2-4601-9948-148a1c8e963e\">\n",
              "    <div class=\"colab-df-container\">\n",
              "      <div>\n",
              "<style scoped>\n",
              "    .dataframe tbody tr th:only-of-type {\n",
              "        vertical-align: middle;\n",
              "    }\n",
              "\n",
              "    .dataframe tbody tr th {\n",
              "        vertical-align: top;\n",
              "    }\n",
              "\n",
              "    .dataframe thead th {\n",
              "        text-align: right;\n",
              "    }\n",
              "</style>\n",
              "<table border=\"1\" class=\"dataframe\">\n",
              "  <thead>\n",
              "    <tr style=\"text-align: right;\">\n",
              "      <th></th>\n",
              "      <th>liability</th>\n",
              "      <th>liability_label</th>\n",
              "      <th>description</th>\n",
              "      <th>user_screen_name</th>\n",
              "      <th>retweet_count</th>\n",
              "      <th>favorite_count</th>\n",
              "      <th>count_followers</th>\n",
              "      <th>tweet</th>\n",
              "      <th>cleaned</th>\n",
              "      <th>tagged</th>\n",
              "      <th>rt_per_followers</th>\n",
              "      <th>fav_per_followers</th>\n",
              "      <th>sentiments</th>\n",
              "    </tr>\n",
              "  </thead>\n",
              "  <tbody>\n",
              "    <tr>\n",
              "      <th>0</th>\n",
              "      <td>1</td>\n",
              "      <td>site plutôt douteux</td>\n",
              "      <td>France-Soir était un journal fondé par Pierre ...</td>\n",
              "      <td>france_soir</td>\n",
              "      <td>50.0</td>\n",
              "      <td>101.0</td>\n",
              "      <td>98322.0</td>\n",
              "      <td>🚨Le professeur Raoult écope d’un blâme de l’Or...</td>\n",
              "      <td>🚨le professeur raoult écope ’un blâme ’ordre m...</td>\n",
              "      <td>🚨_SCONJ Le_DET professeur_NOUN Raoult_PROPN éc...</td>\n",
              "      <td>0.000509</td>\n",
              "      <td>0.001027</td>\n",
              "      <td>1.0</td>\n",
              "    </tr>\n",
              "    <tr>\n",
              "      <th>1</th>\n",
              "      <td>1</td>\n",
              "      <td>site plutôt douteux</td>\n",
              "      <td>France-Soir était un journal fondé par Pierre ...</td>\n",
              "      <td>france_soir</td>\n",
              "      <td>643.0</td>\n",
              "      <td>0.0</td>\n",
              "      <td>98322.0</td>\n",
              "      <td>RT @DIVIZIO1: Recours déposé !</td>\n",
              "      <td>rt recours déposé</td>\n",
              "      <td>RT_X @DIVIZIO1_PROPN :_PUNCT Recours_NOUN dépo...</td>\n",
              "      <td>0.006540</td>\n",
              "      <td>0.000000</td>\n",
              "      <td>1.0</td>\n",
              "    </tr>\n",
              "    <tr>\n",
              "      <th>2</th>\n",
              "      <td>1</td>\n",
              "      <td>site plutôt douteux</td>\n",
              "      <td>France-Soir était un journal fondé par Pierre ...</td>\n",
              "      <td>france_soir</td>\n",
              "      <td>27.0</td>\n",
              "      <td>59.0</td>\n",
              "      <td>98322.0</td>\n",
              "      <td>🎙BEST OF - Pr Michel Drancourt : IHU, épidémie...</td>\n",
              "      <td>🎙best of pr michel drancourt ihu épidémies dhi...</td>\n",
              "      <td>🎙_NOUN BEST_X OF_PROPN -_PUNCT Pr_X Michel_PRO...</td>\n",
              "      <td>0.000275</td>\n",
              "      <td>0.000600</td>\n",
              "      <td>1.0</td>\n",
              "    </tr>\n",
              "    <tr>\n",
              "      <th>3</th>\n",
              "      <td>1</td>\n",
              "      <td>site plutôt douteux</td>\n",
              "      <td>France-Soir était un journal fondé par Pierre ...</td>\n",
              "      <td>france_soir</td>\n",
              "      <td>14.0</td>\n",
              "      <td>37.0</td>\n",
              "      <td>98322.0</td>\n",
              "      <td>📚 Jonathan Curiel, directeur général adjoint d...</td>\n",
              "      <td>📚 jonathan curiel directeur général adjoint pr...</td>\n",
              "      <td>📚_PROPN Jonathan_PROPN Curiel_PROPN ,_PUNCT di...</td>\n",
              "      <td>0.000142</td>\n",
              "      <td>0.000376</td>\n",
              "      <td>1.0</td>\n",
              "    </tr>\n",
              "    <tr>\n",
              "      <th>4</th>\n",
              "      <td>1</td>\n",
              "      <td>site plutôt douteux</td>\n",
              "      <td>France-Soir était un journal fondé par Pierre ...</td>\n",
              "      <td>france_soir</td>\n",
              "      <td>39.0</td>\n",
              "      <td>79.0</td>\n",
              "      <td>98322.0</td>\n",
              "      <td>🖍 Le dessin du jour\\n&amp;gt; à retrouver sur http...</td>\n",
              "      <td>🖍 dessin jour  retrouver desident_link desiden...</td>\n",
              "      <td>🖍_NOUN Le_DET dessin_PROPN du_DET jour_NOUN \\n...</td>\n",
              "      <td>0.000397</td>\n",
              "      <td>0.000803</td>\n",
              "      <td>1.0</td>\n",
              "    </tr>\n",
              "    <tr>\n",
              "      <th>...</th>\n",
              "      <td>...</td>\n",
              "      <td>...</td>\n",
              "      <td>...</td>\n",
              "      <td>...</td>\n",
              "      <td>...</td>\n",
              "      <td>...</td>\n",
              "      <td>...</td>\n",
              "      <td>...</td>\n",
              "      <td>...</td>\n",
              "      <td>...</td>\n",
              "      <td>...</td>\n",
              "      <td>...</td>\n",
              "      <td>...</td>\n",
              "    </tr>\n",
              "    <tr>\n",
              "      <th>721513</th>\n",
              "      <td>0</td>\n",
              "      <td>site plutôt fiable</td>\n",
              "      <td>Un site qui donne des conseils et astuces sur ...</td>\n",
              "      <td>wikiHow</td>\n",
              "      <td>2.0</td>\n",
              "      <td>6.0</td>\n",
              "      <td>73496.0</td>\n",
              "      <td>Hi! Make space for recycling! ♻️\\n\\nhttps://t....</td>\n",
              "      <td>make space for recycling ♻️ desident_link</td>\n",
              "      <td>Hi_CCONJ !_PUNCT Make_X space_X for_X recyclin...</td>\n",
              "      <td>0.000027</td>\n",
              "      <td>0.000082</td>\n",
              "      <td>2.0</td>\n",
              "    </tr>\n",
              "    <tr>\n",
              "      <th>721514</th>\n",
              "      <td>0</td>\n",
              "      <td>site plutôt fiable</td>\n",
              "      <td>Un site qui donne des conseils et astuces sur ...</td>\n",
              "      <td>wikiHow</td>\n",
              "      <td>1.0</td>\n",
              "      <td>3.0</td>\n",
              "      <td>73496.0</td>\n",
              "      <td>Top tips for making your LinkedIn profile stan...</td>\n",
              "      <td>top tips for making your linkedin profile stan...</td>\n",
              "      <td>Top_NOUN tips_X for_X making_X your_PROPN Link...</td>\n",
              "      <td>0.000014</td>\n",
              "      <td>0.000041</td>\n",
              "      <td>1.0</td>\n",
              "    </tr>\n",
              "    <tr>\n",
              "      <th>721515</th>\n",
              "      <td>0</td>\n",
              "      <td>site plutôt fiable</td>\n",
              "      <td>Un site qui donne des conseils et astuces sur ...</td>\n",
              "      <td>wikiHow</td>\n",
              "      <td>0.0</td>\n",
              "      <td>1.0</td>\n",
              "      <td>73496.0</td>\n",
              "      <td>@alicjajohnson This is true 🙃</td>\n",
              "      <td>this is true 🙃</td>\n",
              "      <td>@alicjajohnson_PROPN This_X is_X true_X 🙃_PROPN</td>\n",
              "      <td>0.000000</td>\n",
              "      <td>0.000014</td>\n",
              "      <td>1.0</td>\n",
              "    </tr>\n",
              "    <tr>\n",
              "      <th>721516</th>\n",
              "      <td>0</td>\n",
              "      <td>site plutôt fiable</td>\n",
              "      <td>Un site qui donne des conseils et astuces sur ...</td>\n",
              "      <td>wikiHow</td>\n",
              "      <td>0.0</td>\n",
              "      <td>3.0</td>\n",
              "      <td>73496.0</td>\n",
              "      <td>15+ Ideas for a Healthy Breakfast\\n\\nhttps://t...</td>\n",
              "      <td>desident_number ideas for healthy breakfast de...</td>\n",
              "      <td>15_PRON +_ADP Ideas_NOUN for_X a_X Healthy_PRO...</td>\n",
              "      <td>0.000000</td>\n",
              "      <td>0.000041</td>\n",
              "      <td>1.0</td>\n",
              "    </tr>\n",
              "    <tr>\n",
              "      <th>721517</th>\n",
              "      <td>0</td>\n",
              "      <td>site plutôt fiable</td>\n",
              "      <td>Un site qui donne des conseils et astuces sur ...</td>\n",
              "      <td>wikiHow</td>\n",
              "      <td>2.0</td>\n",
              "      <td>4.0</td>\n",
              "      <td>73496.0</td>\n",
              "      <td>If your long hair gets tangled easily, try thi...</td>\n",
              "      <td>if your long hair gets tangled easily try this...</td>\n",
              "      <td>If_PROPN your_PROPN long_ADJ hair_NOUN gets_X ...</td>\n",
              "      <td>0.000027</td>\n",
              "      <td>0.000054</td>\n",
              "      <td>1.0</td>\n",
              "    </tr>\n",
              "  </tbody>\n",
              "</table>\n",
              "<p>720757 rows × 13 columns</p>\n",
              "</div>\n",
              "      <button class=\"colab-df-convert\" onclick=\"convertToInteractive('df-16f19636-c8b2-4601-9948-148a1c8e963e')\"\n",
              "              title=\"Convert this dataframe to an interactive table.\"\n",
              "              style=\"display:none;\">\n",
              "        \n",
              "  <svg xmlns=\"http://www.w3.org/2000/svg\" height=\"24px\"viewBox=\"0 0 24 24\"\n",
              "       width=\"24px\">\n",
              "    <path d=\"M0 0h24v24H0V0z\" fill=\"none\"/>\n",
              "    <path d=\"M18.56 5.44l.94 2.06.94-2.06 2.06-.94-2.06-.94-.94-2.06-.94 2.06-2.06.94zm-11 1L8.5 8.5l.94-2.06 2.06-.94-2.06-.94L8.5 2.5l-.94 2.06-2.06.94zm10 10l.94 2.06.94-2.06 2.06-.94-2.06-.94-.94-2.06-.94 2.06-2.06.94z\"/><path d=\"M17.41 7.96l-1.37-1.37c-.4-.4-.92-.59-1.43-.59-.52 0-1.04.2-1.43.59L10.3 9.45l-7.72 7.72c-.78.78-.78 2.05 0 2.83L4 21.41c.39.39.9.59 1.41.59.51 0 1.02-.2 1.41-.59l7.78-7.78 2.81-2.81c.8-.78.8-2.07 0-2.86zM5.41 20L4 18.59l7.72-7.72 1.47 1.35L5.41 20z\"/>\n",
              "  </svg>\n",
              "      </button>\n",
              "      \n",
              "  <style>\n",
              "    .colab-df-container {\n",
              "      display:flex;\n",
              "      flex-wrap:wrap;\n",
              "      gap: 12px;\n",
              "    }\n",
              "\n",
              "    .colab-df-convert {\n",
              "      background-color: #E8F0FE;\n",
              "      border: none;\n",
              "      border-radius: 50%;\n",
              "      cursor: pointer;\n",
              "      display: none;\n",
              "      fill: #1967D2;\n",
              "      height: 32px;\n",
              "      padding: 0 0 0 0;\n",
              "      width: 32px;\n",
              "    }\n",
              "\n",
              "    .colab-df-convert:hover {\n",
              "      background-color: #E2EBFA;\n",
              "      box-shadow: 0px 1px 2px rgba(60, 64, 67, 0.3), 0px 1px 3px 1px rgba(60, 64, 67, 0.15);\n",
              "      fill: #174EA6;\n",
              "    }\n",
              "\n",
              "    [theme=dark] .colab-df-convert {\n",
              "      background-color: #3B4455;\n",
              "      fill: #D2E3FC;\n",
              "    }\n",
              "\n",
              "    [theme=dark] .colab-df-convert:hover {\n",
              "      background-color: #434B5C;\n",
              "      box-shadow: 0px 1px 3px 1px rgba(0, 0, 0, 0.15);\n",
              "      filter: drop-shadow(0px 1px 2px rgba(0, 0, 0, 0.3));\n",
              "      fill: #FFFFFF;\n",
              "    }\n",
              "  </style>\n",
              "\n",
              "      <script>\n",
              "        const buttonEl =\n",
              "          document.querySelector('#df-16f19636-c8b2-4601-9948-148a1c8e963e button.colab-df-convert');\n",
              "        buttonEl.style.display =\n",
              "          google.colab.kernel.accessAllowed ? 'block' : 'none';\n",
              "\n",
              "        async function convertToInteractive(key) {\n",
              "          const element = document.querySelector('#df-16f19636-c8b2-4601-9948-148a1c8e963e');\n",
              "          const dataTable =\n",
              "            await google.colab.kernel.invokeFunction('convertToInteractive',\n",
              "                                                     [key], {});\n",
              "          if (!dataTable) return;\n",
              "\n",
              "          const docLinkHtml = 'Like what you see? Visit the ' +\n",
              "            '<a target=\"_blank\" href=https://colab.research.google.com/notebooks/data_table.ipynb>data table notebook</a>'\n",
              "            + ' to learn more about interactive tables.';\n",
              "          element.innerHTML = '';\n",
              "          dataTable['output_type'] = 'display_data';\n",
              "          await google.colab.output.renderOutput(dataTable, element);\n",
              "          const docLink = document.createElement('div');\n",
              "          docLink.innerHTML = docLinkHtml;\n",
              "          element.appendChild(docLink);\n",
              "        }\n",
              "      </script>\n",
              "    </div>\n",
              "  </div>\n",
              "  "
            ]
          },
          "metadata": {},
          "execution_count": 222
        }
      ]
    },
    {
      "cell_type": "markdown",
      "source": [
        "# Glove (finalement pas utilisée)"
      ],
      "metadata": {
        "id": "kGXoiRlXoqDK"
      }
    },
    {
      "cell_type": "markdown",
      "source": [
        "Pour tester le glove on peut utiliser un t-SNE"
      ],
      "metadata": {
        "id": "HyDyRnLkExdE"
      }
    },
    {
      "cell_type": "code",
      "source": [
        "\"\"\"!wget http://nlp.stanford.edu/data/glove.twitter.27B.zip\"\"\""
      ],
      "metadata": {
        "id": "klEWdfdmrG0e",
        "colab": {
          "base_uri": "https://localhost:8080/",
          "height": 906
        },
        "outputId": "e1a725ca-3ca2-472b-e8c2-79ccd867dd03"
      },
      "execution_count": 223,
      "outputs": [
        {
          "output_type": "execute_result",
          "data": {
            "text/plain": [
              "'!wget http://nlp.stanford.edu/data/glove.twitter.27B.zip'"
            ],
            "application/vnd.google.colaboratory.intrinsic+json": {
              "type": "string"
            }
          },
          "metadata": {},
          "execution_count": 223
        }
      ]
    },
    {
      "cell_type": "code",
      "source": [
        "\"\"\"!unzip glove*.zip\"\"\""
      ],
      "metadata": {
        "id": "x46M9wJBrMGu",
        "colab": {
          "base_uri": "https://localhost:8080/",
          "height": 350
        },
        "outputId": "1fb81950-9335-43b3-8460-7c83704b7952"
      },
      "execution_count": 224,
      "outputs": [
        {
          "output_type": "execute_result",
          "data": {
            "text/plain": [
              "'!unzip glove*.zip'"
            ],
            "application/vnd.google.colaboratory.intrinsic+json": {
              "type": "string"
            }
          },
          "metadata": {},
          "execution_count": 224
        }
      ]
    },
    {
      "cell_type": "code",
      "source": [
        "\"\"\"print('Indexing word vectors.')\n",
        "\n",
        "embeddings_index = {}\n",
        "f = open('glove.6B.100d.txt', encoding='utf-8')\n",
        "for line in f:\n",
        "    values = line.split()\n",
        "    word = values[0]\n",
        "    coefs = np.asarray(values[1:], dtype='float32')\n",
        "    embeddings_index[word] = coefs\n",
        "f.close()\n",
        "\n",
        "print('Found %s word vectors.' % len(embeddings_index))\"\"\""
      ],
      "metadata": {
        "id": "4SOz5Zqqr_66",
        "colab": {
          "base_uri": "https://localhost:8080/",
          "height": 1000
        },
        "outputId": "5d4b4a9b-0e1c-4ada-d498-4a0977da6d8b"
      },
      "execution_count": 225,
      "outputs": [
        {
          "output_type": "execute_result",
          "data": {
            "text/plain": [
              "\"print('Indexing word vectors.')\\n\\nembeddings_index = {}\\nf = open('glove.6B.100d.txt', encoding='utf-8')\\nfor line in f:\\n    values = line.split()\\n    word = values[0]\\n    coefs = np.asarray(values[1:], dtype='float32')\\n    embeddings_index[word] = coefs\\nf.close()\\n\\nprint('Found %s word vectors.' % len(embeddings_index))\""
            ],
            "application/vnd.google.colaboratory.intrinsic+json": {
              "type": "string"
            }
          },
          "metadata": {},
          "execution_count": 225
        }
      ]
    },
    {
      "cell_type": "code",
      "source": [
        "\"\"\"embeddings_index = {}\n",
        "with open('glove.6B.100d.txt', encoding='utf-8') as f:\n",
        "    for line in f:\n",
        "        word, coefs = line.split(maxsplit=1)\n",
        "        coefs = np.fromstring(coefs, \"f\", sep=\" \")\n",
        "        embeddings_index[word] = coefs\n",
        "\n",
        "print(\"Found %s word vectors.\" % len(embeddings_index))\"\"\""
      ],
      "metadata": {
        "id": "DYxTWzWksSUI",
        "colab": {
          "base_uri": "https://localhost:8080/",
          "height": 1000
        },
        "outputId": "5e329763-08c1-448e-fa96-8e627785f203"
      },
      "execution_count": 226,
      "outputs": [
        {
          "output_type": "execute_result",
          "data": {
            "text/plain": [
              "'embeddings_index = {}\\nwith open(\\'glove.6B.100d.txt\\', encoding=\\'utf-8\\') as f:\\n    for line in f:\\n        word, coefs = line.split(maxsplit=1)\\n        coefs = np.fromstring(coefs, \"f\", sep=\" \")\\n        embeddings_index[word] = coefs\\n\\nprint(\"Found %s word vectors.\" % len(embeddings_index))'"
            ],
            "application/vnd.google.colaboratory.intrinsic+json": {
              "type": "string"
            }
          },
          "metadata": {},
          "execution_count": 226
        }
      ]
    },
    {
      "cell_type": "code",
      "source": [
        "\"\"\"word_index = dict(zip(featured_names, range(len(featured_names))))\"\"\""
      ],
      "metadata": {
        "id": "PKrAmY_RvRMh",
        "colab": {
          "base_uri": "https://localhost:8080/",
          "height": 1000
        },
        "outputId": "f10edc75-fa23-4629-9bb1-3d5540d4d51c"
      },
      "execution_count": 227,
      "outputs": [
        {
          "output_type": "execute_result",
          "data": {
            "text/plain": [
              "'word_index = dict(zip(featured_names, range(len(featured_names))))'"
            ],
            "application/vnd.google.colaboratory.intrinsic+json": {
              "type": "string"
            }
          },
          "metadata": {},
          "execution_count": 227
        }
      ]
    },
    {
      "cell_type": "code",
      "source": [
        "\"\"\"word_index\"\"\""
      ],
      "metadata": {
        "id": "sywLhbFDvbFZ",
        "colab": {
          "base_uri": "https://localhost:8080/",
          "height": 263
        },
        "outputId": "f36b99ed-1878-44a8-850d-1815364f73a6"
      },
      "execution_count": 228,
      "outputs": [
        {
          "output_type": "execute_result",
          "data": {
            "text/plain": [
              "'word_index'"
            ],
            "application/vnd.google.colaboratory.intrinsic+json": {
              "type": "string"
            }
          },
          "metadata": {},
          "execution_count": 228
        }
      ]
    },
    {
      "cell_type": "code",
      "source": [
        "\"\"\"num_tokens = len(featured_names) + 2\n",
        "embedding_dim = 100\n",
        "hits = 0\n",
        "misses = 0\n",
        "\n",
        "# Prepare embedding matrix\n",
        "embedding_matrix = np.zeros((num_tokens, embedding_dim))\n",
        "for word, i in word_index.items():\n",
        "    embedding_vector = embeddings_index.get(word)\n",
        "    if embedding_vector is not None:\n",
        "        # Words not found in embedding index will be all-zeros.\n",
        "        # This includes the representation for \"padding\" and \"OOV\"\n",
        "        embedding_matrix[i] = embedding_vector\n",
        "        hits += 1\n",
        "    else:\n",
        "        misses += 1\n",
        "        print(\"était \"+word)\n",
        "print(\"Converted %d words (%d misses)\" % (hits, misses))\n",
        "\"\"\""
      ],
      "metadata": {
        "id": "mst3x3SLtT8-",
        "colab": {
          "base_uri": "https://localhost:8080/",
          "height": 1000
        },
        "outputId": "62a2e624-7353-41b0-b3bb-8d3fe7765a95"
      },
      "execution_count": 229,
      "outputs": [
        {
          "output_type": "execute_result",
          "data": {
            "text/plain": [
              "'num_tokens = len(featured_names) + 2\\nembedding_dim = 100\\nhits = 0\\nmisses = 0\\n\\n# Prepare embedding matrix\\nembedding_matrix = np.zeros((num_tokens, embedding_dim))\\nfor word, i in word_index.items():\\n    embedding_vector = embeddings_index.get(word)\\n    if embedding_vector is not None:\\n        # Words not found in embedding index will be all-zeros.\\n        # This includes the representation for \"padding\" and \"OOV\"\\n        embedding_matrix[i] = embedding_vector\\n        hits += 1\\n    else:\\n        misses += 1\\n        print(\"était \"+word)\\nprint(\"Converted %d words (%d misses)\" % (hits, misses))\\n'"
            ],
            "application/vnd.google.colaboratory.intrinsic+json": {
              "type": "string"
            }
          },
          "metadata": {},
          "execution_count": 229
        }
      ]
    },
    {
      "cell_type": "code",
      "source": [
        "\"\"\"! pip install glove-python-binary\"\"\""
      ],
      "metadata": {
        "id": "IQ18JTTYw8pR",
        "colab": {
          "base_uri": "https://localhost:8080/",
          "height": 645
        },
        "outputId": "cb45b159-0ded-4e82-be1c-95f344b01b38"
      },
      "execution_count": 230,
      "outputs": [
        {
          "output_type": "execute_result",
          "data": {
            "text/plain": [
              "'! pip install glove-python-binary'"
            ],
            "application/vnd.google.colaboratory.intrinsic+json": {
              "type": "string"
            }
          },
          "metadata": {},
          "execution_count": 230
        }
      ]
    },
    {
      "cell_type": "code",
      "source": [
        "\"\"\"import glove\n",
        "glove_corpus = glove.Corpus()\n",
        "\n",
        "corpus_sentences = [ \n",
        "        [ w.lower() for w in next(corpus_sentence_tokens_gen)] # All lower-case\n",
        "        for _ in range(0,100*1000) \n",
        "    ]\n",
        "\n",
        "# Fit the co-occurrence matrix using a sliding window of 10 words.\n",
        "glove_corpus.fit(corpus_sentences, window=10)\n",
        "\n",
        "print(\"Dictionary length=%d\" % (len(glove_corpus.dictionary),))\"\"\""
      ],
      "metadata": {
        "id": "-ujJvjXwxK__",
        "colab": {
          "base_uri": "https://localhost:8080/",
          "height": 1000
        },
        "outputId": "2efb00df-e84c-4ac9-948c-28ae0767991b"
      },
      "execution_count": 231,
      "outputs": [
        {
          "output_type": "execute_result",
          "data": {
            "text/plain": [
              "'import glove\\nglove_corpus = glove.Corpus()\\n\\ncorpus_sentences = [ \\n        [ w.lower() for w in next(corpus_sentence_tokens_gen)] # All lower-case\\n        for _ in range(0,100*1000) \\n    ]\\n\\n# Fit the co-occurrence matrix using a sliding window of 10 words.\\nglove_corpus.fit(corpus_sentences, window=10)\\n\\nprint(\"Dictionary length=%d\" % (len(glove_corpus.dictionary),))'"
            ],
            "application/vnd.google.colaboratory.intrinsic+json": {
              "type": "string"
            }
          },
          "metadata": {},
          "execution_count": 231
        }
      ]
    }
  ]
}