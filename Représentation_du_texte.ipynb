{
  "nbformat": 4,
  "nbformat_minor": 0,
  "metadata": {
    "colab": {
      "name": "Représentation_du_texte.ipynb",
      "provenance": [],
      "collapsed_sections": [
        "DQSU3sOUZuxZ"
      ],
      "include_colab_link": true
    },
    "kernelspec": {
      "name": "python3",
      "display_name": "Python 3"
    },
    "language_info": {
      "name": "python"
    }
  },
  "cells": [
    {
      "cell_type": "markdown",
      "metadata": {
        "id": "view-in-github",
        "colab_type": "text"
      },
      "source": [
        "<a href=\"https://colab.research.google.com/github/anjunjin/PFE-ING3-IA/blob/branch1/Repr%C3%A9sentation_du_texte.ipynb\" target=\"_parent\"><img src=\"https://colab.research.google.com/assets/colab-badge.svg\" alt=\"Open In Colab\"/></a>"
      ]
    },
    {
      "cell_type": "markdown",
      "source": [
        "# Partie \"commune\""
      ],
      "metadata": {
        "id": "qSRj5WKua15x"
      }
    },
    {
      "cell_type": "code",
      "execution_count": 1,
      "metadata": {
        "colab": {
          "base_uri": "https://localhost:8080/"
        },
        "id": "hvnw14RdA8zf",
        "outputId": "95356712-4502-4254-9349-022745a9d336"
      },
      "outputs": [
        {
          "output_type": "stream",
          "name": "stdout",
          "text": [
            "Drive already mounted at /content/drive; to attempt to forcibly remount, call drive.mount(\"/content/drive\", force_remount=True).\n"
          ]
        },
        {
          "output_type": "stream",
          "name": "stderr",
          "text": [
            "/usr/local/lib/python3.7/dist-packages/IPython/core/interactiveshell.py:2882: DtypeWarning: Columns (0,1) have mixed types.Specify dtype option on import or set low_memory=False.\n",
            "  exec(code_obj, self.user_global_ns, self.user_ns)\n"
          ]
        }
      ],
      "source": [
        "import pandas as pd\n",
        "from google.colab import drive\n",
        "\n",
        "drive.mount('/content/drive')\n",
        "DATA_PATH = \"/content/drive/My Drive/PFE/\"\n",
        "data = pd.read_csv(DATA_PATH+\"Tweets_nettoyés_040222.csv\", encoding='utf-8').drop(['Unnamed: 0'], axis=1)"
      ]
    },
    {
      "cell_type": "code",
      "source": [
        "# data = data.sample(n=20000, replace=False, random_state=42)"
      ],
      "metadata": {
        "id": "wduRNLt9CVZ9"
      },
      "execution_count": 2,
      "outputs": []
    },
    {
      "cell_type": "code",
      "source": [
        "data.shape"
      ],
      "metadata": {
        "colab": {
          "base_uri": "https://localhost:8080/"
        },
        "id": "EHEnStOH42O2",
        "outputId": "1c558e4a-0edf-4bee-954e-33cc147151ca"
      },
      "execution_count": 3,
      "outputs": [
        {
          "output_type": "execute_result",
          "data": {
            "text/plain": [
              "(722273, 9)"
            ]
          },
          "metadata": {},
          "execution_count": 3
        }
      ]
    },
    {
      "cell_type": "code",
      "source": [
        "# data.sort_values(by = 'cleaned').tail(100)"
      ],
      "metadata": {
        "id": "gi6pMLllKF0-"
      },
      "execution_count": 4,
      "outputs": []
    },
    {
      "cell_type": "code",
      "source": [
        "data = data.dropna()"
      ],
      "metadata": {
        "id": "YjHHKsap2_tf"
      },
      "execution_count": 5,
      "outputs": []
    },
    {
      "cell_type": "code",
      "source": [
        "# data.sort_values(by = 'cleaned').tail(100)"
      ],
      "metadata": {
        "id": "HE_4XBAG2_Iu"
      },
      "execution_count": 6,
      "outputs": []
    },
    {
      "cell_type": "code",
      "source": [
        "data.shape"
      ],
      "metadata": {
        "colab": {
          "base_uri": "https://localhost:8080/"
        },
        "id": "KR22T43X60j2",
        "outputId": "6afac4d8-2612-4c9a-e823-464fb30bf2d8"
      },
      "execution_count": 7,
      "outputs": [
        {
          "output_type": "execute_result",
          "data": {
            "text/plain": [
              "(721518, 9)"
            ]
          },
          "metadata": {},
          "execution_count": 7
        }
      ]
    },
    {
      "cell_type": "code",
      "source": [
        "!pip install scattertext"
      ],
      "metadata": {
        "colab": {
          "base_uri": "https://localhost:8080/"
        },
        "id": "l0E2_NCHCFa1",
        "outputId": "e7f7e0b5-fbf8-468e-fed7-c4103454cda1"
      },
      "execution_count": 8,
      "outputs": [
        {
          "output_type": "stream",
          "name": "stdout",
          "text": [
            "Requirement already satisfied: scattertext in /usr/local/lib/python3.7/dist-packages (0.1.5)\n",
            "Requirement already satisfied: six in /usr/local/lib/python3.7/dist-packages (from scattertext) (1.15.0)\n",
            "Requirement already satisfied: gensim>=4.0.0 in /usr/local/lib/python3.7/dist-packages (from scattertext) (4.1.2)\n",
            "Requirement already satisfied: scipy in /usr/local/lib/python3.7/dist-packages (from scattertext) (1.4.1)\n",
            "Requirement already satisfied: mock in /usr/local/lib/python3.7/dist-packages (from scattertext) (4.0.3)\n",
            "Requirement already satisfied: statsmodels in /usr/local/lib/python3.7/dist-packages (from scattertext) (0.10.2)\n",
            "Requirement already satisfied: numpy in /usr/local/lib/python3.7/dist-packages (from scattertext) (1.19.5)\n",
            "Requirement already satisfied: flashtext in /usr/local/lib/python3.7/dist-packages (from scattertext) (2.7)\n",
            "Requirement already satisfied: scikit-learn in /usr/local/lib/python3.7/dist-packages (from scattertext) (1.0.2)\n",
            "Requirement already satisfied: pandas in /usr/local/lib/python3.7/dist-packages (from scattertext) (1.3.5)\n",
            "Requirement already satisfied: smart-open>=1.8.1 in /usr/local/lib/python3.7/dist-packages (from gensim>=4.0.0->scattertext) (5.2.1)\n",
            "Requirement already satisfied: python-dateutil>=2.7.3 in /usr/local/lib/python3.7/dist-packages (from pandas->scattertext) (2.8.2)\n",
            "Requirement already satisfied: pytz>=2017.3 in /usr/local/lib/python3.7/dist-packages (from pandas->scattertext) (2018.9)\n",
            "Requirement already satisfied: threadpoolctl>=2.0.0 in /usr/local/lib/python3.7/dist-packages (from scikit-learn->scattertext) (3.1.0)\n",
            "Requirement already satisfied: joblib>=0.11 in /usr/local/lib/python3.7/dist-packages (from scikit-learn->scattertext) (1.1.0)\n",
            "Requirement already satisfied: patsy>=0.4.0 in /usr/local/lib/python3.7/dist-packages (from statsmodels->scattertext) (0.5.2)\n"
          ]
        }
      ]
    },
    {
      "cell_type": "code",
      "source": [
        "import scattertext as st\n",
        "\"\"\"import spacy\n",
        "from spacy.tokenizer import Tokenizer\n",
        "from spacy.lang.fr import French\"\"\"\n",
        "import numpy as np\n",
        "import math"
      ],
      "metadata": {
        "id": "a8tjEHLsCAxO"
      },
      "execution_count": 9,
      "outputs": []
    },
    {
      "cell_type": "code",
      "source": [
        "# spacy.cli.download('fr_core_news_md')"
      ],
      "metadata": {
        "id": "hyuRqvdbCbCt"
      },
      "execution_count": 10,
      "outputs": []
    },
    {
      "cell_type": "code",
      "source": [
        "# nlp = spacy.load(\"fr_core_news_md\")"
      ],
      "metadata": {
        "id": "kxZi-XjvCDgt"
      },
      "execution_count": 11,
      "outputs": []
    },
    {
      "cell_type": "markdown",
      "source": [
        "Besoin de cette ligne parce que certains tweets cleaned sont vides"
      ],
      "metadata": {
        "id": "rC2dcHXvDCCW"
      }
    },
    {
      "cell_type": "code",
      "source": [
        "# data = data.drop(data[data.index.isin([35203, 35220, 111663, 111664, 111665, 111666, 111667, 142467, 247758, 249448, 458701, 545318, 545319, 548835, 549118, 550069, 584385, 584386, 584387, 596245, 596709, 596779, 634646, 663672, 663701, 663706, 700933])].index)"
      ],
      "metadata": {
        "id": "WkF4CLSMC87G"
      },
      "execution_count": 12,
      "outputs": []
    },
    {
      "cell_type": "code",
      "source": [
        "# data"
      ],
      "metadata": {
        "id": "bCsnJUzwMvTJ"
      },
      "execution_count": 13,
      "outputs": []
    },
    {
      "cell_type": "code",
      "source": [
        "\"\"\"mask = data.applymap(lambda x: x is None)\n",
        "cols = data.columns[(mask).any()]\n",
        "for col in data[cols]:\n",
        "    data.loc[mask[col], col] = ''\n",
        "data\"\"\"\n",
        "\n",
        "\"\"\"test_list = list(data['cleaned'])\n",
        "res = list(filter(None, test_list))\n",
        "data['cleaned'] = pd.DataFrame(res)\"\"\""
      ],
      "metadata": {
        "colab": {
          "base_uri": "https://localhost:8080/",
          "height": 36
        },
        "id": "b-kd0khODZSt",
        "outputId": "3345c849-f65c-4b4e-b498-ab8295aaff39"
      },
      "execution_count": 14,
      "outputs": [
        {
          "output_type": "execute_result",
          "data": {
            "application/vnd.google.colaboratory.intrinsic+json": {
              "type": "string"
            },
            "text/plain": [
              "\"test_list = list(data['cleaned'])\\nres = list(filter(None, test_list))\\ndata['cleaned'] = pd.DataFrame(res)\""
            ]
          },
          "metadata": {},
          "execution_count": 14
        }
      ]
    },
    {
      "cell_type": "code",
      "source": [
        "# data"
      ],
      "metadata": {
        "id": "edbftW6CMwf3"
      },
      "execution_count": 15,
      "outputs": []
    },
    {
      "cell_type": "code",
      "source": [
        "data = data.dropna()"
      ],
      "metadata": {
        "id": "MDVIxkNsHtus"
      },
      "execution_count": 16,
      "outputs": []
    },
    {
      "cell_type": "code",
      "source": [
        "data.shape"
      ],
      "metadata": {
        "colab": {
          "base_uri": "https://localhost:8080/"
        },
        "id": "-xenXjvP7BFV",
        "outputId": "da69de8a-f305-43b2-9f68-fb8ba576fc39"
      },
      "execution_count": 17,
      "outputs": [
        {
          "output_type": "execute_result",
          "data": {
            "text/plain": [
              "(721518, 9)"
            ]
          },
          "metadata": {},
          "execution_count": 17
        }
      ]
    },
    {
      "cell_type": "code",
      "source": [
        "# data"
      ],
      "metadata": {
        "id": "fu_8tsrkMxIn"
      },
      "execution_count": 18,
      "outputs": []
    },
    {
      "cell_type": "code",
      "source": [
        "# data.sort_values(by = 'cleaned').tail(100)"
      ],
      "metadata": {
        "id": "R0_i2pOLDMok"
      },
      "execution_count": 19,
      "outputs": []
    },
    {
      "cell_type": "code",
      "source": [
        "# data['parsed'] = data.cleaned.apply(nlp)"
      ],
      "metadata": {
        "id": "UtyPAL9sBxKt"
      },
      "execution_count": 20,
      "outputs": []
    },
    {
      "cell_type": "code",
      "source": [
        "# data.sample(random_state=42, n=5, replace=False)"
      ],
      "metadata": {
        "id": "hEEiOvaPBKmh"
      },
      "execution_count": 21,
      "outputs": []
    },
    {
      "cell_type": "code",
      "source": [
        "# data.sort_values(by='cleaned').tail(10)"
      ],
      "metadata": {
        "id": "ikBX1wmhj4GX"
      },
      "execution_count": 22,
      "outputs": []
    },
    {
      "cell_type": "code",
      "source": [
        "\"\"\"data['cleaned'].tolist()\"\"\""
      ],
      "metadata": {
        "id": "0stP29IkKdR4",
        "colab": {
          "base_uri": "https://localhost:8080/",
          "height": 36
        },
        "outputId": "359ec49c-dcd6-46a3-f41c-60c57f8256a6"
      },
      "execution_count": 23,
      "outputs": [
        {
          "output_type": "execute_result",
          "data": {
            "application/vnd.google.colaboratory.intrinsic+json": {
              "type": "string"
            },
            "text/plain": [
              "\"data['cleaned'].tolist()\""
            ]
          },
          "metadata": {},
          "execution_count": 23
        }
      ]
    },
    {
      "cell_type": "code",
      "source": [
        "# transmettre les liste de mots en phrase(texte)\n",
        "def return_text(result):\n",
        "  result_txt = result.text\n",
        "  return result_txt"
      ],
      "metadata": {
        "id": "cTg1myZvFKFg"
      },
      "execution_count": 24,
      "outputs": []
    },
    {
      "cell_type": "code",
      "source": [
        "# data"
      ],
      "metadata": {
        "id": "gbKnEXJzFbLm"
      },
      "execution_count": 25,
      "outputs": []
    },
    {
      "cell_type": "code",
      "source": [
        "# data['parsed'] = data['parsed'].apply(lambda x: return_text(x))"
      ],
      "metadata": {
        "id": "taH_3FgqFL9M"
      },
      "execution_count": 26,
      "outputs": []
    },
    {
      "cell_type": "code",
      "source": [
        "data"
      ],
      "metadata": {
        "colab": {
          "base_uri": "https://localhost:8080/",
          "height": 641
        },
        "id": "RUPDHvfxFcYV",
        "outputId": "2171cb65-1aa5-4045-d6f3-c50e9d9f5089"
      },
      "execution_count": 27,
      "outputs": [
        {
          "output_type": "execute_result",
          "data": {
            "text/html": [
              "\n",
              "  <div id=\"df-effb26ea-3cb5-4f89-b128-c6ceed246f78\">\n",
              "    <div class=\"colab-df-container\">\n",
              "      <div>\n",
              "<style scoped>\n",
              "    .dataframe tbody tr th:only-of-type {\n",
              "        vertical-align: middle;\n",
              "    }\n",
              "\n",
              "    .dataframe tbody tr th {\n",
              "        vertical-align: top;\n",
              "    }\n",
              "\n",
              "    .dataframe thead th {\n",
              "        text-align: right;\n",
              "    }\n",
              "</style>\n",
              "<table border=\"1\" class=\"dataframe\">\n",
              "  <thead>\n",
              "    <tr style=\"text-align: right;\">\n",
              "      <th></th>\n",
              "      <th>liability</th>\n",
              "      <th>liability_label</th>\n",
              "      <th>description</th>\n",
              "      <th>user_screen_name</th>\n",
              "      <th>retweet_count</th>\n",
              "      <th>favorite_count</th>\n",
              "      <th>count_followers</th>\n",
              "      <th>tweet</th>\n",
              "      <th>cleaned</th>\n",
              "    </tr>\n",
              "  </thead>\n",
              "  <tbody>\n",
              "    <tr>\n",
              "      <th>0</th>\n",
              "      <td>1</td>\n",
              "      <td>site plutôt douteux</td>\n",
              "      <td>France-Soir était un journal fondé par Pierre ...</td>\n",
              "      <td>france_soir</td>\n",
              "      <td>50.0</td>\n",
              "      <td>101.0</td>\n",
              "      <td>98322.0</td>\n",
              "      <td>🚨Le professeur Raoult écope d’un blâme de l’Or...</td>\n",
              "      <td>🚨le professeur raoult écope ’un blâme ’ordre m...</td>\n",
              "    </tr>\n",
              "    <tr>\n",
              "      <th>1</th>\n",
              "      <td>1</td>\n",
              "      <td>site plutôt douteux</td>\n",
              "      <td>France-Soir était un journal fondé par Pierre ...</td>\n",
              "      <td>france_soir</td>\n",
              "      <td>643.0</td>\n",
              "      <td>0.0</td>\n",
              "      <td>98322.0</td>\n",
              "      <td>RT @DIVIZIO1: Recours déposé !</td>\n",
              "      <td>rt recours déposé</td>\n",
              "    </tr>\n",
              "    <tr>\n",
              "      <th>2</th>\n",
              "      <td>1</td>\n",
              "      <td>site plutôt douteux</td>\n",
              "      <td>France-Soir était un journal fondé par Pierre ...</td>\n",
              "      <td>france_soir</td>\n",
              "      <td>27.0</td>\n",
              "      <td>59.0</td>\n",
              "      <td>98322.0</td>\n",
              "      <td>🎙BEST OF - Pr Michel Drancourt : IHU, épidémie...</td>\n",
              "      <td>🎙best of pr michel drancourt ihu épidémies dhi...</td>\n",
              "    </tr>\n",
              "    <tr>\n",
              "      <th>3</th>\n",
              "      <td>1</td>\n",
              "      <td>site plutôt douteux</td>\n",
              "      <td>France-Soir était un journal fondé par Pierre ...</td>\n",
              "      <td>france_soir</td>\n",
              "      <td>14.0</td>\n",
              "      <td>37.0</td>\n",
              "      <td>98322.0</td>\n",
              "      <td>📚 Jonathan Curiel, directeur général adjoint d...</td>\n",
              "      <td>📚 jonathan curiel directeur général adjoint pr...</td>\n",
              "    </tr>\n",
              "    <tr>\n",
              "      <th>4</th>\n",
              "      <td>1</td>\n",
              "      <td>site plutôt douteux</td>\n",
              "      <td>France-Soir était un journal fondé par Pierre ...</td>\n",
              "      <td>france_soir</td>\n",
              "      <td>39.0</td>\n",
              "      <td>79.0</td>\n",
              "      <td>98322.0</td>\n",
              "      <td>🖍 Le dessin du jour\\n&amp;gt; à retrouver sur http...</td>\n",
              "      <td>🖍 dessin jour  retrouver desident_link desiden...</td>\n",
              "    </tr>\n",
              "    <tr>\n",
              "      <th>...</th>\n",
              "      <td>...</td>\n",
              "      <td>...</td>\n",
              "      <td>...</td>\n",
              "      <td>...</td>\n",
              "      <td>...</td>\n",
              "      <td>...</td>\n",
              "      <td>...</td>\n",
              "      <td>...</td>\n",
              "      <td>...</td>\n",
              "    </tr>\n",
              "    <tr>\n",
              "      <th>722268</th>\n",
              "      <td>0</td>\n",
              "      <td>site plutôt fiable</td>\n",
              "      <td>Un site qui donne des conseils et astuces sur ...</td>\n",
              "      <td>wikiHow</td>\n",
              "      <td>1.0</td>\n",
              "      <td>1.0</td>\n",
              "      <td>73496.0</td>\n",
              "      <td>@aubreyrumore wikiHow loves you more tho</td>\n",
              "      <td>wikihow loves you more tho</td>\n",
              "    </tr>\n",
              "    <tr>\n",
              "      <th>722269</th>\n",
              "      <td>0</td>\n",
              "      <td>site plutôt fiable</td>\n",
              "      <td>Un site qui donne des conseils et astuces sur ...</td>\n",
              "      <td>wikiHow</td>\n",
              "      <td>8.0</td>\n",
              "      <td>19.0</td>\n",
              "      <td>73496.0</td>\n",
              "      <td>\"i.e. = \"\"id est\"\" (that is)\\ne.g. = \"\"exempli...</td>\n",
              "      <td>ie id that is eg exempli gratia for the sake o...</td>\n",
              "    </tr>\n",
              "    <tr>\n",
              "      <th>722270</th>\n",
              "      <td>0</td>\n",
              "      <td>site plutôt fiable</td>\n",
              "      <td>Un site qui donne des conseils et astuces sur ...</td>\n",
              "      <td>wikiHow</td>\n",
              "      <td>84.0</td>\n",
              "      <td>360.0</td>\n",
              "      <td>73496.0</td>\n",
              "      <td>@Thundercat https://t.co/5FYXI3t5Oa</td>\n",
              "      <td>desident_link</td>\n",
              "    </tr>\n",
              "    <tr>\n",
              "      <th>722271</th>\n",
              "      <td>0</td>\n",
              "      <td>site plutôt fiable</td>\n",
              "      <td>Un site qui donne des conseils et astuces sur ...</td>\n",
              "      <td>wikiHow</td>\n",
              "      <td>0.0</td>\n",
              "      <td>2.0</td>\n",
              "      <td>73496.0</td>\n",
              "      <td>\"Throw some D's on that\" - ancient proverb htt...</td>\n",
              "      <td>throw some ds that ancient proverb desident_li...</td>\n",
              "    </tr>\n",
              "    <tr>\n",
              "      <th>722272</th>\n",
              "      <td>0</td>\n",
              "      <td>site plutôt fiable</td>\n",
              "      <td>Un site qui donne des conseils et astuces sur ...</td>\n",
              "      <td>wikiHow</td>\n",
              "      <td>0.0</td>\n",
              "      <td>1.0</td>\n",
              "      <td>73496.0</td>\n",
              "      <td>@Semaji_11 https://t.co/R4ZXa818tg</td>\n",
              "      <td>desident_link</td>\n",
              "    </tr>\n",
              "  </tbody>\n",
              "</table>\n",
              "<p>721518 rows × 9 columns</p>\n",
              "</div>\n",
              "      <button class=\"colab-df-convert\" onclick=\"convertToInteractive('df-effb26ea-3cb5-4f89-b128-c6ceed246f78')\"\n",
              "              title=\"Convert this dataframe to an interactive table.\"\n",
              "              style=\"display:none;\">\n",
              "        \n",
              "  <svg xmlns=\"http://www.w3.org/2000/svg\" height=\"24px\"viewBox=\"0 0 24 24\"\n",
              "       width=\"24px\">\n",
              "    <path d=\"M0 0h24v24H0V0z\" fill=\"none\"/>\n",
              "    <path d=\"M18.56 5.44l.94 2.06.94-2.06 2.06-.94-2.06-.94-.94-2.06-.94 2.06-2.06.94zm-11 1L8.5 8.5l.94-2.06 2.06-.94-2.06-.94L8.5 2.5l-.94 2.06-2.06.94zm10 10l.94 2.06.94-2.06 2.06-.94-2.06-.94-.94-2.06-.94 2.06-2.06.94z\"/><path d=\"M17.41 7.96l-1.37-1.37c-.4-.4-.92-.59-1.43-.59-.52 0-1.04.2-1.43.59L10.3 9.45l-7.72 7.72c-.78.78-.78 2.05 0 2.83L4 21.41c.39.39.9.59 1.41.59.51 0 1.02-.2 1.41-.59l7.78-7.78 2.81-2.81c.8-.78.8-2.07 0-2.86zM5.41 20L4 18.59l7.72-7.72 1.47 1.35L5.41 20z\"/>\n",
              "  </svg>\n",
              "      </button>\n",
              "      \n",
              "  <style>\n",
              "    .colab-df-container {\n",
              "      display:flex;\n",
              "      flex-wrap:wrap;\n",
              "      gap: 12px;\n",
              "    }\n",
              "\n",
              "    .colab-df-convert {\n",
              "      background-color: #E8F0FE;\n",
              "      border: none;\n",
              "      border-radius: 50%;\n",
              "      cursor: pointer;\n",
              "      display: none;\n",
              "      fill: #1967D2;\n",
              "      height: 32px;\n",
              "      padding: 0 0 0 0;\n",
              "      width: 32px;\n",
              "    }\n",
              "\n",
              "    .colab-df-convert:hover {\n",
              "      background-color: #E2EBFA;\n",
              "      box-shadow: 0px 1px 2px rgba(60, 64, 67, 0.3), 0px 1px 3px 1px rgba(60, 64, 67, 0.15);\n",
              "      fill: #174EA6;\n",
              "    }\n",
              "\n",
              "    [theme=dark] .colab-df-convert {\n",
              "      background-color: #3B4455;\n",
              "      fill: #D2E3FC;\n",
              "    }\n",
              "\n",
              "    [theme=dark] .colab-df-convert:hover {\n",
              "      background-color: #434B5C;\n",
              "      box-shadow: 0px 1px 3px 1px rgba(0, 0, 0, 0.15);\n",
              "      filter: drop-shadow(0px 1px 2px rgba(0, 0, 0, 0.3));\n",
              "      fill: #FFFFFF;\n",
              "    }\n",
              "  </style>\n",
              "\n",
              "      <script>\n",
              "        const buttonEl =\n",
              "          document.querySelector('#df-effb26ea-3cb5-4f89-b128-c6ceed246f78 button.colab-df-convert');\n",
              "        buttonEl.style.display =\n",
              "          google.colab.kernel.accessAllowed ? 'block' : 'none';\n",
              "\n",
              "        async function convertToInteractive(key) {\n",
              "          const element = document.querySelector('#df-effb26ea-3cb5-4f89-b128-c6ceed246f78');\n",
              "          const dataTable =\n",
              "            await google.colab.kernel.invokeFunction('convertToInteractive',\n",
              "                                                     [key], {});\n",
              "          if (!dataTable) return;\n",
              "\n",
              "          const docLinkHtml = 'Like what you see? Visit the ' +\n",
              "            '<a target=\"_blank\" href=https://colab.research.google.com/notebooks/data_table.ipynb>data table notebook</a>'\n",
              "            + ' to learn more about interactive tables.';\n",
              "          element.innerHTML = '';\n",
              "          dataTable['output_type'] = 'display_data';\n",
              "          await google.colab.output.renderOutput(dataTable, element);\n",
              "          const docLink = document.createElement('div');\n",
              "          docLink.innerHTML = docLinkHtml;\n",
              "          element.appendChild(docLink);\n",
              "        }\n",
              "      </script>\n",
              "    </div>\n",
              "  </div>\n",
              "  "
            ],
            "text/plain": [
              "       liability  ...                                            cleaned\n",
              "0              1  ...  🚨le professeur raoult écope ’un blâme ’ordre m...\n",
              "1              1  ...                                  rt recours déposé\n",
              "2              1  ...  🎙best of pr michel drancourt ihu épidémies dhi...\n",
              "3              1  ...  📚 jonathan curiel directeur général adjoint pr...\n",
              "4              1  ...  🖍 dessin jour  retrouver desident_link desiden...\n",
              "...          ...  ...                                                ...\n",
              "722268         0  ...                         wikihow loves you more tho\n",
              "722269         0  ...  ie id that is eg exempli gratia for the sake o...\n",
              "722270         0  ...                                      desident_link\n",
              "722271         0  ...  throw some ds that ancient proverb desident_li...\n",
              "722272         0  ...                                      desident_link\n",
              "\n",
              "[721518 rows x 9 columns]"
            ]
          },
          "metadata": {},
          "execution_count": 27
        }
      ]
    },
    {
      "cell_type": "markdown",
      "source": [
        "# Séparation en 3"
      ],
      "metadata": {
        "id": "NzAr5pKcaFQR"
      }
    },
    {
      "cell_type": "markdown",
      "source": [
        "Divisier le model en 3 partie : train(60%), test(20%), valid(20%)"
      ],
      "metadata": {
        "id": "fXIrJRWhaO82"
      }
    },
    {
      "cell_type": "code",
      "source": [
        "from sklearn.model_selection import train_test_split"
      ],
      "metadata": {
        "id": "FFg478bHaIGr"
      },
      "execution_count": 28,
      "outputs": []
    },
    {
      "cell_type": "code",
      "source": [
        "# X : le tweet\n",
        "X = data['cleaned']\n",
        "# y : site fiable / pas fiable\n",
        "y = data['liability_label']"
      ],
      "metadata": {
        "id": "lsR0EFWqaKJf"
      },
      "execution_count": 29,
      "outputs": []
    },
    {
      "cell_type": "code",
      "source": [
        "# 100% dataset : 80% train 20% test\n",
        "X_train, X_test, y_train, y_test = train_test_split(X, y, test_size=0.2, random_state=1)"
      ],
      "metadata": {
        "id": "uuIhrOgeaLlg"
      },
      "execution_count": 30,
      "outputs": []
    },
    {
      "cell_type": "code",
      "source": [
        "# 80% dataset(train) : 80%*0.75=60% train  80%*0.25=20% test\n",
        "X_train, X_val, y_train, y_val = train_test_split(X_train, y_train, test_size=0.25, random_state=1)"
      ],
      "metadata": {
        "id": "5h36SEzTaM5T"
      },
      "execution_count": 31,
      "outputs": []
    },
    {
      "cell_type": "code",
      "source": [
        "print(\"X_train.shape : \",X_train.shape,\", X_val.shape : \",X_val.shape, \", X_test.shape : \",X_test.shape)"
      ],
      "metadata": {
        "id": "7H046igmkBmh",
        "colab": {
          "base_uri": "https://localhost:8080/"
        },
        "outputId": "bb7c9980-ee17-4280-da5d-6f20c9e148d6"
      },
      "execution_count": 32,
      "outputs": [
        {
          "output_type": "stream",
          "name": "stdout",
          "text": [
            "X_train.shape :  (432910,) , X_val.shape :  (144304,) , X_test.shape :  (144304,)\n"
          ]
        }
      ]
    },
    {
      "cell_type": "markdown",
      "source": [
        "Visualiser le distribution de model"
      ],
      "metadata": {
        "id": "Vh6ofj-raWwI"
      }
    },
    {
      "cell_type": "code",
      "source": [
        "import matplotlib.pyplot as plt\n",
        "import numpy as np"
      ],
      "metadata": {
        "id": "DUlTqZIdaYlK"
      },
      "execution_count": 33,
      "outputs": []
    },
    {
      "cell_type": "code",
      "source": [
        "model_size = np.array([X_train.count(), X_test.count(), X_val.count()])\n",
        "\n",
        "plt.pie(model_size,\n",
        "        # labels de pie chart\n",
        "        labels=['Training_set','Testing_set','Validation_set'], \n",
        "        # pourcentage\n",
        "        autopct='%.2f%%', \n",
        "       )\n",
        "plt.title(\"Distribution de model\")\n",
        "plt.show()"
      ],
      "metadata": {
        "id": "TgbpvYcnaaJP",
        "colab": {
          "base_uri": "https://localhost:8080/",
          "height": 264
        },
        "outputId": "0b78e58a-8e40-411a-fb65-6777506288c9"
      },
      "execution_count": 34,
      "outputs": [
        {
          "output_type": "display_data",
          "data": {
            "image/png": "[encoded data removed]",
            "text/plain": [
              "<Figure size 432x288 with 1 Axes>"
            ]
          },
          "metadata": {}
        }
      ]
    },
    {
      "cell_type": "markdown",
      "source": [
        "# Bag of words"
      ],
      "metadata": {
        "id": "DQSU3sOUZuxZ"
      }
    },
    {
      "cell_type": "code",
      "source": [
        "\"\"\"from sklearn.feature_extraction.text import CountVectorizer\"\"\""
      ],
      "metadata": {
        "id": "EwNh4sOeZwu3",
        "colab": {
          "base_uri": "https://localhost:8080/",
          "height": 36
        },
        "outputId": "0c1269be-1c97-4e4a-fa35-84f35cb9d4c6"
      },
      "execution_count": 35,
      "outputs": [
        {
          "output_type": "execute_result",
          "data": {
            "application/vnd.google.colaboratory.intrinsic+json": {
              "type": "string"
            },
            "text/plain": [
              "'from sklearn.feature_extraction.text import CountVectorizer'"
            ]
          },
          "metadata": {},
          "execution_count": 35
        }
      ]
    },
    {
      "cell_type": "code",
      "source": [
        "\"\"\"# créer un objet de CountVectorizer\n",
        "countvectorizer = CountVectorizer()\n",
        "# countvectorizer = CountVectorizer(min_df=50, max_df=0.95)\"\"\""
      ],
      "metadata": {
        "id": "kkdFxSHXakH4",
        "colab": {
          "base_uri": "https://localhost:8080/",
          "height": 36
        },
        "outputId": "917c6c80-de84-4126-88ef-4d2f34acfe32"
      },
      "execution_count": 36,
      "outputs": [
        {
          "output_type": "execute_result",
          "data": {
            "application/vnd.google.colaboratory.intrinsic+json": {
              "type": "string"
            },
            "text/plain": [
              "'# créer un objet de CountVectorizer\\ncountvectorizer = CountVectorizer()\\n# countvectorizer = CountVectorizer(min_df=50, max_df=0.95)'"
            ]
          },
          "metadata": {},
          "execution_count": 36
        }
      ]
    },
    {
      "cell_type": "code",
      "source": [
        "\"\"\"# fonction Bag_of_words \n",
        "# Entrée : list de tweet\n",
        "# Sortie : vecteurs de tweet\n",
        "def bag_of_words(text):\n",
        "  bag = countvectorizer.fit_transform(text)\n",
        "  return bag\"\"\""
      ],
      "metadata": {
        "id": "8tnBJ-Nxalmh",
        "colab": {
          "base_uri": "https://localhost:8080/",
          "height": 36
        },
        "outputId": "a3d1f4ad-5a92-496b-8b76-480101f43005"
      },
      "execution_count": 37,
      "outputs": [
        {
          "output_type": "execute_result",
          "data": {
            "application/vnd.google.colaboratory.intrinsic+json": {
              "type": "string"
            },
            "text/plain": [
              "'# fonction Bag_of_words \\n# Entrée : list de tweet\\n# Sortie : vecteurs de tweet\\ndef bag_of_words(text):\\n  bag = countvectorizer.fit_transform(text)\\n  return bag'"
            ]
          },
          "metadata": {},
          "execution_count": 37
        }
      ]
    },
    {
      "cell_type": "code",
      "source": [
        "# un exemple de test\n",
        "\"\"\"exemple = X_train[0]\n",
        "exemple1 = X_train[10]\n",
        "exemple2 = X_train[20]\n",
        "\n",
        "print('exemple : ', exemple)\n",
        "print('exemple1 : ', exemple1)\n",
        "print('exemple2 : ', exemple2)\n",
        "\n",
        "\n",
        "bag = bag_of_words([exemple, exemple1,exemple2])\n",
        "bag.toarray()\n",
        "feature_names = countvectorizer.get_feature_names()\n",
        "pd.DataFrame(bag.toarray(), columns=feature_names)\n",
        "\"\"\""
      ],
      "metadata": {
        "id": "N4-E4mkPanHQ",
        "colab": {
          "base_uri": "https://localhost:8080/",
          "height": 55
        },
        "outputId": "8c9893ab-86eb-40ac-ecea-a9a4c06bb1ba"
      },
      "execution_count": 38,
      "outputs": [
        {
          "output_type": "execute_result",
          "data": {
            "application/vnd.google.colaboratory.intrinsic+json": {
              "type": "string"
            },
            "text/plain": [
              "\"exemple = X_train[0]\\nexemple1 = X_train[10]\\nexemple2 = X_train[20]\\n\\nprint('exemple : ', exemple)\\nprint('exemple1 : ', exemple1)\\nprint('exemple2 : ', exemple2)\\n\\n\\nbag = bag_of_words([exemple, exemple1,exemple2])\\nbag.toarray()\\nfeature_names = countvectorizer.get_feature_names()\\npd.DataFrame(bag.toarray(), columns=feature_names)\\n\""
            ]
          },
          "metadata": {},
          "execution_count": 38
        }
      ]
    },
    {
      "cell_type": "code",
      "source": [
        "\"\"\"tweet = np.array(X_train)\"\"\""
      ],
      "metadata": {
        "id": "9crzYDpIapOp",
        "colab": {
          "base_uri": "https://localhost:8080/",
          "height": 36
        },
        "outputId": "ef4e416f-c7d3-40b5-9ef7-75aa3462aac9"
      },
      "execution_count": 39,
      "outputs": [
        {
          "output_type": "execute_result",
          "data": {
            "application/vnd.google.colaboratory.intrinsic+json": {
              "type": "string"
            },
            "text/plain": [
              "'tweet = np.array(X_train)'"
            ]
          },
          "metadata": {},
          "execution_count": 39
        }
      ]
    },
    {
      "cell_type": "code",
      "source": [
        "\"\"\"len(X_train)\"\"\""
      ],
      "metadata": {
        "id": "xpZqaAFgk51u",
        "colab": {
          "base_uri": "https://localhost:8080/",
          "height": 36
        },
        "outputId": "ed39102b-3b2b-4269-faca-6da17d924363"
      },
      "execution_count": 40,
      "outputs": [
        {
          "output_type": "execute_result",
          "data": {
            "application/vnd.google.colaboratory.intrinsic+json": {
              "type": "string"
            },
            "text/plain": [
              "'len(X_train)'"
            ]
          },
          "metadata": {},
          "execution_count": 40
        }
      ]
    },
    {
      "cell_type": "code",
      "source": [
        "\"\"\"bag = countvectorizer.fit_transform(tweet)\n",
        "bag.toarray()\"\"\""
      ],
      "metadata": {
        "id": "A67-XsDAaqdT",
        "colab": {
          "base_uri": "https://localhost:8080/",
          "height": 36
        },
        "outputId": "2e80a024-3bc9-450d-83a8-fb852a6ff296"
      },
      "execution_count": 41,
      "outputs": [
        {
          "output_type": "execute_result",
          "data": {
            "application/vnd.google.colaboratory.intrinsic+json": {
              "type": "string"
            },
            "text/plain": [
              "'bag = countvectorizer.fit_transform(tweet)\\nbag.toarray()'"
            ]
          },
          "metadata": {},
          "execution_count": 41
        }
      ]
    },
    {
      "cell_type": "code",
      "source": [
        "\"\"\"feature_names = countvectorizer.get_feature_names()\n",
        "pd.DataFrame(bag.toarray(), columns=feature_names)\"\"\""
      ],
      "metadata": {
        "id": "I_ycp4X9arxG",
        "colab": {
          "base_uri": "https://localhost:8080/",
          "height": 36
        },
        "outputId": "6ee53157-7a00-4d85-a6df-38e59f1273e4"
      },
      "execution_count": 42,
      "outputs": [
        {
          "output_type": "execute_result",
          "data": {
            "application/vnd.google.colaboratory.intrinsic+json": {
              "type": "string"
            },
            "text/plain": [
              "'feature_names = countvectorizer.get_feature_names()\\npd.DataFrame(bag.toarray(), columns=feature_names)'"
            ]
          },
          "metadata": {},
          "execution_count": 42
        }
      ]
    },
    {
      "cell_type": "code",
      "source": [
        "\"\"\"len(tweet)\"\"\""
      ],
      "metadata": {
        "id": "8G___ioQkrZm",
        "colab": {
          "base_uri": "https://localhost:8080/",
          "height": 36
        },
        "outputId": "218b5f3b-f7c3-4196-b235-972ec7b71845"
      },
      "execution_count": 43,
      "outputs": [
        {
          "output_type": "execute_result",
          "data": {
            "application/vnd.google.colaboratory.intrinsic+json": {
              "type": "string"
            },
            "text/plain": [
              "'len(tweet)'"
            ]
          },
          "metadata": {},
          "execution_count": 43
        }
      ]
    },
    {
      "cell_type": "code",
      "source": [
        "\"\"\"text = []\n",
        "for tweet in X_train:\n",
        "  text.append(tweet)\n",
        "print(text)\n",
        "\n",
        "bag = bag_of_words(text)\n",
        "bag.toarray()\"\"\""
      ],
      "metadata": {
        "id": "sVqUJxwjarsP",
        "colab": {
          "base_uri": "https://localhost:8080/",
          "height": 36
        },
        "outputId": "598705dd-2d81-4708-adb7-dad905803aef"
      },
      "execution_count": 44,
      "outputs": [
        {
          "output_type": "execute_result",
          "data": {
            "application/vnd.google.colaboratory.intrinsic+json": {
              "type": "string"
            },
            "text/plain": [
              "'text = []\\nfor tweet in X_train:\\n  text.append(tweet)\\nprint(text)\\n\\nbag = bag_of_words(text)\\nbag.toarray()'"
            ]
          },
          "metadata": {},
          "execution_count": 44
        }
      ]
    },
    {
      "cell_type": "markdown",
      "source": [
        "# TF-IDF"
      ],
      "metadata": {
        "id": "86zO91TNZppf"
      }
    },
    {
      "cell_type": "code",
      "source": [
        "X_train.shape"
      ],
      "metadata": {
        "colab": {
          "base_uri": "https://localhost:8080/"
        },
        "id": "Vdq5RIRo7QgV",
        "outputId": "9d727056-6069-41e9-a3be-9b64949963d9"
      },
      "execution_count": 45,
      "outputs": [
        {
          "output_type": "execute_result",
          "data": {
            "text/plain": [
              "(432910,)"
            ]
          },
          "metadata": {},
          "execution_count": 45
        }
      ]
    },
    {
      "cell_type": "code",
      "source": [
        "from sklearn.feature_extraction.text import TfidfVectorizer\n",
        "\n",
        "vectorizer = TfidfVectorizer(min_df=1000, max_df=0.9)\n",
        "X = vectorizer.fit_transform(X_train.tolist())"
      ],
      "metadata": {
        "id": "iId_MQ78KU3d"
      },
      "execution_count": 46,
      "outputs": []
    },
    {
      "cell_type": "code",
      "source": [
        "featured_names = vectorizer.get_feature_names()\n",
        "len(featured_names)"
      ],
      "metadata": {
        "colab": {
          "base_uri": "https://localhost:8080/"
        },
        "id": "q4BhwyQauvBy",
        "outputId": "0d262f87-78d4-4135-9743-2458e38c6340"
      },
      "execution_count": 47,
      "outputs": [
        {
          "output_type": "stream",
          "name": "stderr",
          "text": [
            "/usr/local/lib/python3.7/dist-packages/sklearn/utils/deprecation.py:87: FutureWarning: Function get_feature_names is deprecated; get_feature_names is deprecated in 1.0 and will be removed in 1.2. Please use get_feature_names_out instead.\n",
            "  warnings.warn(msg, category=FutureWarning)\n"
          ]
        },
        {
          "output_type": "execute_result",
          "data": {
            "text/plain": [
              "318"
            ]
          },
          "metadata": {},
          "execution_count": 47
        }
      ]
    },
    {
      "cell_type": "code",
      "source": [
        "print(f'Feature names \\n{featured_names}')"
      ],
      "metadata": {
        "colab": {
          "base_uri": "https://localhost:8080/"
        },
        "id": "PtetqBef7l13",
        "outputId": "56f7befa-d567-4a60-8ae6-b86503a65179"
      },
      "execution_count": 48,
      "outputs": [
        {
          "output_type": "stream",
          "name": "stdout",
          "text": [
            "Feature names \n",
            "['accident', 'affaire', 'ai', 'alerte', 'amp', 'américain', 'an', 'ancien', 'and', 'annonce', 'année', 'années', 'ans', 'appel', 'appelle', 'article', 'aujourd', 'aujourdhui', 'autour', 'avez', 'belle', 'biden', 'bientôt', 'bon', 'bonjour', 'bonne', 'campagne', 'candidat', 'cas', 'cause', 'centre', 'cest', 'chef', 'chine', 'cinéma', 'compte', 'condamné', 'confinement', 'conseil', 'coronavirus', 'corps', 'coup', 'cours', 'covid', 'covid19', 'crise', 'cœur', 'de', 'demain', 'demande', 'dernière', 'desident_date', 'desident_link', 'desident_number', 'direct', 'disponible', 'donne', 'dose', 'droit', 'droite', 'dun', 'dune', 'débat', 'début', 'découvrez', 'décès', 'déjà', 'dêtre', 'emmanuel', 'en', 'enfant', 'enfants', 'enquête', 'entretien', 'er', 'eric', 'est', 'et', 'etatsunis', 'europe', 'européenne', 'euros', 'explique', 'face', 'facebook', 'faire', 'famille', 'faut', 'femme', 'femmes', 'festival', 'feu', 'fille', 'film', 'fin', 'fois', 'football', 'for', 'france', 'français', 'française', 'françois', 'fête', 'garde', 'gauche', 'gouvernement', 'grand', 'grande', 'grands', 'gros', 'groupe', 'grâce', 'guerre', 'hausse', 'heures', 'hier', 'histoire', 'hommage', 'homme', 'hommes', 'hui', 'ici', 'il', 'images', 'in', 'info', 'interview', 'is', 'israël', 'jai', 'jamais', 'jean', 'jeu', 'jeune', 'jeunes', 'jeux', 'jour', 'journaliste', 'journée', 'jours', 'jusqu', 'justice', 'la', 'lance', 'le', 'les', 'liberté', 'lieu', 'ligne', 'lire', 'live', 'livre', 'loi', 'lr', 'lutte', 'macron', 'maire', 'maison', 'mal', 'marché', 'marseille', 'masque', 'match', 'meilleur', 'mesures', 'met', 'mettre', 'mieux', 'migrants', 'milliards', 'millions', 'ministre', 'mis', 'mise', 'mois', 'moment', 'monde', 'mort', 'morts', 'mère', 'médias', 'nantes', 'national', 'nationale', 'nest', 'netflix', 'new', 'nicolas', 'nom', 'nombre', 'nord', 'nouveaux', 'nouvel', 'nouvelle', 'nouvelles', 'noël', 'numéro', 'obligatoire', 'of', 'omicron', 'on', 'oui', 'page', 'paris', 'part', 'parti', 'partie', 'partir', 'pass', 'passe', 'passer', 'pays', 'pen', 'personnes', 'petit', 'petite', 'philippe', 'photo', 'photos', 'place', 'plan', 'point', 'police', 'policiers', 'politique', 'pouvoir', 'prend', 'prendre', 'presse', 'pris', 'prison', 'prix', 'procès', 'programme', 'projet', 'propos', 'propose', 'président', 'présidentielle', 'public', 'père', 'qu', 'question', 'questions', 'quil', 'quon', 'raconte', 'raison', 'rappel', 'rapport', 'record', 'rencontre', 'rendezvous', 'replay', 'retrouver', 'retrouvez', 'revient', 'risque', 'rt', 'rue', 'réseaux', 'saison', 'sanitaire', 'santé', 'savoir', 'semaine', 'service', 'sest', 'site', 'situation', 'sociaux', 'société', 'sommes', 'sortie', 'suite', 'suivez', 'sécurité', 'série', 'temps', 'terre', 'the', 'to', 'top', 'tour', 'train', 'travail', 'trump', 'twitter', 'tête', 'un', 'une', 'us', 'vaccin', 'vaccination', 'vague', 'variant', 'veut', 'victime', 'victimes', 'video', 'vidéo', 'vie', 'vient', 'ville', 'violences', 'voir', 'voiture', 'vraiment', 'vue', 'weekend', 'with', 'zemmour', 'épisode', 'éric', 'état', 'étatsunis', 'étude', 'être']\n"
          ]
        }
      ]
    },
    {
      "cell_type": "code",
      "source": [
        "# matrix = X.todense()"
      ],
      "metadata": {
        "id": "Qd_VuXOV73FN"
      },
      "execution_count": 49,
      "outputs": []
    },
    {
      "cell_type": "markdown",
      "source": [
        "J'ai trouvé ce qui saturait la RAM, la matrice sous forme de liste ne sera donc plus enregistrée dans une variable pour libérer de la mémoire vive"
      ],
      "metadata": {
        "id": "ZW_BpcqY_ZTa"
      }
    },
    {
      "cell_type": "code",
      "source": [
        "# denseliste = matrix.tolist()"
      ],
      "metadata": {
        "id": "LD36ki9H759s"
      },
      "execution_count": 50,
      "outputs": []
    },
    {
      "cell_type": "code",
      "source": [
        "# df = pd.DataFrame(denseliste, columns=featured_names)\n",
        "# df = pd.DataFrame(matrix.tolist(), columns=featured_names)\n",
        "df = pd.DataFrame(X.todense().tolist(), columns=featured_names)\n",
        "# print(f'Final result of TF-IDF \\n{df}')\n",
        "# passer modèle non supervisé pour réduire nb colonne : trucated svd (méthode de clustering) obtenir plutôt 500 colonnes\n",
        "df"
      ],
      "metadata": {
        "id": "DGMnxpT-N_I2",
        "colab": {
          "base_uri": "https://localhost:8080/",
          "height": 488
        },
        "outputId": "5e17a048-94e7-46c7-dd30-69599b8816f2"
      },
      "execution_count": 51,
      "outputs": [
        {
          "output_type": "execute_result",
          "data": {
            "text/html": [
              "\n",
              "  <div id=\"df-4e6015c1-7008-4153-a494-1e8e388c75c6\">\n",
              "    <div class=\"colab-df-container\">\n",
              "      <div>\n",
              "<style scoped>\n",
              "    .dataframe tbody tr th:only-of-type {\n",
              "        vertical-align: middle;\n",
              "    }\n",
              "\n",
              "    .dataframe tbody tr th {\n",
              "        vertical-align: top;\n",
              "    }\n",
              "\n",
              "    .dataframe thead th {\n",
              "        text-align: right;\n",
              "    }\n",
              "</style>\n",
              "<table border=\"1\" class=\"dataframe\">\n",
              "  <thead>\n",
              "    <tr style=\"text-align: right;\">\n",
              "      <th></th>\n",
              "      <th>accident</th>\n",
              "      <th>affaire</th>\n",
              "      <th>ai</th>\n",
              "      <th>alerte</th>\n",
              "      <th>amp</th>\n",
              "      <th>américain</th>\n",
              "      <th>an</th>\n",
              "      <th>ancien</th>\n",
              "      <th>and</th>\n",
              "      <th>annonce</th>\n",
              "      <th>année</th>\n",
              "      <th>années</th>\n",
              "      <th>ans</th>\n",
              "      <th>appel</th>\n",
              "      <th>appelle</th>\n",
              "      <th>article</th>\n",
              "      <th>aujourd</th>\n",
              "      <th>aujourdhui</th>\n",
              "      <th>autour</th>\n",
              "      <th>avez</th>\n",
              "      <th>belle</th>\n",
              "      <th>biden</th>\n",
              "      <th>bientôt</th>\n",
              "      <th>bon</th>\n",
              "      <th>bonjour</th>\n",
              "      <th>bonne</th>\n",
              "      <th>campagne</th>\n",
              "      <th>candidat</th>\n",
              "      <th>cas</th>\n",
              "      <th>cause</th>\n",
              "      <th>centre</th>\n",
              "      <th>cest</th>\n",
              "      <th>chef</th>\n",
              "      <th>chine</th>\n",
              "      <th>cinéma</th>\n",
              "      <th>compte</th>\n",
              "      <th>condamné</th>\n",
              "      <th>confinement</th>\n",
              "      <th>conseil</th>\n",
              "      <th>coronavirus</th>\n",
              "      <th>...</th>\n",
              "      <th>temps</th>\n",
              "      <th>terre</th>\n",
              "      <th>the</th>\n",
              "      <th>to</th>\n",
              "      <th>top</th>\n",
              "      <th>tour</th>\n",
              "      <th>train</th>\n",
              "      <th>travail</th>\n",
              "      <th>trump</th>\n",
              "      <th>twitter</th>\n",
              "      <th>tête</th>\n",
              "      <th>un</th>\n",
              "      <th>une</th>\n",
              "      <th>us</th>\n",
              "      <th>vaccin</th>\n",
              "      <th>vaccination</th>\n",
              "      <th>vague</th>\n",
              "      <th>variant</th>\n",
              "      <th>veut</th>\n",
              "      <th>victime</th>\n",
              "      <th>victimes</th>\n",
              "      <th>video</th>\n",
              "      <th>vidéo</th>\n",
              "      <th>vie</th>\n",
              "      <th>vient</th>\n",
              "      <th>ville</th>\n",
              "      <th>violences</th>\n",
              "      <th>voir</th>\n",
              "      <th>voiture</th>\n",
              "      <th>vraiment</th>\n",
              "      <th>vue</th>\n",
              "      <th>weekend</th>\n",
              "      <th>with</th>\n",
              "      <th>zemmour</th>\n",
              "      <th>épisode</th>\n",
              "      <th>éric</th>\n",
              "      <th>état</th>\n",
              "      <th>étatsunis</th>\n",
              "      <th>étude</th>\n",
              "      <th>être</th>\n",
              "    </tr>\n",
              "  </thead>\n",
              "  <tbody>\n",
              "    <tr>\n",
              "      <th>0</th>\n",
              "      <td>0.0</td>\n",
              "      <td>0.0</td>\n",
              "      <td>0.0</td>\n",
              "      <td>0.0</td>\n",
              "      <td>0.0</td>\n",
              "      <td>0.0</td>\n",
              "      <td>0.0</td>\n",
              "      <td>0.0</td>\n",
              "      <td>0.0</td>\n",
              "      <td>0.0</td>\n",
              "      <td>0.0</td>\n",
              "      <td>0.0</td>\n",
              "      <td>0.000000</td>\n",
              "      <td>0.0</td>\n",
              "      <td>0.0</td>\n",
              "      <td>0.0</td>\n",
              "      <td>0.0</td>\n",
              "      <td>0.0</td>\n",
              "      <td>0.0</td>\n",
              "      <td>0.0</td>\n",
              "      <td>0.0</td>\n",
              "      <td>0.0</td>\n",
              "      <td>0.0</td>\n",
              "      <td>0.0</td>\n",
              "      <td>0.0</td>\n",
              "      <td>0.0</td>\n",
              "      <td>0.0</td>\n",
              "      <td>0.000000</td>\n",
              "      <td>0.0</td>\n",
              "      <td>0.0</td>\n",
              "      <td>0.0</td>\n",
              "      <td>0.0</td>\n",
              "      <td>0.0</td>\n",
              "      <td>0.0</td>\n",
              "      <td>0.0</td>\n",
              "      <td>0.0</td>\n",
              "      <td>0.000000</td>\n",
              "      <td>0.0</td>\n",
              "      <td>0.0</td>\n",
              "      <td>0.0</td>\n",
              "      <td>...</td>\n",
              "      <td>0.0</td>\n",
              "      <td>0.0</td>\n",
              "      <td>0.0</td>\n",
              "      <td>0.0</td>\n",
              "      <td>0.0</td>\n",
              "      <td>0.000000</td>\n",
              "      <td>0.0</td>\n",
              "      <td>0.0</td>\n",
              "      <td>0.0</td>\n",
              "      <td>0.0</td>\n",
              "      <td>0.0</td>\n",
              "      <td>0.0</td>\n",
              "      <td>0.000000</td>\n",
              "      <td>0.0</td>\n",
              "      <td>0.0</td>\n",
              "      <td>0.0</td>\n",
              "      <td>0.0</td>\n",
              "      <td>0.0</td>\n",
              "      <td>0.0</td>\n",
              "      <td>0.000000</td>\n",
              "      <td>0.0</td>\n",
              "      <td>0.0</td>\n",
              "      <td>0.0</td>\n",
              "      <td>0.000000</td>\n",
              "      <td>0.0</td>\n",
              "      <td>0.0</td>\n",
              "      <td>0.000000</td>\n",
              "      <td>0.0</td>\n",
              "      <td>0.0</td>\n",
              "      <td>0.0</td>\n",
              "      <td>0.0</td>\n",
              "      <td>0.0</td>\n",
              "      <td>0.0</td>\n",
              "      <td>0.0</td>\n",
              "      <td>0.0</td>\n",
              "      <td>0.0</td>\n",
              "      <td>0.0</td>\n",
              "      <td>0.0</td>\n",
              "      <td>0.0</td>\n",
              "      <td>0.0</td>\n",
              "    </tr>\n",
              "    <tr>\n",
              "      <th>1</th>\n",
              "      <td>0.0</td>\n",
              "      <td>0.0</td>\n",
              "      <td>0.0</td>\n",
              "      <td>0.0</td>\n",
              "      <td>0.0</td>\n",
              "      <td>0.0</td>\n",
              "      <td>0.0</td>\n",
              "      <td>0.0</td>\n",
              "      <td>0.0</td>\n",
              "      <td>0.0</td>\n",
              "      <td>0.0</td>\n",
              "      <td>0.0</td>\n",
              "      <td>0.000000</td>\n",
              "      <td>0.0</td>\n",
              "      <td>0.0</td>\n",
              "      <td>0.0</td>\n",
              "      <td>0.0</td>\n",
              "      <td>0.0</td>\n",
              "      <td>0.0</td>\n",
              "      <td>0.0</td>\n",
              "      <td>0.0</td>\n",
              "      <td>0.0</td>\n",
              "      <td>0.0</td>\n",
              "      <td>0.0</td>\n",
              "      <td>0.0</td>\n",
              "      <td>0.0</td>\n",
              "      <td>0.0</td>\n",
              "      <td>0.000000</td>\n",
              "      <td>0.0</td>\n",
              "      <td>0.0</td>\n",
              "      <td>0.0</td>\n",
              "      <td>0.0</td>\n",
              "      <td>0.0</td>\n",
              "      <td>0.0</td>\n",
              "      <td>0.0</td>\n",
              "      <td>0.0</td>\n",
              "      <td>0.000000</td>\n",
              "      <td>0.0</td>\n",
              "      <td>0.0</td>\n",
              "      <td>0.0</td>\n",
              "      <td>...</td>\n",
              "      <td>0.0</td>\n",
              "      <td>0.0</td>\n",
              "      <td>0.0</td>\n",
              "      <td>0.0</td>\n",
              "      <td>0.0</td>\n",
              "      <td>0.000000</td>\n",
              "      <td>0.0</td>\n",
              "      <td>0.0</td>\n",
              "      <td>0.0</td>\n",
              "      <td>0.0</td>\n",
              "      <td>0.0</td>\n",
              "      <td>0.0</td>\n",
              "      <td>0.000000</td>\n",
              "      <td>0.0</td>\n",
              "      <td>0.0</td>\n",
              "      <td>0.0</td>\n",
              "      <td>0.0</td>\n",
              "      <td>0.0</td>\n",
              "      <td>0.0</td>\n",
              "      <td>0.721755</td>\n",
              "      <td>0.0</td>\n",
              "      <td>0.0</td>\n",
              "      <td>0.0</td>\n",
              "      <td>0.000000</td>\n",
              "      <td>0.0</td>\n",
              "      <td>0.0</td>\n",
              "      <td>0.682194</td>\n",
              "      <td>0.0</td>\n",
              "      <td>0.0</td>\n",
              "      <td>0.0</td>\n",
              "      <td>0.0</td>\n",
              "      <td>0.0</td>\n",
              "      <td>0.0</td>\n",
              "      <td>0.0</td>\n",
              "      <td>0.0</td>\n",
              "      <td>0.0</td>\n",
              "      <td>0.0</td>\n",
              "      <td>0.0</td>\n",
              "      <td>0.0</td>\n",
              "      <td>0.0</td>\n",
              "    </tr>\n",
              "    <tr>\n",
              "      <th>2</th>\n",
              "      <td>0.0</td>\n",
              "      <td>0.0</td>\n",
              "      <td>0.0</td>\n",
              "      <td>0.0</td>\n",
              "      <td>0.0</td>\n",
              "      <td>0.0</td>\n",
              "      <td>0.0</td>\n",
              "      <td>0.0</td>\n",
              "      <td>0.0</td>\n",
              "      <td>0.0</td>\n",
              "      <td>0.0</td>\n",
              "      <td>0.0</td>\n",
              "      <td>0.404674</td>\n",
              "      <td>0.0</td>\n",
              "      <td>0.0</td>\n",
              "      <td>0.0</td>\n",
              "      <td>0.0</td>\n",
              "      <td>0.0</td>\n",
              "      <td>0.0</td>\n",
              "      <td>0.0</td>\n",
              "      <td>0.0</td>\n",
              "      <td>0.0</td>\n",
              "      <td>0.0</td>\n",
              "      <td>0.0</td>\n",
              "      <td>0.0</td>\n",
              "      <td>0.0</td>\n",
              "      <td>0.0</td>\n",
              "      <td>0.000000</td>\n",
              "      <td>0.0</td>\n",
              "      <td>0.0</td>\n",
              "      <td>0.0</td>\n",
              "      <td>0.0</td>\n",
              "      <td>0.0</td>\n",
              "      <td>0.0</td>\n",
              "      <td>0.0</td>\n",
              "      <td>0.0</td>\n",
              "      <td>0.000000</td>\n",
              "      <td>0.0</td>\n",
              "      <td>0.0</td>\n",
              "      <td>0.0</td>\n",
              "      <td>...</td>\n",
              "      <td>0.0</td>\n",
              "      <td>0.0</td>\n",
              "      <td>0.0</td>\n",
              "      <td>0.0</td>\n",
              "      <td>0.0</td>\n",
              "      <td>0.000000</td>\n",
              "      <td>0.0</td>\n",
              "      <td>0.0</td>\n",
              "      <td>0.0</td>\n",
              "      <td>0.0</td>\n",
              "      <td>0.0</td>\n",
              "      <td>0.0</td>\n",
              "      <td>0.485646</td>\n",
              "      <td>0.0</td>\n",
              "      <td>0.0</td>\n",
              "      <td>0.0</td>\n",
              "      <td>0.0</td>\n",
              "      <td>0.0</td>\n",
              "      <td>0.0</td>\n",
              "      <td>0.000000</td>\n",
              "      <td>0.0</td>\n",
              "      <td>0.0</td>\n",
              "      <td>0.0</td>\n",
              "      <td>0.000000</td>\n",
              "      <td>0.0</td>\n",
              "      <td>0.0</td>\n",
              "      <td>0.000000</td>\n",
              "      <td>0.0</td>\n",
              "      <td>0.0</td>\n",
              "      <td>0.0</td>\n",
              "      <td>0.0</td>\n",
              "      <td>0.0</td>\n",
              "      <td>0.0</td>\n",
              "      <td>0.0</td>\n",
              "      <td>0.0</td>\n",
              "      <td>0.0</td>\n",
              "      <td>0.0</td>\n",
              "      <td>0.0</td>\n",
              "      <td>0.0</td>\n",
              "      <td>0.0</td>\n",
              "    </tr>\n",
              "    <tr>\n",
              "      <th>3</th>\n",
              "      <td>0.0</td>\n",
              "      <td>0.0</td>\n",
              "      <td>0.0</td>\n",
              "      <td>0.0</td>\n",
              "      <td>0.0</td>\n",
              "      <td>0.0</td>\n",
              "      <td>0.0</td>\n",
              "      <td>0.0</td>\n",
              "      <td>0.0</td>\n",
              "      <td>0.0</td>\n",
              "      <td>0.0</td>\n",
              "      <td>0.0</td>\n",
              "      <td>0.000000</td>\n",
              "      <td>0.0</td>\n",
              "      <td>0.0</td>\n",
              "      <td>0.0</td>\n",
              "      <td>0.0</td>\n",
              "      <td>0.0</td>\n",
              "      <td>0.0</td>\n",
              "      <td>0.0</td>\n",
              "      <td>0.0</td>\n",
              "      <td>0.0</td>\n",
              "      <td>0.0</td>\n",
              "      <td>0.0</td>\n",
              "      <td>0.0</td>\n",
              "      <td>0.0</td>\n",
              "      <td>0.0</td>\n",
              "      <td>0.000000</td>\n",
              "      <td>0.0</td>\n",
              "      <td>0.0</td>\n",
              "      <td>0.0</td>\n",
              "      <td>0.0</td>\n",
              "      <td>0.0</td>\n",
              "      <td>0.0</td>\n",
              "      <td>0.0</td>\n",
              "      <td>0.0</td>\n",
              "      <td>0.000000</td>\n",
              "      <td>0.0</td>\n",
              "      <td>0.0</td>\n",
              "      <td>0.0</td>\n",
              "      <td>...</td>\n",
              "      <td>0.0</td>\n",
              "      <td>0.0</td>\n",
              "      <td>0.0</td>\n",
              "      <td>0.0</td>\n",
              "      <td>0.0</td>\n",
              "      <td>0.566441</td>\n",
              "      <td>0.0</td>\n",
              "      <td>0.0</td>\n",
              "      <td>0.0</td>\n",
              "      <td>0.0</td>\n",
              "      <td>0.0</td>\n",
              "      <td>0.0</td>\n",
              "      <td>0.000000</td>\n",
              "      <td>0.0</td>\n",
              "      <td>0.0</td>\n",
              "      <td>0.0</td>\n",
              "      <td>0.0</td>\n",
              "      <td>0.0</td>\n",
              "      <td>0.0</td>\n",
              "      <td>0.000000</td>\n",
              "      <td>0.0</td>\n",
              "      <td>0.0</td>\n",
              "      <td>0.0</td>\n",
              "      <td>0.000000</td>\n",
              "      <td>0.0</td>\n",
              "      <td>0.0</td>\n",
              "      <td>0.000000</td>\n",
              "      <td>0.0</td>\n",
              "      <td>0.0</td>\n",
              "      <td>0.0</td>\n",
              "      <td>0.0</td>\n",
              "      <td>0.0</td>\n",
              "      <td>0.0</td>\n",
              "      <td>0.0</td>\n",
              "      <td>0.0</td>\n",
              "      <td>0.0</td>\n",
              "      <td>0.0</td>\n",
              "      <td>0.0</td>\n",
              "      <td>0.0</td>\n",
              "      <td>0.0</td>\n",
              "    </tr>\n",
              "    <tr>\n",
              "      <th>4</th>\n",
              "      <td>0.0</td>\n",
              "      <td>0.0</td>\n",
              "      <td>0.0</td>\n",
              "      <td>0.0</td>\n",
              "      <td>0.0</td>\n",
              "      <td>0.0</td>\n",
              "      <td>0.0</td>\n",
              "      <td>0.0</td>\n",
              "      <td>0.0</td>\n",
              "      <td>0.0</td>\n",
              "      <td>0.0</td>\n",
              "      <td>0.0</td>\n",
              "      <td>0.000000</td>\n",
              "      <td>0.0</td>\n",
              "      <td>0.0</td>\n",
              "      <td>0.0</td>\n",
              "      <td>0.0</td>\n",
              "      <td>0.0</td>\n",
              "      <td>0.0</td>\n",
              "      <td>0.0</td>\n",
              "      <td>0.0</td>\n",
              "      <td>0.0</td>\n",
              "      <td>0.0</td>\n",
              "      <td>0.0</td>\n",
              "      <td>0.0</td>\n",
              "      <td>0.0</td>\n",
              "      <td>0.0</td>\n",
              "      <td>0.000000</td>\n",
              "      <td>0.0</td>\n",
              "      <td>0.0</td>\n",
              "      <td>0.0</td>\n",
              "      <td>0.0</td>\n",
              "      <td>0.0</td>\n",
              "      <td>0.0</td>\n",
              "      <td>0.0</td>\n",
              "      <td>0.0</td>\n",
              "      <td>0.615065</td>\n",
              "      <td>0.0</td>\n",
              "      <td>0.0</td>\n",
              "      <td>0.0</td>\n",
              "      <td>...</td>\n",
              "      <td>0.0</td>\n",
              "      <td>0.0</td>\n",
              "      <td>0.0</td>\n",
              "      <td>0.0</td>\n",
              "      <td>0.0</td>\n",
              "      <td>0.000000</td>\n",
              "      <td>0.0</td>\n",
              "      <td>0.0</td>\n",
              "      <td>0.0</td>\n",
              "      <td>0.0</td>\n",
              "      <td>0.0</td>\n",
              "      <td>0.0</td>\n",
              "      <td>0.000000</td>\n",
              "      <td>0.0</td>\n",
              "      <td>0.0</td>\n",
              "      <td>0.0</td>\n",
              "      <td>0.0</td>\n",
              "      <td>0.0</td>\n",
              "      <td>0.0</td>\n",
              "      <td>0.000000</td>\n",
              "      <td>0.0</td>\n",
              "      <td>0.0</td>\n",
              "      <td>0.0</td>\n",
              "      <td>0.000000</td>\n",
              "      <td>0.0</td>\n",
              "      <td>0.0</td>\n",
              "      <td>0.000000</td>\n",
              "      <td>0.0</td>\n",
              "      <td>0.0</td>\n",
              "      <td>0.0</td>\n",
              "      <td>0.0</td>\n",
              "      <td>0.0</td>\n",
              "      <td>0.0</td>\n",
              "      <td>0.0</td>\n",
              "      <td>0.0</td>\n",
              "      <td>0.0</td>\n",
              "      <td>0.0</td>\n",
              "      <td>0.0</td>\n",
              "      <td>0.0</td>\n",
              "      <td>0.0</td>\n",
              "    </tr>\n",
              "    <tr>\n",
              "      <th>...</th>\n",
              "      <td>...</td>\n",
              "      <td>...</td>\n",
              "      <td>...</td>\n",
              "      <td>...</td>\n",
              "      <td>...</td>\n",
              "      <td>...</td>\n",
              "      <td>...</td>\n",
              "      <td>...</td>\n",
              "      <td>...</td>\n",
              "      <td>...</td>\n",
              "      <td>...</td>\n",
              "      <td>...</td>\n",
              "      <td>...</td>\n",
              "      <td>...</td>\n",
              "      <td>...</td>\n",
              "      <td>...</td>\n",
              "      <td>...</td>\n",
              "      <td>...</td>\n",
              "      <td>...</td>\n",
              "      <td>...</td>\n",
              "      <td>...</td>\n",
              "      <td>...</td>\n",
              "      <td>...</td>\n",
              "      <td>...</td>\n",
              "      <td>...</td>\n",
              "      <td>...</td>\n",
              "      <td>...</td>\n",
              "      <td>...</td>\n",
              "      <td>...</td>\n",
              "      <td>...</td>\n",
              "      <td>...</td>\n",
              "      <td>...</td>\n",
              "      <td>...</td>\n",
              "      <td>...</td>\n",
              "      <td>...</td>\n",
              "      <td>...</td>\n",
              "      <td>...</td>\n",
              "      <td>...</td>\n",
              "      <td>...</td>\n",
              "      <td>...</td>\n",
              "      <td>...</td>\n",
              "      <td>...</td>\n",
              "      <td>...</td>\n",
              "      <td>...</td>\n",
              "      <td>...</td>\n",
              "      <td>...</td>\n",
              "      <td>...</td>\n",
              "      <td>...</td>\n",
              "      <td>...</td>\n",
              "      <td>...</td>\n",
              "      <td>...</td>\n",
              "      <td>...</td>\n",
              "      <td>...</td>\n",
              "      <td>...</td>\n",
              "      <td>...</td>\n",
              "      <td>...</td>\n",
              "      <td>...</td>\n",
              "      <td>...</td>\n",
              "      <td>...</td>\n",
              "      <td>...</td>\n",
              "      <td>...</td>\n",
              "      <td>...</td>\n",
              "      <td>...</td>\n",
              "      <td>...</td>\n",
              "      <td>...</td>\n",
              "      <td>...</td>\n",
              "      <td>...</td>\n",
              "      <td>...</td>\n",
              "      <td>...</td>\n",
              "      <td>...</td>\n",
              "      <td>...</td>\n",
              "      <td>...</td>\n",
              "      <td>...</td>\n",
              "      <td>...</td>\n",
              "      <td>...</td>\n",
              "      <td>...</td>\n",
              "      <td>...</td>\n",
              "      <td>...</td>\n",
              "      <td>...</td>\n",
              "      <td>...</td>\n",
              "      <td>...</td>\n",
              "    </tr>\n",
              "    <tr>\n",
              "      <th>432905</th>\n",
              "      <td>0.0</td>\n",
              "      <td>0.0</td>\n",
              "      <td>0.0</td>\n",
              "      <td>0.0</td>\n",
              "      <td>0.0</td>\n",
              "      <td>0.0</td>\n",
              "      <td>0.0</td>\n",
              "      <td>0.0</td>\n",
              "      <td>0.0</td>\n",
              "      <td>0.0</td>\n",
              "      <td>0.0</td>\n",
              "      <td>0.0</td>\n",
              "      <td>0.000000</td>\n",
              "      <td>0.0</td>\n",
              "      <td>0.0</td>\n",
              "      <td>0.0</td>\n",
              "      <td>0.0</td>\n",
              "      <td>0.0</td>\n",
              "      <td>0.0</td>\n",
              "      <td>0.0</td>\n",
              "      <td>0.0</td>\n",
              "      <td>0.0</td>\n",
              "      <td>0.0</td>\n",
              "      <td>0.0</td>\n",
              "      <td>0.0</td>\n",
              "      <td>0.0</td>\n",
              "      <td>0.0</td>\n",
              "      <td>0.000000</td>\n",
              "      <td>0.0</td>\n",
              "      <td>0.0</td>\n",
              "      <td>0.0</td>\n",
              "      <td>0.0</td>\n",
              "      <td>0.0</td>\n",
              "      <td>0.0</td>\n",
              "      <td>0.0</td>\n",
              "      <td>0.0</td>\n",
              "      <td>0.000000</td>\n",
              "      <td>0.0</td>\n",
              "      <td>0.0</td>\n",
              "      <td>0.0</td>\n",
              "      <td>...</td>\n",
              "      <td>0.0</td>\n",
              "      <td>0.0</td>\n",
              "      <td>0.0</td>\n",
              "      <td>0.0</td>\n",
              "      <td>0.0</td>\n",
              "      <td>0.000000</td>\n",
              "      <td>0.0</td>\n",
              "      <td>0.0</td>\n",
              "      <td>0.0</td>\n",
              "      <td>0.0</td>\n",
              "      <td>0.0</td>\n",
              "      <td>0.0</td>\n",
              "      <td>0.000000</td>\n",
              "      <td>0.0</td>\n",
              "      <td>0.0</td>\n",
              "      <td>0.0</td>\n",
              "      <td>0.0</td>\n",
              "      <td>0.0</td>\n",
              "      <td>0.0</td>\n",
              "      <td>0.000000</td>\n",
              "      <td>0.0</td>\n",
              "      <td>0.0</td>\n",
              "      <td>0.0</td>\n",
              "      <td>0.980832</td>\n",
              "      <td>0.0</td>\n",
              "      <td>0.0</td>\n",
              "      <td>0.000000</td>\n",
              "      <td>0.0</td>\n",
              "      <td>0.0</td>\n",
              "      <td>0.0</td>\n",
              "      <td>0.0</td>\n",
              "      <td>0.0</td>\n",
              "      <td>0.0</td>\n",
              "      <td>0.0</td>\n",
              "      <td>0.0</td>\n",
              "      <td>0.0</td>\n",
              "      <td>0.0</td>\n",
              "      <td>0.0</td>\n",
              "      <td>0.0</td>\n",
              "      <td>0.0</td>\n",
              "    </tr>\n",
              "    <tr>\n",
              "      <th>432906</th>\n",
              "      <td>0.0</td>\n",
              "      <td>0.0</td>\n",
              "      <td>0.0</td>\n",
              "      <td>0.0</td>\n",
              "      <td>0.0</td>\n",
              "      <td>0.0</td>\n",
              "      <td>0.0</td>\n",
              "      <td>0.0</td>\n",
              "      <td>0.0</td>\n",
              "      <td>0.0</td>\n",
              "      <td>0.0</td>\n",
              "      <td>0.0</td>\n",
              "      <td>0.000000</td>\n",
              "      <td>0.0</td>\n",
              "      <td>0.0</td>\n",
              "      <td>0.0</td>\n",
              "      <td>0.0</td>\n",
              "      <td>0.0</td>\n",
              "      <td>0.0</td>\n",
              "      <td>0.0</td>\n",
              "      <td>0.0</td>\n",
              "      <td>0.0</td>\n",
              "      <td>0.0</td>\n",
              "      <td>0.0</td>\n",
              "      <td>0.0</td>\n",
              "      <td>0.0</td>\n",
              "      <td>0.0</td>\n",
              "      <td>0.000000</td>\n",
              "      <td>0.0</td>\n",
              "      <td>0.0</td>\n",
              "      <td>0.0</td>\n",
              "      <td>0.0</td>\n",
              "      <td>0.0</td>\n",
              "      <td>0.0</td>\n",
              "      <td>0.0</td>\n",
              "      <td>0.0</td>\n",
              "      <td>0.000000</td>\n",
              "      <td>0.0</td>\n",
              "      <td>0.0</td>\n",
              "      <td>0.0</td>\n",
              "      <td>...</td>\n",
              "      <td>0.0</td>\n",
              "      <td>0.0</td>\n",
              "      <td>0.0</td>\n",
              "      <td>0.0</td>\n",
              "      <td>0.0</td>\n",
              "      <td>0.000000</td>\n",
              "      <td>0.0</td>\n",
              "      <td>0.0</td>\n",
              "      <td>0.0</td>\n",
              "      <td>0.0</td>\n",
              "      <td>0.0</td>\n",
              "      <td>0.0</td>\n",
              "      <td>0.000000</td>\n",
              "      <td>0.0</td>\n",
              "      <td>0.0</td>\n",
              "      <td>0.0</td>\n",
              "      <td>0.0</td>\n",
              "      <td>0.0</td>\n",
              "      <td>0.0</td>\n",
              "      <td>0.000000</td>\n",
              "      <td>0.0</td>\n",
              "      <td>0.0</td>\n",
              "      <td>0.0</td>\n",
              "      <td>0.000000</td>\n",
              "      <td>0.0</td>\n",
              "      <td>0.0</td>\n",
              "      <td>0.000000</td>\n",
              "      <td>0.0</td>\n",
              "      <td>0.0</td>\n",
              "      <td>0.0</td>\n",
              "      <td>0.0</td>\n",
              "      <td>0.0</td>\n",
              "      <td>0.0</td>\n",
              "      <td>0.0</td>\n",
              "      <td>0.0</td>\n",
              "      <td>0.0</td>\n",
              "      <td>0.0</td>\n",
              "      <td>0.0</td>\n",
              "      <td>0.0</td>\n",
              "      <td>0.0</td>\n",
              "    </tr>\n",
              "    <tr>\n",
              "      <th>432907</th>\n",
              "      <td>0.0</td>\n",
              "      <td>0.0</td>\n",
              "      <td>0.0</td>\n",
              "      <td>0.0</td>\n",
              "      <td>0.0</td>\n",
              "      <td>0.0</td>\n",
              "      <td>0.0</td>\n",
              "      <td>0.0</td>\n",
              "      <td>0.0</td>\n",
              "      <td>0.0</td>\n",
              "      <td>0.0</td>\n",
              "      <td>0.0</td>\n",
              "      <td>0.000000</td>\n",
              "      <td>0.0</td>\n",
              "      <td>0.0</td>\n",
              "      <td>0.0</td>\n",
              "      <td>0.0</td>\n",
              "      <td>0.0</td>\n",
              "      <td>0.0</td>\n",
              "      <td>0.0</td>\n",
              "      <td>0.0</td>\n",
              "      <td>0.0</td>\n",
              "      <td>0.0</td>\n",
              "      <td>0.0</td>\n",
              "      <td>0.0</td>\n",
              "      <td>0.0</td>\n",
              "      <td>0.0</td>\n",
              "      <td>0.000000</td>\n",
              "      <td>0.0</td>\n",
              "      <td>0.0</td>\n",
              "      <td>0.0</td>\n",
              "      <td>0.0</td>\n",
              "      <td>0.0</td>\n",
              "      <td>0.0</td>\n",
              "      <td>0.0</td>\n",
              "      <td>0.0</td>\n",
              "      <td>0.000000</td>\n",
              "      <td>0.0</td>\n",
              "      <td>0.0</td>\n",
              "      <td>0.0</td>\n",
              "      <td>...</td>\n",
              "      <td>0.0</td>\n",
              "      <td>0.0</td>\n",
              "      <td>0.0</td>\n",
              "      <td>0.0</td>\n",
              "      <td>0.0</td>\n",
              "      <td>0.000000</td>\n",
              "      <td>0.0</td>\n",
              "      <td>0.0</td>\n",
              "      <td>0.0</td>\n",
              "      <td>0.0</td>\n",
              "      <td>0.0</td>\n",
              "      <td>0.0</td>\n",
              "      <td>0.000000</td>\n",
              "      <td>0.0</td>\n",
              "      <td>0.0</td>\n",
              "      <td>0.0</td>\n",
              "      <td>0.0</td>\n",
              "      <td>0.0</td>\n",
              "      <td>0.0</td>\n",
              "      <td>0.000000</td>\n",
              "      <td>0.0</td>\n",
              "      <td>0.0</td>\n",
              "      <td>0.0</td>\n",
              "      <td>0.000000</td>\n",
              "      <td>0.0</td>\n",
              "      <td>0.0</td>\n",
              "      <td>0.000000</td>\n",
              "      <td>0.0</td>\n",
              "      <td>0.0</td>\n",
              "      <td>0.0</td>\n",
              "      <td>0.0</td>\n",
              "      <td>0.0</td>\n",
              "      <td>0.0</td>\n",
              "      <td>0.0</td>\n",
              "      <td>0.0</td>\n",
              "      <td>0.0</td>\n",
              "      <td>0.0</td>\n",
              "      <td>0.0</td>\n",
              "      <td>0.0</td>\n",
              "      <td>0.0</td>\n",
              "    </tr>\n",
              "    <tr>\n",
              "      <th>432908</th>\n",
              "      <td>0.0</td>\n",
              "      <td>0.0</td>\n",
              "      <td>0.0</td>\n",
              "      <td>0.0</td>\n",
              "      <td>0.0</td>\n",
              "      <td>0.0</td>\n",
              "      <td>0.0</td>\n",
              "      <td>0.0</td>\n",
              "      <td>0.0</td>\n",
              "      <td>0.0</td>\n",
              "      <td>0.0</td>\n",
              "      <td>0.0</td>\n",
              "      <td>0.971609</td>\n",
              "      <td>0.0</td>\n",
              "      <td>0.0</td>\n",
              "      <td>0.0</td>\n",
              "      <td>0.0</td>\n",
              "      <td>0.0</td>\n",
              "      <td>0.0</td>\n",
              "      <td>0.0</td>\n",
              "      <td>0.0</td>\n",
              "      <td>0.0</td>\n",
              "      <td>0.0</td>\n",
              "      <td>0.0</td>\n",
              "      <td>0.0</td>\n",
              "      <td>0.0</td>\n",
              "      <td>0.0</td>\n",
              "      <td>0.000000</td>\n",
              "      <td>0.0</td>\n",
              "      <td>0.0</td>\n",
              "      <td>0.0</td>\n",
              "      <td>0.0</td>\n",
              "      <td>0.0</td>\n",
              "      <td>0.0</td>\n",
              "      <td>0.0</td>\n",
              "      <td>0.0</td>\n",
              "      <td>0.000000</td>\n",
              "      <td>0.0</td>\n",
              "      <td>0.0</td>\n",
              "      <td>0.0</td>\n",
              "      <td>...</td>\n",
              "      <td>0.0</td>\n",
              "      <td>0.0</td>\n",
              "      <td>0.0</td>\n",
              "      <td>0.0</td>\n",
              "      <td>0.0</td>\n",
              "      <td>0.000000</td>\n",
              "      <td>0.0</td>\n",
              "      <td>0.0</td>\n",
              "      <td>0.0</td>\n",
              "      <td>0.0</td>\n",
              "      <td>0.0</td>\n",
              "      <td>0.0</td>\n",
              "      <td>0.000000</td>\n",
              "      <td>0.0</td>\n",
              "      <td>0.0</td>\n",
              "      <td>0.0</td>\n",
              "      <td>0.0</td>\n",
              "      <td>0.0</td>\n",
              "      <td>0.0</td>\n",
              "      <td>0.000000</td>\n",
              "      <td>0.0</td>\n",
              "      <td>0.0</td>\n",
              "      <td>0.0</td>\n",
              "      <td>0.000000</td>\n",
              "      <td>0.0</td>\n",
              "      <td>0.0</td>\n",
              "      <td>0.000000</td>\n",
              "      <td>0.0</td>\n",
              "      <td>0.0</td>\n",
              "      <td>0.0</td>\n",
              "      <td>0.0</td>\n",
              "      <td>0.0</td>\n",
              "      <td>0.0</td>\n",
              "      <td>0.0</td>\n",
              "      <td>0.0</td>\n",
              "      <td>0.0</td>\n",
              "      <td>0.0</td>\n",
              "      <td>0.0</td>\n",
              "      <td>0.0</td>\n",
              "      <td>0.0</td>\n",
              "    </tr>\n",
              "    <tr>\n",
              "      <th>432909</th>\n",
              "      <td>0.0</td>\n",
              "      <td>0.0</td>\n",
              "      <td>0.0</td>\n",
              "      <td>0.0</td>\n",
              "      <td>0.0</td>\n",
              "      <td>0.0</td>\n",
              "      <td>0.0</td>\n",
              "      <td>0.0</td>\n",
              "      <td>0.0</td>\n",
              "      <td>0.0</td>\n",
              "      <td>0.0</td>\n",
              "      <td>0.0</td>\n",
              "      <td>0.000000</td>\n",
              "      <td>0.0</td>\n",
              "      <td>0.0</td>\n",
              "      <td>0.0</td>\n",
              "      <td>0.0</td>\n",
              "      <td>0.0</td>\n",
              "      <td>0.0</td>\n",
              "      <td>0.0</td>\n",
              "      <td>0.0</td>\n",
              "      <td>0.0</td>\n",
              "      <td>0.0</td>\n",
              "      <td>0.0</td>\n",
              "      <td>0.0</td>\n",
              "      <td>0.0</td>\n",
              "      <td>0.0</td>\n",
              "      <td>0.526848</td>\n",
              "      <td>0.0</td>\n",
              "      <td>0.0</td>\n",
              "      <td>0.0</td>\n",
              "      <td>0.0</td>\n",
              "      <td>0.0</td>\n",
              "      <td>0.0</td>\n",
              "      <td>0.0</td>\n",
              "      <td>0.0</td>\n",
              "      <td>0.000000</td>\n",
              "      <td>0.0</td>\n",
              "      <td>0.0</td>\n",
              "      <td>0.0</td>\n",
              "      <td>...</td>\n",
              "      <td>0.0</td>\n",
              "      <td>0.0</td>\n",
              "      <td>0.0</td>\n",
              "      <td>0.0</td>\n",
              "      <td>0.0</td>\n",
              "      <td>0.000000</td>\n",
              "      <td>0.0</td>\n",
              "      <td>0.0</td>\n",
              "      <td>0.0</td>\n",
              "      <td>0.0</td>\n",
              "      <td>0.0</td>\n",
              "      <td>0.0</td>\n",
              "      <td>0.000000</td>\n",
              "      <td>0.0</td>\n",
              "      <td>0.0</td>\n",
              "      <td>0.0</td>\n",
              "      <td>0.0</td>\n",
              "      <td>0.0</td>\n",
              "      <td>0.0</td>\n",
              "      <td>0.000000</td>\n",
              "      <td>0.0</td>\n",
              "      <td>0.0</td>\n",
              "      <td>0.0</td>\n",
              "      <td>0.000000</td>\n",
              "      <td>0.0</td>\n",
              "      <td>0.0</td>\n",
              "      <td>0.000000</td>\n",
              "      <td>0.0</td>\n",
              "      <td>0.0</td>\n",
              "      <td>0.0</td>\n",
              "      <td>0.0</td>\n",
              "      <td>0.0</td>\n",
              "      <td>0.0</td>\n",
              "      <td>0.0</td>\n",
              "      <td>0.0</td>\n",
              "      <td>0.0</td>\n",
              "      <td>0.0</td>\n",
              "      <td>0.0</td>\n",
              "      <td>0.0</td>\n",
              "      <td>0.0</td>\n",
              "    </tr>\n",
              "  </tbody>\n",
              "</table>\n",
              "<p>432910 rows × 318 columns</p>\n",
              "</div>\n",
              "      <button class=\"colab-df-convert\" onclick=\"convertToInteractive('df-4e6015c1-7008-4153-a494-1e8e388c75c6')\"\n",
              "              title=\"Convert this dataframe to an interactive table.\"\n",
              "              style=\"display:none;\">\n",
              "        \n",
              "  <svg xmlns=\"http://www.w3.org/2000/svg\" height=\"24px\"viewBox=\"0 0 24 24\"\n",
              "       width=\"24px\">\n",
              "    <path d=\"M0 0h24v24H0V0z\" fill=\"none\"/>\n",
              "    <path d=\"M18.56 5.44l.94 2.06.94-2.06 2.06-.94-2.06-.94-.94-2.06-.94 2.06-2.06.94zm-11 1L8.5 8.5l.94-2.06 2.06-.94-2.06-.94L8.5 2.5l-.94 2.06-2.06.94zm10 10l.94 2.06.94-2.06 2.06-.94-2.06-.94-.94-2.06-.94 2.06-2.06.94z\"/><path d=\"M17.41 7.96l-1.37-1.37c-.4-.4-.92-.59-1.43-.59-.52 0-1.04.2-1.43.59L10.3 9.45l-7.72 7.72c-.78.78-.78 2.05 0 2.83L4 21.41c.39.39.9.59 1.41.59.51 0 1.02-.2 1.41-.59l7.78-7.78 2.81-2.81c.8-.78.8-2.07 0-2.86zM5.41 20L4 18.59l7.72-7.72 1.47 1.35L5.41 20z\"/>\n",
              "  </svg>\n",
              "      </button>\n",
              "      \n",
              "  <style>\n",
              "    .colab-df-container {\n",
              "      display:flex;\n",
              "      flex-wrap:wrap;\n",
              "      gap: 12px;\n",
              "    }\n",
              "\n",
              "    .colab-df-convert {\n",
              "      background-color: #E8F0FE;\n",
              "      border: none;\n",
              "      border-radius: 50%;\n",
              "      cursor: pointer;\n",
              "      display: none;\n",
              "      fill: #1967D2;\n",
              "      height: 32px;\n",
              "      padding: 0 0 0 0;\n",
              "      width: 32px;\n",
              "    }\n",
              "\n",
              "    .colab-df-convert:hover {\n",
              "      background-color: #E2EBFA;\n",
              "      box-shadow: 0px 1px 2px rgba(60, 64, 67, 0.3), 0px 1px 3px 1px rgba(60, 64, 67, 0.15);\n",
              "      fill: #174EA6;\n",
              "    }\n",
              "\n",
              "    [theme=dark] .colab-df-convert {\n",
              "      background-color: #3B4455;\n",
              "      fill: #D2E3FC;\n",
              "    }\n",
              "\n",
              "    [theme=dark] .colab-df-convert:hover {\n",
              "      background-color: #434B5C;\n",
              "      box-shadow: 0px 1px 3px 1px rgba(0, 0, 0, 0.15);\n",
              "      filter: drop-shadow(0px 1px 2px rgba(0, 0, 0, 0.3));\n",
              "      fill: #FFFFFF;\n",
              "    }\n",
              "  </style>\n",
              "\n",
              "      <script>\n",
              "        const buttonEl =\n",
              "          document.querySelector('#df-4e6015c1-7008-4153-a494-1e8e388c75c6 button.colab-df-convert');\n",
              "        buttonEl.style.display =\n",
              "          google.colab.kernel.accessAllowed ? 'block' : 'none';\n",
              "\n",
              "        async function convertToInteractive(key) {\n",
              "          const element = document.querySelector('#df-4e6015c1-7008-4153-a494-1e8e388c75c6');\n",
              "          const dataTable =\n",
              "            await google.colab.kernel.invokeFunction('convertToInteractive',\n",
              "                                                     [key], {});\n",
              "          if (!dataTable) return;\n",
              "\n",
              "          const docLinkHtml = 'Like what you see? Visit the ' +\n",
              "            '<a target=\"_blank\" href=https://colab.research.google.com/notebooks/data_table.ipynb>data table notebook</a>'\n",
              "            + ' to learn more about interactive tables.';\n",
              "          element.innerHTML = '';\n",
              "          dataTable['output_type'] = 'display_data';\n",
              "          await google.colab.output.renderOutput(dataTable, element);\n",
              "          const docLink = document.createElement('div');\n",
              "          docLink.innerHTML = docLinkHtml;\n",
              "          element.appendChild(docLink);\n",
              "        }\n",
              "      </script>\n",
              "    </div>\n",
              "  </div>\n",
              "  "
            ],
            "text/plain": [
              "        accident  affaire   ai  alerte  amp  ...  éric  état  étatsunis  étude  être\n",
              "0            0.0      0.0  0.0     0.0  0.0  ...   0.0   0.0        0.0    0.0   0.0\n",
              "1            0.0      0.0  0.0     0.0  0.0  ...   0.0   0.0        0.0    0.0   0.0\n",
              "2            0.0      0.0  0.0     0.0  0.0  ...   0.0   0.0        0.0    0.0   0.0\n",
              "3            0.0      0.0  0.0     0.0  0.0  ...   0.0   0.0        0.0    0.0   0.0\n",
              "4            0.0      0.0  0.0     0.0  0.0  ...   0.0   0.0        0.0    0.0   0.0\n",
              "...          ...      ...  ...     ...  ...  ...   ...   ...        ...    ...   ...\n",
              "432905       0.0      0.0  0.0     0.0  0.0  ...   0.0   0.0        0.0    0.0   0.0\n",
              "432906       0.0      0.0  0.0     0.0  0.0  ...   0.0   0.0        0.0    0.0   0.0\n",
              "432907       0.0      0.0  0.0     0.0  0.0  ...   0.0   0.0        0.0    0.0   0.0\n",
              "432908       0.0      0.0  0.0     0.0  0.0  ...   0.0   0.0        0.0    0.0   0.0\n",
              "432909       0.0      0.0  0.0     0.0  0.0  ...   0.0   0.0        0.0    0.0   0.0\n",
              "\n",
              "[432910 rows x 318 columns]"
            ]
          },
          "metadata": {},
          "execution_count": 51
        }
      ]
    },
    {
      "cell_type": "code",
      "source": [
        "print(vectorizer.get_feature_names_out())\n",
        "print('\\n')\n",
        "print(X.shape)"
      ],
      "metadata": {
        "id": "JxaNC3YaLXUb",
        "colab": {
          "base_uri": "https://localhost:8080/"
        },
        "outputId": "e4456c6e-6037-401b-bf6b-6dc72a294503"
      },
      "execution_count": 53,
      "outputs": [
        {
          "output_type": "stream",
          "name": "stdout",
          "text": [
            "['accident' 'affaire' 'ai' 'alerte' 'amp' 'américain' 'an' 'ancien' 'and'\n",
            " 'annonce' 'année' 'années' 'ans' 'appel' 'appelle' 'article' 'aujourd'\n",
            " 'aujourdhui' 'autour' 'avez' 'belle' 'biden' 'bientôt' 'bon' 'bonjour'\n",
            " 'bonne' 'campagne' 'candidat' 'cas' 'cause' 'centre' 'cest' 'chef'\n",
            " 'chine' 'cinéma' 'compte' 'condamné' 'confinement' 'conseil'\n",
            " 'coronavirus' 'corps' 'coup' 'cours' 'covid' 'covid19' 'crise' 'cœur'\n",
            " 'de' 'demain' 'demande' 'dernière' 'desident_date' 'desident_link'\n",
            " 'desident_number' 'direct' 'disponible' 'donne' 'dose' 'droit' 'droite'\n",
            " 'dun' 'dune' 'débat' 'début' 'découvrez' 'décès' 'déjà' 'dêtre'\n",
            " 'emmanuel' 'en' 'enfant' 'enfants' 'enquête' 'entretien' 'er' 'eric'\n",
            " 'est' 'et' 'etatsunis' 'europe' 'européenne' 'euros' 'explique' 'face'\n",
            " 'facebook' 'faire' 'famille' 'faut' 'femme' 'femmes' 'festival' 'feu'\n",
            " 'fille' 'film' 'fin' 'fois' 'football' 'for' 'france' 'français'\n",
            " 'française' 'françois' 'fête' 'garde' 'gauche' 'gouvernement' 'grand'\n",
            " 'grande' 'grands' 'gros' 'groupe' 'grâce' 'guerre' 'hausse' 'heures'\n",
            " 'hier' 'histoire' 'hommage' 'homme' 'hommes' 'hui' 'ici' 'il' 'images'\n",
            " 'in' 'info' 'interview' 'is' 'israël' 'jai' 'jamais' 'jean' 'jeu' 'jeune'\n",
            " 'jeunes' 'jeux' 'jour' 'journaliste' 'journée' 'jours' 'jusqu' 'justice'\n",
            " 'la' 'lance' 'le' 'les' 'liberté' 'lieu' 'ligne' 'lire' 'live' 'livre'\n",
            " 'loi' 'lr' 'lutte' 'macron' 'maire' 'maison' 'mal' 'marché' 'marseille'\n",
            " 'masque' 'match' 'meilleur' 'mesures' 'met' 'mettre' 'mieux' 'migrants'\n",
            " 'milliards' 'millions' 'ministre' 'mis' 'mise' 'mois' 'moment' 'monde'\n",
            " 'mort' 'morts' 'mère' 'médias' 'nantes' 'national' 'nationale' 'nest'\n",
            " 'netflix' 'new' 'nicolas' 'nom' 'nombre' 'nord' 'nouveaux' 'nouvel'\n",
            " 'nouvelle' 'nouvelles' 'noël' 'numéro' 'obligatoire' 'of' 'omicron' 'on'\n",
            " 'oui' 'page' 'paris' 'part' 'parti' 'partie' 'partir' 'pass' 'passe'\n",
            " 'passer' 'pays' 'pen' 'personnes' 'petit' 'petite' 'philippe' 'photo'\n",
            " 'photos' 'place' 'plan' 'point' 'police' 'policiers' 'politique'\n",
            " 'pouvoir' 'prend' 'prendre' 'presse' 'pris' 'prison' 'prix' 'procès'\n",
            " 'programme' 'projet' 'propos' 'propose' 'président' 'présidentielle'\n",
            " 'public' 'père' 'qu' 'question' 'questions' 'quil' 'quon' 'raconte'\n",
            " 'raison' 'rappel' 'rapport' 'record' 'rencontre' 'rendezvous' 'replay'\n",
            " 'retrouver' 'retrouvez' 'revient' 'risque' 'rt' 'rue' 'réseaux' 'saison'\n",
            " 'sanitaire' 'santé' 'savoir' 'semaine' 'service' 'sest' 'site'\n",
            " 'situation' 'sociaux' 'société' 'sommes' 'sortie' 'suite' 'suivez'\n",
            " 'sécurité' 'série' 'temps' 'terre' 'the' 'to' 'top' 'tour' 'train'\n",
            " 'travail' 'trump' 'twitter' 'tête' 'un' 'une' 'us' 'vaccin' 'vaccination'\n",
            " 'vague' 'variant' 'veut' 'victime' 'victimes' 'video' 'vidéo' 'vie'\n",
            " 'vient' 'ville' 'violences' 'voir' 'voiture' 'vraiment' 'vue' 'weekend'\n",
            " 'with' 'zemmour' 'épisode' 'éric' 'état' 'étatsunis' 'étude' 'être']\n",
            "\n",
            "\n",
            "(432910, 318)\n"
          ]
        }
      ]
    },
    {
      "cell_type": "code",
      "source": [
        "\"\"\"test = 0\n",
        "for item in featured_names:\n",
        "  if ((item[0] == '0') or (item[0] == '1') or (item[0] == '2') or (item[0] == '3') or (item[0] == '4') or (item[0] == '5') or (item[0] == '6') or (item[0] == '7') or (item[0] == '8') or (item[0] == '9')):\n",
        "    test = test + 1\n",
        "print(test)\"\"\""
      ],
      "metadata": {
        "id": "Ji0c2dVfMPGH"
      },
      "execution_count": null,
      "outputs": []
    },
    {
      "cell_type": "markdown",
      "source": [
        "# SVM avec TF-IDF"
      ],
      "metadata": {
        "id": "pq8xXFrCRarn"
      }
    },
    {
      "cell_type": "markdown",
      "source": [
        "Partie où l'on s'assure que les données ont la bonne forme"
      ],
      "metadata": {
        "id": "GfmQyDgxSIGX"
      }
    },
    {
      "cell_type": "code",
      "source": [
        "data.sort_values(by='cleaned').tail(10)"
      ],
      "metadata": {
        "colab": {
          "base_uri": "https://localhost:8080/",
          "height": 581
        },
        "id": "Fgo0OgVHUBoZ",
        "outputId": "2dde5002-9b92-4ee9-d1b8-b61323175695"
      },
      "execution_count": 54,
      "outputs": [
        {
          "output_type": "execute_result",
          "data": {
            "text/html": [
              "\n",
              "  <div id=\"df-0a96ff3d-d2ff-47a9-a292-2c570117f45d\">\n",
              "    <div class=\"colab-df-container\">\n",
              "      <div>\n",
              "<style scoped>\n",
              "    .dataframe tbody tr th:only-of-type {\n",
              "        vertical-align: middle;\n",
              "    }\n",
              "\n",
              "    .dataframe tbody tr th {\n",
              "        vertical-align: top;\n",
              "    }\n",
              "\n",
              "    .dataframe thead th {\n",
              "        text-align: right;\n",
              "    }\n",
              "</style>\n",
              "<table border=\"1\" class=\"dataframe\">\n",
              "  <thead>\n",
              "    <tr style=\"text-align: right;\">\n",
              "      <th></th>\n",
              "      <th>liability</th>\n",
              "      <th>liability_label</th>\n",
              "      <th>description</th>\n",
              "      <th>user_screen_name</th>\n",
              "      <th>retweet_count</th>\n",
              "      <th>favorite_count</th>\n",
              "      <th>count_followers</th>\n",
              "      <th>tweet</th>\n",
              "      <th>cleaned</th>\n",
              "    </tr>\n",
              "  </thead>\n",
              "  <tbody>\n",
              "    <tr>\n",
              "      <th>44252</th>\n",
              "      <td>1</td>\n",
              "      <td>site plutôt douteux</td>\n",
              "      <td>Une page Facebook sensationnaliste qui agrège ...</td>\n",
              "      <td>EuroScoop_FR</td>\n",
              "      <td>0.0</td>\n",
              "      <td>0.0</td>\n",
              "      <td>250.0</td>\n",
              "      <td>󾓶⚡󾓶⚡ https://t.co/nu8vFLv6Ac</td>\n",
              "      <td>󾓶⚡󾓶⚡ desident_link</td>\n",
              "    </tr>\n",
              "    <tr>\n",
              "      <th>44278</th>\n",
              "      <td>1</td>\n",
              "      <td>site plutôt douteux</td>\n",
              "      <td>Une page Facebook sensationnaliste qui agrège ...</td>\n",
              "      <td>EuroScoop_FR</td>\n",
              "      <td>0.0</td>\n",
              "      <td>0.0</td>\n",
              "      <td>250.0</td>\n",
              "      <td>󾓶󾌯 https://t.co/LglWm10Zcw</td>\n",
              "      <td>󾓶󾌯 desident_link</td>\n",
              "    </tr>\n",
              "    <tr>\n",
              "      <th>44116</th>\n",
              "      <td>1</td>\n",
              "      <td>site plutôt douteux</td>\n",
              "      <td>Une page Facebook sensationnaliste qui agrège ...</td>\n",
              "      <td>EuroScoop_FR</td>\n",
              "      <td>0.0</td>\n",
              "      <td>0.0</td>\n",
              "      <td>250.0</td>\n",
              "      <td>󾓶󾓶󾓶 https://t.co/cSLS6ltxSE</td>\n",
              "      <td>󾓶󾓶󾓶 desident_link</td>\n",
              "    </tr>\n",
              "    <tr>\n",
              "      <th>44314</th>\n",
              "      <td>1</td>\n",
              "      <td>site plutôt douteux</td>\n",
              "      <td>Une page Facebook sensationnaliste qui agrège ...</td>\n",
              "      <td>EuroScoop_FR</td>\n",
              "      <td>0.0</td>\n",
              "      <td>0.0</td>\n",
              "      <td>250.0</td>\n",
              "      <td>󾓶󾓶󾓶 https://t.co/sny1CuMZtJ</td>\n",
              "      <td>󾓶󾓶󾓶 desident_link</td>\n",
              "    </tr>\n",
              "    <tr>\n",
              "      <th>40693</th>\n",
              "      <td>1</td>\n",
              "      <td>site plutôt douteux</td>\n",
              "      <td>Un site sensationnaliste belge qui peut s'avér...</td>\n",
              "      <td>LBDTSS</td>\n",
              "      <td>0.0</td>\n",
              "      <td>0.0</td>\n",
              "      <td>78.0</td>\n",
              "      <td>󾦃󾦃󾌴󾌴 https://t.co/GeElJySTy1</td>\n",
              "      <td>󾦃󾦃󾌴󾌴 desident_link</td>\n",
              "    </tr>\n",
              "    <tr>\n",
              "      <th>44035</th>\n",
              "      <td>1</td>\n",
              "      <td>site plutôt douteux</td>\n",
              "      <td>Une page Facebook sensationnaliste qui agrège ...</td>\n",
              "      <td>EuroScoop_FR</td>\n",
              "      <td>0.0</td>\n",
              "      <td>0.0</td>\n",
              "      <td>250.0</td>\n",
              "      <td>Aie aie aie... 󾬎 https://t.co/yPRb8BAilX</td>\n",
              "      <td>󾬎 desident_link</td>\n",
              "    </tr>\n",
              "    <tr>\n",
              "      <th>584849</th>\n",
              "      <td>0</td>\n",
              "      <td>site plutôt fiable</td>\n",
              "      <td>Un site de divertissement francophone, spécial...</td>\n",
              "      <td>minutebuzz</td>\n",
              "      <td>1.0</td>\n",
              "      <td>0.0</td>\n",
              "      <td>48184.0</td>\n",
              "      <td>󾮖󾭚 https://t.co/SR0fky4Z8q</td>\n",
              "      <td>󾮖󾭚 desident_link</td>\n",
              "    </tr>\n",
              "    <tr>\n",
              "      <th>43577</th>\n",
              "      <td>1</td>\n",
              "      <td>site plutôt douteux</td>\n",
              "      <td>Une page Facebook sensationnaliste qui agrège ...</td>\n",
              "      <td>EuroScoop_FR</td>\n",
              "      <td>0.0</td>\n",
              "      <td>0.0</td>\n",
              "      <td>250.0</td>\n",
              "      <td>Très TOUCHANT !! 󾮞☺ https://t.co/uVYVm9Gzu3</td>\n",
              "      <td>󾮞☺ desident_link</td>\n",
              "    </tr>\n",
              "    <tr>\n",
              "      <th>44466</th>\n",
              "      <td>1</td>\n",
              "      <td>site plutôt douteux</td>\n",
              "      <td>Une page Facebook sensationnaliste qui agrège ...</td>\n",
              "      <td>EuroScoop_FR</td>\n",
              "      <td>0.0</td>\n",
              "      <td>0.0</td>\n",
              "      <td>250.0</td>\n",
              "      <td>󾮟󾮞 ... alors SATISFAIT maintenant ? https://t....</td>\n",
              "      <td>󾮟󾮞 satisfait desident_link</td>\n",
              "    </tr>\n",
              "    <tr>\n",
              "      <th>584843</th>\n",
              "      <td>0</td>\n",
              "      <td>site plutôt fiable</td>\n",
              "      <td>Un site de divertissement francophone, spécial...</td>\n",
              "      <td>minutebuzz</td>\n",
              "      <td>0.0</td>\n",
              "      <td>2.0</td>\n",
              "      <td>48184.0</td>\n",
              "      <td>󾰮 https://t.co/w1kSgHckdF</td>\n",
              "      <td>󾰮 desident_link</td>\n",
              "    </tr>\n",
              "  </tbody>\n",
              "</table>\n",
              "</div>\n",
              "      <button class=\"colab-df-convert\" onclick=\"convertToInteractive('df-0a96ff3d-d2ff-47a9-a292-2c570117f45d')\"\n",
              "              title=\"Convert this dataframe to an interactive table.\"\n",
              "              style=\"display:none;\">\n",
              "        \n",
              "  <svg xmlns=\"http://www.w3.org/2000/svg\" height=\"24px\"viewBox=\"0 0 24 24\"\n",
              "       width=\"24px\">\n",
              "    <path d=\"M0 0h24v24H0V0z\" fill=\"none\"/>\n",
              "    <path d=\"M18.56 5.44l.94 2.06.94-2.06 2.06-.94-2.06-.94-.94-2.06-.94 2.06-2.06.94zm-11 1L8.5 8.5l.94-2.06 2.06-.94-2.06-.94L8.5 2.5l-.94 2.06-2.06.94zm10 10l.94 2.06.94-2.06 2.06-.94-2.06-.94-.94-2.06-.94 2.06-2.06.94z\"/><path d=\"M17.41 7.96l-1.37-1.37c-.4-.4-.92-.59-1.43-.59-.52 0-1.04.2-1.43.59L10.3 9.45l-7.72 7.72c-.78.78-.78 2.05 0 2.83L4 21.41c.39.39.9.59 1.41.59.51 0 1.02-.2 1.41-.59l7.78-7.78 2.81-2.81c.8-.78.8-2.07 0-2.86zM5.41 20L4 18.59l7.72-7.72 1.47 1.35L5.41 20z\"/>\n",
              "  </svg>\n",
              "      </button>\n",
              "      \n",
              "  <style>\n",
              "    .colab-df-container {\n",
              "      display:flex;\n",
              "      flex-wrap:wrap;\n",
              "      gap: 12px;\n",
              "    }\n",
              "\n",
              "    .colab-df-convert {\n",
              "      background-color: #E8F0FE;\n",
              "      border: none;\n",
              "      border-radius: 50%;\n",
              "      cursor: pointer;\n",
              "      display: none;\n",
              "      fill: #1967D2;\n",
              "      height: 32px;\n",
              "      padding: 0 0 0 0;\n",
              "      width: 32px;\n",
              "    }\n",
              "\n",
              "    .colab-df-convert:hover {\n",
              "      background-color: #E2EBFA;\n",
              "      box-shadow: 0px 1px 2px rgba(60, 64, 67, 0.3), 0px 1px 3px 1px rgba(60, 64, 67, 0.15);\n",
              "      fill: #174EA6;\n",
              "    }\n",
              "\n",
              "    [theme=dark] .colab-df-convert {\n",
              "      background-color: #3B4455;\n",
              "      fill: #D2E3FC;\n",
              "    }\n",
              "\n",
              "    [theme=dark] .colab-df-convert:hover {\n",
              "      background-color: #434B5C;\n",
              "      box-shadow: 0px 1px 3px 1px rgba(0, 0, 0, 0.15);\n",
              "      filter: drop-shadow(0px 1px 2px rgba(0, 0, 0, 0.3));\n",
              "      fill: #FFFFFF;\n",
              "    }\n",
              "  </style>\n",
              "\n",
              "      <script>\n",
              "        const buttonEl =\n",
              "          document.querySelector('#df-0a96ff3d-d2ff-47a9-a292-2c570117f45d button.colab-df-convert');\n",
              "        buttonEl.style.display =\n",
              "          google.colab.kernel.accessAllowed ? 'block' : 'none';\n",
              "\n",
              "        async function convertToInteractive(key) {\n",
              "          const element = document.querySelector('#df-0a96ff3d-d2ff-47a9-a292-2c570117f45d');\n",
              "          const dataTable =\n",
              "            await google.colab.kernel.invokeFunction('convertToInteractive',\n",
              "                                                     [key], {});\n",
              "          if (!dataTable) return;\n",
              "\n",
              "          const docLinkHtml = 'Like what you see? Visit the ' +\n",
              "            '<a target=\"_blank\" href=https://colab.research.google.com/notebooks/data_table.ipynb>data table notebook</a>'\n",
              "            + ' to learn more about interactive tables.';\n",
              "          element.innerHTML = '';\n",
              "          dataTable['output_type'] = 'display_data';\n",
              "          await google.colab.output.renderOutput(dataTable, element);\n",
              "          const docLink = document.createElement('div');\n",
              "          docLink.innerHTML = docLinkHtml;\n",
              "          element.appendChild(docLink);\n",
              "        }\n",
              "      </script>\n",
              "    </div>\n",
              "  </div>\n",
              "  "
            ],
            "text/plain": [
              "       liability  ...                     cleaned\n",
              "44252          1  ...          󾓶⚡󾓶⚡ desident_link\n",
              "44278          1  ...            󾓶󾌯 desident_link\n",
              "44116          1  ...           󾓶󾓶󾓶 desident_link\n",
              "44314          1  ...           󾓶󾓶󾓶 desident_link\n",
              "40693          1  ...          󾦃󾦃󾌴󾌴 desident_link\n",
              "44035          1  ...             󾬎 desident_link\n",
              "584849         0  ...            󾮖󾭚 desident_link\n",
              "43577          1  ...            󾮞☺ desident_link\n",
              "44466          1  ...  󾮟󾮞 satisfait desident_link\n",
              "584843         0  ...             󾰮 desident_link\n",
              "\n",
              "[10 rows x 9 columns]"
            ]
          },
          "metadata": {},
          "execution_count": 54
        }
      ]
    },
    {
      "cell_type": "code",
      "source": [
        "\"\"\"data['cleaned'] = data['cleaned'].apply(lambda x : x.split())\"\"\""
      ],
      "metadata": {
        "id": "dWTfgXsORemG"
      },
      "execution_count": null,
      "outputs": []
    },
    {
      "cell_type": "code",
      "source": [
        "\"\"\"data.sort_values(by='cleaned').tail(10)\"\"\""
      ],
      "metadata": {
        "id": "BXJLF0HsWk0x"
      },
      "execution_count": null,
      "outputs": []
    },
    {
      "cell_type": "markdown",
      "source": [
        "train et test du tuto, comme c'est plus exactement les même données je ne sais pas si je peux utiliser la séparation des données faites plus tôt"
      ],
      "metadata": {
        "id": "2tO9XFxRYamO"
      }
    },
    {
      "cell_type": "code",
      "source": [
        "from sklearn import model_selection, naive_bayes, svm"
      ],
      "metadata": {
        "id": "bzHbYeCCY4Fs"
      },
      "execution_count": 55,
      "outputs": []
    },
    {
      "cell_type": "code",
      "source": [
        "\"\"\"SVM_Train_X, SVM_Test_X, SVM_Train_Y, SVM_Test_Y = model_selection.train_test_split(data['tweet'],Corpus['liability'],test_size=0.3)\"\"\""
      ],
      "metadata": {
        "colab": {
          "base_uri": "https://localhost:8080/",
          "height": 36
        },
        "id": "N5N5DTcmYnCs",
        "outputId": "137afde5-f518-4ab0-a811-28466df0bacb"
      },
      "execution_count": 56,
      "outputs": [
        {
          "output_type": "execute_result",
          "data": {
            "application/vnd.google.colaboratory.intrinsic+json": {
              "type": "string"
            },
            "text/plain": [
              "\"SVM_Train_X, SVM_Test_X, SVM_Train_Y, SVM_Test_Y = model_selection.train_test_split(data['tweet'],Corpus['liability'],test_size=0.3)\""
            ]
          },
          "metadata": {},
          "execution_count": 56
        }
      ]
    },
    {
      "cell_type": "code",
      "source": [
        "from sklearn.preprocessing import LabelEncoder"
      ],
      "metadata": {
        "id": "v68cOnYlY8x8"
      },
      "execution_count": 57,
      "outputs": []
    },
    {
      "cell_type": "code",
      "source": [
        "\"\"\"Encoder = LabelEncoder()\n",
        "SVM_Train_Y = Encoder.fit_transform(SVM_Train_Y)\n",
        "SVM_Test_Y = Encoder.fit_transform(SVM_Test_Y)\"\"\""
      ],
      "metadata": {
        "colab": {
          "base_uri": "https://localhost:8080/",
          "height": 36
        },
        "id": "ZDrBFHWMY88X",
        "outputId": "e2cc4be2-427c-4e04-8a9f-5881df7c1a26"
      },
      "execution_count": 58,
      "outputs": [
        {
          "output_type": "execute_result",
          "data": {
            "application/vnd.google.colaboratory.intrinsic+json": {
              "type": "string"
            },
            "text/plain": [
              "'Encoder = LabelEncoder()\\nSVM_Train_Y = Encoder.fit_transform(SVM_Train_Y)\\nSVM_Test_Y = Encoder.fit_transform(SVM_Test_Y)'"
            ]
          },
          "metadata": {},
          "execution_count": 58
        }
      ]
    },
    {
      "cell_type": "markdown",
      "source": [
        "Apparemment je refais le TF-IDF, à voir si c'est la même chose que j'avais fais et si ce que j'écris actuellement ne sert pas à rien"
      ],
      "metadata": {
        "id": "RvezPdmLZghd"
      }
    },
    {
      "cell_type": "code",
      "source": [
        "from sklearn.feature_extraction.text import TfidfVectorizer"
      ],
      "metadata": {
        "id": "30KJA_GIZ0xk"
      },
      "execution_count": 59,
      "outputs": []
    },
    {
      "cell_type": "code",
      "source": [
        "\"\"\"SVM_Tfidf_vect = TfidfVectorizer(max_features=5000)\n",
        "SVM_Tfidf_vect.fit(data['tweet'])\n",
        "\n",
        "SVM_Train_X_Tfidf = SVM_Tfidf_vect.transform(SVM_Train_X)\n",
        "SVM_Test_X_Tfidf = SVM_Tfidf_vect.transform(SVM_Test_X)\"\"\"\n",
        "\n",
        "Train_X_Tfidf = vectorizer.transform(X_train)\n",
        "Test_X_Tfidf = vectorizer.transform(X_test)"
      ],
      "metadata": {
        "id": "8jY4Dl2SZgJG"
      },
      "execution_count": 60,
      "outputs": []
    },
    {
      "cell_type": "code",
      "source": [
        "\"\"\"print(SVM_Tfidf_vect.vocabulary_)\n",
        "print(len(SVM_Tfidf_vect.vocabulary_))\"\"\"\n",
        "\n",
        "print(vectorizer.vocabulary_)\n",
        "print(len(vectorizer.vocabulary_))"
      ],
      "metadata": {
        "colab": {
          "base_uri": "https://localhost:8080/"
        },
        "id": "kHqDOOzkZ-Id",
        "outputId": "9a138f0d-d66d-489b-a18a-a401bdcd3dc2"
      },
      "execution_count": 61,
      "outputs": [
        {
          "output_type": "stream",
          "name": "stdout",
          "text": [
            "{'rt': 258, 'loi': 152, 'violences': 304, 'victime': 297, 'desident_link': 52, 'desident_number': 53, 'ans': 12, 'une': 290, 'replay': 253, 'présidentielle': 238, 'desident_date': 51, 'tour': 283, 'mort': 177, 'condamné': 36, 'mois': 174, 'la': 142, 'est': 76, 'nom': 188, 'lire': 149, 'site': 268, 'face': 83, 'to': 281, 'question': 242, 'jour': 136, 'projet': 234, 'grand': 106, 'fin': 94, 'découvrez': 64, 'aujourdhui': 17, 'mieux': 167, 'faire': 85, 'info': 125, 'millions': 170, 'ancien': 7, 'cause': 29, 'dune': 61, 'prix': 231, 'hommes': 119, 'histoire': 116, 'suite': 274, 'propos': 235, 'européenne': 80, 'crise': 45, 'hausse': 113, 'demande': 49, 'en': 69, 'terre': 279, 'livre': 151, 'grande': 107, 'dernière': 50, 'dun': 60, 'épisode': 312, 'philippe': 216, 'france': 98, 'twitter': 287, 'appel': 13, 'ligne': 148, 'homme': 118, 'sortie': 273, 'médias': 180, 'français': 99, 'nouveaux': 191, 'cas': 28, 'personnes': 213, 'état': 314, 'vidéo': 300, 'petit': 214, 'nord': 190, 'page': 202, 'place': 219, 'suivez': 275, 'direct': 54, 'politique': 224, 'is': 127, 'ai': 2, 'nouvelle': 193, 'photo': 217, 'facebook': 84, 'weekend': 309, 'fois': 95, 'zemmour': 311, 'gros': 109, 'bon': 23, 'lutte': 154, 'françois': 101, 'macron': 155, 'enquête': 72, 'paris': 203, 'accident': 0, 'chef': 32, 'covid19': 44, 'coronavirus': 39, 'dêtre': 67, 'cœur': 46, 'un': 289, 'semaine': 265, 'droite': 59, 'cest': 31, 'parti': 205, 'pris': 229, 'nest': 184, 'santé': 263, 'pen': 212, 'morts': 178, 'annonce': 9, 'procès': 232, 'public': 239, 'mesures': 164, 'bonjour': 24, 'prend': 226, 'journée': 138, 'savoir': 264, 'rue': 259, 'de': 47, 'pays': 211, 'quon': 245, 'retrouver': 254, 'passe': 209, 'national': 182, 'photos': 218, 'quil': 244, 'jeu': 132, 'vaccination': 293, 'mère': 179, 'article': 15, 'jours': 139, 'temps': 278, 'eric': 75, 'lr': 153, 'conseil': 38, 'autour': 18, 'ministre': 171, 'service': 266, 'gauche': 104, 'covid': 43, 'emmanuel': 68, 'mise': 173, 'les': 145, 'noël': 195, 'sest': 267, 'vraiment': 307, 'bonne': 25, 'migrants': 168, 'déjà': 66, 'père': 240, 'train': 284, 'in': 124, 'with': 310, 'us': 291, 'confinement': 37, 'of': 198, 'the': 280, 'biden': 21, 'jai': 129, 'maison': 157, 'famille': 86, 'on': 200, 'feu': 91, 'raconte': 246, 'trump': 286, 'gouvernement': 105, 'droit': 58, 'travail': 285, 'qu': 241, 'femme': 88, 'veut': 296, 'demain': 48, 'policiers': 223, 'prendre': 227, 'saison': 261, 'meilleur': 163, 'film': 93, 'disponible': 55, 'festival': 90, 'raison': 247, 'bientôt': 22, 'le': 144, 'for': 97, 'new': 186, 'dose': 57, 'oui': 201, 'coup': 41, 'point': 221, 'video': 299, 'groupe': 110, 'vie': 301, 'and': 8, 'centre': 30, 'football': 96, 'corps': 40, 'américain': 5, 'rencontre': 251, 'mal': 158, 'questions': 243, 'voiture': 306, 'maire': 156, 'tête': 288, 'étude': 316, 'situation': 269, 'israël': 128, 'campagne': 26, 'rappel': 248, 'il': 122, 'faut': 87, 'ici': 121, 'plan': 220, 'netflix': 185, 'nouvel': 192, 'nouvelles': 194, 'moment': 175, 'variant': 295, 'omicron': 199, 'lance': 143, 'avez': 19, 'mettre': 166, 'début': 63, 'belle': 20, 'images': 123, 'prison': 230, 'sécurité': 276, 'met': 165, 'propose': 236, 'top': 282, 'garde': 103, 'entretien': 73, 'rendezvous': 252, 'etatsunis': 78, 'journaliste': 137, 'marseille': 160, 'monde': 176, 'nicolas': 187, 'fille': 92, 'hommage': 117, 'pouvoir': 225, 'interview': 126, 'française': 100, 'masque': 161, 'série': 277, 'réseaux': 260, 'sociaux': 270, 'hier': 115, 'programme': 233, 'europe': 79, 'rapport': 249, 'jeunes': 134, 'jean': 131, 'sanitaire': 262, 'justice': 141, 'société': 271, 'président': 237, 'jusqu': 140, 'voir': 305, 'amp': 4, 'passer': 210, 'an': 6, 'police': 222, 'candidat': 27, 'milliards': 169, 'obligatoire': 197, 'mis': 172, 'revient': 256, 'femmes': 89, 'petite': 215, 'liberté': 146, 'jeune': 133, 'et': 77, 'affaire': 1, 'aujourd': 16, 'hui': 120, 'partie': 206, 'pass': 208, 'nationale': 183, 'live': 150, 'nombre': 189, 'enfants': 71, 'année': 10, 'retrouvez': 255, 'match': 162, 'vaccin': 292, 'nantes': 181, 'appelle': 14, 'jamais': 130, 'alerte': 3, 'sommes': 272, 'cinéma': 34, 'guerre': 112, 'vient': 302, 'grands': 108, 'record': 250, 'risque': 257, 'lieu': 147, 'débat': 62, 'vue': 308, 'étatsunis': 315, 'numéro': 196, 'marché': 159, 'donne': 56, 'grâce': 111, 'années': 11, 'fête': 102, 'vague': 294, 'heures': 114, 'compte': 35, 'chine': 33, 'explique': 82, 'cours': 42, 'part': 204, 'euros': 81, 'presse': 228, 'ville': 303, 'décès': 65, 'jeux': 135, 'er': 74, 'éric': 313, 'enfant': 70, 'partir': 207, 'être': 317, 'victimes': 298}\n",
            "318\n"
          ]
        }
      ]
    },
    {
      "cell_type": "code",
      "source": [
        "\"\"\"print(SVM_Train_X_Tfidf)\"\"\"\n",
        "print(Train_X_Tfidf)"
      ],
      "metadata": {
        "colab": {
          "base_uri": "https://localhost:8080/"
        },
        "id": "aQsiYpCsaZ7W",
        "outputId": "f6289b26-78d6-4d94-9664-dd34a6807a34"
      },
      "execution_count": 62,
      "outputs": [
        {
          "output_type": "stream",
          "name": "stdout",
          "text": [
            "  (0, 258)\t0.4288445113457782\n",
            "  (0, 152)\t0.9033783178096544\n",
            "  (1, 304)\t0.6821940145365303\n",
            "  (1, 297)\t0.7217548523554296\n",
            "  (1, 52)\t0.11696691682661615\n",
            "  (2, 290)\t0.4856462979047944\n",
            "  (2, 253)\t0.6169450228187703\n",
            "  (2, 53)\t0.45831817883964276\n",
            "  (2, 52)\t0.09854023752655001\n",
            "  (2, 12)\t0.40467367184416486\n",
            "  (3, 283)\t0.5664408480977514\n",
            "  (3, 238)\t0.5551933059819583\n",
            "  (3, 52)\t0.09900653585656416\n",
            "  (3, 51)\t0.6009183509070153\n",
            "  (4, 177)\t0.5282460295477857\n",
            "  (4, 174)\t0.5245165359671299\n",
            "  (4, 53)\t0.2387360989156779\n",
            "  (4, 52)\t0.1026584280504564\n",
            "  (4, 36)\t0.6150649217674306\n",
            "  (5, 188)\t0.6653864896622184\n",
            "  (5, 142)\t0.5778296865598489\n",
            "  (5, 76)\t0.46049451544316594\n",
            "  (5, 52)\t0.10638831680171057\n",
            "  (6, 297)\t0.6247683932195414\n",
            "  (6, 53)\t0.47091861646230937\n",
            "  :\t:\n",
            "  (432903, 52)\t0.2853206406011729\n",
            "  (432903, 51)\t0.4329370968957666\n",
            "  (432903, 15)\t0.8550775416173682\n",
            "  (432904, 299)\t0.813416629673856\n",
            "  (432904, 258)\t0.38517510363518015\n",
            "  (432904, 53)\t0.33047702668485723\n",
            "  (432904, 52)\t0.28421551847706955\n",
            "  (432905, 301)\t0.9808324243566935\n",
            "  (432905, 52)\t0.1948531635118383\n",
            "  (432906, 170)\t0.5004249869278186\n",
            "  (432906, 158)\t0.5546697004343701\n",
            "  (432906, 155)\t0.4445675763298425\n",
            "  (432906, 99)\t0.43666020261210303\n",
            "  (432906, 53)\t0.2126944020499072\n",
            "  (432906, 52)\t0.0914602905415128\n",
            "  (432907, 242)\t0.7561653558281534\n",
            "  (432907, 136)\t0.6412683690092189\n",
            "  (432907, 52)\t0.13034121970251178\n",
            "  (432908, 52)\t0.2365920868552282\n",
            "  (432908, 12)\t0.9716090697587627\n",
            "  (432909, 163)\t0.5388206542032117\n",
            "  (432909, 155)\t0.41365983819632013\n",
            "  (432909, 59)\t0.5037332384516905\n",
            "  (432909, 52)\t0.0851016830762315\n",
            "  (432909, 27)\t0.5268475765190366\n"
          ]
        }
      ]
    },
    {
      "cell_type": "code",
      "source": [
        "from sklearn.metrics import accuracy_score"
      ],
      "metadata": {
        "id": "8zxyFiqKarHd"
      },
      "execution_count": 63,
      "outputs": []
    },
    {
      "cell_type": "markdown",
      "source": [
        "ça c'est pour vérifier à quel point ça prédit bien sans SVM.\n",
        "\n",
        "J'ai obtenu 74.46666666666667 de précision avec les Train_X et autres du tuto.\n",
        "\n",
        "J'ai obtenu 73.02499999999999 de précision avec nos X_train et autres."
      ],
      "metadata": {
        "id": "H8Bmei4Za_In"
      }
    },
    {
      "cell_type": "code",
      "source": [
        "\"\"\"# fit the training dataset on the NB classifier\n",
        "Naive = naive_bayes.MultinomialNB()\n",
        "Naive.fit(SVM_Train_X_Tfidf,SVM_Train_Y)\n",
        "\n",
        "# predict the labels on validation dataset\n",
        "predictions_NB = Naive.predict(SVM_Test_X_Tfidf)\n",
        "\n",
        "# Use accuracy_score function to get the accuracy\n",
        "print(\"Naive Bayes Accuracy Score -> \",accuracy_score(predictions_NB, SVM_Test_Y)*100)\"\"\"\n",
        "\n",
        "# fit the training dataset on the NB classifier\n",
        "Naive = naive_bayes.MultinomialNB()\n",
        "Naive.fit(Train_X_Tfidf,y_train)\n",
        "\n",
        "# predict the labels on validation dataset\n",
        "predictions_NB = Naive.predict(Test_X_Tfidf)\n",
        "\n",
        "# Use accuracy_score function to get the accuracy\n",
        "print(\"Naive Bayes Accuracy Score -> \",accuracy_score(predictions_NB, y_test)*100)"
      ],
      "metadata": {
        "colab": {
          "base_uri": "https://localhost:8080/"
        },
        "id": "AMOS7_ikaej2",
        "outputId": "0ebc1d33-3d2a-4740-8053-ca0651fbd10f"
      },
      "execution_count": 64,
      "outputs": [
        {
          "output_type": "stream",
          "name": "stdout",
          "text": [
            "Naive Bayes Accuracy Score ->  71.93702184277636\n"
          ]
        }
      ]
    },
    {
      "cell_type": "markdown",
      "source": [
        "Et là on prédit avec le SVM.\n",
        "\n",
        "J'ai obtenu 75.78333333333333 de précision avec les Train_X et autres du tuto.\n",
        "\n",
        "J'ai obtenu 73.125 de précision avec nos X_train et autres."
      ],
      "metadata": {
        "id": "V3Zj8530bD-c"
      }
    },
    {
      "cell_type": "code",
      "source": [
        "from sklearn.metrics import matthews_corrcoef\n",
        "from sklearn.metrics import make_scorer\n",
        "mcc_scorer = make_scorer(matthews_corrcoef)"
      ],
      "metadata": {
        "id": "BSikQO4c5DqS"
      },
      "execution_count": 65,
      "outputs": []
    },
    {
      "cell_type": "code",
      "source": [
        "\"\"\"# Classifier - Algorithm - SVM\n",
        "# fit the training dataset on the classifier\n",
        "SVM = svm.SVC(C=1.0, kernel='linear', degree=3, gamma='auto')\n",
        "SVM.fit(SVM_Train_X_Tfidf,SVM_Train_Y)# predict the labels on validation dataset\n",
        "predictions_SVM = SVM.predict(SVM_Test_X_Tfidf)# Use accuracy_score function to get the accuracy\n",
        "print(\"SVM Accuracy Score -> \",accuracy_score(predictions_SVM, SVM_Test_Y)*100)\"\"\"\n",
        "\n",
        "from sklearn.model_selection import RandomizedSearchCV\n",
        "from sklearn.linear_model import LogisticRegression\n",
        "from scipy.stats import uniform\n",
        "\n",
        "logistic = LogisticRegression(solver='liblinear', tol=1e-2, max_iter=200, random_state=42)\n",
        "distributions = dict(C=uniform(loc=0, scale=4), penalty=['l2', 'l1'])\n",
        "\n",
        "# randomized_searchCV\n",
        "\n",
        "# Classifier - Algorithm - SVM\n",
        "# fit the training dataset on the classifier\n",
        "# SVM = svm.SVC(C=1.0, degree=2, gamma='auto', random_state=42, class_weight='balanced')\n",
        "SVM = RandomizedSearchCV(logistic, distributions, scoring=mcc_scorer, random_state=42, verbose=1)\n",
        "\n",
        "SVM.fit(Train_X_Tfidf,y_train)# predict the labels on validation dataset\n",
        "predictions_SVM = SVM.predict(Test_X_Tfidf)# Use accuracy_score function to get the accuracy\n",
        "print(\"SVM Accuracy Score -> \",accuracy_score(predictions_SVM, y_test)*100)"
      ],
      "metadata": {
        "colab": {
          "base_uri": "https://localhost:8080/"
        },
        "id": "EuUtioV9aw8e",
        "outputId": "e7e57d50-315b-4015-8bdd-38a9fa6ccea3"
      },
      "execution_count": 66,
      "outputs": [
        {
          "output_type": "stream",
          "name": "stdout",
          "text": [
            "Fitting 5 folds for each of 10 candidates, totalling 50 fits\n",
            "SVM Accuracy Score ->  71.9280130834904\n"
          ]
        }
      ]
    },
    {
      "cell_type": "code",
      "source": [
        "from sklearn.metrics import confusion_matrix, ConfusionMatrixDisplay, classification_report\n",
        "\n",
        "\n",
        "#matrice de confusion\n",
        "#confrontation entre Y obs. sur l’éch. test et la prédiction\n",
        "# predictions = best_rd_model.predict(df_test)\n",
        "\n",
        "cm = confusion_matrix(y_test, \n",
        "                      predictions_SVM, \n",
        "                      labels=SVM.classes_)\n",
        "\n",
        "disp = ConfusionMatrixDisplay(confusion_matrix=cm,\n",
        "                              display_labels=SVM.classes_)\n",
        "disp.plot(cmap=plt.cm.Blues,values_format='g',xticks_rotation='vertical')\n",
        "plt.show()\n"
      ],
      "metadata": {
        "colab": {
          "base_uri": "https://localhost:8080/",
          "height": 365
        },
        "id": "rVnKnsnh9fh4",
        "outputId": "0650f0e5-3524-449f-9f4b-e357407fc036"
      },
      "execution_count": 67,
      "outputs": [
        {
          "output_type": "display_data",
          "data": {
            "image/png": "[encoded data removed]",
            "text/plain": [
              "<Figure size 432x288 with 2 Axes>"
            ]
          },
          "metadata": {
            "needs_background": "light"
          }
        }
      ]
    },
    {
      "cell_type": "code",
      "source": [
        "\"\"\"prediction_overfitting = SVM.predict(Train_X_Tfidf)\n",
        "accuracy = accuracy_score(prediction_overfitting, y_train)\n",
        "print(accuracy*100)\"\"\""
      ],
      "metadata": {
        "colab": {
          "base_uri": "https://localhost:8080/"
        },
        "id": "_QKDIlnI3K1l",
        "outputId": "da865b5a-927a-456a-f406-9628c653dedb"
      },
      "execution_count": 68,
      "outputs": [
        {
          "output_type": "stream",
          "name": "stdout",
          "text": [
            "72.26536693539073\n"
          ]
        }
      ]
    },
    {
      "cell_type": "code",
      "source": [
        "matthews_corrcoef(y_test, predictions_SVM)"
      ],
      "metadata": {
        "colab": {
          "base_uri": "https://localhost:8080/"
        },
        "id": "ziewdpzVmJE6",
        "outputId": "996e8b59-7d2f-435f-9f19-019fa1943955"
      },
      "execution_count": 69,
      "outputs": [
        {
          "output_type": "execute_result",
          "data": {
            "text/plain": [
              "0.11927545555482019"
            ]
          },
          "metadata": {},
          "execution_count": 69
        }
      ]
    },
    {
      "cell_type": "code",
      "source": [
        "from sklearn.metrics import classification_report\n",
        "print(classification_report(y_test, predictions_SVM))"
      ],
      "metadata": {
        "id": "HqosbBwR8OzP"
      },
      "execution_count": null,
      "outputs": []
    },
    {
      "cell_type": "markdown",
      "source": [
        "Tenter de rajouter le postagging pour chaque mot (ça dit si un mot est un verbe, adjectif, adverbe, ...)\n",
        "\n",
        "Tester avec lemmatization\n",
        "\n",
        "Plus tard on utilisera peut-être LIME pour voir ce qui se passe\n",
        "\n"
      ],
      "metadata": {
        "id": "59R9m4E5_NwJ"
      }
    },
    {
      "cell_type": "code",
      "source": [
        "predictions_SVM"
      ],
      "metadata": {
        "colab": {
          "base_uri": "https://localhost:8080/"
        },
        "id": "mUA0sgaV731l",
        "outputId": "8e2b63e5-a65a-4eae-a8c8-52cae7b18832"
      },
      "execution_count": 73,
      "outputs": [
        {
          "output_type": "execute_result",
          "data": {
            "text/plain": [
              "array(['site plutôt fiable', 'site plutôt fiable', 'site plutôt fiable',\n",
              "       ..., 'site plutôt fiable', 'site plutôt fiable',\n",
              "       'site plutôt fiable'], dtype=object)"
            ]
          },
          "metadata": {},
          "execution_count": 73
        }
      ]
    },
    {
      "cell_type": "code",
      "source": [
        "Acc_test = []\n",
        "Acc_train = []\n",
        "for i in range(10):\n",
        "  model=svm.SVC(kernel='poly', degree=i, C=100)\n",
        "  model.fit(Train_X_Tfidf, y_train)\n",
        "  Acc_test.append(model.score(Test_X_Tfidf, y_test))\n",
        "  Acc_train.append(model.score(Train_X_Tfidf, y_train))\n",
        "  print(\"Boucle n°\",i+1)"
      ],
      "metadata": {
        "id": "f-R38-Ev9A1s"
      },
      "execution_count": null,
      "outputs": []
    },
    {
      "cell_type": "code",
      "source": [
        "plt.plot(Acc_train,'-o')\n",
        "plt.plot(Acc_test,'-o')\n",
        "plt.ylim(0, 1) #trouvé le code pour choisir la taille\n",
        "plt.xlabel('epoch')\n",
        "plt.ylabel('accuracy')\n",
        "plt.legend(['Train','test'])\n",
        "plt.title('Train vs Valid Accuracy')\n",
        "# plt.savefig(res_folder+'/acc.png')\n",
        "plt.show()"
      ],
      "metadata": {
        "id": "09sfsYSE9ufZ"
      },
      "execution_count": null,
      "outputs": []
    },
    {
      "cell_type": "code",
      "source": [
        "# pd.DataFrame(predictions_SVM)\n",
        "results = pd.DataFrame(X_test).reset_index()\n",
        "results['predictions'] = predictions_SVM\n",
        "results"
      ],
      "metadata": {
        "id": "rNOWbsmCEV93"
      },
      "execution_count": null,
      "outputs": []
    },
    {
      "cell_type": "code",
      "source": [
        "for index in results['index']:\n",
        "  print(index, \" is at position \", i)"
      ],
      "metadata": {
        "id": "sj8qdUT31oI4"
      },
      "execution_count": null,
      "outputs": []
    },
    {
      "cell_type": "code",
      "source": [
        "data"
      ],
      "metadata": {
        "id": "Q1PxoGbGSgqB"
      },
      "execution_count": null,
      "outputs": []
    },
    {
      "cell_type": "markdown",
      "source": [
        "# Glove"
      ],
      "metadata": {
        "id": "kGXoiRlXoqDK"
      }
    },
    {
      "cell_type": "code",
      "source": [
        "!wget http://nlp.stanford.edu/data/glove.twitter.27B.zip"
      ],
      "metadata": {
        "id": "klEWdfdmrG0e"
      },
      "execution_count": null,
      "outputs": []
    },
    {
      "cell_type": "code",
      "source": [
        "!unzip glove*.zip"
      ],
      "metadata": {
        "id": "x46M9wJBrMGu"
      },
      "execution_count": null,
      "outputs": []
    },
    {
      "cell_type": "code",
      "source": [
        "print('Indexing word vectors.')\n",
        "\n",
        "embeddings_index = {}\n",
        "f = open('glove.6B.100d.txt', encoding='utf-8')\n",
        "for line in f:\n",
        "    values = line.split()\n",
        "    word = values[0]\n",
        "    coefs = np.asarray(values[1:], dtype='float32')\n",
        "    embeddings_index[word] = coefs\n",
        "f.close()\n",
        "\n",
        "print('Found %s word vectors.' % len(embeddings_index))"
      ],
      "metadata": {
        "id": "4SOz5Zqqr_66"
      },
      "execution_count": null,
      "outputs": []
    },
    {
      "cell_type": "code",
      "source": [
        "embeddings_index = {}\n",
        "with open('glove.6B.100d.txt', encoding='utf-8') as f:\n",
        "    for line in f:\n",
        "        word, coefs = line.split(maxsplit=1)\n",
        "        coefs = np.fromstring(coefs, \"f\", sep=\" \")\n",
        "        embeddings_index[word] = coefs\n",
        "\n",
        "print(\"Found %s word vectors.\" % len(embeddings_index))"
      ],
      "metadata": {
        "id": "DYxTWzWksSUI"
      },
      "execution_count": null,
      "outputs": []
    },
    {
      "cell_type": "code",
      "source": [
        "word_index = dict(zip(featured_names, range(len(featured_names))))"
      ],
      "metadata": {
        "id": "PKrAmY_RvRMh"
      },
      "execution_count": null,
      "outputs": []
    },
    {
      "cell_type": "code",
      "source": [
        "word_index"
      ],
      "metadata": {
        "id": "sywLhbFDvbFZ"
      },
      "execution_count": null,
      "outputs": []
    },
    {
      "cell_type": "code",
      "source": [
        "num_tokens = len(featured_names) + 2\n",
        "embedding_dim = 100\n",
        "hits = 0\n",
        "misses = 0\n",
        "\n",
        "# Prepare embedding matrix\n",
        "embedding_matrix = np.zeros((num_tokens, embedding_dim))\n",
        "for word, i in word_index.items():\n",
        "    embedding_vector = embeddings_index.get(word)\n",
        "    if embedding_vector is not None:\n",
        "        # Words not found in embedding index will be all-zeros.\n",
        "        # This includes the representation for \"padding\" and \"OOV\"\n",
        "        embedding_matrix[i] = embedding_vector\n",
        "        hits += 1\n",
        "    else:\n",
        "        misses += 1\n",
        "        print(\"était \"+word)\n",
        "print(\"Converted %d words (%d misses)\" % (hits, misses))\n"
      ],
      "metadata": {
        "id": "mst3x3SLtT8-"
      },
      "execution_count": null,
      "outputs": []
    },
    {
      "cell_type": "code",
      "source": [
        "! pip install glove-python-binary"
      ],
      "metadata": {
        "id": "IQ18JTTYw8pR"
      },
      "execution_count": null,
      "outputs": []
    },
    {
      "cell_type": "code",
      "source": [
        "import glove\n",
        "glove_corpus = glove.Corpus()\n",
        "\n",
        "corpus_sentences = [ \n",
        "        [ w.lower() for w in next(corpus_sentence_tokens_gen)] # All lower-case\n",
        "        for _ in range(0,100*1000) \n",
        "    ]\n",
        "\n",
        "# Fit the co-occurrence matrix using a sliding window of 10 words.\n",
        "glove_corpus.fit(corpus_sentences, window=10)\n",
        "\n",
        "print(\"Dictionary length=%d\" % (len(glove_corpus.dictionary),))"
      ],
      "metadata": {
        "id": "-ujJvjXwxK__"
      },
      "execution_count": null,
      "outputs": []
    },
    {
      "cell_type": "markdown",
      "source": [
        "#A faire"
      ],
      "metadata": {
        "id": "wtZmBBoTpbc5"
      }
    },
    {
      "cell_type": "markdown",
      "source": [
        "Les trucs envoyés sur Facebook"
      ],
      "metadata": {
        "id": "44av3KSErQI0"
      }
    },
    {
      "cell_type": "markdown",
      "source": [
        "tester word2vec (et glove aussi)"
      ],
      "metadata": {
        "id": "UwNiFZinrVU2"
      }
    },
    {
      "cell_type": "markdown",
      "source": [
        "enlever caratères tout seul, enlever les gt (greater then)"
      ],
      "metadata": {
        "id": "Ysc6-OrKmjCY"
      }
    },
    {
      "cell_type": "markdown",
      "source": [
        "Faire un excel qui compare les méthodes"
      ],
      "metadata": {
        "id": "qtA6S9r6g-a2"
      }
    },
    {
      "cell_type": "markdown",
      "source": [
        "Si les modèles changent pas les résultats alors améliorer en ammont (spacy?)"
      ],
      "metadata": {
        "id": "t7k5z4CKhBV_"
      }
    },
    {
      "cell_type": "markdown",
      "source": [
        "Penser à faire sur TOUS les tweets"
      ],
      "metadata": {
        "id": "k6g0b81FAfeI"
      }
    }
  ]
}