{
  "nbformat": 4,
  "nbformat_minor": 0,
  "metadata": {
    "colab": {
      "name": "AnalyseTweets.ipynb",
      "provenance": [],
      "collapsed_sections": [],
      "include_colab_link": true
    },
    "kernelspec": {
      "name": "python3",
      "display_name": "Python 3"
    },
    "language_info": {
      "name": "python"
    }
  },
  "cells": [
    {
      "cell_type": "markdown",
      "metadata": {
        "id": "view-in-github",
        "colab_type": "text"
      },
      "source": [
        "<a href=\"https://colab.research.google.com/github/anjunjin/PFE-ING3-IA/blob/master/AnalyseTweets.ipynb\" target=\"_parent\"><img src=\"https://colab.research.google.com/assets/colab-badge.svg\" alt=\"Open In Colab\"/></a>"
      ]
    },
    {
      "cell_type": "markdown",
      "metadata": {
        "id": "MM7Nxkv0RUri"
      },
      "source": [
        "Importation des libraries nécessaires"
      ]
    },
    {
      "cell_type": "code",
      "metadata": {
        "colab": {
          "base_uri": "https://localhost:8080/"
        },
        "id": "9ffTTSD29lK8",
        "outputId": "a7df9685-6c9c-4a21-a1f6-fa841bac3a10"
      },
      "source": [
        "!pip install --upgrade pandas"
      ],
      "execution_count": 1,
      "outputs": [
        {
          "output_type": "stream",
          "name": "stdout",
          "text": [
            "Requirement already satisfied: pandas in /usr/local/lib/python3.7/dist-packages (1.3.5)\n",
            "Requirement already satisfied: pytz>=2017.3 in /usr/local/lib/python3.7/dist-packages (from pandas) (2022.1)\n",
            "Requirement already satisfied: numpy>=1.17.3 in /usr/local/lib/python3.7/dist-packages (from pandas) (1.21.6)\n",
            "Requirement already satisfied: python-dateutil>=2.7.3 in /usr/local/lib/python3.7/dist-packages (from pandas) (2.8.2)\n",
            "Requirement already satisfied: six>=1.5 in /usr/local/lib/python3.7/dist-packages (from python-dateutil>=2.7.3->pandas) (1.15.0)\n"
          ]
        }
      ]
    },
    {
      "cell_type": "code",
      "metadata": {
        "id": "fkdW07bZFpQa"
      },
      "source": [
        "import pandas as pd\n",
        "# import pickle"
      ],
      "execution_count": 2,
      "outputs": []
    },
    {
      "cell_type": "markdown",
      "metadata": {
        "id": "uqursho_RXXh"
      },
      "source": [
        "Liaison au Google Drive"
      ]
    },
    {
      "cell_type": "code",
      "metadata": {
        "colab": {
          "base_uri": "https://localhost:8080/"
        },
        "id": "ITQrc3nUGuCj",
        "outputId": "9b7a97ce-bb58-4983-895b-04a8e1f78a25"
      },
      "source": [
        "from google.colab import drive\n",
        "drive.mount('/content/drive')\n",
        "DATA_PATH = \"/content/drive/My Drive/PFE/\""
      ],
      "execution_count": 3,
      "outputs": [
        {
          "output_type": "stream",
          "name": "stdout",
          "text": [
            "Mounted at /content/drive\n"
          ]
        }
      ]
    },
    {
      "cell_type": "markdown",
      "metadata": {
        "id": "TVMItO2XPOiu"
      },
      "source": [
        " La base de données compte 926.188 tweets et les variables suivantes :\n",
        "\n",
        "*    user_id : l'identifiant twitter du compte\n",
        "*     user_screen_name : le nom twitter du compte\n",
        "*    id_tweet : l'identifiant twitter du tweet\n",
        "*    created_at : la date à laquelle a été publié le tweet\n",
        "*     tweet : le tweet\n",
        "*    retweet_count : le nombre de fois à laquelle le tweet a été retweeté\n",
        "*     favorite_count : le nombre de fois à laquelle le tweet a été mis en favori\n",
        "*    liability : la fiabilité du compte twitter (donné par les données decodex)\n",
        "*    liability_label : le label de la fiabilité du compte twitter\n",
        "*    description : la description du compte twitter (donné par les données decodex)\n",
        "*    count_followers : le nombre de followers total du compte twitter"
      ]
    },
    {
      "cell_type": "markdown",
      "metadata": {
        "id": "-qJpt9XcPdFF"
      },
      "source": [
        "Les données pour analyser : liability, retweet_count, favorite_count, count_followers -> pourcentage de \"partage\" selon nb followers -> tableau de pourcentage selon fiabilité\n",
        "\n",
        "Réutiliser tweets pour trouver patterns pour analyser nouveaux tweets (scattertext ?)"
      ]
    },
    {
      "cell_type": "markdown",
      "metadata": {
        "id": "iJ9YVEW-O1ZS"
      },
      "source": [
        "Code pour obtenir les données de data_tweets."
      ]
    },
    {
      "cell_type": "code",
      "metadata": {
        "id": "khFNjg7kO5FA",
        "colab": {
          "base_uri": "https://localhost:8080/",
          "height": 424
        },
        "outputId": "736218e1-b769-428c-8a90-0291e17a83f5"
      },
      "source": [
        "import pickle\n",
        "\n",
        "with open(DATA_PATH+\"data_tweets.txt\", \"rb\") as file :  \n",
        "    data_tweets = pickle.load(file)\n",
        "\n",
        "data_tweets.head(5)"
      ],
      "execution_count": 7,
      "outputs": [
        {
          "output_type": "execute_result",
          "data": {
            "text/plain": [
              "    user_id user_screen_name             id_tweet                created_at  \\\n",
              "0  78957336      france_soir  1466789582213681162 2021-12-03 15:21:02+00:00   \n",
              "1  78957336      france_soir  1466768535921831946 2021-12-03 13:57:24+00:00   \n",
              "2  78957336      france_soir  1466757902773932035 2021-12-03 13:15:09+00:00   \n",
              "3  78957336      france_soir  1466739848509890566 2021-12-03 12:03:25+00:00   \n",
              "4  78957336      france_soir  1466731706912751619 2021-12-03 11:31:04+00:00   \n",
              "\n",
              "                                               tweet  retweet_count  \\\n",
              "0  🚨Le professeur Raoult écope d’un blâme de l’Or...             50   \n",
              "1                     RT @DIVIZIO1: Recours déposé !            643   \n",
              "2  🎙BEST OF - Pr Michel Drancourt : IHU, épidémie...             27   \n",
              "3  📚 Jonathan Curiel, directeur général adjoint d...             14   \n",
              "4  🖍 Le dessin du jour\\n&gt; à retrouver sur http...             39   \n",
              "\n",
              "   favorite_count  liability  \\\n",
              "0             101          2   \n",
              "1               0          2   \n",
              "2              59          2   \n",
              "3              37          2   \n",
              "4              79          2   \n",
              "\n",
              "                                         description  \\\n",
              "0  France-Soir était un journal fondé par Pierre ...   \n",
              "1  France-Soir était un journal fondé par Pierre ...   \n",
              "2  France-Soir était un journal fondé par Pierre ...   \n",
              "3  France-Soir était un journal fondé par Pierre ...   \n",
              "4  France-Soir était un journal fondé par Pierre ...   \n",
              "\n",
              "                                     liability_label  count_followers  \n",
              "0  site qui diffuse régulièrement de la fausse in...            98322  \n",
              "1  site qui diffuse régulièrement de la fausse in...            98322  \n",
              "2  site qui diffuse régulièrement de la fausse in...            98322  \n",
              "3  site qui diffuse régulièrement de la fausse in...            98322  \n",
              "4  site qui diffuse régulièrement de la fausse in...            98322  "
            ],
            "text/html": [
              "\n",
              "  <div id=\"df-c0edb535-e8b7-47aa-9f75-5dca6df1e01f\">\n",
              "    <div class=\"colab-df-container\">\n",
              "      <div>\n",
              "<style scoped>\n",
              "    .dataframe tbody tr th:only-of-type {\n",
              "        vertical-align: middle;\n",
              "    }\n",
              "\n",
              "    .dataframe tbody tr th {\n",
              "        vertical-align: top;\n",
              "    }\n",
              "\n",
              "    .dataframe thead th {\n",
              "        text-align: right;\n",
              "    }\n",
              "</style>\n",
              "<table border=\"1\" class=\"dataframe\">\n",
              "  <thead>\n",
              "    <tr style=\"text-align: right;\">\n",
              "      <th></th>\n",
              "      <th>user_id</th>\n",
              "      <th>user_screen_name</th>\n",
              "      <th>id_tweet</th>\n",
              "      <th>created_at</th>\n",
              "      <th>tweet</th>\n",
              "      <th>retweet_count</th>\n",
              "      <th>favorite_count</th>\n",
              "      <th>liability</th>\n",
              "      <th>description</th>\n",
              "      <th>liability_label</th>\n",
              "      <th>count_followers</th>\n",
              "    </tr>\n",
              "  </thead>\n",
              "  <tbody>\n",
              "    <tr>\n",
              "      <th>0</th>\n",
              "      <td>78957336</td>\n",
              "      <td>france_soir</td>\n",
              "      <td>1466789582213681162</td>\n",
              "      <td>2021-12-03 15:21:02+00:00</td>\n",
              "      <td>🚨Le professeur Raoult écope d’un blâme de l’Or...</td>\n",
              "      <td>50</td>\n",
              "      <td>101</td>\n",
              "      <td>2</td>\n",
              "      <td>France-Soir était un journal fondé par Pierre ...</td>\n",
              "      <td>site qui diffuse régulièrement de la fausse in...</td>\n",
              "      <td>98322</td>\n",
              "    </tr>\n",
              "    <tr>\n",
              "      <th>1</th>\n",
              "      <td>78957336</td>\n",
              "      <td>france_soir</td>\n",
              "      <td>1466768535921831946</td>\n",
              "      <td>2021-12-03 13:57:24+00:00</td>\n",
              "      <td>RT @DIVIZIO1: Recours déposé !</td>\n",
              "      <td>643</td>\n",
              "      <td>0</td>\n",
              "      <td>2</td>\n",
              "      <td>France-Soir était un journal fondé par Pierre ...</td>\n",
              "      <td>site qui diffuse régulièrement de la fausse in...</td>\n",
              "      <td>98322</td>\n",
              "    </tr>\n",
              "    <tr>\n",
              "      <th>2</th>\n",
              "      <td>78957336</td>\n",
              "      <td>france_soir</td>\n",
              "      <td>1466757902773932035</td>\n",
              "      <td>2021-12-03 13:15:09+00:00</td>\n",
              "      <td>🎙BEST OF - Pr Michel Drancourt : IHU, épidémie...</td>\n",
              "      <td>27</td>\n",
              "      <td>59</td>\n",
              "      <td>2</td>\n",
              "      <td>France-Soir était un journal fondé par Pierre ...</td>\n",
              "      <td>site qui diffuse régulièrement de la fausse in...</td>\n",
              "      <td>98322</td>\n",
              "    </tr>\n",
              "    <tr>\n",
              "      <th>3</th>\n",
              "      <td>78957336</td>\n",
              "      <td>france_soir</td>\n",
              "      <td>1466739848509890566</td>\n",
              "      <td>2021-12-03 12:03:25+00:00</td>\n",
              "      <td>📚 Jonathan Curiel, directeur général adjoint d...</td>\n",
              "      <td>14</td>\n",
              "      <td>37</td>\n",
              "      <td>2</td>\n",
              "      <td>France-Soir était un journal fondé par Pierre ...</td>\n",
              "      <td>site qui diffuse régulièrement de la fausse in...</td>\n",
              "      <td>98322</td>\n",
              "    </tr>\n",
              "    <tr>\n",
              "      <th>4</th>\n",
              "      <td>78957336</td>\n",
              "      <td>france_soir</td>\n",
              "      <td>1466731706912751619</td>\n",
              "      <td>2021-12-03 11:31:04+00:00</td>\n",
              "      <td>🖍 Le dessin du jour\\n&amp;gt; à retrouver sur http...</td>\n",
              "      <td>39</td>\n",
              "      <td>79</td>\n",
              "      <td>2</td>\n",
              "      <td>France-Soir était un journal fondé par Pierre ...</td>\n",
              "      <td>site qui diffuse régulièrement de la fausse in...</td>\n",
              "      <td>98322</td>\n",
              "    </tr>\n",
              "  </tbody>\n",
              "</table>\n",
              "</div>\n",
              "      <button class=\"colab-df-convert\" onclick=\"convertToInteractive('df-c0edb535-e8b7-47aa-9f75-5dca6df1e01f')\"\n",
              "              title=\"Convert this dataframe to an interactive table.\"\n",
              "              style=\"display:none;\">\n",
              "        \n",
              "  <svg xmlns=\"http://www.w3.org/2000/svg\" height=\"24px\"viewBox=\"0 0 24 24\"\n",
              "       width=\"24px\">\n",
              "    <path d=\"M0 0h24v24H0V0z\" fill=\"none\"/>\n",
              "    <path d=\"M18.56 5.44l.94 2.06.94-2.06 2.06-.94-2.06-.94-.94-2.06-.94 2.06-2.06.94zm-11 1L8.5 8.5l.94-2.06 2.06-.94-2.06-.94L8.5 2.5l-.94 2.06-2.06.94zm10 10l.94 2.06.94-2.06 2.06-.94-2.06-.94-.94-2.06-.94 2.06-2.06.94z\"/><path d=\"M17.41 7.96l-1.37-1.37c-.4-.4-.92-.59-1.43-.59-.52 0-1.04.2-1.43.59L10.3 9.45l-7.72 7.72c-.78.78-.78 2.05 0 2.83L4 21.41c.39.39.9.59 1.41.59.51 0 1.02-.2 1.41-.59l7.78-7.78 2.81-2.81c.8-.78.8-2.07 0-2.86zM5.41 20L4 18.59l7.72-7.72 1.47 1.35L5.41 20z\"/>\n",
              "  </svg>\n",
              "      </button>\n",
              "      \n",
              "  <style>\n",
              "    .colab-df-container {\n",
              "      display:flex;\n",
              "      flex-wrap:wrap;\n",
              "      gap: 12px;\n",
              "    }\n",
              "\n",
              "    .colab-df-convert {\n",
              "      background-color: #E8F0FE;\n",
              "      border: none;\n",
              "      border-radius: 50%;\n",
              "      cursor: pointer;\n",
              "      display: none;\n",
              "      fill: #1967D2;\n",
              "      height: 32px;\n",
              "      padding: 0 0 0 0;\n",
              "      width: 32px;\n",
              "    }\n",
              "\n",
              "    .colab-df-convert:hover {\n",
              "      background-color: #E2EBFA;\n",
              "      box-shadow: 0px 1px 2px rgba(60, 64, 67, 0.3), 0px 1px 3px 1px rgba(60, 64, 67, 0.15);\n",
              "      fill: #174EA6;\n",
              "    }\n",
              "\n",
              "    [theme=dark] .colab-df-convert {\n",
              "      background-color: #3B4455;\n",
              "      fill: #D2E3FC;\n",
              "    }\n",
              "\n",
              "    [theme=dark] .colab-df-convert:hover {\n",
              "      background-color: #434B5C;\n",
              "      box-shadow: 0px 1px 3px 1px rgba(0, 0, 0, 0.15);\n",
              "      filter: drop-shadow(0px 1px 2px rgba(0, 0, 0, 0.3));\n",
              "      fill: #FFFFFF;\n",
              "    }\n",
              "  </style>\n",
              "\n",
              "      <script>\n",
              "        const buttonEl =\n",
              "          document.querySelector('#df-c0edb535-e8b7-47aa-9f75-5dca6df1e01f button.colab-df-convert');\n",
              "        buttonEl.style.display =\n",
              "          google.colab.kernel.accessAllowed ? 'block' : 'none';\n",
              "\n",
              "        async function convertToInteractive(key) {\n",
              "          const element = document.querySelector('#df-c0edb535-e8b7-47aa-9f75-5dca6df1e01f');\n",
              "          const dataTable =\n",
              "            await google.colab.kernel.invokeFunction('convertToInteractive',\n",
              "                                                     [key], {});\n",
              "          if (!dataTable) return;\n",
              "\n",
              "          const docLinkHtml = 'Like what you see? Visit the ' +\n",
              "            '<a target=\"_blank\" href=https://colab.research.google.com/notebooks/data_table.ipynb>data table notebook</a>'\n",
              "            + ' to learn more about interactive tables.';\n",
              "          element.innerHTML = '';\n",
              "          dataTable['output_type'] = 'display_data';\n",
              "          await google.colab.output.renderOutput(dataTable, element);\n",
              "          const docLink = document.createElement('div');\n",
              "          docLink.innerHTML = docLinkHtml;\n",
              "          element.appendChild(docLink);\n",
              "        }\n",
              "      </script>\n",
              "    </div>\n",
              "  </div>\n",
              "  "
            ]
          },
          "metadata": {},
          "execution_count": 7
        }
      ]
    },
    {
      "cell_type": "code",
      "metadata": {
        "colab": {
          "base_uri": "https://localhost:8080/"
        },
        "id": "phJS9cxV79mh",
        "outputId": "1a458231-eb72-4532-97d3-7c17752a97b3"
      },
      "source": [
        "data_tweets.shape"
      ],
      "execution_count": 8,
      "outputs": [
        {
          "output_type": "execute_result",
          "data": {
            "text/plain": [
              "(926188, 11)"
            ]
          },
          "metadata": {},
          "execution_count": 8
        }
      ]
    },
    {
      "cell_type": "markdown",
      "metadata": {
        "id": "LbnjZ_62kejR"
      },
      "source": [
        "Regroupe par fiabilité pour compter nb user selon la fiabilité"
      ]
    },
    {
      "cell_type": "code",
      "metadata": {
        "colab": {
          "base_uri": "https://localhost:8080/"
        },
        "id": "x9ISxsRn7_Yx",
        "outputId": "6ed1adba-19ac-4112-d522-e7c662b9ba5f"
      },
      "source": [
        "data_tweets.groupby(\"liability_label\").user_screen_name.nunique()"
      ],
      "execution_count": 9,
      "outputs": [
        {
          "output_type": "execute_result",
          "data": {
            "text/plain": [
              "liability_label\n",
              "site parodique                                              31\n",
              "site qui diffuse régulièrement de la fausse information     52\n",
              "site réputé fiable                                         201\n",
              "site à la fiabilité douteuse                                39\n",
              "Name: user_screen_name, dtype: int64"
            ]
          },
          "metadata": {},
          "execution_count": 9
        }
      ]
    },
    {
      "cell_type": "code",
      "metadata": {
        "colab": {
          "base_uri": "https://localhost:8080/"
        },
        "id": "ObJ8JJSQ8LfR",
        "outputId": "d68a0c56-d812-4e22-c095-da23efa1a62b"
      },
      "source": [
        "data_tweets.groupby(\"liability_label\").id_tweet.nunique()"
      ],
      "execution_count": 10,
      "outputs": [
        {
          "output_type": "execute_result",
          "data": {
            "text/plain": [
              "liability_label\n",
              "site parodique                                              51506\n",
              "site qui diffuse régulièrement de la fausse information    133675\n",
              "site réputé fiable                                         632999\n",
              "site à la fiabilité douteuse                               108008\n",
              "Name: id_tweet, dtype: int64"
            ]
          },
          "metadata": {},
          "execution_count": 10
        }
      ]
    },
    {
      "cell_type": "code",
      "metadata": {
        "colab": {
          "base_uri": "https://localhost:8080/"
        },
        "id": "bIOp3M1S8uK7",
        "outputId": "8f925ec7-ae9d-4761-f3b4-18bc420d38e2"
      },
      "source": [
        "data_tweets.id_tweet.describe()"
      ],
      "execution_count": 11,
      "outputs": [
        {
          "output_type": "execute_result",
          "data": {
            "text/plain": [
              "count                  926188\n",
              "unique                 926188\n",
              "top       1466789582213681162\n",
              "freq                        1\n",
              "Name: id_tweet, dtype: object"
            ]
          },
          "metadata": {},
          "execution_count": 11
        }
      ]
    },
    {
      "cell_type": "markdown",
      "metadata": {
        "id": "vk8DxCRA8doL"
      },
      "source": [
        "#Pensez à :\n",
        "\n",
        "Vérifier si données manquantes\n",
        "\n",
        "Vérifier si doublon\n",
        "\n",
        "Vérifier distribution des RT (par liability label)"
      ]
    },
    {
      "cell_type": "markdown",
      "metadata": {
        "id": "jrpVvU3ckun5"
      },
      "source": [
        "#Affichage Boxplot pour analyser visuellement"
      ]
    },
    {
      "cell_type": "code",
      "metadata": {
        "id": "kMw7gIXT9zl_"
      },
      "source": [
        "import seaborn as sns"
      ],
      "execution_count": 12,
      "outputs": []
    },
    {
      "cell_type": "code",
      "metadata": {
        "colab": {
          "base_uri": "https://localhost:8080/",
          "height": 285
        },
        "id": "1E0RqfDl95nj",
        "outputId": "13dc5213-5d0f-449e-9728-7ea333dbf596"
      },
      "source": [
        "# boxplot\n",
        "sns.set_theme(style=\"whitegrid\")\n",
        "\n",
        "ax = sns.boxplot(data=data_tweets, x=\"retweet_count\", y=\"liability_label\", showfliers=True)"
      ],
      "execution_count": 13,
      "outputs": [
        {
          "output_type": "display_data",
          "data": {
            "text/plain": [
              "<Figure size 432x288 with 1 Axes>"
            ],
            "image/png": "[encoded data removed]"
          },
          "metadata": {}
        }
      ]
    },
    {
      "cell_type": "code",
      "metadata": {
        "colab": {
          "base_uri": "https://localhost:8080/",
          "height": 284
        },
        "id": "GSivJi52FfLj",
        "outputId": "26e124d3-26ca-4652-e29c-6205fb240fc0"
      },
      "source": [
        "# boxplot\n",
        "sns.set_theme(style=\"whitegrid\")\n",
        "\n",
        "ax = sns.boxplot(data=data_tweets, x=\"favorite_count\", y=\"liability_label\", showfliers=False)"
      ],
      "execution_count": null,
      "outputs": [
        {
          "output_type": "display_data",
          "data": {
            "text/plain": [
              "<Figure size 432x288 with 1 Axes>"
            ],
            "image/png": "[encoded data removed]"
          },
          "metadata": {}
        }
      ]
    },
    {
      "cell_type": "markdown",
      "metadata": {
        "id": "7qRDvEHz_YWo"
      },
      "source": [
        "On crée un autre tableau avec seulement compte, fiabilité, followers, pour comparer les nb de followers"
      ]
    },
    {
      "cell_type": "code",
      "metadata": {
        "colab": {
          "base_uri": "https://localhost:8080/"
        },
        "id": "rcsn4JLr_FOX",
        "outputId": "f91bff92-3a31-4f1a-d30f-22e0ef7a0ff6"
      },
      "source": [
        "df_comptes = data_tweets.copy()\n",
        "df_comptes = df_comptes[[\"user_screen_name\", \"liability_label\",\"count_followers\"]]\n",
        "df_comptes = df_comptes.drop_duplicates()\n",
        "len(df_comptes)"
      ],
      "execution_count": null,
      "outputs": [
        {
          "output_type": "execute_result",
          "data": {
            "text/plain": [
              "323"
            ]
          },
          "metadata": {},
          "execution_count": 13
        }
      ]
    },
    {
      "cell_type": "code",
      "metadata": {
        "colab": {
          "base_uri": "https://localhost:8080/",
          "height": 284
        },
        "id": "wFpvYXJjAGre",
        "outputId": "a390e014-bc2e-4ace-94a2-1eaf70fdd1cb"
      },
      "source": [
        "sns.set_theme(style=\"whitegrid\")\n",
        "\n",
        "aax = sns.boxplot(data=df_comptes, x=\"count_followers\", y=\"liability_label\", showfliers=False)"
      ],
      "execution_count": null,
      "outputs": [
        {
          "output_type": "display_data",
          "data": {
            "text/plain": [
              "<Figure size 432x288 with 1 Axes>"
            ],
            "image/png": "[encoded data removed]"
          },
          "metadata": {}
        }
      ]
    },
    {
      "cell_type": "markdown",
      "metadata": {
        "id": "Il-8hms1lLuU"
      },
      "source": [
        "Ajout de colonnes pour les pourcentage de RT et Like selon le nb de followers de l'user"
      ]
    },
    {
      "cell_type": "code",
      "metadata": {
        "colab": {
          "base_uri": "https://localhost:8080/",
          "height": 398
        },
        "id": "Ydkjb21TALWi",
        "outputId": "2b6edec3-66e8-4fc3-8b79-094b78ffc7e7"
      },
      "source": [
        "list_percent_rt = []\n",
        "list_percent_fav = []\n",
        "for index, row in data_tweets.iterrows():\n",
        "  list_percent_rt.append(row['retweet_count']/row['count_followers'])\n",
        "  list_percent_fav.append(row['favorite_count']/row['count_followers'])\n",
        "data_tweets['rt_per_followers'] = list_percent_rt\n",
        "data_tweets['fav_per_followers'] = list_percent_fav\n",
        "data_tweets.head(10)"
      ],
      "execution_count": null,
      "outputs": [
        {
          "output_type": "error",
          "ename": "KeyboardInterrupt",
          "evalue": "ignored",
          "traceback": [
            "\u001b[0;31m---------------------------------------------------------------------------\u001b[0m",
            "\u001b[0;31mKeyboardInterrupt\u001b[0m                         Traceback (most recent call last)",
            "\u001b[0;32m<ipython-input-16-6132d733351e>\u001b[0m in \u001b[0;36m<module>\u001b[0;34m()\u001b[0m\n\u001b[1;32m      1\u001b[0m \u001b[0mlist_percent_rt\u001b[0m \u001b[0;34m=\u001b[0m \u001b[0;34m[\u001b[0m\u001b[0;34m]\u001b[0m\u001b[0;34m\u001b[0m\u001b[0;34m\u001b[0m\u001b[0m\n\u001b[1;32m      2\u001b[0m \u001b[0mlist_percent_fav\u001b[0m \u001b[0;34m=\u001b[0m \u001b[0;34m[\u001b[0m\u001b[0;34m]\u001b[0m\u001b[0;34m\u001b[0m\u001b[0;34m\u001b[0m\u001b[0m\n\u001b[0;32m----> 3\u001b[0;31m \u001b[0;32mfor\u001b[0m \u001b[0mindex\u001b[0m\u001b[0;34m,\u001b[0m \u001b[0mrow\u001b[0m \u001b[0;32min\u001b[0m \u001b[0mdata_tweets\u001b[0m\u001b[0;34m.\u001b[0m\u001b[0miterrows\u001b[0m\u001b[0;34m(\u001b[0m\u001b[0;34m)\u001b[0m\u001b[0;34m:\u001b[0m\u001b[0;34m\u001b[0m\u001b[0;34m\u001b[0m\u001b[0m\n\u001b[0m\u001b[1;32m      4\u001b[0m   \u001b[0mlist_percent_rt\u001b[0m\u001b[0;34m.\u001b[0m\u001b[0mappend\u001b[0m\u001b[0;34m(\u001b[0m\u001b[0mrow\u001b[0m\u001b[0;34m[\u001b[0m\u001b[0;34m'retweet_count'\u001b[0m\u001b[0;34m]\u001b[0m\u001b[0;34m/\u001b[0m\u001b[0mrow\u001b[0m\u001b[0;34m[\u001b[0m\u001b[0;34m'count_followers'\u001b[0m\u001b[0;34m]\u001b[0m\u001b[0;34m)\u001b[0m\u001b[0;34m\u001b[0m\u001b[0;34m\u001b[0m\u001b[0m\n\u001b[1;32m      5\u001b[0m   \u001b[0mlist_percent_fav\u001b[0m\u001b[0;34m.\u001b[0m\u001b[0mappend\u001b[0m\u001b[0;34m(\u001b[0m\u001b[0mrow\u001b[0m\u001b[0;34m[\u001b[0m\u001b[0;34m'favorite_count'\u001b[0m\u001b[0;34m]\u001b[0m\u001b[0;34m/\u001b[0m\u001b[0mrow\u001b[0m\u001b[0;34m[\u001b[0m\u001b[0;34m'count_followers'\u001b[0m\u001b[0;34m]\u001b[0m\u001b[0;34m)\u001b[0m\u001b[0;34m\u001b[0m\u001b[0;34m\u001b[0m\u001b[0m\n",
            "\u001b[0;32m/usr/local/lib/python3.7/dist-packages/pandas/core/frame.py\u001b[0m in \u001b[0;36miterrows\u001b[0;34m(self)\u001b[0m\n\u001b[1;32m   1261\u001b[0m         \u001b[0mklass\u001b[0m \u001b[0;34m=\u001b[0m \u001b[0mself\u001b[0m\u001b[0;34m.\u001b[0m\u001b[0m_constructor_sliced\u001b[0m\u001b[0;34m\u001b[0m\u001b[0;34m\u001b[0m\u001b[0m\n\u001b[1;32m   1262\u001b[0m         \u001b[0;32mfor\u001b[0m \u001b[0mk\u001b[0m\u001b[0;34m,\u001b[0m \u001b[0mv\u001b[0m \u001b[0;32min\u001b[0m \u001b[0mzip\u001b[0m\u001b[0;34m(\u001b[0m\u001b[0mself\u001b[0m\u001b[0;34m.\u001b[0m\u001b[0mindex\u001b[0m\u001b[0;34m,\u001b[0m \u001b[0mself\u001b[0m\u001b[0;34m.\u001b[0m\u001b[0mvalues\u001b[0m\u001b[0;34m)\u001b[0m\u001b[0;34m:\u001b[0m\u001b[0;34m\u001b[0m\u001b[0;34m\u001b[0m\u001b[0m\n\u001b[0;32m-> 1263\u001b[0;31m             \u001b[0ms\u001b[0m \u001b[0;34m=\u001b[0m \u001b[0mklass\u001b[0m\u001b[0;34m(\u001b[0m\u001b[0mv\u001b[0m\u001b[0;34m,\u001b[0m \u001b[0mindex\u001b[0m\u001b[0;34m=\u001b[0m\u001b[0mcolumns\u001b[0m\u001b[0;34m,\u001b[0m \u001b[0mname\u001b[0m\u001b[0;34m=\u001b[0m\u001b[0mk\u001b[0m\u001b[0;34m)\u001b[0m\u001b[0;34m\u001b[0m\u001b[0;34m\u001b[0m\u001b[0m\n\u001b[0m\u001b[1;32m   1264\u001b[0m             \u001b[0;32myield\u001b[0m \u001b[0mk\u001b[0m\u001b[0;34m,\u001b[0m \u001b[0ms\u001b[0m\u001b[0;34m\u001b[0m\u001b[0;34m\u001b[0m\u001b[0m\n\u001b[1;32m   1265\u001b[0m \u001b[0;34m\u001b[0m\u001b[0m\n",
            "\u001b[0;32m/usr/local/lib/python3.7/dist-packages/pandas/core/series.py\u001b[0m in \u001b[0;36m__init__\u001b[0;34m(self, data, index, dtype, name, copy, fastpath)\u001b[0m\n\u001b[1;32m    441\u001b[0m                 \u001b[0mmanager\u001b[0m \u001b[0;34m=\u001b[0m \u001b[0mget_option\u001b[0m\u001b[0;34m(\u001b[0m\u001b[0;34m\"mode.data_manager\"\u001b[0m\u001b[0;34m)\u001b[0m\u001b[0;34m\u001b[0m\u001b[0;34m\u001b[0m\u001b[0m\n\u001b[1;32m    442\u001b[0m                 \u001b[0;32mif\u001b[0m \u001b[0mmanager\u001b[0m \u001b[0;34m==\u001b[0m \u001b[0;34m\"block\"\u001b[0m\u001b[0;34m:\u001b[0m\u001b[0;34m\u001b[0m\u001b[0;34m\u001b[0m\u001b[0m\n\u001b[0;32m--> 443\u001b[0;31m                     \u001b[0mdata\u001b[0m \u001b[0;34m=\u001b[0m \u001b[0mSingleBlockManager\u001b[0m\u001b[0;34m.\u001b[0m\u001b[0mfrom_array\u001b[0m\u001b[0;34m(\u001b[0m\u001b[0mdata\u001b[0m\u001b[0;34m,\u001b[0m \u001b[0mindex\u001b[0m\u001b[0;34m)\u001b[0m\u001b[0;34m\u001b[0m\u001b[0;34m\u001b[0m\u001b[0m\n\u001b[0m\u001b[1;32m    444\u001b[0m                 \u001b[0;32melif\u001b[0m \u001b[0mmanager\u001b[0m \u001b[0;34m==\u001b[0m \u001b[0;34m\"array\"\u001b[0m\u001b[0;34m:\u001b[0m\u001b[0;34m\u001b[0m\u001b[0;34m\u001b[0m\u001b[0m\n\u001b[1;32m    445\u001b[0m                     \u001b[0mdata\u001b[0m \u001b[0;34m=\u001b[0m \u001b[0mSingleArrayManager\u001b[0m\u001b[0;34m.\u001b[0m\u001b[0mfrom_array\u001b[0m\u001b[0;34m(\u001b[0m\u001b[0mdata\u001b[0m\u001b[0;34m,\u001b[0m \u001b[0mindex\u001b[0m\u001b[0;34m)\u001b[0m\u001b[0;34m\u001b[0m\u001b[0;34m\u001b[0m\u001b[0m\n",
            "\u001b[0;31mKeyboardInterrupt\u001b[0m: "
          ]
        }
      ]
    },
    {
      "cell_type": "code",
      "metadata": {
        "colab": {
          "base_uri": "https://localhost:8080/",
          "height": 362
        },
        "id": "vZGWJw43BG1Z",
        "outputId": "a375a12e-0e19-407f-94ae-8eb93eb93946"
      },
      "source": [
        "sns.set_theme(style=\"whitegrid\")\n",
        "\n",
        "ax = sns.boxplot(data=data_tweets, x=\"rt_per_followers\", y=\"liability_label\", showfliers=False)"
      ],
      "execution_count": null,
      "outputs": [
        {
          "output_type": "error",
          "ename": "ValueError",
          "evalue": "ignored",
          "traceback": [
            "\u001b[0;31m---------------------------------------------------------------------------\u001b[0m",
            "\u001b[0;31mValueError\u001b[0m                                Traceback (most recent call last)",
            "\u001b[0;32m<ipython-input-15-2a121a0ca9b0>\u001b[0m in \u001b[0;36m<module>\u001b[0;34m()\u001b[0m\n\u001b[1;32m      1\u001b[0m \u001b[0msns\u001b[0m\u001b[0;34m.\u001b[0m\u001b[0mset_theme\u001b[0m\u001b[0;34m(\u001b[0m\u001b[0mstyle\u001b[0m\u001b[0;34m=\u001b[0m\u001b[0;34m\"whitegrid\"\u001b[0m\u001b[0;34m)\u001b[0m\u001b[0;34m\u001b[0m\u001b[0;34m\u001b[0m\u001b[0m\n\u001b[1;32m      2\u001b[0m \u001b[0;34m\u001b[0m\u001b[0m\n\u001b[0;32m----> 3\u001b[0;31m \u001b[0max\u001b[0m \u001b[0;34m=\u001b[0m \u001b[0msns\u001b[0m\u001b[0;34m.\u001b[0m\u001b[0mboxplot\u001b[0m\u001b[0;34m(\u001b[0m\u001b[0mdata\u001b[0m\u001b[0;34m=\u001b[0m\u001b[0mdata_tweets\u001b[0m\u001b[0;34m,\u001b[0m \u001b[0mx\u001b[0m\u001b[0;34m=\u001b[0m\u001b[0;34m\"rt_per_followers\"\u001b[0m\u001b[0;34m,\u001b[0m \u001b[0my\u001b[0m\u001b[0;34m=\u001b[0m\u001b[0;34m\"liability_label\"\u001b[0m\u001b[0;34m,\u001b[0m \u001b[0mshowfliers\u001b[0m\u001b[0;34m=\u001b[0m\u001b[0;32mFalse\u001b[0m\u001b[0;34m)\u001b[0m\u001b[0;34m\u001b[0m\u001b[0;34m\u001b[0m\u001b[0m\n\u001b[0m",
            "\u001b[0;32m/usr/local/lib/python3.7/dist-packages/seaborn/_decorators.py\u001b[0m in \u001b[0;36minner_f\u001b[0;34m(*args, **kwargs)\u001b[0m\n\u001b[1;32m     44\u001b[0m             )\n\u001b[1;32m     45\u001b[0m         \u001b[0mkwargs\u001b[0m\u001b[0;34m.\u001b[0m\u001b[0mupdate\u001b[0m\u001b[0;34m(\u001b[0m\u001b[0;34m{\u001b[0m\u001b[0mk\u001b[0m\u001b[0;34m:\u001b[0m \u001b[0marg\u001b[0m \u001b[0;32mfor\u001b[0m \u001b[0mk\u001b[0m\u001b[0;34m,\u001b[0m \u001b[0marg\u001b[0m \u001b[0;32min\u001b[0m \u001b[0mzip\u001b[0m\u001b[0;34m(\u001b[0m\u001b[0msig\u001b[0m\u001b[0;34m.\u001b[0m\u001b[0mparameters\u001b[0m\u001b[0;34m,\u001b[0m \u001b[0margs\u001b[0m\u001b[0;34m)\u001b[0m\u001b[0;34m}\u001b[0m\u001b[0;34m)\u001b[0m\u001b[0;34m\u001b[0m\u001b[0;34m\u001b[0m\u001b[0m\n\u001b[0;32m---> 46\u001b[0;31m         \u001b[0;32mreturn\u001b[0m \u001b[0mf\u001b[0m\u001b[0;34m(\u001b[0m\u001b[0;34m**\u001b[0m\u001b[0mkwargs\u001b[0m\u001b[0;34m)\u001b[0m\u001b[0;34m\u001b[0m\u001b[0;34m\u001b[0m\u001b[0m\n\u001b[0m\u001b[1;32m     47\u001b[0m     \u001b[0;32mreturn\u001b[0m \u001b[0minner_f\u001b[0m\u001b[0;34m\u001b[0m\u001b[0;34m\u001b[0m\u001b[0m\n\u001b[1;32m     48\u001b[0m \u001b[0;34m\u001b[0m\u001b[0m\n",
            "\u001b[0;32m/usr/local/lib/python3.7/dist-packages/seaborn/categorical.py\u001b[0m in \u001b[0;36mboxplot\u001b[0;34m(x, y, hue, data, order, hue_order, orient, color, palette, saturation, width, dodge, fliersize, linewidth, whis, ax, **kwargs)\u001b[0m\n\u001b[1;32m   2243\u001b[0m     plotter = _BoxPlotter(x, y, hue, data, order, hue_order,\n\u001b[1;32m   2244\u001b[0m                           \u001b[0morient\u001b[0m\u001b[0;34m,\u001b[0m \u001b[0mcolor\u001b[0m\u001b[0;34m,\u001b[0m \u001b[0mpalette\u001b[0m\u001b[0;34m,\u001b[0m \u001b[0msaturation\u001b[0m\u001b[0;34m,\u001b[0m\u001b[0;34m\u001b[0m\u001b[0;34m\u001b[0m\u001b[0m\n\u001b[0;32m-> 2245\u001b[0;31m                           width, dodge, fliersize, linewidth)\n\u001b[0m\u001b[1;32m   2246\u001b[0m \u001b[0;34m\u001b[0m\u001b[0m\n\u001b[1;32m   2247\u001b[0m     \u001b[0;32mif\u001b[0m \u001b[0max\u001b[0m \u001b[0;32mis\u001b[0m \u001b[0;32mNone\u001b[0m\u001b[0;34m:\u001b[0m\u001b[0;34m\u001b[0m\u001b[0;34m\u001b[0m\u001b[0m\n",
            "\u001b[0;32m/usr/local/lib/python3.7/dist-packages/seaborn/categorical.py\u001b[0m in \u001b[0;36m__init__\u001b[0;34m(self, x, y, hue, data, order, hue_order, orient, color, palette, saturation, width, dodge, fliersize, linewidth)\u001b[0m\n\u001b[1;32m    404\u001b[0m                  width, dodge, fliersize, linewidth):\n\u001b[1;32m    405\u001b[0m \u001b[0;34m\u001b[0m\u001b[0m\n\u001b[0;32m--> 406\u001b[0;31m         \u001b[0mself\u001b[0m\u001b[0;34m.\u001b[0m\u001b[0mestablish_variables\u001b[0m\u001b[0;34m(\u001b[0m\u001b[0mx\u001b[0m\u001b[0;34m,\u001b[0m \u001b[0my\u001b[0m\u001b[0;34m,\u001b[0m \u001b[0mhue\u001b[0m\u001b[0;34m,\u001b[0m \u001b[0mdata\u001b[0m\u001b[0;34m,\u001b[0m \u001b[0morient\u001b[0m\u001b[0;34m,\u001b[0m \u001b[0morder\u001b[0m\u001b[0;34m,\u001b[0m \u001b[0mhue_order\u001b[0m\u001b[0;34m)\u001b[0m\u001b[0;34m\u001b[0m\u001b[0;34m\u001b[0m\u001b[0m\n\u001b[0m\u001b[1;32m    407\u001b[0m         \u001b[0mself\u001b[0m\u001b[0;34m.\u001b[0m\u001b[0mestablish_colors\u001b[0m\u001b[0;34m(\u001b[0m\u001b[0mcolor\u001b[0m\u001b[0;34m,\u001b[0m \u001b[0mpalette\u001b[0m\u001b[0;34m,\u001b[0m \u001b[0msaturation\u001b[0m\u001b[0;34m)\u001b[0m\u001b[0;34m\u001b[0m\u001b[0;34m\u001b[0m\u001b[0m\n\u001b[1;32m    408\u001b[0m \u001b[0;34m\u001b[0m\u001b[0m\n",
            "\u001b[0;32m/usr/local/lib/python3.7/dist-packages/seaborn/categorical.py\u001b[0m in \u001b[0;36mestablish_variables\u001b[0;34m(self, x, y, hue, data, orient, order, hue_order, units)\u001b[0m\n\u001b[1;32m    151\u001b[0m                 \u001b[0;32mif\u001b[0m \u001b[0misinstance\u001b[0m\u001b[0;34m(\u001b[0m\u001b[0mvar\u001b[0m\u001b[0;34m,\u001b[0m \u001b[0mstr\u001b[0m\u001b[0;34m)\u001b[0m\u001b[0;34m:\u001b[0m\u001b[0;34m\u001b[0m\u001b[0;34m\u001b[0m\u001b[0m\n\u001b[1;32m    152\u001b[0m                     \u001b[0merr\u001b[0m \u001b[0;34m=\u001b[0m \u001b[0;34m\"Could not interpret input '{}'\"\u001b[0m\u001b[0;34m.\u001b[0m\u001b[0mformat\u001b[0m\u001b[0;34m(\u001b[0m\u001b[0mvar\u001b[0m\u001b[0;34m)\u001b[0m\u001b[0;34m\u001b[0m\u001b[0;34m\u001b[0m\u001b[0m\n\u001b[0;32m--> 153\u001b[0;31m                     \u001b[0;32mraise\u001b[0m \u001b[0mValueError\u001b[0m\u001b[0;34m(\u001b[0m\u001b[0merr\u001b[0m\u001b[0;34m)\u001b[0m\u001b[0;34m\u001b[0m\u001b[0;34m\u001b[0m\u001b[0m\n\u001b[0m\u001b[1;32m    154\u001b[0m \u001b[0;34m\u001b[0m\u001b[0m\n\u001b[1;32m    155\u001b[0m             \u001b[0;31m# Figure out the plotting orientation\u001b[0m\u001b[0;34m\u001b[0m\u001b[0;34m\u001b[0m\u001b[0;34m\u001b[0m\u001b[0m\n",
            "\u001b[0;31mValueError\u001b[0m: Could not interpret input 'rt_per_followers'"
          ]
        }
      ]
    },
    {
      "cell_type": "code",
      "metadata": {
        "colab": {
          "base_uri": "https://localhost:8080/",
          "height": 285
        },
        "id": "lnsPIp0EGiCf",
        "outputId": "8e7d227f-a42b-4bf9-cd50-5da301807c19"
      },
      "source": [
        "sns.set_theme(style=\"whitegrid\")\n",
        "\n",
        "ax = sns.boxplot(data=data_tweets, x=\"fav_per_followers\", y=\"liability_label\", showfliers=False)"
      ],
      "execution_count": null,
      "outputs": [
        {
          "output_type": "display_data",
          "data": {
            "image/png": "[encoded data removed]",
            "text/plain": [
              "<Figure size 432x288 with 1 Axes>"
            ]
          },
          "metadata": {}
        }
      ]
    },
    {
      "cell_type": "markdown",
      "metadata": {
        "id": "icu-3wdjG1Ot"
      },
      "source": [
        "Utiliser les boxplot pour \"catégoriser\" et essayer de trouver si on peut déjà séparer certains sites"
      ]
    },
    {
      "cell_type": "markdown",
      "metadata": {
        "id": "DgmgFRBDJZoV"
      },
      "source": [
        "On va retirer les sites parodiques, peut-être regroupper les non fiable et les douteux "
      ]
    },
    {
      "cell_type": "markdown",
      "metadata": {
        "id": "gwjI1LzuJcFJ"
      },
      "source": [
        "Avec scatterText, récupère 3000 tweets aléatoirement des 2 catégories restantes et, comme schéma, obtenir un graphique HTML qui trouve les mots propre à chaque catégorie."
      ]
    },
    {
      "cell_type": "markdown",
      "metadata": {
        "id": "k_nvGyvTLeDI"
      },
      "source": [
        "Besoin de nettoyer les tweets + retirer les liens + les hashtags + les @s\n",
        "\n",
        "tokeniser/lemmatiser/autres"
      ]
    },
    {
      "cell_type": "markdown",
      "metadata": {
        "id": "Jq5Rzhl4lZBV"
      },
      "source": [
        "#Début d'un truc pour scattertext"
      ]
    },
    {
      "cell_type": "code",
      "metadata": {
        "id": "pxpAB5CVNhj9"
      },
      "source": [
        "import spacy\n",
        "from spacy.tokenizer import Tokenizer\n",
        "from spacy.lang.fr import French"
      ],
      "execution_count": null,
      "outputs": []
    },
    {
      "cell_type": "code",
      "metadata": {
        "colab": {
          "base_uri": "https://localhost:8080/"
        },
        "id": "wdmvebnSNfAP",
        "outputId": "e6122f47-1dfd-465d-8921-95cda4d7cb5d"
      },
      "source": [
        "spacy.cli.download('fr_core_news_md')"
      ],
      "execution_count": null,
      "outputs": [
        {
          "output_type": "stream",
          "name": "stdout",
          "text": [
            "\u001b[38;5;2m✔ Download and installation successful\u001b[0m\n",
            "You can now load the model via spacy.load('fr_core_news_md')\n"
          ]
        }
      ]
    },
    {
      "cell_type": "code",
      "metadata": {
        "id": "7UouxuoaLLv5"
      },
      "source": [
        "# import pytextrank, spacy\n",
        "# import scattertext as st\n",
        "# import numpy as np\n",
        "\n",
        "# nlp = spacy.load(\"fr_core_news_md\")\n",
        "# nlp.add_pipe(\"textrank\", last=True)\n",
        "\n",
        "# convention_df = st.SampleCorpora.ConventionData2012.get_data().assign(\n",
        "#     parse=lambda df: df.text.apply(nlp),\n",
        "#     party=lambda df: df.party.apply(\n",
        "#         {'democrat': 'Democratic', \n",
        "#          'republican': 'Republican'}.get\n",
        "#     )\n",
        "# )\n",
        "\n",
        "# corpus = st.CorpusFromParsedDocuments(\n",
        "#     convention_df,\n",
        "#     category_col='party',\n",
        "#     parsed_col='parse',\n",
        "#     feats_from_spacy_doc=st.PyTextRankPhrases()\n",
        "# ).build().compact(st.AssociationCompactor(2000, use_non_text_features=True))"
      ],
      "execution_count": null,
      "outputs": []
    },
    {
      "cell_type": "markdown",
      "metadata": {
        "id": "gfw8u31qlgEl"
      },
      "source": [
        "Fonction de Manon, description dedans"
      ]
    },
    {
      "cell_type": "code",
      "metadata": {
        "id": "VE2LZkyORapN"
      },
      "source": [
        " def print_famous_tweets(df, liability, nb_favorites) :\n",
        "\n",
        "    ''' Cette fonction permet de sélectionner les tweets qui ont eu le plus de favoris\n",
        "    pour un user_id donné, et de lire le tweet avec les indicateurs des autres variables de la\n",
        "    base de données  \n",
        "    '''\n",
        "\n",
        "    df_sub = df.loc[(df.liability==liability) & (df.favorite_count > nb_favorites),:]\n",
        "    for irow in range(df_sub.shape[0]):\n",
        "        df_row = df_sub.iloc[irow,:]\n",
        "   \n",
        "        print(df_row[\"created_at\"])\n",
        "        print(\"favorite_count={:6} retweet_count={:6}\".format(df_row[\"favorite_count\"],df_row[\"retweet_count\"]))\n",
        "        print(df_row[\"tweet\"])\n",
        "        print(\"\\n\")\n"
      ],
      "execution_count": null,
      "outputs": []
    },
    {
      "cell_type": "code",
      "metadata": {
        "colab": {
          "base_uri": "https://localhost:8080/",
          "height": 171
        },
        "id": "gk9R_AWGRbq9",
        "outputId": "4d08e1db-6bd2-4356-83c6-5327cec346e3"
      },
      "source": [
        "print_famous_tweets(data_tweets, 2, 10000)"
      ],
      "execution_count": null,
      "outputs": [
        {
          "output_type": "error",
          "ename": "NameError",
          "evalue": "ignored",
          "traceback": [
            "\u001b[0;31m---------------------------------------------------------------------------\u001b[0m",
            "\u001b[0;31mNameError\u001b[0m                                 Traceback (most recent call last)",
            "\u001b[0;32m<ipython-input-1-48ec841cd227>\u001b[0m in \u001b[0;36m<module>\u001b[0;34m()\u001b[0m\n\u001b[0;32m----> 1\u001b[0;31m \u001b[0mprint_famous_tweets\u001b[0m\u001b[0;34m(\u001b[0m\u001b[0mdata_tweets\u001b[0m\u001b[0;34m,\u001b[0m \u001b[0;36m2\u001b[0m\u001b[0;34m,\u001b[0m \u001b[0;36m1000\u001b[0m\u001b[0;34m)\u001b[0m\u001b[0;34m\u001b[0m\u001b[0;34m\u001b[0m\u001b[0m\n\u001b[0m",
            "\u001b[0;31mNameError\u001b[0m: name 'print_famous_tweets' is not defined"
          ]
        }
      ]
    },
    {
      "cell_type": "markdown",
      "metadata": {
        "id": "2vUPDOyQluZr"
      },
      "source": [
        "Vérifier si longueur des tweets permet de catégoriser selon niveau de fiabilité (exemple : les sites fiables font toujours des tweets de plus de 3 \"mots\")"
      ]
    },
    {
      "cell_type": "code",
      "metadata": {
        "colab": {
          "base_uri": "https://localhost:8080/",
          "height": 285
        },
        "id": "yeHWBFe8S4pS",
        "outputId": "93019861-d2da-4503-cb23-7fec35c762e4"
      },
      "source": [
        "# Calcul d'une variable contenant le nombre de mots de chaque tweets\n",
        "data_tweets[\"lenght_tweet\"] = data_tweets[\"tweet\"].apply(lambda tweet : len(tweet.split()))\n",
        "\n",
        "# Calcul de la distribution de la variable pour chaque label\n",
        "# data_tweets.groupby([\"liability_label\"]).lenght_tweet.describe()\n",
        "ax = sns.boxplot(data=data_tweets, x=\"lenght_tweet\", y=\"liability_label\", showfliers=False)"
      ],
      "execution_count": null,
      "outputs": [
        {
          "output_type": "display_data",
          "data": {
            "image/png": "[encoded data removed]",
            "text/plain": [
              "<Figure size 432x288 with 1 Axes>"
            ]
          },
          "metadata": {}
        }
      ]
    },
    {
      "cell_type": "markdown",
      "metadata": {
        "id": "wDFFvwSUmIr8"
      },
      "source": [
        "Test de split (sans paramètre, par défault c'est sur l'espace !)"
      ]
    },
    {
      "cell_type": "code",
      "metadata": {
        "colab": {
          "base_uri": "https://localhost:8080/"
        },
        "id": "EenKOLugUIVN",
        "outputId": "dd1bae20-e34c-466d-a32f-1c50a1822a05"
      },
      "source": [
        "\"K. ✍🏻 il.bara | IG https://t.co/qbuaNAPOeD\".split()"
      ],
      "execution_count": null,
      "outputs": [
        {
          "output_type": "execute_result",
          "data": {
            "text/plain": [
              "['K.', '✍🏻', 'il.bara', '|', 'IG', 'https://t.co/qbuaNAPOeD']"
            ]
          },
          "metadata": {},
          "execution_count": 118
        }
      ]
    },
    {
      "cell_type": "markdown",
      "metadata": {
        "id": "KEOyZIggmFln"
      },
      "source": [
        "Vérifier les tweets de 1 \"mot\""
      ]
    },
    {
      "cell_type": "code",
      "metadata": {
        "colab": {
          "base_uri": "https://localhost:8080/"
        },
        "id": "yGCDs-tYUfQq",
        "outputId": "f3f6f869-6b44-4e44-a801-7610e2514360"
      },
      "source": [
        "data_tweets.loc[data_tweets['lenght_tweet'] == 1, 'tweet']"
      ],
      "execution_count": null,
      "outputs": [
        {
          "output_type": "execute_result",
          "data": {
            "text/plain": [
              "231       https://t.co/PKeup2vcSq\n",
              "440       https://t.co/xjlrZptbwS\n",
              "536                      *Touboul\n",
              "557       https://t.co/vd57IwKBoC\n",
              "570       https://t.co/0KyetG1k8u\n",
              "                   ...           \n",
              "924809    https://t.co/vrgkb6EHbc\n",
              "924810    https://t.co/EAIIixZGiw\n",
              "924811    https://t.co/gw5yUzKsN9\n",
              "925733    https://t.co/39y0pm1OlZ\n",
              "926161    https://t.co/VIZXHFZYaV\n",
              "Name: tweet, Length: 5412, dtype: object"
            ]
          },
          "metadata": {},
          "execution_count": 119
        }
      ]
    },
    {
      "cell_type": "markdown",
      "metadata": {
        "id": "tWhHcdJxmS4I"
      },
      "source": [
        "Test pour re.sub"
      ]
    },
    {
      "cell_type": "code",
      "metadata": {
        "colab": {
          "base_uri": "https://localhost:8080/"
        },
        "id": "IgrCSO1eZZ8H",
        "outputId": "d6abebaf-adf6-41d1-a087-ed229eca9a3e"
      },
      "source": [
        "import re\n",
        "\n",
        "patterns = ['@[a-zA-Z\\u00C0-\\u00FF0-9]+', '#[a-zA-Z\\u00C0-\\u00FF0-9]+', '|', 'https://t.co/[a-zA-Z\\u00C0-\\u00FF0-9]+']\n",
        "\n",
        "text = \"BTS: *wins artist of the year* Jin and Jungkook: #BTS #BTSxAMAs https://t.co/0UR6X36LFv\"\n",
        "\n",
        "for pattern in patterns:\n",
        "  text = re.sub(pattern,'', text)\n",
        "  print(text)\n",
        "\n",
        "# data_tweets['tweet'] = [re.sub(r'','', str(x)) for x in data_df['transcript']]\n",
        "# text"
      ],
      "execution_count": null,
      "outputs": [
        {
          "output_type": "stream",
          "name": "stdout",
          "text": [
            "BTS: *wins artist of the year* Jin and Jungkook: #BTS #BTSxAMAs https://t.co/0UR6X36LFv\n",
            "BTS: *wins artist of the year* Jin and Jungkook:   https://t.co/0UR6X36LFv\n",
            "BTS: *wins artist of the year* Jin and Jungkook:   https://t.co/0UR6X36LFv\n",
            "BTS: *wins artist of the year* Jin and Jungkook:   \n"
          ]
        }
      ]
    },
    {
      "cell_type": "markdown",
      "metadata": {
        "id": "0WMlvoPfmW25"
      },
      "source": [
        "Fonctions pour retirer/remplacer du texte dans les tweets afin de les rendre plus facile à \"analyser\""
      ]
    },
    {
      "cell_type": "markdown",
      "metadata": {
        "id": "WO5gecXIjwdu"
      },
      "source": [
        "remplacement par 'désindentification_'+nom du truc"
      ]
    },
    {
      "cell_type": "code",
      "metadata": {
        "id": "u11_GaDhcMHd"
      },
      "source": [
        "import re\n",
        "import string\n",
        "\n",
        "def remove_spaces(tweet):\n",
        "  tweet = re.sub('\\s{2,}', ' ', tweet)\n",
        "  return tweet\n",
        "\n",
        "def replace_stuff(tweet):\n",
        "  tweet = re.sub('\\?', 'point_interrogation', tweet)\n",
        "  tweet = re.sub('https://t.co/[a-zA-Z\\u00C0-\\u00FF0-9]+', 'lien_twitter', tweet)\n",
        "  return tweet\n",
        "\n",
        "def remove_punctuation(tweet):\n",
        "  result = \"\".join([ch for ch in tweet if ch not in string.punctuation.replace('_','')])\n",
        "  return result\n",
        "\n",
        "def remove_pattern(tweet):\n",
        "  patterns = ['\\n', '|', '@[a-zA-Z\\u00C0-\\u00FF0-9]+', '#[a-zA-Z\\u00C0-\\u00FF0-9]+']\n",
        "  for pattern in patterns:\n",
        "    tweet = re.sub(pattern, '', tweet)\n",
        "  return tweet\n",
        "\n",
        "def simplification(tweet):\n",
        "  tweet = replace_stuff(tweet)\n",
        "  tweet = remove_pattern(tweet)\n",
        "  tweet = remove_punctuation(tweet)\n",
        "  tweet = remove_spaces(tweet)\n",
        "  return tweet"
      ],
      "execution_count": null,
      "outputs": []
    },
    {
      "cell_type": "code",
      "metadata": {
        "id": "Tyc1FdCrcyfD"
      },
      "source": [
        "data_tweets[\"tweet_nettoyé\"] = data_tweets[\"tweet\"]\n",
        "\n",
        "# data_tweets[\"tweet_nettoyé\"] = data_tweets[\"tweet\"].apply(lambda tweet : replace_stuff(tweet)).apply(lambda tweet : remove_pattern(tweet)).apply(lambda tweet : remove_punctuation(tweet)).apply(lambda tweet : remove_spaces(tweet))\n",
        "data_tweets[\"tweet_nettoyé\"] = data_tweets[\"tweet\"].apply(lambda tweet : simplification(tweet))"
      ],
      "execution_count": null,
      "outputs": []
    },
    {
      "cell_type": "code",
      "metadata": {
        "colab": {
          "base_uri": "https://localhost:8080/"
        },
        "id": "aIzfB-_uioNk",
        "outputId": "c8e286c7-a869-4617-d9d5-0e3ecc2d9ce0"
      },
      "source": [
        "# pd.set_option(\"max_colwidth\", 5000)\n",
        "# data_tweets[\"tweet\"].head()\n",
        "\n",
        "for tweet in data_tweets[\"tweet_nettoyé\"].head(15):\n",
        "  print(tweet)"
      ],
      "execution_count": null,
      "outputs": [
        {
          "output_type": "stream",
          "name": "stdout",
          "text": [
            "🚨Le professeur Raoult écope d’un blâme de l’Ordre des médecins Article à paraître sur lien_twitter\n",
            "RT Recours déposé \n",
            "🎙BEST OF Pr Michel Drancourt IHU épidémies dhier et daujourdhuiComment la paléomicrobiologie permet dac… lien_twitter\n",
            "📚 Jonathan Curiel directeur général adjoint des programmes des chaînes M6 W9 et 6ter a publié en octobre 2021 so… lien_twitter\n",
            "🖍 Le dessin du jourgt à retrouver sur lien_twitter lien_twitter\n",
            "🐖L214 a annoncé avoir déposé une plainte pour mauvais traitements envers les animaux et tromperie des consommateur… lien_twitter\n",
            "Au soutien de ce dossier mais aussi audelà il porte une plainte contre X pour RéInfoLiberté et qui… lien_twitter\n",
            "🎥 Me Heringuez a défendu un couple de restaurateurs qui avait été en garde à vue en février dernier pour avoir reçu… lien_twitter\n",
            "L’entretien complet lien_twitter\n",
            "BEST OF 🎙️ En Guadeloupe Me Ellen Bessis et Soumïâa Sayah expliquent les manipulations de la direction des hôpit… lien_twitter\n",
            "🖍️ Le dessin du jour par lien_twitter\n",
            "🛂 La a demandé au gouvernement des preuves defficacité du Jusquici ce dernier na su don… lien_twitter\n",
            "🚖Des taxis volants à Pontoise point_interrogation Cette inauguration donne le coup denvoi des premières expérimentations en con… lien_twitter\n",
            "📣Devant le Conseil scientifique indépendant Christian Perronne est formel Si cétaient des vrais vaccins à viru… lien_twitter\n",
            "🔌La Commission de régulation de lénergie CRE recommande qu’à compter de 2025 les foyers qui ne seraient pas enc… lien_twitter\n"
          ]
        }
      ]
    },
    {
      "cell_type": "markdown",
      "metadata": {
        "id": "le1Ck8OvotIW"
      },
      "source": [
        "Petit test si je peux éviter de retirer certaines ponctuations"
      ]
    },
    {
      "cell_type": "code",
      "metadata": {
        "colab": {
          "base_uri": "https://localhost:8080/",
          "height": 36
        },
        "id": "9QzTBPshi4XY",
        "outputId": "9b601bdd-0027-4f12-ef12-82828452d9ee"
      },
      "source": [
        "string.punctuation.replace('_','')"
      ],
      "execution_count": null,
      "outputs": [
        {
          "output_type": "execute_result",
          "data": {
            "application/vnd.google.colaboratory.intrinsic+json": {
              "type": "string"
            },
            "text/plain": [
              "'!\"#$%&\\'()*+,-./:;<=>?@[\\\\]^`{|}~'"
            ]
          },
          "metadata": {},
          "execution_count": 135
        }
      ]
    },
    {
      "cell_type": "markdown",
      "metadata": {
        "id": "WFWCAyIAozHq"
      },
      "source": [
        "Il est possible que ce ne soit pas Google Colab/Python/N'importe quel entité qui tronqué les tweets trop long mais en réalité tweepy qui nous a envoyé le tweet tronqué, ou quelquechose comme ça ?"
      ]
    }
  ]
}