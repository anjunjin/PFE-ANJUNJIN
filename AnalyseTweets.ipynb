{
  "nbformat": 4,
  "nbformat_minor": 0,
  "metadata": {
    "colab": {
      "name": "AnalyseTweets.ipynb",
      "provenance": [],
      "collapsed_sections": [],
      "authorship_tag": "ABX9TyPBWTh5SxzwUPxHg3b2wF70",
      "include_colab_link": true
    },
    "kernelspec": {
      "name": "python3",
      "display_name": "Python 3"
    },
    "language_info": {
      "name": "python"
    }
  },
  "cells": [
    {
      "cell_type": "markdown",
      "metadata": {
        "id": "view-in-github",
        "colab_type": "text"
      },
      "source": [
        "<a href=\"https://colab.research.google.com/github/anjunjin/PFE-ING3-IA/blob/master/AnalyseTweets.ipynb\" target=\"_parent\"><img src=\"https://colab.research.google.com/assets/colab-badge.svg\" alt=\"Open In Colab\"/></a>"
      ]
    },
    {
      "cell_type": "markdown",
      "metadata": {
        "id": "MM7Nxkv0RUri"
      },
      "source": [
        "Importation des libraries nécessaires"
      ]
    },
    {
      "cell_type": "code",
      "metadata": {
        "colab": {
          "base_uri": "https://localhost:8080/"
        },
        "id": "9ffTTSD29lK8",
        "outputId": "b429cd70-93d1-4644-877a-0ac0eda517a9"
      },
      "source": [
        "!pip install --upgrade pandas"
      ],
      "execution_count": 91,
      "outputs": [
        {
          "output_type": "stream",
          "name": "stdout",
          "text": [
            "Requirement already satisfied: pandas in /usr/local/lib/python3.7/dist-packages (1.3.4)\n",
            "Requirement already satisfied: python-dateutil>=2.7.3 in /usr/local/lib/python3.7/dist-packages (from pandas) (2.8.2)\n",
            "Requirement already satisfied: pytz>=2017.3 in /usr/local/lib/python3.7/dist-packages (from pandas) (2018.9)\n",
            "Requirement already satisfied: numpy>=1.17.3 in /usr/local/lib/python3.7/dist-packages (from pandas) (1.19.5)\n",
            "Requirement already satisfied: six>=1.5 in /usr/local/lib/python3.7/dist-packages (from python-dateutil>=2.7.3->pandas) (1.15.0)\n"
          ]
        }
      ]
    },
    {
      "cell_type": "code",
      "metadata": {
        "id": "fkdW07bZFpQa"
      },
      "source": [
        "import pandas as pd\n",
        "# import pickle"
      ],
      "execution_count": 92,
      "outputs": []
    },
    {
      "cell_type": "markdown",
      "metadata": {
        "id": "uqursho_RXXh"
      },
      "source": [
        "Liaison au Google Drive"
      ]
    },
    {
      "cell_type": "code",
      "metadata": {
        "colab": {
          "base_uri": "https://localhost:8080/"
        },
        "id": "ITQrc3nUGuCj",
        "outputId": "630e8a7f-72b2-496e-983b-a9aafd66f7ff"
      },
      "source": [
        "from google.colab import drive\n",
        "drive.mount('/content/drive')\n",
        "DATA_PATH = \"/content/drive/My Drive/PFE/\""
      ],
      "execution_count": 93,
      "outputs": [
        {
          "output_type": "stream",
          "name": "stdout",
          "text": [
            "Drive already mounted at /content/drive; to attempt to forcibly remount, call drive.mount(\"/content/drive\", force_remount=True).\n"
          ]
        }
      ]
    },
    {
      "cell_type": "markdown",
      "metadata": {
        "id": "MmZ5i3rsRZrk"
      },
      "source": [
        "Récupération des dataframes contenant l'ensemble des tweets"
      ]
    },
    {
      "cell_type": "code",
      "metadata": {
        "id": "cvbG3LX0GyMj"
      },
      "source": [
        "# tableauTweets1 = pd.read_pickle(DATA_PATH+\"quartier1.pkl\")\n",
        "# tableauTweets2 = pd.read_pickle(DATA_PATH+\"quartier2.pkl\")\n",
        "# tableauTweets3 = pd.read_pickle(DATA_PATH+\"quartier3.pkl\")\n",
        "# tableauTweets4 = pd.read_pickle(DATA_PATH+\"quartier4.pkl\")"
      ],
      "execution_count": 94,
      "outputs": []
    },
    {
      "cell_type": "markdown",
      "metadata": {
        "id": "D4917-AgRiqj"
      },
      "source": [
        "Sauvegarde des données dans un seul tableau"
      ]
    },
    {
      "cell_type": "code",
      "metadata": {
        "id": "joHdNcGqI9Kb"
      },
      "source": [
        "# tableauTweets = pd.concat([tableauTweets1,tableauTweets2,tableauTweets3,tableauTweets4])"
      ],
      "execution_count": 95,
      "outputs": []
    },
    {
      "cell_type": "markdown",
      "metadata": {
        "id": "KanbybinRmIo"
      },
      "source": [
        "Réinitialise les indexs du tableau"
      ]
    },
    {
      "cell_type": "code",
      "metadata": {
        "id": "R5N54Y1sKSaO"
      },
      "source": [
        "# tableauTweets = tableauTweets.reset_index(drop=True)\n",
        "# tableauTweets"
      ],
      "execution_count": 96,
      "outputs": []
    },
    {
      "cell_type": "markdown",
      "metadata": {
        "id": "AXn52hFWR68w"
      },
      "source": [
        "Sauvegarde du tableau qui contient à lui seul l'ensemble des tweets"
      ]
    },
    {
      "cell_type": "code",
      "metadata": {
        "id": "xU7bA95aJXIo"
      },
      "source": [
        "# tableauTweets.to_pickle(DATA_PATH+\"tableauTweets.pkl\")"
      ],
      "execution_count": 97,
      "outputs": []
    },
    {
      "cell_type": "markdown",
      "metadata": {
        "id": "TVMItO2XPOiu"
      },
      "source": [
        " La base de données compte 926.188 tweets et les variables suivantes :\n",
        "\n",
        "*    user_id : l'identifiant twitter du compte\n",
        "*     user_screen_name : le nom twitter du compte\n",
        "*    id_tweet : l'identifiant twitter du tweet\n",
        "*    created_at : la date à laquelle a été publié le tweet\n",
        "*     tweet : le tweet\n",
        "*    retweet_count : le nombre de fois à laquelle le tweet a été retweeté\n",
        "*     favorite_count : le nombre de fois à laquelle le tweet a été mis en favori\n",
        "*    liability : la fiabilité du compte twitter (donné par les données decodex)\n",
        "*    liability_label : le label de la fiabilité du compte twitter\n",
        "*    description : la description du compte twitter (donné par les données decodex)\n",
        "*    count_followers : le nombre de followers total du compte twitter"
      ]
    },
    {
      "cell_type": "markdown",
      "metadata": {
        "id": "-qJpt9XcPdFF"
      },
      "source": [
        "Les données pour analyser : liability, retweet_count, favorite_count, count_followers -> pourcentage de \"partage\" selon nb followers -> tableau de pourcentage selon fiabilité\n",
        "\n",
        "Réutiliser tweets pour trouver patterns pour analyser nouveaux tweets (scattertext ?)"
      ]
    },
    {
      "cell_type": "markdown",
      "metadata": {
        "id": "iJ9YVEW-O1ZS"
      },
      "source": [
        "Code pour obtenir les données du txt."
      ]
    },
    {
      "cell_type": "code",
      "metadata": {
        "id": "khFNjg7kO5FA",
        "colab": {
          "base_uri": "https://localhost:8080/",
          "height": 1000
        },
        "outputId": "9e65af68-0f24-41d6-c184-e339a0a952e0"
      },
      "source": [
        "import pickle\n",
        "\n",
        "with open(DATA_PATH+\"data_tweets.txt\", \"rb\") as file :  \n",
        "    data_tweets = pickle.load(file)\n",
        "\n",
        "data_tweets.head(5)"
      ],
      "execution_count": 98,
      "outputs": [
        {
          "output_type": "execute_result",
          "data": {
            "text/html": [
              "<div>\n",
              "<style scoped>\n",
              "    .dataframe tbody tr th:only-of-type {\n",
              "        vertical-align: middle;\n",
              "    }\n",
              "\n",
              "    .dataframe tbody tr th {\n",
              "        vertical-align: top;\n",
              "    }\n",
              "\n",
              "    .dataframe thead th {\n",
              "        text-align: right;\n",
              "    }\n",
              "</style>\n",
              "<table border=\"1\" class=\"dataframe\">\n",
              "  <thead>\n",
              "    <tr style=\"text-align: right;\">\n",
              "      <th></th>\n",
              "      <th>user_id</th>\n",
              "      <th>user_screen_name</th>\n",
              "      <th>id_tweet</th>\n",
              "      <th>created_at</th>\n",
              "      <th>tweet</th>\n",
              "      <th>retweet_count</th>\n",
              "      <th>favorite_count</th>\n",
              "      <th>liability</th>\n",
              "      <th>description</th>\n",
              "      <th>liability_label</th>\n",
              "      <th>count_followers</th>\n",
              "    </tr>\n",
              "  </thead>\n",
              "  <tbody>\n",
              "    <tr>\n",
              "      <th>0</th>\n",
              "      <td>78957336</td>\n",
              "      <td>france_soir</td>\n",
              "      <td>1466789582213681162</td>\n",
              "      <td>2021-12-03 15:21:02+00:00</td>\n",
              "      <td>🚨Le professeur Raoult écope d’un blâme de l’Ordre des médecins. Article à paraître sur https://t.co/ZHHIMMy5I6</td>\n",
              "      <td>50</td>\n",
              "      <td>101</td>\n",
              "      <td>2</td>\n",
              "      <td>France-Soir était un journal fondé par Pierre Lazareff en 1944. Le site Internet Francesoir.fr a gardé son nom après l'arrêt de sa version imprimée en 2011, mais n'a plus grand rapport avec ses origines. Les contours de son équipe sont d'ailleurs flous : les articles sont simplement signés « FranceSoir » et la rubrique « Mentions légales » n’évoque que son directeur de publication, Xavier Azalbert. Le site s'est distingué pendant la pandémie due au coronavirus SARS-CoV-2 par un parti pris à sens unique, ou presque : la remise en cause des différentes mesures prises contre l’épidémie en France et du bien-fondé de la lutte contre le coronavirus, avec une argumentation parfois fantaisiste.</td>\n",
              "      <td>site qui diffuse régulièrement de la fausse information</td>\n",
              "      <td>98322</td>\n",
              "    </tr>\n",
              "    <tr>\n",
              "      <th>1</th>\n",
              "      <td>78957336</td>\n",
              "      <td>france_soir</td>\n",
              "      <td>1466768535921831946</td>\n",
              "      <td>2021-12-03 13:57:24+00:00</td>\n",
              "      <td>RT @DIVIZIO1: Recours déposé !</td>\n",
              "      <td>643</td>\n",
              "      <td>0</td>\n",
              "      <td>2</td>\n",
              "      <td>France-Soir était un journal fondé par Pierre Lazareff en 1944. Le site Internet Francesoir.fr a gardé son nom après l'arrêt de sa version imprimée en 2011, mais n'a plus grand rapport avec ses origines. Les contours de son équipe sont d'ailleurs flous : les articles sont simplement signés « FranceSoir » et la rubrique « Mentions légales » n’évoque que son directeur de publication, Xavier Azalbert. Le site s'est distingué pendant la pandémie due au coronavirus SARS-CoV-2 par un parti pris à sens unique, ou presque : la remise en cause des différentes mesures prises contre l’épidémie en France et du bien-fondé de la lutte contre le coronavirus, avec une argumentation parfois fantaisiste.</td>\n",
              "      <td>site qui diffuse régulièrement de la fausse information</td>\n",
              "      <td>98322</td>\n",
              "    </tr>\n",
              "    <tr>\n",
              "      <th>2</th>\n",
              "      <td>78957336</td>\n",
              "      <td>france_soir</td>\n",
              "      <td>1466757902773932035</td>\n",
              "      <td>2021-12-03 13:15:09+00:00</td>\n",
              "      <td>🎙BEST OF - Pr Michel Drancourt : IHU, épidémies d'hier et d'aujourd'hui\\nComment la \"paléomicrobiologie\" permet d'ac… https://t.co/6360Sgv9qJ</td>\n",
              "      <td>27</td>\n",
              "      <td>59</td>\n",
              "      <td>2</td>\n",
              "      <td>France-Soir était un journal fondé par Pierre Lazareff en 1944. Le site Internet Francesoir.fr a gardé son nom après l'arrêt de sa version imprimée en 2011, mais n'a plus grand rapport avec ses origines. Les contours de son équipe sont d'ailleurs flous : les articles sont simplement signés « FranceSoir » et la rubrique « Mentions légales » n’évoque que son directeur de publication, Xavier Azalbert. Le site s'est distingué pendant la pandémie due au coronavirus SARS-CoV-2 par un parti pris à sens unique, ou presque : la remise en cause des différentes mesures prises contre l’épidémie en France et du bien-fondé de la lutte contre le coronavirus, avec une argumentation parfois fantaisiste.</td>\n",
              "      <td>site qui diffuse régulièrement de la fausse information</td>\n",
              "      <td>98322</td>\n",
              "    </tr>\n",
              "    <tr>\n",
              "      <th>3</th>\n",
              "      <td>78957336</td>\n",
              "      <td>france_soir</td>\n",
              "      <td>1466739848509890566</td>\n",
              "      <td>2021-12-03 12:03:25+00:00</td>\n",
              "      <td>📚 Jonathan Curiel, directeur général adjoint des programmes des chaînes M6, W9 et 6ter, a publié en octobre 2021 so… https://t.co/wrnClfvtFW</td>\n",
              "      <td>14</td>\n",
              "      <td>37</td>\n",
              "      <td>2</td>\n",
              "      <td>France-Soir était un journal fondé par Pierre Lazareff en 1944. Le site Internet Francesoir.fr a gardé son nom après l'arrêt de sa version imprimée en 2011, mais n'a plus grand rapport avec ses origines. Les contours de son équipe sont d'ailleurs flous : les articles sont simplement signés « FranceSoir » et la rubrique « Mentions légales » n’évoque que son directeur de publication, Xavier Azalbert. Le site s'est distingué pendant la pandémie due au coronavirus SARS-CoV-2 par un parti pris à sens unique, ou presque : la remise en cause des différentes mesures prises contre l’épidémie en France et du bien-fondé de la lutte contre le coronavirus, avec une argumentation parfois fantaisiste.</td>\n",
              "      <td>site qui diffuse régulièrement de la fausse information</td>\n",
              "      <td>98322</td>\n",
              "    </tr>\n",
              "    <tr>\n",
              "      <th>4</th>\n",
              "      <td>78957336</td>\n",
              "      <td>france_soir</td>\n",
              "      <td>1466731706912751619</td>\n",
              "      <td>2021-12-03 11:31:04+00:00</td>\n",
              "      <td>🖍 Le dessin du jour\\n&amp;gt; à retrouver sur https://t.co/08c1W3ouuM https://t.co/L3AcXkkb7d</td>\n",
              "      <td>39</td>\n",
              "      <td>79</td>\n",
              "      <td>2</td>\n",
              "      <td>France-Soir était un journal fondé par Pierre Lazareff en 1944. Le site Internet Francesoir.fr a gardé son nom après l'arrêt de sa version imprimée en 2011, mais n'a plus grand rapport avec ses origines. Les contours de son équipe sont d'ailleurs flous : les articles sont simplement signés « FranceSoir » et la rubrique « Mentions légales » n’évoque que son directeur de publication, Xavier Azalbert. Le site s'est distingué pendant la pandémie due au coronavirus SARS-CoV-2 par un parti pris à sens unique, ou presque : la remise en cause des différentes mesures prises contre l’épidémie en France et du bien-fondé de la lutte contre le coronavirus, avec une argumentation parfois fantaisiste.</td>\n",
              "      <td>site qui diffuse régulièrement de la fausse information</td>\n",
              "      <td>98322</td>\n",
              "    </tr>\n",
              "  </tbody>\n",
              "</table>\n",
              "</div>"
            ],
            "text/plain": [
              "    user_id  ... count_followers\n",
              "0  78957336  ...           98322\n",
              "1  78957336  ...           98322\n",
              "2  78957336  ...           98322\n",
              "3  78957336  ...           98322\n",
              "4  78957336  ...           98322\n",
              "\n",
              "[5 rows x 11 columns]"
            ]
          },
          "metadata": {},
          "execution_count": 98
        }
      ]
    },
    {
      "cell_type": "code",
      "metadata": {
        "colab": {
          "base_uri": "https://localhost:8080/"
        },
        "id": "phJS9cxV79mh",
        "outputId": "70aa1bb6-f984-437b-f237-5444d00162b2"
      },
      "source": [
        "data_tweets.shape"
      ],
      "execution_count": 99,
      "outputs": [
        {
          "output_type": "execute_result",
          "data": {
            "text/plain": [
              "(926188, 11)"
            ]
          },
          "metadata": {},
          "execution_count": 99
        }
      ]
    },
    {
      "cell_type": "markdown",
      "metadata": {
        "id": "LbnjZ_62kejR"
      },
      "source": [
        "Regroupe par fiabilité pour compter nb user selon la fiabilité"
      ]
    },
    {
      "cell_type": "code",
      "metadata": {
        "colab": {
          "base_uri": "https://localhost:8080/"
        },
        "id": "x9ISxsRn7_Yx",
        "outputId": "628e0b39-21be-4e2a-f220-e7e34f06b8d2"
      },
      "source": [
        "data_tweets.groupby(\"liability_label\").user_screen_name.nunique()"
      ],
      "execution_count": 100,
      "outputs": [
        {
          "output_type": "execute_result",
          "data": {
            "text/plain": [
              "liability_label\n",
              "site parodique                                              31\n",
              "site qui diffuse régulièrement de la fausse information     52\n",
              "site réputé fiable                                         201\n",
              "site à la fiabilité douteuse                                39\n",
              "Name: user_screen_name, dtype: int64"
            ]
          },
          "metadata": {},
          "execution_count": 100
        }
      ]
    },
    {
      "cell_type": "code",
      "metadata": {
        "colab": {
          "base_uri": "https://localhost:8080/"
        },
        "id": "ObJ8JJSQ8LfR",
        "outputId": "146d4c05-00cd-4fb7-c866-588a46ea27ec"
      },
      "source": [
        "data_tweets.groupby(\"liability_label\").id_tweet.nunique()"
      ],
      "execution_count": 101,
      "outputs": [
        {
          "output_type": "execute_result",
          "data": {
            "text/plain": [
              "liability_label\n",
              "site parodique                                              51506\n",
              "site qui diffuse régulièrement de la fausse information    133675\n",
              "site réputé fiable                                         632999\n",
              "site à la fiabilité douteuse                               108008\n",
              "Name: id_tweet, dtype: int64"
            ]
          },
          "metadata": {},
          "execution_count": 101
        }
      ]
    },
    {
      "cell_type": "code",
      "metadata": {
        "colab": {
          "base_uri": "https://localhost:8080/"
        },
        "id": "bIOp3M1S8uK7",
        "outputId": "fe9a1711-869a-4dae-e352-fdb25d115cf8"
      },
      "source": [
        "data_tweets.id_tweet.describe()"
      ],
      "execution_count": 102,
      "outputs": [
        {
          "output_type": "execute_result",
          "data": {
            "text/plain": [
              "count                  926188\n",
              "unique                 926188\n",
              "top       1466789582213681162\n",
              "freq                        1\n",
              "Name: id_tweet, dtype: object"
            ]
          },
          "metadata": {},
          "execution_count": 102
        }
      ]
    },
    {
      "cell_type": "markdown",
      "metadata": {
        "id": "vk8DxCRA8doL"
      },
      "source": [
        "#Pensez à faire \n",
        "\n",
        "Vérifier si données manquantes\n",
        "\n",
        "Vérifier si doublon\n",
        "\n",
        "Vérifier distribution des RT (par liability label)"
      ]
    },
    {
      "cell_type": "markdown",
      "metadata": {
        "id": "jrpVvU3ckun5"
      },
      "source": [
        "#Affichage Boxplot pour analyser visuellement"
      ]
    },
    {
      "cell_type": "code",
      "metadata": {
        "id": "kMw7gIXT9zl_"
      },
      "source": [
        "import seaborn as sns"
      ],
      "execution_count": 103,
      "outputs": []
    },
    {
      "cell_type": "code",
      "metadata": {
        "colab": {
          "base_uri": "https://localhost:8080/",
          "height": 285
        },
        "id": "1E0RqfDl95nj",
        "outputId": "f605577d-dd7a-4aef-d220-3eba8b5a555b"
      },
      "source": [
        "# boxplot\n",
        "sns.set_theme(style=\"whitegrid\")\n",
        "\n",
        "ax = sns.boxplot(data=data_tweets, x=\"retweet_count\", y=\"liability_label\", showfliers=False)"
      ],
      "execution_count": 104,
      "outputs": [
        {
          "output_type": "display_data",
          "data": {
            "image/png": "[encoded data removed]",
            "text/plain": [
              "<Figure size 432x288 with 1 Axes>"
            ]
          },
          "metadata": {}
        }
      ]
    },
    {
      "cell_type": "code",
      "metadata": {
        "colab": {
          "base_uri": "https://localhost:8080/",
          "height": 285
        },
        "id": "GSivJi52FfLj",
        "outputId": "55a7a72e-8c77-45f4-9fa5-32ce87b76951"
      },
      "source": [
        "# boxplot\n",
        "sns.set_theme(style=\"whitegrid\")\n",
        "\n",
        "ax = sns.boxplot(data=data_tweets, x=\"favorite_count\", y=\"liability_label\", showfliers=False)"
      ],
      "execution_count": 105,
      "outputs": [
        {
          "output_type": "display_data",
          "data": {
            "image/png": "[encoded data removed]",
            "text/plain": [
              "<Figure size 432x288 with 1 Axes>"
            ]
          },
          "metadata": {}
        }
      ]
    },
    {
      "cell_type": "markdown",
      "metadata": {
        "id": "7qRDvEHz_YWo"
      },
      "source": [
        "On crée un autre tableau avec seulement compte, fiabilité, followers, pour comparer les nb de followers"
      ]
    },
    {
      "cell_type": "code",
      "metadata": {
        "colab": {
          "base_uri": "https://localhost:8080/"
        },
        "id": "rcsn4JLr_FOX",
        "outputId": "2966db62-2a04-4fbc-84a2-7ce9b9469fdd"
      },
      "source": [
        "df_comptes = data_tweets.copy()\n",
        "df_comptes = df_comptes[[\"user_screen_name\", \"liability_label\",\"count_followers\"]]\n",
        "df_comptes = df_comptes.drop_duplicates()\n",
        "len(df_comptes)"
      ],
      "execution_count": 106,
      "outputs": [
        {
          "output_type": "execute_result",
          "data": {
            "text/plain": [
              "323"
            ]
          },
          "metadata": {},
          "execution_count": 106
        }
      ]
    },
    {
      "cell_type": "code",
      "metadata": {
        "colab": {
          "base_uri": "https://localhost:8080/",
          "height": 285
        },
        "id": "wFpvYXJjAGre",
        "outputId": "34793566-f1d2-4457-c591-ad22a898923e"
      },
      "source": [
        "sns.set_theme(style=\"whitegrid\")\n",
        "\n",
        "aax = sns.boxplot(data=df_comptes, x=\"count_followers\", y=\"liability_label\", showfliers=False)"
      ],
      "execution_count": 107,
      "outputs": [
        {
          "output_type": "display_data",
          "data": {
            "image/png": "[encoded data removed]",
            "text/plain": [
              "<Figure size 432x288 with 1 Axes>"
            ]
          },
          "metadata": {}
        }
      ]
    },
    {
      "cell_type": "markdown",
      "metadata": {
        "id": "Il-8hms1lLuU"
      },
      "source": [
        "Ajout de colonnes pour les pourcentage de RT et Like selon le nb de followers de l'user"
      ]
    },
    {
      "cell_type": "code",
      "metadata": {
        "colab": {
          "base_uri": "https://localhost:8080/",
          "height": 1000
        },
        "id": "Ydkjb21TALWi",
        "outputId": "953bc2f0-07be-4923-ff52-a29b56a1962b"
      },
      "source": [
        "list_percent_rt = []\n",
        "list_percent_fav = []\n",
        "for index, row in data_tweets.iterrows():\n",
        "  list_percent_rt.append(row['retweet_count']/row['count_followers'])\n",
        "  list_percent_fav.append(row['favorite_count']/row['count_followers'])\n",
        "data_tweets['rt_per_followers'] = list_percent_rt\n",
        "data_tweets['fav_per_followers'] = list_percent_fav\n",
        "data_tweets.head(10)"
      ],
      "execution_count": 122,
      "outputs": [
        {
          "output_type": "execute_result",
          "data": {
            "text/html": [
              "<div>\n",
              "<style scoped>\n",
              "    .dataframe tbody tr th:only-of-type {\n",
              "        vertical-align: middle;\n",
              "    }\n",
              "\n",
              "    .dataframe tbody tr th {\n",
              "        vertical-align: top;\n",
              "    }\n",
              "\n",
              "    .dataframe thead th {\n",
              "        text-align: right;\n",
              "    }\n",
              "</style>\n",
              "<table border=\"1\" class=\"dataframe\">\n",
              "  <thead>\n",
              "    <tr style=\"text-align: right;\">\n",
              "      <th></th>\n",
              "      <th>user_id</th>\n",
              "      <th>user_screen_name</th>\n",
              "      <th>id_tweet</th>\n",
              "      <th>created_at</th>\n",
              "      <th>tweet</th>\n",
              "      <th>retweet_count</th>\n",
              "      <th>favorite_count</th>\n",
              "      <th>liability</th>\n",
              "      <th>description</th>\n",
              "      <th>liability_label</th>\n",
              "      <th>count_followers</th>\n",
              "      <th>rt_per_followers</th>\n",
              "      <th>fav_per_followers</th>\n",
              "      <th>lenght_tweet</th>\n",
              "    </tr>\n",
              "  </thead>\n",
              "  <tbody>\n",
              "    <tr>\n",
              "      <th>0</th>\n",
              "      <td>78957336</td>\n",
              "      <td>france_soir</td>\n",
              "      <td>1466789582213681162</td>\n",
              "      <td>2021-12-03 15:21:02+00:00</td>\n",
              "      <td>🚨Le professeur Raoult écope d’un blâme de l’Ordre des médecins. Article à paraître sur https://t.co/ZHHIMMy5I6</td>\n",
              "      <td>50</td>\n",
              "      <td>101</td>\n",
              "      <td>2</td>\n",
              "      <td>France-Soir était un journal fondé par Pierre Lazareff en 1944. Le site Internet Francesoir.fr a gardé son nom après l'arrêt de sa version imprimée en 2011, mais n'a plus grand rapport avec ses origines. Les contours de son équipe sont d'ailleurs flous : les articles sont simplement signés « FranceSoir » et la rubrique « Mentions légales » n’évoque que son directeur de publication, Xavier Azalbert. Le site s'est distingué pendant la pandémie due au coronavirus SARS-CoV-2 par un parti pris à sens unique, ou presque : la remise en cause des différentes mesures prises contre l’épidémie en France et du bien-fondé de la lutte contre le coronavirus, avec une argumentation parfois fantaisiste.</td>\n",
              "      <td>site qui diffuse régulièrement de la fausse information</td>\n",
              "      <td>98322</td>\n",
              "      <td>0.000509</td>\n",
              "      <td>0.001027</td>\n",
              "      <td>15</td>\n",
              "    </tr>\n",
              "    <tr>\n",
              "      <th>1</th>\n",
              "      <td>78957336</td>\n",
              "      <td>france_soir</td>\n",
              "      <td>1466768535921831946</td>\n",
              "      <td>2021-12-03 13:57:24+00:00</td>\n",
              "      <td>RT @DIVIZIO1: Recours déposé !</td>\n",
              "      <td>643</td>\n",
              "      <td>0</td>\n",
              "      <td>2</td>\n",
              "      <td>France-Soir était un journal fondé par Pierre Lazareff en 1944. Le site Internet Francesoir.fr a gardé son nom après l'arrêt de sa version imprimée en 2011, mais n'a plus grand rapport avec ses origines. Les contours de son équipe sont d'ailleurs flous : les articles sont simplement signés « FranceSoir » et la rubrique « Mentions légales » n’évoque que son directeur de publication, Xavier Azalbert. Le site s'est distingué pendant la pandémie due au coronavirus SARS-CoV-2 par un parti pris à sens unique, ou presque : la remise en cause des différentes mesures prises contre l’épidémie en France et du bien-fondé de la lutte contre le coronavirus, avec une argumentation parfois fantaisiste.</td>\n",
              "      <td>site qui diffuse régulièrement de la fausse information</td>\n",
              "      <td>98322</td>\n",
              "      <td>0.006540</td>\n",
              "      <td>0.000000</td>\n",
              "      <td>5</td>\n",
              "    </tr>\n",
              "    <tr>\n",
              "      <th>2</th>\n",
              "      <td>78957336</td>\n",
              "      <td>france_soir</td>\n",
              "      <td>1466757902773932035</td>\n",
              "      <td>2021-12-03 13:15:09+00:00</td>\n",
              "      <td>🎙BEST OF - Pr Michel Drancourt : IHU, épidémies d'hier et d'aujourd'hui\\nComment la \"paléomicrobiologie\" permet d'ac… https://t.co/6360Sgv9qJ</td>\n",
              "      <td>27</td>\n",
              "      <td>59</td>\n",
              "      <td>2</td>\n",
              "      <td>France-Soir était un journal fondé par Pierre Lazareff en 1944. Le site Internet Francesoir.fr a gardé son nom après l'arrêt de sa version imprimée en 2011, mais n'a plus grand rapport avec ses origines. Les contours de son équipe sont d'ailleurs flous : les articles sont simplement signés « FranceSoir » et la rubrique « Mentions légales » n’évoque que son directeur de publication, Xavier Azalbert. Le site s'est distingué pendant la pandémie due au coronavirus SARS-CoV-2 par un parti pris à sens unique, ou presque : la remise en cause des différentes mesures prises contre l’épidémie en France et du bien-fondé de la lutte contre le coronavirus, avec une argumentation parfois fantaisiste.</td>\n",
              "      <td>site qui diffuse régulièrement de la fausse information</td>\n",
              "      <td>98322</td>\n",
              "      <td>0.000275</td>\n",
              "      <td>0.000600</td>\n",
              "      <td>18</td>\n",
              "    </tr>\n",
              "    <tr>\n",
              "      <th>3</th>\n",
              "      <td>78957336</td>\n",
              "      <td>france_soir</td>\n",
              "      <td>1466739848509890566</td>\n",
              "      <td>2021-12-03 12:03:25+00:00</td>\n",
              "      <td>📚 Jonathan Curiel, directeur général adjoint des programmes des chaînes M6, W9 et 6ter, a publié en octobre 2021 so… https://t.co/wrnClfvtFW</td>\n",
              "      <td>14</td>\n",
              "      <td>37</td>\n",
              "      <td>2</td>\n",
              "      <td>France-Soir était un journal fondé par Pierre Lazareff en 1944. Le site Internet Francesoir.fr a gardé son nom après l'arrêt de sa version imprimée en 2011, mais n'a plus grand rapport avec ses origines. Les contours de son équipe sont d'ailleurs flous : les articles sont simplement signés « FranceSoir » et la rubrique « Mentions légales » n’évoque que son directeur de publication, Xavier Azalbert. Le site s'est distingué pendant la pandémie due au coronavirus SARS-CoV-2 par un parti pris à sens unique, ou presque : la remise en cause des différentes mesures prises contre l’épidémie en France et du bien-fondé de la lutte contre le coronavirus, avec une argumentation parfois fantaisiste.</td>\n",
              "      <td>site qui diffuse régulièrement de la fausse information</td>\n",
              "      <td>98322</td>\n",
              "      <td>0.000142</td>\n",
              "      <td>0.000376</td>\n",
              "      <td>21</td>\n",
              "    </tr>\n",
              "    <tr>\n",
              "      <th>4</th>\n",
              "      <td>78957336</td>\n",
              "      <td>france_soir</td>\n",
              "      <td>1466731706912751619</td>\n",
              "      <td>2021-12-03 11:31:04+00:00</td>\n",
              "      <td>🖍 Le dessin du jour\\n&amp;gt; à retrouver sur https://t.co/08c1W3ouuM https://t.co/L3AcXkkb7d</td>\n",
              "      <td>39</td>\n",
              "      <td>79</td>\n",
              "      <td>2</td>\n",
              "      <td>France-Soir était un journal fondé par Pierre Lazareff en 1944. Le site Internet Francesoir.fr a gardé son nom après l'arrêt de sa version imprimée en 2011, mais n'a plus grand rapport avec ses origines. Les contours de son équipe sont d'ailleurs flous : les articles sont simplement signés « FranceSoir » et la rubrique « Mentions légales » n’évoque que son directeur de publication, Xavier Azalbert. Le site s'est distingué pendant la pandémie due au coronavirus SARS-CoV-2 par un parti pris à sens unique, ou presque : la remise en cause des différentes mesures prises contre l’épidémie en France et du bien-fondé de la lutte contre le coronavirus, avec une argumentation parfois fantaisiste.</td>\n",
              "      <td>site qui diffuse régulièrement de la fausse information</td>\n",
              "      <td>98322</td>\n",
              "      <td>0.000397</td>\n",
              "      <td>0.000803</td>\n",
              "      <td>11</td>\n",
              "    </tr>\n",
              "    <tr>\n",
              "      <th>5</th>\n",
              "      <td>78957336</td>\n",
              "      <td>france_soir</td>\n",
              "      <td>1466716910129664000</td>\n",
              "      <td>2021-12-03 10:32:16+00:00</td>\n",
              "      <td>🐖L214 a annoncé avoir déposé une plainte pour \"mauvais traitements envers les animaux et tromperie des consommateur… https://t.co/FiS5KTA04S</td>\n",
              "      <td>52</td>\n",
              "      <td>113</td>\n",
              "      <td>2</td>\n",
              "      <td>France-Soir était un journal fondé par Pierre Lazareff en 1944. Le site Internet Francesoir.fr a gardé son nom après l'arrêt de sa version imprimée en 2011, mais n'a plus grand rapport avec ses origines. Les contours de son équipe sont d'ailleurs flous : les articles sont simplement signés « FranceSoir » et la rubrique « Mentions légales » n’évoque que son directeur de publication, Xavier Azalbert. Le site s'est distingué pendant la pandémie due au coronavirus SARS-CoV-2 par un parti pris à sens unique, ou presque : la remise en cause des différentes mesures prises contre l’épidémie en France et du bien-fondé de la lutte contre le coronavirus, avec une argumentation parfois fantaisiste.</td>\n",
              "      <td>site qui diffuse régulièrement de la fausse information</td>\n",
              "      <td>98322</td>\n",
              "      <td>0.000529</td>\n",
              "      <td>0.001149</td>\n",
              "      <td>18</td>\n",
              "    </tr>\n",
              "    <tr>\n",
              "      <th>6</th>\n",
              "      <td>78957336</td>\n",
              "      <td>france_soir</td>\n",
              "      <td>1466510886386950144</td>\n",
              "      <td>2021-12-02 20:53:36+00:00</td>\n",
              "      <td>Au soutien de ce dossier mais aussi au-delà, il porte une plainte contre X pour \"RéInfoLiberté\" et @BonsensOrg, qui… https://t.co/sDvZaVbI5Q</td>\n",
              "      <td>55</td>\n",
              "      <td>161</td>\n",
              "      <td>2</td>\n",
              "      <td>France-Soir était un journal fondé par Pierre Lazareff en 1944. Le site Internet Francesoir.fr a gardé son nom après l'arrêt de sa version imprimée en 2011, mais n'a plus grand rapport avec ses origines. Les contours de son équipe sont d'ailleurs flous : les articles sont simplement signés « FranceSoir » et la rubrique « Mentions légales » n’évoque que son directeur de publication, Xavier Azalbert. Le site s'est distingué pendant la pandémie due au coronavirus SARS-CoV-2 par un parti pris à sens unique, ou presque : la remise en cause des différentes mesures prises contre l’épidémie en France et du bien-fondé de la lutte contre le coronavirus, avec une argumentation parfois fantaisiste.</td>\n",
              "      <td>site qui diffuse régulièrement de la fausse information</td>\n",
              "      <td>98322</td>\n",
              "      <td>0.000559</td>\n",
              "      <td>0.001637</td>\n",
              "      <td>20</td>\n",
              "    </tr>\n",
              "    <tr>\n",
              "      <th>7</th>\n",
              "      <td>78957336</td>\n",
              "      <td>france_soir</td>\n",
              "      <td>1466510884788973569</td>\n",
              "      <td>2021-12-02 20:53:36+00:00</td>\n",
              "      <td>🎥 Me Heringuez a défendu un couple de restaurateurs qui avait été en garde à vue en février dernier pour avoir reçu… https://t.co/6jOwd5jtEu</td>\n",
              "      <td>241</td>\n",
              "      <td>496</td>\n",
              "      <td>2</td>\n",
              "      <td>France-Soir était un journal fondé par Pierre Lazareff en 1944. Le site Internet Francesoir.fr a gardé son nom après l'arrêt de sa version imprimée en 2011, mais n'a plus grand rapport avec ses origines. Les contours de son équipe sont d'ailleurs flous : les articles sont simplement signés « FranceSoir » et la rubrique « Mentions légales » n’évoque que son directeur de publication, Xavier Azalbert. Le site s'est distingué pendant la pandémie due au coronavirus SARS-CoV-2 par un parti pris à sens unique, ou presque : la remise en cause des différentes mesures prises contre l’épidémie en France et du bien-fondé de la lutte contre le coronavirus, avec une argumentation parfois fantaisiste.</td>\n",
              "      <td>site qui diffuse régulièrement de la fausse information</td>\n",
              "      <td>98322</td>\n",
              "      <td>0.002451</td>\n",
              "      <td>0.005045</td>\n",
              "      <td>23</td>\n",
              "    </tr>\n",
              "    <tr>\n",
              "      <th>8</th>\n",
              "      <td>78957336</td>\n",
              "      <td>france_soir</td>\n",
              "      <td>1466475302574567427</td>\n",
              "      <td>2021-12-02 18:32:12+00:00</td>\n",
              "      <td>L’entretien complet : https://t.co/0EDJwyvqsM</td>\n",
              "      <td>43</td>\n",
              "      <td>100</td>\n",
              "      <td>2</td>\n",
              "      <td>France-Soir était un journal fondé par Pierre Lazareff en 1944. Le site Internet Francesoir.fr a gardé son nom après l'arrêt de sa version imprimée en 2011, mais n'a plus grand rapport avec ses origines. Les contours de son équipe sont d'ailleurs flous : les articles sont simplement signés « FranceSoir » et la rubrique « Mentions légales » n’évoque que son directeur de publication, Xavier Azalbert. Le site s'est distingué pendant la pandémie due au coronavirus SARS-CoV-2 par un parti pris à sens unique, ou presque : la remise en cause des différentes mesures prises contre l’épidémie en France et du bien-fondé de la lutte contre le coronavirus, avec une argumentation parfois fantaisiste.</td>\n",
              "      <td>site qui diffuse régulièrement de la fausse information</td>\n",
              "      <td>98322</td>\n",
              "      <td>0.000437</td>\n",
              "      <td>0.001017</td>\n",
              "      <td>4</td>\n",
              "    </tr>\n",
              "    <tr>\n",
              "      <th>9</th>\n",
              "      <td>78957336</td>\n",
              "      <td>france_soir</td>\n",
              "      <td>1466469320666533900</td>\n",
              "      <td>2021-12-02 18:08:26+00:00</td>\n",
              "      <td>BEST OF - 🎙️ En Guadeloupe, Me Ellen Bessis et Soumïâa Sayah expliquent les manipulations de la direction des hôpit… https://t.co/m67SHCn2Uh</td>\n",
              "      <td>377</td>\n",
              "      <td>552</td>\n",
              "      <td>2</td>\n",
              "      <td>France-Soir était un journal fondé par Pierre Lazareff en 1944. Le site Internet Francesoir.fr a gardé son nom après l'arrêt de sa version imprimée en 2011, mais n'a plus grand rapport avec ses origines. Les contours de son équipe sont d'ailleurs flous : les articles sont simplement signés « FranceSoir » et la rubrique « Mentions légales » n’évoque que son directeur de publication, Xavier Azalbert. Le site s'est distingué pendant la pandémie due au coronavirus SARS-CoV-2 par un parti pris à sens unique, ou presque : la remise en cause des différentes mesures prises contre l’épidémie en France et du bien-fondé de la lutte contre le coronavirus, avec une argumentation parfois fantaisiste.</td>\n",
              "      <td>site qui diffuse régulièrement de la fausse information</td>\n",
              "      <td>98322</td>\n",
              "      <td>0.003834</td>\n",
              "      <td>0.005614</td>\n",
              "      <td>21</td>\n",
              "    </tr>\n",
              "  </tbody>\n",
              "</table>\n",
              "</div>"
            ],
            "text/plain": [
              "    user_id user_screen_name  ... fav_per_followers lenght_tweet\n",
              "0  78957336      france_soir  ...          0.001027           15\n",
              "1  78957336      france_soir  ...          0.000000            5\n",
              "2  78957336      france_soir  ...          0.000600           18\n",
              "3  78957336      france_soir  ...          0.000376           21\n",
              "4  78957336      france_soir  ...          0.000803           11\n",
              "5  78957336      france_soir  ...          0.001149           18\n",
              "6  78957336      france_soir  ...          0.001637           20\n",
              "7  78957336      france_soir  ...          0.005045           23\n",
              "8  78957336      france_soir  ...          0.001017            4\n",
              "9  78957336      france_soir  ...          0.005614           21\n",
              "\n",
              "[10 rows x 14 columns]"
            ]
          },
          "metadata": {},
          "execution_count": 122
        }
      ]
    },
    {
      "cell_type": "code",
      "metadata": {
        "colab": {
          "base_uri": "https://localhost:8080/",
          "height": 285
        },
        "id": "vZGWJw43BG1Z",
        "outputId": "3ed02f92-bf7c-40aa-a427-c2a9b4c79bf1"
      },
      "source": [
        "sns.set_theme(style=\"whitegrid\")\n",
        "\n",
        "ax = sns.boxplot(data=data_tweets, x=\"rt_per_followers\", y=\"liability_label\", showfliers=False)"
      ],
      "execution_count": 109,
      "outputs": [
        {
          "output_type": "display_data",
          "data": {
            "image/png": "[encoded data removed]",
            "text/plain": [
              "<Figure size 432x288 with 1 Axes>"
            ]
          },
          "metadata": {}
        }
      ]
    },
    {
      "cell_type": "code",
      "metadata": {
        "colab": {
          "base_uri": "https://localhost:8080/",
          "height": 285
        },
        "id": "lnsPIp0EGiCf",
        "outputId": "8a4518f6-1953-4281-ebb7-3de325315fcc"
      },
      "source": [
        "sns.set_theme(style=\"whitegrid\")\n",
        "\n",
        "ax = sns.boxplot(data=data_tweets, x=\"fav_per_followers\", y=\"liability_label\", showfliers=False)"
      ],
      "execution_count": 110,
      "outputs": [
        {
          "output_type": "display_data",
          "data": {
            "image/png": "[encoded data removed]",
            "text/plain": [
              "<Figure size 432x288 with 1 Axes>"
            ]
          },
          "metadata": {}
        }
      ]
    },
    {
      "cell_type": "markdown",
      "metadata": {
        "id": "icu-3wdjG1Ot"
      },
      "source": [
        "Utiliser les boxplot pour \"catégoriser\" et essayer de trouver si on peut déjà séparer certains sites"
      ]
    },
    {
      "cell_type": "markdown",
      "metadata": {
        "id": "DgmgFRBDJZoV"
      },
      "source": [
        "On va retirer les sites parodiques, peut-être regroupper les non fiable et les douteux "
      ]
    },
    {
      "cell_type": "markdown",
      "metadata": {
        "id": "gwjI1LzuJcFJ"
      },
      "source": [
        "Avec scatterText, récupère 3000 tweets aléatoirement des 2 catégories restantes et, comme schéma, obtenir un graphique HTML qui trouve les mots propre à chaque catégorie."
      ]
    },
    {
      "cell_type": "markdown",
      "metadata": {
        "id": "k_nvGyvTLeDI"
      },
      "source": [
        "Besoin de nettoyer les tweets + retirer les liens + les hashtags + les @s\n",
        "\n",
        "tokeniser/lemmatiser/autres"
      ]
    },
    {
      "cell_type": "markdown",
      "metadata": {
        "id": "Jq5Rzhl4lZBV"
      },
      "source": [
        "#Début d'un truc pour scattertext"
      ]
    },
    {
      "cell_type": "code",
      "metadata": {
        "id": "pxpAB5CVNhj9"
      },
      "source": [
        "import spacy\n",
        "from spacy.tokenizer import Tokenizer\n",
        "from spacy.lang.fr import French"
      ],
      "execution_count": 111,
      "outputs": []
    },
    {
      "cell_type": "code",
      "metadata": {
        "colab": {
          "base_uri": "https://localhost:8080/"
        },
        "id": "wdmvebnSNfAP",
        "outputId": "e6122f47-1dfd-465d-8921-95cda4d7cb5d"
      },
      "source": [
        "spacy.cli.download('fr_core_news_md')"
      ],
      "execution_count": 112,
      "outputs": [
        {
          "output_type": "stream",
          "name": "stdout",
          "text": [
            "\u001b[38;5;2m✔ Download and installation successful\u001b[0m\n",
            "You can now load the model via spacy.load('fr_core_news_md')\n"
          ]
        }
      ]
    },
    {
      "cell_type": "code",
      "metadata": {
        "id": "7UouxuoaLLv5"
      },
      "source": [
        "# import pytextrank, spacy\n",
        "# import scattertext as st\n",
        "# import numpy as np\n",
        "\n",
        "# nlp = spacy.load(\"fr_core_news_md\")\n",
        "# nlp.add_pipe(\"textrank\", last=True)\n",
        "\n",
        "# convention_df = st.SampleCorpora.ConventionData2012.get_data().assign(\n",
        "#     parse=lambda df: df.text.apply(nlp),\n",
        "#     party=lambda df: df.party.apply(\n",
        "#         {'democrat': 'Democratic', \n",
        "#          'republican': 'Republican'}.get\n",
        "#     )\n",
        "# )\n",
        "\n",
        "# corpus = st.CorpusFromParsedDocuments(\n",
        "#     convention_df,\n",
        "#     category_col='party',\n",
        "#     parsed_col='parse',\n",
        "#     feats_from_spacy_doc=st.PyTextRankPhrases()\n",
        "# ).build().compact(st.AssociationCompactor(2000, use_non_text_features=True))"
      ],
      "execution_count": 113,
      "outputs": []
    },
    {
      "cell_type": "markdown",
      "metadata": {
        "id": "gfw8u31qlgEl"
      },
      "source": [
        "Fonction de Manon, description dedans"
      ]
    },
    {
      "cell_type": "code",
      "metadata": {
        "id": "VE2LZkyORapN"
      },
      "source": [
        " def print_famous_tweets(df, liability, nb_favorites) :\n",
        "\n",
        "    ''' Cette fonction permet de sélectionner les tweets qui ont eu le plus de favoris\n",
        "    pour un user_id donné, et de lire le tweet avec les indicateurs des autres variables de la\n",
        "    base de données  \n",
        "    '''\n",
        "\n",
        "    df_sub = df.loc[(df.liability==liability) & (df.favorite_count > nb_favorites),:]\n",
        "    for irow in range(df_sub.shape[0]):\n",
        "        df_row = df_sub.iloc[irow,:]\n",
        "   \n",
        "        print(df_row[\"created_at\"])\n",
        "        print(\"favorite_count={:6} retweet_count={:6}\".format(df_row[\"favorite_count\"],df_row[\"retweet_count\"]))\n",
        "        print(df_row[\"tweet\"])\n",
        "        print(\"\\n\")\n"
      ],
      "execution_count": 115,
      "outputs": []
    },
    {
      "cell_type": "code",
      "metadata": {
        "colab": {
          "base_uri": "https://localhost:8080/"
        },
        "id": "gk9R_AWGRbq9",
        "outputId": "ee923a29-c834-406c-c32a-6981cdfa39ed"
      },
      "source": [
        "print_famous_tweets(data_tweets, 4, 50000)"
      ],
      "execution_count": 116,
      "outputs": [
        {
          "output_type": "stream",
          "name": "stdout",
          "text": [
            "2021-11-06 00:00:03+00:00\n",
            "favorite_count= 57346 retweet_count=  6140\n",
            "Marília Mendonça, one of the most popular Brazilian pop singers who was iconic in a type of country music called se… https://t.co/aFYdxp51nZ\n",
            "\n",
            "\n",
            "2021-01-30 08:18:33+00:00\n",
            "favorite_count= 50594 retweet_count= 22597\n",
            "\"Un étudiant ne doit pas mourir de faim, se poser des questions sur son loyer. Il doit faire ses études et aller au… https://t.co/VWYlYwbl97\n",
            "\n",
            "\n",
            "2021-11-30 18:00:05+00:00\n",
            "favorite_count= 58054 retweet_count= 12145\n",
            ".@ENHYPEN takes on the ultimate friendship test! These guys have proven that determination, a shared goal, and ligh… https://t.co/RZxyLsH5Cm\n",
            "\n",
            "\n",
            "2021-11-22 03:59:37+00:00\n",
            "favorite_count= 65396 retweet_count= 20982\n",
            "THIS SET IS EVERYTHING #BTS #BTSxAMAs #AMAs https://t.co/igJHUwN6RR\n",
            "\n",
            "\n",
            "2021-11-22 03:31:24+00:00\n",
            "favorite_count= 80005 retweet_count= 22082\n",
            "BTS: *wins artist of the year\"\n",
            "Jin and Jungkook:\n",
            "#BTS #BTSxAMAs https://t.co/0UR6X36LFv\n",
            "\n",
            "\n",
            "2021-11-29 15:03:00+00:00\n",
            "favorite_count= 89752 retweet_count= 21673\n",
            "Barbados will become a republic this week, replacing Queen Elizabeth as head of state.\n",
            "\n",
            "British colonizers enslaved… https://t.co/ct0hWE7XrQ\n",
            "\n",
            "\n",
            "2021-10-21 12:20:17+00:00\n",
            "favorite_count= 56012 retweet_count= 14303\n",
            "Barbados has elected its first president and is removing Queen Elizabeth as head of state.\n",
            "\n",
            "Dame Sandra Mason will… https://t.co/bZF2SM5caX\n",
            "\n",
            "\n",
            "2021-08-15 18:50:00+00:00\n",
            "favorite_count= 86131 retweet_count= 40247\n",
            "\"Mon père a quitté ma chambre après avoir remonté ma culotte en me disant : 'Je suis désolé ma chérie, je t'aime'\"… https://t.co/KMwWTlWote\n",
            "\n",
            "\n",
            "2021-10-26 22:03:04+00:00\n",
            "favorite_count= 53350 retweet_count= 16760\n",
            "K.\n",
            "\n",
            "✍🏻 il.bara | IG https://t.co/qbuaNAPOeD\n",
            "\n",
            "\n",
            "2021-10-22 08:01:01+00:00\n",
            "favorite_count=224152 retweet_count= 60962\n",
            "I'd give them all the treats👻\n",
            "\n",
            "📸 lokistagram | IG https://t.co/gNf0CSxaXC\n",
            "\n",
            "\n",
            "2021-09-23 13:02:02+00:00\n",
            "favorite_count=102848 retweet_count= 52651\n",
            "How are you, 90's babies? https://t.co/tszRsIIsRR\n",
            "\n",
            "\n"
          ]
        }
      ]
    },
    {
      "cell_type": "markdown",
      "metadata": {
        "id": "2vUPDOyQluZr"
      },
      "source": [
        "Vérifier si longueur des tweets permet de catégoriser selon niveau de fiabilité (exemple : les sites fiables font toujours des tweets de plus de 3 \"mots\")"
      ]
    },
    {
      "cell_type": "code",
      "metadata": {
        "colab": {
          "base_uri": "https://localhost:8080/",
          "height": 285
        },
        "id": "yeHWBFe8S4pS",
        "outputId": "93019861-d2da-4503-cb23-7fec35c762e4"
      },
      "source": [
        "# Calcul d'une variable contenant le nombre de mots de chaque tweets\n",
        "data_tweets[\"lenght_tweet\"] = data_tweets[\"tweet\"].apply(lambda tweet : len(tweet.split()))\n",
        "\n",
        "# Calcul de la distribution de la variable pour chaque label\n",
        "# data_tweets.groupby([\"liability_label\"]).lenght_tweet.describe()\n",
        "ax = sns.boxplot(data=data_tweets, x=\"lenght_tweet\", y=\"liability_label\", showfliers=False)"
      ],
      "execution_count": 117,
      "outputs": [
        {
          "output_type": "display_data",
          "data": {
            "image/png": "[encoded data removed]",
            "text/plain": [
              "<Figure size 432x288 with 1 Axes>"
            ]
          },
          "metadata": {}
        }
      ]
    },
    {
      "cell_type": "markdown",
      "metadata": {
        "id": "wDFFvwSUmIr8"
      },
      "source": [
        "Test de split (sans paramètre, par défault c'est sur l'espace !)"
      ]
    },
    {
      "cell_type": "code",
      "metadata": {
        "colab": {
          "base_uri": "https://localhost:8080/"
        },
        "id": "EenKOLugUIVN",
        "outputId": "dd1bae20-e34c-466d-a32f-1c50a1822a05"
      },
      "source": [
        "\"K. ✍🏻 il.bara | IG https://t.co/qbuaNAPOeD\".split()"
      ],
      "execution_count": 118,
      "outputs": [
        {
          "output_type": "execute_result",
          "data": {
            "text/plain": [
              "['K.', '✍🏻', 'il.bara', '|', 'IG', 'https://t.co/qbuaNAPOeD']"
            ]
          },
          "metadata": {},
          "execution_count": 118
        }
      ]
    },
    {
      "cell_type": "markdown",
      "metadata": {
        "id": "KEOyZIggmFln"
      },
      "source": [
        "Vérifier les tweets de 1 \"mot\""
      ]
    },
    {
      "cell_type": "code",
      "metadata": {
        "colab": {
          "base_uri": "https://localhost:8080/"
        },
        "id": "yGCDs-tYUfQq",
        "outputId": "f3f6f869-6b44-4e44-a801-7610e2514360"
      },
      "source": [
        "data_tweets.loc[data_tweets['lenght_tweet'] == 1, 'tweet']"
      ],
      "execution_count": 119,
      "outputs": [
        {
          "output_type": "execute_result",
          "data": {
            "text/plain": [
              "231       https://t.co/PKeup2vcSq\n",
              "440       https://t.co/xjlrZptbwS\n",
              "536                      *Touboul\n",
              "557       https://t.co/vd57IwKBoC\n",
              "570       https://t.co/0KyetG1k8u\n",
              "                   ...           \n",
              "924809    https://t.co/vrgkb6EHbc\n",
              "924810    https://t.co/EAIIixZGiw\n",
              "924811    https://t.co/gw5yUzKsN9\n",
              "925733    https://t.co/39y0pm1OlZ\n",
              "926161    https://t.co/VIZXHFZYaV\n",
              "Name: tweet, Length: 5412, dtype: object"
            ]
          },
          "metadata": {},
          "execution_count": 119
        }
      ]
    },
    {
      "cell_type": "markdown",
      "metadata": {
        "id": "tWhHcdJxmS4I"
      },
      "source": [
        "Test pour re.sub"
      ]
    },
    {
      "cell_type": "code",
      "metadata": {
        "colab": {
          "base_uri": "https://localhost:8080/"
        },
        "id": "IgrCSO1eZZ8H",
        "outputId": "d6abebaf-adf6-41d1-a087-ed229eca9a3e"
      },
      "source": [
        "import re\n",
        "\n",
        "patterns = ['@[a-zA-Z\\u00C0-\\u00FF0-9]+', '#[a-zA-Z\\u00C0-\\u00FF0-9]+', '|', 'https://t.co/[a-zA-Z\\u00C0-\\u00FF0-9]+']\n",
        "\n",
        "text = \"BTS: *wins artist of the year* Jin and Jungkook: #BTS #BTSxAMAs https://t.co/0UR6X36LFv\"\n",
        "\n",
        "for pattern in patterns:\n",
        "  text = re.sub(pattern,'', text)\n",
        "  print(text)\n",
        "\n",
        "# data_tweets['tweet'] = [re.sub(r'','', str(x)) for x in data_df['transcript']]\n",
        "# text"
      ],
      "execution_count": 120,
      "outputs": [
        {
          "output_type": "stream",
          "name": "stdout",
          "text": [
            "BTS: *wins artist of the year* Jin and Jungkook: #BTS #BTSxAMAs https://t.co/0UR6X36LFv\n",
            "BTS: *wins artist of the year* Jin and Jungkook:   https://t.co/0UR6X36LFv\n",
            "BTS: *wins artist of the year* Jin and Jungkook:   https://t.co/0UR6X36LFv\n",
            "BTS: *wins artist of the year* Jin and Jungkook:   \n"
          ]
        }
      ]
    },
    {
      "cell_type": "markdown",
      "metadata": {
        "id": "0WMlvoPfmW25"
      },
      "source": [
        "Fonctions pour retirer/remplacer du texte dans les tweets afin de les rendre plus facile à \"analyser\""
      ]
    },
    {
      "cell_type": "markdown",
      "metadata": {
        "id": "WO5gecXIjwdu"
      },
      "source": [
        "remplacement par 'désindentification_'+nom du truc"
      ]
    },
    {
      "cell_type": "code",
      "metadata": {
        "id": "u11_GaDhcMHd"
      },
      "source": [
        "import re\n",
        "import string\n",
        "\n",
        "def remove_spaces(tweet):\n",
        "  tweet = re.sub('\\s{2,}', ' ', tweet)\n",
        "  return tweet\n",
        "\n",
        "def replace_stuff(tweet):\n",
        "  tweet = re.sub('\\?', 'point_interrogation', tweet)\n",
        "  tweet = re.sub('https://t.co/[a-zA-Z\\u00C0-\\u00FF0-9]+', 'lien_twitter', tweet)\n",
        "  return tweet\n",
        "\n",
        "def remove_punctuation(tweet):\n",
        "  result = \"\".join([ch for ch in tweet if ch not in string.punctuation.replace('_','')])\n",
        "  return result\n",
        "\n",
        "def remove_pattern(tweet):\n",
        "  patterns = ['\\n', '|', '@[a-zA-Z\\u00C0-\\u00FF0-9]+', '#[a-zA-Z\\u00C0-\\u00FF0-9]+']\n",
        "  for pattern in patterns:\n",
        "    tweet = re.sub(pattern, '', tweet)\n",
        "  return tweet\n",
        "\n",
        "def simplification(tweet):\n",
        "  tweet = replace_stuff(tweet)\n",
        "  tweet = remove_pattern(tweet)\n",
        "  tweet = remove_punctuation(tweet)\n",
        "  tweet = remove_spaces(tweet)\n",
        "  return tweet"
      ],
      "execution_count": 136,
      "outputs": []
    },
    {
      "cell_type": "code",
      "metadata": {
        "id": "Tyc1FdCrcyfD"
      },
      "source": [
        "data_tweets[\"tweet_nettoyé\"] = data_tweets[\"tweet\"]\n",
        "\n",
        "# data_tweets[\"tweet_nettoyé\"] = data_tweets[\"tweet\"].apply(lambda tweet : replace_stuff(tweet)).apply(lambda tweet : remove_pattern(tweet)).apply(lambda tweet : remove_punctuation(tweet)).apply(lambda tweet : remove_spaces(tweet))\n",
        "data_tweets[\"tweet_nettoyé\"] = data_tweets[\"tweet\"].apply(lambda tweet : simplification(tweet))"
      ],
      "execution_count": 137,
      "outputs": []
    },
    {
      "cell_type": "code",
      "metadata": {
        "colab": {
          "base_uri": "https://localhost:8080/"
        },
        "id": "aIzfB-_uioNk",
        "outputId": "c8e286c7-a869-4617-d9d5-0e3ecc2d9ce0"
      },
      "source": [
        "# pd.set_option(\"max_colwidth\", 5000)\n",
        "# data_tweets[\"tweet\"].head()\n",
        "\n",
        "for tweet in data_tweets[\"tweet_nettoyé\"].head(15):\n",
        "  print(tweet)"
      ],
      "execution_count": 138,
      "outputs": [
        {
          "output_type": "stream",
          "name": "stdout",
          "text": [
            "🚨Le professeur Raoult écope d’un blâme de l’Ordre des médecins Article à paraître sur lien_twitter\n",
            "RT Recours déposé \n",
            "🎙BEST OF Pr Michel Drancourt IHU épidémies dhier et daujourdhuiComment la paléomicrobiologie permet dac… lien_twitter\n",
            "📚 Jonathan Curiel directeur général adjoint des programmes des chaînes M6 W9 et 6ter a publié en octobre 2021 so… lien_twitter\n",
            "🖍 Le dessin du jourgt à retrouver sur lien_twitter lien_twitter\n",
            "🐖L214 a annoncé avoir déposé une plainte pour mauvais traitements envers les animaux et tromperie des consommateur… lien_twitter\n",
            "Au soutien de ce dossier mais aussi audelà il porte une plainte contre X pour RéInfoLiberté et qui… lien_twitter\n",
            "🎥 Me Heringuez a défendu un couple de restaurateurs qui avait été en garde à vue en février dernier pour avoir reçu… lien_twitter\n",
            "L’entretien complet lien_twitter\n",
            "BEST OF 🎙️ En Guadeloupe Me Ellen Bessis et Soumïâa Sayah expliquent les manipulations de la direction des hôpit… lien_twitter\n",
            "🖍️ Le dessin du jour par lien_twitter\n",
            "🛂 La a demandé au gouvernement des preuves defficacité du Jusquici ce dernier na su don… lien_twitter\n",
            "🚖Des taxis volants à Pontoise point_interrogation Cette inauguration donne le coup denvoi des premières expérimentations en con… lien_twitter\n",
            "📣Devant le Conseil scientifique indépendant Christian Perronne est formel Si cétaient des vrais vaccins à viru… lien_twitter\n",
            "🔌La Commission de régulation de lénergie CRE recommande qu’à compter de 2025 les foyers qui ne seraient pas enc… lien_twitter\n"
          ]
        }
      ]
    },
    {
      "cell_type": "markdown",
      "metadata": {
        "id": "le1Ck8OvotIW"
      },
      "source": [
        "Petit test si je peux éviter de retirer certaines ponctuations"
      ]
    },
    {
      "cell_type": "code",
      "metadata": {
        "colab": {
          "base_uri": "https://localhost:8080/",
          "height": 36
        },
        "id": "9QzTBPshi4XY",
        "outputId": "9b601bdd-0027-4f12-ef12-82828452d9ee"
      },
      "source": [
        "string.punctuation.replace('_','')"
      ],
      "execution_count": 135,
      "outputs": [
        {
          "output_type": "execute_result",
          "data": {
            "application/vnd.google.colaboratory.intrinsic+json": {
              "type": "string"
            },
            "text/plain": [
              "'!\"#$%&\\'()*+,-./:;<=>?@[\\\\]^`{|}~'"
            ]
          },
          "metadata": {},
          "execution_count": 135
        }
      ]
    },
    {
      "cell_type": "markdown",
      "metadata": {
        "id": "WFWCAyIAozHq"
      },
      "source": [
        "Il est possible que ce ne soit pas Google Colab/Python/N'importe quel entité qui tronqué les tweets trop long mais en réalité tweepy qui nous a envoyé le tweet tronqué, ou quelquechose comme ça ?"
      ]
    }
  ]
}