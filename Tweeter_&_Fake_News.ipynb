{
  "nbformat": 4,
  "nbformat_minor": 0,
  "metadata": {
    "colab": {
      "name": "Tweeter & Fake News",
      "provenance": [],
      "collapsed_sections": [],
      "include_colab_link": true
    },
    "kernelspec": {
      "display_name": "Python 3 (ipykernel)",
      "language": "python",
      "name": "python3"
    },
    "language_info": {
      "codemirror_mode": {
        "name": "ipython",
        "version": 3
      },
      "file_extension": ".py",
      "mimetype": "text/x-python",
      "name": "python",
      "nbconvert_exporter": "python",
      "pygments_lexer": "ipython3",
      "version": "3.9.7"
    }
  },
  "cells": [
    {
      "cell_type": "markdown",
      "metadata": {
        "id": "view-in-github",
        "colab_type": "text"
      },
      "source": [
        "<a href=\"https://colab.research.google.com/github/anjunjin/PFE-ING3-IA/blob/branch1/Tweeter_%26_Fake_News.ipynb\" target=\"_parent\"><img src=\"https://colab.research.google.com/assets/colab-badge.svg\" alt=\"Open In Colab\"/></a>"
      ]
    },
    {
      "cell_type": "markdown",
      "metadata": {
        "id": "WgIMZx7EsiMn"
      },
      "source": [
        "# Tweeter & Fake news\n",
        "Notebook jupyter du projet tweeter et fake news par Arnaud Valette & Paul Planchon\n",
        "\n",
        "run the first cell once to be sure all the librairies are installed"
      ]
    },
    {
      "cell_type": "code",
      "metadata": {
        "collapsed": true,
        "tags": [],
        "id": "GWVJ5SqjpjHT",
        "colab": {
          "base_uri": "https://localhost:8080/"
        },
        "outputId": "102130c0-09df-410a-e76f-6696b3674610"
      },
      "source": [
        "!pip install tweepy pandas numpy matplotlib python-dotenv tqdm"
      ],
      "execution_count": 46,
      "outputs": [
        {
          "output_type": "stream",
          "name": "stdout",
          "text": [
            "Requirement already satisfied: tweepy in /usr/local/lib/python3.7/dist-packages (3.10.0)\n",
            "Requirement already satisfied: pandas in /usr/local/lib/python3.7/dist-packages (1.1.5)\n",
            "Requirement already satisfied: numpy in /usr/local/lib/python3.7/dist-packages (1.19.5)\n",
            "Requirement already satisfied: matplotlib in /usr/local/lib/python3.7/dist-packages (3.2.2)\n",
            "Requirement already satisfied: python-dotenv in /usr/local/lib/python3.7/dist-packages (0.19.2)\n",
            "Requirement already satisfied: tqdm in /usr/local/lib/python3.7/dist-packages (4.62.3)\n",
            "Requirement already satisfied: requests-oauthlib>=0.7.0 in /usr/local/lib/python3.7/dist-packages (from tweepy) (1.3.0)\n",
            "Requirement already satisfied: six>=1.10.0 in /usr/local/lib/python3.7/dist-packages (from tweepy) (1.15.0)\n",
            "Requirement already satisfied: requests[socks]>=2.11.1 in /usr/local/lib/python3.7/dist-packages (from tweepy) (2.23.0)\n",
            "Requirement already satisfied: oauthlib>=3.0.0 in /usr/local/lib/python3.7/dist-packages (from requests-oauthlib>=0.7.0->tweepy) (3.1.1)\n",
            "Requirement already satisfied: idna<3,>=2.5 in /usr/local/lib/python3.7/dist-packages (from requests[socks]>=2.11.1->tweepy) (2.10)\n",
            "Requirement already satisfied: urllib3!=1.25.0,!=1.25.1,<1.26,>=1.21.1 in /usr/local/lib/python3.7/dist-packages (from requests[socks]>=2.11.1->tweepy) (1.24.3)\n",
            "Requirement already satisfied: certifi>=2017.4.17 in /usr/local/lib/python3.7/dist-packages (from requests[socks]>=2.11.1->tweepy) (2021.10.8)\n",
            "Requirement already satisfied: chardet<4,>=3.0.2 in /usr/local/lib/python3.7/dist-packages (from requests[socks]>=2.11.1->tweepy) (3.0.4)\n",
            "Requirement already satisfied: PySocks!=1.5.7,>=1.5.6 in /usr/local/lib/python3.7/dist-packages (from requests[socks]>=2.11.1->tweepy) (1.7.1)\n",
            "Requirement already satisfied: pytz>=2017.2 in /usr/local/lib/python3.7/dist-packages (from pandas) (2018.9)\n",
            "Requirement already satisfied: python-dateutil>=2.7.3 in /usr/local/lib/python3.7/dist-packages (from pandas) (2.8.2)\n",
            "Requirement already satisfied: kiwisolver>=1.0.1 in /usr/local/lib/python3.7/dist-packages (from matplotlib) (1.3.2)\n",
            "Requirement already satisfied: cycler>=0.10 in /usr/local/lib/python3.7/dist-packages (from matplotlib) (0.11.0)\n",
            "Requirement already satisfied: pyparsing!=2.0.4,!=2.1.2,!=2.1.6,>=2.0.1 in /usr/local/lib/python3.7/dist-packages (from matplotlib) (3.0.6)\n"
          ]
        }
      ]
    },
    {
      "cell_type": "code",
      "metadata": {
        "id": "TQ2HXk2oshYb"
      },
      "source": [
        "import tweepy\n",
        "import pickle\n",
        "import warnings\n",
        "warnings.simplefilter(action='ignore', category=FutureWarning)\n",
        "\n",
        "import pandas as pd\n",
        "from tqdm import tqdm\n",
        "import numpy as np\n",
        "import matplotlib.pyplot as plt\n",
        "from dotenv import dotenv_values\n",
        "import requests\n",
        "from IPython.display import JSON"
      ],
      "execution_count": 47,
      "outputs": []
    },
    {
      "cell_type": "markdown",
      "metadata": {
        "id": "4VY419EhpjHY"
      },
      "source": [
        "### env vars\n",
        "in a folder `../creds` put an .env file with\n",
        "```\n",
        "API_KEY=\"\"\n",
        "API_SECRET=\"\"\n",
        "API_TOKEN=\"\"\n",
        "```\n",
        "which are the creds from twitter dev portal [twitter portal](https://developer.twitter.com/en/portal/projects/)"
      ]
    },
    {
      "cell_type": "code",
      "metadata": {
        "colab": {
          "base_uri": "https://localhost:8080/"
        },
        "id": "bylFSz2jtIVz",
        "outputId": "29072c6c-36a0-4410-fc35-fe62fd1c0c75"
      },
      "source": [
        "from google.colab import drive\n",
        "drive.mount('/content/drive')\n",
        "\n",
        "DATA_PATH = \"/content/drive/My Drive/PFE/\""
      ],
      "execution_count": 48,
      "outputs": [
        {
          "output_type": "stream",
          "name": "stdout",
          "text": [
            "Drive already mounted at /content/drive; to attempt to forcibly remount, call drive.mount(\"/content/drive\", force_remount=True).\n"
          ]
        }
      ]
    },
    {
      "cell_type": "code",
      "metadata": {
        "id": "U2JVsJRapjHZ"
      },
      "source": [
        "# env_var = dotenv_values(\"../.env\")\n",
        "# API_KEY    = env_var[\"API_KEY\"]\n",
        "# API_SECRET = env_var[\"API_SECRET\"]\n",
        "# API_TOKEN  = env_var[\"API_TOKEN\"]\n",
        "\n",
        "API_TOKEN = pd.read_csv(DATA_PATH+\"Clés.csv\", encoding='utf-8', sep=',')['Bearer Token'][0]\n",
        "API_KEY = pd.read_csv(DATA_PATH+\"Clés.csv\", encoding='utf-8', sep=',')['API Key'][0]\n",
        "API_SECRET = pd.read_csv(DATA_PATH+\"Clés.csv\", encoding='utf-8', sep=',')['API Key Secret'][0]"
      ],
      "execution_count": 49,
      "outputs": []
    },
    {
      "cell_type": "code",
      "metadata": {
        "id": "34GIIGrWpjHZ"
      },
      "source": [
        "auth = tweepy.AppAuthHandler(API_KEY, API_SECRET)\n",
        "api = tweepy.API(auth, wait_on_rate_limit=True)"
      ],
      "execution_count": 50,
      "outputs": []
    },
    {
      "cell_type": "markdown",
      "metadata": {
        "id": "cuz1dZFTpjHa"
      },
      "source": [
        "## Monde website data\n",
        "getting the JSON data from [le monde](https://www.lemonde.fr/webservice/decodex/updates) decodex updates feed\n",
        "\n",
        "### categories\n",
        " - 1: Site parodique\n",
        " - 2: Fake news\n",
        " - 3: Faire attention\n",
        " - 4: OK mais il ne faut pas hésiter a croiser"
      ]
    },
    {
      "cell_type": "code",
      "metadata": {
        "id": "DbxKvfdwpjHa"
      },
      "source": [
        "data = requests.get(\"https://www.lemonde.fr/webservice/decodex/updates\").json()"
      ],
      "execution_count": 51,
      "outputs": []
    },
    {
      "cell_type": "code",
      "metadata": {
        "id": "7v6KApgkpjHb"
      },
      "source": [
        "try:\n",
        "    decodex_site = pd.read_csv(\"./monde_site.csv\", index_col=0)\n",
        "    with open('monde_urls.pickle', 'rb') as handle:\n",
        "        site_index_to_url = pickle.load(handle)\n",
        "except Exception:\n",
        "    decodex_site = pd.DataFrame(requests.get(\"https://www.lemonde.fr/webservice/decodex/updates\").json()[\"sites\"]).T.drop(3, 1).rename(columns={0: \"categorie\", 1: \"description\", 2: \"site\"})\n",
        "    decodex_url = requests.get(\"https://www.lemonde.fr/webservice/decodex/updates\").json()[\"urls\"] # urls of website, including sometimes twitter data\n",
        "\n",
        "    # convert the url to index dict to an index to url dict\n",
        "    site_index_to_url = {}\n",
        "    for x, y in decodex_url.items():\n",
        "        try:\n",
        "            if site_index_to_url[y]:\n",
        "                site_index_to_url[y].append(x)\n",
        "        except Exception as e:\n",
        "            site_index_to_url[y] = [x]\n",
        "\n",
        "    # we save data to disk\n",
        "    decodex_site.to_csv(\"monde_site.csv\")\n",
        "    with open('monde_urls.pickle', 'wb') as handle:\n",
        "        pickle.dump(site_index_to_url, handle, protocol=pickle.HIGHEST_PROTOCOL)"
      ],
      "execution_count": 52,
      "outputs": []
    },
    {
      "cell_type": "code",
      "metadata": {
        "id": "1VVWXp7WFxdJ"
      },
      "source": [
        "#Si vous utilisez cette ligne, pensez à bien fermer la fenêtre de résultat pour des raison de sécurité\n",
        "# decodex_site"
      ],
      "execution_count": 53,
      "outputs": []
    },
    {
      "cell_type": "code",
      "metadata": {
        "id": "P3D9-GgBpjHd"
      },
      "source": [
        "# get alls twitter link from the urls of decodex\n",
        "# fake_news_index = list(decodex_site[decodex_site[\"categorie\"] == 2].index) #Ne prend que les sites de catégorie \"Fake News\"\n",
        "fake_news_index = list(decodex_site.index) #Prend tous les sites, peut importe la catégorie\n",
        "fake_news_twitter = {}\n",
        "\n",
        "for i in fake_news_index:\n",
        "    try:\n",
        "        for url in site_index_to_url[int(i)]:\n",
        "            if \"twitter.com/\" in url:\n",
        "                if \"?lang=fr\" in url:\n",
        "                    size = len(url)\n",
        "                    fake_news_twitter[i] = url[12:size - 8].strip('@')\n",
        "                else:\n",
        "                    fake_news_twitter[i] = url[12:].strip('@')\n",
        "    except Exception as e:\n",
        "        pass"
      ],
      "execution_count": 54,
      "outputs": []
    },
    {
      "cell_type": "code",
      "metadata": {
        "id": "pODa0aZPpjHd"
      },
      "source": [
        "#Si vous utilisez cette ligne, pensez à bien fermer la fenêtre de résultat pour des raison de sécurité\n",
        "# fake_news_twitter"
      ],
      "execution_count": 55,
      "outputs": []
    },
    {
      "cell_type": "code",
      "metadata": {
        "id": "vmKk6627pjHe"
      },
      "source": [
        "    class TwitterUser():\n",
        "        _screen_name = \"\"\n",
        "        _id = \"\"\n",
        "        _user_data = None\n",
        "        followers = []\n",
        "        following = []\n",
        "        tweet = []\n",
        "        like = []\n",
        "        request_count = 0\n",
        "\n",
        "        def __init__(self, sname = \"\", _json = {}):\n",
        "            if (sname != \"\"):\n",
        "                self._screen_name = sname\n",
        "                self.get_info()\n",
        "            if (_json != {}):\n",
        "                self._json = _json\n",
        "\n",
        "        def get_info(self):\n",
        "            self._user_data = api.get_user(screen_name=self._screen_name)\n",
        "\n",
        "        def get_all_data(self):\n",
        "            self.get_tweets()\n",
        "            # self.get_followers()\n",
        "            # self.get_following()\n",
        "            # self.get_like()\n",
        "\n",
        "        def set_name(self, name):\n",
        "            self._screen_name = name\n",
        "\n",
        "        def set_id(self, _id):\n",
        "            self._id = _id\n",
        "\n",
        "        def get_followers(self):\n",
        "            with tqdm(total=self._user_data.followers_count, desc=\"get_followers for \" + self._user_data.screen_name) as pbar:\n",
        "                for page in tweepy.Cursor(api.followers, screen_name=self._screen_name, count=200).pages():\n",
        "                    self.followers.extend(page)\n",
        "                    pbar.update(len(page))\n",
        "\n",
        "\n",
        "        def get_following(self):\n",
        "            with tqdm(total=self._user_data.friends_count, desc=\"get_following for \" + self._user_data.screen_name) as pbar:\n",
        "                for page in tweepy.Cursor(api.friends, screen_name=self._screen_name, count=200).pages():\n",
        "                    self.following.extend(page)\n",
        "                    pbar.update(len(page))\n",
        "\n",
        "        # on ne peut prendre que les 3000 derniers\n",
        "        def get_tweets(self):\n",
        "            if self._user_data.protected:\n",
        "                print(\"can't get tweets from \" + self._user_data.screen_name + \", the account is protected\")\n",
        "            else:\n",
        "                with tqdm(total=3000, desc=\"get_tweets for \" + self._user_data.screen_name) as pbar:\n",
        "                    for page in tweepy.Cursor(api.user_timeline, screen_name=self._screen_name, count=200).pages():\n",
        "                        self.tweet.extend(page)\n",
        "                        pbar.update(len(page))\n",
        "\n",
        "        # on ne peut prendre que les 3000 derniers\n",
        "        def get_like(self):\n",
        "            if self._user_data.protected:\n",
        "                print(\"can get like from \" + self._user_data.screen_name + \", the account is protected\")\n",
        "            else:\n",
        "                with tqdm(total=3000, desc=\"get_likes for \" + self._user_data.screen_name) as pbar:\n",
        "                    for page in tweepy.Cursor(api.favorites, screen_name=self._screen_name, count=200).pages():\n",
        "                        self.like.extend(page)\n",
        "                        pbar.update(len(page))\n"
      ],
      "execution_count": 56,
      "outputs": []
    },
    {
      "cell_type": "code",
      "metadata": {
        "id": "5nb1YRijpjHe",
        "colab": {
          "base_uri": "https://localhost:8080/"
        },
        "outputId": "e944825e-419e-4035-8c1b-db27c7eb25c9"
      },
      "source": [
        "test = TwitterUser(sname=\"france_soir\")\n",
        "test.get_all_data()"
      ],
      "execution_count": 57,
      "outputs": [
        {
          "output_type": "stream",
          "name": "stderr",
          "text": [
            "get_tweets for france_soir: 3213it [00:06, 467.96it/s]\n"
          ]
        }
      ]
    },
    {
      "cell_type": "code",
      "metadata": {
        "id": "DfokzqOW3Awj"
      },
      "source": [
        "# test.tweet[0]._json"
      ],
      "execution_count": 58,
      "outputs": []
    },
    {
      "cell_type": "code",
      "metadata": {
        "colab": {
          "base_uri": "https://localhost:8080/",
          "height": 99
        },
        "id": "dOXn1OFD5g3y",
        "outputId": "59737cea-1b77-4dec-da2d-972e6095d1fe"
      },
      "source": [
        "list_test = [[test.tweet[0].user.id, test.tweet[0].id, test.tweet[0].text, test.tweet[0].retweet_count, test.tweet[0].favorite_count, 5]]\n",
        "#id de l'user, id du tweet, tweet, nb de retweet, nb de like, niveau de fiabilité (si je fais la boucle sur mon dataset dans GetCsvFromJsonOnline.ipynb, je peux obtenir le sname nécessaire pour chercher l'utilisateur mais aussi sa fiabilité)\n",
        "list_test\n",
        "tableauTweets = pd.DataFrame(list_test, columns=['user_id', 'id_tweet', 'tweet', 'retweet_count', 'favorite_count', 'label_liability'])\n",
        "print(\"label_liability à 5 car on utilise pas le tableau dans GetCsvFromJsonOnline.ipynb qui lui contient les label_liability de chaque user\")\n",
        "tableauTweets"
      ],
      "execution_count": 59,
      "outputs": [
        {
          "output_type": "stream",
          "name": "stdout",
          "text": [
            "label_liability à 5 car on utilise pas le tableau dans GetCsvFromJsonOnline.ipynb qui lui contient les label_liability de chaque user\n"
          ]
        },
        {
          "output_type": "execute_result",
          "data": {
            "text/html": [
              "<div>\n",
              "<style scoped>\n",
              "    .dataframe tbody tr th:only-of-type {\n",
              "        vertical-align: middle;\n",
              "    }\n",
              "\n",
              "    .dataframe tbody tr th {\n",
              "        vertical-align: top;\n",
              "    }\n",
              "\n",
              "    .dataframe thead th {\n",
              "        text-align: right;\n",
              "    }\n",
              "</style>\n",
              "<table border=\"1\" class=\"dataframe\">\n",
              "  <thead>\n",
              "    <tr style=\"text-align: right;\">\n",
              "      <th></th>\n",
              "      <th>user_id</th>\n",
              "      <th>id_tweet</th>\n",
              "      <th>tweet</th>\n",
              "      <th>retweet_count</th>\n",
              "      <th>favorite_count</th>\n",
              "      <th>label_liability</th>\n",
              "    </tr>\n",
              "  </thead>\n",
              "  <tbody>\n",
              "    <tr>\n",
              "      <th>0</th>\n",
              "      <td>78957336</td>\n",
              "      <td>1463883925227507722</td>\n",
              "      <td>🧐 Parfois, les soutiens viennent de là où on n...</td>\n",
              "      <td>57</td>\n",
              "      <td>149</td>\n",
              "      <td>5</td>\n",
              "    </tr>\n",
              "  </tbody>\n",
              "</table>\n",
              "</div>"
            ],
            "text/plain": [
              "    user_id             id_tweet  ... favorite_count  label_liability\n",
              "0  78957336  1463883925227507722  ...            149                5\n",
              "\n",
              "[1 rows x 6 columns]"
            ]
          },
          "metadata": {},
          "execution_count": 59
        }
      ]
    },
    {
      "cell_type": "code",
      "metadata": {
        "id": "k9UZ8VfEIlXP"
      },
      "source": [
        "import pickle\n",
        "\n",
        "with open(DATA_PATH+\"PaucBas.pickle\", \"ab\") as obj_file:\n",
        "  for site in fake_news_twitter:\n",
        "    user = TwitterUser(sname= fake_news_twitter[site])\n",
        "    user.get_all_data()\n",
        "    pickle.dump([user], obj_file, pickle.HIGHEST_PROTOCOL)\n",
        "    # print(fake_news_twitter[site])"
      ],
      "execution_count": null,
      "outputs": []
    },
    {
      "cell_type": "markdown",
      "metadata": {
        "id": "R6o2_X6TRlMD"
      },
      "source": [
        "#Problème au bloc juste au-dessus, ThierryRegenere :\n",
        "\n",
        "\n",
        "*TweepError: [{'code': 63, 'message': 'User has been suspended.'}]*\n",
        "\n",
        "possibilité que l'un des tweets de ThierryRegenere soit une réponse à un autre tweet provenant d'un compte suspendu. Je ne suis pas sûr de comment corriger ça."
      ]
    },
    {
      "cell_type": "code",
      "metadata": {
        "id": "hC09RVl4pjHf"
      },
      "source": [
        "import pickle\n",
        "\n",
        "with open(DATA_PATH+\"PaucBas.pickle\", \"wb\") as obj_file:\n",
        "    pickle.dump([test], obj_file, -1)"
      ],
      "execution_count": 61,
      "outputs": []
    },
    {
      "cell_type": "code",
      "metadata": {
        "id": "Jo1XqxdVpjHg"
      },
      "source": [
        "with open(DATA_PATH+\"PaucBas.pickle\", \"rb\") as obj_file:\n",
        "    fic = pickle.load(obj_file)"
      ],
      "execution_count": 62,
      "outputs": []
    },
    {
      "cell_type": "code",
      "metadata": {
        "id": "jeq7kaGBAJLc"
      },
      "source": [
        "#Test pour essayer de récupérer le texte des tweets\n",
        "\n",
        "# status_list = test[0].tweet\n",
        "# test2 = [status._json['text'] for status in status_list]\n",
        "# test2"
      ],
      "execution_count": 63,
      "outputs": []
    },
    {
      "cell_type": "code",
      "metadata": {
        "colab": {
          "base_uri": "https://localhost:8080/"
        },
        "id": "wKozVStu5MRm",
        "outputId": "7eb08753-cb24-4407-9ba0-6b36f32f358a"
      },
      "source": [
        "objects = []\n",
        "with (open(DATA_PATH+\"PaucBas.pickle\", \"rb\")) as openfile:\n",
        "    while True:\n",
        "        try:\n",
        "            objects.append(pickle.load(openfile))\n",
        "        except EOFError:\n",
        "            break\n",
        "\n",
        "objects"
      ],
      "execution_count": 64,
      "outputs": [
        {
          "output_type": "execute_result",
          "data": {
            "text/plain": [
              "[[<__main__.TwitterUser at 0x7ff39e5172d0>]]"
            ]
          },
          "metadata": {},
          "execution_count": 64
        }
      ]
    },
    {
      "cell_type": "code",
      "metadata": {
        "id": "qOYCILG9pjHg"
      },
      "source": [
        "import json\n",
        "\n",
        "with open(DATA_PATH+\"links.json\", \"w\") as file: \n",
        "    file.write(json.dumps(fake_news_twitter))"
      ],
      "execution_count": 65,
      "outputs": []
    }
  ]
}