{
  "nbformat": 4,
  "nbformat_minor": 0,
  "metadata": {
    "colab": {
      "name": "Nettoyages des tweets.ipynb",
      "provenance": [],
      "authorship_tag": "ABX9TyN7CUNvRQ3OIswN1SHeGqhq",
      "include_colab_link": true
    },
    "kernelspec": {
      "name": "python3",
      "display_name": "Python 3"
    },
    "language_info": {
      "name": "python"
    }
  },
  "cells": [
    {
      "cell_type": "markdown",
      "metadata": {
        "id": "view-in-github",
        "colab_type": "text"
      },
      "source": [
        "<a href=\"https://colab.research.google.com/github/anjunjin/PFE-ING3-IA/blob/master/Nettoyages_des_tweets.ipynb\" target=\"_parent\"><img src=\"https://colab.research.google.com/assets/colab-badge.svg\" alt=\"Open In Colab\"/></a>"
      ]
    },
    {
      "cell_type": "markdown",
      "source": [
        "On peut Définir la seed pour que l'aléatoire soit consistant entre exécution"
      ],
      "metadata": {
        "id": "Cdpvv3OsmMj5"
      }
    },
    {
      "cell_type": "code",
      "source": [
        "seed=42"
      ],
      "metadata": {
        "id": "UXpOchRRmLZK"
      },
      "execution_count": 29,
      "outputs": []
    },
    {
      "cell_type": "markdown",
      "source": [
        "Les pip install"
      ],
      "metadata": {
        "id": "92QCLoB3mXxV"
      }
    },
    {
      "cell_type": "code",
      "execution_count": 30,
      "metadata": {
        "colab": {
          "base_uri": "https://localhost:8080/"
        },
        "id": "WajgswJFgcNy",
        "outputId": "0ea6214a-7a70-4ae5-d105-8afbe379c006"
      },
      "outputs": [
        {
          "output_type": "stream",
          "name": "stdout",
          "text": [
            "Requirement already satisfied: pandas in /usr/local/lib/python3.7/dist-packages (1.3.5)\n",
            "Requirement already satisfied: python-dateutil>=2.7.3 in /usr/local/lib/python3.7/dist-packages (from pandas) (2.8.2)\n",
            "Requirement already satisfied: pytz>=2017.3 in /usr/local/lib/python3.7/dist-packages (from pandas) (2018.9)\n",
            "Requirement already satisfied: numpy>=1.17.3 in /usr/local/lib/python3.7/dist-packages (from pandas) (1.19.5)\n",
            "Requirement already satisfied: six>=1.5 in /usr/local/lib/python3.7/dist-packages (from python-dateutil>=2.7.3->pandas) (1.15.0)\n"
          ]
        }
      ],
      "source": [
        "%pip install --upgrade pandas"
      ]
    },
    {
      "cell_type": "code",
      "source": [
        "pip install emot --upgrade"
      ],
      "metadata": {
        "colab": {
          "base_uri": "https://localhost:8080/"
        },
        "id": "hY2_ZNlvjgqH",
        "outputId": "4978650b-4b61-4eb5-981f-0911fb9e7b15"
      },
      "execution_count": 31,
      "outputs": [
        {
          "output_type": "stream",
          "name": "stdout",
          "text": [
            "Requirement already satisfied: emot in /usr/local/lib/python3.7/dist-packages (3.1)\n"
          ]
        }
      ]
    },
    {
      "cell_type": "code",
      "source": [
        "import pickle\n",
        "import pandas as pd\n",
        "from google.colab import drive\n",
        "\n",
        "drive.mount('/content/drive')\n",
        "DATA_PATH = \"/content/drive/My Drive/PFE/\"\n",
        "with open(DATA_PATH+\"data_tweets.txt\", \"rb\") as file :  \n",
        "    data_tweets = pickle.load(file)"
      ],
      "metadata": {
        "colab": {
          "base_uri": "https://localhost:8080/"
        },
        "id": "wcyl1xW8gze5",
        "outputId": "bce0ad7e-b248-4fa5-dca7-f153c5be248d"
      },
      "execution_count": 32,
      "outputs": [
        {
          "output_type": "stream",
          "name": "stdout",
          "text": [
            "Drive already mounted at /content/drive; to attempt to forcibly remount, call drive.mount(\"/content/drive\", force_remount=True).\n"
          ]
        }
      ]
    },
    {
      "cell_type": "code",
      "source": [
        "import emot\n",
        "import re\n",
        "import numpy as np"
      ],
      "metadata": {
        "id": "NgbU9GTWjh6P"
      },
      "execution_count": 33,
      "outputs": []
    },
    {
      "cell_type": "markdown",
      "source": [
        "On retire les tweets parodiques (je ne sais pas si c'est toujours utile parce que juste en dessous je fais un truc équivalent)"
      ],
      "metadata": {
        "id": "6wkummxUh5P2"
      }
    },
    {
      "cell_type": "code",
      "source": [
        "data_tweets_sans_parodiques = data_tweets.copy()\n",
        "data_tweets_sans_parodiques = data_tweets_sans_parodiques.drop(data_tweets_sans_parodiques[data_tweets_sans_parodiques.liability == 1].index)\n",
        "data_tweets_sans_parodiques = data_tweets_sans_parodiques.reset_index(drop=True)"
      ],
      "metadata": {
        "id": "O_9nm4skh7LR"
      },
      "execution_count": 34,
      "outputs": []
    },
    {
      "cell_type": "markdown",
      "source": [
        "On sélectionne aléatoirement 10000 pour chaque catégories restantes"
      ],
      "metadata": {
        "id": "8LIsyiSbmev1"
      }
    },
    {
      "cell_type": "code",
      "source": [
        "# Création des groupes à comparer\n",
        "notfiables = [2] #Groupe des non fiables\n",
        "df_notfiables = data_tweets[data_tweets['liability'].isin(notfiables)]\n",
        "maybefiables = [3] #Groupe peut-être fiable\n",
        "df_maybefiables = data_tweets[data_tweets['liability'].isin(maybefiables)]\n",
        "isfiables = [4] #Groupe des fiables\n",
        "df_isfiables = data_tweets[data_tweets['liability'].isin(isfiables)]"
      ],
      "metadata": {
        "id": "yo6zF2LRmkXd"
      },
      "execution_count": 35,
      "outputs": []
    },
    {
      "cell_type": "code",
      "source": [
        "np.random.default_rng(seed)\n",
        "#Faire un random seed dans random.choice pour conservé\n",
        "\n",
        "#10000 tweets non fiables sélectionnés aléatoirement\n",
        "remove_n = df_notfiables.shape[0]-10000\n",
        "drop_indices = np.random.choice(df_notfiables.index, remove_n, replace=False)\n",
        "df_notfiables = df_notfiables.drop(drop_indices)\n",
        "#10000 tweets peut-être fiables sélectionnés aléatoirement\n",
        "remove_n = df_maybefiables.shape[0]-10000\n",
        "drop_indices = np.random.choice(df_maybefiables.index, remove_n, replace=False)\n",
        "df_maybefiables = df_maybefiables.drop(drop_indices)\n",
        "#10000 tweets fiables sélectionnés aléatoirement\n",
        "remove_n = df_isfiables.shape[0]-10000\n",
        "drop_indices = np.random.choice(df_isfiables.index, remove_n, replace=False)\n",
        "df_isfiables = df_isfiables.drop(drop_indices)"
      ],
      "metadata": {
        "id": "8G_cTL3amrEO"
      },
      "execution_count": 36,
      "outputs": []
    },
    {
      "cell_type": "code",
      "source": [
        "df_notfiables['liability'] = 1\n",
        "df_maybefiables['liability'] = df_notfiables['liability'].iloc[0]\n",
        "df_isfiables['liability'] = 0\n",
        "df_notfiables['liability_label'] = 'site plutôt douteux'\n",
        "df_maybefiables['liability_label'] = df_notfiables['liability_label'].iloc[0]\n",
        "df_isfiables['liability_label'] = 'site plutôt fiable'"
      ],
      "metadata": {
        "id": "0l7p2s3rmuo6"
      },
      "execution_count": 37,
      "outputs": []
    },
    {
      "cell_type": "code",
      "source": [
        "# df_group = pd.concat([df_notfiables, df_isfiables]) #fausse informations vs fiable\n",
        "# df_group = pd.concat([df_maybefiables, df_isfiables]) #fiabilité douteuse vs fiable\n",
        "# df_group = pd.concat([df_notfiables, df_maybefiables]) #fausse informations vs fiabilité douteuse; Attention, dans la suite du programme les noms peuvent sembler bizarre pour cette ligne\n",
        "df_group = pd.concat([df_notfiables.head(5000), df_maybefiables.head(5000), df_isfiables]) #faux+doute vs fiable\n",
        "\n",
        "df_group = df_group.drop(columns=['user_id',\n",
        "                                  'id_tweet',\n",
        "                                  'created_at',\n",
        "                                  'retweet_count',\n",
        "                                  'favorite_count',\n",
        "                                  'count_followers'\n",
        "                                  ]\n",
        "                         ).reset_index(drop=True)\n",
        "\n",
        "df_group = df_group[['liability', \n",
        "                     'liability_label', \n",
        "                     'tweet', \n",
        "                     'description',\n",
        "                     'user_screen_name'\n",
        "                     ]]"
      ],
      "metadata": {
        "id": "g5yfCPr2mwTV"
      },
      "execution_count": 38,
      "outputs": []
    },
    {
      "cell_type": "code",
      "source": [
        "df_group"
      ],
      "metadata": {
        "colab": {
          "base_uri": "https://localhost:8080/",
          "height": 424
        },
        "id": "SAGhP1DmnZ7l",
        "outputId": "ed41e3aa-10e6-4329-8b7b-610fbeb8440b"
      },
      "execution_count": 39,
      "outputs": [
        {
          "output_type": "execute_result",
          "data": {
            "text/html": [
              "\n",
              "  <div id=\"df-ea2d7471-02d2-4bf7-8e66-345f409c1fee\">\n",
              "    <div class=\"colab-df-container\">\n",
              "      <div>\n",
              "<style scoped>\n",
              "    .dataframe tbody tr th:only-of-type {\n",
              "        vertical-align: middle;\n",
              "    }\n",
              "\n",
              "    .dataframe tbody tr th {\n",
              "        vertical-align: top;\n",
              "    }\n",
              "\n",
              "    .dataframe thead th {\n",
              "        text-align: right;\n",
              "    }\n",
              "</style>\n",
              "<table border=\"1\" class=\"dataframe\">\n",
              "  <thead>\n",
              "    <tr style=\"text-align: right;\">\n",
              "      <th></th>\n",
              "      <th>liability</th>\n",
              "      <th>liability_label</th>\n",
              "      <th>tweet</th>\n",
              "      <th>description</th>\n",
              "      <th>user_screen_name</th>\n",
              "    </tr>\n",
              "  </thead>\n",
              "  <tbody>\n",
              "    <tr>\n",
              "      <th>0</th>\n",
              "      <td>1</td>\n",
              "      <td>site plutôt douteux</td>\n",
              "      <td>RT @DIVIZIO1: Recours déposé !</td>\n",
              "      <td>France-Soir était un journal fondé par Pierre ...</td>\n",
              "      <td>france_soir</td>\n",
              "    </tr>\n",
              "    <tr>\n",
              "      <th>1</th>\n",
              "      <td>1</td>\n",
              "      <td>site plutôt douteux</td>\n",
              "      <td>L’entretien complet : https://t.co/0EDJwyvqsM</td>\n",
              "      <td>France-Soir était un journal fondé par Pierre ...</td>\n",
              "      <td>france_soir</td>\n",
              "    </tr>\n",
              "    <tr>\n",
              "      <th>2</th>\n",
              "      <td>1</td>\n",
              "      <td>site plutôt douteux</td>\n",
              "      <td>BEST OF - 🎙️ En Guadeloupe, Me Ellen Bessis et...</td>\n",
              "      <td>France-Soir était un journal fondé par Pierre ...</td>\n",
              "      <td>france_soir</td>\n",
              "    </tr>\n",
              "    <tr>\n",
              "      <th>3</th>\n",
              "      <td>1</td>\n",
              "      <td>site plutôt douteux</td>\n",
              "      <td>RT @CStrateges: Juste pour information…regarde...</td>\n",
              "      <td>France-Soir était un journal fondé par Pierre ...</td>\n",
              "      <td>france_soir</td>\n",
              "    </tr>\n",
              "    <tr>\n",
              "      <th>4</th>\n",
              "      <td>1</td>\n",
              "      <td>site plutôt douteux</td>\n",
              "      <td>🎙️Sylviane Noël s'était opposée frontalement a...</td>\n",
              "      <td>France-Soir était un journal fondé par Pierre ...</td>\n",
              "      <td>france_soir</td>\n",
              "    </tr>\n",
              "    <tr>\n",
              "      <th>...</th>\n",
              "      <td>...</td>\n",
              "      <td>...</td>\n",
              "      <td>...</td>\n",
              "      <td>...</td>\n",
              "      <td>...</td>\n",
              "    </tr>\n",
              "    <tr>\n",
              "      <th>19995</th>\n",
              "      <td>0</td>\n",
              "      <td>site plutôt fiable</td>\n",
              "      <td>Routinely adjusting your bike brakes will help...</td>\n",
              "      <td>Un site qui donne des conseils et astuces sur ...</td>\n",
              "      <td>wikiHow</td>\n",
              "    </tr>\n",
              "    <tr>\n",
              "      <th>19996</th>\n",
              "      <td>0</td>\n",
              "      <td>site plutôt fiable</td>\n",
              "      <td>#wikitips https://t.co/owfBGGtsns https://t.co...</td>\n",
              "      <td>Un site qui donne des conseils et astuces sur ...</td>\n",
              "      <td>wikiHow</td>\n",
              "    </tr>\n",
              "    <tr>\n",
              "      <th>19997</th>\n",
              "      <td>0</td>\n",
              "      <td>site plutôt fiable</td>\n",
              "      <td>Drink wine with the 4 S's in mind:\\n1) See it....</td>\n",
              "      <td>Un site qui donne des conseils et astuces sur ...</td>\n",
              "      <td>wikiHow</td>\n",
              "    </tr>\n",
              "    <tr>\n",
              "      <th>19998</th>\n",
              "      <td>0</td>\n",
              "      <td>site plutôt fiable</td>\n",
              "      <td>Rrrruuuuuunnnnnn, Forrreeesssst! https://t.co/...</td>\n",
              "      <td>Un site qui donne des conseils et astuces sur ...</td>\n",
              "      <td>wikiHow</td>\n",
              "    </tr>\n",
              "    <tr>\n",
              "      <th>19999</th>\n",
              "      <td>0</td>\n",
              "      <td>site plutôt fiable</td>\n",
              "      <td>\"Gumbo\" translates to \"okra,\" wich is the thic...</td>\n",
              "      <td>Un site qui donne des conseils et astuces sur ...</td>\n",
              "      <td>wikiHow</td>\n",
              "    </tr>\n",
              "  </tbody>\n",
              "</table>\n",
              "<p>20000 rows × 5 columns</p>\n",
              "</div>\n",
              "      <button class=\"colab-df-convert\" onclick=\"convertToInteractive('df-ea2d7471-02d2-4bf7-8e66-345f409c1fee')\"\n",
              "              title=\"Convert this dataframe to an interactive table.\"\n",
              "              style=\"display:none;\">\n",
              "        \n",
              "  <svg xmlns=\"http://www.w3.org/2000/svg\" height=\"24px\"viewBox=\"0 0 24 24\"\n",
              "       width=\"24px\">\n",
              "    <path d=\"M0 0h24v24H0V0z\" fill=\"none\"/>\n",
              "    <path d=\"M18.56 5.44l.94 2.06.94-2.06 2.06-.94-2.06-.94-.94-2.06-.94 2.06-2.06.94zm-11 1L8.5 8.5l.94-2.06 2.06-.94-2.06-.94L8.5 2.5l-.94 2.06-2.06.94zm10 10l.94 2.06.94-2.06 2.06-.94-2.06-.94-.94-2.06-.94 2.06-2.06.94z\"/><path d=\"M17.41 7.96l-1.37-1.37c-.4-.4-.92-.59-1.43-.59-.52 0-1.04.2-1.43.59L10.3 9.45l-7.72 7.72c-.78.78-.78 2.05 0 2.83L4 21.41c.39.39.9.59 1.41.59.51 0 1.02-.2 1.41-.59l7.78-7.78 2.81-2.81c.8-.78.8-2.07 0-2.86zM5.41 20L4 18.59l7.72-7.72 1.47 1.35L5.41 20z\"/>\n",
              "  </svg>\n",
              "      </button>\n",
              "      \n",
              "  <style>\n",
              "    .colab-df-container {\n",
              "      display:flex;\n",
              "      flex-wrap:wrap;\n",
              "      gap: 12px;\n",
              "    }\n",
              "\n",
              "    .colab-df-convert {\n",
              "      background-color: #E8F0FE;\n",
              "      border: none;\n",
              "      border-radius: 50%;\n",
              "      cursor: pointer;\n",
              "      display: none;\n",
              "      fill: #1967D2;\n",
              "      height: 32px;\n",
              "      padding: 0 0 0 0;\n",
              "      width: 32px;\n",
              "    }\n",
              "\n",
              "    .colab-df-convert:hover {\n",
              "      background-color: #E2EBFA;\n",
              "      box-shadow: 0px 1px 2px rgba(60, 64, 67, 0.3), 0px 1px 3px 1px rgba(60, 64, 67, 0.15);\n",
              "      fill: #174EA6;\n",
              "    }\n",
              "\n",
              "    [theme=dark] .colab-df-convert {\n",
              "      background-color: #3B4455;\n",
              "      fill: #D2E3FC;\n",
              "    }\n",
              "\n",
              "    [theme=dark] .colab-df-convert:hover {\n",
              "      background-color: #434B5C;\n",
              "      box-shadow: 0px 1px 3px 1px rgba(0, 0, 0, 0.15);\n",
              "      filter: drop-shadow(0px 1px 2px rgba(0, 0, 0, 0.3));\n",
              "      fill: #FFFFFF;\n",
              "    }\n",
              "  </style>\n",
              "\n",
              "      <script>\n",
              "        const buttonEl =\n",
              "          document.querySelector('#df-ea2d7471-02d2-4bf7-8e66-345f409c1fee button.colab-df-convert');\n",
              "        buttonEl.style.display =\n",
              "          google.colab.kernel.accessAllowed ? 'block' : 'none';\n",
              "\n",
              "        async function convertToInteractive(key) {\n",
              "          const element = document.querySelector('#df-ea2d7471-02d2-4bf7-8e66-345f409c1fee');\n",
              "          const dataTable =\n",
              "            await google.colab.kernel.invokeFunction('convertToInteractive',\n",
              "                                                     [key], {});\n",
              "          if (!dataTable) return;\n",
              "\n",
              "          const docLinkHtml = 'Like what you see? Visit the ' +\n",
              "            '<a target=\"_blank\" href=https://colab.research.google.com/notebooks/data_table.ipynb>data table notebook</a>'\n",
              "            + ' to learn more about interactive tables.';\n",
              "          element.innerHTML = '';\n",
              "          dataTable['output_type'] = 'display_data';\n",
              "          await google.colab.output.renderOutput(dataTable, element);\n",
              "          const docLink = document.createElement('div');\n",
              "          docLink.innerHTML = docLinkHtml;\n",
              "          element.appendChild(docLink);\n",
              "        }\n",
              "      </script>\n",
              "    </div>\n",
              "  </div>\n",
              "  "
            ],
            "text/plain": [
              "       liability  ... user_screen_name\n",
              "0              1  ...      france_soir\n",
              "1              1  ...      france_soir\n",
              "2              1  ...      france_soir\n",
              "3              1  ...      france_soir\n",
              "4              1  ...      france_soir\n",
              "...          ...  ...              ...\n",
              "19995          0  ...          wikiHow\n",
              "19996          0  ...          wikiHow\n",
              "19997          0  ...          wikiHow\n",
              "19998          0  ...          wikiHow\n",
              "19999          0  ...          wikiHow\n",
              "\n",
              "[20000 rows x 5 columns]"
            ]
          },
          "metadata": {},
          "execution_count": 39
        }
      ]
    },
    {
      "cell_type": "markdown",
      "source": [
        "Supression des tweets anglais et italiens. "
      ],
      "metadata": {
        "id": "FpzxZMCHUjEs"
      }
    },
    {
      "cell_type": "code",
      "source": [
        "! pip install stop-words"
      ],
      "metadata": {
        "id": "S6U_4cdjUnDb"
      },
      "execution_count": null,
      "outputs": []
    },
    {
      "cell_type": "code",
      "source": [
        "#On récupère les stopwords italiens et anglais\n",
        "from stop_words import get_stop_words\n",
        "stop_words_en = get_stop_words('en')\n",
        "stop_words_it = get_stop_words('it')"
      ],
      "metadata": {
        "id": "YTAiu8KCUogQ"
      },
      "execution_count": null,
      "outputs": []
    },
    {
      "cell_type": "code",
      "source": [
        "#On enlève les mots italiens trop commun avec des mots français pour éviter la confusion\n",
        "stop_words_it.remove('tu')\n",
        "stop_words_it.remove('un')\n",
        "stop_words_it.remove('lui')\n",
        "stop_words_it.remove('ma')\n",
        "stop_words_it.remove('non')\n",
        "stop_words_it.remove('si')\n",
        "stop_words_it.remove('se')\n",
        "stop_words_it.remove('qui')\n",
        "stop_words_it.remove('te')\n",
        "stop_words_it.remove('sui')\n",
        "stop_words_it.remove('c')\n",
        "stop_words_it.remove('e')\n",
        "stop_words_it.remove('i')\n",
        "stop_words_it.remove('l')\n",
        "stop_words_it.remove('o')\n",
        "stop_words_it.remove('è')\n",
        "stop_words_it.remove('a')\n",
        "stop_words_it.remove('le')\n",
        "stop_words_it.remove('la')\n",
        "stop_words_it.remove('il')"
      ],
      "metadata": {
        "id": "SD-irvb8Upxv"
      },
      "execution_count": null,
      "outputs": []
    },
    {
      "cell_type": "code",
      "source": [
        "#Fonction pour détecter si la phrase est oui ou non italienne ou anglaise\n",
        "def detect_language(tweet):\n",
        "  tweet_toLow = tweet.lower()\n",
        "  tweetList = tweet_toLow.split(\" \")\n",
        "  nbCommon_en = len(list(set(tweetList)&set(stop_words_en)))\n",
        "  nbCommon_it = len(list(set(tweetList)&set(stop_words_it)))\n",
        "  if nbCommon_en > 2 or nbCommon_it > 2:\n",
        "    return True\n",
        "  else: \n",
        "    return False\n",
        "  "
      ],
      "metadata": {
        "id": "nbprvNE-Urh3"
      },
      "execution_count": null,
      "outputs": []
    },
    {
      "cell_type": "code",
      "source": [
        "#On supprime les éléments de la dataframe présentant des tweets anglais ou italiens\n",
        "df_indexs= []\n",
        "c = 0\n",
        "for sentence in df_group['tweet']: \n",
        "  if detect_language(sentence):\n",
        "      df_indexs.append(c)\n",
        "  c = c+1\n",
        "df_group = df_group.drop(labels=df_indexs, axis=0) \n",
        "df_group = df_group.reset_index(drop=True)"
      ],
      "metadata": {
        "id": "79cG41BwUvDD"
      },
      "execution_count": null,
      "outputs": []
    },
    {
      "cell_type": "markdown",
      "source": [
        "On sauvegarde le nettoyage des tweets dans un autre tableau"
      ],
      "metadata": {
        "id": "zxmUYPR3hB8D"
      }
    },
    {
      "cell_type": "code",
      "source": [
        "# df_tweets_clean = pd.DataFrame()\n",
        "# df_tweets_clean['tweet'] = pd.DataFrame(df_group['tweet'])\n",
        "df_tweets_clean = pd.DataFrame(df_group)\n",
        "\n",
        "# reset index \n",
        "# df_tweets_clean.reset_index(drop=True)\n",
        "\n",
        "# Mettre les mots en minuscule\n",
        "# df_tweets_clean['minuscule'] = df_tweets_clean['tweet'].apply(lambda x : x.lower()) \n",
        "df_tweets_clean['tweet'] = df_tweets_clean['tweet'].apply(lambda x : x.lower()) "
      ],
      "metadata": {
        "id": "urZ0HPKKhENZ"
      },
      "execution_count": 41,
      "outputs": []
    },
    {
      "cell_type": "code",
      "source": [
        "# nettoyer hashtag #\n",
        "# df_tweets_clean['nettoyer #'] = df_tweets_clean['minuscule'].apply(lambda x : re.sub(r\"#\\w+\", \"\", x))\n",
        "df_tweets_clean['tweet'] = df_tweets_clean['tweet'].apply(lambda x : re.sub(r\"#\\w+\", \"\", x))"
      ],
      "metadata": {
        "id": "2A8e5bdIjJN-"
      },
      "execution_count": 42,
      "outputs": []
    },
    {
      "cell_type": "code",
      "source": [
        "# nettoyer @\n",
        "# df_tweets_clean['nettoyer @'] = df_tweets_clean['nettoyer #'].apply(lambda x : re.sub(r\"@\\w+\", \"\", x))\n",
        "df_tweets_clean['tweet'] = df_tweets_clean['tweet'].apply(lambda x : re.sub(r\"@\\w+\", \"\", x))"
      ],
      "metadata": {
        "id": "ryWvDMR0jKmD"
      },
      "execution_count": 43,
      "outputs": []
    },
    {
      "cell_type": "code",
      "source": [
        "# transformation des liens internet en \"desident_link\"\n",
        "# df_tweets_clean['liens'] = df_tweets_clean['nettoyer @'].apply(lambda x : re.sub(r\"https://t.co/[a-zA-Z\\u00c0-\\u00FF0-9]+\", \"desident_link\", x))\n",
        "df_tweets_clean['tweet'] = df_tweets_clean['tweet'].apply(lambda x : re.sub(r\"https://t.co/[a-zA-Z\\u00c0-\\u00FF0-9]+\", \"desident_link\", x))"
      ],
      "metadata": {
        "id": "YDeA9XWvjMLH"
      },
      "execution_count": 44,
      "outputs": []
    },
    {
      "cell_type": "code",
      "source": [
        "# transformation des ! en \"desident_exclamation\"\n",
        "# df_tweets_clean['nettoyer !'] = df_tweets_clean['liens'].apply(lambda x : re.sub(r\"!\", \"desident_exclamation\", x))\n",
        "df_tweets_clean['tweet'] = df_tweets_clean['tweet'].apply(lambda x : re.sub(r\"!\", \"desident_exclamation\", x))"
      ],
      "metadata": {
        "id": "0XhmMCcdjNpf"
      },
      "execution_count": 45,
      "outputs": []
    },
    {
      "cell_type": "code",
      "source": [
        "# transformation des ? en \"desident_exclamation\"\n",
        "# df_tweets_clean['nettoyer ?'] = df_tweets_clean['nettoyer !'].apply(lambda x : re.sub(r\"[?]\", \"desident_question\", x))\n",
        "df_tweets_clean['tweet'] = df_tweets_clean['tweet'].apply(lambda x : re.sub(r\"[?]\", \"desident_question\", x))"
      ],
      "metadata": {
        "id": "xzWT4n93jPM6"
      },
      "execution_count": 46,
      "outputs": []
    },
    {
      "cell_type": "code",
      "source": [
        "# fonction nettoyer ponctuation\n",
        "import string\n",
        "def Remove_Punctuation(text):\n",
        "    result = \"\".join([ch for ch in text if ch not in string.punctuation])\n",
        "    return result"
      ],
      "metadata": {
        "id": "9xx76NwYjQmc"
      },
      "execution_count": 47,
      "outputs": []
    },
    {
      "cell_type": "code",
      "source": [
        "# nettoyer les ponctuation\n",
        "# df_tweets_clean['nettoyer ponctuaction'] = df_tweets_clean['nettoyer ?'].apply(lambda x: Remove_Punctuation(x))\n",
        "df_tweets_clean['tweet'] = df_tweets_clean['tweet'].apply(lambda x: Remove_Punctuation(x))"
      ],
      "metadata": {
        "id": "nknKiB3tjSqv"
      },
      "execution_count": 48,
      "outputs": []
    },
    {
      "cell_type": "markdown",
      "source": [
        "Suppression des dates"
      ],
      "metadata": {
        "id": "vjpIt_8zVR3z"
      }
    },
    {
      "cell_type": "code",
      "source": [
        "def replace_patterns(tweet):\n",
        "\n",
        "patterns_jour = ['lundi', 'mardi', 'mercredi', 'jeudi', 'vendredi', 'samedi', 'dimanche']\n",
        "patterns_mois = ['janvier', 'février', 'fevrier', 'mars', 'avril', 'mai', 'juin', 'juillet', 'août', 'aout', 'septembre', 'octobre', 'décembre', 'decembre']\n",
        "patterns_date = patterns_jour+patterns_mois+\n",
        "                ['matin', 'midi', 'soir', 'nuit',\n",
        "                '202[0-9]']\n",
        "# triple boucle pour faire des dates entières\n",
        "for pattern in patterns_date:\n",
        "  tweet = re.sub(pattern, 'desident_date', tweet)\n",
        "return tweet"
      ],
      "metadata": {
        "id": "7bZNnSp5VTuw"
      },
      "execution_count": null,
      "outputs": []
    },
    {
      "cell_type": "markdown",
      "source": [
        "Suppression des émojis"
      ],
      "metadata": {
        "id": "l8VmBK--VlEH"
      }
    },
    {
      "cell_type": "code",
      "source": [
        "# fonction (convert_emojis_to_text) : convertir les emojis en texte\n",
        "# Entrée : text(un tweet)\n",
        "# Sortie : text(après convertir)\n",
        "def convert_emojis_to_text(text):\n",
        "  # créer un objet : emot_obj \n",
        "  emot_obj = emot.core.emot()\n",
        "  # les informations sont dans ce objet.emoji \n",
        "  emoji = emot_obj.emoji(text)\n",
        "  # print('List emoji :     ', emoji) \n",
        "  \n",
        "  # print('Text original :                 ', text)\n",
        "\n",
        "  for i in range(len(emoji['value'])):\n",
        "    text = re.sub(emoji['value'][i], \"desident_emot_\"+emoji['mean'][i], text)\n",
        "    # Enlever les :\n",
        "    text = re.sub(r':', '', text)\n",
        "\n",
        "  # print('Text(convert emoji into text) : ', text)\n",
        "  \n",
        "  return text"
      ],
      "metadata": {
        "id": "lMZu2YsSjjWv"
      },
      "execution_count": 49,
      "outputs": []
    },
    {
      "cell_type": "code",
      "source": [
        "# nettoyer les ponctuation\n",
        "# df_tweets_clean['emoji'] = df_tweets_clean['nettoyer ponctuaction'].apply(lambda x: convert_emojis_to_text(x))\n",
        "df_tweets_clean['tweet'] = df_tweets_clean['tweet'].apply(lambda x: convert_emojis_to_text(x))"
      ],
      "metadata": {
        "id": "kVGq6TddjuRA"
      },
      "execution_count": 50,
      "outputs": []
    },
    {
      "cell_type": "code",
      "source": [
        "df_group.head(10)"
      ],
      "metadata": {
        "colab": {
          "base_uri": "https://localhost:8080/",
          "height": 1150
        },
        "id": "GnGp-3oTj1NG",
        "outputId": "ead309da-eac9-4c62-aa47-853c95722764"
      },
      "execution_count": 53,
      "outputs": [
        {
          "output_type": "execute_result",
          "data": {
            "text/html": [
              "\n",
              "  <div id=\"df-9238bd8d-a5d9-4a67-a279-a3737692d49a\">\n",
              "    <div class=\"colab-df-container\">\n",
              "      <div>\n",
              "<style scoped>\n",
              "    .dataframe tbody tr th:only-of-type {\n",
              "        vertical-align: middle;\n",
              "    }\n",
              "\n",
              "    .dataframe tbody tr th {\n",
              "        vertical-align: top;\n",
              "    }\n",
              "\n",
              "    .dataframe thead th {\n",
              "        text-align: right;\n",
              "    }\n",
              "</style>\n",
              "<table border=\"1\" class=\"dataframe\">\n",
              "  <thead>\n",
              "    <tr style=\"text-align: right;\">\n",
              "      <th></th>\n",
              "      <th>liability</th>\n",
              "      <th>liability_label</th>\n",
              "      <th>tweet</th>\n",
              "      <th>description</th>\n",
              "      <th>user_screen_name</th>\n",
              "    </tr>\n",
              "  </thead>\n",
              "  <tbody>\n",
              "    <tr>\n",
              "      <th>0</th>\n",
              "      <td>1</td>\n",
              "      <td>site plutôt douteux</td>\n",
              "      <td>rt  recours déposé desidentexclamation</td>\n",
              "      <td>France-Soir était un journal fondé par Pierre ...</td>\n",
              "      <td>france_soir</td>\n",
              "    </tr>\n",
              "    <tr>\n",
              "      <th>1</th>\n",
              "      <td>1</td>\n",
              "      <td>site plutôt douteux</td>\n",
              "      <td>l’entretien complet  desidentlink</td>\n",
              "      <td>France-Soir était un journal fondé par Pierre ...</td>\n",
              "      <td>france_soir</td>\n",
              "    </tr>\n",
              "    <tr>\n",
              "      <th>2</th>\n",
              "      <td>1</td>\n",
              "      <td>site plutôt douteux</td>\n",
              "      <td>best of  desident_emot_studio_microphone️ en g...</td>\n",
              "      <td>France-Soir était un journal fondé par Pierre ...</td>\n",
              "      <td>france_soir</td>\n",
              "    </tr>\n",
              "    <tr>\n",
              "      <th>3</th>\n",
              "      <td>1</td>\n",
              "      <td>site plutôt douteux</td>\n",
              "      <td>rt  juste pour information…regardez en détail ...</td>\n",
              "      <td>France-Soir était un journal fondé par Pierre ...</td>\n",
              "      <td>france_soir</td>\n",
              "    </tr>\n",
              "    <tr>\n",
              "      <th>4</th>\n",
              "      <td>1</td>\n",
              "      <td>site plutôt douteux</td>\n",
              "      <td>desident_emot_studio_microphone️sylviane noël ...</td>\n",
              "      <td>France-Soir était un journal fondé par Pierre ...</td>\n",
              "      <td>france_soir</td>\n",
              "    </tr>\n",
              "    <tr>\n",
              "      <th>5</th>\n",
              "      <td>1</td>\n",
              "      <td>site plutôt douteux</td>\n",
              "      <td>desident_emot_European_Union      autant de dé...</td>\n",
              "      <td>France-Soir était un journal fondé par Pierre ...</td>\n",
              "      <td>france_soir</td>\n",
              "    </tr>\n",
              "    <tr>\n",
              "      <th>6</th>\n",
              "      <td>1</td>\n",
              "      <td>site plutôt douteux</td>\n",
              "      <td>desident_emot_microbelagitation autour du vari...</td>\n",
              "      <td>France-Soir était un journal fondé par Pierre ...</td>\n",
              "      <td>france_soir</td>\n",
              "    </tr>\n",
              "    <tr>\n",
              "      <th>7</th>\n",
              "      <td>1</td>\n",
              "      <td>site plutôt douteux</td>\n",
              "      <td>desident_emot_megaphonel’avortement n’est pas ...</td>\n",
              "      <td>France-Soir était un journal fondé par Pierre ...</td>\n",
              "      <td>france_soir</td>\n",
              "    </tr>\n",
              "    <tr>\n",
              "      <th>8</th>\n",
              "      <td>1</td>\n",
              "      <td>site plutôt douteux</td>\n",
              "      <td>desident_emot_Qatar pour la coupe du monde 202...</td>\n",
              "      <td>France-Soir était un journal fondé par Pierre ...</td>\n",
              "      <td>france_soir</td>\n",
              "    </tr>\n",
              "    <tr>\n",
              "      <th>9</th>\n",
              "      <td>1</td>\n",
              "      <td>site plutôt douteux</td>\n",
              "      <td>desident_emot_Netherlands bien que vivre dans ...</td>\n",
              "      <td>France-Soir était un journal fondé par Pierre ...</td>\n",
              "      <td>france_soir</td>\n",
              "    </tr>\n",
              "  </tbody>\n",
              "</table>\n",
              "</div>\n",
              "      <button class=\"colab-df-convert\" onclick=\"convertToInteractive('df-9238bd8d-a5d9-4a67-a279-a3737692d49a')\"\n",
              "              title=\"Convert this dataframe to an interactive table.\"\n",
              "              style=\"display:none;\">\n",
              "        \n",
              "  <svg xmlns=\"http://www.w3.org/2000/svg\" height=\"24px\"viewBox=\"0 0 24 24\"\n",
              "       width=\"24px\">\n",
              "    <path d=\"M0 0h24v24H0V0z\" fill=\"none\"/>\n",
              "    <path d=\"M18.56 5.44l.94 2.06.94-2.06 2.06-.94-2.06-.94-.94-2.06-.94 2.06-2.06.94zm-11 1L8.5 8.5l.94-2.06 2.06-.94-2.06-.94L8.5 2.5l-.94 2.06-2.06.94zm10 10l.94 2.06.94-2.06 2.06-.94-2.06-.94-.94-2.06-.94 2.06-2.06.94z\"/><path d=\"M17.41 7.96l-1.37-1.37c-.4-.4-.92-.59-1.43-.59-.52 0-1.04.2-1.43.59L10.3 9.45l-7.72 7.72c-.78.78-.78 2.05 0 2.83L4 21.41c.39.39.9.59 1.41.59.51 0 1.02-.2 1.41-.59l7.78-7.78 2.81-2.81c.8-.78.8-2.07 0-2.86zM5.41 20L4 18.59l7.72-7.72 1.47 1.35L5.41 20z\"/>\n",
              "  </svg>\n",
              "      </button>\n",
              "      \n",
              "  <style>\n",
              "    .colab-df-container {\n",
              "      display:flex;\n",
              "      flex-wrap:wrap;\n",
              "      gap: 12px;\n",
              "    }\n",
              "\n",
              "    .colab-df-convert {\n",
              "      background-color: #E8F0FE;\n",
              "      border: none;\n",
              "      border-radius: 50%;\n",
              "      cursor: pointer;\n",
              "      display: none;\n",
              "      fill: #1967D2;\n",
              "      height: 32px;\n",
              "      padding: 0 0 0 0;\n",
              "      width: 32px;\n",
              "    }\n",
              "\n",
              "    .colab-df-convert:hover {\n",
              "      background-color: #E2EBFA;\n",
              "      box-shadow: 0px 1px 2px rgba(60, 64, 67, 0.3), 0px 1px 3px 1px rgba(60, 64, 67, 0.15);\n",
              "      fill: #174EA6;\n",
              "    }\n",
              "\n",
              "    [theme=dark] .colab-df-convert {\n",
              "      background-color: #3B4455;\n",
              "      fill: #D2E3FC;\n",
              "    }\n",
              "\n",
              "    [theme=dark] .colab-df-convert:hover {\n",
              "      background-color: #434B5C;\n",
              "      box-shadow: 0px 1px 3px 1px rgba(0, 0, 0, 0.15);\n",
              "      filter: drop-shadow(0px 1px 2px rgba(0, 0, 0, 0.3));\n",
              "      fill: #FFFFFF;\n",
              "    }\n",
              "  </style>\n",
              "\n",
              "      <script>\n",
              "        const buttonEl =\n",
              "          document.querySelector('#df-9238bd8d-a5d9-4a67-a279-a3737692d49a button.colab-df-convert');\n",
              "        buttonEl.style.display =\n",
              "          google.colab.kernel.accessAllowed ? 'block' : 'none';\n",
              "\n",
              "        async function convertToInteractive(key) {\n",
              "          const element = document.querySelector('#df-9238bd8d-a5d9-4a67-a279-a3737692d49a');\n",
              "          const dataTable =\n",
              "            await google.colab.kernel.invokeFunction('convertToInteractive',\n",
              "                                                     [key], {});\n",
              "          if (!dataTable) return;\n",
              "\n",
              "          const docLinkHtml = 'Like what you see? Visit the ' +\n",
              "            '<a target=\"_blank\" href=https://colab.research.google.com/notebooks/data_table.ipynb>data table notebook</a>'\n",
              "            + ' to learn more about interactive tables.';\n",
              "          element.innerHTML = '';\n",
              "          dataTable['output_type'] = 'display_data';\n",
              "          await google.colab.output.renderOutput(dataTable, element);\n",
              "          const docLink = document.createElement('div');\n",
              "          docLink.innerHTML = docLinkHtml;\n",
              "          element.appendChild(docLink);\n",
              "        }\n",
              "      </script>\n",
              "    </div>\n",
              "  </div>\n",
              "  "
            ],
            "text/plain": [
              "   liability  ... user_screen_name\n",
              "0          1  ...      france_soir\n",
              "1          1  ...      france_soir\n",
              "2          1  ...      france_soir\n",
              "3          1  ...      france_soir\n",
              "4          1  ...      france_soir\n",
              "5          1  ...      france_soir\n",
              "6          1  ...      france_soir\n",
              "7          1  ...      france_soir\n",
              "8          1  ...      france_soir\n",
              "9          1  ...      france_soir\n",
              "\n",
              "[10 rows x 5 columns]"
            ]
          },
          "metadata": {},
          "execution_count": 53
        }
      ]
    },
    {
      "cell_type": "code",
      "source": [
        "df_tweets_clean.to_csv('Tweets_nettoyés.csv')\n",
        "!cp Tweets_nettoyés.csv \"/content/drive/My Drive/PFE\""
      ],
      "metadata": {
        "id": "YO4UaJxZRohk"
      },
      "execution_count": 52,
      "outputs": []
    }
  ]
}