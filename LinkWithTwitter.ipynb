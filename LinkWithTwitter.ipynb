{
  "nbformat": 4,
  "nbformat_minor": 0,
  "metadata": {
    "colab": {
      "name": "Tweeter & Fake News",
      "provenance": [],
      "include_colab_link": true
    },
    "kernelspec": {
      "display_name": "Python 3 (ipykernel)",
      "language": "python",
      "name": "python3"
    },
    "language_info": {
      "codemirror_mode": {
        "name": "ipython",
        "version": 3
      },
      "file_extension": ".py",
      "mimetype": "text/x-python",
      "name": "python",
      "nbconvert_exporter": "python",
      "pygments_lexer": "ipython3",
      "version": "3.9.7"
    }
  },
  "cells": [
    {
      "cell_type": "markdown",
      "metadata": {
        "id": "view-in-github",
        "colab_type": "text"
      },
      "source": [
        "<a href=\"https://colab.research.google.com/github/anjunjin/PFE-ING3-IA/blob/branch1/LinkWithTwitter.ipynb\" target=\"_parent\"><img src=\"https://colab.research.google.com/assets/colab-badge.svg\" alt=\"Open In Colab\"/></a>"
      ]
    },
    {
      "cell_type": "markdown",
      "metadata": {
        "id": "WgIMZx7EsiMn"
      },
      "source": [
        "# Tweeter & Fake news\n",
        "Notebook jupyter du projet tweeter et fake news par Arnaud Valette & Paul Planchon\n",
        "\n",
        "run the first cell once to be sure all the librairies are installed"
      ]
    },
    {
      "cell_type": "code",
      "metadata": {
        "collapsed": true,
        "tags": [],
        "id": "GWVJ5SqjpjHT",
        "colab": {
          "base_uri": "https://localhost:8080/"
        },
        "outputId": "6bdf3428-803d-4fca-fdba-02bcd260f770"
      },
      "source": [
        "!pip install tweepy pandas numpy matplotlib python-dotenv tqdm"
      ],
      "execution_count": 48,
      "outputs": [
        {
          "output_type": "stream",
          "name": "stdout",
          "text": [
            "Requirement already satisfied: tweepy in /usr/local/lib/python3.7/dist-packages (3.10.0)\n",
            "Requirement already satisfied: pandas in /usr/local/lib/python3.7/dist-packages (1.1.5)\n",
            "Requirement already satisfied: numpy in /usr/local/lib/python3.7/dist-packages (1.19.5)\n",
            "Requirement already satisfied: matplotlib in /usr/local/lib/python3.7/dist-packages (3.2.2)\n",
            "Requirement already satisfied: python-dotenv in /usr/local/lib/python3.7/dist-packages (0.19.2)\n",
            "Requirement already satisfied: tqdm in /usr/local/lib/python3.7/dist-packages (4.62.3)\n",
            "Requirement already satisfied: requests[socks]>=2.11.1 in /usr/local/lib/python3.7/dist-packages (from tweepy) (2.23.0)\n",
            "Requirement already satisfied: requests-oauthlib>=0.7.0 in /usr/local/lib/python3.7/dist-packages (from tweepy) (1.3.0)\n",
            "Requirement already satisfied: six>=1.10.0 in /usr/local/lib/python3.7/dist-packages (from tweepy) (1.15.0)\n",
            "Requirement already satisfied: oauthlib>=3.0.0 in /usr/local/lib/python3.7/dist-packages (from requests-oauthlib>=0.7.0->tweepy) (3.1.1)\n",
            "Requirement already satisfied: certifi>=2017.4.17 in /usr/local/lib/python3.7/dist-packages (from requests[socks]>=2.11.1->tweepy) (2021.10.8)\n",
            "Requirement already satisfied: chardet<4,>=3.0.2 in /usr/local/lib/python3.7/dist-packages (from requests[socks]>=2.11.1->tweepy) (3.0.4)\n",
            "Requirement already satisfied: idna<3,>=2.5 in /usr/local/lib/python3.7/dist-packages (from requests[socks]>=2.11.1->tweepy) (2.10)\n",
            "Requirement already satisfied: urllib3!=1.25.0,!=1.25.1,<1.26,>=1.21.1 in /usr/local/lib/python3.7/dist-packages (from requests[socks]>=2.11.1->tweepy) (1.24.3)\n",
            "Requirement already satisfied: PySocks!=1.5.7,>=1.5.6 in /usr/local/lib/python3.7/dist-packages (from requests[socks]>=2.11.1->tweepy) (1.7.1)\n",
            "Requirement already satisfied: pytz>=2017.2 in /usr/local/lib/python3.7/dist-packages (from pandas) (2018.9)\n",
            "Requirement already satisfied: python-dateutil>=2.7.3 in /usr/local/lib/python3.7/dist-packages (from pandas) (2.8.2)\n",
            "Requirement already satisfied: cycler>=0.10 in /usr/local/lib/python3.7/dist-packages (from matplotlib) (0.11.0)\n",
            "Requirement already satisfied: pyparsing!=2.0.4,!=2.1.2,!=2.1.6,>=2.0.1 in /usr/local/lib/python3.7/dist-packages (from matplotlib) (3.0.6)\n",
            "Requirement already satisfied: kiwisolver>=1.0.1 in /usr/local/lib/python3.7/dist-packages (from matplotlib) (1.3.2)\n"
          ]
        }
      ]
    },
    {
      "cell_type": "code",
      "metadata": {
        "id": "TQ2HXk2oshYb"
      },
      "source": [
        "import tweepy\n",
        "import pickle\n",
        "import warnings\n",
        "warnings.simplefilter(action='ignore', category=FutureWarning)\n",
        "\n",
        "import pandas as pd\n",
        "from tqdm import tqdm\n",
        "import numpy as np\n",
        "import matplotlib.pyplot as plt\n",
        "from dotenv import dotenv_values\n",
        "import requests\n",
        "from IPython.display import JSON"
      ],
      "execution_count": 49,
      "outputs": []
    },
    {
      "cell_type": "markdown",
      "metadata": {
        "id": "4VY419EhpjHY"
      },
      "source": [
        "### env vars\n",
        "in a folder `../creds` put an .env file with\n",
        "```\n",
        "API_KEY=\"\"\n",
        "API_SECRET=\"\"\n",
        "API_TOKEN=\"\"\n",
        "```\n",
        "which are the creds from twitter dev portal [twitter portal](https://developer.twitter.com/en/portal/projects/)"
      ]
    },
    {
      "cell_type": "code",
      "metadata": {
        "colab": {
          "base_uri": "https://localhost:8080/"
        },
        "id": "bylFSz2jtIVz",
        "outputId": "4093aa82-8221-42fa-84b5-93bc18307373"
      },
      "source": [
        "from google.colab import drive\n",
        "drive.mount('/content/drive')\n",
        "\n",
        "DATA_PATH = \"/content/drive/My Drive/PFE/\""
      ],
      "execution_count": 50,
      "outputs": [
        {
          "output_type": "stream",
          "name": "stdout",
          "text": [
            "Drive already mounted at /content/drive; to attempt to forcibly remount, call drive.mount(\"/content/drive\", force_remount=True).\n"
          ]
        }
      ]
    },
    {
      "cell_type": "code",
      "metadata": {
        "id": "U2JVsJRapjHZ"
      },
      "source": [
        "# env_var = dotenv_values(\"../.env\")\n",
        "# API_KEY    = env_var[\"API_KEY\"]\n",
        "# API_SECRET = env_var[\"API_SECRET\"]\n",
        "# API_TOKEN  = env_var[\"API_TOKEN\"]\n",
        "\n",
        "API_TOKEN = pd.read_csv(DATA_PATH+\"Clés.csv\", encoding='utf-8', sep=',')['Bearer Token'][0]\n",
        "API_KEY = pd.read_csv(DATA_PATH+\"Clés.csv\", encoding='utf-8', sep=',')['API Key'][0]\n",
        "API_SECRET = pd.read_csv(DATA_PATH+\"Clés.csv\", encoding='utf-8', sep=',')['API Key Secret'][0]"
      ],
      "execution_count": 51,
      "outputs": []
    },
    {
      "cell_type": "code",
      "metadata": {
        "id": "34GIIGrWpjHZ"
      },
      "source": [
        "auth = tweepy.AppAuthHandler(API_KEY, API_SECRET)\n",
        "api = tweepy.API(auth, wait_on_rate_limit=True)"
      ],
      "execution_count": 52,
      "outputs": []
    },
    {
      "cell_type": "markdown",
      "metadata": {
        "id": "cuz1dZFTpjHa"
      },
      "source": [
        "## Monde website data\n",
        "getting the JSON data from [le monde](https://www.lemonde.fr/webservice/decodex/updates) decodex updates feed\n",
        "\n",
        "### categories\n",
        " - 1: Site parodique\n",
        " - 2: Fake news\n",
        " - 3: Faire attention\n",
        " - 4: OK mais il ne faut pas hésiter a croiser"
      ]
    },
    {
      "cell_type": "code",
      "metadata": {
        "id": "DbxKvfdwpjHa"
      },
      "source": [
        "data = requests.get(\"https://www.lemonde.fr/webservice/decodex/updates\").json()"
      ],
      "execution_count": 53,
      "outputs": []
    },
    {
      "cell_type": "code",
      "metadata": {
        "id": "7v6KApgkpjHb"
      },
      "source": [
        "try:\n",
        "    decodex_site = pd.read_csv(\"./monde_site.csv\", index_col=0)\n",
        "    with open('monde_urls.pickle', 'rb') as handle:\n",
        "        site_index_to_url = pickle.load(handle)\n",
        "except Exception:\n",
        "    decodex_site = pd.DataFrame(requests.get(\"https://www.lemonde.fr/webservice/decodex/updates\").json()[\"sites\"]).T.drop(3, 1).rename(columns={0: \"categorie\", 1: \"description\", 2: \"site\"})\n",
        "    decodex_url = requests.get(\"https://www.lemonde.fr/webservice/decodex/updates\").json()[\"urls\"] # urls of website, including sometimes twitter data\n",
        "\n",
        "    # convert the url to index dict to an index to url dict\n",
        "    site_index_to_url = {}\n",
        "    for x, y in decodex_url.items():\n",
        "        try:\n",
        "            if site_index_to_url[y]:\n",
        "                site_index_to_url[y].append(x)\n",
        "        except Exception as e:\n",
        "            site_index_to_url[y] = [x]\n",
        "\n",
        "    # we save data to disk\n",
        "    decodex_site.to_csv(\"monde_site.csv\")\n",
        "    with open('monde_urls.pickle', 'wb') as handle:\n",
        "        pickle.dump(site_index_to_url, handle, protocol=pickle.HIGHEST_PROTOCOL)"
      ],
      "execution_count": 54,
      "outputs": []
    },
    {
      "cell_type": "code",
      "metadata": {
        "id": "P3D9-GgBpjHd"
      },
      "source": [
        "# get alls twitter link from the urls of decodex\n",
        "fake_news_index = list(decodex_site[decodex_site[\"categorie\"] == 2].index)\n",
        "fake_news_twitter = {}\n",
        "\n",
        "for i in fake_news_index:\n",
        "    try:\n",
        "        for url in site_index_to_url[int(i)]:\n",
        "            if \"twitter\" in url:\n",
        "                fake_news_twitter[i] = url\n",
        "    except Exception as e:\n",
        "        pass"
      ],
      "execution_count": 55,
      "outputs": []
    },
    {
      "cell_type": "code",
      "metadata": {
        "id": "pODa0aZPpjHd",
        "colab": {
          "base_uri": "https://localhost:8080/"
        },
        "outputId": "3b84821d-1287-4aef-fe42-97058be8371b"
      },
      "source": [
        "fake_news_twitter"
      ],
      "execution_count": 56,
      "outputs": [
        {
          "output_type": "execute_result",
          "data": {
            "text/plain": [
              "{668: 'twitter.com/LNParadigme',\n",
              " 670: 'twitter.com/21WIRE',\n",
              " 673: 'twitter.com/AE911Truth',\n",
              " 678: 'twitter.com/antipresse_net',\n",
              " 681: 'twitter.com/@barenakedislam',\n",
              " 683: 'twitter.com/boris_lay',\n",
              " 685: 'twitter.com/breizh_info',\n",
              " 690: 'twitter.com/corbettreport',\n",
              " 693: 'twitter.com/DailyNewsBin',\n",
              " 694: 'twitter.com/davidicke',\n",
              " 701: 'twitter.com/MbalaDieudo',\n",
              " 702: 'twitter.com/diktacratie',\n",
              " 706: 'twitter.com/EetR_National',\n",
              " 709: 'twitter.com/guy_fawkes_news',\n",
              " 713: 'twitter.com/HenryMakow',\n",
              " 714: 'twitter.com/Herissident',\n",
              " 716: 'twitter.com/degage_hollande',\n",
              " 717: 'twitter.com/David_vanH',\n",
              " 721: 'twitter.com/infovsinfo',\n",
              " 722: 'twitter.com/infowars',\n",
              " 725: 'twitter.com/infosbordeaux',\n",
              " 731: 'twitter.com/JeuneNation',\n",
              " 732: 'twitter.com/pierrejovanovic',\n",
              " 735: 'twitter.com/linformatrice',\n",
              " 736: 'twitter.com/linsoumis_fr',\n",
              " 739: 'twitter.com/LaGaucheMaTuer',\n",
              " 746: 'twitter.com/PrJoyeux',\n",
              " 752: 'twitter.com/ObservateursCH',\n",
              " 763: 'twitter.com/NiceProvenceInf',\n",
              " 765: 'twitter.com/nord_actu',\n",
              " 769: 'twitter.com/Panamza',\n",
              " 770: 'twitter.com/paris_vox',\n",
              " 781: 'twitter.com/RedState',\n",
              " 782: 'twitter.com/ReinformationRC',\n",
              " 786: 'twitter.com/reseau_internat',\n",
              " 791: 'twitter.com/1RiposteLaique',\n",
              " 792: 'twitter.com/RussiaInsider',\n",
              " 803: 'twitter.com/SwagActu',\n",
              " 807: 'twitter.com/tprincedelamour',\n",
              " 814: 'twitter.com/WantedPedo',\n",
              " 817: 'twitter.com/WikistrikeW',\n",
              " 818: 'twitter.com/YannMerkado',\n",
              " 821: 'twitter.com/infolibnews',\n",
              " 826: 'twitter.com/Dreuz_1fo',\n",
              " 829: 'twitter.com/InfoMdia',\n",
              " 839: 'twitter.com/beforeitsnews',\n",
              " 875: 'twitter.com/Letribunaldunet',\n",
              " 905: 'twitter.com/santeici',\n",
              " 912: 'twitter.com/UnleashMind',\n",
              " 916: 'twitter.com/tvlofficiel',\n",
              " 1134: 'twitter.com/jpney',\n",
              " 1135: 'twitter.com/Santeplusmag',\n",
              " 1136: 'twitter.com/astucenaturelle',\n",
              " 1218: 'twitter.com/spiritsciences',\n",
              " 1221: 'twitter.com/Civilwarineurop',\n",
              " 1225: 'twitter.com/Europe_Israel',\n",
              " 1232: 'twitter.com/RidiculeTV',\n",
              " 1233: 'twitter.com/envie_devivre',\n",
              " 1254: 'twitter.com/InvestigAction',\n",
              " 1261: 'twitter.com/RealAlexJones',\n",
              " 1273: 'twitter.com/AstuceDuJourMag',\n",
              " 1411: 'twitter.com/onsaitceque',\n",
              " 1417: 'twitter.com/wucnews',\n",
              " 1462: 'twitter.com/delitdimages',\n",
              " 1467: 'twitter.com/healthranger',\n",
              " 1469: 'twitter.com/nosmedias_fr',\n",
              " 1472: 'twitter.com/prisonplanet',\n",
              " 1474: 'twitter.com/david_vanh',\n",
              " 1476: 'twitter.com/alainsoraloffic',\n",
              " 1479: 'twitter.com/gatewaypundit',\n",
              " 1508: 'twitter.com/allosante2016',\n",
              " 1526: 'twitter.com/drwakefield',\n",
              " 1586: 'twitter.com/EuroScoop_FR',\n",
              " 1649: 'twitter.com/thomasjoly60',\n",
              " 1699: 'twitter.com/onaimelafrance',\n",
              " 1726: 'twitter.com/LBDTSS',\n",
              " 1747: 'twitter.com/suavelos_fr',\n",
              " 1748: 'twitter.com/WhatsupicFr',\n",
              " 1751: 'twitter.com/AfriPulse_FR',\n",
              " 1891: 'twitter.com/yetiblog',\n",
              " 1892: 'twitter.com/DrMo7oG',\n",
              " 1893: 'twitter.com/Elishean',\n",
              " 1971: 'twitter.com/covid_infos',\n",
              " 1973: 'twitter.com/llp_le_vrai',\n",
              " 1976: 'twitter.com/emakrusi?lang=fr',\n",
              " 1980: 'twitter.com/silvano_trotta',\n",
              " 1981: 'twitter.com/ThierryRegenere',\n",
              " 1982: 'twitter.com/france_soir'}"
            ]
          },
          "metadata": {},
          "execution_count": 56
        }
      ]
    },
    {
      "cell_type": "code",
      "metadata": {
        "id": "vmKk6627pjHe"
      },
      "source": [
        "    class TwitterUser():\n",
        "        _screen_name = \"\"\n",
        "        _id = \"\"\n",
        "        _user_data = None\n",
        "        followers = []\n",
        "        following = []\n",
        "        tweet = []\n",
        "        like = []\n",
        "        request_count = 0\n",
        "\n",
        "        def __init__(self, sname = \"\", _json = {}):\n",
        "            if (sname != \"\"):\n",
        "                self._screen_name = sname\n",
        "                self.get_info()\n",
        "            if (_json != {}):\n",
        "                self._json = _json\n",
        "\n",
        "        def get_info(self):\n",
        "            self._user_data = api.get_user(screen_name=self._screen_name)\n",
        "\n",
        "        def get_all_data(self):\n",
        "            self.get_tweets()\n",
        "            self.get_followers()\n",
        "            self.get_following()\n",
        "            self.get_like()\n",
        "\n",
        "        def set_name(self, name):\n",
        "            self._screen_name = name\n",
        "\n",
        "        def set_id(self, _id):\n",
        "            self._id = _id\n",
        "\n",
        "        def get_followers(self):\n",
        "            with tqdm(total=self._user_data.followers_count, desc=\"get_followers for \" + self._user_data.screen_name) as pbar:\n",
        "                for page in tweepy.Cursor(api.followers, screen_name=self._screen_name, count=200).pages():\n",
        "                    self.followers.extend(page)\n",
        "                    pbar.update(len(page))\n",
        "\n",
        "\n",
        "        def get_following(self):\n",
        "            with tqdm(total=self._user_data.friends_count, desc=\"get_following for \" + self._user_data.screen_name) as pbar:\n",
        "                for page in tweepy.Cursor(api.friends, screen_name=self._screen_name, count=200).pages():\n",
        "                    self.following.extend(page)\n",
        "                    pbar.update(len(page))\n",
        "\n",
        "        # on ne peut prendre que les 3000 derniers\n",
        "        def get_tweets(self):\n",
        "            if self._user_data.protected:\n",
        "                print(\"can get tweets from \" + self._user_data.screen_name + \", the account is protected\")\n",
        "            else:\n",
        "                with tqdm(total=3000, desc=\"get_tweets for \" + self._user_data.screen_name) as pbar:\n",
        "                    for page in tweepy.Cursor(api.user_timeline, screen_name=self._screen_name, count=200).pages():\n",
        "                        self.tweet.extend(page)\n",
        "                        pbar.update(len(page))\n",
        "\n",
        "        # on ne peut prendre que les 3000 derniers\n",
        "        def get_like(self):\n",
        "            if self._user_data.protected:\n",
        "                print(\"can get like from \" + self._user_data.screen_name + \", the account is protected\")\n",
        "            else:\n",
        "                with tqdm(total=3000, desc=\"get_likes for \" + self._user_data.screen_name) as pbar:\n",
        "                    for page in tweepy.Cursor(api.favorites, screen_name=self._screen_name, count=200).pages():\n",
        "                        self.like.extend(page)\n",
        "                        pbar.update(len(page))\n"
      ],
      "execution_count": 57,
      "outputs": []
    },
    {
      "cell_type": "code",
      "metadata": {
        "id": "5nb1YRijpjHe",
        "colab": {
          "base_uri": "https://localhost:8080/"
        },
        "outputId": "a4f5317b-0a52-4521-b0b3-f0d7aa59a691"
      },
      "source": [
        "test = TwitterUser(sname=\"paulplanchon_\")\n",
        "test.get_all_data()"
      ],
      "execution_count": 58,
      "outputs": [
        {
          "output_type": "stream",
          "name": "stderr",
          "text": [
            "get_tweets for paulplanchon_:  40%|███▉      | 1197/3000 [00:02<00:03, 553.33it/s]\n",
            "get_followers for paulplanchon_: 100%|██████████| 24/24 [00:00<00:00, 94.80it/s]\n",
            "get_following for paulplanchon_: 100%|██████████| 557/557 [00:02<00:00, 205.60it/s]\n",
            "get_likes for paulplanchon_:  81%|████████  | 2423/3000 [00:04<00:01, 554.10it/s]\n"
          ]
        }
      ]
    },
    {
      "cell_type": "code",
      "metadata": {
        "id": "hC09RVl4pjHf"
      },
      "source": [
        "import pickle\n",
        "\n",
        "with open(DATA_PATH+\"bastienpauchet_.pickle\", \"wb\") as obj_file:\n",
        "    pickle.dump([test], obj_file, -1)"
      ],
      "execution_count": 59,
      "outputs": []
    },
    {
      "cell_type": "code",
      "metadata": {
        "id": "Jo1XqxdVpjHg"
      },
      "source": [
        "import pickle\n",
        "\n",
        "with open(DATA_PATH+\"bastienpauchet_.pickle\", \"rb\") as obj_file:\n",
        "    test = pickle.load(obj_file)"
      ],
      "execution_count": 60,
      "outputs": []
    },
    {
      "cell_type": "code",
      "metadata": {
        "id": "qOYCILG9pjHg"
      },
      "source": [
        "import json\n",
        "\n",
        "with open(DATA_PATH+\"links.json\", \"w\") as file: \n",
        "    file.write(json.dumps(fake_news_twitter))"
      ],
      "execution_count": 61,
      "outputs": []
    }
  ]
}