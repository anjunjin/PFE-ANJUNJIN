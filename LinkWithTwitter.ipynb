{
  "nbformat": 4,
  "nbformat_minor": 0,
  "metadata": {
    "colab": {
      "name": "LinkWithTwitter.ipynb",
      "provenance": [],
      "authorship_tag": "ABX9TyN4cWqRLXGy1pR5It2GlDkB",
      "include_colab_link": true
    },
    "kernelspec": {
      "name": "python3",
      "display_name": "Python 3"
    },
    "language_info": {
      "name": "python"
    }
  },
  "cells": [
    {
      "cell_type": "markdown",
      "metadata": {
        "id": "view-in-github",
        "colab_type": "text"
      },
      "source": [
        "<a href=\"https://colab.research.google.com/github/anjunjin/PFE-ING3-IA/blob/master/LinkWithTwitter.ipynb\" target=\"_parent\"><img src=\"https://colab.research.google.com/assets/colab-badge.svg\" alt=\"Open In Colab\"/></a>"
      ]
    },
    {
      "cell_type": "code",
      "metadata": {
        "colab": {
          "base_uri": "https://localhost:8080/"
        },
        "id": "6XJZaYlBdx7p",
        "outputId": "bb15f2f6-bd39-423f-a205-58ef729c8f2e"
      },
      "source": [
        "# pip install requests #Peut-être pas besoin\n",
        "\n",
        "from google.colab import drive\n",
        "drive.mount('/content/drive')\n",
        "\n",
        "import requests\n",
        "import json\n",
        "import pandas as pd"
      ],
      "execution_count": 12,
      "outputs": [
        {
          "output_type": "stream",
          "name": "stdout",
          "text": [
            "Drive already mounted at /content/drive; to attempt to forcibly remount, call drive.mount(\"/content/drive\", force_remount=True).\n"
          ]
        }
      ]
    },
    {
      "cell_type": "code",
      "metadata": {
        "id": "XV8keOGed_Zd"
      },
      "source": [
        "BEARER_TOKEN = pd.read_csv(\"/content/drive/My Drive/PFE/Clés.csv\", encoding='utf-8', sep=',')['1'][0]\n",
        "# print(BEARER_TOKEN)"
      ],
      "execution_count": 32,
      "outputs": []
    },
    {
      "cell_type": "code",
      "metadata": {
        "id": "mMmwhVAFkSYP"
      },
      "source": [
        "#define search twitter function\n",
        "def search_twitter(query, tweet_fields, bearer_token = BEARER_TOKEN):\n",
        "    headers = {\"Authorization\": \"Bearer {}\".format(bearer_token)}\n",
        "\n",
        "    url = \"https://api.twitter.com/2/tweets/search/recent?query={}&{}\".format(\n",
        "        query, tweet_fields\n",
        "    )\n",
        "    response = requests.request(\"GET\", url, headers=headers)\n",
        "\n",
        "    print(response.status_code)\n",
        "\n",
        "    if response.status_code != 200:\n",
        "        raise Exception(response.status_code, response.text)\n",
        "    return response.json()\n",
        "\n",
        "def create_url(user):\n",
        "    # Specify the usernames that you want to lookup below\n",
        "    # You can enter up to 100 comma-separated values.\n",
        "    usernames = \"usernames=\"+user\n",
        "    user_fields = \"user.fields=description,created_at\"\n",
        "    # User fields are adjustable, options include:\n",
        "    # created_at, description, entities, id, location, name,\n",
        "    # pinned_tweet_id, profile_image_url, protected,\n",
        "    # public_metrics, url, username, verified, and withheld\n",
        "    url = \"https://api.twitter.com/2/users/by?{}&{}\".format(usernames, user_fields)\n",
        "    return url\n",
        "\n",
        "\n",
        "def bearer_oauth(r):\n",
        "    \"\"\"\n",
        "    Method required by bearer token authentication.\n",
        "    \"\"\"\n",
        "\n",
        "    r.headers[\"Authorization\"] = f\"Bearer {BEARER_TOKEN}\"\n",
        "    r.headers[\"User-Agent\"] = \"v2UserLookupPython\"\n",
        "    return r\n",
        "\n",
        "\n",
        "def connect_to_endpoint(url):\n",
        "    response = requests.request(\"GET\", url, auth=bearer_oauth,)\n",
        "    print(response.status_code)\n",
        "    if response.status_code != 200:\n",
        "        raise Exception(\n",
        "            \"Request returned an error: {} {}\".format(\n",
        "                response.status_code, response.text\n",
        "            )\n",
        "        )\n",
        "    return response.json()"
      ],
      "execution_count": 48,
      "outputs": []
    },
    {
      "cell_type": "code",
      "metadata": {
        "id": "K1N3Tr3clTva"
      },
      "source": [
        "#search term\n",
        "query = \"Siphano\"\n",
        "#twitter fields to be returned by api call\n",
        "tweet_fields = \"tweet.fields=text,author_id,created_at\"\n",
        "\n",
        "#twitter api call\n",
        "json_response = search_twitter(query=query, tweet_fields=tweet_fields, bearer_token=BEARER_TOKEN)\n",
        "#pretty printing\n",
        "print(json.dumps(json_response, indent=4, sort_keys=True))"
      ],
      "execution_count": null,
      "outputs": []
    },
    {
      "cell_type": "code",
      "metadata": {
        "colab": {
          "base_uri": "https://localhost:8080/"
        },
        "id": "lHa0wqKCm2of",
        "outputId": "ef32b1eb-f75a-423c-a03d-079ee04069a0"
      },
      "source": [
        "url = create_url(\"frigiel\")\n",
        "json_response = connect_to_endpoint(url)\n",
        "print(json.dumps(json_response, indent=4, sort_keys=True))"
      ],
      "execution_count": 51,
      "outputs": [
        {
          "output_type": "stream",
          "name": "stdout",
          "text": [
            "200\n",
            "{\n",
            "    \"data\": [\n",
            "        {\n",
            "            \"created_at\": \"2011-09-09T19:12:26.000Z\",\n",
            "            \"description\": \"Auteur et Youtuber depuis 2011, je partage mes passions \\u00e0 travers mes vid\\u00e9os ! Contact pro : frigielpro@outlook.com\",\n",
            "            \"id\": \"370858054\",\n",
            "            \"name\": \"Alexandre\",\n",
            "            \"username\": \"Frigiel\"\n",
            "        }\n",
            "    ]\n",
            "}\n"
          ]
        }
      ]
    }
  ]
}