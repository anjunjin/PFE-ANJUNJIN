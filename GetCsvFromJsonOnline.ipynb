{
  "nbformat": 4,
  "nbformat_minor": 0,
  "metadata": {
    "colab": {
      "name": "GetCsvFromJsonOnline.ipynb",
      "provenance": [],
      "collapsed_sections": [],
      "authorship_tag": "ABX9TyOpcuzzgpbxvqAqyX7Uj7E8",
      "include_colab_link": true
    },
    "kernelspec": {
      "name": "python3",
      "display_name": "Python 3"
    },
    "language_info": {
      "name": "python"
    }
  },
  "cells": [
    {
      "cell_type": "markdown",
      "metadata": {
        "id": "view-in-github",
        "colab_type": "text"
      },
      "source": [
        "<a href=\"https://colab.research.google.com/github/anjunjin/PFE-ING3-IA/blob/branch1/GetCsvFromJsonOnline.ipynb\" target=\"_parent\"><img src=\"https://colab.research.google.com/assets/colab-badge.svg\" alt=\"Open In Colab\"/></a>"
      ]
    },
    {
      "cell_type": "code",
      "metadata": {
        "id": "P6pckrKUyomm"
      },
      "source": [
        "# from google.colab import drive\n",
        "# drive.mount('/content/drive')"
      ],
      "execution_count": 47,
      "outputs": []
    },
    {
      "cell_type": "code",
      "metadata": {
        "id": "v4jVrGopjlXl"
      },
      "source": [
        "import urllib.request, json \n",
        "with urllib.request.urlopen(\"https://www.lemonde.fr/webservice/decodex/updates\") as url: # Obtenir le fichier JSON de https://www.lemonde.fr/webservice/decodex/updates\n",
        "    data = json.loads(url.read().decode())\n",
        "\n",
        "# data.keys() #On obtient le premier dictionnaire, sites et url, contient des dictionnaire\n",
        "# data[\"sites\"].keys() #On obtient le sous-dictionnaire, chaque site, contient des tableaux"
      ],
      "execution_count": 2,
      "outputs": []
    },
    {
      "cell_type": "code",
      "metadata": {
        "id": "z-DInfYIqUsj"
      },
      "source": [
        "# print(data)\n",
        "# data.keys() # Vérifie la forme que prend les fichier JSON\n",
        "# data[\"sites\"]\n",
        "# data[\"sites\"]['1980']\n",
        "# data[\"sites\"]['1980'][2]\n",
        "# data[\"sites\"].keys()\n",
        "# for i in data[\"sites\"].keys():\n",
        "#   print(type(i))\n",
        "\n",
        "# for i in data[\"sites\"].keys():\n",
        "#   print(data[\"sites\"][i][2])\n",
        "\n",
        "# data[\"urls\"].keys()\n",
        "# data[\"urls\"]['the-postillon.com']"
      ],
      "execution_count": 49,
      "outputs": []
    },
    {
      "cell_type": "code",
      "metadata": {
        "id": "2zbRRRijqmER",
        "colab": {
          "base_uri": "https://localhost:8080/",
          "height": 424
        },
        "outputId": "49d33572-fbe1-45ca-9b25-44d5758bef0a"
      },
      "source": [
        "import pandas as pd\n",
        "\n",
        "dataset = []\n",
        "\n",
        "for i in data[\"sites\"].keys(): # On créé un tableau avec la liste de tous les sites du fichier JSON. On a leur identifiant, leur niveau de fiabilité, une description, et 2 noms dont l'un est simplifié\n",
        "  # dataset.append([int(i),data[\"sites\"][i][0], data[\"sites\"][i][1], data[\"sites\"][i][2], data[\"sites\"][i][3]])\n",
        "  dataset.append([int(i),data[\"sites\"][i][0], data[\"sites\"][i][1]])\n",
        "\n",
        "# tableauSites = pd.DataFrame(dataset, columns=['Identifiant','Fiabilité','Description','Nom1','Nom2']) #Pour que le tableau prenne la forme d'un tableau (dataset n'étant en réalité qu'une liste)\n",
        "tableauSites = pd.DataFrame(dataset, columns=['Identifiant','Fiabilité','Description'])\n",
        "tableauSites"
      ],
      "execution_count": 3,
      "outputs": [
        {
          "output_type": "execute_result",
          "data": {
            "text/html": [
              "<div>\n",
              "<style scoped>\n",
              "    .dataframe tbody tr th:only-of-type {\n",
              "        vertical-align: middle;\n",
              "    }\n",
              "\n",
              "    .dataframe tbody tr th {\n",
              "        vertical-align: top;\n",
              "    }\n",
              "\n",
              "    .dataframe thead th {\n",
              "        text-align: right;\n",
              "    }\n",
              "</style>\n",
              "<table border=\"1\" class=\"dataframe\">\n",
              "  <thead>\n",
              "    <tr style=\"text-align: right;\">\n",
              "      <th></th>\n",
              "      <th>Identifiant</th>\n",
              "      <th>Fiabilité</th>\n",
              "      <th>Description</th>\n",
              "    </tr>\n",
              "  </thead>\n",
              "  <tbody>\n",
              "    <tr>\n",
              "      <th>0</th>\n",
              "      <td>1982</td>\n",
              "      <td>2</td>\n",
              "      <td>France-Soir était un journal fondé par Pierre ...</td>\n",
              "    </tr>\n",
              "    <tr>\n",
              "      <th>1</th>\n",
              "      <td>1981</td>\n",
              "      <td>2</td>\n",
              "      <td>Thierry Casasnovas, vidéaste et animateur de l...</td>\n",
              "    </tr>\n",
              "    <tr>\n",
              "      <th>2</th>\n",
              "      <td>1980</td>\n",
              "      <td>2</td>\n",
              "      <td>Silvano Trotta est le créateur d’une société s...</td>\n",
              "    </tr>\n",
              "    <tr>\n",
              "      <th>3</th>\n",
              "      <td>1979</td>\n",
              "      <td>2</td>\n",
              "      <td>Jasper Mader est une chaîne YouTube, animée pa...</td>\n",
              "    </tr>\n",
              "    <tr>\n",
              "      <th>4</th>\n",
              "      <td>1978</td>\n",
              "      <td>2</td>\n",
              "      <td>Une webtélé suisse créée notamment par Chloé F...</td>\n",
              "    </tr>\n",
              "    <tr>\n",
              "      <th>...</th>\n",
              "      <td>...</td>\n",
              "      <td>...</td>\n",
              "      <td>...</td>\n",
              "    </tr>\n",
              "    <tr>\n",
              "      <th>1338</th>\n",
              "      <td>577</td>\n",
              "      <td>4</td>\n",
              "      <td>Dailymotion n'est pas une source d'information...</td>\n",
              "    </tr>\n",
              "    <tr>\n",
              "      <th>1339</th>\n",
              "      <td>576</td>\n",
              "      <td>4</td>\n",
              "      <td>Une plateforme participative qui n'est pas ori...</td>\n",
              "    </tr>\n",
              "    <tr>\n",
              "      <th>1340</th>\n",
              "      <td>575</td>\n",
              "      <td>4</td>\n",
              "      <td>9gag n'est pas une source d'information en soi...</td>\n",
              "    </tr>\n",
              "    <tr>\n",
              "      <th>1341</th>\n",
              "      <td>574</td>\n",
              "      <td>4</td>\n",
              "      <td>L'encyclopédie collaborative en ligne compile ...</td>\n",
              "    </tr>\n",
              "    <tr>\n",
              "      <th>1342</th>\n",
              "      <td>573</td>\n",
              "      <td>4</td>\n",
              "      <td>Un site qui donne des conseils et astuces sur ...</td>\n",
              "    </tr>\n",
              "  </tbody>\n",
              "</table>\n",
              "<p>1343 rows × 3 columns</p>\n",
              "</div>"
            ],
            "text/plain": [
              "      Identifiant  Fiabilité                                        Description\n",
              "0            1982          2  France-Soir était un journal fondé par Pierre ...\n",
              "1            1981          2  Thierry Casasnovas, vidéaste et animateur de l...\n",
              "2            1980          2  Silvano Trotta est le créateur d’une société s...\n",
              "3            1979          2  Jasper Mader est une chaîne YouTube, animée pa...\n",
              "4            1978          2  Une webtélé suisse créée notamment par Chloé F...\n",
              "...           ...        ...                                                ...\n",
              "1338          577          4  Dailymotion n'est pas une source d'information...\n",
              "1339          576          4  Une plateforme participative qui n'est pas ori...\n",
              "1340          575          4  9gag n'est pas une source d'information en soi...\n",
              "1341          574          4  L'encyclopédie collaborative en ligne compile ...\n",
              "1342          573          4  Un site qui donne des conseils et astuces sur ...\n",
              "\n",
              "[1343 rows x 3 columns]"
            ]
          },
          "metadata": {},
          "execution_count": 3
        }
      ]
    },
    {
      "cell_type": "code",
      "metadata": {
        "id": "V-Z_CqyGkbHk",
        "colab": {
          "base_uri": "https://localhost:8080/",
          "height": 424
        },
        "outputId": "42e5c518-b571-495d-ebe5-aba91f4caaa6"
      },
      "source": [
        "import re\n",
        "\n",
        "dt = [] #Pour déterminer toutes les lignes dans le JSON qui ne sont pas des liens twitter\n",
        "compteur = 0 #On note le numéro de chaque ligne qui n'est pas un lien twitter\n",
        "for i in data[\"urls\"].keys():\n",
        "  if not(re.search('twitter', i)):\n",
        "    dt.append(compteur)\n",
        "  compteur = compteur+1\n",
        "\n",
        "#On met tous les liens dans df avec des tuples (identifiant, lien)\n",
        "df = [(data[\"urls\"][i], i) for i in data[\"urls\"].keys()]\n",
        "\n",
        "#On retire les lignes ne contenant pas de lien twitter, on utilise dt pour ça\n",
        "for index in sorted(dt, reverse=True):\n",
        "    del df[index]\n",
        "\n",
        "#append à df des tuples (identifiant, \"NaN\") pour tous les identifiants sans lien Twitter\n",
        "for site in dataset:\n",
        "  if site[0] not in [item for t in df for item in t]:\n",
        "    df.append((site[0], \"NaN\")) #Objectif : Obtenir liste users avec Nom2 et comparaison NLP grâce à Description -> \"twitter.com/\"+username\n",
        "df.sort(reverse=True)\n",
        "\n",
        "#On rajoute la nouvelle colonne ne contenant que les liens au tableau\n",
        "tableauSites['Twitter'] = [item[1] for item in df]\n",
        "\n",
        "tableauSites"
      ],
      "execution_count": 4,
      "outputs": [
        {
          "output_type": "execute_result",
          "data": {
            "text/html": [
              "<div>\n",
              "<style scoped>\n",
              "    .dataframe tbody tr th:only-of-type {\n",
              "        vertical-align: middle;\n",
              "    }\n",
              "\n",
              "    .dataframe tbody tr th {\n",
              "        vertical-align: top;\n",
              "    }\n",
              "\n",
              "    .dataframe thead th {\n",
              "        text-align: right;\n",
              "    }\n",
              "</style>\n",
              "<table border=\"1\" class=\"dataframe\">\n",
              "  <thead>\n",
              "    <tr style=\"text-align: right;\">\n",
              "      <th></th>\n",
              "      <th>Identifiant</th>\n",
              "      <th>Fiabilité</th>\n",
              "      <th>Description</th>\n",
              "      <th>Twitter</th>\n",
              "    </tr>\n",
              "  </thead>\n",
              "  <tbody>\n",
              "    <tr>\n",
              "      <th>0</th>\n",
              "      <td>1982</td>\n",
              "      <td>2</td>\n",
              "      <td>France-Soir était un journal fondé par Pierre ...</td>\n",
              "      <td>twitter.com/france_soir</td>\n",
              "    </tr>\n",
              "    <tr>\n",
              "      <th>1</th>\n",
              "      <td>1981</td>\n",
              "      <td>2</td>\n",
              "      <td>Thierry Casasnovas, vidéaste et animateur de l...</td>\n",
              "      <td>twitter.com/ThierryRegenere</td>\n",
              "    </tr>\n",
              "    <tr>\n",
              "      <th>2</th>\n",
              "      <td>1980</td>\n",
              "      <td>2</td>\n",
              "      <td>Silvano Trotta est le créateur d’une société s...</td>\n",
              "      <td>twitter.com/silvano_trotta</td>\n",
              "    </tr>\n",
              "    <tr>\n",
              "      <th>3</th>\n",
              "      <td>1979</td>\n",
              "      <td>2</td>\n",
              "      <td>Jasper Mader est une chaîne YouTube, animée pa...</td>\n",
              "      <td>NaN</td>\n",
              "    </tr>\n",
              "    <tr>\n",
              "      <th>4</th>\n",
              "      <td>1978</td>\n",
              "      <td>2</td>\n",
              "      <td>Une webtélé suisse créée notamment par Chloé F...</td>\n",
              "      <td>NaN</td>\n",
              "    </tr>\n",
              "    <tr>\n",
              "      <th>...</th>\n",
              "      <td>...</td>\n",
              "      <td>...</td>\n",
              "      <td>...</td>\n",
              "      <td>...</td>\n",
              "    </tr>\n",
              "    <tr>\n",
              "      <th>1338</th>\n",
              "      <td>577</td>\n",
              "      <td>4</td>\n",
              "      <td>Dailymotion n'est pas une source d'information...</td>\n",
              "      <td>NaN</td>\n",
              "    </tr>\n",
              "    <tr>\n",
              "      <th>1339</th>\n",
              "      <td>576</td>\n",
              "      <td>4</td>\n",
              "      <td>Une plateforme participative qui n'est pas ori...</td>\n",
              "      <td>twitter.com/agoravox</td>\n",
              "    </tr>\n",
              "    <tr>\n",
              "      <th>1340</th>\n",
              "      <td>575</td>\n",
              "      <td>4</td>\n",
              "      <td>9gag n'est pas une source d'information en soi...</td>\n",
              "      <td>twitter.com/9GAG</td>\n",
              "    </tr>\n",
              "    <tr>\n",
              "      <th>1341</th>\n",
              "      <td>574</td>\n",
              "      <td>4</td>\n",
              "      <td>L'encyclopédie collaborative en ligne compile ...</td>\n",
              "      <td>twitter.com/Wikipedia</td>\n",
              "    </tr>\n",
              "    <tr>\n",
              "      <th>1342</th>\n",
              "      <td>573</td>\n",
              "      <td>4</td>\n",
              "      <td>Un site qui donne des conseils et astuces sur ...</td>\n",
              "      <td>twitter.com/wikiHow</td>\n",
              "    </tr>\n",
              "  </tbody>\n",
              "</table>\n",
              "<p>1343 rows × 4 columns</p>\n",
              "</div>"
            ],
            "text/plain": [
              "      Identifiant  ...                      Twitter\n",
              "0            1982  ...      twitter.com/france_soir\n",
              "1            1981  ...  twitter.com/ThierryRegenere\n",
              "2            1980  ...   twitter.com/silvano_trotta\n",
              "3            1979  ...                          NaN\n",
              "4            1978  ...                          NaN\n",
              "...           ...  ...                          ...\n",
              "1338          577  ...                          NaN\n",
              "1339          576  ...         twitter.com/agoravox\n",
              "1340          575  ...             twitter.com/9GAG\n",
              "1341          574  ...        twitter.com/Wikipedia\n",
              "1342          573  ...          twitter.com/wikiHow\n",
              "\n",
              "[1343 rows x 4 columns]"
            ]
          },
          "metadata": {},
          "execution_count": 4
        }
      ]
    },
    {
      "cell_type": "markdown",
      "metadata": {
        "id": "zpzkxILxEwCc"
      },
      "source": [
        "#dans dataset remove lignes sans lien Twitter (inutiles) puis chaque ligne prendre nom exact avec lien Twitter et obtenir X tweets (200 par exemple) puis analyse de thème dessus."
      ]
    },
    {
      "cell_type": "code",
      "metadata": {
        "id": "Ft3QGW6qJ2dA",
        "colab": {
          "base_uri": "https://localhost:8080/",
          "height": 424
        },
        "outputId": "50d9b4ee-4bae-44a6-9a67-6926e31b2dae"
      },
      "source": [
        "import copy\n",
        "save_dataset = copy.deepcopy(dataset)\n",
        "\n",
        "i = 0\n",
        "for i in range(len(save_dataset)):\n",
        "  save_dataset[i] = save_dataset[i] + [df[i][1]]\n",
        "  i += 1\n",
        "\n",
        "save_dataset = [x for x in save_dataset if x[3] != \"NaN\"] #Retire les lignes où pas de lien\n",
        "for line in save_dataset:\n",
        "  if \"twitter.com/\" in line[3]:\n",
        "    if \"?lang=fr\" in line[3]:\n",
        "      size = len(line[3])\n",
        "      line[3] = line[3][12:size - 8].strip('@')\n",
        "    else:\n",
        "      line[3] = line[3][12:].strip('@')\n",
        "# save_dataset = [[x[0],x[1],x[2],x[3][12:len(x[3]) - 8]] for x in save_dataset if \"?lang=fr\" in x[3]:] #Retire les lignes où pas de lien\n",
        "\n",
        "save_dataset\n",
        "\n",
        "tableauSites = pd.DataFrame(save_dataset, columns=['Identifiant','Fiabilité','Description','Twitter'])\n",
        "tableauSites"
      ],
      "execution_count": 11,
      "outputs": [
        {
          "output_type": "execute_result",
          "data": {
            "text/html": [
              "<div>\n",
              "<style scoped>\n",
              "    .dataframe tbody tr th:only-of-type {\n",
              "        vertical-align: middle;\n",
              "    }\n",
              "\n",
              "    .dataframe tbody tr th {\n",
              "        vertical-align: top;\n",
              "    }\n",
              "\n",
              "    .dataframe thead th {\n",
              "        text-align: right;\n",
              "    }\n",
              "</style>\n",
              "<table border=\"1\" class=\"dataframe\">\n",
              "  <thead>\n",
              "    <tr style=\"text-align: right;\">\n",
              "      <th></th>\n",
              "      <th>Identifiant</th>\n",
              "      <th>Fiabilité</th>\n",
              "      <th>Description</th>\n",
              "      <th>Twitter</th>\n",
              "    </tr>\n",
              "  </thead>\n",
              "  <tbody>\n",
              "    <tr>\n",
              "      <th>0</th>\n",
              "      <td>1982</td>\n",
              "      <td>2</td>\n",
              "      <td>France-Soir était un journal fondé par Pierre ...</td>\n",
              "      <td>france_soir</td>\n",
              "    </tr>\n",
              "    <tr>\n",
              "      <th>1</th>\n",
              "      <td>1981</td>\n",
              "      <td>2</td>\n",
              "      <td>Thierry Casasnovas, vidéaste et animateur de l...</td>\n",
              "      <td>ThierryRegenere</td>\n",
              "    </tr>\n",
              "    <tr>\n",
              "      <th>2</th>\n",
              "      <td>1980</td>\n",
              "      <td>2</td>\n",
              "      <td>Silvano Trotta est le créateur d’une société s...</td>\n",
              "      <td>silvano_trotta</td>\n",
              "    </tr>\n",
              "    <tr>\n",
              "      <th>3</th>\n",
              "      <td>1976</td>\n",
              "      <td>2</td>\n",
              "      <td>Cette propriétaire d’un magasin de chaussures ...</td>\n",
              "      <td>emakrusi</td>\n",
              "    </tr>\n",
              "    <tr>\n",
              "      <th>4</th>\n",
              "      <td>1973</td>\n",
              "      <td>2</td>\n",
              "      <td>Salim Laïbi est un chirurgien-dentiste connu s...</td>\n",
              "      <td>llp_le_vrai</td>\n",
              "    </tr>\n",
              "    <tr>\n",
              "      <th>...</th>\n",
              "      <td>...</td>\n",
              "      <td>...</td>\n",
              "      <td>...</td>\n",
              "      <td>...</td>\n",
              "    </tr>\n",
              "    <tr>\n",
              "      <th>420</th>\n",
              "      <td>583</td>\n",
              "      <td>4</td>\n",
              "      <td>Attention, il ne s'agit pas d'articles du « Fi...</td>\n",
              "      <td>FigaroVox</td>\n",
              "    </tr>\n",
              "    <tr>\n",
              "      <th>421</th>\n",
              "      <td>576</td>\n",
              "      <td>4</td>\n",
              "      <td>Une plateforme participative qui n'est pas ori...</td>\n",
              "      <td>agoravox</td>\n",
              "    </tr>\n",
              "    <tr>\n",
              "      <th>422</th>\n",
              "      <td>575</td>\n",
              "      <td>4</td>\n",
              "      <td>9gag n'est pas une source d'information en soi...</td>\n",
              "      <td>9GAG</td>\n",
              "    </tr>\n",
              "    <tr>\n",
              "      <th>423</th>\n",
              "      <td>574</td>\n",
              "      <td>4</td>\n",
              "      <td>L'encyclopédie collaborative en ligne compile ...</td>\n",
              "      <td>Wikipedia</td>\n",
              "    </tr>\n",
              "    <tr>\n",
              "      <th>424</th>\n",
              "      <td>573</td>\n",
              "      <td>4</td>\n",
              "      <td>Un site qui donne des conseils et astuces sur ...</td>\n",
              "      <td>wikiHow</td>\n",
              "    </tr>\n",
              "  </tbody>\n",
              "</table>\n",
              "<p>425 rows × 4 columns</p>\n",
              "</div>"
            ],
            "text/plain": [
              "     Identifiant  ...          Twitter\n",
              "0           1982  ...      france_soir\n",
              "1           1981  ...  ThierryRegenere\n",
              "2           1980  ...   silvano_trotta\n",
              "3           1976  ...         emakrusi\n",
              "4           1973  ...      llp_le_vrai\n",
              "..           ...  ...              ...\n",
              "420          583  ...        FigaroVox\n",
              "421          576  ...         agoravox\n",
              "422          575  ...             9GAG\n",
              "423          574  ...        Wikipedia\n",
              "424          573  ...          wikiHow\n",
              "\n",
              "[425 rows x 4 columns]"
            ]
          },
          "metadata": {},
          "execution_count": 11
        }
      ]
    },
    {
      "cell_type": "code",
      "metadata": {
        "colab": {
          "base_uri": "https://localhost:8080/"
        },
        "id": "7sOPKZHTlFtj",
        "outputId": "6a05f8c2-2601-4ef4-c60d-577a99ee8614"
      },
      "source": [
        "re.split('twitter.com/', 'twitter.com/silvano_trotta')"
      ],
      "execution_count": 65,
      "outputs": [
        {
          "output_type": "execute_result",
          "data": {
            "text/plain": [
              "['', 'silvano_trotta']"
            ]
          },
          "metadata": {},
          "execution_count": 65
        }
      ]
    },
    {
      "cell_type": "markdown",
      "metadata": {
        "id": "m45SAqPiSem3"
      },
      "source": [
        ""
      ]
    },
    {
      "cell_type": "code",
      "metadata": {
        "id": "VGMrrdUZjIDd"
      },
      "source": [
        "# tableauSites.to_csv('json1.csv')\n",
        "# !cp json1.csv \"/content/drive/My Drive/PFE\""
      ],
      "execution_count": 55,
      "outputs": []
    },
    {
      "cell_type": "code",
      "metadata": {
        "id": "Wh39kNvYlue2"
      },
      "source": [
        "# 1 : site parodique\n",
        "# 2 : non fiable\n",
        "# 3 : site à la fiabilité douteuse\n",
        "# 4 : fiable"
      ],
      "execution_count": 56,
      "outputs": []
    }
  ]
}