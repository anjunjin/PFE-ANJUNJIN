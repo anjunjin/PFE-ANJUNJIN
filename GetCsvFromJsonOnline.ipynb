{
  "nbformat": 4,
  "nbformat_minor": 0,
  "metadata": {
    "colab": {
      "name": "GetCsvFromJsonOnline.ipynb",
      "provenance": [],
      "collapsed_sections": [],
      "authorship_tag": "ABX9TyO8Qyt2YdTOwBrpc6H6uD/R",
      "include_colab_link": true
    },
    "kernelspec": {
      "name": "python3",
      "display_name": "Python 3"
    },
    "language_info": {
      "name": "python"
    }
  },
  "cells": [
    {
      "cell_type": "markdown",
      "metadata": {
        "id": "view-in-github",
        "colab_type": "text"
      },
      "source": [
        "<a href=\"https://colab.research.google.com/github/anjunjin/PFE-ING3-IA/blob/master/GetCsvFromJsonOnline.ipynb\" target=\"_parent\"><img src=\"https://colab.research.google.com/assets/colab-badge.svg\" alt=\"Open In Colab\"/></a>"
      ]
    },
    {
      "cell_type": "code",
      "metadata": {
        "id": "P6pckrKUyomm"
      },
      "source": [
        "# from google.colab import drive\n",
        "# drive.mount('/content/drive')"
      ],
      "execution_count": null,
      "outputs": []
    },
    {
      "cell_type": "code",
      "metadata": {
        "id": "v4jVrGopjlXl"
      },
      "source": [
        "import urllib.request, json \n",
        "with urllib.request.urlopen(\"https://www.lemonde.fr/webservice/decodex/updates\") as url:\n",
        "    data = json.loads(url.read().decode())\n",
        "\n",
        "# data.keys() #On obtient le premier dictionnaire, sites et url, contient des dictionnaire\n",
        "# data[\"sites\"].keys() #On obtient le sous-dictionnaire, chaque site, contient des tableaux"
      ],
      "execution_count": null,
      "outputs": []
    },
    {
      "cell_type": "code",
      "metadata": {
        "id": "z-DInfYIqUsj"
      },
      "source": [
        "# print(data)\n",
        "# data.keys()\n",
        "# data[\"sites\"]\n",
        "# data[\"sites\"]['1980']\n",
        "# data[\"sites\"]['1980'][2]\n",
        "# data[\"sites\"].keys()\n",
        "# for i in data[\"sites\"].keys():\n",
        "#   print(type(i))\n",
        "\n",
        "# for i in data[\"sites\"].keys():\n",
        "#   print(data[\"sites\"][i][2])"
      ],
      "execution_count": null,
      "outputs": []
    },
    {
      "cell_type": "code",
      "metadata": {
        "colab": {
          "base_uri": "https://localhost:8080/",
          "height": 424
        },
        "id": "2zbRRRijqmER",
        "outputId": "8bcec2a4-0433-4d8e-de88-3a7900ee06d6"
      },
      "source": [
        "import pandas as pd\n",
        "\n",
        "dataset = []\n",
        "\n",
        "for i in data[\"sites\"].keys():\n",
        "  dataset.append([i,data[\"sites\"][i][0], data[\"sites\"][i][1], data[\"sites\"][i][2], data[\"sites\"][i][3]])\n",
        "\n",
        "tableauSites = pd.DataFrame(dataset, columns=['Identifiant','Fiabilité','Description','Nom1','Nom2'])\n",
        "tableauSites"
      ],
      "execution_count": null,
      "outputs": [
        {
          "output_type": "execute_result",
          "data": {
            "text/html": [
              "<div>\n",
              "<style scoped>\n",
              "    .dataframe tbody tr th:only-of-type {\n",
              "        vertical-align: middle;\n",
              "    }\n",
              "\n",
              "    .dataframe tbody tr th {\n",
              "        vertical-align: top;\n",
              "    }\n",
              "\n",
              "    .dataframe thead th {\n",
              "        text-align: right;\n",
              "    }\n",
              "</style>\n",
              "<table border=\"1\" class=\"dataframe\">\n",
              "  <thead>\n",
              "    <tr style=\"text-align: right;\">\n",
              "      <th></th>\n",
              "      <th>Identifiant</th>\n",
              "      <th>Fiabilité</th>\n",
              "      <th>Description</th>\n",
              "      <th>Nom1</th>\n",
              "      <th>Nom2</th>\n",
              "    </tr>\n",
              "  </thead>\n",
              "  <tbody>\n",
              "    <tr>\n",
              "      <th>0</th>\n",
              "      <td>1982</td>\n",
              "      <td>2</td>\n",
              "      <td>France-Soir était un journal fondé par Pierre ...</td>\n",
              "      <td>France Soir</td>\n",
              "      <td>france-soir</td>\n",
              "    </tr>\n",
              "    <tr>\n",
              "      <th>1</th>\n",
              "      <td>1981</td>\n",
              "      <td>2</td>\n",
              "      <td>Thierry Casasnovas, vidéaste et animateur de l...</td>\n",
              "      <td>Régénère (Thierry Casasnovas)</td>\n",
              "      <td>regenere-thierry-casasnovas</td>\n",
              "    </tr>\n",
              "    <tr>\n",
              "      <th>2</th>\n",
              "      <td>1980</td>\n",
              "      <td>2</td>\n",
              "      <td>Silvano Trotta est le créateur d’une société s...</td>\n",
              "      <td>Silvano Trotta</td>\n",
              "      <td>silvano-trotta</td>\n",
              "    </tr>\n",
              "    <tr>\n",
              "      <th>3</th>\n",
              "      <td>1979</td>\n",
              "      <td>2</td>\n",
              "      <td>Jasper Mader est une chaîne YouTube, animée pa...</td>\n",
              "      <td>Jasper Mader</td>\n",
              "      <td>jasper-mader</td>\n",
              "    </tr>\n",
              "    <tr>\n",
              "      <th>4</th>\n",
              "      <td>1978</td>\n",
              "      <td>2</td>\n",
              "      <td>Une webtélé suisse créée notamment par Chloé F...</td>\n",
              "      <td>Agora TV</td>\n",
              "      <td>agora-tv</td>\n",
              "    </tr>\n",
              "    <tr>\n",
              "      <th>...</th>\n",
              "      <td>...</td>\n",
              "      <td>...</td>\n",
              "      <td>...</td>\n",
              "      <td>...</td>\n",
              "      <td>...</td>\n",
              "    </tr>\n",
              "    <tr>\n",
              "      <th>1338</th>\n",
              "      <td>577</td>\n",
              "      <td>4</td>\n",
              "      <td>Dailymotion n'est pas une source d'information...</td>\n",
              "      <td>Dailymotion</td>\n",
              "      <td>dailymotion</td>\n",
              "    </tr>\n",
              "    <tr>\n",
              "      <th>1339</th>\n",
              "      <td>576</td>\n",
              "      <td>4</td>\n",
              "      <td>Une plateforme participative qui n'est pas ori...</td>\n",
              "      <td>Agoravox</td>\n",
              "      <td>agoravox</td>\n",
              "    </tr>\n",
              "    <tr>\n",
              "      <th>1340</th>\n",
              "      <td>575</td>\n",
              "      <td>4</td>\n",
              "      <td>9gag n'est pas une source d'information en soi...</td>\n",
              "      <td>9gag</td>\n",
              "      <td>9gag</td>\n",
              "    </tr>\n",
              "    <tr>\n",
              "      <th>1341</th>\n",
              "      <td>574</td>\n",
              "      <td>4</td>\n",
              "      <td>L'encyclopédie collaborative en ligne compile ...</td>\n",
              "      <td>Wikipédia</td>\n",
              "      <td>wikipedia</td>\n",
              "    </tr>\n",
              "    <tr>\n",
              "      <th>1342</th>\n",
              "      <td>573</td>\n",
              "      <td>4</td>\n",
              "      <td>Un site qui donne des conseils et astuces sur ...</td>\n",
              "      <td>Wikihow</td>\n",
              "      <td>wikihow</td>\n",
              "    </tr>\n",
              "  </tbody>\n",
              "</table>\n",
              "<p>1343 rows × 5 columns</p>\n",
              "</div>"
            ],
            "text/plain": [
              "     Identifiant  ...                         Nom2\n",
              "0           1982  ...                  france-soir\n",
              "1           1981  ...  regenere-thierry-casasnovas\n",
              "2           1980  ...               silvano-trotta\n",
              "3           1979  ...                 jasper-mader\n",
              "4           1978  ...                     agora-tv\n",
              "...          ...  ...                          ...\n",
              "1338         577  ...                  dailymotion\n",
              "1339         576  ...                     agoravox\n",
              "1340         575  ...                         9gag\n",
              "1341         574  ...                    wikipedia\n",
              "1342         573  ...                      wikihow\n",
              "\n",
              "[1343 rows x 5 columns]"
            ]
          },
          "metadata": {},
          "execution_count": 49
        }
      ]
    },
    {
      "cell_type": "code",
      "metadata": {
        "id": "Wh39kNvYlue2"
      },
      "source": [
        "# 1 : site parodique\n",
        "# 2 : non fiable\n",
        "# 3 : site à la fiabilité douteuse\n",
        "# 4 : fiable"
      ],
      "execution_count": null,
      "outputs": []
    }
  ]
}