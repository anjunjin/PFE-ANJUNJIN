{
  "nbformat": 4,
  "nbformat_minor": 0,
  "metadata": {
    "colab": {
      "name": "GetCsvFromJsonOnline.ipynb",
      "provenance": [],
      "collapsed_sections": [],
      "include_colab_link": true
    },
    "kernelspec": {
      "name": "python3",
      "display_name": "Python 3"
    },
    "language_info": {
      "name": "python"
    }
  },
  "cells": [
    {
      "cell_type": "markdown",
      "metadata": {
        "id": "view-in-github",
        "colab_type": "text"
      },
      "source": [
        "<a href=\"https://colab.research.google.com/github/anjunjin/PFE-ING3-IA/blob/master/GetCsvFromJsonOnline.ipynb\" target=\"_parent\"><img src=\"https://colab.research.google.com/assets/colab-badge.svg\" alt=\"Open In Colab\"/></a>"
      ]
    },
    {
      "cell_type": "code",
      "metadata": {
        "id": "P6pckrKUyomm"
      },
      "source": [
        "# from google.colab import drive\n",
        "# drive.mount('/content/drive')"
      ],
      "execution_count": 16,
      "outputs": []
    },
    {
      "cell_type": "code",
      "metadata": {
        "id": "v4jVrGopjlXl"
      },
      "source": [
        "import urllib.request, json \n",
        "with urllib.request.urlopen(\"https://www.lemonde.fr/webservice/decodex/updates\") as url: # Obtenir le fichier JSON de https://www.lemonde.fr/webservice/decodex/updates\n",
        "    data = json.loads(url.read().decode())\n",
        "\n",
        "# data.keys() #On obtient le premier dictionnaire, sites et url, contient des dictionnaire\n",
        "# data[\"sites\"].keys() #On obtient le sous-dictionnaire, chaque site, contient des tableaux"
      ],
      "execution_count": 17,
      "outputs": []
    },
    {
      "cell_type": "code",
      "metadata": {
        "id": "z-DInfYIqUsj"
      },
      "source": [
        "# print(data)\n",
        "# data.keys() # Vérifie la forme que prend les fichier JSON\n",
        "# data[\"sites\"]\n",
        "# data[\"sites\"]['1980']\n",
        "# data[\"sites\"]['1980'][2]\n",
        "# data[\"sites\"].keys()\n",
        "# for i in data[\"sites\"].keys():\n",
        "#   print(type(i))\n",
        "\n",
        "# for i in data[\"sites\"].keys():\n",
        "#   print(data[\"sites\"][i][2])\n",
        "\n",
        "# data[\"urls\"].keys()\n",
        "# data[\"urls\"]['the-postillon.com']"
      ],
      "execution_count": 18,
      "outputs": []
    },
    {
      "cell_type": "code",
      "metadata": {
        "colab": {
          "base_uri": "https://localhost:8080/",
          "height": 417
        },
        "id": "2zbRRRijqmER",
        "outputId": "aa8cdac2-16be-4fe9-ee58-1d61452ebdd5"
      },
      "source": [
        "import pandas as pd\n",
        "\n",
        "dataset = []\n",
        "\n",
        "for i in data[\"sites\"].keys(): # On créé un tableau avec la liste de tous les sites du fichier JSON. On a leur identifiant, leur niveau de fiabilité, une description, et 2 noms dont l'un est simplifié\n",
        "  dataset.append([i,data[\"sites\"][i][0], data[\"sites\"][i][1], data[\"sites\"][i][2], data[\"sites\"][i][3]])\n",
        "\n",
        "tableauSites = pd.DataFrame(dataset, columns=['Identifiant','Fiabilité','Description','Nom1','Nom2']) #Pour que le tableau prenne la forme d'un tableau (dataset n'étant en réalité qu'une liste)\n",
        "tableauSites"
      ],
      "execution_count": 19,
      "outputs": [
        {
          "output_type": "execute_result",
          "data": {
            "text/html": [
              "<div>\n",
              "<style scoped>\n",
              "    .dataframe tbody tr th:only-of-type {\n",
              "        vertical-align: middle;\n",
              "    }\n",
              "\n",
              "    .dataframe tbody tr th {\n",
              "        vertical-align: top;\n",
              "    }\n",
              "\n",
              "    .dataframe thead th {\n",
              "        text-align: right;\n",
              "    }\n",
              "</style>\n",
              "<table border=\"1\" class=\"dataframe\">\n",
              "  <thead>\n",
              "    <tr style=\"text-align: right;\">\n",
              "      <th></th>\n",
              "      <th>Identifiant</th>\n",
              "      <th>Fiabilité</th>\n",
              "      <th>Description</th>\n",
              "      <th>Nom1</th>\n",
              "      <th>Nom2</th>\n",
              "    </tr>\n",
              "  </thead>\n",
              "  <tbody>\n",
              "    <tr>\n",
              "      <th>0</th>\n",
              "      <td>1982</td>\n",
              "      <td>2</td>\n",
              "      <td>France-Soir était un journal fondé par Pierre ...</td>\n",
              "      <td>France Soir</td>\n",
              "      <td>france-soir</td>\n",
              "    </tr>\n",
              "    <tr>\n",
              "      <th>1</th>\n",
              "      <td>1981</td>\n",
              "      <td>2</td>\n",
              "      <td>Thierry Casasnovas, vidéaste et animateur de l...</td>\n",
              "      <td>Régénère (Thierry Casasnovas)</td>\n",
              "      <td>regenere-thierry-casasnovas</td>\n",
              "    </tr>\n",
              "    <tr>\n",
              "      <th>2</th>\n",
              "      <td>1980</td>\n",
              "      <td>2</td>\n",
              "      <td>Silvano Trotta est le créateur d’une société s...</td>\n",
              "      <td>Silvano Trotta</td>\n",
              "      <td>silvano-trotta</td>\n",
              "    </tr>\n",
              "    <tr>\n",
              "      <th>3</th>\n",
              "      <td>1979</td>\n",
              "      <td>2</td>\n",
              "      <td>Jasper Mader est une chaîne YouTube, animée pa...</td>\n",
              "      <td>Jasper Mader</td>\n",
              "      <td>jasper-mader</td>\n",
              "    </tr>\n",
              "    <tr>\n",
              "      <th>4</th>\n",
              "      <td>1978</td>\n",
              "      <td>2</td>\n",
              "      <td>Une webtélé suisse créée notamment par Chloé F...</td>\n",
              "      <td>Agora TV</td>\n",
              "      <td>agora-tv</td>\n",
              "    </tr>\n",
              "    <tr>\n",
              "      <th>...</th>\n",
              "      <td>...</td>\n",
              "      <td>...</td>\n",
              "      <td>...</td>\n",
              "      <td>...</td>\n",
              "      <td>...</td>\n",
              "    </tr>\n",
              "    <tr>\n",
              "      <th>1338</th>\n",
              "      <td>577</td>\n",
              "      <td>4</td>\n",
              "      <td>Dailymotion n'est pas une source d'information...</td>\n",
              "      <td>Dailymotion</td>\n",
              "      <td>dailymotion</td>\n",
              "    </tr>\n",
              "    <tr>\n",
              "      <th>1339</th>\n",
              "      <td>576</td>\n",
              "      <td>4</td>\n",
              "      <td>Une plateforme participative qui n'est pas ori...</td>\n",
              "      <td>Agoravox</td>\n",
              "      <td>agoravox</td>\n",
              "    </tr>\n",
              "    <tr>\n",
              "      <th>1340</th>\n",
              "      <td>575</td>\n",
              "      <td>4</td>\n",
              "      <td>9gag n'est pas une source d'information en soi...</td>\n",
              "      <td>9gag</td>\n",
              "      <td>9gag</td>\n",
              "    </tr>\n",
              "    <tr>\n",
              "      <th>1341</th>\n",
              "      <td>574</td>\n",
              "      <td>4</td>\n",
              "      <td>L'encyclopédie collaborative en ligne compile ...</td>\n",
              "      <td>Wikipédia</td>\n",
              "      <td>wikipedia</td>\n",
              "    </tr>\n",
              "    <tr>\n",
              "      <th>1342</th>\n",
              "      <td>573</td>\n",
              "      <td>4</td>\n",
              "      <td>Un site qui donne des conseils et astuces sur ...</td>\n",
              "      <td>Wikihow</td>\n",
              "      <td>wikihow</td>\n",
              "    </tr>\n",
              "  </tbody>\n",
              "</table>\n",
              "<p>1343 rows × 5 columns</p>\n",
              "</div>"
            ],
            "text/plain": [
              "     Identifiant  ...                         Nom2\n",
              "0           1982  ...                  france-soir\n",
              "1           1981  ...  regenere-thierry-casasnovas\n",
              "2           1980  ...               silvano-trotta\n",
              "3           1979  ...                 jasper-mader\n",
              "4           1978  ...                     agora-tv\n",
              "...          ...  ...                          ...\n",
              "1338         577  ...                  dailymotion\n",
              "1339         576  ...                     agoravox\n",
              "1340         575  ...                         9gag\n",
              "1341         574  ...                    wikipedia\n",
              "1342         573  ...                      wikihow\n",
              "\n",
              "[1343 rows x 5 columns]"
            ]
          },
          "metadata": {},
          "execution_count": 19
        }
      ]
    },
    {
      "cell_type": "code",
      "metadata": {
        "id": "SVZy-nIb2y37",
        "colab": {
          "base_uri": "https://localhost:8080/"
        },
        "outputId": "ca6a2009-5b57-45f7-9790-39a7758a9672"
      },
      "source": [
        "# tableauSites['Twitter'] = tableauSites['Nom1']\n",
        "# tableauSites\n",
        "\n",
        "import re\n",
        "\n",
        "dataset = []\n",
        "for i in data[\"urls\"].keys(): # On créé un tableau contenant un lien twitter pour chaque site faisant parti du fichier JSON, si le fichier ne contenaint pas de lien twitter, on le remplace par Nan (objectif serait de trouver le lien avec une sorte de fonction TwitterSearchAccount)\n",
        "  # if (dataset != []) or ((data[\"urls\"][i] - dataset[len(dataset)-1] < -1) or (data[\"urls\"][i] - dataset[len(dataset)-1] > 1)): # Cas où pour un identifiant particulié aucun lien twitter n'a été trouvé dans le fichier JSON\n",
        "    # dataset.append([data[\"urls\"][i]-1, \"NaN\"]) # On rajoute alors une ligne NaN pour cet identifiant (objectif étant de directement chercher le compte twitter avec une fonction de recherche de compte)\n",
        "# Les lignes précédentes ne fonctionnent pas car, lorsque dataset est vide, dataset[len(dataset)-1] devient dataset[-1] qui est impossible -> IndexError: list index out of range\n",
        "# (Je fais le test pour vérifier si la liste était vide pour éviter ce problème mais ça ne corrige pas)\n",
        "  if re.search('twitter', i): # Y a un lien twitter, on l'ajoute à notre tableau\n",
        "    dataset.append([data[\"urls\"][i], i])\n",
        "    \n",
        "  \n",
        "\n",
        "print(dataset)\n",
        "\n",
        "# tableauSites['Twitter'] = "
      ],
      "execution_count": 20,
      "outputs": [
        {
          "output_type": "stream",
          "name": "stdout",
          "text": [
            "[[1982, 'twitter.com/france_soir'], [1981, 'twitter.com/ThierryRegenere'], [1980, 'twitter.com/silvano_trotta'], [1976, 'twitter.com/emakrusi?lang=fr'], [1973, 'twitter.com/llp_le_vrai'], [1971, 'twitter.com/covid_infos'], [1969, 'twitter.com/cab2626'], [1959, 'twitter.com/lamentableFR'], [1893, 'twitter.com/Elishean'], [1892, 'twitter.com/DrMo7oG'], [1891, 'twitter.com/yetiblog'], [1859, 'twitter.com/lepolitique_fr'], [1857, 'twitter.com/les_repliques'], [1854, 'twitter.com/damocles_fr'], [1847, 'twitter.com/jnewsfoot'], [1844, 'twitter.com/JournalElysee'], [1842, 'twitter.com/20secondesfr'], [1826, 'twitter.com/Golfinvestigat1'], [1796, 'twitter.com/iiiprs?lang=fr'], [980, 'twitter.com/France3tv'], [1792, 'twitter.com/voxdotcom'], [1791, 'twitter.com/usinenouvelle'], [1790, 'twitter.com/Observateurs'], [1789, 'twitter.com/radiotelesuisse?lang=fr'], [1788, 'twitter.com/rtbf'], [1787, 'twitter.com/lalibrebe'], [1786, 'twitter.com/brutofficiel'], [1785, 'twitter.com/EpochTimesFR'], [1784, 'twitter.com/FR_Conversation'], [1783, 'twitter.com/actu17'], [1782, 'twitter.com/sciencepost_fr'], [1779, 'twitter.com/@RevPermanente'], [1752, 'twitter.com/APRNEWS1'], [1751, 'twitter.com/AfriPulse_FR'], [1748, 'twitter.com/WhatsupicFr'], [1747, 'twitter.com/suavelos_fr'], [1726, 'twitter.com/LBDTSS'], [1723, 'twitter.com/le_journalnews'], [1722, 'twitter.com/FraicheGazette'], [1699, 'twitter.com/onaimelafrance'], [1685, 'twitter.com/daily_express'], [1667, 'twitter.com/LeDesavantage'], [1663, 'twitter.com/Liberaphion'], [1649, 'twitter.com/thomasjoly60'], [1586, 'twitter.com/EuroScoop_FR'], [1526, 'twitter.com/drwakefield'], [1508, 'twitter.com/allosante2016'], [1497, 'twitter.com/limportant_fr'], [1495, 'twitter.com/worldtvdesinfo'], [1490, 'twitter.com/akhnapress'], [1484, 'twitter.com/@leouestfranc'], [1482, 'twitter.com/alertesinfos'], [1479, 'twitter.com/gatewaypundit'], [1476, 'twitter.com/alainsoraloffic'], [1474, 'twitter.com/david_vanh'], [1472, 'twitter.com/prisonplanet'], [1469, 'twitter.com/nosmedias_fr'], [1467, 'twitter.com/healthranger'], [1462, 'twitter.com/delitdimages'], [1435, 'twitter.com/LaSireneBasque'], [1434, 'twitter.com/OignonCantal'], [1417, 'twitter.com/wucnews'], [1413, 'twitter.com/leweekofficiel'], [1412, 'twitter.com/tomimagfr'], [1411, 'twitter.com/onsaitceque'], [1393, 'twitter.com/BuzzArenaFr'], [1285, 'twitter.com/actumaginfo'], [1281, 'twitter.com/francetvdesinfo'], [1273, 'twitter.com/AstuceDuJourMag'], [1271, 'twitter.com/actualidadpanam'], [1270, 'twitter.com/DailySnark'], [1269, 'twitter.com/freewoodpost'], [1267, 'twitter.com/The_Postillon'], [1263, 'twitter.com/thedailymash'], [1262, 'twitter.com/akami_shimbun'], [1261, 'twitter.com/RealAlexJones'], [1258, 'twitter.com/ravelationsmag'], [1254, 'twitter.com/InvestigAction'], [1246, 'twitter.com/AlertesNews'], [1241, 'twitter.com/cyceon_fr'], [1238, 'twitter.com/gamekult'], [1237, 'twitter.com/causeur'], [1234, 'twitter.com/SecretNewsInfo'], [1233, 'twitter.com/envie_devivre'], [1232, 'twitter.com/RidiculeTV'], [1230, 'twitter.com/Filteris'], [1225, 'twitter.com/Europe_Israel'], [1221, 'twitter.com/Civilwarineurop'], [1218, 'twitter.com/spiritsciences'], [1215, 'twitter.com/radiocockpit'], [1214, 'twitter.com/corsemachin'], [1213, 'twitter.com/BuzzBeed'], [1211, 'twitter.com/FoxNews'], [1209, 'twitter.com/i24NEWS_FR'], [1208, 'twitter.com/Lesjoursfr'], [1207, 'twitter.com/nextinpact'], [1206, 'twitter.com/Rue89Bordeaux'], [1203, 'twitter.com/lesoir'], [1202, 'twitter.com/conspiration'], [1201, 'twitter.com/Korben'], [1200, 'twitter.com/leLab_E1'], [1199, 'twitter.com/Qofficiel'], [1198, 'twitter.com/Bastamag'], [1197, 'twitter.com/lundimat1'], [1196, 'twitter.com/Fakir_'], [1195, 'twitter.com/PaulJorion'], [1194, 'twitter.com/cahiersdufoot'], [1193, 'twitter.com/acrimed_info'], [1192, 'twitter.com/Charlie_Hebdo_'], [1186, 'twitter.com/esantefr'], [1185, 'twitter.com/PasseportSante'], [1184, 'twitter.com/morandinisante'], [1181, 'twitter.com/lesucretvous'], [1179, 'twitter.com/electroallergik'], [1177, 'twitter.com/allodocteurs'], [1175, 'twitter.com/AlterEco_'], [1044, 'twitter.com/lemondefr'], [1171, 'twitter.com/mesopinions_com'], [1170, 'twitter.com/Change'], [1165, 'twitter.com/buzzlyweb'], [1161, 'twitter.com/Canardpcredac'], [1160, 'twitter.com/Confidentielles'], [1158, 'twitter.com/dirtybiology'], [1157, 'twitter.com/epenser'], [1156, 'twitter.com/Clubic'], [1155, 'twitter.com/journalDfemmes'], [1154, 'twitter.com/commentcamarche'], [1140, 'twitter.com/JVCom'], [1136, 'twitter.com/astucenaturelle'], [1135, 'twitter.com/Santeplusmag'], [1134, 'twitter.com/jpney'], [1133, 'twitter.com/humourdedroite'], [1129, 'twitter.com/maitre_eolas'], [1128, 'twitter.com/Yagg'], [1127, 'twitter.com/VosgesMatin'], [1126, 'twitter.com/VICEfr'], [1125, 'twitter.com/VICE'], [1122, 'twitter.com/USATODAY'], [1121, 'twitter.com/TVMAG'], [1120, 'twitter.com/washingtonpost'], [1119, 'twitter.com/wsj'], [1116, 'twitter.com/nytimes'], [1115, 'twitter.com/theintercept'], [1114, 'twitter.com/Independent'], [1113, 'twitter.com/heraldscotland'], [1112, 'twitter.com/guardian'], [1111, 'twitter.com/TheEconomist'], [1110, 'twitter.com/dailytelegraph'], [1109, 'twitter.com/TF1'], [1108, 'twitter.com/TETUmag'], [1107, 'twitter.com/Telerama'], [1103, 'twitter.com/TeleLoisirs'], [1102, 'twitter.com/Tele7'], [1100, 'twitter.com/sudouest'], [1099, 'twitter.com/streetpress'], [1098, 'twitter.com/snopes'], [1097, 'twitter.com/Slatefr'], [1096, 'twitter.com/Sciences_Avenir'], [1095, 'twitter.com/science_et_vie'], [1094, 'twitter.com/Rue89'], [1093, 'twitter.com/RTLFrance'], [1092, 'twitter.com/RFI'], [1091, 'twitter.com/Reuters'], [1090, 'twitter.com/Reporterre'], [1089, 'twitter.com/Psychologies_'], [1088, 'twitter.com/presseocean'], [1087, 'twitter.com/PremiereFR'], [1086, 'twitter.com/Politis_fr'], [1085, 'twitter.com/POLITICOEurope'], [1084, 'twitter.com/politico'], [1082, 'twitter.com/pelerincom'], [1081, 'twitter.com/paris_normandie'], [1080, 'twitter.com/ParisMatch'], [1079, 'twitter.com/OuestFrance'], [1078, 'twitter.com/OnzeMondial'], [1077, 'twitter.com/Numerama'], [1076, 'twitter.com/NotreTemps'], [1073, 'twitter.com/NordEclairWeb'], [1072, 'twitter.com/nonspolitique'], [1071, 'twitter.com/Nice_Matin'], [1070, 'twitter.com/NYDailyNews'], [1069, 'twitter.com/mouv'], [1068, 'twitter.com/VotreArgent'], [1067, 'twitter.com/Midilibre'], [1066, 'twitter.com/mediapart'], [1065, 'twitter.com/MashableFR'], [1064, 'twitter.com/mashable'], [1063, 'twitter.com/mariefrancemag'], [1062, 'twitter.com/marieclaire'], [1061, 'twitter.com/MarianneleMag'], [1059, 'twitter.com/Madamefigaro'], [1058, 'twitter.com/M6'], [1057, 'twitter.com/latimes'], [1056, 'twitter.com/libe'], [1055, 'twitter.com/lesinrocks'], [1054, 'twitter.com/LesEchos'], [1053, 'twitter.com/letemps'], [1052, 'twitter.com/LeTelegramme'], [1050, 'twitter.com/Le_Progres'], [1049, 'twitter.com/lepopulaire_fr'], [1048, 'twitter.com/LePoint'], [1047, 'twitter.com/le_Parisien'], [1046, 'twitter.com/LeNouvelEco'], [1045, 'twitter.com/mdiplo'], [1043, 'twitter.com/lemainelibre'], [1042, 'twitter.com/leJDD'], [1041, 'twitter.com/lejdc_fr'], [1040, 'twitter.com/lejsl'], [1038, 'twitter.com/Le_Figaro'], [1037, 'twitter.com/ledauphine'], [1036, 'twitter.com/CourrierPicard'], [1033, 'twitter.com/LeBondyBlog'], [1032, 'twitter.com/Lebienpublic'], [1031, 'twitter.com/leberry_fr'], [1030, 'twitter.com/LCP'], [1029, 'twitter.com/LCI'], [1028, 'twitter.com/lavoixdunord'], [1026, 'twitter.com/LT_LaTribune'], [1025, 'twitter.com/larep_fr'], [1023, 'twitter.com/repubblicait'], [1022, 'twitter.com/laprovence'], [1018, 'twitter.com/lamontagne_fr'], [1017, 'twitter.com/lamarsweb'], [1016, 'twitter.com/ladepechedumidi'], [1015, 'twitter.com/LaCroix'], [1013, 'twitter.com/UnionArdennais'], [1012, 'twitter.com/Lopinion_fr'], [1011, 'twitter.com/lobs'], [1010, 'twitter.com/linternautemag'], [1009, 'twitter.com/lindependant'], [1008, 'twitter.com/humanite_fr'], [1007, 'twitter.com/LEXPRESS'], [1005, 'twitter.com/lesteclair'], [1004, 'twitter.com/lestrepublicain'], [1003, 'twitter.com/lequipe'], [1002, 'twitter.com/lecho_fr'], [1001, 'twitter.com/lecho'], [1000, 'twitter.com/lalsace'], [999, 'twitter.com/cnews'], [998, 'twitter.com/IsFearrAnStar'], [996, 'twitter.com/LeHuffPost'], [995, 'twitter.com/HoustonChron'], [994, 'twitter.com/hoaxbuster'], [993, 'twitter.com/hoaxslayer'], [992, 'twitter.com/historiamag'], [991, 'twitter.com/Grazia'], [990, 'twitter.com/glamourmag'], [987, 'twitter.com/franceinfo'], [986, 'twitter.com/franceinter'], [983, 'twitter.com/franceculture'], [982, 'twitter.com/francebleu'], [981, 'twitter.com/France5tv'], [979, 'twitter.com/FRANCE24'], [978, 'twitter.com/France2tv'], [977, 'twitter.com/FinancialTimes'], [976, 'twitter.com/femmeactuelle'], [975, 'twitter.com/Europe1'], [974, 'twitter.com/euronews'], [972, 'twitter.com/cnewsmatin'], [969, 'twitter.com/derStandardat'], [968, 'twitter.com/DerSPIEGEL'], [967, 'twitter.com/denverpost'], [966, 'twitter.com/DebunkerHED'], [965, 'twitter.com/courrierinter'], [964, 'twitter.com/Cosmopolitan'], [963, 'twitter.com/Corse_Matin'], [962, 'twitter.com/Corriere'], [960, 'twitter.com/CNN'], [959, 'twitter.com/chicagotribune'], [958, 'twitter.com/charentelibre'], [957, 'twitter.com/Challenges'], [955, 'twitter.com/MagazineCapital'], [954, 'twitter.com/canalplus'], [953, 'twitter.com/BuzzFeed'], [951, 'twitter.com/businessinsider'], [950, 'twitter.com/Boursorama'], [949, 'twitter.com/Bloomberg'], [948, 'twitter.com/bibamagazine'], [947, 'twitter.com/BFMTV'], [945, 'twitter.com/BBC'], [944, 'twitter.com/atlantico_fr'], [943, 'twitter.com/AP'], [941, 'twitter.com/ARTEfr'], [940, 'twitter.com/arretsurimages'], [939, 'twitter.com/ameli_actu'], [938, 'twitter.com/AlterNet'], [937, 'twitter.com/ajplus'], [936, 'twitter.com/AJENews'], [935, 'twitter.com/afpfr'], [934, 'twitter.com/ABC'], [933, 'twitter.com/20Minutes'], [932, 'twitter.com/Valeurs'], [930, 'twitter.com/thedailybeast'], [928, 'twitter.com/morandiniblog'], [926, 'twitter.com/Gentside'], [925, 'twitter.com/ohmymagfr'], [922, 'twitter.com/leseconoclastes'], [916, 'twitter.com/tvlofficiel'], [915, 'twitter.com/topito_com'], [913, 'twitter.com/other98'], [912, 'twitter.com/UnleashMind'], [910, 'twitter.com/TariqRamadan'], [908, 'twitter.com/sputnik_fr'], [907, 'twitter.com/spi0n'], [905, 'twitter.com/santeici'], [904, 'twitter.com/RTenfrancais'], [903, 'twitter.com/RT_com'], [901, 'twitter.com/ruptly'], [896, 'twitter.com/PublicFR'], [895, 'twitter.com/ThePOSITIVR'], [894, 'twitter.com/PauseCafein'], [892, 'twitter.com/oumma'], [891, 'twitter.com/OnlineMagazin'], [890, 'twitter.com/ojim_france'], [889, 'twitter.com/occupydemocrats'], [887, 'twitter.com/novopress'], [886, 'twitter.com/ndffr'], [885, 'twitter.com/nypost'], [883, 'twitter.com/Mondi_Alisation'], [882, 'twitter.com/minutebuzz'], [879, 'twitter.com/MetaTVFrance'], [878, 'twitter.com/melty_fr'], [877, 'twitter.com/LesNews'], [875, 'twitter.com/Letribunaldunet'], [873, 'twitter.com/JournalduSiecle'], [871, 'twitter.com/zapeuzefolle'], [868, 'twitter.com/KonbiniFr'], [867, 'twitter.com/JSSNews'], [866, 'twitter.com/actu140'], [864, 'twitter.com/HumourDeMec'], [863, 'twitter.com/Hitekfr'], [862, 'twitter.com/HeraultTribune'], [861, 'twitter.com/F_Desouche'], [858, 'twitter.com/Etienne_Chouard'], [856, 'twitter.com/Enquete_etDebat'], [855, 'twitter.com/DRUDGE_REPORT'], [854, 'twitter.com/doctissimo'], [853, 'twitter.com/Demotivateur'], [852, 'twitter.com/MailOnline'], [851, 'twitter.com/NatCounterPunch'], [850, 'twitter.com/contribuables'], [849, 'twitter.com/Contrepoints'], [845, 'twitter.com/BuzzFilcom'], [844, 'twitter.com/BreitbartNews'], [842, 'twitter.com/BVoltaire'], [841, 'twitter.com/bipartisanism'], [839, 'twitter.com/beforeitsnews'], [837, 'twitter.com/americannewsx'], [836, 'twitter.com/Alkanz'], [835, 'twitter.com/AgenceInfoLibre'], [829, 'twitter.com/InfoMdia'], [826, 'twitter.com/Dreuz_1fo'], [821, 'twitter.com/infolibnews'], [818, 'twitter.com/YannMerkado'], [817, 'twitter.com/WikistrikeW'], [814, 'twitter.com/WantedPedo'], [807, 'twitter.com/tprincedelamour'], [803, 'twitter.com/SwagActu'], [792, 'twitter.com/RussiaInsider'], [791, 'twitter.com/1RiposteLaique'], [786, 'twitter.com/reseau_internat'], [782, 'twitter.com/ReinformationRC'], [781, 'twitter.com/RedState'], [770, 'twitter.com/paris_vox'], [769, 'twitter.com/Panamza'], [765, 'twitter.com/nord_actu'], [763, 'twitter.com/NiceProvenceInf'], [752, 'twitter.com/ObservateursCH'], [750, 'twitter.com/oberruyer'], [746, 'twitter.com/PrJoyeux'], [739, 'twitter.com/LaGaucheMaTuer'], [736, 'twitter.com/linsoumis_fr'], [735, 'twitter.com/linformatrice'], [732, 'twitter.com/pierrejovanovic'], [731, 'twitter.com/JeuneNation'], [725, 'twitter.com/infosbordeaux'], [722, 'twitter.com/infowars'], [721, 'twitter.com/infovsinfo'], [717, 'twitter.com/David_vanH'], [716, 'twitter.com/degage_hollande'], [714, 'twitter.com/Herissident'], [713, 'twitter.com/HenryMakow'], [709, 'twitter.com/guy_fawkes_news'], [706, 'twitter.com/EetR_National'], [702, 'twitter.com/diktacratie'], [701, 'twitter.com/MbalaDieudo'], [694, 'twitter.com/davidicke'], [693, 'twitter.com/DailyNewsBin'], [690, 'twitter.com/corbettreport'], [685, 'twitter.com/breizh_info'], [683, 'twitter.com/boris_lay'], [681, 'twitter.com/@barenakedislam'], [678, 'twitter.com/antipresse_net'], [673, 'twitter.com/AE911Truth'], [670, 'twitter.com/21WIRE'], [668, 'twitter.com/LNParadigme'], [659, 'twitter.com/theonion'], [648, 'twitter.com/nordpresse'], [645, 'twitter.com/newsthump'], [637, 'twitter.com/Le_Navet'], [636, 'twitter.com/LeJurafi'], [635, 'twitter.com/le_gorafi'], [633, 'twitter.com/sardinedp'], [631, 'twitter.com/iepique'], [630, 'twitter.com/echodelaboucle'], [628, 'twitter.com/thehuzlers'], [624, 'twitter.com/FootballFrance_'], [618, 'twitter.com/el_manchar'], [617, 'twitter.com/edukactus'], [612, 'twitter.com/clickhole'], [608, 'twitter.com/bravepatrie'], [607, 'twitter.com/Branchednews'], [606, 'twitter.com/Boulevard69'], [605, 'twitter.com/boucherieovalie'], [604, 'twitter.com/BilboquetMag'], [603, 'twitter.com/amplifyingG'], [600, 'twitter.com/24matin'], [597, 'twitter.com/Yahoo'], [596, 'twitter.com'], [584, 'twitter.com/LePlus'], [583, 'twitter.com/FigaroVox'], [576, 'twitter.com/agoravox'], [575, 'twitter.com/9GAG'], [574, 'twitter.com/Wikipedia'], [573, 'twitter.com/wikiHow']]\n"
          ]
        }
      ]
    },
    {
      "cell_type": "code",
      "metadata": {
        "id": "Wh39kNvYlue2"
      },
      "source": [
        "# 1 : site parodique\n",
        "# 2 : non fiable\n",
        "# 3 : site à la fiabilité douteuse\n",
        "# 4 : fiable"
      ],
      "execution_count": 21,
      "outputs": []
    }
  ]
}