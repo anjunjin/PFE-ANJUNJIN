{
  "nbformat": 4,
  "nbformat_minor": 0,
  "metadata": {
    "colab": {
      "name": "json.ipynb",
      "provenance": [],
      "collapsed_sections": [],
      "authorship_tag": "ABX9TyOQ2UX2165rEbxsQDD9XIs1",
      "include_colab_link": true
    },
    "kernelspec": {
      "name": "python3",
      "display_name": "Python 3"
    },
    "language_info": {
      "name": "python"
    }
  },
  "cells": [
    {
      "cell_type": "markdown",
      "metadata": {
        "id": "view-in-github",
        "colab_type": "text"
      },
      "source": [
        "<a href=\"https://colab.research.google.com/github/anjunjin/PFE-ING3-IA/blob/master/json.ipynb\" target=\"_parent\"><img src=\"https://colab.research.google.com/assets/colab-badge.svg\" alt=\"Open In Colab\"/></a>"
      ]
    },
    {
      "cell_type": "code",
      "metadata": {
        "colab": {
          "base_uri": "https://localhost:8080/"
        },
        "id": "tkxBdwFN8DvC",
        "outputId": "1b3a8201-e245-45c8-fb9c-5a17a560edd4"
      },
      "source": [
        "from google.colab import drive\n",
        "drive.mount('/content/drive')"
      ],
      "execution_count": 1,
      "outputs": [
        {
          "output_type": "stream",
          "name": "stdout",
          "text": [
            "Drive already mounted at /content/drive; to attempt to forcibly remount, call drive.mount(\"/content/drive\", force_remount=True).\n"
          ]
        }
      ]
    },
    {
      "cell_type": "code",
      "metadata": {
        "id": "fZw3j4Vu9cPE"
      },
      "source": [
        "# fichier json\n",
        "# dictionaire\n",
        "import json\n",
        "with open('/content/drive/My Drive/Colab Notebooks/PFE/twitter/updates.json') as file_json:\n",
        "  data = json.load(file_json)"
      ],
      "execution_count": 2,
      "outputs": []
    },
    {
      "cell_type": "code",
      "metadata": {
        "id": "ZyB04Twf-8y3"
      },
      "source": [
        "import pandas\n",
        "dataset = []\n",
        "\n",
        "# data['sites'].keys() : identifiants [1982,1981...] \n",
        "# data['sites'][identifiant][0] : fiabilite\n",
        "# data['sites'][identifiant][1] : description\n",
        "# data['sites'][identifiant][2] : nom\n",
        "# data['sites'][identifiant][3] : nom miniscule et sans punctuation\n",
        "\n",
        "for identifiant in data['sites'].keys():\n",
        "  dataset.append([identifiant, \n",
        "                  data['sites'][identifiant][0], \n",
        "                  data['sites'][identifiant][1], \n",
        "                  data['sites'][identifiant][2], \n",
        "                  data['sites'][identifiant][3]])"
      ],
      "execution_count": 3,
      "outputs": []
    },
    {
      "cell_type": "code",
      "metadata": {
        "colab": {
          "base_uri": "https://localhost:8080/"
        },
        "id": "ifdo_Fcn4SWv",
        "outputId": "d57112a1-1499-4e86-a24b-576de25896f0"
      },
      "source": [
        "len(dataset)"
      ],
      "execution_count": 4,
      "outputs": [
        {
          "output_type": "execute_result",
          "data": {
            "text/plain": [
              "1343"
            ]
          },
          "metadata": {},
          "execution_count": 4
        }
      ]
    },
    {
      "cell_type": "code",
      "metadata": {
        "id": "jPlQsZBY4V4L"
      },
      "source": [
        "dataset"
      ],
      "execution_count": null,
      "outputs": []
    },
    {
      "cell_type": "code",
      "metadata": {
        "id": "4zHOcHfG4K00"
      },
      "source": [
        "tableauSites = pandas.DataFrame(dataset, columns=['unique_id', 'fiabilité', 'description', 'name', 'name_low'])"
      ],
      "execution_count": 6,
      "outputs": []
    },
    {
      "cell_type": "code",
      "metadata": {
        "id": "vCzQem7yqqSz",
        "colab": {
          "base_uri": "https://localhost:8080/",
          "height": 511
        },
        "outputId": "380b8598-c8d6-4dfa-f2d0-7c501cc7ee81"
      },
      "source": [
        "tableauSites"
      ],
      "execution_count": 7,
      "outputs": [
        {
          "output_type": "execute_result",
          "data": {
            "text/html": [
              "<div>\n",
              "<style scoped>\n",
              "    .dataframe tbody tr th:only-of-type {\n",
              "        vertical-align: middle;\n",
              "    }\n",
              "\n",
              "    .dataframe tbody tr th {\n",
              "        vertical-align: top;\n",
              "    }\n",
              "\n",
              "    .dataframe thead th {\n",
              "        text-align: right;\n",
              "    }\n",
              "</style>\n",
              "<table border=\"1\" class=\"dataframe\">\n",
              "  <thead>\n",
              "    <tr style=\"text-align: right;\">\n",
              "      <th></th>\n",
              "      <th>unique_id</th>\n",
              "      <th>fiabilité</th>\n",
              "      <th>description</th>\n",
              "      <th>name</th>\n",
              "      <th>name_low</th>\n",
              "    </tr>\n",
              "  </thead>\n",
              "  <tbody>\n",
              "    <tr>\n",
              "      <th>0</th>\n",
              "      <td>1982</td>\n",
              "      <td>2</td>\n",
              "      <td>France-Soir était un journal fondé par Pierre ...</td>\n",
              "      <td>France Soir</td>\n",
              "      <td>france-soir</td>\n",
              "    </tr>\n",
              "    <tr>\n",
              "      <th>1</th>\n",
              "      <td>1981</td>\n",
              "      <td>2</td>\n",
              "      <td>Thierry Casasnovas, vidéaste et animateur de l...</td>\n",
              "      <td>Régénère (Thierry Casasnovas)</td>\n",
              "      <td>regenere-thierry-casasnovas</td>\n",
              "    </tr>\n",
              "    <tr>\n",
              "      <th>2</th>\n",
              "      <td>1980</td>\n",
              "      <td>2</td>\n",
              "      <td>Silvano Trotta est le créateur d’une société s...</td>\n",
              "      <td>Silvano Trotta</td>\n",
              "      <td>silvano-trotta</td>\n",
              "    </tr>\n",
              "    <tr>\n",
              "      <th>3</th>\n",
              "      <td>1979</td>\n",
              "      <td>2</td>\n",
              "      <td>Jasper Mader est une chaîne YouTube, animée pa...</td>\n",
              "      <td>Jasper Mader</td>\n",
              "      <td>jasper-mader</td>\n",
              "    </tr>\n",
              "    <tr>\n",
              "      <th>4</th>\n",
              "      <td>1978</td>\n",
              "      <td>2</td>\n",
              "      <td>Une webtélé suisse créée notamment par Chloé F...</td>\n",
              "      <td>Agora TV</td>\n",
              "      <td>agora-tv</td>\n",
              "    </tr>\n",
              "    <tr>\n",
              "      <th>...</th>\n",
              "      <td>...</td>\n",
              "      <td>...</td>\n",
              "      <td>...</td>\n",
              "      <td>...</td>\n",
              "      <td>...</td>\n",
              "    </tr>\n",
              "    <tr>\n",
              "      <th>1338</th>\n",
              "      <td>577</td>\n",
              "      <td>4</td>\n",
              "      <td>Dailymotion n'est pas une source d'information...</td>\n",
              "      <td>Dailymotion</td>\n",
              "      <td>dailymotion</td>\n",
              "    </tr>\n",
              "    <tr>\n",
              "      <th>1339</th>\n",
              "      <td>576</td>\n",
              "      <td>4</td>\n",
              "      <td>Une plateforme participative qui n'est pas ori...</td>\n",
              "      <td>Agoravox</td>\n",
              "      <td>agoravox</td>\n",
              "    </tr>\n",
              "    <tr>\n",
              "      <th>1340</th>\n",
              "      <td>575</td>\n",
              "      <td>4</td>\n",
              "      <td>9gag n'est pas une source d'information en soi...</td>\n",
              "      <td>9gag</td>\n",
              "      <td>9gag</td>\n",
              "    </tr>\n",
              "    <tr>\n",
              "      <th>1341</th>\n",
              "      <td>574</td>\n",
              "      <td>4</td>\n",
              "      <td>L'encyclopédie collaborative en ligne compile ...</td>\n",
              "      <td>Wikipédia</td>\n",
              "      <td>wikipedia</td>\n",
              "    </tr>\n",
              "    <tr>\n",
              "      <th>1342</th>\n",
              "      <td>573</td>\n",
              "      <td>4</td>\n",
              "      <td>Un site qui donne des conseils et astuces sur ...</td>\n",
              "      <td>Wikihow</td>\n",
              "      <td>wikihow</td>\n",
              "    </tr>\n",
              "  </tbody>\n",
              "</table>\n",
              "<p>1343 rows × 5 columns</p>\n",
              "</div>"
            ],
            "text/plain": [
              "     unique_id  ...                     name_low\n",
              "0         1982  ...                  france-soir\n",
              "1         1981  ...  regenere-thierry-casasnovas\n",
              "2         1980  ...               silvano-trotta\n",
              "3         1979  ...                 jasper-mader\n",
              "4         1978  ...                     agora-tv\n",
              "...        ...  ...                          ...\n",
              "1338       577  ...                  dailymotion\n",
              "1339       576  ...                     agoravox\n",
              "1340       575  ...                         9gag\n",
              "1341       574  ...                    wikipedia\n",
              "1342       573  ...                      wikihow\n",
              "\n",
              "[1343 rows x 5 columns]"
            ]
          },
          "metadata": {},
          "execution_count": 7
        }
      ]
    },
    {
      "cell_type": "code",
      "metadata": {
        "id": "Uu-w-12o9dnv"
      },
      "source": [
        "def fiabilite_to_label(fiabilite):\n",
        "  fiabilites = {\n",
        "     1 : \"site parodique\",\n",
        "     2 : \"non fiable\",\n",
        "     3 : \"site à la fiabilité douteuse\",\n",
        "     4 : \"fiable\"\n",
        "  }\n",
        "\n",
        "  # dictionary.get(keyname, value)\n",
        "  # keyname \tRequired. The keyname of the item you want to return the value from\n",
        "  # value \tOptional. A value to return if the specified key does not exist. Default value None\n",
        "  return fiabilites.get(fiabilite, None)\n",
        "\n",
        "labels = []\n",
        "for identifiant in data['sites'].keys():\n",
        "  label = fiabilite_to_label(data['sites'][identifiant][0])\n",
        "  labels.append(label)\n"
      ],
      "execution_count": 8,
      "outputs": []
    },
    {
      "cell_type": "code",
      "metadata": {
        "id": "8cRKtDfdAxOS"
      },
      "source": [
        "labels"
      ],
      "execution_count": null,
      "outputs": []
    },
    {
      "cell_type": "code",
      "metadata": {
        "id": "aZIiNdBIA4hJ"
      },
      "source": [
        "tableauSites['label'] = pandas.DataFrame(label for label in labels)"
      ],
      "execution_count": 10,
      "outputs": []
    },
    {
      "cell_type": "code",
      "metadata": {
        "colab": {
          "base_uri": "https://localhost:8080/",
          "height": 598
        },
        "id": "Th5CIsEnBQAI",
        "outputId": "e4259e02-a38a-4b38-ef8b-fbcbcb1d0591"
      },
      "source": [
        "tableauSites"
      ],
      "execution_count": 11,
      "outputs": [
        {
          "output_type": "execute_result",
          "data": {
            "text/html": [
              "<div>\n",
              "<style scoped>\n",
              "    .dataframe tbody tr th:only-of-type {\n",
              "        vertical-align: middle;\n",
              "    }\n",
              "\n",
              "    .dataframe tbody tr th {\n",
              "        vertical-align: top;\n",
              "    }\n",
              "\n",
              "    .dataframe thead th {\n",
              "        text-align: right;\n",
              "    }\n",
              "</style>\n",
              "<table border=\"1\" class=\"dataframe\">\n",
              "  <thead>\n",
              "    <tr style=\"text-align: right;\">\n",
              "      <th></th>\n",
              "      <th>unique_id</th>\n",
              "      <th>fiabilité</th>\n",
              "      <th>description</th>\n",
              "      <th>name</th>\n",
              "      <th>name_low</th>\n",
              "      <th>label</th>\n",
              "    </tr>\n",
              "  </thead>\n",
              "  <tbody>\n",
              "    <tr>\n",
              "      <th>0</th>\n",
              "      <td>1982</td>\n",
              "      <td>2</td>\n",
              "      <td>France-Soir était un journal fondé par Pierre ...</td>\n",
              "      <td>France Soir</td>\n",
              "      <td>france-soir</td>\n",
              "      <td>non fiable</td>\n",
              "    </tr>\n",
              "    <tr>\n",
              "      <th>1</th>\n",
              "      <td>1981</td>\n",
              "      <td>2</td>\n",
              "      <td>Thierry Casasnovas, vidéaste et animateur de l...</td>\n",
              "      <td>Régénère (Thierry Casasnovas)</td>\n",
              "      <td>regenere-thierry-casasnovas</td>\n",
              "      <td>non fiable</td>\n",
              "    </tr>\n",
              "    <tr>\n",
              "      <th>2</th>\n",
              "      <td>1980</td>\n",
              "      <td>2</td>\n",
              "      <td>Silvano Trotta est le créateur d’une société s...</td>\n",
              "      <td>Silvano Trotta</td>\n",
              "      <td>silvano-trotta</td>\n",
              "      <td>non fiable</td>\n",
              "    </tr>\n",
              "    <tr>\n",
              "      <th>3</th>\n",
              "      <td>1979</td>\n",
              "      <td>2</td>\n",
              "      <td>Jasper Mader est une chaîne YouTube, animée pa...</td>\n",
              "      <td>Jasper Mader</td>\n",
              "      <td>jasper-mader</td>\n",
              "      <td>non fiable</td>\n",
              "    </tr>\n",
              "    <tr>\n",
              "      <th>4</th>\n",
              "      <td>1978</td>\n",
              "      <td>2</td>\n",
              "      <td>Une webtélé suisse créée notamment par Chloé F...</td>\n",
              "      <td>Agora TV</td>\n",
              "      <td>agora-tv</td>\n",
              "      <td>non fiable</td>\n",
              "    </tr>\n",
              "    <tr>\n",
              "      <th>...</th>\n",
              "      <td>...</td>\n",
              "      <td>...</td>\n",
              "      <td>...</td>\n",
              "      <td>...</td>\n",
              "      <td>...</td>\n",
              "      <td>...</td>\n",
              "    </tr>\n",
              "    <tr>\n",
              "      <th>1338</th>\n",
              "      <td>577</td>\n",
              "      <td>4</td>\n",
              "      <td>Dailymotion n'est pas une source d'information...</td>\n",
              "      <td>Dailymotion</td>\n",
              "      <td>dailymotion</td>\n",
              "      <td>fiable</td>\n",
              "    </tr>\n",
              "    <tr>\n",
              "      <th>1339</th>\n",
              "      <td>576</td>\n",
              "      <td>4</td>\n",
              "      <td>Une plateforme participative qui n'est pas ori...</td>\n",
              "      <td>Agoravox</td>\n",
              "      <td>agoravox</td>\n",
              "      <td>fiable</td>\n",
              "    </tr>\n",
              "    <tr>\n",
              "      <th>1340</th>\n",
              "      <td>575</td>\n",
              "      <td>4</td>\n",
              "      <td>9gag n'est pas une source d'information en soi...</td>\n",
              "      <td>9gag</td>\n",
              "      <td>9gag</td>\n",
              "      <td>fiable</td>\n",
              "    </tr>\n",
              "    <tr>\n",
              "      <th>1341</th>\n",
              "      <td>574</td>\n",
              "      <td>4</td>\n",
              "      <td>L'encyclopédie collaborative en ligne compile ...</td>\n",
              "      <td>Wikipédia</td>\n",
              "      <td>wikipedia</td>\n",
              "      <td>fiable</td>\n",
              "    </tr>\n",
              "    <tr>\n",
              "      <th>1342</th>\n",
              "      <td>573</td>\n",
              "      <td>4</td>\n",
              "      <td>Un site qui donne des conseils et astuces sur ...</td>\n",
              "      <td>Wikihow</td>\n",
              "      <td>wikihow</td>\n",
              "      <td>fiable</td>\n",
              "    </tr>\n",
              "  </tbody>\n",
              "</table>\n",
              "<p>1343 rows × 6 columns</p>\n",
              "</div>"
            ],
            "text/plain": [
              "     unique_id  fiabilité  ...                     name_low       label\n",
              "0         1982          2  ...                  france-soir  non fiable\n",
              "1         1981          2  ...  regenere-thierry-casasnovas  non fiable\n",
              "2         1980          2  ...               silvano-trotta  non fiable\n",
              "3         1979          2  ...                 jasper-mader  non fiable\n",
              "4         1978          2  ...                     agora-tv  non fiable\n",
              "...        ...        ...  ...                          ...         ...\n",
              "1338       577          4  ...                  dailymotion      fiable\n",
              "1339       576          4  ...                     agoravox      fiable\n",
              "1340       575          4  ...                         9gag      fiable\n",
              "1341       574          4  ...                    wikipedia      fiable\n",
              "1342       573          4  ...                      wikihow      fiable\n",
              "\n",
              "[1343 rows x 6 columns]"
            ]
          },
          "metadata": {},
          "execution_count": 11
        }
      ]
    },
    {
      "cell_type": "code",
      "metadata": {
        "id": "L5-F5XL_HB09"
      },
      "source": [
        "import re\n",
        "dataset1 = []\n",
        "\n",
        "# data['urls'].keys() : urls ['francesoir.fr', 'facebook.com/FranceSoir', 'twitter.com/france_soir', xxx]\n",
        "\n",
        "for url in data['urls'].keys():\n",
        "  if re.search('twitter.com/', url):\n",
        "    dataset1.append([data['urls'][url],url])\n",
        "\n",
        "# sort dataset1\n",
        "dataset1.sort(reverse = True)"
      ],
      "execution_count": 12,
      "outputs": []
    },
    {
      "cell_type": "code",
      "metadata": {
        "colab": {
          "base_uri": "https://localhost:8080/"
        },
        "id": "9Limpp9-4Erz",
        "outputId": "f6783dff-905b-4af7-ef53-a76d3e103ea7"
      },
      "source": [
        "len(dataset1)"
      ],
      "execution_count": 13,
      "outputs": [
        {
          "output_type": "execute_result",
          "data": {
            "text/plain": [
              "424"
            ]
          },
          "metadata": {},
          "execution_count": 13
        }
      ]
    },
    {
      "cell_type": "code",
      "metadata": {
        "id": "wirO5Gjw4Bqt"
      },
      "source": [
        "dataset1"
      ],
      "execution_count": null,
      "outputs": []
    },
    {
      "cell_type": "code",
      "metadata": {
        "id": "EvREQC5qVI_Y"
      },
      "source": [
        "tableauSites['urls'] = pandas.DataFrame(url[1] for url in dataset1)"
      ],
      "execution_count": 15,
      "outputs": []
    },
    {
      "cell_type": "code",
      "metadata": {
        "colab": {
          "base_uri": "https://localhost:8080/",
          "height": 667
        },
        "id": "LqK3Exn5VMUX",
        "outputId": "f91fc1b2-d306-4736-d283-736f5f266a9c"
      },
      "source": [
        "tableauSites"
      ],
      "execution_count": 16,
      "outputs": [
        {
          "output_type": "execute_result",
          "data": {
            "text/html": [
              "<div>\n",
              "<style scoped>\n",
              "    .dataframe tbody tr th:only-of-type {\n",
              "        vertical-align: middle;\n",
              "    }\n",
              "\n",
              "    .dataframe tbody tr th {\n",
              "        vertical-align: top;\n",
              "    }\n",
              "\n",
              "    .dataframe thead th {\n",
              "        text-align: right;\n",
              "    }\n",
              "</style>\n",
              "<table border=\"1\" class=\"dataframe\">\n",
              "  <thead>\n",
              "    <tr style=\"text-align: right;\">\n",
              "      <th></th>\n",
              "      <th>unique_id</th>\n",
              "      <th>fiabilité</th>\n",
              "      <th>description</th>\n",
              "      <th>name</th>\n",
              "      <th>name_low</th>\n",
              "      <th>label</th>\n",
              "      <th>urls</th>\n",
              "    </tr>\n",
              "  </thead>\n",
              "  <tbody>\n",
              "    <tr>\n",
              "      <th>0</th>\n",
              "      <td>1982</td>\n",
              "      <td>2</td>\n",
              "      <td>France-Soir était un journal fondé par Pierre ...</td>\n",
              "      <td>France Soir</td>\n",
              "      <td>france-soir</td>\n",
              "      <td>non fiable</td>\n",
              "      <td>twitter.com/france_soir</td>\n",
              "    </tr>\n",
              "    <tr>\n",
              "      <th>1</th>\n",
              "      <td>1981</td>\n",
              "      <td>2</td>\n",
              "      <td>Thierry Casasnovas, vidéaste et animateur de l...</td>\n",
              "      <td>Régénère (Thierry Casasnovas)</td>\n",
              "      <td>regenere-thierry-casasnovas</td>\n",
              "      <td>non fiable</td>\n",
              "      <td>twitter.com/ThierryRegenere</td>\n",
              "    </tr>\n",
              "    <tr>\n",
              "      <th>2</th>\n",
              "      <td>1980</td>\n",
              "      <td>2</td>\n",
              "      <td>Silvano Trotta est le créateur d’une société s...</td>\n",
              "      <td>Silvano Trotta</td>\n",
              "      <td>silvano-trotta</td>\n",
              "      <td>non fiable</td>\n",
              "      <td>twitter.com/silvano_trotta</td>\n",
              "    </tr>\n",
              "    <tr>\n",
              "      <th>3</th>\n",
              "      <td>1979</td>\n",
              "      <td>2</td>\n",
              "      <td>Jasper Mader est une chaîne YouTube, animée pa...</td>\n",
              "      <td>Jasper Mader</td>\n",
              "      <td>jasper-mader</td>\n",
              "      <td>non fiable</td>\n",
              "      <td>twitter.com/emakrusi?lang=fr</td>\n",
              "    </tr>\n",
              "    <tr>\n",
              "      <th>4</th>\n",
              "      <td>1978</td>\n",
              "      <td>2</td>\n",
              "      <td>Une webtélé suisse créée notamment par Chloé F...</td>\n",
              "      <td>Agora TV</td>\n",
              "      <td>agora-tv</td>\n",
              "      <td>non fiable</td>\n",
              "      <td>twitter.com/llp_le_vrai</td>\n",
              "    </tr>\n",
              "    <tr>\n",
              "      <th>...</th>\n",
              "      <td>...</td>\n",
              "      <td>...</td>\n",
              "      <td>...</td>\n",
              "      <td>...</td>\n",
              "      <td>...</td>\n",
              "      <td>...</td>\n",
              "      <td>...</td>\n",
              "    </tr>\n",
              "    <tr>\n",
              "      <th>1338</th>\n",
              "      <td>577</td>\n",
              "      <td>4</td>\n",
              "      <td>Dailymotion n'est pas une source d'information...</td>\n",
              "      <td>Dailymotion</td>\n",
              "      <td>dailymotion</td>\n",
              "      <td>fiable</td>\n",
              "      <td>NaN</td>\n",
              "    </tr>\n",
              "    <tr>\n",
              "      <th>1339</th>\n",
              "      <td>576</td>\n",
              "      <td>4</td>\n",
              "      <td>Une plateforme participative qui n'est pas ori...</td>\n",
              "      <td>Agoravox</td>\n",
              "      <td>agoravox</td>\n",
              "      <td>fiable</td>\n",
              "      <td>NaN</td>\n",
              "    </tr>\n",
              "    <tr>\n",
              "      <th>1340</th>\n",
              "      <td>575</td>\n",
              "      <td>4</td>\n",
              "      <td>9gag n'est pas une source d'information en soi...</td>\n",
              "      <td>9gag</td>\n",
              "      <td>9gag</td>\n",
              "      <td>fiable</td>\n",
              "      <td>NaN</td>\n",
              "    </tr>\n",
              "    <tr>\n",
              "      <th>1341</th>\n",
              "      <td>574</td>\n",
              "      <td>4</td>\n",
              "      <td>L'encyclopédie collaborative en ligne compile ...</td>\n",
              "      <td>Wikipédia</td>\n",
              "      <td>wikipedia</td>\n",
              "      <td>fiable</td>\n",
              "      <td>NaN</td>\n",
              "    </tr>\n",
              "    <tr>\n",
              "      <th>1342</th>\n",
              "      <td>573</td>\n",
              "      <td>4</td>\n",
              "      <td>Un site qui donne des conseils et astuces sur ...</td>\n",
              "      <td>Wikihow</td>\n",
              "      <td>wikihow</td>\n",
              "      <td>fiable</td>\n",
              "      <td>NaN</td>\n",
              "    </tr>\n",
              "  </tbody>\n",
              "</table>\n",
              "<p>1343 rows × 7 columns</p>\n",
              "</div>"
            ],
            "text/plain": [
              "     unique_id  fiabilité  ...       label                          urls\n",
              "0         1982          2  ...  non fiable       twitter.com/france_soir\n",
              "1         1981          2  ...  non fiable   twitter.com/ThierryRegenere\n",
              "2         1980          2  ...  non fiable    twitter.com/silvano_trotta\n",
              "3         1979          2  ...  non fiable  twitter.com/emakrusi?lang=fr\n",
              "4         1978          2  ...  non fiable       twitter.com/llp_le_vrai\n",
              "...        ...        ...  ...         ...                           ...\n",
              "1338       577          4  ...      fiable                           NaN\n",
              "1339       576          4  ...      fiable                           NaN\n",
              "1340       575          4  ...      fiable                           NaN\n",
              "1341       574          4  ...      fiable                           NaN\n",
              "1342       573          4  ...      fiable                           NaN\n",
              "\n",
              "[1343 rows x 7 columns]"
            ]
          },
          "metadata": {},
          "execution_count": 16
        }
      ]
    },
    {
      "cell_type": "code",
      "metadata": {
        "colab": {
          "base_uri": "https://localhost:8080/",
          "height": 667
        },
        "id": "9E9onVZ8uOVv",
        "outputId": "293a8a97-e96f-4a9c-d79b-a8e3a89cc16f"
      },
      "source": [
        "# ???\n",
        "import re\n",
        "import pandas as pd\n",
        "\n",
        "dt = [] #Pour déterminer toutes les lignes dans le JSON qui ne sont pas des liens twitter\n",
        "compteur = 0\n",
        "for i in data[\"urls\"].keys():\n",
        "  if not(re.search('twitter', i)):\n",
        "    dt.append(compteur)\n",
        "  compteur = compteur+1\n",
        "\n",
        "df = pd.DataFrame([data[\"urls\"][i], i] for i in data[\"urls\"].keys()) #On met tous les liens dans df\n",
        "df = df.sort_index() #On trie car le JSON n'est pas trié\n",
        "df = df.drop(index=dt) #On retire les lignes ne contenant pas de lien twitter, on utilise dt pour ça\n",
        "df = df.reset_index() #On retrouve un idexage normal\n",
        "df = df.drop(columns=\"index\") #On retire la colonne qui s'est rajoutée à cause du reset_index()\n",
        "\n",
        "#Liste de tous les identifiants qui n'ont pas de lien twitter\n",
        "j = len(df.index)\n",
        "dd = [] #Pour rajouter des lignes NaN aux domaines sans lien twitter\n",
        "\n",
        "for i in range(j-1): #On créé un tableau avec tous les domaines sans lien twitter, tableau de forme [identifiant, \"NaN\"]\n",
        "  for k in range(1, df[0][i] - df[0][i+1]): #Parfois plusieurs domaines à la suite n'ont pas de lien twitter, il faut rajouter une ligne pour chacun d'entre eux\n",
        "    dd.append([df[0][i]-k, \"NaN\"]) # Cas où pour un identifiant particulié aucun lien twitter n'a été trouvé dans le fichier JSON\n",
        "\n",
        "#Liste des tous les identifiants qui n'existent pas\n",
        "dt = [] #Pour déterminer toutes les lignes dans le JSON font partis de \"sites\" mais qui n'ont pas de lien twitter\n",
        "compteur = 0\n",
        "j = 1982\n",
        "for i in data[\"sites\"].keys():\n",
        "  for k in range(int(i)+1, j):\n",
        "    dt.append([k, \"NaN\"])\n",
        "  j = int(i)\n",
        "\n",
        "for i in dt: #On retire de la liste des identifiants sans lien twitter les identifiants qui n'existent pas\n",
        "  dd.remove(i)\n",
        "\n",
        "df = df.append(pd.DataFrame(dd)) #On rajoute les nouvelles lignes\n",
        "df = df.sort_values([0], ascending=False)\n",
        "df = df.reset_index()\n",
        "df = df.drop(columns=\"index\")\n",
        "\n",
        "\n",
        "#tableauSites['Twitter'] = df[1]\n",
        "tableauSites['urls'] = df[1]\n",
        "tableauSites"
      ],
      "execution_count": 17,
      "outputs": [
        {
          "output_type": "execute_result",
          "data": {
            "text/html": [
              "<div>\n",
              "<style scoped>\n",
              "    .dataframe tbody tr th:only-of-type {\n",
              "        vertical-align: middle;\n",
              "    }\n",
              "\n",
              "    .dataframe tbody tr th {\n",
              "        vertical-align: top;\n",
              "    }\n",
              "\n",
              "    .dataframe thead th {\n",
              "        text-align: right;\n",
              "    }\n",
              "</style>\n",
              "<table border=\"1\" class=\"dataframe\">\n",
              "  <thead>\n",
              "    <tr style=\"text-align: right;\">\n",
              "      <th></th>\n",
              "      <th>unique_id</th>\n",
              "      <th>fiabilité</th>\n",
              "      <th>description</th>\n",
              "      <th>name</th>\n",
              "      <th>name_low</th>\n",
              "      <th>label</th>\n",
              "      <th>urls</th>\n",
              "    </tr>\n",
              "  </thead>\n",
              "  <tbody>\n",
              "    <tr>\n",
              "      <th>0</th>\n",
              "      <td>1982</td>\n",
              "      <td>2</td>\n",
              "      <td>France-Soir était un journal fondé par Pierre ...</td>\n",
              "      <td>France Soir</td>\n",
              "      <td>france-soir</td>\n",
              "      <td>non fiable</td>\n",
              "      <td>twitter.com/france_soir</td>\n",
              "    </tr>\n",
              "    <tr>\n",
              "      <th>1</th>\n",
              "      <td>1981</td>\n",
              "      <td>2</td>\n",
              "      <td>Thierry Casasnovas, vidéaste et animateur de l...</td>\n",
              "      <td>Régénère (Thierry Casasnovas)</td>\n",
              "      <td>regenere-thierry-casasnovas</td>\n",
              "      <td>non fiable</td>\n",
              "      <td>twitter.com/ThierryRegenere</td>\n",
              "    </tr>\n",
              "    <tr>\n",
              "      <th>2</th>\n",
              "      <td>1980</td>\n",
              "      <td>2</td>\n",
              "      <td>Silvano Trotta est le créateur d’une société s...</td>\n",
              "      <td>Silvano Trotta</td>\n",
              "      <td>silvano-trotta</td>\n",
              "      <td>non fiable</td>\n",
              "      <td>twitter.com/silvano_trotta</td>\n",
              "    </tr>\n",
              "    <tr>\n",
              "      <th>3</th>\n",
              "      <td>1979</td>\n",
              "      <td>2</td>\n",
              "      <td>Jasper Mader est une chaîne YouTube, animée pa...</td>\n",
              "      <td>Jasper Mader</td>\n",
              "      <td>jasper-mader</td>\n",
              "      <td>non fiable</td>\n",
              "      <td>NaN</td>\n",
              "    </tr>\n",
              "    <tr>\n",
              "      <th>4</th>\n",
              "      <td>1978</td>\n",
              "      <td>2</td>\n",
              "      <td>Une webtélé suisse créée notamment par Chloé F...</td>\n",
              "      <td>Agora TV</td>\n",
              "      <td>agora-tv</td>\n",
              "      <td>non fiable</td>\n",
              "      <td>NaN</td>\n",
              "    </tr>\n",
              "    <tr>\n",
              "      <th>...</th>\n",
              "      <td>...</td>\n",
              "      <td>...</td>\n",
              "      <td>...</td>\n",
              "      <td>...</td>\n",
              "      <td>...</td>\n",
              "      <td>...</td>\n",
              "      <td>...</td>\n",
              "    </tr>\n",
              "    <tr>\n",
              "      <th>1338</th>\n",
              "      <td>577</td>\n",
              "      <td>4</td>\n",
              "      <td>Dailymotion n'est pas une source d'information...</td>\n",
              "      <td>Dailymotion</td>\n",
              "      <td>dailymotion</td>\n",
              "      <td>fiable</td>\n",
              "      <td>twitter.com/Fakir_</td>\n",
              "    </tr>\n",
              "    <tr>\n",
              "      <th>1339</th>\n",
              "      <td>576</td>\n",
              "      <td>4</td>\n",
              "      <td>Une plateforme participative qui n'est pas ori...</td>\n",
              "      <td>Agoravox</td>\n",
              "      <td>agoravox</td>\n",
              "      <td>fiable</td>\n",
              "      <td>NaN</td>\n",
              "    </tr>\n",
              "    <tr>\n",
              "      <th>1340</th>\n",
              "      <td>575</td>\n",
              "      <td>4</td>\n",
              "      <td>9gag n'est pas une source d'information en soi...</td>\n",
              "      <td>9gag</td>\n",
              "      <td>9gag</td>\n",
              "      <td>fiable</td>\n",
              "      <td>twitter.com/PaulJorion</td>\n",
              "    </tr>\n",
              "    <tr>\n",
              "      <th>1341</th>\n",
              "      <td>574</td>\n",
              "      <td>4</td>\n",
              "      <td>L'encyclopédie collaborative en ligne compile ...</td>\n",
              "      <td>Wikipédia</td>\n",
              "      <td>wikipedia</td>\n",
              "      <td>fiable</td>\n",
              "      <td>twitter.com/cahiersdufoot</td>\n",
              "    </tr>\n",
              "    <tr>\n",
              "      <th>1342</th>\n",
              "      <td>573</td>\n",
              "      <td>4</td>\n",
              "      <td>Un site qui donne des conseils et astuces sur ...</td>\n",
              "      <td>Wikihow</td>\n",
              "      <td>wikihow</td>\n",
              "      <td>fiable</td>\n",
              "      <td>NaN</td>\n",
              "    </tr>\n",
              "  </tbody>\n",
              "</table>\n",
              "<p>1343 rows × 7 columns</p>\n",
              "</div>"
            ],
            "text/plain": [
              "     unique_id  fiabilité  ...       label                         urls\n",
              "0         1982          2  ...  non fiable      twitter.com/france_soir\n",
              "1         1981          2  ...  non fiable  twitter.com/ThierryRegenere\n",
              "2         1980          2  ...  non fiable   twitter.com/silvano_trotta\n",
              "3         1979          2  ...  non fiable                          NaN\n",
              "4         1978          2  ...  non fiable                          NaN\n",
              "...        ...        ...  ...         ...                          ...\n",
              "1338       577          4  ...      fiable           twitter.com/Fakir_\n",
              "1339       576          4  ...      fiable                          NaN\n",
              "1340       575          4  ...      fiable       twitter.com/PaulJorion\n",
              "1341       574          4  ...      fiable    twitter.com/cahiersdufoot\n",
              "1342       573          4  ...      fiable                          NaN\n",
              "\n",
              "[1343 rows x 7 columns]"
            ]
          },
          "metadata": {},
          "execution_count": 17
        }
      ]
    },
    {
      "cell_type": "code",
      "metadata": {
        "colab": {
          "base_uri": "https://localhost:8080/"
        },
        "id": "YuWh2F8VOEah",
        "outputId": "7f16e7e0-906a-4871-ba6a-456764df66fb"
      },
      "source": [
        "!pip install xlwt"
      ],
      "execution_count": 20,
      "outputs": [
        {
          "output_type": "stream",
          "name": "stdout",
          "text": [
            "Requirement already satisfied: xlwt in /usr/local/lib/python3.7/dist-packages (1.3.0)\n"
          ]
        }
      ]
    },
    {
      "cell_type": "code",
      "metadata": {
        "id": "OUR2Epxp2Jds"
      },
      "source": [
        "# DataFrame to Excel\n",
        "tableauSites.to_excel('/content/drive/My Drive/Colab Notebooks/PFE/twitter/json.xlsx')"
      ],
      "execution_count": 21,
      "outputs": []
    }
  ]
}